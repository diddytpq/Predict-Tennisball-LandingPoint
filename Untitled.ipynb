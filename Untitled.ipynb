{
 "cells": [
  {
   "cell_type": "code",
   "execution_count": 1,
   "metadata": {},
   "outputs": [],
   "source": [
    "import rospy\n",
    "from sensor_msgs.msg import Image\n",
    "import cv2\n",
    "import numpy as np\n",
    "import math\n",
    "import pickle\n",
    "import sys\n",
    "from pathlib import Path\n",
    "\n",
    "from filterpy.kalman import KalmanFilter, UnscentedKalmanFilter, MerweScaledSigmaPoints\n",
    "from filterpy.common import Q_discrete_white_noise\n",
    "\n",
    "from collections import OrderedDict\n",
    "\n",
    "import matplotlib.pyplot as plt\n",
    "from mpl_toolkits.mplot3d import Axes3D\n",
    "\n",
    "from sympy import Symbol, solve"
   ]
  },
  {
   "cell_type": "code",
   "execution_count": null,
   "metadata": {},
   "outputs": [
    {
     "name": "stdout",
     "output_type": "stream",
     "text": [
      "[INFO] [1617877017.954327, 880.760000]: Hello ROS!\n"
     ]
    }
   ],
   "source": [
    " from cv_bridge import CvBridge, CvBridgeError\n",
    "\n",
    " # Print \"Hello ROS!\" to the Terminal and to a ROS Log file located in ~/.ros/log/loghash/*.log\n",
    " rospy.loginfo(\"Hello ROS!\")\n",
    "\n",
    " # Initialize the CvBridge class\n",
    " bridge = CvBridge()\n",
    "\n",
    " # Define a function to show the image in an OpenCV Window\n",
    " def show_image(img):\n",
    "     cv2.imshow(\"Image Window\", img)\n",
    "     cv2.waitKey(3)\n",
    "\n",
    " # Define a callback for the Image message\n",
    " def image_callback(img_msg):\n",
    "     # log some info about the image topic\n",
    "     rospy.loginfo(img_msg.header)\n",
    "\n",
    "     # Try to convert the ROS Image message to a CV2 Image\n",
    "     try:\n",
    "         cv_image = bridge.imgmsg_to_cv2(img_msg, \"passthrough\")\n",
    "        \n",
    "     except CvBridgeError:\n",
    "         rospy.logerr(\"CvBridge Error: {0}\".format(e))\n",
    "\n",
    "     # Show the converted image\n",
    "     show_image(cv_image)\n",
    "\n",
    " # Initalize a subscriber to the \"/camera/rgb/image_raw\" topic with the function \"image_callback\" as a callback\n",
    " sub_image = rospy.Subscriber(\"/camera/rgb/image_raw\", Image, image_callback)\n",
    "\n",
    " # Initialize an OpenCV Window named \"Image Window\"\n",
    " cv2.namedWindow(\"Image Window\", 1)\n",
    "\n",
    " # Loop to keep the program from shutting down unless ROS is shut down, or CTRL+C is pressed\n",
    " while not rospy.is_shutdown():\n",
    "     rospy.spin()"
   ]
  },
  {
   "cell_type": "code",
   "execution_count": 2,
   "metadata": {},
   "outputs": [],
   "source": [
    "def check_velocity(x_vel, y_vel):\n",
    "\n",
    "    if vel_forward < abs(x_vel):\n",
    "        if x_vel > 0: x_vel = vel_forward\n",
    "        else: x_vel = -vel_forward\n",
    "\n",
    "    if vel_lateral < abs(y_vel):\n",
    "        if y_vel > 0: y_vel = vel_lateral\n",
    "        else: y_vel = -vel_lateral"
   ]
  },
  {
   "cell_type": "code",
   "execution_count": 2,
   "metadata": {},
   "outputs": [
    {
     "ename": "NameError",
     "evalue": "name 'robot_x' is not defined",
     "output_type": "error",
     "traceback": [
      "\u001b[0;31m---------------------------------------------------------------------------\u001b[0m",
      "\u001b[0;31mNameError\u001b[0m                                 Traceback (most recent call last)",
      "\u001b[0;32m<ipython-input-2-7c534f203af7>\u001b[0m in \u001b[0;36m<module>\u001b[0;34m\u001b[0m\n\u001b[0;32m----> 1\u001b[0;31m \u001b[0mx_error\u001b[0m \u001b[0;34m=\u001b[0m \u001b[0mrobot_x\u001b[0m \u001b[0;34m-\u001b[0m \u001b[0;34m(\u001b[0m\u001b[0;36m10\u001b[0m\u001b[0;34m)\u001b[0m\u001b[0;34m\u001b[0m\u001b[0;34m\u001b[0m\u001b[0m\n\u001b[0m\u001b[1;32m      2\u001b[0m \u001b[0my_error\u001b[0m \u001b[0;34m=\u001b[0m \u001b[0mrobot_y\u001b[0m\u001b[0;34m\u001b[0m\u001b[0;34m\u001b[0m\u001b[0m\n\u001b[1;32m      3\u001b[0m \u001b[0;34m\u001b[0m\u001b[0m\n\u001b[1;32m      4\u001b[0m \u001b[0mvel_forward_apply\u001b[0m\u001b[0;34m,\u001b[0m \u001b[0mvel_lateral_apply\u001b[0m \u001b[0;34m=\u001b[0m \u001b[0mhome_mecanum\u001b[0m\u001b[0;34m.\u001b[0m\u001b[0mcheck_velocity\u001b[0m\u001b[0;34m(\u001b[0m\u001b[0mhome_mecanum\u001b[0m\u001b[0;34m.\u001b[0m\u001b[0mvel_forward\u001b[0m \u001b[0;34m*\u001b[0m \u001b[0;34m(\u001b[0m\u001b[0mx_error\u001b[0m\u001b[0;34m**\u001b[0m\u001b[0;36m2\u001b[0m\u001b[0;34m)\u001b[0m\u001b[0;34m,\u001b[0m \u001b[0mhome_mecanum\u001b[0m\u001b[0;34m.\u001b[0m\u001b[0mvel_lateral\u001b[0m \u001b[0;34m*\u001b[0m \u001b[0;34m(\u001b[0m\u001b[0my_error\u001b[0m\u001b[0;34m**\u001b[0m\u001b[0;36m2\u001b[0m\u001b[0;34m)\u001b[0m\u001b[0;34m)\u001b[0m\u001b[0;34m\u001b[0m\u001b[0;34m\u001b[0m\u001b[0m\n",
      "\u001b[0;31mNameError\u001b[0m: name 'robot_x' is not defined"
     ]
    }
   ],
   "source": [
    "x_error = robot_x - (10)\n",
    "y_error = robot_y\n",
    "\n",
    "vel_forward_apply, vel_lateral_apply = home_mecanum.check_velocity(home_mecanum.vel_forward * (x_error**2), home_mecanum.vel_lateral * (y_error**2))"
   ]
  },
  {
   "cell_type": "code",
   "execution_count": 5,
   "metadata": {},
   "outputs": [],
   "source": [
    "spawn_pos_z = 0.5\n",
    "ball_fly_time = 0.45\n",
    "vz0 = 9.8 * ball_fly_time"
   ]
  },
  {
   "cell_type": "code",
   "execution_count": 7,
   "metadata": {},
   "outputs": [
    {
     "data": {
      "text/plain": [
       "1.4922499999999999"
      ]
     },
     "execution_count": 7,
     "metadata": {},
     "output_type": "execute_result"
    }
   ],
   "source": [
    "h = spawn_pos_z + vz0 * ball_fly_time - (9.8 * ball_fly_time**2)/2\n",
    "h "
   ]
  },
  {
   "cell_type": "code",
   "execution_count": 66,
   "metadata": {},
   "outputs": [],
   "source": [
    "def rotation_matrix(angle):\n",
    "\n",
    "    return np.array([[np.cos(angle),-np.sin(angle),0],\n",
    "             [np.sin(angle),np.cos(angle),0],\n",
    "             [0,0,1]])\n",
    "\n",
    "def get_wrench(force, torque, matrix):\n",
    "\n",
    "    F = matrix@(np.array(force).reshape([3,1]))\n",
    "    T = matrix@(np.array(torque).reshape([3,1]))\n",
    "    \n",
    "    F = F.reshape([1,3]).tolist()\n",
    "    T = T.reshape([1,3]).tolist()\n",
    "\n",
    "\n",
    "    return F[0], T[0]"
   ]
  },
  {
   "cell_type": "code",
   "execution_count": 5,
   "metadata": {},
   "outputs": [
    {
     "data": {
      "text/plain": [
       "array([[ 0.92951967, -0.36877254,  0.        ],\n",
       "       [ 0.36877254,  0.92951967,  0.        ],\n",
       "       [ 0.        ,  0.        ,  1.        ]])"
      ]
     },
     "execution_count": 5,
     "metadata": {},
     "output_type": "execute_result"
    }
   ],
   "source": [
    "rotation_matrix(0.3776881459970161)"
   ]
  },
  {
   "cell_type": "code",
   "execution_count": 102,
   "metadata": {},
   "outputs": [],
   "source": [
    "class Make_mecanum_left():\n",
    "\n",
    "    def __init__(self):\n",
    "        self.vel_forward = 5.5 #m/s\n",
    "        self.vel_lateral = 2 #m/s\n",
    "        self.ball_fly_time = 0.45 #max height time [sec]\n",
    "        self.vel_forward_apply = 0\n",
    "        self.vel_lateral_apply = 0\n",
    "        \n",
    "        self.spawn_pos_z = 0.5\n",
    "        \n",
    "        self.torque = [0,20000,0]\n",
    "        self.delete_model_name = \"ball_right\"\n",
    "\n",
    "    def set_ball_target(self):\n",
    "        #self.x_target = (np.random.randint(6, 10) + np.random.rand())\n",
    "        #self.y_target = (np.random.randint(-3, 3) + np.random.rand())\n",
    "\n",
    "        self.x_target = 11\n",
    "        self.y_target = 4\n",
    "\n",
    "        self.x = -10.89\n",
    "        self.y = -3.9\n",
    "        \n",
    "        self.x_error = self.x_target - self.x\n",
    "        self.y_error = self.y_target - self.y\n",
    "        print(self.x_error, self.y_error)\n",
    "        self.s = np.sqrt(self.x_error**2 + self.y_error**2)\n",
    "\n",
    "    def throw_ball(self):\n",
    "\n",
    "        duration = 0.01\n",
    "\n",
    "        self.set_ball_target()\n",
    "\n",
    "        self.yaw_z = np.arctan(self.y_error/self.x_error)\n",
    "        self.ror_matrix = rotation_matrix(self.yaw_z)\n",
    "        vz0 = 9.8 * self.ball_fly_time\n",
    "\n",
    "        h =self.spawn_pos_z + vz0 * self.ball_fly_time - (9.8 * self.ball_fly_time**2)/2\n",
    "        self.ball_fly_time_plus = np.sqrt(2 * h / 9.8)\n",
    "        v0 = self.s/(self.ball_fly_time + self.ball_fly_time_plus)\n",
    "        print(v0)\n",
    "        self.v = np.sqrt(v0**2 + vz0**2)\n",
    "        self.launch_angle = np.arctan(vz0/v0)\n",
    "\n",
    "        self.force = [v0 * 0.057 * 100, 0, vz0 * 0.057 *100 ]\n",
    "\n",
    "        self.apply_force, self.apply_torque = get_wrench(self.force, self.torque, self.ror_matrix)\n",
    "\n"
   ]
  },
  {
   "cell_type": "code",
   "execution_count": 103,
   "metadata": {},
   "outputs": [],
   "source": [
    "x = Make_mecanum_left()"
   ]
  },
  {
   "cell_type": "code",
   "execution_count": 113,
   "metadata": {},
   "outputs": [
    {
     "name": "stdout",
     "output_type": "stream",
     "text": [
      "21.89 7.9\n",
      "23.228892719109222\n"
     ]
    }
   ],
   "source": [
    "x.throw_ball()"
   ]
  },
  {
   "cell_type": "code",
   "execution_count": 115,
   "metadata": {},
   "outputs": [
    {
     "data": {
      "text/plain": [
       "1.0018521689062485"
      ]
     },
     "execution_count": 115,
     "metadata": {},
     "output_type": "execute_result"
    }
   ],
   "source": [
    "x.ball_fly_time_plus + x.ball_fly_time"
   ]
  },
  {
   "cell_type": "code",
   "execution_count": 117,
   "metadata": {},
   "outputs": [
    {
     "data": {
      "text/plain": [
       "array([21.84953098, -7.88539492,  0.        ])"
      ]
     },
     "execution_count": 117,
     "metadata": {},
     "output_type": "execute_result"
    }
   ],
   "source": [
    "[23.228892719109222,0,0] @ x.ror_matrix"
   ]
  },
  {
   "cell_type": "code",
   "execution_count": 119,
   "metadata": {},
   "outputs": [
    {
     "data": {
      "text/plain": [
       "array([21.89, -7.9 ,  0.  ])"
      ]
     },
     "execution_count": 119,
     "metadata": {},
     "output_type": "execute_result"
    }
   ],
   "source": [
    "np.array([21.84953098, -7.88539492,  0.        ]) * (x.ball_fly_time_plus + x.ball_fly_time)"
   ]
  },
  {
   "cell_type": "code",
   "execution_count": 18,
   "metadata": {},
   "outputs": [],
   "source": [
    "vx1 = 14.98431004421108\n",
    "mu_s = 0.6\n",
    "ey = 0.79\n",
    "vy1 = -5.25\n",
    "R = 0.033\n",
    "R1 = 0.030\n",
    "w1 = 0\n",
    "vx2 = 9.956566531466533"
   ]
  },
  {
   "cell_type": "code",
   "execution_count": 22,
   "metadata": {},
   "outputs": [],
   "source": [
    "vx2 = vx1 + mu_s * (1 + ey) * vy1"
   ]
  },
  {
   "cell_type": "code",
   "execution_count": 15,
   "metadata": {},
   "outputs": [],
   "source": [
    "w2 = w1 -(1.5 * mu_s * R * (1 + ey) * vy1) / R1**2"
   ]
  },
  {
   "cell_type": "code",
   "execution_count": 16,
   "metadata": {},
   "outputs": [],
   "source": [
    "w2 = w1 -(1.5 * R * (vx2 - vx1)) / R1**2"
   ]
  },
  {
   "cell_type": "code",
   "execution_count": 21,
   "metadata": {},
   "outputs": [],
   "source": [
    "vx1 = 9.34581004421108\n",
    "mu_s = 0.6\n",
    "ey = 0.79\n",
    "vy1 = -4.1554\n",
    "R = 0.033\n",
    "R1 = 0.030\n",
    "w1 = 107.2322516621961\n"
   ]
  },
  {
   "cell_type": "code",
   "execution_count": 26,
   "metadata": {},
   "outputs": [
    {
     "data": {
      "text/plain": [
       "4.898600399999999"
      ]
     },
     "execution_count": 26,
     "metadata": {},
     "output_type": "execute_result"
    }
   ],
   "source": [
    "vx2 = vx1 + mu_s * (1 + ey) * vy1\n",
    "vx2"
   ]
  },
  {
   "cell_type": "code",
   "execution_count": 28,
   "metadata": {},
   "outputs": [
    {
     "data": {
      "text/plain": [
       "558.5304779999999"
      ]
     },
     "execution_count": 28,
     "metadata": {},
     "output_type": "execute_result"
    }
   ],
   "source": [
    "w2 = w1 -(1.5 * mu_s * R * (1 + ey) * vy1) / R1**2\n",
    "w2"
   ]
  },
  {
   "cell_type": "code",
   "execution_count": 37,
   "metadata": {},
   "outputs": [
    {
     "data": {
      "text/plain": [
       "0"
      ]
     },
     "execution_count": 37,
     "metadata": {},
     "output_type": "execute_result"
    }
   ],
   "source": [
    "robot = [[190, 175, 235, 205], [361, 492, 404, 523]]\n",
    "ball = [[334, 479, 358, 503], [361, 492, 404, 519]]\n",
    "\n",
    "\n"
   ]
  },
  {
   "cell_type": "code",
   "execution_count": 34,
   "metadata": {},
   "outputs": [],
   "source": [
    "def check_iou(robot_box, ball_cand_box):\n",
    "    no_ball_box = []\n",
    "\n",
    "    for i in range(len(robot_box)):\n",
    "        for j in range(len(ball_cand_box)):\n",
    "            print(robot_box[i], ball_cand_box[j])\n",
    "            print(iou(robot_box[i], ball_cand_box[j]))\n",
    "            if iou(robot_box[i], ball_cand_box[j]):\n",
    "                no_ball_box.append(ball_cand_box[j])\n",
    "                print(1)\n",
    "            else:\n",
    "                pass\n",
    "    for i in no_ball_box:\n",
    "        del ball_cand_box[ball_cand_box.index(i)]\n",
    "                          \n",
    "    return ball_cand_box\n",
    "\n",
    "def iou(box_0, box_1):\n",
    "    b0x_0, b0y_0, b0x_1 ,b0y_1 = box_0\n",
    "    b1x_0, b1y_0, b1x_1 ,b1y_1 = box_1\n",
    "\n",
    "    min_x = np.argmin([b0x_0,b1x_0])\n",
    "    min_y = np.argmin([b0y_0,b1y_0])\n",
    "\n",
    "    if min_x == 0 and min_y == 0:\n",
    "        if ((b0x_0 < b1x_0 < b0x_1) or (b0x_0 < b1x_1 < b0x_1)) and ((b0y_0 < b1y_0 < b0y_1) or (b0y_0 < b1y_1 < b0y_1)):\n",
    "            return True\n",
    "    if min_x == 0 and min_y == 1:\n",
    "        if ((b0x_0 < b1x_0 < b0x_1) or (b0x_0 < b1x_1 < b0x_1)) and ((b1y_0 < b0y_0 < b1y_1) or (b1y_0 < b0y_1 < b1y_1)):\n",
    "            return True\n",
    "    if min_x == 1 and min_y == 0:\n",
    "        if ((b1x_0 < b0x_0 < b1x_1) or (b1x_0 < b0x_1 < b1x_1)) and ((b0y_0 < b1y_0 < b0y_1) or (b0y_0 < b1y_1 < b0y_1)):\n",
    "            return True\n",
    "    if min_x == 1 and min_y == 1:\n",
    "        if ((b1x_0 < b0x_0 < b1x_1) or (b1x_0 < b0x_1 < b1x_1) ) and ((b1y_0 < b0y_0 < b1y_1) or (b1y_0 < b0y_1 < b1y_1) ):\n",
    "            return True\n",
    "\n",
    "    return False\n",
    "\n"
   ]
  },
  {
   "cell_type": "code",
   "execution_count": 35,
   "metadata": {
    "scrolled": true
   },
   "outputs": [
    {
     "name": "stdout",
     "output_type": "stream",
     "text": [
      "[216, 178, 250, 199] [521, 137, 544, 160]\n",
      "False\n",
      "[216, 178, 250, 199] [227, 176, 242, 191]\n",
      "True\n",
      "1\n",
      "[416, 499, 452, 521] [521, 137, 544, 160]\n",
      "False\n",
      "[416, 499, 452, 521] [227, 176, 242, 191]\n",
      "False\n"
     ]
    },
    {
     "data": {
      "text/plain": [
       "[[521, 137, 544, 160]]"
      ]
     },
     "execution_count": 35,
     "metadata": {},
     "output_type": "execute_result"
    }
   ],
   "source": [
    "check_iou(robot, ball)"
   ]
  },
  {
   "cell_type": "code",
   "execution_count": 45,
   "metadata": {},
   "outputs": [],
   "source": [
    "ball_centroid_list = [[100,123],[423, 321]]\n"
   ]
  },
  {
   "cell_type": "code",
   "execution_count": 46,
   "metadata": {},
   "outputs": [
    {
     "data": {
      "text/plain": [
       "[100, 123]"
      ]
     },
     "execution_count": 46,
     "metadata": {},
     "output_type": "execute_result"
    }
   ],
   "source": [
    "ball_centroid_list[0]"
   ]
  },
  {
   "cell_type": "code",
   "execution_count": 41,
   "metadata": {},
   "outputs": [
    {
     "data": {
      "text/plain": [
       "True"
      ]
     },
     "execution_count": 41,
     "metadata": {},
     "output_type": "execute_result"
    }
   ],
   "source": [
    "max(ball_centroid_list) > [1, 0]"
   ]
  },
  {
   "cell_type": "code",
   "execution_count": 42,
   "metadata": {},
   "outputs": [
    {
     "data": {
      "text/plain": [
       "[423, 321]"
      ]
     },
     "execution_count": 42,
     "metadata": {},
     "output_type": "execute_result"
    }
   ],
   "source": [
    "max(ball_centroid_list)"
   ]
  },
  {
   "cell_type": "code",
   "execution_count": 52,
   "metadata": {},
   "outputs": [
    {
     "data": {
      "text/plain": [
       "array([0.15625  , 0.1921875, 0.6609375, 0.5015625])"
      ]
     },
     "execution_count": 52,
     "metadata": {},
     "output_type": "execute_result"
    }
   ],
   "source": [
    "np.array(ball_centroid_list[0] + ball_centroid_list[1])/640"
   ]
  },
  {
   "cell_type": "code",
   "execution_count": 21,
   "metadata": {},
   "outputs": [],
   "source": [
    "npy_array = np.load(file=\"src/yolov5/npy_test.npy\")"
   ]
  },
  {
   "cell_type": "code",
   "execution_count": 22,
   "metadata": {},
   "outputs": [
    {
     "data": {
      "text/plain": [
       "(1227, 20, 4)"
      ]
     },
     "execution_count": 22,
     "metadata": {},
     "output_type": "execute_result"
    }
   ],
   "source": [
    "npy_array.shape\n"
   ]
  },
  {
   "cell_type": "code",
   "execution_count": 18,
   "metadata": {
    "collapsed": true
   },
   "outputs": [
    {
     "data": {
      "text/plain": [
       "array([[[  0. ,   0. ,   0. ,   0. ],\n",
       "        [  0. ,   0. ,   0. ,   0. ],\n",
       "        [  0. ,   0. ,   0. ,   0. ],\n",
       "        [  0. ,   0. ,   0. ,   0. ],\n",
       "        [  0. ,   0. ,   0. ,   0. ],\n",
       "        [  0. ,   0. ,   0. ,   0. ],\n",
       "        [  0. ,   0. ,   0. ,   0. ],\n",
       "        [  0. ,   0. ,   0. ,   0. ],\n",
       "        [  0. ,   0. ,   0. ,   0. ],\n",
       "        [  0. ,   0. ,   0. ,   0. ],\n",
       "        [  0. ,   0. ,   0. ,   0. ],\n",
       "        [  0. ,   0. ,   0. ,   0. ],\n",
       "        [  0. ,   0. ,   0. ,   0. ],\n",
       "        [  0. ,   0. ,   0. ,   0. ],\n",
       "        [  0. ,   0. ,   0. ,   0. ],\n",
       "        [  0. ,   0. ,   0. ,   0. ],\n",
       "        [  0. ,   0. ,   0. ,   0. ],\n",
       "        [  0. ,   0. ,   0. ,   0. ],\n",
       "        [  0. ,   0. ,   0. ,   0. ],\n",
       "        [  0. ,   0. , 562.5, 580. ]],\n",
       "\n",
       "       [[  0. ,   0. ,   0. ,   0. ],\n",
       "        [  0. ,   0. ,   0. ,   0. ],\n",
       "        [  0. ,   0. ,   0. ,   0. ],\n",
       "        [  0. ,   0. ,   0. ,   0. ],\n",
       "        [  0. ,   0. ,   0. ,   0. ],\n",
       "        [  0. ,   0. ,   0. ,   0. ],\n",
       "        [  0. ,   0. ,   0. ,   0. ],\n",
       "        [  0. ,   0. ,   0. ,   0. ],\n",
       "        [  0. ,   0. ,   0. ,   0. ],\n",
       "        [  0. ,   0. ,   0. ,   0. ],\n",
       "        [  0. ,   0. ,   0. ,   0. ],\n",
       "        [  0. ,   0. ,   0. ,   0. ],\n",
       "        [  0. ,   0. ,   0. ,   0. ],\n",
       "        [  0. ,   0. ,   0. ,   0. ],\n",
       "        [  0. ,   0. ,   0. ,   0. ],\n",
       "        [  0. ,   0. ,   0. ,   0. ],\n",
       "        [  0. ,   0. ,   0. ,   0. ],\n",
       "        [  0. ,   0. ,   0. ,   0. ],\n",
       "        [  0. ,   0. ,   0. ,   0. ],\n",
       "        [  0. ,   0. , 495. , 515. ]],\n",
       "\n",
       "       [[  0. ,   0. ,   0. ,   0. ],\n",
       "        [  0. ,   0. ,   0. ,   0. ],\n",
       "        [  0. ,   0. ,   0. ,   0. ],\n",
       "        [  0. ,   0. ,   0. ,   0. ],\n",
       "        [  0. ,   0. ,   0. ,   0. ],\n",
       "        [  0. ,   0. ,   0. ,   0. ],\n",
       "        [  0. ,   0. ,   0. ,   0. ],\n",
       "        [  0. ,   0. ,   0. ,   0. ],\n",
       "        [  0. ,   0. ,   0. ,   0. ],\n",
       "        [  0. ,   0. ,   0. ,   0. ],\n",
       "        [  0. ,   0. ,   0. ,   0. ],\n",
       "        [  0. ,   0. ,   0. ,   0. ],\n",
       "        [  0. ,   0. ,   0. ,   0. ],\n",
       "        [  0. ,   0. ,   0. ,   0. ],\n",
       "        [  0. ,   0. ,   0. ,   0. ],\n",
       "        [  0. ,   0. ,   0. ,   0. ],\n",
       "        [  0. ,   0. ,   0. ,   0. ],\n",
       "        [  0. ,   0. ,   0. ,   0. ],\n",
       "        [  0. ,   0. , 495. , 515. ],\n",
       "        [211. , 230. , 485. , 507. ]],\n",
       "\n",
       "       [[  0. ,   0. ,   0. ,   0. ],\n",
       "        [  0. ,   0. ,   0. ,   0. ],\n",
       "        [  0. ,   0. ,   0. ,   0. ],\n",
       "        [  0. ,   0. ,   0. ,   0. ],\n",
       "        [  0. ,   0. ,   0. ,   0. ],\n",
       "        [  0. ,   0. ,   0. ,   0. ],\n",
       "        [  0. ,   0. ,   0. ,   0. ],\n",
       "        [  0. ,   0. ,   0. ,   0. ],\n",
       "        [  0. ,   0. ,   0. ,   0. ],\n",
       "        [  0. ,   0. ,   0. ,   0. ],\n",
       "        [  0. ,   0. ,   0. ,   0. ],\n",
       "        [  0. ,   0. ,   0. ,   0. ],\n",
       "        [  0. ,   0. ,   0. ,   0. ],\n",
       "        [  0. ,   0. ,   0. ,   0. ],\n",
       "        [  0. ,   0. ,   0. ,   0. ],\n",
       "        [  0. ,   0. ,   0. ,   0. ],\n",
       "        [  0. ,   0. ,   0. ,   0. ],\n",
       "        [  0. ,   0. , 495. , 515. ],\n",
       "        [211. , 230. , 485. , 507. ],\n",
       "        [213.5, 232.5, 476. , 497.5]],\n",
       "\n",
       "       [[  0. ,   0. ,   0. ,   0. ],\n",
       "        [  0. ,   0. ,   0. ,   0. ],\n",
       "        [  0. ,   0. ,   0. ,   0. ],\n",
       "        [  0. ,   0. ,   0. ,   0. ],\n",
       "        [  0. ,   0. ,   0. ,   0. ],\n",
       "        [  0. ,   0. ,   0. ,   0. ],\n",
       "        [  0. ,   0. ,   0. ,   0. ],\n",
       "        [  0. ,   0. ,   0. ,   0. ],\n",
       "        [  0. ,   0. ,   0. ,   0. ],\n",
       "        [  0. ,   0. ,   0. ,   0. ],\n",
       "        [  0. ,   0. ,   0. ,   0. ],\n",
       "        [  0. ,   0. ,   0. ,   0. ],\n",
       "        [  0. ,   0. ,   0. ,   0. ],\n",
       "        [  0. ,   0. ,   0. ,   0. ],\n",
       "        [  0. ,   0. ,   0. ,   0. ],\n",
       "        [  0. ,   0. ,   0. ,   0. ],\n",
       "        [  0. ,   0. , 495. , 515. ],\n",
       "        [211. , 230. , 485. , 507. ],\n",
       "        [213.5, 232.5, 476. , 497.5],\n",
       "        [216.5, 236.5, 463. , 485. ]],\n",
       "\n",
       "       [[  0. ,   0. ,   0. ,   0. ],\n",
       "        [  0. ,   0. ,   0. ,   0. ],\n",
       "        [  0. ,   0. ,   0. ,   0. ],\n",
       "        [  0. ,   0. ,   0. ,   0. ],\n",
       "        [  0. ,   0. ,   0. ,   0. ],\n",
       "        [  0. ,   0. ,   0. ,   0. ],\n",
       "        [  0. ,   0. ,   0. ,   0. ],\n",
       "        [  0. ,   0. ,   0. ,   0. ],\n",
       "        [  0. ,   0. ,   0. ,   0. ],\n",
       "        [  0. ,   0. ,   0. ,   0. ],\n",
       "        [  0. ,   0. ,   0. ,   0. ],\n",
       "        [  0. ,   0. ,   0. ,   0. ],\n",
       "        [  0. ,   0. ,   0. ,   0. ],\n",
       "        [  0. ,   0. ,   0. ,   0. ],\n",
       "        [  0. ,   0. ,   0. ,   0. ],\n",
       "        [  0. ,   0. , 495. , 515. ],\n",
       "        [211. , 230. , 485. , 507. ],\n",
       "        [213.5, 232.5, 476. , 497.5],\n",
       "        [216.5, 236.5, 463. , 485. ],\n",
       "        [220. , 240.5, 452.5, 474. ]],\n",
       "\n",
       "       [[  0. ,   0. ,   0. ,   0. ],\n",
       "        [  0. ,   0. ,   0. ,   0. ],\n",
       "        [  0. ,   0. ,   0. ,   0. ],\n",
       "        [  0. ,   0. ,   0. ,   0. ],\n",
       "        [  0. ,   0. ,   0. ,   0. ],\n",
       "        [  0. ,   0. ,   0. ,   0. ],\n",
       "        [  0. ,   0. ,   0. ,   0. ],\n",
       "        [  0. ,   0. ,   0. ,   0. ],\n",
       "        [  0. ,   0. ,   0. ,   0. ],\n",
       "        [  0. ,   0. ,   0. ,   0. ],\n",
       "        [  0. ,   0. ,   0. ,   0. ],\n",
       "        [  0. ,   0. ,   0. ,   0. ],\n",
       "        [  0. ,   0. ,   0. ,   0. ],\n",
       "        [  0. ,   0. ,   0. ,   0. ],\n",
       "        [  0. ,   0. , 495. , 515. ],\n",
       "        [211. , 230. , 485. , 507. ],\n",
       "        [213.5, 232.5, 476. , 497.5],\n",
       "        [216.5, 236.5, 463. , 485. ],\n",
       "        [220. , 240.5, 452.5, 474. ],\n",
       "        [224. , 244. , 441.5, 463.5]],\n",
       "\n",
       "       [[  0. ,   0. ,   0. ,   0. ],\n",
       "        [  0. ,   0. ,   0. ,   0. ],\n",
       "        [  0. ,   0. ,   0. ,   0. ],\n",
       "        [  0. ,   0. ,   0. ,   0. ],\n",
       "        [  0. ,   0. ,   0. ,   0. ],\n",
       "        [  0. ,   0. ,   0. ,   0. ],\n",
       "        [  0. ,   0. ,   0. ,   0. ],\n",
       "        [  0. ,   0. ,   0. ,   0. ],\n",
       "        [  0. ,   0. ,   0. ,   0. ],\n",
       "        [  0. ,   0. ,   0. ,   0. ],\n",
       "        [  0. ,   0. ,   0. ,   0. ],\n",
       "        [  0. ,   0. ,   0. ,   0. ],\n",
       "        [  0. ,   0. ,   0. ,   0. ],\n",
       "        [  0. ,   0. , 495. , 515. ],\n",
       "        [211. , 230. , 485. , 507. ],\n",
       "        [213.5, 232.5, 476. , 497.5],\n",
       "        [216.5, 236.5, 463. , 485. ],\n",
       "        [220. , 240.5, 452.5, 474. ],\n",
       "        [224. , 244. , 441.5, 463.5],\n",
       "        [229.5, 250.5, 426. , 448.5]],\n",
       "\n",
       "       [[  0. ,   0. ,   0. ,   0. ],\n",
       "        [  0. ,   0. ,   0. ,   0. ],\n",
       "        [  0. ,   0. ,   0. ,   0. ],\n",
       "        [  0. ,   0. ,   0. ,   0. ],\n",
       "        [  0. ,   0. ,   0. ,   0. ],\n",
       "        [  0. ,   0. ,   0. ,   0. ],\n",
       "        [  0. ,   0. ,   0. ,   0. ],\n",
       "        [  0. ,   0. ,   0. ,   0. ],\n",
       "        [  0. ,   0. ,   0. ,   0. ],\n",
       "        [  0. ,   0. ,   0. ,   0. ],\n",
       "        [  0. ,   0. ,   0. ,   0. ],\n",
       "        [  0. ,   0. ,   0. ,   0. ],\n",
       "        [  0. ,   0. , 495. , 515. ],\n",
       "        [211. , 230. , 485. , 507. ],\n",
       "        [213.5, 232.5, 476. , 497.5],\n",
       "        [216.5, 236.5, 463. , 485. ],\n",
       "        [220. , 240.5, 452.5, 474. ],\n",
       "        [224. , 244. , 441.5, 463.5],\n",
       "        [229.5, 250.5, 426. , 448.5],\n",
       "        [235. , 256. , 413.5, 436. ]],\n",
       "\n",
       "       [[  0. ,   0. ,   0. ,   0. ],\n",
       "        [  0. ,   0. ,   0. ,   0. ],\n",
       "        [  0. ,   0. ,   0. ,   0. ],\n",
       "        [  0. ,   0. ,   0. ,   0. ],\n",
       "        [  0. ,   0. ,   0. ,   0. ],\n",
       "        [  0. ,   0. ,   0. ,   0. ],\n",
       "        [  0. ,   0. ,   0. ,   0. ],\n",
       "        [  0. ,   0. ,   0. ,   0. ],\n",
       "        [  0. ,   0. ,   0. ,   0. ],\n",
       "        [  0. ,   0. ,   0. ,   0. ],\n",
       "        [  0. ,   0. ,   0. ,   0. ],\n",
       "        [  0. ,   0. , 495. , 515. ],\n",
       "        [211. , 230. , 485. , 507. ],\n",
       "        [213.5, 232.5, 476. , 497.5],\n",
       "        [216.5, 236.5, 463. , 485. ],\n",
       "        [220. , 240.5, 452.5, 474. ],\n",
       "        [224. , 244. , 441.5, 463.5],\n",
       "        [229.5, 250.5, 426. , 448.5],\n",
       "        [235. , 256. , 413.5, 436. ],\n",
       "        [242.5, 264.5, 395. , 418. ]]])"
      ]
     },
     "execution_count": 18,
     "metadata": {},
     "output_type": "execute_result"
    }
   ],
   "source": [
    "npy_array[:10]"
   ]
  },
  {
   "cell_type": "code",
   "execution_count": 16,
   "metadata": {},
   "outputs": [],
   "source": [
    "s = 18.6\n",
    "v0 = 200\n",
    "h = 2\n",
    "angle = np.arctan(h/s)"
   ]
  },
  {
   "cell_type": "code",
   "execution_count": 345,
   "metadata": {},
   "outputs": [],
   "source": [
    "ball_trajectory_list = []\n",
    "ball_point_data = []\n",
    "save_data = []\n",
    "seq_cnt = 0\n",
    "trajectroy_cnt = 0"
   ]
  },
  {
   "cell_type": "code",
   "execution_count": 380,
   "metadata": {},
   "outputs": [],
   "source": [
    "ball_centroid_list = [[0, 0],[0, 0]]\n"
   ]
  },
  {
   "cell_type": "code",
   "execution_count": 381,
   "metadata": {
    "scrolled": false
   },
   "outputs": [
    {
     "name": "stdout",
     "output_type": "stream",
     "text": [
      "2\n",
      "[[[[1, 0, 0, 0]], [[1, 0, 0, 0], [1, 0, 0, 0]], [[1, 0, 0, 0], [1, 0, 0, 0], [1, 0, 0, 0]], [[1, 0, 0, 0], [1, 0, 0, 0], [1, 0, 0, 0], [1, 0, 0, 0]], [[1, 0, 0, 0], [1, 0, 0, 0], [1, 0, 0, 0], [1, 0, 0, 0], [1, 0, 0, 0]], [[1, 0, 0, 0], [1, 0, 0, 0], [1, 0, 0, 0], [1, 0, 0, 0], [1, 0, 0, 0], [1, 0, 0, 0]], [[1, 0, 0, 0], [1, 0, 0, 0], [1, 0, 0, 0], [1, 0, 0, 0], [1, 0, 0, 0], [1, 0, 0, 0], [1, 0, 0, 0]]], [[[2, 0, 0, 0]], [[2, 0, 0, 0], [2, 0, 0, 0]], [[2, 0, 0, 0], [2, 0, 0, 0], [2, 0, 0, 0]], [[2, 0, 0, 0], [2, 0, 0, 0], [2, 0, 0, 0], [2, 0, 0, 0]], [[2, 0, 0, 0], [2, 0, 0, 0], [2, 0, 0, 0], [2, 0, 0, 0], [2, 0, 0, 0]], [[2, 0, 0, 0], [2, 0, 0, 0], [2, 0, 0, 0], [2, 0, 0, 0], [2, 0, 0, 0], [2, 0, 0, 0]], [[2, 0, 0, 0], [2, 0, 0, 0], [2, 0, 0, 0], [2, 0, 0, 0], [2, 0, 0, 0], [2, 0, 0, 0], [2, 0, 0, 0]], [[2, 0, 0, 0], [2, 0, 0, 0], [2, 0, 0, 0], [2, 0, 0, 0], [2, 0, 0, 0], [2, 0, 0, 0], [2, 0, 0, 0], [2, 0, 0, 0]], [[2, 0, 0, 0], [2, 0, 0, 0], [2, 0, 0, 0], [2, 0, 0, 0], [2, 0, 0, 0], [2, 0, 0, 0], [2, 0, 0, 0], [2, 0, 0, 0], [2, 0, 0, 0]], [[2, 0, 0, 0], [2, 0, 0, 0], [2, 0, 0, 0], [2, 0, 0, 0], [2, 0, 0, 0], [2, 0, 0, 0], [2, 0, 0, 0], [2, 0, 0, 0], [2, 0, 0, 0], [2, 0, 0, 0]]]]\n",
      "trajectroy_cnt : 2\n",
      "seq_cnt:  10\n"
     ]
    }
   ],
   "source": [
    "if (max(ball_centroid_list) == [0,0] or max(ball_centroid_list) > [640, 640]) and len(ball_trajectory_list) == 0: #공 검출되지 않은 경우 패스\n",
    "    print(1)\n",
    "    pass\n",
    "\n",
    "elif (max(ball_centroid_list) == [0,0] or max(ball_centroid_list) > [640, 640]) :\n",
    "    print(2)\n",
    "    ball_trajectory_list.clear()\n",
    "\n",
    "    if seq_cnt < 5: #만약 로봇을 공으로 볼 경우 save data에서 마지막 항 빼고 파라미터 초기화\n",
    "        print(\"cancel\")\n",
    "        seq_cnt = 0\n",
    "        ball_point_data.clear()\n",
    "\n",
    "    else:\n",
    "        trajectroy_cnt += 1\n",
    "        #ff.write(str(seq_cnt) + \",\")\n",
    "        ball_point_data.copy()\n",
    "        save_data.append(ball_point_data.copy())\n",
    "        print(save_data)\n",
    "        print(\"trajectroy_cnt :\",trajectroy_cnt)\n",
    "        print(\"seq_cnt: \",seq_cnt)\n",
    "        seq_cnt = 0\n",
    "        ball_point_data.clear()\n",
    "        \n",
    "\n",
    "else:\n",
    "    print(3)\n",
    "    ball_point = (ball_centroid_list[0] + ball_centroid_list[1])\n",
    "    ball_trajectory_list.append(ball_point)\n",
    "    ball_point_data.append(ball_trajectory_list.copy())\n",
    "    seq_cnt += 1\n",
    "    \n",
    "    print(ball_point_data)"
   ]
  },
  {
   "cell_type": "code",
   "execution_count": 402,
   "metadata": {},
   "outputs": [
    {
     "ename": "NameError",
     "evalue": "name 'self' is not defined",
     "output_type": "error",
     "traceback": [
      "\u001b[0;31m---------------------------------------------------------------------------\u001b[0m",
      "\u001b[0;31mNameError\u001b[0m                                 Traceback (most recent call last)",
      "\u001b[0;32m<ipython-input-402-fad9309d9fb1>\u001b[0m in \u001b[0;36m<module>\u001b[0;34m\u001b[0m\n\u001b[0;32m----> 1\u001b[0;31m \u001b[0;32mif\u001b[0m \u001b[0;34m(\u001b[0m\u001b[0mmax\u001b[0m\u001b[0;34m(\u001b[0m\u001b[0mself\u001b[0m\u001b[0;34m.\u001b[0m\u001b[0mball_centroid_list\u001b[0m\u001b[0;34m)\u001b[0m \u001b[0;34m==\u001b[0m \u001b[0;34m[\u001b[0m\u001b[0;36m0\u001b[0m\u001b[0;34m,\u001b[0m\u001b[0;36m0\u001b[0m\u001b[0;34m]\u001b[0m \u001b[0;32mor\u001b[0m \u001b[0mmax\u001b[0m\u001b[0;34m(\u001b[0m\u001b[0mself\u001b[0m\u001b[0;34m.\u001b[0m\u001b[0mball_centroid_list\u001b[0m\u001b[0;34m)\u001b[0m \u001b[0;34m>\u001b[0m \u001b[0;34m[\u001b[0m\u001b[0;36m640\u001b[0m\u001b[0;34m,\u001b[0m \u001b[0;36m640\u001b[0m\u001b[0;34m]\u001b[0m\u001b[0;34m)\u001b[0m \u001b[0;32mand\u001b[0m \u001b[0mlen\u001b[0m\u001b[0;34m(\u001b[0m\u001b[0mball_trajectory_list\u001b[0m\u001b[0;34m)\u001b[0m \u001b[0;34m==\u001b[0m \u001b[0;36m0\u001b[0m\u001b[0;34m:\u001b[0m \u001b[0;31m#공 검출되지 않은 경우 패스\u001b[0m\u001b[0;34m\u001b[0m\u001b[0;34m\u001b[0m\u001b[0m\n\u001b[0m\u001b[1;32m      2\u001b[0m     \u001b[0;32mpass\u001b[0m\u001b[0;34m\u001b[0m\u001b[0;34m\u001b[0m\u001b[0m\n\u001b[1;32m      3\u001b[0m \u001b[0;34m\u001b[0m\u001b[0m\n\u001b[1;32m      4\u001b[0m \u001b[0;32melif\u001b[0m \u001b[0;34m(\u001b[0m\u001b[0mmax\u001b[0m\u001b[0;34m(\u001b[0m\u001b[0mself\u001b[0m\u001b[0;34m.\u001b[0m\u001b[0mball_centroid_list\u001b[0m\u001b[0;34m)\u001b[0m \u001b[0;34m==\u001b[0m \u001b[0;34m[\u001b[0m\u001b[0;36m0\u001b[0m\u001b[0;34m,\u001b[0m\u001b[0;36m0\u001b[0m\u001b[0;34m]\u001b[0m \u001b[0;32mor\u001b[0m \u001b[0mmax\u001b[0m\u001b[0;34m(\u001b[0m\u001b[0mself\u001b[0m\u001b[0;34m.\u001b[0m\u001b[0mball_centroid_list\u001b[0m\u001b[0;34m)\u001b[0m \u001b[0;34m>\u001b[0m \u001b[0;34m[\u001b[0m\u001b[0;36m640\u001b[0m\u001b[0;34m,\u001b[0m \u001b[0;36m640\u001b[0m\u001b[0;34m]\u001b[0m\u001b[0;34m)\u001b[0m \u001b[0;34m:\u001b[0m\u001b[0;34m\u001b[0m\u001b[0;34m\u001b[0m\u001b[0m\n\u001b[1;32m      5\u001b[0m     \u001b[0mball_trajectory_list\u001b[0m\u001b[0;34m.\u001b[0m\u001b[0mclear\u001b[0m\u001b[0;34m(\u001b[0m\u001b[0;34m)\u001b[0m\u001b[0;34m\u001b[0m\u001b[0;34m\u001b[0m\u001b[0m\n",
      "\u001b[0;31mNameError\u001b[0m: name 'self' is not defined"
     ]
    }
   ],
   "source": [
    "######### 데이터 저장 하는 방법 2 backup\n",
    "\n",
    "\n",
    "if (max(self.ball_centroid_list) == [0,0] or max(self.ball_centroid_list) > [640, 640]) and len(ball_trajectory_list) == 0: #공 검출되지 않은 경우 패스\n",
    "                    pass\n",
    "\n",
    "                elif (max(self.ball_centroid_list) == [0,0] or max(self.ball_centroid_list) > [640, 640]) :\n",
    "                    ball_trajectory_list.clear()\n",
    "\n",
    "                    if seq_cnt < 5: #만약 로봇을 공으로 볼 경우 save data에서 마지막 항 빼고 파라미터 초기화\n",
    "                        seq_cnt = 0\n",
    "                        ball_point_data.clear()\n",
    "\n",
    "                    else:\n",
    "                        trajectroy_cnt += 1\n",
    "                        ball_point_data.copy()\n",
    "                        save_data.append(ball_point_data.copy())\n",
    "\n",
    "                        ball_point_data.clear()\n",
    "\n",
    "                        print(\"trajectroy_cnt :\",trajectroy_cnt)\n",
    "                        print(\"seq_cnt: \",seq_cnt)\n",
    "                        seq_cnt = 0\n",
    "\n",
    "                else:\n",
    "                #elif max(self.ball_centroid_list) > [0,0]:\n",
    "                    ball_point = (self.ball_centroid_list[0] + self.ball_centroid_list[1])\n",
    "                    ball_trajectory_list.append(ball_point)\n",
    "                    ball_point_data.append(ball_trajectory_list.copy())\n",
    "                    seq_cnt += 1"
   ]
  },
  {
   "cell_type": "code",
   "execution_count": 405,
   "metadata": {},
   "outputs": [
    {
     "data": {
      "text/plain": [
       "[[227.5, 246.0, 482.0, 503.5],\n",
       " [230.5, 249.5, 473.0, 495.5],\n",
       " [235.5, 255.5, 464.5, 486.5],\n",
       " [239.5, 260.5, 451.0, 474.0],\n",
       " [246.5, 267.0, 440.5, 463.5],\n",
       " [252.0, 273.0, 426.0, 449.5],\n",
       " [260.5, 281.5, 414.0, 437.5],\n",
       " [267.5, 289.5, 396.0, 419.5],\n",
       " [278.5, 300.5, 380.5, 404.5],\n",
       " [289.0, 311.0, 359.5, 384.5],\n",
       " [0, 0, 341.0, 366.0],\n",
       " [0, 0, 312.0, 337.0],\n",
       " [278.0, 305.0, 336.5, 360.5],\n",
       " [247.5, 275.0, 355.0, 379.5]]"
      ]
     },
     "execution_count": 405,
     "metadata": {},
     "output_type": "execute_result"
    }
   ],
   "source": [
    "data[0][0]"
   ]
  },
  {
   "cell_type": "code",
   "execution_count": 406,
   "metadata": {},
   "outputs": [
    {
     "name": "stdout",
     "output_type": "stream",
     "text": [
      "[227.5, 246.0, 482.0, 503.5]\n",
      "[230.5, 249.5, 473.0, 495.5]\n",
      "[235.5, 255.5, 464.5, 486.5]\n",
      "[239.5, 260.5, 451.0, 474.0]\n",
      "[246.5, 267.0, 440.5, 463.5]\n",
      "[252.0, 273.0, 426.0, 449.5]\n",
      "[260.5, 281.5, 414.0, 437.5]\n",
      "[267.5, 289.5, 396.0, 419.5]\n",
      "[278.5, 300.5, 380.5, 404.5]\n",
      "[289.0, 311.0, 359.5, 384.5]\n",
      "[0, 0, 341.0, 366.0]\n",
      "[0, 0, 312.0, 337.0]\n",
      "[278.0, 305.0, 336.5, 360.5]\n",
      "[247.5, 275.0, 355.0, 379.5]\n"
     ]
    }
   ],
   "source": [
    "for i in data[0][0]:\n",
    "    print(i)"
   ]
  },
  {
   "cell_type": "code",
   "execution_count": 9,
   "metadata": {},
   "outputs": [],
   "source": [
    "with open('src/yolov5/list_100.bin', 'rb') as f:\n",
    "    data_100 = pickle.load(f)"
   ]
  },
  {
   "cell_type": "code",
   "execution_count": 3,
   "metadata": {},
   "outputs": [],
   "source": [
    "with open('src/yolov5/list_500.bin', 'rb') as f:\n",
    "    data_500 = pickle.load(f)"
   ]
  },
  {
   "cell_type": "code",
   "execution_count": 7,
   "metadata": {},
   "outputs": [],
   "source": [
    "data_100.append(data_500)"
   ]
  },
  {
   "cell_type": "code",
   "execution_count": 15,
   "metadata": {},
   "outputs": [],
   "source": [
    "data_new = data_100 + data_500"
   ]
  },
  {
   "cell_type": "code",
   "execution_count": 17,
   "metadata": {},
   "outputs": [],
   "source": [
    "with open('list.bin', 'wb') as f:\n",
    "    pickle.dump(data_new,f)"
   ]
  },
  {
   "cell_type": "code",
   "execution_count": 5,
   "metadata": {},
   "outputs": [
    {
     "data": {
      "text/plain": [
       "array([-0.21285, -0.4257 , -0.63855])"
      ]
     },
     "execution_count": 5,
     "metadata": {},
     "output_type": "execute_result"
    }
   ],
   "source": [
    "-0.645 * (0.033 * np.array([100,200,300]) / np.array([10,10,10]))"
   ]
  },
  {
   "cell_type": "code",
   "execution_count": 9,
   "metadata": {},
   "outputs": [
    {
     "data": {
      "text/plain": [
       "array([0.10442832, 0.41771326, 0.93985484])"
      ]
     },
     "execution_count": 9,
     "metadata": {},
     "output_type": "execute_result"
    }
   ],
   "source": [
    "0.5 * 0.507 * 1.2041 * np.pi * (0.033 ** 2) * (np.array([10,20,30]) ** 2)\n",
    "[337.2084410968044, 0.0, 320.5, 0.0, 337.2084410968044, 240.5, 0.0, 0.0, 1.0]"
   ]
  },
  {
   "cell_type": "code",
   "execution_count": 38,
   "metadata": {},
   "outputs": [],
   "source": [
    "k = np.matrix([[337.2084410968044, 0.0, 320.5, 0],\n",
    "              [0.0, 337.2084410968044, 240.5, 0],\n",
    "              [0, 0, 1, 0]])\n",
    "\n",
    "ror = np.matrix([[0.707,-0.707, 0],\n",
    "                [0.707, 0.707, 0],\n",
    "                [0, 0, 1]])\n",
    "\n",
    "c_xy = np.matrix([[-1],\n",
    "                 [6.4],\n",
    "                 [0]])\n",
    "\n",
    "point = np.matrix([[2.5],\n",
    "                  [-4.47],\n",
    "                  [2.7],\n",
    "                  [1]])"
   ]
  },
  {
   "cell_type": "code",
   "execution_count": 39,
   "metadata": {},
   "outputs": [
    {
     "data": {
      "text/plain": [
       "matrix([[-5.2318],\n",
       "        [ 3.8178],\n",
       "        [ 0.    ]])"
      ]
     },
     "execution_count": 39,
     "metadata": {},
     "output_type": "execute_result"
    }
   ],
   "source": [
    "ror@c_xy "
   ]
  },
  {
   "cell_type": "code",
   "execution_count": 48,
   "metadata": {},
   "outputs": [],
   "source": [
    "ror = np.matrix([[0.707,-0.707, 0, -5.2318],\n",
    "                [0.707, 0.707, 0, 3.8178],\n",
    "                [0, 0, 1, 0],\n",
    "                [0, 0, 0, 1]])\n"
   ]
  },
  {
   "cell_type": "code",
   "execution_count": 44,
   "metadata": {},
   "outputs": [],
   "source": [
    "p = k@ror"
   ]
  },
  {
   "cell_type": "code",
   "execution_count": 47,
   "metadata": {},
   "outputs": [
    {
     "data": {
      "text/plain": [
       "matrix([[ 762.83526182],\n",
       "        [1467.08384174],\n",
       "        [   2.7       ]])"
      ]
     },
     "execution_count": 47,
     "metadata": {},
     "output_type": "execute_result"
    }
   ],
   "source": [
    "p @ point"
   ]
  },
  {
   "cell_type": "code",
   "execution_count": 51,
   "metadata": {},
   "outputs": [
    {
     "data": {
      "text/plain": [
       "matrix([[-0.30401],\n",
       "        [ 2.42501],\n",
       "        [ 2.7    ],\n",
       "        [ 1.     ]])"
      ]
     },
     "execution_count": 51,
     "metadata": {},
     "output_type": "execute_result"
    }
   ],
   "source": [
    "ror@(point)"
   ]
  },
  {
   "cell_type": "code",
   "execution_count": 25,
   "metadata": {},
   "outputs": [
    {
     "data": {
      "text/plain": [
       "matrix([[ 2.7 ],\n",
       "        [-4.47],\n",
       "        [ 2.5 ]])"
      ]
     },
     "execution_count": 25,
     "metadata": {},
     "output_type": "execute_result"
    }
   ],
   "source": [
    "point[:3]"
   ]
  },
  {
   "cell_type": "code",
   "execution_count": 3,
   "metadata": {},
   "outputs": [],
   "source": [
    "def z_roration_matrix(z):\n",
    "    z_matrix = np.matrix([[np.cos(np.deg2rad(z)), -np.sin(np.deg2rad(z)), 0],\n",
    "                            [np.sin(np.deg2rad(z)), np.cos(np.deg2rad(z)), 0],\n",
    "                            [0, 0, 1]])\n",
    "    return z_matrix\n",
    "    \n",
    "def x_roration_matrix(x):\n",
    "    x_matrix = np.matrix([[1, 0, 0],\n",
    "                         [0, np.cos(np.deg2rad(x)), -np.sin(np.deg2rad(x))],\n",
    "                         [0,-np.sin(np.deg2rad(x)),np.cos(np.deg2rad(x))]])\n",
    "    return x_matrix\n",
    "\n",
    "def y_roration_matrix(y):\n",
    "    x_matrix = np.matrix([[np.cos(np.deg2rad(y)), 0, np.sin(np.deg2rad(y))],\n",
    "                         [0, 1, 0],\n",
    "                         [-np.sin(np.deg2rad(y)),0, np.cos(np.deg2rad(y))]])\n",
    "    return x_matrix    \n",
    "    \n",
    "    \n",
    "    \n",
    "    \n",
    "ror = np.round(z_roration_matrix(45) @ y_roration_matrix(0) @ x_roration_matrix(-90),3)\n",
    "\n",
    "k = np.matrix([[337.2084410968044, 0.0, 320.306834],\n",
    "              [0.0, 337.2084410968044, 240.879174],\n",
    "              [0, 0, 1]])"
   ]
  },
  {
   "cell_type": "code",
   "execution_count": 132,
   "metadata": {},
   "outputs": [],
   "source": [
    "c_xy = np.matrix([[0],\n",
    "                 [-6.4],\n",
    "                 [1]])\n",
    "\n",
    "ball_point = np.matrix([[-2.69],\n",
    "                  [-2.79],\n",
    "                  [2.4]])"
   ]
  },
  {
   "cell_type": "code",
   "execution_count": 136,
   "metadata": {},
   "outputs": [
    {
     "data": {
      "text/plain": [
       "matrix([[ 50.20100449],\n",
       "        [155.68687081],\n",
       "        [  1.        ]])"
      ]
     },
     "execution_count": 136,
     "metadata": {},
     "output_type": "execute_result"
    }
   ],
   "source": [
    "k @ ror @ (ball_point - c_xy) / 3.61"
   ]
  },
  {
   "cell_type": "code",
   "execution_count": 138,
   "metadata": {},
   "outputs": [],
   "source": [
    "ccd_matrix = np.matrix([[368 / 50.2,0,0],\n",
    "                       [0,135 / 155,0],\n",
    "                       [0,0,1]]) *3.61"
   ]
  },
  {
   "cell_type": "code",
   "execution_count": 148,
   "metadata": {},
   "outputs": [
    {
     "data": {
      "text/plain": [
       "matrix([[1.28403707e+03],\n",
       "        [1.30210261e+02],\n",
       "        [1.00027083e+00]])"
      ]
     },
     "execution_count": 148,
     "metadata": {},
     "output_type": "execute_result"
    }
   ],
   "source": [
    "ccd_matrix @ k @ ror @ (ball_point - c_xy) / 24"
   ]
  },
  {
   "cell_type": "code",
   "execution_count": 142,
   "metadata": {},
   "outputs": [],
   "source": [
    "c_xy = np.matrix([[0],\n",
    "                 [-6.4],\n",
    "                 [1]])\n",
    "\n",
    "ball_point = np.matrix([[-3.3],\n",
    "                  [0.25],\n",
    "                  [1.75]])\n",
    "\n"
   ]
  },
  {
   "cell_type": "code",
   "execution_count": 143,
   "metadata": {},
   "outputs": [
    {
     "data": {
      "text/plain": [
       "matrix([[175.11197839],\n",
       "        [149.46019084],\n",
       "        [  1.        ]])"
      ]
     },
     "execution_count": 143,
     "metadata": {},
     "output_type": "execute_result"
    }
   ],
   "source": [
    "k @ ror @ (ball_point - c_xy) / 6.65"
   ]
  },
  {
   "cell_type": "code",
   "execution_count": 2,
   "metadata": {},
   "outputs": [],
   "source": [
    "c_xy = np.matrix([[0],\n",
    "                 [-6.4],\n",
    "                 [1]])\n",
    "\n",
    "ball_point = np.matrix([[-2.69],\n",
    "                  [-2.79],\n",
    "                  [2.4]])\n",
    "\n",
    "k = np.matrix([[337.2084410968044, 0.0, 320.306834],\n",
    "              [0.0, 337.2084410968044, 240.879174],\n",
    "              [0, 0, 1]])"
   ]
  },
  {
   "cell_type": "code",
   "execution_count": 4,
   "metadata": {
    "scrolled": true
   },
   "outputs": [
    {
     "data": {
      "text/plain": [
       "matrix([[-2.89163],\n",
       "        [-0.91203],\n",
       "        [ 3.61   ]])"
      ]
     },
     "execution_count": 4,
     "metadata": {},
     "output_type": "execute_result"
    }
   ],
   "source": [
    "ror @ (ball_point - c_xy)"
   ]
  },
  {
   "cell_type": "code",
   "execution_count": 65,
   "metadata": {},
   "outputs": [],
   "source": [
    "point = np.matrix([[368],\n",
    "                 [135],\n",
    "                 [1]])"
   ]
  },
  {
   "cell_type": "code",
   "execution_count": 102,
   "metadata": {},
   "outputs": [
    {
     "data": {
      "text/plain": [
       "matrix([[-0.12201273],\n",
       "        [-5.4       ],\n",
       "        [ 0.6779676 ]])"
      ]
     },
     "execution_count": 102,
     "metadata": {},
     "output_type": "execute_result"
    }
   ],
   "source": [
    "(np.linalg.inv(ror) @ np.linalg.inv(k) @ point) + c_xy"
   ]
  },
  {
   "cell_type": "code",
   "execution_count": 190,
   "metadata": {},
   "outputs": [],
   "source": [
    "h = np.matrix([[ 0.707,  0.   , -0.707, 0],\n",
    "       [ 0.707,  0.   ,  0.707, -6.4],\n",
    "       [ 0.   ,  1.   ,  0., 1   ],\n",
    "              [0,0,0,1]])"
   ]
  },
  {
   "cell_type": "code",
   "execution_count": 177,
   "metadata": {},
   "outputs": [],
   "source": [
    "ball_point_ = np.matrix([[-2.69],\n",
    "                  [-2.79],\n",
    "                  [2.4],\n",
    "                       [1]])"
   ]
  },
  {
   "cell_type": "code",
   "execution_count": 194,
   "metadata": {},
   "outputs": [],
   "source": [
    "k_ = np.matrix([[337.2084411,   0.       , 320.306834,0 ],\n",
    "                [  0.       , 337.2084411, 240.879174,0 ],\n",
    "                [  0.       ,   0.       ,   1.     ,0  ],\n",
    "               [0,0,0,1]])"
   ]
  },
  {
   "cell_type": "code",
   "execution_count": 2,
   "metadata": {},
   "outputs": [],
   "source": [
    "def cal_heigth(depth, x_pos, y_pos):\n",
    "    \n",
    "    x = x_pos - 320\n",
    "    y = y_pos - 240\n",
    "    \n",
    "    pix_length = np.sqrt(x**2 + 337**2)\n",
    "    theta_pix = np.arctan(abs(y) / pix_length)\n",
    "    \n",
    "    return depth * np.sin(theta_pix)\n"
   ]
  },
  {
   "cell_type": "code",
   "execution_count": 14,
   "metadata": {},
   "outputs": [
    {
     "data": {
      "text/plain": [
       "1.2626868831837847"
      ]
     },
     "execution_count": 14,
     "metadata": {},
     "output_type": "execute_result"
    }
   ],
   "source": [
    "cal_heigth(8.62, 341, 190)"
   ]
  },
  {
   "cell_type": "code",
   "execution_count": 35,
   "metadata": {},
   "outputs": [
    {
     "data": {
      "text/plain": [
       "0.02545787108145533"
      ]
     },
     "execution_count": 35,
     "metadata": {},
     "output_type": "execute_result"
    }
   ],
   "source": [
    "np.sqrt(sum((real - esti)**2)) / len(real - esti)"
   ]
  },
  {
   "cell_type": "code",
   "execution_count": 36,
   "metadata": {},
   "outputs": [
    {
     "data": {
      "text/plain": [
       "0.004799999999999971"
      ]
     },
     "execution_count": 36,
     "metadata": {},
     "output_type": "execute_result"
    }
   ],
   "source": [
    "(sum((real - esti))) / len(real - esti)"
   ]
  },
  {
   "cell_type": "code",
   "execution_count": 15,
   "metadata": {},
   "outputs": [
    {
     "name": "stdout",
     "output_type": "stream",
     "text": [
      "0.6545\n",
      "1.309\n",
      "1.9634999999999998\n",
      "2.618\n",
      "3.2725\n"
     ]
    }
   ],
   "source": [
    "rpm = [500, 1000, 1500, 2000, 2500]\n",
    "\n",
    "for i in rpm:\n",
    "    print((i * 0.10472) / 80)"
   ]
  },
  {
   "cell_type": "code",
   "execution_count": 2,
   "metadata": {},
   "outputs": [
    {
     "name": "stdout",
     "output_type": "stream",
     "text": [
      "[nan  7.]\n"
     ]
    }
   ],
   "source": [
    "var = np.array([None, 7.0], dtype=np.float16)\n",
    "print(var)"
   ]
  },
  {
   "cell_type": "code",
   "execution_count": 4,
   "metadata": {},
   "outputs": [
    {
     "data": {
      "text/plain": [
       "nan"
      ]
     },
     "execution_count": 4,
     "metadata": {},
     "output_type": "execute_result"
    }
   ],
   "source": [
    "np.mean(var)"
   ]
  },
  {
   "cell_type": "code",
   "execution_count": 5,
   "metadata": {},
   "outputs": [
    {
     "data": {
      "text/plain": [
       "array([ True, False])"
      ]
     },
     "execution_count": 5,
     "metadata": {},
     "output_type": "execute_result"
    }
   ],
   "source": [
    "np.isnan(var)"
   ]
  },
  {
   "cell_type": "code",
   "execution_count": 7,
   "metadata": {
    "scrolled": true
   },
   "outputs": [
    {
     "name": "stdout",
     "output_type": "stream",
     "text": [
      "[0, 0]\n"
     ]
    }
   ],
   "source": [
    "print(min([[0, 0], [395, 131]]))"
   ]
  },
  {
   "cell_type": "code",
   "execution_count": 65,
   "metadata": {},
   "outputs": [],
   "source": [
    "a = [1.9110087607998396, 2.054286575684662]\n",
    "b = [7.572891, 12.82606]"
   ]
  },
  {
   "cell_type": "code",
   "execution_count": 70,
   "metadata": {},
   "outputs": [],
   "source": [
    "def cal_ball_position(ball_height_list, ball_depth_list):\n",
    "    \n",
    "    height = sum(ball_height_list) / 2\n",
    "    \n",
    "    th_L = np.arccos((ball_depth_list[1] ** 2 - 12.8 ** 2 - ball_depth_list[0]**2) / (2 * 12.8 * ball_depth_list[0]))\n",
    "    th_R = np.arccos((ball_depth_list[0] ** 2 - 12.8 ** 2 - ball_depth_list[1]**2) / (2 * 12.8 * ball_depth_list[1]))\n",
    "    \n",
    "    ball2net_length_x = ball_depth_list[0] * np.sin(th_L)\n",
    "    ball2net_length_y = ball_depth_list[0] * np.cos(th_L)\n",
    "    \n",
    "    #ball2net_length_x = ball_depth_list[1] * np.sin(th_R)\n",
    "    #ball2net_length_y = ball_depth_list[1] * np.cos(th_R)\n",
    "    \n",
    "    \n",
    "    ball_plate_angle = np.sin(height / ball2net_length_x)\n",
    "    \n",
    "    ball_position = ball2net_length_x * np.cos(ball_plate_angle)\n",
    "    \n",
    "    print(np.rad2deg(th_L) )\n",
    "    print(np.rad2deg(th_R) )\n",
    "    \n",
    "    print(ball_depth_list[0] * np.sin(th_L))\n",
    "    print(ball_depth_list[1] * np.sin(th_R))\n",
    "    \n",
    "    print(ball_depth_list[0] * np.cos(th_L))\n",
    "    print(ball_depth_list[1] * np.cos(th_R))\n",
    "    \n",
    "    print(np.rad2deg(ball_plate_angle))\n",
    "    print(-ball_position, 6.4 + ball2net_length_y)\n",
    "    \n",
    "    \n",
    "    \n",
    "    #th_R = \n",
    "    \n",
    "    \n"
   ]
  },
  {
   "cell_type": "code",
   "execution_count": 71,
   "metadata": {},
   "outputs": [
    {
     "name": "stdout",
     "output_type": "stream",
     "text": [
      "106.99997751983467\n",
      "145.62332085833663\n",
      "7.241992548397297\n",
      "7.241992548397296\n",
      "-2.2140962099328525\n",
      "-10.585903790067151\n",
      "15.490712029629778\n",
      "-6.978918199155788 4.185903790067147\n"
     ]
    }
   ],
   "source": [
    "cal_ball_position(a,b)"
   ]
  },
  {
   "cell_type": "code",
   "execution_count": 26,
   "metadata": {},
   "outputs": [
    {
     "data": {
      "text/plain": [
       "-0.7622810143329566"
      ]
     },
     "execution_count": 26,
     "metadata": {},
     "output_type": "execute_result"
    }
   ],
   "source": [
    "(b[1] ** 2 - 12.8 ** 2 - b[0]**2) / (2 * 12.8 * b[0])"
   ]
  },
  {
   "cell_type": "code",
   "execution_count": 66,
   "metadata": {},
   "outputs": [
    {
     "name": "stdout",
     "output_type": "stream",
     "text": [
      "[[11.09451468]]\n"
     ]
    }
   ],
   "source": [
    "point = np.matrix([[-9.96],\n",
    "                 [1.616],\n",
    "                 [0]])\n",
    "\n",
    "\n",
    "print(np.sqrt(point[0] **2 + (point[1] - (-6.4)) ** 2 + (point[2] - 1) ** 2))"
   ]
  },
  {
   "cell_type": "code",
   "execution_count": 3,
   "metadata": {},
   "outputs": [
    {
     "data": {
      "text/plain": [
       "14.430246342922675"
      ]
     },
     "execution_count": 3,
     "metadata": {},
     "output_type": "execute_result"
    }
   ],
   "source": [
    "np.rad2deg(0.2518553105578714)"
   ]
  },
  {
   "cell_type": "code",
   "execution_count": 6,
   "metadata": {},
   "outputs": [
    {
     "data": {
      "text/plain": [
       "9.40444465318028"
      ]
     },
     "execution_count": 6,
     "metadata": {},
     "output_type": "execute_result"
    }
   ],
   "source": [
    "2.42124108441863 / np.tan(0.2518553105578714)\n",
    "                          \n",
    "2.4199435731404417 / np.tan(0.2518553105578714)"
   ]
  },
  {
   "cell_type": "code",
   "execution_count": 8,
   "metadata": {},
   "outputs": [
    {
     "data": {
      "text/plain": [
       "0.0038253126777132796"
      ]
     },
     "execution_count": 8,
     "metadata": {},
     "output_type": "execute_result"
    }
   ],
   "source": [
    "((9.40948707364745) ** 2 -  (9.40444465318028) ** 2) / 24.8"
   ]
  },
  {
   "cell_type": "code",
   "execution_count": 104,
   "metadata": {},
   "outputs": [],
   "source": [
    "th_L = 0.3446797139381855\n",
    "th_R = 0.16516572590879303\n",
    "\n",
    "h_L = 2.52 - 1\n",
    "h_R = 2.52 - 1\n",
    "\n",
    "s_L = h_L / np.tan(th_L)\n",
    "s_R = h_R / np.tan(th_R)"
   ]
  },
  {
   "cell_type": "code",
   "execution_count": 105,
   "metadata": {},
   "outputs": [
    {
     "name": "stdout",
     "output_type": "stream",
     "text": [
      "4.233854353054301 9.119041290755295\n"
     ]
    }
   ],
   "source": [
    "print(s_L,s_R)"
   ]
  },
  {
   "cell_type": "code",
   "execution_count": 95,
   "metadata": {},
   "outputs": [],
   "source": [
    "th_L_1 = np.arccos((s_L ** 2 + 12.8 ** 2 - s_R**2) / (2 * 12.8 * s_L))\n",
    "th_R_1 = np.arccos((s_R ** 2 + 12.8 ** 2 - s_L**2) / (2 * 12.8 * s_R))"
   ]
  },
  {
   "cell_type": "code",
   "execution_count": 99,
   "metadata": {},
   "outputs": [
    {
     "data": {
      "text/plain": [
       "2.5481012257665285"
      ]
     },
     "execution_count": 99,
     "metadata": {},
     "output_type": "execute_result"
    }
   ],
   "source": [
    "6.4 - (s_L * np.cos(th_L_1))"
   ]
  },
  {
   "cell_type": "code",
   "execution_count": 100,
   "metadata": {},
   "outputs": [
    {
     "data": {
      "text/plain": [
       "2.54810122576653"
      ]
     },
     "execution_count": 100,
     "metadata": {},
     "output_type": "execute_result"
    }
   ],
   "source": [
    "s_R * np.cos(th_R_1) - 6.4"
   ]
  },
  {
   "cell_type": "code",
   "execution_count": 101,
   "metadata": {},
   "outputs": [
    {
     "data": {
      "text/plain": [
       "1.7573839978603238"
      ]
     },
     "execution_count": 101,
     "metadata": {},
     "output_type": "execute_result"
    }
   ],
   "source": [
    "s_L * np.sin(th_L_1)"
   ]
  },
  {
   "cell_type": "code",
   "execution_count": 102,
   "metadata": {},
   "outputs": [
    {
     "data": {
      "text/plain": [
       "1.757383997860318"
      ]
     },
     "execution_count": 102,
     "metadata": {},
     "output_type": "execute_result"
    }
   ],
   "source": [
    "s_R * np.sin(th_R_1)"
   ]
  },
  {
   "cell_type": "code",
   "execution_count": 107,
   "metadata": {},
   "outputs": [],
   "source": [
    "s_L  = 4.654203 / np.cos(th_L)\n",
    "s_R = 8.919018 / np.cos(th_R)"
   ]
  },
  {
   "cell_type": "code",
   "execution_count": 108,
   "metadata": {},
   "outputs": [
    {
     "name": "stdout",
     "output_type": "stream",
     "text": [
      "4.9450525771252165 9.042070443170804\n"
     ]
    }
   ],
   "source": [
    "print(s_L, s_R)"
   ]
  },
  {
   "cell_type": "code",
   "execution_count": 81,
   "metadata": {},
   "outputs": [],
   "source": [
    "th_L_1 = np.arccos((s_L ** 2 + 12.8 ** 2 - s_R**2) / (2 * 12.8 * s_L))\n",
    "th_R_1 = np.arccos((s_R ** 2 + 12.8 ** 2 - s_L**2) / (2 * 12.8 * s_R))"
   ]
  },
  {
   "cell_type": "code",
   "execution_count": 82,
   "metadata": {},
   "outputs": [
    {
     "data": {
      "text/plain": [
       "0.5706518693866471"
      ]
     },
     "execution_count": 82,
     "metadata": {},
     "output_type": "execute_result"
    }
   ],
   "source": [
    "th_L_1"
   ]
  },
  {
   "cell_type": "code",
   "execution_count": 83,
   "metadata": {},
   "outputs": [
    {
     "data": {
      "text/plain": [
       "2.671222177824756"
      ]
     },
     "execution_count": 83,
     "metadata": {},
     "output_type": "execute_result"
    }
   ],
   "source": [
    "s_L * np.sin(th_L_1)"
   ]
  },
  {
   "cell_type": "code",
   "execution_count": 89,
   "metadata": {},
   "outputs": [
    {
     "data": {
      "text/plain": [
       "2.671222177824756"
      ]
     },
     "execution_count": 89,
     "metadata": {},
     "output_type": "execute_result"
    }
   ],
   "source": [
    "s_L * np.sin(th_L_1)"
   ]
  },
  {
   "cell_type": "code",
   "execution_count": 88,
   "metadata": {},
   "outputs": [
    {
     "data": {
      "text/plain": [
       "2.2384958167472773"
      ]
     },
     "execution_count": 88,
     "metadata": {},
     "output_type": "execute_result"
    }
   ],
   "source": [
    "6.4 - s_L * np.cos(th_L_1)"
   ]
  },
  {
   "cell_type": "code",
   "execution_count": 90,
   "metadata": {},
   "outputs": [
    {
     "data": {
      "text/plain": [
       "2.671222177824753"
      ]
     },
     "execution_count": 90,
     "metadata": {},
     "output_type": "execute_result"
    }
   ],
   "source": [
    "s_R * np.sin(th_R_1)"
   ]
  },
  {
   "cell_type": "code",
   "execution_count": 92,
   "metadata": {},
   "outputs": [
    {
     "data": {
      "text/plain": [
       "2.238495816747278"
      ]
     },
     "execution_count": 92,
     "metadata": {},
     "output_type": "execute_result"
    }
   ],
   "source": [
    "s_R * np.cos(th_R_1) - 6.4"
   ]
  },
  {
   "cell_type": "code",
   "execution_count": 11,
   "metadata": {},
   "outputs": [
    {
     "name": "stdout",
     "output_type": "stream",
     "text": [
      "[[8.67582273]]\n",
      "[[4.82720416]]\n"
     ]
    }
   ],
   "source": [
    "point = np.matrix([[-1.27],[2.03],[2.61]])\n",
    "\n",
    "print(np.sqrt(point[0] **2 + (point[1] - (-6.4)) ** 2 + (point[2] - 1) ** 2))\n",
    "print(np.sqrt(point[0] **2 + (point[1] - (6.4)) ** 2 + (point[2] - 1) ** 2))"
   ]
  },
  {
   "cell_type": "code",
   "execution_count": 122,
   "metadata": {},
   "outputs": [
    {
     "data": {
      "text/plain": [
       "143.82716049382717"
      ]
     },
     "execution_count": 122,
     "metadata": {},
     "output_type": "execute_result"
    }
   ],
   "source": [
    "(11.885 + (-6.526) ) / 0.03726"
   ]
  },
  {
   "cell_type": "code",
   "execution_count": 142,
   "metadata": {},
   "outputs": [],
   "source": [
    "real_point_list = [-2.991, -0.087, 2.552]\n",
    "predict_point_list = [-1.799, -0.065, 2.592]"
   ]
  },
  {
   "cell_type": "code",
   "execution_count": 143,
   "metadata": {},
   "outputs": [],
   "source": [
    "real_point_list[0] = np.round((11.885 + real_point_list[0]) / 0.03726)\n",
    "predict_point_list[0] = np.round((11.885 + predict_point_list[0]) / 0.03726)\n",
    "\n",
    "real_point_list[1] = np.round((5.485 - real_point_list[1]) / 0.03656)\n",
    "predict_point_list[1] = np.round((5.485 - predict_point_list[1]) / 0.03656)\n",
    "real_point_xy = real_point_list[0:2]\n",
    "predict_point = predict_point_list[0:2]"
   ]
  },
  {
   "cell_type": "code",
   "execution_count": 6,
   "metadata": {},
   "outputs": [],
   "source": [
    "ball_height_list = [2.231228127949282, 1.813267052603247]\n",
    "ball_depth_list = [6.5851097, 2.4148982]"
   ]
  },
  {
   "cell_type": "code",
   "execution_count": 9,
   "metadata": {},
   "outputs": [],
   "source": [
    "def cal_ball_position(ball_height_list, ball_distance_list):\n",
    "\n",
    "    height = sum(ball_height_list[:2]) / 2 - 1\n",
    "\n",
    "    th_L = np.arccos((ball_distance_list[0] ** 2 + 12.8 ** 2 - ball_distance_list[1]**2) / (2 * 12.8 * ball_distance_list[0]))\n",
    "    #th_R = np.arccos((ball_depth_list[1] ** 2 + 12.8 ** 2 - ball_depth_list[0]**2) / (2 * 12.8 * ball_depth_list[1]))\n",
    "\n",
    "    ball2net_length_x_L = ball_distance_list[0] * np.sin(th_L)\n",
    "    ball_position_y_L = ball_distance_list[0] * np.cos(th_L)\n",
    "\n",
    "    ball_plate_angle_L = np.sin(height / ball2net_length_x_L)\n",
    "\n",
    "    ball_position_x_L = ball2net_length_x_L * np.cos(ball_plate_angle_L)\n",
    "\n",
    "    #ball2net_length_x_R = ball_depth_list[1] * np.sin(th_R)\n",
    "    #ball_position_y_R = ball_depth_list[1] * np.cos(th_R)\n",
    "\n",
    "    #ball_plate_angle_R = np.sin(height / ball2net_length_x_R)\n",
    "\n",
    "    #ball_position_x_R = ball2net_length_x_R * np.cos(ball_plate_angle_R)\n",
    "\n",
    "    return [-ball_position_x_L, ball_position_y_L - 6.4, height + 1]\n"
   ]
  },
  {
   "cell_type": "code",
   "execution_count": 10,
   "metadata": {},
   "outputs": [
    {
     "name": "stdout",
     "output_type": "stream",
     "text": [
      "nan nan\n"
     ]
    },
    {
     "name": "stderr",
     "output_type": "stream",
     "text": [
      "/home/drcl_yang/anaconda3/envs/yolov5/lib/python3.6/site-packages/ipykernel_launcher.py:5: RuntimeWarning: invalid value encountered in arccos\n",
      "  \"\"\"\n",
      "/home/drcl_yang/anaconda3/envs/yolov5/lib/python3.6/site-packages/ipykernel_launcher.py:6: RuntimeWarning: invalid value encountered in arccos\n",
      "  \n"
     ]
    },
    {
     "data": {
      "text/plain": [
       "([nan, nan, 2.0222475902762644], [nan, nan, 2.0222475902762644])"
      ]
     },
     "execution_count": 10,
     "metadata": {},
     "output_type": "execute_result"
    }
   ],
   "source": [
    "cal_ball_position(ball_height_list, ball_depth_list)"
   ]
  },
  {
   "cell_type": "code",
   "execution_count": 19,
   "metadata": {},
   "outputs": [
    {
     "data": {
      "text/plain": [
       "9.059565438447809"
      ]
     },
     "execution_count": 19,
     "metadata": {},
     "output_type": "execute_result"
    }
   ],
   "source": [
    "height = 1.473\n",
    "\n",
    "height / np.sin(0.16331560445944124)\n"
   ]
  },
  {
   "cell_type": "code",
   "execution_count": 20,
   "metadata": {},
   "outputs": [
    {
     "data": {
      "text/plain": [
       "7.050055652976752"
      ]
     },
     "execution_count": 20,
     "metadata": {},
     "output_type": "execute_result"
    }
   ],
   "source": [
    "height / np.sin(0.21048530735523446)\n"
   ]
  },
  {
   "cell_type": "code",
   "execution_count": 5,
   "metadata": {},
   "outputs": [
    {
     "data": {
      "text/plain": [
       "array([[2.5e-05, 5.0e-04, 0.0e+00, 0.0e+00, 0.0e+00, 0.0e+00],\n",
       "       [5.0e-04, 1.0e-02, 0.0e+00, 0.0e+00, 0.0e+00, 0.0e+00],\n",
       "       [0.0e+00, 0.0e+00, 2.5e-05, 5.0e-04, 0.0e+00, 0.0e+00],\n",
       "       [0.0e+00, 0.0e+00, 5.0e-04, 1.0e-02, 0.0e+00, 0.0e+00],\n",
       "       [0.0e+00, 0.0e+00, 0.0e+00, 0.0e+00, 2.5e-05, 5.0e-04],\n",
       "       [0.0e+00, 0.0e+00, 0.0e+00, 0.0e+00, 5.0e-04, 1.0e-02]])"
      ]
     },
     "execution_count": 5,
     "metadata": {},
     "output_type": "execute_result"
    }
   ],
   "source": [
    "Q_discrete_white_noise(2, dt=0.1, var=1., block_size=3)"
   ]
  },
  {
   "cell_type": "code",
   "execution_count": 7,
   "metadata": {},
   "outputs": [
    {
     "data": {
      "text/plain": [
       "array([[2.5e-09, 5.0e-08, 0.0e+00, 0.0e+00, 0.0e+00, 0.0e+00],\n",
       "       [5.0e-08, 1.0e-06, 0.0e+00, 0.0e+00, 0.0e+00, 0.0e+00],\n",
       "       [0.0e+00, 0.0e+00, 2.5e-09, 5.0e-08, 0.0e+00, 0.0e+00],\n",
       "       [0.0e+00, 0.0e+00, 5.0e-08, 1.0e-06, 0.0e+00, 0.0e+00],\n",
       "       [0.0e+00, 0.0e+00, 0.0e+00, 0.0e+00, 2.5e-09, 5.0e-08],\n",
       "       [0.0e+00, 0.0e+00, 0.0e+00, 0.0e+00, 5.0e-08, 1.0e-06]])"
      ]
     },
     "execution_count": 7,
     "metadata": {},
     "output_type": "execute_result"
    }
   ],
   "source": [
    "Q_discrete_white_noise(2, dt = 0.1 , var = 0.01**2, block_size = 3)"
   ]
  },
  {
   "cell_type": "code",
   "execution_count": 238,
   "metadata": {},
   "outputs": [],
   "source": [
    "centroid = [100, 100, 100]\n",
    "\n",
    "uk = UK_filter(dt = 0.03, \n",
    "                x_std_meas = 0.01, \n",
    "                y_std_meas = 0.01,\n",
    "                z_std_meas = 0.01,\n",
    "                init_x = centroid[0],\n",
    "                init_y = centroid[1],\n",
    "                init_z = centroid[2])"
   ]
  },
  {
   "cell_type": "code",
   "execution_count": 255,
   "metadata": {},
   "outputs": [],
   "source": [
    "uk.f.update([30,20,10])"
   ]
  },
  {
   "cell_type": "code",
   "execution_count": 256,
   "metadata": {},
   "outputs": [
    {
     "data": {
      "text/plain": [
       "array([-249.96503459,  -10.48951048, -299.96003953,  -11.98801198,\n",
       "       -349.93740668,  -13.77985263])"
      ]
     },
     "execution_count": 256,
     "metadata": {},
     "output_type": "execute_result"
    }
   ],
   "source": [
    "uk.f.x"
   ]
  },
  {
   "cell_type": "code",
   "execution_count": 257,
   "metadata": {},
   "outputs": [
    {
     "data": {
      "text/plain": [
       "[30, 20, 10]"
      ]
     },
     "execution_count": 257,
     "metadata": {},
     "output_type": "execute_result"
    }
   ],
   "source": [
    "uk.f.z"
   ]
  },
  {
   "cell_type": "code",
   "execution_count": 263,
   "metadata": {},
   "outputs": [],
   "source": [
    "kf_pred_dict = OrderedDict()\n",
    "\n",
    "kf_pred_dict[0] = [0,0,0]"
   ]
  },
  {
   "cell_type": "code",
   "execution_count": 264,
   "metadata": {},
   "outputs": [
    {
     "data": {
      "text/plain": [
       "odict_items([(0, [0, 0, 0])])"
      ]
     },
     "execution_count": 264,
     "metadata": {},
     "output_type": "execute_result"
    }
   ],
   "source": [
    "kf_pred_dict.items()"
   ]
  },
  {
   "cell_type": "code",
   "execution_count": 267,
   "metadata": {},
   "outputs": [
    {
     "name": "stdout",
     "output_type": "stream",
     "text": [
      "0 [0, 0, 0]\n"
     ]
    }
   ],
   "source": [
    "for a, b in kf_pred_dict.items():\n",
    "    print(a, b)"
   ]
  },
  {
   "cell_type": "code",
   "execution_count": 8,
   "metadata": {},
   "outputs": [],
   "source": [
    "def fx(x, dt):\n",
    "    # state transition function - predict next state based\n",
    "    # on constant velocity model x = vt + x_0\n",
    "    \n",
    "\n",
    "    #[x, x', x'', y, y', y'', z, z', z'']\n",
    "\n",
    "    F = np.matrix([[1.0, 0.0, 0.0, dt, 0.0, 0.0, 1/2.0*dt**2, 0.0, 0.0],    #x\n",
    "                    [0.0, 1.0, 0.0, 0.0,  dt, 0.0, 0.0, 1/2.0*dt**2, 0.0],  #y\n",
    "                    [0.0, 0.0, 1.0, 0.0, 0.0,  dt, 0.0, 0.0, 1/2.0*dt**2],  #z\n",
    "                    [0.0, 0.0, 0.0, 1.0, 0.0, 0.0,  dt, 0.0, 0.0],          #x'\n",
    "                    [0.0, 0.0, 0.0, 0.0, 1.0, 0.0, 0.0,  dt, 0.0],          #y'\n",
    "                    [0.0, 0.0, 0.0, 0.0, 0.0, 1.0, 0.0, 0.0,  dt],          #z'\n",
    "                    [0.0, 0.0, 0.0, 0.0, 0.0, 0.0, 1.0, 0.0, 0.0],          #x''\n",
    "                    [0.0, 0.0, 0.0, 0.0, 0.0, 0.0, 0.0, 1.0, 0.0],          #y''\n",
    "                    [0.0, 0.0, 0.0, 0.0, 0.0, 0.0, 0.0, 0.0, -9.8]])         #z''\n",
    "            \n",
    "    #B = np.array([0, 0, 0, 0, (dt**2)/2, dt])   #[x, x', y, y', z, z']\n",
    "\n",
    "    #u = np.array([[-9.8]]) # g\n",
    "    \n",
    "    return np.dot(F, x) \n",
    "\n",
    "def hx(x):\n",
    "    # measurement function - convert state into a measurement\n",
    "    # where measurements are [x_pos, y_pos, z_pos]\n",
    "\n",
    "    return x[[0, 1, 2]]\n",
    "\n",
    "class UK_filter():\n",
    "\n",
    "    def __init__(self, dt, x_std_meas, y_std_meas, z_std_meas, init_x, init_y, init_z):  \n",
    "    \n",
    "        self.init_x = init_x \n",
    "        self.init_y = init_y\n",
    "        self.init_z = init_z\n",
    "        self.dt = dt\n",
    "        self.z_std = 0.1\n",
    "\n",
    "        self.sigmas_points = MerweScaledSigmaPoints(9, alpha=.1, beta=2., kappa=1)\n",
    "        self.f = UnscentedKalmanFilter(dim_x=9, dim_z=9, dt=self.dt, fx=fx, hx=hx, points=self.sigmas_points)\n",
    "\n",
    "        self.f.x = np.array([self.init_x, self.init_y, self.init_z, 0, 0, 0, 0, 0, 0]) \n",
    "\n",
    "        self.f.P = np.eye(9)\n",
    "\n",
    "        #self.f.Q = Q_discrete_white_noise(3, dt = self.dt, var = 0.1**2, block_size = 3)\n",
    "        \n",
    "        self.f.Q = np.array([[(dt**6)/36, 0, 0, (dt**5)/12, 0, 0, (dt**4)/6, 0, 0],\n",
    "                               [0, (dt**6)/36, 0, 0, (dt**5)/12, 0, 0, (dt**4)/6, 0],\n",
    "                               [0, 0, (dt**6)/36, 0, 0, (dt**5)/12, 0, 0, (dt**4)/6],\n",
    "                               [(dt**5)/12, 0, 0, (dt**4)/4, 0, 0, (dt**3)/2, 0, 0],\n",
    "                               [0, (dt**5)/12, 0, 0, (dt**4)/4, 0, 0, (dt**3)/2, 0],\n",
    "                               [0, 0, (dt**5)/12, 0, 0, (dt**4)/4, 0, 0, (dt**3)/2],\n",
    "                               [(dt**4)/6, 0, 0, (dt**3)/2, 0, 0, (dt**2), 0, 0],\n",
    "                               [0, (dt**4)/6, 0, 0, (dt**3)/2, 0, 0, (dt**2), 0],\n",
    "                               [0, 0, (dt**4)/6, 0, 0, (dt**3)/2, 0, 0, (dt**2)]]) * 0.1**2\n",
    "        \n",
    "        self.f.R = np.array([[x_std_meas**2,0,0],\n",
    "                            [0, y_std_meas**2,0],\n",
    "                            [0, 0, y_std_meas**2]])\n",
    "\n",
    "        self.f.predict()\n"
   ]
  },
  {
   "cell_type": "code",
   "execution_count": 9,
   "metadata": {},
   "outputs": [],
   "source": [
    "centroid = [100, 100, 100]\n",
    "\n",
    "uk = UK_filter(dt = 0.03, \n",
    "                x_std_meas = 0.01, \n",
    "                y_std_meas = 0.1,\n",
    "                z_std_meas = 0.1,\n",
    "                init_x = centroid[0],\n",
    "                init_y = centroid[1],\n",
    "                init_z = centroid[2])"
   ]
  },
  {
   "cell_type": "code",
   "execution_count": 11,
   "metadata": {},
   "outputs": [],
   "source": [
    "uk.f.update([30,20,10])"
   ]
  },
  {
   "cell_type": "code",
   "execution_count": 5,
   "metadata": {},
   "outputs": [
    {
     "data": {
      "text/plain": [
       "array([30.00699301, 20.00799201, 10.00899101, -2.09884573, -2.39868083,\n",
       "       -2.69851594, -0.03146853, -0.03596403,  0.39650342])"
      ]
     },
     "execution_count": 5,
     "metadata": {},
     "output_type": "execute_result"
    }
   ],
   "source": [
    "uk.f.x"
   ]
  },
  {
   "cell_type": "code",
   "execution_count": 7,
   "metadata": {
    "collapsed": true
   },
   "outputs": [
    {
     "data": {
      "text/plain": [
       "array([[2.025e-09, 1.350e-07, 4.500e-06, 0.000e+00, 0.000e+00, 0.000e+00,\n",
       "        0.000e+00, 0.000e+00, 0.000e+00],\n",
       "       [1.350e-07, 9.000e-06, 3.000e-04, 0.000e+00, 0.000e+00, 0.000e+00,\n",
       "        0.000e+00, 0.000e+00, 0.000e+00],\n",
       "       [4.500e-06, 3.000e-04, 1.000e-02, 0.000e+00, 0.000e+00, 0.000e+00,\n",
       "        0.000e+00, 0.000e+00, 0.000e+00],\n",
       "       [0.000e+00, 0.000e+00, 0.000e+00, 2.025e-09, 1.350e-07, 4.500e-06,\n",
       "        0.000e+00, 0.000e+00, 0.000e+00],\n",
       "       [0.000e+00, 0.000e+00, 0.000e+00, 1.350e-07, 9.000e-06, 3.000e-04,\n",
       "        0.000e+00, 0.000e+00, 0.000e+00],\n",
       "       [0.000e+00, 0.000e+00, 0.000e+00, 4.500e-06, 3.000e-04, 1.000e-02,\n",
       "        0.000e+00, 0.000e+00, 0.000e+00],\n",
       "       [0.000e+00, 0.000e+00, 0.000e+00, 0.000e+00, 0.000e+00, 0.000e+00,\n",
       "        2.025e-09, 1.350e-07, 4.500e-06],\n",
       "       [0.000e+00, 0.000e+00, 0.000e+00, 0.000e+00, 0.000e+00, 0.000e+00,\n",
       "        1.350e-07, 9.000e-06, 3.000e-04],\n",
       "       [0.000e+00, 0.000e+00, 0.000e+00, 0.000e+00, 0.000e+00, 0.000e+00,\n",
       "        4.500e-06, 3.000e-04, 1.000e-02]])"
      ]
     },
     "execution_count": 7,
     "metadata": {},
     "output_type": "execute_result"
    }
   ],
   "source": [
    "uk.f.Q"
   ]
  },
  {
   "cell_type": "code",
   "execution_count": 12,
   "metadata": {
    "collapsed": true
   },
   "outputs": [
    {
     "data": {
      "text/plain": [
       "array([[2.025e-13, 0.000e+00, 0.000e+00, 2.025e-11, 0.000e+00, 0.000e+00,\n",
       "        1.350e-09, 0.000e+00, 0.000e+00],\n",
       "       [0.000e+00, 2.025e-13, 0.000e+00, 0.000e+00, 2.025e-11, 0.000e+00,\n",
       "        0.000e+00, 1.350e-09, 0.000e+00],\n",
       "       [0.000e+00, 0.000e+00, 2.025e-13, 0.000e+00, 0.000e+00, 2.025e-11,\n",
       "        0.000e+00, 0.000e+00, 1.350e-09],\n",
       "       [2.025e-11, 0.000e+00, 0.000e+00, 2.025e-09, 0.000e+00, 0.000e+00,\n",
       "        1.350e-07, 0.000e+00, 0.000e+00],\n",
       "       [0.000e+00, 2.025e-11, 0.000e+00, 0.000e+00, 2.025e-09, 0.000e+00,\n",
       "        0.000e+00, 1.350e-07, 0.000e+00],\n",
       "       [0.000e+00, 0.000e+00, 2.025e-11, 0.000e+00, 0.000e+00, 2.025e-09,\n",
       "        0.000e+00, 0.000e+00, 1.350e-07],\n",
       "       [1.350e-09, 0.000e+00, 0.000e+00, 1.350e-07, 0.000e+00, 0.000e+00,\n",
       "        9.000e-06, 0.000e+00, 0.000e+00],\n",
       "       [0.000e+00, 1.350e-09, 0.000e+00, 0.000e+00, 1.350e-07, 0.000e+00,\n",
       "        0.000e+00, 9.000e-06, 0.000e+00],\n",
       "       [0.000e+00, 0.000e+00, 1.350e-09, 0.000e+00, 0.000e+00, 1.350e-07,\n",
       "        0.000e+00, 0.000e+00, 9.000e-06]])"
      ]
     },
     "execution_count": 12,
     "metadata": {},
     "output_type": "execute_result"
    }
   ],
   "source": [
    "uk.f.Q"
   ]
  },
  {
   "cell_type": "code",
   "execution_count": 28,
   "metadata": {},
   "outputs": [
    {
     "name": "stdout",
     "output_type": "stream",
     "text": [
      "[[-2.34618559e-01 -4.02991878e+00  8.04024001e+02]\n",
      " [ 2.38399528e-01 -4.02769729e+00  6.53202159e+02]\n",
      " [ 7.35523219e-06 -6.21379005e-03  1.00000000e+00]]\n",
      "[[ 2.26355288e-01 -3.96787505e+00  6.46430758e+02]\n",
      " [ 2.26086351e-01  3.31465582e-01 -2.04673291e+02]\n",
      " [-2.51029938e-05 -6.15316812e-03  1.00000000e+00]]\n"
     ]
    }
   ],
   "source": [
    "\n",
    "camera_L_points = np.float32([[26,198],[318,181],[639,200],[177,316]])\n",
    "camera_R_points = np.float32([[317,181],[615,198],[442,316],[0,200]])\n",
    "\n",
    "court_img_L_points = np.float32([[0,600],[0,0],[638,0],[531,600]])\n",
    "court_img_R_points = np.float32([[0,600],[0,0],[531,0],[638,600]])\n",
    "\n",
    "\n",
    "\n",
    "h_L = cv2.getPerspectiveTransform(camera_L_points, court_img_L_points)\n",
    "h_R = cv2.getPerspectiveTransform(camera_R_points, court_img_R_points)\n",
    "\n",
    "print(h_L)\n",
    "print(h_R)"
   ]
  },
  {
   "cell_type": "code",
   "execution_count": 47,
   "metadata": {},
   "outputs": [],
   "source": [
    "a = h_L @ np.array([305,195,1]).reshape(3,1)"
   ]
  },
  {
   "cell_type": "code",
   "execution_count": 63,
   "metadata": {},
   "outputs": [
    {
     "data": {
      "text/plain": [
       "array([346.51853345])"
      ]
     },
     "execution_count": 63,
     "metadata": {},
     "output_type": "execute_result"
    }
   ],
   "source": [
    "a[0]/a[2]"
   ]
  },
  {
   "cell_type": "code",
   "execution_count": 64,
   "metadata": {},
   "outputs": [
    {
     "data": {
      "text/plain": [
       "array([309.98916497])"
      ]
     },
     "execution_count": 64,
     "metadata": {},
     "output_type": "execute_result"
    }
   ],
   "source": [
    "a[1]/a[2]"
   ]
  },
  {
   "cell_type": "code",
   "execution_count": 62,
   "metadata": {},
   "outputs": [],
   "source": [
    "a = h_R @ np.array([926 - 640, 200,1]).reshape(3,1)"
   ]
  },
  {
   "cell_type": "code",
   "execution_count": 85,
   "metadata": {
    "scrolled": true
   },
   "outputs": [
    {
     "name": "stdout",
     "output_type": "stream",
     "text": [
      "8.548994092874318\n",
      "9.02957917070336\n",
      "9.205938300901218\n"
     ]
    }
   ],
   "source": [
    "point = np.matrix([[-8.01],\n",
    "                 [4.11],\n",
    "                 [0]])\n",
    "point = [-6.02, -0.33, 1]\n",
    "[5.930308, 5.9304457, 11.355419]\n",
    "\n",
    "\n",
    "print(np.sqrt(point[0] **2 + (point[1] - (-6.4)) ** 2 + (point[2] - 1) ** 2))\n",
    "print(np.sqrt(point[0] **2 + (point[1] - (6.4)) ** 2 + (point[2] - 1) ** 2))\n",
    "print(np.sqrt((point[0] - (-15)) **2 + point[1] ** 2 + (point[2] - 3) ** 2))"
   ]
  },
  {
   "cell_type": "code",
   "execution_count": 78,
   "metadata": {},
   "outputs": [],
   "source": [
    "x = Symbol('x')\n",
    "y = Symbol('y')\n",
    "z = Symbol('z')\n",
    "\n",
    "depth = [10.217538, 9.828651, 7.930579662322998]\n",
    "\n",
    "b = x**2 + (y + 6.4) ** 2 + (z - 1) ** 2 - depth[0] ** 2\n",
    "a = x**2 + (y - 6.4) ** 2 + (z - 1) ** 2 - depth[1] ** 2\n",
    "c = (x + 15) ** 2 + y ** 2 + (z - 3) ** 2 - depth[2] ** 2"
   ]
  },
  {
   "cell_type": "code",
   "execution_count": 79,
   "metadata": {
    "scrolled": true
   },
   "outputs": [
    {
     "name": "stdout",
     "output_type": "stream",
     "text": [
      "[{x: -7.64989018878984, y: 0.304519621157930, z: 0.0373580466189902}, {x: -7.13042451755325, y: 0.304519621157930, z: 3.93335058089342}]\n"
     ]
    }
   ],
   "source": [
    "print(solve((a,b,c)))"
   ]
  },
  {
   "cell_type": "code",
   "execution_count": 28,
   "metadata": {},
   "outputs": [],
   "source": [
    " focal_length = 640 / (2.0 * np.tan(1.50098/2.0))"
   ]
  },
  {
   "cell_type": "code",
   "execution_count": 2,
   "metadata": {},
   "outputs": [],
   "source": [
    "a = np.array([np.nan,np.nan,np.nan])"
   ]
  },
  {
   "cell_type": "code",
   "execution_count": 5,
   "metadata": {},
   "outputs": [
    {
     "data": {
      "text/plain": [
       "True"
      ]
     },
     "execution_count": 5,
     "metadata": {},
     "output_type": "execute_result"
    }
   ],
   "source": [
    "np.isnan(a[0])"
   ]
  },
  {
   "cell_type": "code",
   "execution_count": 16,
   "metadata": {},
   "outputs": [],
   "source": [
    "\n",
    "def draw_point_3D(real_ball_trajectory_list, estimation_ball_trajectory_list):\n",
    "        \n",
    "\n",
    "        real_x = []\n",
    "        real_y = []\n",
    "        real_z = []\n",
    "        esti_x = []\n",
    "        esti_y = []\n",
    "        esti_z = []\n",
    "\n",
    "        for i in range((len(real_ball_trajectory_list))):\n",
    "\n",
    "            real_x.append(real_ball_trajectory_list[i][0])\n",
    "            real_y.append(real_ball_trajectory_list[i][1])\n",
    "            real_z.append(real_ball_trajectory_list[i][2])\n",
    "\n",
    "            ax.plot3D(real_x, real_y, real_z, 'red')\n",
    "\n",
    "\n",
    "        for j in range((len(estimation_ball_trajectory_list))):\n",
    "\n",
    "            esti_x.append(estimation_ball_trajectory_list[j][0])\n",
    "            esti_y.append(estimation_ball_trajectory_list[j][1])\n",
    "            esti_z.append(estimation_ball_trajectory_list[j][2])\n",
    "\n",
    "            ax.plot3D(esti_x, esti_y, esti_z, 'blue')\n",
    "\n",
    "       "
   ]
  },
  {
   "cell_type": "code",
   "execution_count": 18,
   "metadata": {},
   "outputs": [],
   "source": [
    "real_ball_trajectory_list =  [[-10.625, -2.284, 1.759], [-9.407, -2.074, 1.997], [-7.969, -1.832, 2.226], [-6.533, -1.597, 2.396], [-5.176, -1.379, 2.504], [-3.988, -1.192, 2.556], [-2.593, -0.978, 2.565], [-1.333, -0.786, 2.524], [-0.223, -0.617, 2.445]]\n",
    "estimation_ball_trajectory_list =  [[-11.253518534143861, -2.404967213012043, 1.6081490034740993], [-9.752641483540874, -2.128997130851256, 1.9134226567739963], [-8.291614135850025, -1.8856938337555267, 2.1259198937132617], [-6.882515822948473, -1.6529807512295243, 2.3590684109799147], [-5.577961412598646, -1.4445077880487691, 2.470015965525062], [-4.311206224718138, -1.2490537212459243, 2.5353311812823307], [-2.9625125884717294, -1.0371818784588367, 2.5590434605401917], [-1.7949310436030408, -0.8509251973853535, 2.530924368505894], [-0.9018243378625923, -0.6659461897659202, 2.456246584234343]]\n"
   ]
  },
  {
   "cell_type": "code",
   "execution_count": 19,
   "metadata": {},
   "outputs": [
    {
     "name": "stdout",
     "output_type": "stream",
     "text": [
      "9 9\n"
     ]
    }
   ],
   "source": [
    "print(len(real_ball_trajectory_list), len(estimation_ball_trajectory_list))"
   ]
  },
  {
   "cell_type": "code",
   "execution_count": 20,
   "metadata": {},
   "outputs": [
    {
     "data": {
      "image/png": "[encoded data removed]",
      "text/plain": [
       "<Figure size 432x288 with 1 Axes>"
      ]
     },
     "metadata": {
      "needs_background": "light"
     },
     "output_type": "display_data"
    }
   ],
   "source": [
    "fig_3d = plt.figure()\n",
    "ax = plt.axes(projection=\"3d\")\n",
    "draw_point_3D(real_ball_trajectory_list, estimation_ball_trajectory_list)\n",
    "\n",
    "plt.show()"
   ]
  },
  {
   "cell_type": "code",
   "execution_count": 3,
   "metadata": {},
   "outputs": [],
   "source": [
    "def cal_ball_position(ball_height_list, ball_distance_list):\n",
    "\n",
    "    height = sum(ball_height_list[:2]) / 2 - 1\n",
    "\n",
    "    th_L = np.arccos((ball_distance_list[0] ** 2 + 12.8 ** 2 - ball_distance_list[1]**2) / (2 * 12.8 * ball_distance_list[0]))\n",
    "    #th_R = np.arccos((ball_depth_list[1] ** 2 + 12.8 ** 2 - ball_depth_list[0]**2) / (2 * 12.8 * ball_depth_list[1]))\n",
    "\n",
    "    ball2net_length_x_L = ball_distance_list[0] * np.sin(th_L)\n",
    "    ball_position_y_L = ball_distance_list[0] * np.cos(th_L)\n",
    "\n",
    "    ball_plate_angle_L = np.sin(height / ball2net_length_x_L)\n",
    "\n",
    "    ball_position_x_L = ball2net_length_x_L * np.cos(ball_plate_angle_L)\n",
    "\n",
    "    #ball2net_length_x_R = ball_depth_list[1] * np.sin(th_R)\n",
    "    #ball_position_y_R = ball_depth_list[1] * np.cos(th_R)\n",
    "\n",
    "    #ball_plate_angle_R = np.sin(height / ball2net_length_x_R)\n",
    "\n",
    "    #ball_position_x_R = ball2net_length_x_R * np.cos(ball_plate_angle_R)\n",
    "\n",
    "    return [-ball_position_x_L, ball_position_y_L - 6.4, height + 1]"
   ]
  },
  {
   "cell_type": "code",
   "execution_count": 5,
   "metadata": {},
   "outputs": [
    {
     "data": {
      "text/plain": [
       "[-10.967803557522545, 0.1709653125000017, 1.776]"
      ]
     },
     "execution_count": 5,
     "metadata": {},
     "output_type": "execute_result"
    }
   ],
   "source": [
    "a = [12.809, 12.637]\n",
    "b = [1.776,1.776]\n",
    "\n",
    "cal_ball_position(b,a)"
   ]
  },
  {
   "cell_type": "code",
   "execution_count": 86,
   "metadata": {},
   "outputs": [
    {
     "name": "stdout",
     "output_type": "stream",
     "text": [
      "9.32065972291495\n",
      "5.515483085856488\n",
      "11.800572684000088\n"
     ]
    }
   ],
   "source": [
    "point = [-3.581137, 2.2052400, 1]\n",
    "\n",
    "\n",
    "print(np.sqrt(point[0] **2 + (point[1] - (-6.4)) ** 2 + (point[2] - 1) ** 2))\n",
    "print(np.sqrt(point[0] **2 + (point[1] - (6.4)) ** 2 + (point[2] - 1) ** 2))\n",
    "print(np.sqrt((point[0] - (-15)) **2 + point[1] ** 2 + (point[2] - 3) ** 2))"
   ]
  },
  {
   "cell_type": "code",
   "execution_count": 69,
   "metadata": {},
   "outputs": [],
   "source": [
    "real_ball_trajectory_list =  [[-8.019, -4.153, 2.055], [-3.984, -3.32, 2.135], [-1.064, -2.763, 1.863], [-9.568, -4.36, 1.922], [-8.224, -3.967, 2.046], [-6.838, -3.592, 2.123], [-5.439, -3.248, 2.151], [-3.18, -2.726, 2.08], [-8.181, -4.585, 2.034], [-6.733, -4.375, 2.117], [-5.357, -4.193, 2.148], [-4.024, -4.028, 2.137], [-2.901, -3.891, 2.086], [-8.293, -4.827, 2.027], [-6.754, -4.673, 2.12], [-5.309, -4.54, 2.159], [-1.756, -4.236, 2.015], [-7.629, -4.688, 2.073], [-6.227, -4.535, 2.137], [-4.931, -4.405, 2.157], [-1.574, -4.082, 1.983], [-7.984, -4.821, 2.045], [-6.616, -4.694, 2.118], [-5.21, -4.574, 2.147], [-3.952, -4.474, 2.134], [-1.738, -4.299, 1.989], [-0.844, -4.228, 1.87], [-9.688, -4.428, 1.91], [-8.284, -4.024, 2.044], [-6.967, -3.673, 2.125], [-5.568, -3.33, 2.162], [-4.166, -3.011, 2.149], [-3.047, -2.757, 2.095], [-2.084, -2.538, 2.003], [-9.389, -4.75, 1.928], [-7.75, -4.485, 2.064], [-6.213, -4.258, 2.134], [-4.832, -4.071, 2.149], [-3.531, -3.9, 2.12], [-2.384, -3.749, 2.049], [-1.26, -3.601, 1.923], [-9.609, -4.714, 1.905], [-8.165, -4.442, 2.038], [-6.875, -4.217, 2.114], [-5.601, -4.01, 2.149], [-3.167, -3.644, 2.107], [-2.195, -3.499, 2.034], [-1.277, -3.362, 1.925], [-9.756, -4.595, 1.893], [-8.281, -4.242, 2.034], [-7.027, -3.964, 2.112], [-5.724, -3.696, 2.151], [-4.502, -3.462, 2.151], [-3.374, -3.25, 2.114], [-2.342, -3.056, 2.04], [-1.422, -2.883, 1.931], [-8.168, -4.344, 2.042], [-6.822, -4.083, 2.121], [-5.494, -3.844, 2.155], [-1.942, -3.249, 2.008], [-0.795, -3.058, 1.849], [-9.566, -4.687, 1.911], [-8.129, -4.411, 2.041], [-6.782, -4.171, 2.116], [-5.497, -3.96, 2.148], [-2.901, -3.566, 2.082], [-1.9, -3.415, 1.99], [-9.429, -4.767, 1.926], [-7.937, -4.528, 2.056], [-6.56, -4.325, 2.13], [-5.225, -4.143, 2.158], [-4.006, -3.988, 2.147], [-2.849, -3.841, 2.098], [-1.84, -3.714, 2.013], [-0.912, -3.596, 1.892], [-8.196, -4.915, 2.03], [-6.749, -4.8, 2.115], [-5.37, -4.699, 2.15], [-3.878, -4.597, 2.139], [-2.607, -4.51, 2.079], [-9.565, -4.604, 1.914], [-8.225, -4.31, 2.037], [-6.842, -4.029, 2.117], [-7.955, -4.838, 2.046], [-6.52, -4.71, 2.121], [-5.088, -4.593, 2.148], [-1.5, -4.316, 1.969], [-0.549, -4.243, 1.834], [-8.32, -3.984, 2.035], [-6.977, -3.615, 2.114], [-4.524, -3.015, 2.137], [-1.396, -2.282, 1.868], [-0.461, -2.063, 1.703], [-8.324, -4.602, 2.022], [-7.026, -4.41, 2.102], [-5.663, -4.224, 2.142], [-1.312, -3.676, 1.913], [-0.385, -3.56, 1.762]]\n",
    "estimation_ball_trajectory_list =  [[-8.436, -4.151, 1.983], [-4.337, -3.388, 2.135], [-1.353, -2.776, 1.92], [-10.041, -4.356, 1.83], [-8.644, -3.97, 1.978], [-7.442, -3.444, 2.084], [-5.777, -3.329, 2.14], [-3.438, -2.784, 2.092], [-8.682, -4.665, 1.981], [-7.267, -4.45, 2.081], [-5.846, -4.25, 2.128], [-4.496, -4.082, 2.139], [-3.18, -3.907, 2.09], [-8.696, -4.808, 1.941], [-7.189, -4.661, 2.052], [-5.679, -4.565, 2.137], [-2.237, -4.187, 2.049], [-7.994, -4.722, 2.029], [-6.599, -4.566, 2.116], [-5.313, -4.443, 2.151], [-1.787, -4.086, 2.003], [-8.446, -4.809, 1.965], [-7.018, -4.674, 2.054], [-5.592, -4.602, 2.127], [-4.355, -4.465, 2.098], [-2.019, -4.302, 2.014], [-1.067, -4.218, 1.892], [-10.166, -4.442, 1.825], [-8.655, -4.135, 2.02], [-7.347, -3.772, 2.085], [-6.058, -3.45, 2.148], [-4.624, -2.962, 2.149], [-3.279, -2.809, 2.106], [-2.318, -2.592, 2.026], [-10.017, -4.467, 1.869], [-8.218, -4.488, 1.984], [-6.654, -4.318, 2.111], [-5.274, -4.127, 2.136], [-3.939, -3.941, 2.118], [-2.758, -3.786, 2.069], [-1.598, -3.578, 1.957], [-9.965, -4.786, 1.843], [-8.553, -4.513, 1.995], [-7.27, -4.215, 2.06], [-5.999, -4.016, 2.118], [-3.459, -3.679, 2.111], [-2.429, -3.527, 2.059], [-1.465, -3.382, 1.949], [-10.23, -4.586, 1.792], [-8.711, -4.343, 1.999], [-7.439, -3.978, 2.059], [-6.059, -3.765, 2.132], [-4.818, -3.515, 2.148], [-3.652, -3.302, 2.12], [-2.588, -3.1, 2.064], [-1.623, -2.914, 1.952], [-8.614, -4.441, 2.002], [-7.213, -4.158, 2.094], [-5.874, -3.913, 2.151], [-2.276, -3.305, 2.033], [-1.046, -3.055, 1.886], [-10.027, -4.668, 1.827], [-8.571, -4.4, 1.958], [-7.184, -4.165, 2.062], [-6.112, -3.824, 2.13], [-3.232, -3.61, 2.091], [-2.179, -3.449, 2.011], [-9.855, -4.754, 1.851], [-8.409, -4.52, 1.986], [-7.009, -4.323, 2.063], [-5.63, -4.193, 2.14], [-4.298, -4.014, 2.147], [-3.149, -3.874, 2.107], [-2.1, -3.742, 2.031], [-1.122, -3.606, 1.918], [-8.685, -4.949, 1.985], [-7.269, -4.829, 2.078], [-5.865, -4.726, 2.144], [-4.433, -4.472, 2.127], [-2.899, -4.517, 2.085], [-10.051, -4.722, 1.859], [-8.673, -4.301, 1.955], [-7.27, -4.03, 2.053], [-8.369, -4.875, 2.005], [-6.93, -4.674, 2.053], [-5.486, -4.578, 2.108], [-1.741, -4.322, 1.993], [-0.805, -4.244, 1.862], [-8.8, -4.126, 1.987], [-7.415, -3.739, 2.082], [-4.819, -3.081, 2.144], [-1.654, -2.35, 1.909], [-0.609, -2.126, 1.748], [-8.707, -4.674, 1.973], [-7.362, -4.454, 2.08], [-6.009, -4.264, 2.128], [-1.573, -3.699, 1.941], [-0.646, -3.582, 1.807]]\n",
    "\n",
    "\n",
    "real = np.array(real_ball_trajectory_list)\n",
    "esti = np.array(estimation_ball_trajectory_list)"
   ]
  },
  {
   "cell_type": "code",
   "execution_count": 70,
   "metadata": {},
   "outputs": [
    {
     "data": {
      "text/plain": [
       "(98, 3)"
      ]
     },
     "execution_count": 70,
     "metadata": {},
     "output_type": "execute_result"
    }
   ],
   "source": [
    "real.shape"
   ]
  },
  {
   "cell_type": "code",
   "execution_count": 76,
   "metadata": {
    "scrolled": true
   },
   "outputs": [
    {
     "data": {
      "text/plain": [
       "0.3782653061224492"
      ]
     },
     "execution_count": 76,
     "metadata": {},
     "output_type": "execute_result"
    }
   ],
   "source": [
    "sum(real[:,0] - esti[:,0]) / real.shape[0]"
   ]
  },
  {
   "cell_type": "code",
   "execution_count": 75,
   "metadata": {},
   "outputs": [
    {
     "data": {
      "text/plain": [
       "0.02370408163265307"
      ]
     },
     "execution_count": 75,
     "metadata": {},
     "output_type": "execute_result"
    }
   ],
   "source": [
    "sum(real[:,1] - esti[:,1]) / real.shape[0]"
   ]
  },
  {
   "cell_type": "code",
   "execution_count": 74,
   "metadata": {},
   "outputs": [
    {
     "data": {
      "text/plain": [
       "0.02037755102040814"
      ]
     },
     "execution_count": 74,
     "metadata": {},
     "output_type": "execute_result"
    }
   ],
   "source": [
    "sum(real[:,2] - esti[:,2]) / real.shape[0]"
   ]
  },
  {
   "cell_type": "code",
   "execution_count": 18,
   "metadata": {},
   "outputs": [],
   "source": [
    "def cal_landing_point(pos, vel):\n",
    "    x0, y0, z0 = pos[0], pos[1], pos[2]\n",
    "    vx, vy, vz = vel[0], vel[1], vel[2]\n",
    "\n",
    "    time = Symbol('t')\n",
    "    \n",
    "    eq = -((0.5 * 0.507 * 1.2041 * np.pi * (0.033 ** 2) * vz ** 2 ) / 0.057 + 9.8) * time ** 2 + vz * time + z0\n",
    "\n",
    "    a = -((0.5 * 0.507 * 1.2041 * np.pi * (0.033 ** 2) * vz ** 2 ) / 0.057 + 9.8)\n",
    "    b = vz\n",
    "    c = z0\n",
    "\n",
    "    t = (-b + np.sqrt(b ** 2 - 4 * a * c))/(2 * a)\n",
    "    t_1 = (-b - np.sqrt(b ** 2 - 4 * a * c))/(2 * a)\n",
    "    print(t, t_1)\n",
    "    \n",
    "    x = x0 + vx * t - (0.5 * 0.507 * 1.2041 * np.pi * (0.033 ** 2) * vx ** 2 ) * (t ** 2) / 0.057\n",
    "    y = y0 + vy * t - (0.5 * 0.507 * 1.2041 * np.pi * (0.033 ** 2) * vy ** 2 ) * (t ** 2) / 0.057  \n",
    "    z = z0 + vz * t - ((0.5 * 0.507 * 1.2041 * np.pi * (0.033 ** 2) * vz ** 2 ) / 0.057 + 9.8) * (t ** 2)\n",
    "    \n",
    "    return x, y, z"
   ]
  },
  {
   "cell_type": "code",
   "execution_count": 20,
   "metadata": {},
   "outputs": [
    {
     "name": "stdout",
     "output_type": "stream",
     "text": [
      "-0.5013290383713396 0.5147375760755324\n"
     ]
    },
    {
     "data": {
      "text/plain": [
       "(-17.67230580455068, -1.3282260543636049, 0.0)"
      ]
     },
     "execution_count": 20,
     "metadata": {},
     "output_type": "execute_result"
    }
   ],
   "source": [
    "real_ball_pos = [-5.732, -0.121, 2.523]\n",
    "camera_preadict_pos =  [-5.578, -0.151, 2.529]\n",
    "ball_val =  [17.371, 1.934, -0.445]\n",
    "real_ball_val =  [18.50223393549761, 2.0893857924319046, -0.07884474688421994]\n",
    "esti_ball_val =  [20.328803904982106, 2.2996384507898315, 0.13140791147370184]\n",
    "\n",
    "\n",
    "\n",
    "\n",
    "cal_landing_point(camera_preadict_pos, esti_ball_val)"
   ]
  },
  {
   "cell_type": "code",
   "execution_count": 12,
   "metadata": {},
   "outputs": [
    {
     "name": "stdout",
     "output_type": "stream",
     "text": [
      "esti_ball_landing_point =  [1.73, -0.016, 0.0]\n"
     ]
    }
   ],
   "source": [
    "esti_ball_landing_point =  [1.72977204028550, -0.0160365672019290, 2.22044604925031e-15]\n",
    "\n",
    "print(\"esti_ball_landing_point = \", [np.around(esti_ball_landing_point[0],3), np.around(esti_ball_landing_point[1],3), np.around(esti_ball_landing_point[2],3)])\n"
   ]
  },
  {
   "cell_type": "code",
   "execution_count": 13,
   "metadata": {},
   "outputs": [
    {
     "ename": "NameError",
     "evalue": "name 'vz' is not defined",
     "output_type": "error",
     "traceback": [
      "\u001b[0;31m---------------------------------------------------------------------------\u001b[0m",
      "\u001b[0;31mNameError\u001b[0m                                 Traceback (most recent call last)",
      "\u001b[0;32m<ipython-input-13-a9b825730e39>\u001b[0m in \u001b[0;36m<module>\u001b[0;34m\u001b[0m\n\u001b[0;32m----> 1\u001b[0;31m \u001b[0meq\u001b[0m \u001b[0;34m=\u001b[0m \u001b[0;34m-\u001b[0m\u001b[0;34m(\u001b[0m\u001b[0;34m(\u001b[0m\u001b[0;36m0.5\u001b[0m \u001b[0;34m*\u001b[0m \u001b[0;36m0.507\u001b[0m \u001b[0;34m*\u001b[0m \u001b[0;36m1.2041\u001b[0m \u001b[0;34m*\u001b[0m \u001b[0mnp\u001b[0m\u001b[0;34m.\u001b[0m\u001b[0mpi\u001b[0m \u001b[0;34m*\u001b[0m \u001b[0;34m(\u001b[0m\u001b[0;36m0.033\u001b[0m \u001b[0;34m**\u001b[0m \u001b[0;36m2\u001b[0m\u001b[0;34m)\u001b[0m \u001b[0;34m*\u001b[0m \u001b[0mvz\u001b[0m \u001b[0;34m**\u001b[0m \u001b[0;36m2\u001b[0m \u001b[0;34m)\u001b[0m \u001b[0;34m/\u001b[0m \u001b[0;36m0.057\u001b[0m \u001b[0;34m+\u001b[0m \u001b[0;36m9.8\u001b[0m\u001b[0;34m)\u001b[0m \u001b[0;34m*\u001b[0m \u001b[0mtime\u001b[0m \u001b[0;34m**\u001b[0m \u001b[0;36m2\u001b[0m \u001b[0;34m+\u001b[0m \u001b[0mvz\u001b[0m \u001b[0;34m*\u001b[0m \u001b[0mtime\u001b[0m \u001b[0;34m+\u001b[0m \u001b[0mz0\u001b[0m\u001b[0;34m\u001b[0m\u001b[0;34m\u001b[0m\u001b[0m\n\u001b[0m\u001b[1;32m      2\u001b[0m \u001b[0;34m\u001b[0m\u001b[0m\n\u001b[1;32m      3\u001b[0m \u001b[0ma\u001b[0m \u001b[0;34m=\u001b[0m \u001b[0;34m-\u001b[0m\u001b[0;34m(\u001b[0m\u001b[0;34m(\u001b[0m\u001b[0;36m0.5\u001b[0m \u001b[0;34m*\u001b[0m \u001b[0;36m0.507\u001b[0m \u001b[0;34m*\u001b[0m \u001b[0;36m1.2041\u001b[0m \u001b[0;34m*\u001b[0m \u001b[0mnp\u001b[0m\u001b[0;34m.\u001b[0m\u001b[0mpi\u001b[0m \u001b[0;34m*\u001b[0m \u001b[0;34m(\u001b[0m\u001b[0;36m0.033\u001b[0m \u001b[0;34m**\u001b[0m \u001b[0;36m2\u001b[0m\u001b[0;34m)\u001b[0m \u001b[0;34m*\u001b[0m \u001b[0mvz\u001b[0m \u001b[0;34m**\u001b[0m \u001b[0;36m2\u001b[0m \u001b[0;34m)\u001b[0m \u001b[0;34m/\u001b[0m \u001b[0;36m0.057\u001b[0m \u001b[0;34m+\u001b[0m \u001b[0;36m9.8\u001b[0m\u001b[0;34m)\u001b[0m\u001b[0;34m\u001b[0m\u001b[0;34m\u001b[0m\u001b[0m\n\u001b[1;32m      4\u001b[0m \u001b[0mb\u001b[0m \u001b[0;34m=\u001b[0m \u001b[0mvz\u001b[0m\u001b[0;34m\u001b[0m\u001b[0;34m\u001b[0m\u001b[0m\n\u001b[1;32m      5\u001b[0m \u001b[0mc\u001b[0m \u001b[0;34m=\u001b[0m \u001b[0mz0\u001b[0m\u001b[0;34m\u001b[0m\u001b[0;34m\u001b[0m\u001b[0m\n",
      "\u001b[0;31mNameError\u001b[0m: name 'vz' is not defined"
     ]
    }
   ],
   "source": [
    "eq = -((0.5 * 0.507 * 1.2041 * np.pi * (0.033 ** 2) * vz ** 2 ) / 0.057 + 9.8) * time ** 2 + vz * time + z0\n",
    "\n",
    "a = -((0.5 * 0.507 * 1.2041 * np.pi * (0.033 ** 2) * vz ** 2 ) / 0.057 + 9.8)\n",
    "b = vz\n",
    "c = z0\n",
    "\n",
    "sol = (-b + np.sqrt(b ** 2 - 4 * a * c))/(2 * a)"
   ]
  },
  {
   "cell_type": "code",
   "execution_count": 110,
   "metadata": {},
   "outputs": [],
   "source": [
    "esti_landing_point = np.array([[5.294, -2.035, 0.0], [3.459, 2.161, 0.0], [4.901, 2.161, 0.0], [5.209, 1.965, 0.0], [4.984, -0.041, 0.0], [2.908, 0.895, 0.0], [4.68, -0.383, 0.0], [5.1, 0.866, -0.0], [6.007, -0.987, -0.0], [4.783, -0.507, 0.0], [4.428, 2.075, 0.0], [5.641, -1.098, 0.0], [6.214, -2.327, -0.0], [5.353, -1.802, -0.0], [4.761, 0.883, -0.0], [5.725, -0.713, 0.0], [8.985, 6.785, 0.0], [4.896, 0.6, 0.0], [4.839, 1.915, -0.0], [3.878, 1.456, 0.0], [5.203, 0.246, -0.0], [5.949, 1.307, 0.0], [4.478, 2.133, 0.0], [4.87, -1.261, -0.0], [5.403, -0.651, -0.0], [4.842, 1.215, -0.0], [3.995, 2.27, 0.0], [4.939, -1.211, 0.0], [4.892, -0.425, 0.0], [6.342, -2.22, 0.0], [5.419, 0.354, 0.0], [4.582, -1.501, -0.0],[5.811, 0.761, 0.0], [4.736, 2.155, -0.0], [5.09, -1.519, -0.0], [4.658, 1.348, -0.0], [5.649, 1.969, -0.0], [4.648, -1.764, 0.0], [5.075, -0.842, -0.0], [4.725, 0.315, 0.0], [4.509, 1.446, -0.0], [6.016, 1.167, 0.0],\n",
    "                               [4.922, -1.332, 0.0], [6.052, -1.695, -0.0], [5.46, -1.858, 0.0], [5.78, 3.392, 0.0], [5.395, 2.491, 0.0], \n",
    "                               [5.131, 2.001, 0.0], [5.319, 1.021, 0.0], [2.792, 2.073, 0.0], [6.319, -0.278, -0.0], [4.783, -1.376, -0.0], [4.92, -1.452, -0.0], [4.244, 1.568, -0.0], [5.022, 1.255, -0.0], [5.218, 0.476, 0.0], [3.535, -0.009, 0.0], [3.369, -0.652, 0.0], [4.318, -2.033, 0.0], [6.071, -0.442, 0.0], [4.967, -0.149, 0.0], [5.136, -1.464, -0.0], [4.972, -2.47, 0.0], [4.78, 2.31, -0.0], [4.033, 0.491, 0.0], [4.027, -0.17, 0.0], [4.651, 0.193, -0.0], [5.043, 1.373, 0.0], [6.187, -0.08, 0.0], [4.576, 1.377, 0.0], [5.084, 1.345, -0.0], [4.871, -0.924, 0.0], [5.523, -0.781, 0.0], [4.75, -1.985, -0.0], [4.382, 2.895, 0.0], [5.347, -1.641, 0.0], [5.515, 1.27, 0.0], [4.127, 0.777, -0.0], [4.838, -0.274, -0.0], [4.822, -0.262, 0.0], [5.735, 2.033, 0.0], [5.659, -2.049, 0.0], [4.912, -1.177, 0.0], [6.197, 1.224, 0.0], [6.599, 1.612, -0.0], [4.619, 1.831, 0.0], [3.832, -1.387, 0.0], [4.941, 0.577, -0.0], [5.605, -1.694, 0.0]])\n"
   ]
  },
  {
   "cell_type": "code",
   "execution_count": 111,
   "metadata": {},
   "outputs": [],
   "source": [
    "real_landing_point = np.array([\n",
    "[5.478, -2.033, 0.004] ,\n",
    "[5.076, 2.106, 0.002] ,\n",
    "[5.868, 2.016, 0.002] ,\n",
    "[5.58, -0.009, 0.001] ,\n",
    "[5.635, -0.419, 0.005] ,\n",
    "[5.726, 0.468, 0.002] ,\n",
    "[5.911, 0.472, 0.002] ,\n",
    "[6.786, -0.971, 0.002] ,\n",
    "[5.059, -0.475, 0.005] ,\n",
    "[5.255, -0.48, 0.003] ,\n",
    "[6.455, 2.043, 0.001] ,\n",
    "[5.408, -1.064, 0.002] ,\n",
    "[5.591, -1.074, 0.002] ,\n",
    "[6.475, -2.273, 0.0] ,\n",
    "[5.547, -1.808, 0.003] ,\n",
    "[5.743, -1.827, 0.005] ,\n",
    "[5.7, 0.926, 0.002] ,\n",
    "[5.884, 0.934, 0.0] ,\n",
    "[5.478, -0.699, 0.005] ,\n",
    "[5.973, 0.622, 0.0] ,\n",
    "[5.674, 1.979, 0.002] ,\n",
    "[5.853, 1.997, 0.0] ,\n",
    "[5.038, 1.526, 0.004] ,\n",
    "[5.467, 0.256, 0.0] ,\n",
    "[6.472, 0.466, 0.002] ,\n",
    "[5.831, 2.388, 0.003] ,\n",
    "[5.821, -2.012, 0.001] ,\n",
    "[5.988, -0.638, 0.001] ,\n",
    "[5.022, 1.236, 0.005] ,\n",
    "[5.287, -1.213, 0.004] ,\n",
    "[5.48, -1.226, 0.004] ,\n",
    "[5.539, -0.432, 0.003] ,\n",
    "[5.805, 0.345, 0.0] ,\n",
    "[5.479, -1.429, 0.005] ,\n",
    "[5.49, 0.737, 0.004] ,\n",
    "[5.687, 0.744, 0.004] ,\n",
    "[5.567, 1.438, 0.003] ,\n",
    "[5.48, 1.937, 0.005] ,\n",
    "[6.189, 1.152, 0.001] ,\n",
    "[6.374, 1.162, 0.002] ,\n",
    "[5.914, -2.437, 0.005] ,\n",
    "[6.112, -2.462, 0.003] ,\n",
    "[6.457, -1.852, 0.002] ,\n",
    "[6.639, -1.869, 0.0] ,\n",
    "[6.071, 2.704, 0.004] ,\n",
    "[6.087, 2.546, 0.001] ,\n",
    "[6.609, 2.122, 0.005] ,\n",
    "[5.519, 0.35, 0.005] ,\n",
    "[5.715, 0.353, 0.003] ,\n",
    "[5.202, 2.474, 0.003] ,\n",
    "[5.688, -0.271, 0.002] ,\n",
    "[4.877, -1.411, 0.004] ,\n",
    "[5.075, -1.427, 0.004] ,\n",
    "[5.861, -1.359, 0.004] ,\n",
    "[6.057, -1.373, 0.004] ,\n",
    "[5.321, 1.592, 0.001] ,\n",
    "[5.504, 1.607, 0.002] ,\n",
    "[6.071, 0.85, 0.0] ,\n",
    "[5.119, -0.025, 0.001] ,\n",
    "[5.655, -1.42, 0.004] ,\n",
    "[5.566, -1.647, 0.0] ,\n",
    "[5.787, -0.409, 0.002] ,\n",
    "[5.655, -0.168, 0.003] ,\n",
    "[5.838, -0.17, 0.0] ,\n",
    "[5.851, -0.17, 0.005] ,\n",
    "[6.437, -1.518, 0.002] ,\n",
    "[6.271, -2.279, 0.004] ,\n",
    "[4.956, 1.382, 0.004] ,\n",
    "[4.91, 0.21, 0.003] ,\n",
    "[5.109, 0.212, 0.005] ,\n",
    "[5.296, 1.387, 0.003] ,\n",
    "[5.479, 1.4, 0.0] ,\n",
    "[5.4, -1.216, 0.0] ,\n",
    "[5.273, 1.437, 0.005] ,\n",
    "[5.798, 1.394, 0.001] ,\n",
    "[5.445, -0.933, 0.001] ,\n",
    "[5.582, -0.728, 0.002] ,\n",
    "[5.785, -2.045, 0.002] ,\n",
    "[5.044, 1.839, 0.004] ,\n",
    "[5.239, 1.857, 0.004] ,\n",
    "[6.202, -1.664, 0.002] ,\n",
    "[6.384, -1.68, 0.0] ,\n",
    "[5.227, 1.238, 0.003] ,\n",
    "[4.988, 0.917, 0.002] ,\n",
    "[5.298, -0.426, 0.002] ,\n",
    "[5.745, 1.988, 0.005] ,\n",
    "[5.939, 2.007, 0.003] ,\n",
    "[5.917, -2.011, 0.002] ,\n",
    "[6.17, 1.166, 0.002] ,\n",
    "[5.415, 0.17, 0.0] ,\n",
    "[5.597, 0.171, 0.003] ,\n",
    "[5.661, 1.925, 0.001] ,\n",
    "[5.841, 1.942, 0.002] ,\n",
    "[5.359, -1.55, 0.001] ,\n",
    "[5.303, 0.591, 0.002] ,\n",
    "[5.487, 0.596, 0.002] ,\n",
    "[5.291, -1.627, 0.004] ,\n",
    "[5.9, -2.088, 0.003] ,\n",
    "[6.055, -1.521, 0.001] ,\n",
    "[6.234, -1.536, 0.002] \n",
    "\n",
    "\n",
    "                              ])"
   ]
  },
  {
   "cell_type": "code",
   "execution_count": 112,
   "metadata": {},
   "outputs": [
    {
     "data": {
      "text/plain": [
       "(89, 3)"
      ]
     },
     "execution_count": 112,
     "metadata": {},
     "output_type": "execute_result"
    }
   ],
   "source": [
    "esti_landing_point.shape"
   ]
  },
  {
   "cell_type": "code",
   "execution_count": 113,
   "metadata": {},
   "outputs": [
    {
     "data": {
      "text/plain": [
       "(100, 3)"
      ]
     },
     "execution_count": 113,
     "metadata": {},
     "output_type": "execute_result"
    }
   ],
   "source": [
    "real_landing_point.shape"
   ]
  },
  {
   "cell_type": "code",
   "execution_count": 96,
   "metadata": {},
   "outputs": [
    {
     "name": "stdout",
     "output_type": "stream",
     "text": [
      "MAE\n",
      "1.2130857142857145\n",
      "1.6227428571428573\n",
      "MSE\n",
      "2.014431523809523\n",
      "4.40769558095238\n",
      "RMSE\n",
      "1.4193067053352222\n",
      "2.099451257103241\n",
      "R2 Score\n",
      "0.8374528893160075\n",
      "0.9940445111604219\n"
     ]
    }
   ],
   "source": [
    "print('MAE')\n",
    "print((sum(abs((real_landing_point[:,0]  - esti_landing_point[:,0]))) / esti_landing_point.shape[0]))\n",
    "print((sum(abs((real_landing_point[:,1]  - esti_landing_point[:,1]))) / esti_landing_point.shape[0]))\n",
    "\n",
    "print('MSE')\n",
    "print((sum((real_landing_point[:,0]  - esti_landing_point[:,0]) ** 2) / esti_landing_point.shape[0]))\n",
    "print((sum((real_landing_point[:,1]  - esti_landing_point[:,1]) ** 2) / esti_landing_point.shape[0]))\n",
    "\n",
    "\n",
    "print('RMSE')\n",
    "print(np.sqrt(sum((real_landing_point[:,0]  - esti_landing_point[:,0]) ** 2) / esti_landing_point.shape[0]))\n",
    "print(np.sqrt(sum((real_landing_point[:,1] - esti_landing_point[:,1]) ** 2) / esti_landing_point.shape[0]))\n",
    "\n",
    "print('R2 Score')\n",
    "print(sum(esti_landing_point[:,0])/ sum(real_landing_point[:,0]))\n",
    "print(sum(esti_landing_point[:,1])/ sum(real_landing_point[:,1]))\n"
   ]
  },
  {
   "cell_type": "code",
   "execution_count": 56,
   "metadata": {},
   "outputs": [
    {
     "data": {
      "text/plain": [
       "0.7983316439883261"
      ]
     },
     "execution_count": 56,
     "metadata": {},
     "output_type": "execute_result"
    }
   ],
   "source": [
    "np.sqrt(sum((real_landing_point[:,0]  - esti_landing_point[:,0]) ** 2) / 87)"
   ]
  },
  {
   "cell_type": "code",
   "execution_count": 64,
   "metadata": {},
   "outputs": [
    {
     "data": {
      "text/plain": [
       "1.8289660071123282"
      ]
     },
     "execution_count": 64,
     "metadata": {},
     "output_type": "execute_result"
    }
   ],
   "source": [
    "np.sqrt(sum((esti_landing_point[:,1] - real_landing_point[:,1]) ** 2) / 87)"
   ]
  },
  {
   "cell_type": "code",
   "execution_count": 55,
   "metadata": {},
   "outputs": [
    {
     "data": {
      "text/plain": [
       "0.002586206896551726"
      ]
     },
     "execution_count": 55,
     "metadata": {},
     "output_type": "execute_result"
    }
   ],
   "source": [
    "sum(real_landing_point[:,2] - esti_landing_point[:,2]) / 87"
   ]
  },
  {
   "cell_type": "code",
   "execution_count": 63,
   "metadata": {
    "scrolled": true
   },
   "outputs": [
    {
     "data": {
      "text/plain": [
       "array([-1.306, -1.739, -1.744, -2.426, -0.466,  0.088,  0.998,  1.02 ,\n",
       "       -1.265,  0.334,  0.839, -2.456,  0.6  , -2.66 , -1.357, -0.279,\n",
       "       -0.126, -0.862, -2.724,  1.329, -0.879,  0.65 ,  0.684, -2.099,\n",
       "        0.794,  1.812, -1.707, -1.355,  0.052, -1.833, -0.842, -1.476,\n",
       "       -1.786, -0.561, -0.554,  1.144, -0.945, -2.599, -0.667, -2.442,\n",
       "        1.071, -2.388, -2.932, -1.455,  0.045, -0.381,  0.65 , -0.039,\n",
       "        1.637,  1.666, -1.772,  1.327,  1.352, -2.022, -1.904,  0.058,\n",
       "        0.07 ,  1.037, -1.377,  1.063,  1.084, -1.748, -1.753, -0.798,\n",
       "       -2.196, -2.08 , -2.089, -2.438, -1.504, -1.506,  0.31 ,  0.069,\n",
       "        0.477,  0.494, -0.044, -0.032, -1.447, -0.401, -2.291, -2.3  ,\n",
       "        1.075, -2.883, -2.759, -1.479,  0.968,  0.744, -1.432])"
      ]
     },
     "execution_count": 63,
     "metadata": {},
     "output_type": "execute_result"
    }
   ],
   "source": [
    "real_landing_point[:,1]"
   ]
  },
  {
   "cell_type": "code",
   "execution_count": 85,
   "metadata": {},
   "outputs": [
    {
     "data": {
      "text/plain": [
       "(102, 3)"
      ]
     },
     "execution_count": 85,
     "metadata": {},
     "output_type": "execute_result"
    }
   ],
   "source": [
    "np.array([[4.373, 0.571, 0.0], [4.903, -0.445, 0.0], [4.623, 3.456, -0.0], [4.897, 3.374, 0.0], [5.057, 3.151, -0.0], [4.734, 1.117, -0.0], [4.779, -0.565, 0.0], [4.777, 3.282, 0.0], [4.72, 2.237, -0.0], [4.452, 0.646, 0.0], [3.927, 1.733, -0.0], [5.732, 3.363, 0.0], [5.333, 0.63, -0.0], [4.798, 2.043, 0.0], [4.174, 2.176, -0.0], [4.227, 2.867, -0.0], [4.146, -0.242, 0.0], [4.142, 1.114, -0.0], [4.2, -0.525, 0.0], [4.204, -0.408, 0.0], [3.98, -0.816, 0.0], [4.843, 0.874, 0.0], [4.978, -0.612, -0.0], [4.802, 4.316, 0.0], [4.104, 0.121, 0.0], [5.485, 2.849, -0.0], [4.568, 1.198, 0.0], [4.318, 1.024, 0.0], [4.635, 2.23, 0.0], [4.108, 1.355, 0.0], [3.2, 0.247, -0.0], [5.533, 1.09, 0.0], [5.318, 3.204, -0.0], [3.984, 3.677, -0.0], [3.832, 0.019, 0.0], [3.961, 1.873, -0.0], [4.155, 2.345, 0.0], [4.61, 0.144, 0.0], [4.668, 1.69, -0.0], [4.773, 3.274, 0.0], [4.047, 2.358, -0.0], [5.531, 2.176, -0.0], [4.922, 2.626, -0.0], [4.936, 1.218, 0.0], [3.993, 2.267, -0.0], [3.467, -0.143, -0.0], [4.597, 2.75, -0.0], [4.854, 0.477, -0.0], [4.45, -0.339, -0.0], [4.582, 2.803, 0.0], [5.112, -0.456, 0.0], [7.026, -0.358, 0.0], [5.523, -1.084, 0.0], [5.22, 0.474, -0.0], [4.066, 1.599, 0.0], [4.57, -1.036, -0.0], [4.992, -0.97, 0.0], [3.089, 1.108, 0.0], [4.264, 2.673, 0.0], [6.682, -1.51, 0.0], [5.062, -1.001, -0.0], [7.255, -0.003, 0.0], [4.027, 3.041, 0.0], [3.83, 2.531, -0.0], [6.315, 3.181, 0.0], [3.604, 0.942, 0.0], [4.075, 3.562, -0.0], [5.005, -0.122, 0.0], [4.866, 3.323, 0.0], [4.309, -0.869, 0.0], [4.837, 1.55, -0.0], [4.92, 3.43, 0.0], [5.276, -0.912, -0.0], [8.777, 2.5, 0.0], [4.535, -0.38, 0.0], [3.916, -0.915, 0.0], [6.16, 2.937, 0.0], [5.12, -0.443, -0.0], [5.685, 3.536, 0.0], [5.364, 1.839, 0.0], [5.306, 3.63, -0.0], [5.194, 1.307, -0.0], [4.646, 0.701, -0.0], [4.423, -0.738, 0.0], [4.695, 0.302, 0.0], [4.421, 3.633, -0.0], [3.558, 0.11, -0.0], [3.651, 1.728, -0.0], [5.898, -1.15, 0.0], [4.704, 1.975, -0.0], [4.759, 2.371, 0.0], [6.757, -1.245, 0.0], [4.403, -0.4, -0.0], [4.638, -0.965, 0.0], [4.54, 3.528, 0.0], [5.364, -0.431, -0.0], [5.041, -0.924, 0.0], [4.896, -0.164, -0.0], [4.615, 0.535, 0.0], [2.668, 0.61, 0.0], [3.851, -0.774, 0.0], [4.761, -0.396, 0.0]]\n",
    ").shape"
   ]
  },
  {
   "cell_type": "code",
   "execution_count": null,
   "metadata": {},
   "outputs": [],
   "source": []
  }
 ],
 "metadata": {
  "kernelspec": {
   "display_name": "Python 3",
   "language": "python",
   "name": "python3"
  },
  "language_info": {
   "codemirror_mode": {
    "name": "ipython",
    "version": 3
   },
   "file_extension": ".py",
   "mimetype": "text/x-python",
   "name": "python",
   "nbconvert_exporter": "python",
   "pygments_lexer": "ipython3",
   "version": "3.6.13"
  }
 },
 "nbformat": 4,
 "nbformat_minor": 4
}
