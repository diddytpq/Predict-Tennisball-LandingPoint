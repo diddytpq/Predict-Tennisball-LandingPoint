{
 "cells": [
  {
   "cell_type": "code",
   "execution_count": 1,
   "metadata": {},
   "outputs": [],
   "source": [
    "import rospy\n",
    "from sensor_msgs.msg import Image\n",
    "import cv2\n",
    "import numpy as np\n",
    "import math\n",
    "import pickle\n",
    "import sys\n",
    "from pathlib import Path\n",
    "\n",
    "from filterpy.kalman import KalmanFilter, UnscentedKalmanFilter, MerweScaledSigmaPoints\n",
    "from filterpy.common import Q_discrete_white_noise\n",
    "\n",
    "from collections import OrderedDict"
   ]
  },
  {
   "cell_type": "code",
   "execution_count": null,
   "metadata": {},
   "outputs": [
    {
     "name": "stdout",
     "output_type": "stream",
     "text": [
      "[INFO] [1617877017.954327, 880.760000]: Hello ROS!\n"
     ]
    }
   ],
   "source": [
    " from cv_bridge import CvBridge, CvBridgeError\n",
    "\n",
    " # Print \"Hello ROS!\" to the Terminal and to a ROS Log file located in ~/.ros/log/loghash/*.log\n",
    " rospy.loginfo(\"Hello ROS!\")\n",
    "\n",
    " # Initialize the CvBridge class\n",
    " bridge = CvBridge()\n",
    "\n",
    " # Define a function to show the image in an OpenCV Window\n",
    " def show_image(img):\n",
    "     cv2.imshow(\"Image Window\", img)\n",
    "     cv2.waitKey(3)\n",
    "\n",
    " # Define a callback for the Image message\n",
    " def image_callback(img_msg):\n",
    "     # log some info about the image topic\n",
    "     rospy.loginfo(img_msg.header)\n",
    "\n",
    "     # Try to convert the ROS Image message to a CV2 Image\n",
    "     try:\n",
    "         cv_image = bridge.imgmsg_to_cv2(img_msg, \"passthrough\")\n",
    "        \n",
    "     except CvBridgeError:\n",
    "         rospy.logerr(\"CvBridge Error: {0}\".format(e))\n",
    "\n",
    "     # Show the converted image\n",
    "     show_image(cv_image)\n",
    "\n",
    " # Initalize a subscriber to the \"/camera/rgb/image_raw\" topic with the function \"image_callback\" as a callback\n",
    " sub_image = rospy.Subscriber(\"/camera/rgb/image_raw\", Image, image_callback)\n",
    "\n",
    " # Initialize an OpenCV Window named \"Image Window\"\n",
    " cv2.namedWindow(\"Image Window\", 1)\n",
    "\n",
    " # Loop to keep the program from shutting down unless ROS is shut down, or CTRL+C is pressed\n",
    " while not rospy.is_shutdown():\n",
    "     rospy.spin()"
   ]
  },
  {
   "cell_type": "code",
   "execution_count": 32,
   "metadata": {},
   "outputs": [],
   "source": [
    "force = [0.6, 0, 0.7]\n",
    "torque = [0, 70, 0]\n"
   ]
  },
  {
   "cell_type": "code",
   "execution_count": 12,
   "metadata": {},
   "outputs": [],
   "source": [
    "x = np.array(force)"
   ]
  },
  {
   "cell_type": "code",
   "execution_count": 7,
   "metadata": {},
   "outputs": [],
   "source": [
    "r = np.array([[np.cos(np.deg2rad(45)),-np.sin(np.deg2rad(45)),0],\n",
    "             [np.sin(np.deg2rad(45)),np.cos(np.deg2rad(45)),0],\n",
    "             [0,0,1]])"
   ]
  },
  {
   "cell_type": "code",
   "execution_count": 8,
   "metadata": {},
   "outputs": [
    {
     "data": {
      "text/plain": [
       "array([[0.70710678],\n",
       "       [0.70710678],\n",
       "       [0.        ]])"
      ]
     },
     "execution_count": 8,
     "metadata": {},
     "output_type": "execute_result"
    }
   ],
   "source": [
    "r@x"
   ]
  },
  {
   "cell_type": "code",
   "execution_count": 11,
   "metadata": {},
   "outputs": [
    {
     "data": {
      "text/plain": [
       "array([[1],\n",
       "       [0],\n",
       "       [0]])"
      ]
     },
     "execution_count": 11,
     "metadata": {},
     "output_type": "execute_result"
    }
   ],
   "source": [
    "x.reshape([3,1])"
   ]
  },
  {
   "cell_type": "code",
   "execution_count": 13,
   "metadata": {},
   "outputs": [],
   "source": [
    "F = np.array(force).reshape([3,1])\n",
    "T = np.array(torque).reshape([3,1])\n"
   ]
  },
  {
   "cell_type": "code",
   "execution_count": 14,
   "metadata": {},
   "outputs": [
    {
     "data": {
      "text/plain": [
       "array([[0.6],\n",
       "       [0. ],\n",
       "       [0.7]])"
      ]
     },
     "execution_count": 14,
     "metadata": {},
     "output_type": "execute_result"
    }
   ],
   "source": [
    "F"
   ]
  },
  {
   "cell_type": "code",
   "execution_count": 15,
   "metadata": {},
   "outputs": [
    {
     "ename": "NameError",
     "evalue": "name 'Y' is not defined",
     "output_type": "error",
     "traceback": [
      "\u001b[0;31m---------------------------------------------------------------------------\u001b[0m",
      "\u001b[0;31mNameError\u001b[0m                                 Traceback (most recent call last)",
      "\u001b[0;32m<ipython-input-15-c881daf1af41>\u001b[0m in \u001b[0;36m<module>\u001b[0;34m\u001b[0m\n\u001b[0;32m----> 1\u001b[0;31m \u001b[0mY\u001b[0m\u001b[0;34m\u001b[0m\u001b[0;34m\u001b[0m\u001b[0m\n\u001b[0m",
      "\u001b[0;31mNameError\u001b[0m: name 'Y' is not defined"
     ]
    }
   ],
   "source": [
    "Y"
   ]
  },
  {
   "cell_type": "code",
   "execution_count": 17,
   "metadata": {},
   "outputs": [],
   "source": [
    "F = r@(np.array(force).reshape([3,1]))"
   ]
  },
  {
   "cell_type": "code",
   "execution_count": 33,
   "metadata": {},
   "outputs": [],
   "source": [
    "a = F.reshape([1,3]).tolist(), T.reshape(1,3).tolist"
   ]
  },
  {
   "cell_type": "code",
   "execution_count": 21,
   "metadata": {},
   "outputs": [],
   "source": [
    "a = F.reshape([1,3])"
   ]
  },
  {
   "cell_type": "code",
   "execution_count": 34,
   "metadata": {},
   "outputs": [
    {
     "data": {
      "text/plain": [
       "([[0.4242640687119285, 0.42426406871192845, 0.7]], <function ndarray.tolist>)"
      ]
     },
     "execution_count": 34,
     "metadata": {},
     "output_type": "execute_result"
    }
   ],
   "source": [
    "a"
   ]
  },
  {
   "cell_type": "code",
   "execution_count": 35,
   "metadata": {},
   "outputs": [
    {
     "data": {
      "text/plain": [
       "[0.4242640687119285, 0.42426406871192845, 0.7]"
      ]
     },
     "execution_count": 35,
     "metadata": {},
     "output_type": "execute_result"
    }
   ],
   "source": [
    "a[0][0]"
   ]
  },
  {
   "cell_type": "code",
   "execution_count": 36,
   "metadata": {},
   "outputs": [
    {
     "data": {
      "text/plain": [
       "<function ndarray.tolist>"
      ]
     },
     "execution_count": 36,
     "metadata": {},
     "output_type": "execute_result"
    }
   ],
   "source": [
    "a[1]"
   ]
  },
  {
   "cell_type": "code",
   "execution_count": 26,
   "metadata": {},
   "outputs": [
    {
     "ename": "IndexError",
     "evalue": "tuple index out of range",
     "output_type": "error",
     "traceback": [
      "\u001b[0;31m---------------------------------------------------------------------------\u001b[0m",
      "\u001b[0;31mIndexError\u001b[0m                                Traceback (most recent call last)",
      "\u001b[0;32m<ipython-input-26-fc907be37984>\u001b[0m in \u001b[0;36m<module>\u001b[0;34m\u001b[0m\n\u001b[0;32m----> 1\u001b[0;31m \u001b[0ma\u001b[0m\u001b[0;34m[\u001b[0m\u001b[0;36m2\u001b[0m\u001b[0;34m]\u001b[0m\u001b[0;34m\u001b[0m\u001b[0;34m\u001b[0m\u001b[0m\n\u001b[0m",
      "\u001b[0;31mIndexError\u001b[0m: tuple index out of range"
     ]
    }
   ],
   "source": [
    "a[2]"
   ]
  },
  {
   "cell_type": "code",
   "execution_count": 31,
   "metadata": {},
   "outputs": [
    {
     "data": {
      "text/plain": [
       "0.7853981633974483"
      ]
     },
     "execution_count": 31,
     "metadata": {},
     "output_type": "execute_result"
    }
   ],
   "source": [
    "np.deg2rad(45)"
   ]
  },
  {
   "cell_type": "code",
   "execution_count": 38,
   "metadata": {},
   "outputs": [],
   "source": [
    "a = [0,0,-0.686,0.727]"
   ]
  },
  {
   "cell_type": "code",
   "execution_count": 40,
   "metadata": {},
   "outputs": [
    {
     "ename": "NameError",
     "evalue": "name 'quat2mat' is not defined",
     "output_type": "error",
     "traceback": [
      "\u001b[0;31m---------------------------------------------------------------------------\u001b[0m",
      "\u001b[0;31mNameError\u001b[0m                                 Traceback (most recent call last)",
      "\u001b[0;32m<ipython-input-40-f70293e22c7d>\u001b[0m in \u001b[0;36m<module>\u001b[0;34m\u001b[0m\n\u001b[0;32m----> 1\u001b[0;31m \u001b[0mM\u001b[0m \u001b[0;34m=\u001b[0m \u001b[0mquat2mat\u001b[0m\u001b[0;34m(\u001b[0m\u001b[0ma\u001b[0m\u001b[0;34m)\u001b[0m \u001b[0;31m# from this module\u001b[0m\u001b[0;34m\u001b[0m\u001b[0;34m\u001b[0m\u001b[0m\n\u001b[0m\u001b[1;32m      2\u001b[0m \u001b[0mvec\u001b[0m \u001b[0;34m=\u001b[0m \u001b[0mnp\u001b[0m\u001b[0;34m.\u001b[0m\u001b[0marray\u001b[0m\u001b[0;34m(\u001b[0m\u001b[0;34m[\u001b[0m\u001b[0;36m1\u001b[0m\u001b[0;34m,\u001b[0m \u001b[0;36m2\u001b[0m\u001b[0;34m,\u001b[0m \u001b[0;36m3\u001b[0m\u001b[0;34m]\u001b[0m\u001b[0;34m)\u001b[0m\u001b[0;34m.\u001b[0m\u001b[0mreshape\u001b[0m\u001b[0;34m(\u001b[0m\u001b[0;34m(\u001b[0m\u001b[0;36m3\u001b[0m\u001b[0;34m,\u001b[0m\u001b[0;36m1\u001b[0m\u001b[0;34m)\u001b[0m\u001b[0;34m)\u001b[0m \u001b[0;31m# column vector\u001b[0m\u001b[0;34m\u001b[0m\u001b[0;34m\u001b[0m\u001b[0m\n\u001b[1;32m      3\u001b[0m \u001b[0mtvec\u001b[0m \u001b[0;34m=\u001b[0m \u001b[0mnp\u001b[0m\u001b[0;34m.\u001b[0m\u001b[0mdot\u001b[0m\u001b[0;34m(\u001b[0m\u001b[0mM\u001b[0m\u001b[0;34m,\u001b[0m \u001b[0mvec\u001b[0m\u001b[0;34m)\u001b[0m\u001b[0;34m\u001b[0m\u001b[0;34m\u001b[0m\u001b[0m\n",
      "\u001b[0;31mNameError\u001b[0m: name 'quat2mat' is not defined"
     ]
    }
   ],
   "source": [
    "M = quat2mat(a) # from this module\n",
    "vec = np.array([1, 2, 3]).reshape((3,1)) # column vector\n",
    "tvec = np.dot(M, vec)"
   ]
  },
  {
   "cell_type": "code",
   "execution_count": 3,
   "metadata": {},
   "outputs": [
    {
     "data": {
      "text/plain": [
       "6.866666666666667"
      ]
     },
     "execution_count": 3,
     "metadata": {},
     "output_type": "execute_result"
    }
   ],
   "source": [
    "1/0.06 - 9.8"
   ]
  },
  {
   "cell_type": "code",
   "execution_count": 2,
   "metadata": {},
   "outputs": [
    {
     "data": {
      "text/plain": [
       "6.068666666666668"
      ]
     },
     "execution_count": 2,
     "metadata": {},
     "output_type": "execute_result"
    }
   ],
   "source": [
    "(37/0.06 - 9.8)*0.01"
   ]
  },
  {
   "cell_type": "code",
   "execution_count": 26,
   "metadata": {},
   "outputs": [
    {
     "data": {
      "text/plain": [
       "16.666666666666668"
      ]
     },
     "execution_count": 26,
     "metadata": {},
     "output_type": "execute_result"
    }
   ],
   "source": [
    "(100/0.06)*0.01"
   ]
  },
  {
   "cell_type": "code",
   "execution_count": 3,
   "metadata": {},
   "outputs": [
    {
     "data": {
      "text/plain": [
       "616.6666666666667"
      ]
     },
     "execution_count": 3,
     "metadata": {},
     "output_type": "execute_result"
    }
   ],
   "source": [
    "37/0.06"
   ]
  },
  {
   "cell_type": "code",
   "execution_count": 4,
   "metadata": {},
   "outputs": [
    {
     "data": {
      "text/plain": [
       "15.326386645018165"
      ]
     },
     "execution_count": 4,
     "metadata": {},
     "output_type": "execute_result"
    }
   ],
   "source": [
    "np.cos(np.deg2rad(20))*16.31"
   ]
  },
  {
   "cell_type": "code",
   "execution_count": 5,
   "metadata": {},
   "outputs": [
    {
     "data": {
      "text/plain": [
       "5.578348537641657"
      ]
     },
     "execution_count": 5,
     "metadata": {},
     "output_type": "execute_result"
    }
   ],
   "source": [
    "np.sin(np.deg2rad(20))*16.31"
   ]
  },
  {
   "cell_type": "code",
   "execution_count": 8,
   "metadata": {},
   "outputs": [
    {
     "data": {
      "text/plain": [
       "34.058091225849935"
      ]
     },
     "execution_count": 8,
     "metadata": {},
     "output_type": "execute_result"
    }
   ],
   "source": [
    "(5.578348537641657/0.01+9.8)*0.06"
   ]
  },
  {
   "cell_type": "code",
   "execution_count": 54,
   "metadata": {},
   "outputs": [],
   "source": []
  },
  {
   "cell_type": "code",
   "execution_count": 66,
   "metadata": {},
   "outputs": [],
   "source": []
  },
  {
   "cell_type": "code",
   "execution_count": 67,
   "metadata": {},
   "outputs": [
    {
     "data": {
      "text/plain": [
       "0.6797358430497326"
      ]
     },
     "execution_count": 67,
     "metadata": {},
     "output_type": "execute_result"
    }
   ],
   "source": [
    "t_plus"
   ]
  },
  {
   "cell_type": "code",
   "execution_count": 57,
   "metadata": {},
   "outputs": [
    {
     "data": {
      "text/plain": [
       "18.97702436874511"
      ]
     },
     "execution_count": 57,
     "metadata": {},
     "output_type": "execute_result"
    }
   ],
   "source": [
    "15.814186973954259 * 1.2"
   ]
  },
  {
   "cell_type": "code",
   "execution_count": 68,
   "metadata": {},
   "outputs": [
    {
     "name": "stdout",
     "output_type": "stream",
     "text": [
      "x_target, y_target : 8.980462935295002 -2.734974614280743\n",
      "x_error, y_error : 18.980462935295 -2.734974614280743\n",
      "yaw_z : -8.313608157242417\n",
      "s : 19.176497578516976\n",
      "vx0 : 15.980414648764148\n",
      "vy0 : 5.88\n",
      "v : 17.027861061990016\n",
      "launch_angle : 20.201112331728556\n",
      "force : [90.13115920121886, -13.17057727589192, 33.516]\n"
     ]
    }
   ],
   "source": [
    "print(\"x_target, y_target :\",x_target,y_target)\n",
    "print(\"x_error, y_error :\",x_error,y_error)\n",
    "print(\"yaw_z :\",np.rad2deg(yaw_z))\n",
    "#print(\"ror_matrix :\")\n",
    "#print(ror_matrix)\n",
    "print(\"s :\",s)\n",
    "print(\"vx0 :\",vx0)\n",
    "print(\"vy0 :\",vy0)\n",
    "print(\"v :\",v)\n",
    "print(\"launch_angle :\",np.rad2deg(launch_angle))\n",
    "print(\"force :\",force)\n"
   ]
  },
  {
   "cell_type": "code",
   "execution_count": 69,
   "metadata": {},
   "outputs": [
    {
     "ename": "IndexError",
     "evalue": "pop from empty list",
     "output_type": "error",
     "traceback": [
      "\u001b[0;31m---------------------------------------------------------------------------\u001b[0m",
      "\u001b[0;31mIndexError\u001b[0m                                Traceback (most recent call last)",
      "\u001b[0;32m<ipython-input-69-95189d4055f5>\u001b[0m in \u001b[0;36m<module>\u001b[0;34m\u001b[0m\n\u001b[1;32m      1\u001b[0m \u001b[0ma\u001b[0m \u001b[0;34m=\u001b[0m \u001b[0;34m[\u001b[0m\u001b[0;34m]\u001b[0m\u001b[0;34m\u001b[0m\u001b[0;34m\u001b[0m\u001b[0m\n\u001b[0;32m----> 2\u001b[0;31m \u001b[0mprint\u001b[0m\u001b[0;34m(\u001b[0m\u001b[0ma\u001b[0m\u001b[0;34m.\u001b[0m\u001b[0mpop\u001b[0m\u001b[0;34m(\u001b[0m\u001b[0;34m)\u001b[0m\u001b[0;34m)\u001b[0m\u001b[0;34m\u001b[0m\u001b[0;34m\u001b[0m\u001b[0m\n\u001b[0m",
      "\u001b[0;31mIndexError\u001b[0m: pop from empty list"
     ]
    }
   ],
   "source": [
    "a = []\n",
    "print(a.pop())"
   ]
  },
  {
   "cell_type": "code",
   "execution_count": 70,
   "metadata": {},
   "outputs": [
    {
     "ename": "IndexError",
     "evalue": "pop from empty list",
     "output_type": "error",
     "traceback": [
      "\u001b[0;31m---------------------------------------------------------------------------\u001b[0m",
      "\u001b[0;31mIndexError\u001b[0m                                Traceback (most recent call last)",
      "\u001b[0;32m<ipython-input-70-9c070c907602>\u001b[0m in \u001b[0;36m<module>\u001b[0;34m\u001b[0m\n\u001b[0;32m----> 1\u001b[0;31m \u001b[0ma\u001b[0m\u001b[0;34m.\u001b[0m\u001b[0mpop\u001b[0m\u001b[0;34m(\u001b[0m\u001b[0;34m)\u001b[0m\u001b[0;34m\u001b[0m\u001b[0;34m\u001b[0m\u001b[0m\n\u001b[0m",
      "\u001b[0;31mIndexError\u001b[0m: pop from empty list"
     ]
    }
   ],
   "source": [
    "a.pop()"
   ]
  },
  {
   "cell_type": "code",
   "execution_count": 2,
   "metadata": {},
   "outputs": [],
   "source": [
    "def check_velocity(x_vel, y_vel):\n",
    "\n",
    "    if vel_forward < abs(x_vel):\n",
    "        if x_vel > 0: x_vel = vel_forward\n",
    "        else: x_vel = -vel_forward\n",
    "\n",
    "    if vel_lateral < abs(y_vel):\n",
    "        if y_vel > 0: y_vel = vel_lateral\n",
    "        else: y_vel = -vel_lateral"
   ]
  },
  {
   "cell_type": "code",
   "execution_count": 2,
   "metadata": {},
   "outputs": [
    {
     "ename": "NameError",
     "evalue": "name 'robot_x' is not defined",
     "output_type": "error",
     "traceback": [
      "\u001b[0;31m---------------------------------------------------------------------------\u001b[0m",
      "\u001b[0;31mNameError\u001b[0m                                 Traceback (most recent call last)",
      "\u001b[0;32m<ipython-input-2-7c534f203af7>\u001b[0m in \u001b[0;36m<module>\u001b[0;34m\u001b[0m\n\u001b[0;32m----> 1\u001b[0;31m \u001b[0mx_error\u001b[0m \u001b[0;34m=\u001b[0m \u001b[0mrobot_x\u001b[0m \u001b[0;34m-\u001b[0m \u001b[0;34m(\u001b[0m\u001b[0;36m10\u001b[0m\u001b[0;34m)\u001b[0m\u001b[0;34m\u001b[0m\u001b[0;34m\u001b[0m\u001b[0m\n\u001b[0m\u001b[1;32m      2\u001b[0m \u001b[0my_error\u001b[0m \u001b[0;34m=\u001b[0m \u001b[0mrobot_y\u001b[0m\u001b[0;34m\u001b[0m\u001b[0;34m\u001b[0m\u001b[0m\n\u001b[1;32m      3\u001b[0m \u001b[0;34m\u001b[0m\u001b[0m\n\u001b[1;32m      4\u001b[0m \u001b[0mvel_forward_apply\u001b[0m\u001b[0;34m,\u001b[0m \u001b[0mvel_lateral_apply\u001b[0m \u001b[0;34m=\u001b[0m \u001b[0mhome_mecanum\u001b[0m\u001b[0;34m.\u001b[0m\u001b[0mcheck_velocity\u001b[0m\u001b[0;34m(\u001b[0m\u001b[0mhome_mecanum\u001b[0m\u001b[0;34m.\u001b[0m\u001b[0mvel_forward\u001b[0m \u001b[0;34m*\u001b[0m \u001b[0;34m(\u001b[0m\u001b[0mx_error\u001b[0m\u001b[0;34m**\u001b[0m\u001b[0;36m2\u001b[0m\u001b[0;34m)\u001b[0m\u001b[0;34m,\u001b[0m \u001b[0mhome_mecanum\u001b[0m\u001b[0;34m.\u001b[0m\u001b[0mvel_lateral\u001b[0m \u001b[0;34m*\u001b[0m \u001b[0;34m(\u001b[0m\u001b[0my_error\u001b[0m\u001b[0;34m**\u001b[0m\u001b[0;36m2\u001b[0m\u001b[0;34m)\u001b[0m\u001b[0;34m)\u001b[0m\u001b[0;34m\u001b[0m\u001b[0;34m\u001b[0m\u001b[0m\n",
      "\u001b[0;31mNameError\u001b[0m: name 'robot_x' is not defined"
     ]
    }
   ],
   "source": [
    "x_error = robot_x - (10)\n",
    "y_error = robot_y\n",
    "\n",
    "vel_forward_apply, vel_lateral_apply = home_mecanum.check_velocity(home_mecanum.vel_forward * (x_error**2), home_mecanum.vel_lateral * (y_error**2))"
   ]
  },
  {
   "cell_type": "code",
   "execution_count": 5,
   "metadata": {},
   "outputs": [],
   "source": [
    "spawn_pos_z = 0.5\n",
    "ball_fly_time = 0.45\n",
    "vz0 = 9.8 * ball_fly_time"
   ]
  },
  {
   "cell_type": "code",
   "execution_count": 7,
   "metadata": {},
   "outputs": [
    {
     "data": {
      "text/plain": [
       "1.4922499999999999"
      ]
     },
     "execution_count": 7,
     "metadata": {},
     "output_type": "execute_result"
    }
   ],
   "source": [
    "h = spawn_pos_z + vz0 * ball_fly_time - (9.8 * ball_fly_time**2)/2\n",
    "h "
   ]
  },
  {
   "cell_type": "code",
   "execution_count": 66,
   "metadata": {},
   "outputs": [],
   "source": [
    "def rotation_matrix(angle):\n",
    "\n",
    "    return np.array([[np.cos(angle),-np.sin(angle),0],\n",
    "             [np.sin(angle),np.cos(angle),0],\n",
    "             [0,0,1]])\n",
    "\n",
    "def get_wrench(force, torque, matrix):\n",
    "\n",
    "    F = matrix@(np.array(force).reshape([3,1]))\n",
    "    T = matrix@(np.array(torque).reshape([3,1]))\n",
    "    \n",
    "    F = F.reshape([1,3]).tolist()\n",
    "    T = T.reshape([1,3]).tolist()\n",
    "\n",
    "\n",
    "    return F[0], T[0]"
   ]
  },
  {
   "cell_type": "code",
   "execution_count": 5,
   "metadata": {},
   "outputs": [
    {
     "data": {
      "text/plain": [
       "array([[ 0.92951967, -0.36877254,  0.        ],\n",
       "       [ 0.36877254,  0.92951967,  0.        ],\n",
       "       [ 0.        ,  0.        ,  1.        ]])"
      ]
     },
     "execution_count": 5,
     "metadata": {},
     "output_type": "execute_result"
    }
   ],
   "source": [
    "rotation_matrix(0.3776881459970161)"
   ]
  },
  {
   "cell_type": "code",
   "execution_count": 102,
   "metadata": {},
   "outputs": [],
   "source": [
    "\n",
    "class Make_mecanum_left():\n",
    "\n",
    "    def __init__(self):\n",
    "        self.vel_forward = 5.5 #m/s\n",
    "        self.vel_lateral = 2 #m/s\n",
    "        self.ball_fly_time = 0.45 #max height time [sec]\n",
    "        self.vel_forward_apply = 0\n",
    "        self.vel_lateral_apply = 0\n",
    "        \n",
    "        self.spawn_pos_z = 0.5\n",
    "        \n",
    "        self.torque = [0,20000,0]\n",
    "        self.delete_model_name = \"ball_right\"\n",
    "\n",
    "    def set_ball_target(self):\n",
    "        #self.x_target = (np.random.randint(6, 10) + np.random.rand())\n",
    "        #self.y_target = (np.random.randint(-3, 3) + np.random.rand())\n",
    "\n",
    "        self.x_target = 11\n",
    "        self.y_target = 4\n",
    "\n",
    "        self.x = -10.89\n",
    "        self.y = -3.9\n",
    "        \n",
    "        self.x_error = self.x_target - self.x\n",
    "        self.y_error = self.y_target - self.y\n",
    "        print(self.x_error, self.y_error)\n",
    "        self.s = np.sqrt(self.x_error**2 + self.y_error**2)\n",
    "\n",
    "    def throw_ball(self):\n",
    "\n",
    "        duration = 0.01\n",
    "\n",
    "        self.set_ball_target()\n",
    "\n",
    "        self.yaw_z = np.arctan(self.y_error/self.x_error)\n",
    "        self.ror_matrix = rotation_matrix(self.yaw_z)\n",
    "        vz0 = 9.8 * self.ball_fly_time\n",
    "\n",
    "        h =self.spawn_pos_z + vz0 * self.ball_fly_time - (9.8 * self.ball_fly_time**2)/2\n",
    "        self.ball_fly_time_plus = np.sqrt(2 * h / 9.8)\n",
    "        v0 = self.s/(self.ball_fly_time + self.ball_fly_time_plus)\n",
    "        print(v0)\n",
    "        self.v = np.sqrt(v0**2 + vz0**2)\n",
    "        self.launch_angle = np.arctan(vz0/v0)\n",
    "\n",
    "        self.force = [v0 * 0.057 * 100, 0, vz0 * 0.057 *100 ]\n",
    "\n",
    "        self.apply_force, self.apply_torque = get_wrench(self.force, self.torque, self.ror_matrix)\n",
    "\n"
   ]
  },
  {
   "cell_type": "code",
   "execution_count": 103,
   "metadata": {},
   "outputs": [],
   "source": [
    "x = Make_mecanum_left()"
   ]
  },
  {
   "cell_type": "code",
   "execution_count": 113,
   "metadata": {},
   "outputs": [
    {
     "name": "stdout",
     "output_type": "stream",
     "text": [
      "21.89 7.9\n",
      "23.228892719109222\n"
     ]
    }
   ],
   "source": [
    "x.throw_ball()"
   ]
  },
  {
   "cell_type": "code",
   "execution_count": 115,
   "metadata": {},
   "outputs": [
    {
     "data": {
      "text/plain": [
       "1.0018521689062485"
      ]
     },
     "execution_count": 115,
     "metadata": {},
     "output_type": "execute_result"
    }
   ],
   "source": [
    "x.ball_fly_time_plus + x.ball_fly_time"
   ]
  },
  {
   "cell_type": "code",
   "execution_count": 117,
   "metadata": {},
   "outputs": [
    {
     "data": {
      "text/plain": [
       "array([21.84953098, -7.88539492,  0.        ])"
      ]
     },
     "execution_count": 117,
     "metadata": {},
     "output_type": "execute_result"
    }
   ],
   "source": [
    "[23.228892719109222,0,0] @ x.ror_matrix"
   ]
  },
  {
   "cell_type": "code",
   "execution_count": 119,
   "metadata": {},
   "outputs": [
    {
     "data": {
      "text/plain": [
       "array([21.89, -7.9 ,  0.  ])"
      ]
     },
     "execution_count": 119,
     "metadata": {},
     "output_type": "execute_result"
    }
   ],
   "source": [
    "np.array([21.84953098, -7.88539492,  0.        ]) * (x.ball_fly_time_plus + x.ball_fly_time)"
   ]
  },
  {
   "cell_type": "code",
   "execution_count": 18,
   "metadata": {},
   "outputs": [],
   "source": [
    "vx1 = 14.98431004421108\n",
    "mu_s = 0.6\n",
    "ey = 0.79\n",
    "vy1 = -5.25\n",
    "R = 0.033\n",
    "R1 = 0.030\n",
    "w1 = 0\n",
    "vx2 = 9.956566531466533"
   ]
  },
  {
   "cell_type": "code",
   "execution_count": 22,
   "metadata": {},
   "outputs": [],
   "source": [
    "vx2 = vx1 + mu_s * (1 + ey) * vy1"
   ]
  },
  {
   "cell_type": "code",
   "execution_count": 23,
   "metadata": {},
   "outputs": [
    {
     "data": {
      "text/plain": [
       "4.882910444211079"
      ]
     },
     "execution_count": 23,
     "metadata": {},
     "output_type": "execute_result"
    }
   ],
   "source": [
    "vx2"
   ]
  },
  {
   "cell_type": "code",
   "execution_count": 32,
   "metadata": {},
   "outputs": [
    {
     "data": {
      "text/plain": [
       "-4.1475"
      ]
     },
     "execution_count": 32,
     "metadata": {},
     "output_type": "execute_result"
    }
   ],
   "source": [
    "ey * vy1"
   ]
  },
  {
   "cell_type": "code",
   "execution_count": 15,
   "metadata": {},
   "outputs": [],
   "source": [
    "w2 = w1 -(1.5 * mu_s * R * (1 + ey) * vy1) / R1**2"
   ]
  },
  {
   "cell_type": "code",
   "execution_count": 16,
   "metadata": {},
   "outputs": [],
   "source": [
    "w2 = w1 -(1.5 * R * (vx2 - vx1)) / R1**2"
   ]
  },
  {
   "cell_type": "code",
   "execution_count": 17,
   "metadata": {},
   "outputs": [
    {
     "data": {
      "text/plain": [
       "107.2322516621961"
      ]
     },
     "execution_count": 17,
     "metadata": {},
     "output_type": "execute_result"
    }
   ],
   "source": [
    "w2"
   ]
  },
  {
   "cell_type": "code",
   "execution_count": 21,
   "metadata": {},
   "outputs": [],
   "source": [
    "vx1 = 9.34581004421108\n",
    "mu_s = 0.6\n",
    "ey = 0.79\n",
    "vy1 = -4.1554\n",
    "R = 0.033\n",
    "R1 = 0.030\n",
    "w1 = 107.2322516621961\n"
   ]
  },
  {
   "cell_type": "code",
   "execution_count": 26,
   "metadata": {},
   "outputs": [
    {
     "data": {
      "text/plain": [
       "4.898600399999999"
      ]
     },
     "execution_count": 26,
     "metadata": {},
     "output_type": "execute_result"
    }
   ],
   "source": [
    "vx2 = vx1 + mu_s * (1 + ey) * vy1\n",
    "vx2"
   ]
  },
  {
   "cell_type": "code",
   "execution_count": 28,
   "metadata": {},
   "outputs": [
    {
     "data": {
      "text/plain": [
       "558.5304779999999"
      ]
     },
     "execution_count": 28,
     "metadata": {},
     "output_type": "execute_result"
    }
   ],
   "source": [
    "w2 = w1 -(1.5 * mu_s * R * (1 + ey) * vy1) / R1**2\n",
    "w2"
   ]
  },
  {
   "cell_type": "code",
   "execution_count": 3,
   "metadata": {},
   "outputs": [
    {
     "data": {
      "text/plain": [
       "array([[[0., 0., 0.],\n",
       "        [0., 0., 0.],\n",
       "        [0., 0., 0.]],\n",
       "\n",
       "       [[0., 0., 0.],\n",
       "        [0., 0., 0.],\n",
       "        [0., 0., 0.]],\n",
       "\n",
       "       [[0., 0., 0.],\n",
       "        [0., 0., 0.],\n",
       "        [0., 0., 0.]]])"
      ]
     },
     "execution_count": 3,
     "metadata": {},
     "output_type": "execute_result"
    }
   ],
   "source": [
    "np.zeros((3,3,3))"
   ]
  },
  {
   "cell_type": "code",
   "execution_count": 37,
   "metadata": {},
   "outputs": [
    {
     "data": {
      "text/plain": [
       "0"
      ]
     },
     "execution_count": 37,
     "metadata": {},
     "output_type": "execute_result"
    }
   ],
   "source": [
    "robot = [[190, 175, 235, 205], [361, 492, 404, 523]]\n",
    "ball = [[334, 479, 358, 503], [361, 492, 404, 519]]\n",
    "\n",
    "\n"
   ]
  },
  {
   "cell_type": "code",
   "execution_count": 34,
   "metadata": {},
   "outputs": [],
   "source": [
    "def check_iou(robot_box, ball_cand_box):\n",
    "    no_ball_box = []\n",
    "\n",
    "    for i in range(len(robot_box)):\n",
    "        for j in range(len(ball_cand_box)):\n",
    "            print(robot_box[i], ball_cand_box[j])\n",
    "            print(iou(robot_box[i], ball_cand_box[j]))\n",
    "            if iou(robot_box[i], ball_cand_box[j]):\n",
    "                no_ball_box.append(ball_cand_box[j])\n",
    "                print(1)\n",
    "            else:\n",
    "                pass\n",
    "    for i in no_ball_box:\n",
    "        del ball_cand_box[ball_cand_box.index(i)]\n",
    "                          \n",
    "    return ball_cand_box\n",
    "\n",
    "def iou(box_0, box_1):\n",
    "    b0x_0, b0y_0, b0x_1 ,b0y_1 = box_0\n",
    "    b1x_0, b1y_0, b1x_1 ,b1y_1 = box_1\n",
    "\n",
    "    min_x = np.argmin([b0x_0,b1x_0])\n",
    "    min_y = np.argmin([b0y_0,b1y_0])\n",
    "\n",
    "    if min_x == 0 and min_y == 0:\n",
    "        if ((b0x_0 < b1x_0 < b0x_1) or (b0x_0 < b1x_1 < b0x_1)) and ((b0y_0 < b1y_0 < b0y_1) or (b0y_0 < b1y_1 < b0y_1)):\n",
    "            return True\n",
    "    if min_x == 0 and min_y == 1:\n",
    "        if ((b0x_0 < b1x_0 < b0x_1) or (b0x_0 < b1x_1 < b0x_1)) and ((b1y_0 < b0y_0 < b1y_1) or (b1y_0 < b0y_1 < b1y_1)):\n",
    "            return True\n",
    "    if min_x == 1 and min_y == 0:\n",
    "        if ((b1x_0 < b0x_0 < b1x_1) or (b1x_0 < b0x_1 < b1x_1)) and ((b0y_0 < b1y_0 < b0y_1) or (b0y_0 < b1y_1 < b0y_1)):\n",
    "            return True\n",
    "    if min_x == 1 and min_y == 1:\n",
    "        if ((b1x_0 < b0x_0 < b1x_1) or (b1x_0 < b0x_1 < b1x_1) ) and ((b1y_0 < b0y_0 < b1y_1) or (b1y_0 < b0y_1 < b1y_1) ):\n",
    "            return True\n",
    "\n",
    "    return False\n",
    "\n"
   ]
  },
  {
   "cell_type": "code",
   "execution_count": 35,
   "metadata": {
    "scrolled": true
   },
   "outputs": [
    {
     "name": "stdout",
     "output_type": "stream",
     "text": [
      "[216, 178, 250, 199] [521, 137, 544, 160]\n",
      "False\n",
      "[216, 178, 250, 199] [227, 176, 242, 191]\n",
      "True\n",
      "1\n",
      "[416, 499, 452, 521] [521, 137, 544, 160]\n",
      "False\n",
      "[416, 499, 452, 521] [227, 176, 242, 191]\n",
      "False\n"
     ]
    },
    {
     "data": {
      "text/plain": [
       "[[521, 137, 544, 160]]"
      ]
     },
     "execution_count": 35,
     "metadata": {},
     "output_type": "execute_result"
    }
   ],
   "source": [
    "check_iou(robot, ball)"
   ]
  },
  {
   "cell_type": "code",
   "execution_count": 45,
   "metadata": {},
   "outputs": [],
   "source": [
    "ball_centroid_list = [[100,123],[423, 321]]\n"
   ]
  },
  {
   "cell_type": "code",
   "execution_count": 46,
   "metadata": {},
   "outputs": [
    {
     "data": {
      "text/plain": [
       "[100, 123]"
      ]
     },
     "execution_count": 46,
     "metadata": {},
     "output_type": "execute_result"
    }
   ],
   "source": [
    "ball_centroid_list[0]"
   ]
  },
  {
   "cell_type": "code",
   "execution_count": 41,
   "metadata": {},
   "outputs": [
    {
     "data": {
      "text/plain": [
       "True"
      ]
     },
     "execution_count": 41,
     "metadata": {},
     "output_type": "execute_result"
    }
   ],
   "source": [
    "max(ball_centroid_list) > [1, 0]"
   ]
  },
  {
   "cell_type": "code",
   "execution_count": 42,
   "metadata": {},
   "outputs": [
    {
     "data": {
      "text/plain": [
       "[423, 321]"
      ]
     },
     "execution_count": 42,
     "metadata": {},
     "output_type": "execute_result"
    }
   ],
   "source": [
    "max(ball_centroid_list)"
   ]
  },
  {
   "cell_type": "code",
   "execution_count": 44,
   "metadata": {},
   "outputs": [
    {
     "name": "stdout",
     "output_type": "stream",
     "text": [
      "1\n"
     ]
    }
   ],
   "source": [
    "if True:\n",
    "    print(1)\n",
    "elif True:\n",
    "    print(2)"
   ]
  },
  {
   "cell_type": "code",
   "execution_count": 52,
   "metadata": {},
   "outputs": [
    {
     "data": {
      "text/plain": [
       "array([0.15625  , 0.1921875, 0.6609375, 0.5015625])"
      ]
     },
     "execution_count": 52,
     "metadata": {},
     "output_type": "execute_result"
    }
   ],
   "source": [
    "np.array(ball_centroid_list[0] + ball_centroid_list[1])/640"
   ]
  },
  {
   "cell_type": "code",
   "execution_count": 1,
   "metadata": {},
   "outputs": [],
   "source": [
    "import numpy as np"
   ]
  },
  {
   "cell_type": "code",
   "execution_count": 21,
   "metadata": {},
   "outputs": [],
   "source": [
    "npy_array = np.load(file=\"src/yolov5/npy_test.npy\")"
   ]
  },
  {
   "cell_type": "code",
   "execution_count": 22,
   "metadata": {},
   "outputs": [
    {
     "data": {
      "text/plain": [
       "(1227, 20, 4)"
      ]
     },
     "execution_count": 22,
     "metadata": {},
     "output_type": "execute_result"
    }
   ],
   "source": [
    "npy_array.shape\n"
   ]
  },
  {
   "cell_type": "code",
   "execution_count": 18,
   "metadata": {},
   "outputs": [
    {
     "data": {
      "text/plain": [
       "array([[[  0. ,   0. ,   0. ,   0. ],\n",
       "        [  0. ,   0. ,   0. ,   0. ],\n",
       "        [  0. ,   0. ,   0. ,   0. ],\n",
       "        [  0. ,   0. ,   0. ,   0. ],\n",
       "        [  0. ,   0. ,   0. ,   0. ],\n",
       "        [  0. ,   0. ,   0. ,   0. ],\n",
       "        [  0. ,   0. ,   0. ,   0. ],\n",
       "        [  0. ,   0. ,   0. ,   0. ],\n",
       "        [  0. ,   0. ,   0. ,   0. ],\n",
       "        [  0. ,   0. ,   0. ,   0. ],\n",
       "        [  0. ,   0. ,   0. ,   0. ],\n",
       "        [  0. ,   0. ,   0. ,   0. ],\n",
       "        [  0. ,   0. ,   0. ,   0. ],\n",
       "        [  0. ,   0. ,   0. ,   0. ],\n",
       "        [  0. ,   0. ,   0. ,   0. ],\n",
       "        [  0. ,   0. ,   0. ,   0. ],\n",
       "        [  0. ,   0. ,   0. ,   0. ],\n",
       "        [  0. ,   0. ,   0. ,   0. ],\n",
       "        [  0. ,   0. ,   0. ,   0. ],\n",
       "        [  0. ,   0. , 562.5, 580. ]],\n",
       "\n",
       "       [[  0. ,   0. ,   0. ,   0. ],\n",
       "        [  0. ,   0. ,   0. ,   0. ],\n",
       "        [  0. ,   0. ,   0. ,   0. ],\n",
       "        [  0. ,   0. ,   0. ,   0. ],\n",
       "        [  0. ,   0. ,   0. ,   0. ],\n",
       "        [  0. ,   0. ,   0. ,   0. ],\n",
       "        [  0. ,   0. ,   0. ,   0. ],\n",
       "        [  0. ,   0. ,   0. ,   0. ],\n",
       "        [  0. ,   0. ,   0. ,   0. ],\n",
       "        [  0. ,   0. ,   0. ,   0. ],\n",
       "        [  0. ,   0. ,   0. ,   0. ],\n",
       "        [  0. ,   0. ,   0. ,   0. ],\n",
       "        [  0. ,   0. ,   0. ,   0. ],\n",
       "        [  0. ,   0. ,   0. ,   0. ],\n",
       "        [  0. ,   0. ,   0. ,   0. ],\n",
       "        [  0. ,   0. ,   0. ,   0. ],\n",
       "        [  0. ,   0. ,   0. ,   0. ],\n",
       "        [  0. ,   0. ,   0. ,   0. ],\n",
       "        [  0. ,   0. ,   0. ,   0. ],\n",
       "        [  0. ,   0. , 495. , 515. ]],\n",
       "\n",
       "       [[  0. ,   0. ,   0. ,   0. ],\n",
       "        [  0. ,   0. ,   0. ,   0. ],\n",
       "        [  0. ,   0. ,   0. ,   0. ],\n",
       "        [  0. ,   0. ,   0. ,   0. ],\n",
       "        [  0. ,   0. ,   0. ,   0. ],\n",
       "        [  0. ,   0. ,   0. ,   0. ],\n",
       "        [  0. ,   0. ,   0. ,   0. ],\n",
       "        [  0. ,   0. ,   0. ,   0. ],\n",
       "        [  0. ,   0. ,   0. ,   0. ],\n",
       "        [  0. ,   0. ,   0. ,   0. ],\n",
       "        [  0. ,   0. ,   0. ,   0. ],\n",
       "        [  0. ,   0. ,   0. ,   0. ],\n",
       "        [  0. ,   0. ,   0. ,   0. ],\n",
       "        [  0. ,   0. ,   0. ,   0. ],\n",
       "        [  0. ,   0. ,   0. ,   0. ],\n",
       "        [  0. ,   0. ,   0. ,   0. ],\n",
       "        [  0. ,   0. ,   0. ,   0. ],\n",
       "        [  0. ,   0. ,   0. ,   0. ],\n",
       "        [  0. ,   0. , 495. , 515. ],\n",
       "        [211. , 230. , 485. , 507. ]],\n",
       "\n",
       "       [[  0. ,   0. ,   0. ,   0. ],\n",
       "        [  0. ,   0. ,   0. ,   0. ],\n",
       "        [  0. ,   0. ,   0. ,   0. ],\n",
       "        [  0. ,   0. ,   0. ,   0. ],\n",
       "        [  0. ,   0. ,   0. ,   0. ],\n",
       "        [  0. ,   0. ,   0. ,   0. ],\n",
       "        [  0. ,   0. ,   0. ,   0. ],\n",
       "        [  0. ,   0. ,   0. ,   0. ],\n",
       "        [  0. ,   0. ,   0. ,   0. ],\n",
       "        [  0. ,   0. ,   0. ,   0. ],\n",
       "        [  0. ,   0. ,   0. ,   0. ],\n",
       "        [  0. ,   0. ,   0. ,   0. ],\n",
       "        [  0. ,   0. ,   0. ,   0. ],\n",
       "        [  0. ,   0. ,   0. ,   0. ],\n",
       "        [  0. ,   0. ,   0. ,   0. ],\n",
       "        [  0. ,   0. ,   0. ,   0. ],\n",
       "        [  0. ,   0. ,   0. ,   0. ],\n",
       "        [  0. ,   0. , 495. , 515. ],\n",
       "        [211. , 230. , 485. , 507. ],\n",
       "        [213.5, 232.5, 476. , 497.5]],\n",
       "\n",
       "       [[  0. ,   0. ,   0. ,   0. ],\n",
       "        [  0. ,   0. ,   0. ,   0. ],\n",
       "        [  0. ,   0. ,   0. ,   0. ],\n",
       "        [  0. ,   0. ,   0. ,   0. ],\n",
       "        [  0. ,   0. ,   0. ,   0. ],\n",
       "        [  0. ,   0. ,   0. ,   0. ],\n",
       "        [  0. ,   0. ,   0. ,   0. ],\n",
       "        [  0. ,   0. ,   0. ,   0. ],\n",
       "        [  0. ,   0. ,   0. ,   0. ],\n",
       "        [  0. ,   0. ,   0. ,   0. ],\n",
       "        [  0. ,   0. ,   0. ,   0. ],\n",
       "        [  0. ,   0. ,   0. ,   0. ],\n",
       "        [  0. ,   0. ,   0. ,   0. ],\n",
       "        [  0. ,   0. ,   0. ,   0. ],\n",
       "        [  0. ,   0. ,   0. ,   0. ],\n",
       "        [  0. ,   0. ,   0. ,   0. ],\n",
       "        [  0. ,   0. , 495. , 515. ],\n",
       "        [211. , 230. , 485. , 507. ],\n",
       "        [213.5, 232.5, 476. , 497.5],\n",
       "        [216.5, 236.5, 463. , 485. ]],\n",
       "\n",
       "       [[  0. ,   0. ,   0. ,   0. ],\n",
       "        [  0. ,   0. ,   0. ,   0. ],\n",
       "        [  0. ,   0. ,   0. ,   0. ],\n",
       "        [  0. ,   0. ,   0. ,   0. ],\n",
       "        [  0. ,   0. ,   0. ,   0. ],\n",
       "        [  0. ,   0. ,   0. ,   0. ],\n",
       "        [  0. ,   0. ,   0. ,   0. ],\n",
       "        [  0. ,   0. ,   0. ,   0. ],\n",
       "        [  0. ,   0. ,   0. ,   0. ],\n",
       "        [  0. ,   0. ,   0. ,   0. ],\n",
       "        [  0. ,   0. ,   0. ,   0. ],\n",
       "        [  0. ,   0. ,   0. ,   0. ],\n",
       "        [  0. ,   0. ,   0. ,   0. ],\n",
       "        [  0. ,   0. ,   0. ,   0. ],\n",
       "        [  0. ,   0. ,   0. ,   0. ],\n",
       "        [  0. ,   0. , 495. , 515. ],\n",
       "        [211. , 230. , 485. , 507. ],\n",
       "        [213.5, 232.5, 476. , 497.5],\n",
       "        [216.5, 236.5, 463. , 485. ],\n",
       "        [220. , 240.5, 452.5, 474. ]],\n",
       "\n",
       "       [[  0. ,   0. ,   0. ,   0. ],\n",
       "        [  0. ,   0. ,   0. ,   0. ],\n",
       "        [  0. ,   0. ,   0. ,   0. ],\n",
       "        [  0. ,   0. ,   0. ,   0. ],\n",
       "        [  0. ,   0. ,   0. ,   0. ],\n",
       "        [  0. ,   0. ,   0. ,   0. ],\n",
       "        [  0. ,   0. ,   0. ,   0. ],\n",
       "        [  0. ,   0. ,   0. ,   0. ],\n",
       "        [  0. ,   0. ,   0. ,   0. ],\n",
       "        [  0. ,   0. ,   0. ,   0. ],\n",
       "        [  0. ,   0. ,   0. ,   0. ],\n",
       "        [  0. ,   0. ,   0. ,   0. ],\n",
       "        [  0. ,   0. ,   0. ,   0. ],\n",
       "        [  0. ,   0. ,   0. ,   0. ],\n",
       "        [  0. ,   0. , 495. , 515. ],\n",
       "        [211. , 230. , 485. , 507. ],\n",
       "        [213.5, 232.5, 476. , 497.5],\n",
       "        [216.5, 236.5, 463. , 485. ],\n",
       "        [220. , 240.5, 452.5, 474. ],\n",
       "        [224. , 244. , 441.5, 463.5]],\n",
       "\n",
       "       [[  0. ,   0. ,   0. ,   0. ],\n",
       "        [  0. ,   0. ,   0. ,   0. ],\n",
       "        [  0. ,   0. ,   0. ,   0. ],\n",
       "        [  0. ,   0. ,   0. ,   0. ],\n",
       "        [  0. ,   0. ,   0. ,   0. ],\n",
       "        [  0. ,   0. ,   0. ,   0. ],\n",
       "        [  0. ,   0. ,   0. ,   0. ],\n",
       "        [  0. ,   0. ,   0. ,   0. ],\n",
       "        [  0. ,   0. ,   0. ,   0. ],\n",
       "        [  0. ,   0. ,   0. ,   0. ],\n",
       "        [  0. ,   0. ,   0. ,   0. ],\n",
       "        [  0. ,   0. ,   0. ,   0. ],\n",
       "        [  0. ,   0. ,   0. ,   0. ],\n",
       "        [  0. ,   0. , 495. , 515. ],\n",
       "        [211. , 230. , 485. , 507. ],\n",
       "        [213.5, 232.5, 476. , 497.5],\n",
       "        [216.5, 236.5, 463. , 485. ],\n",
       "        [220. , 240.5, 452.5, 474. ],\n",
       "        [224. , 244. , 441.5, 463.5],\n",
       "        [229.5, 250.5, 426. , 448.5]],\n",
       "\n",
       "       [[  0. ,   0. ,   0. ,   0. ],\n",
       "        [  0. ,   0. ,   0. ,   0. ],\n",
       "        [  0. ,   0. ,   0. ,   0. ],\n",
       "        [  0. ,   0. ,   0. ,   0. ],\n",
       "        [  0. ,   0. ,   0. ,   0. ],\n",
       "        [  0. ,   0. ,   0. ,   0. ],\n",
       "        [  0. ,   0. ,   0. ,   0. ],\n",
       "        [  0. ,   0. ,   0. ,   0. ],\n",
       "        [  0. ,   0. ,   0. ,   0. ],\n",
       "        [  0. ,   0. ,   0. ,   0. ],\n",
       "        [  0. ,   0. ,   0. ,   0. ],\n",
       "        [  0. ,   0. ,   0. ,   0. ],\n",
       "        [  0. ,   0. , 495. , 515. ],\n",
       "        [211. , 230. , 485. , 507. ],\n",
       "        [213.5, 232.5, 476. , 497.5],\n",
       "        [216.5, 236.5, 463. , 485. ],\n",
       "        [220. , 240.5, 452.5, 474. ],\n",
       "        [224. , 244. , 441.5, 463.5],\n",
       "        [229.5, 250.5, 426. , 448.5],\n",
       "        [235. , 256. , 413.5, 436. ]],\n",
       "\n",
       "       [[  0. ,   0. ,   0. ,   0. ],\n",
       "        [  0. ,   0. ,   0. ,   0. ],\n",
       "        [  0. ,   0. ,   0. ,   0. ],\n",
       "        [  0. ,   0. ,   0. ,   0. ],\n",
       "        [  0. ,   0. ,   0. ,   0. ],\n",
       "        [  0. ,   0. ,   0. ,   0. ],\n",
       "        [  0. ,   0. ,   0. ,   0. ],\n",
       "        [  0. ,   0. ,   0. ,   0. ],\n",
       "        [  0. ,   0. ,   0. ,   0. ],\n",
       "        [  0. ,   0. ,   0. ,   0. ],\n",
       "        [  0. ,   0. ,   0. ,   0. ],\n",
       "        [  0. ,   0. , 495. , 515. ],\n",
       "        [211. , 230. , 485. , 507. ],\n",
       "        [213.5, 232.5, 476. , 497.5],\n",
       "        [216.5, 236.5, 463. , 485. ],\n",
       "        [220. , 240.5, 452.5, 474. ],\n",
       "        [224. , 244. , 441.5, 463.5],\n",
       "        [229.5, 250.5, 426. , 448.5],\n",
       "        [235. , 256. , 413.5, 436. ],\n",
       "        [242.5, 264.5, 395. , 418. ]]])"
      ]
     },
     "execution_count": 18,
     "metadata": {},
     "output_type": "execute_result"
    }
   ],
   "source": [
    "npy_array[:10]"
   ]
  },
  {
   "cell_type": "code",
   "execution_count": 24,
   "metadata": {},
   "outputs": [
    {
     "data": {
      "text/plain": [
       "99"
      ]
     },
     "execution_count": 24,
     "metadata": {},
     "output_type": "execute_result"
    }
   ],
   "source": [
    "len([[9.850715324921595, -2.4599579902681374],[6.615110312640641, 1.1540531770127413],[7.41918558896831, 2.8302628611026495],[8.556503945549668, 0.3468410500368394],[6.465440524291949, -2.0793884549787065],[7.780037007740142, 1.1904319535705827],[8.552879469338405, -1.692884439699251],[8.579632141771087, 1.5401876343507168],[7.3299666701099655, 1.0362246921555027],[8.58319092522273, 1.947011402403695],[6.0612100095982, 2.336201634946792],[6.318418470016545, 0.6915800291792218],[8.513100868106063, -0.6381548815692847],[8.936778080827644, 0.9582419076654426],[8.609319230204907, -0.44167154040057044],[6.927783028733114, 0.1414818176194449],[7.800526493702175, 0.4773592786524238],[8.111037402739369, -0.40602603281618965],[6.038148005412364, 2.9747844485871826],[8.386005421052605, 2.7419967055297514],[6.645274911879599, -2.8998934953403914],[7.56797539592803, 1.2737085473545675],[7.7517423768713325, 2.3257576055004097],[6.110183522516695, 0.5421270073086444],[8.57034406243817, 1.4253170641945587],[8.580121645585281, 0.9974139329235079],[7.756279672107773, -1.2183490458442476],[6.125815130702706, 0.49989197079303005],[8.258266862290247, -2.5633907953132775],[6.179244699016952, -1.498246374596822],[9.04404762722706, -1.1669504779615303],[9.965016042627916, -1.8610571651228027],[7.032149298434519, 1.3682363679428171],[6.8325533464358585, -2.308003455092148],[7.6691252927144005, -2.507673478985287],[6.576778214423938, -2.79928533221218],[6.080830027610218, 2.3344433598526795],[9.335146213195848, 1.0913613446645922],[8.610271868456874, 2.7658298120630187],[7.2640520684557695, 2.4535254529852404],[8.293062273286683, -2.6646151024237836],[7.06844894922195, -2.2828176883268245],[7.340216309798152, 2.982846428013799],[6.490102782846223, 0.5341222048168535],[9.835842278199362, -2.448119475299717],[6.7918548399378755, 0.46599314949310344],[6.34237862022159, 0.7753123770996173],[6.290554364423248, -1.5854916536968275],[7.949602131173205, -2.4081164205142374],[6.017843303162472, -0.2840839609880762],[8.594829417994655, 1.6369854262150607],[7.953322632601895, -0.050708488872660995],[7.924253916919518, 1.226770229823889],[8.480290649937887, 1.5540886544298216],[9.362862749567046, 0.8257472734415015],[7.182418409396621, -1.632230600986516],[6.795001951955431, -0.257486287425742],[6.290174854380166, 0.22682943567545066],[8.385822847066116, 1.9099184734615284],[7.30780204375761, 1.163883368654409],[8.304795085427356, -2.3513099231852514],[7.332011838107156, -2.4276615872683167],[8.49812980451529, 1.7406710275662611],[7.634739744497031, 0.00137026849674049],[7.61204488136005, -0.06783152743280907],[9.094510696328753, -0.701136549312443],[7.642670853005197, -0.6363590086635127],[9.6765349859197, 2.686670323856228],[6.514322267176656, -1.6945030877268814],[7.4111965111873195, -2.5265479653376834],[6.013615716156044, 0.5006997276189602],[8.636769110800431, 2.1808743516616307],[6.211409819037085, 1.7636433221551895],[7.289927378118963, -1.2087484476222174],[7.133403774370477, -0.1592303078785361],[8.738396641358747, 0.8463878149046792],[7.882873892538725, 0.7492731590102456],[7.391580741993121, -2.924163623283767],[7.835431029836058, -2.267292147905674],[9.93545936244133, -1.9136619522804208],[9.396266923077388, 2.0800087891720014],[9.369497795250672, -1.9686329598280365],[6.027517796102913, -0.14297442531080007],[8.103113195723653, -0.402397768307194],[6.092806514633231, -2.695323484452337],[8.60745944902624, 1.0398348910583022],[7.28679477593088, 1.5751545443512567],[9.603421142475133, 2.870511098825409],[9.01154530219899, 1.6370143148223306],[8.36297721413697, 2.8441897392745448],[6.928635333778087, -1.356134583094463],[8.197732022043462, 1.8212896154669687],[8.423108405597391, -0.657760606794699],[6.509409147312991, 1.277048422497156],[6.176844543167684, 0.2169923417109555],[6.927756419893956, 2.7524548647188736],[9.85735758010074, -0.9057113160597572],[6.056765113223903, -1.2533775453750495],[8.397669452423449, -1.843964858886376]])"
   ]
  },
  {
   "cell_type": "code",
   "execution_count": 2,
   "metadata": {},
   "outputs": [],
   "source": [
    "import numpy as np"
   ]
  },
  {
   "cell_type": "code",
   "execution_count": 16,
   "metadata": {},
   "outputs": [],
   "source": [
    "s = 18.6\n",
    "v0 = 200\n",
    "h = 2\n",
    "angle = np.arctan(h/s)"
   ]
  },
  {
   "cell_type": "code",
   "execution_count": 17,
   "metadata": {},
   "outputs": [
    {
     "data": {
      "text/plain": [
       "6.137255949261987"
      ]
     },
     "execution_count": 17,
     "metadata": {},
     "output_type": "execute_result"
    }
   ],
   "source": [
    "np.rad2deg(angle)"
   ]
  },
  {
   "cell_type": "code",
   "execution_count": 15,
   "metadata": {},
   "outputs": [
    {
     "data": {
      "text/plain": [
       "0.8455313699917524"
      ]
     },
     "execution_count": 15,
     "metadata": {},
     "output_type": "execute_result"
    }
   ],
   "source": [
    "np.tan(0.14) * 6"
   ]
  },
  {
   "cell_type": "code",
   "execution_count": 345,
   "metadata": {},
   "outputs": [],
   "source": [
    "ball_trajectory_list = []\n",
    "ball_point_data = []\n",
    "save_data = []\n",
    "seq_cnt = 0\n",
    "trajectroy_cnt = 0"
   ]
  },
  {
   "cell_type": "code",
   "execution_count": 380,
   "metadata": {},
   "outputs": [],
   "source": [
    "ball_centroid_list = [[0, 0],[0, 0]]\n"
   ]
  },
  {
   "cell_type": "code",
   "execution_count": 381,
   "metadata": {},
   "outputs": [
    {
     "name": "stdout",
     "output_type": "stream",
     "text": [
      "2\n",
      "[[[[1, 0, 0, 0]], [[1, 0, 0, 0], [1, 0, 0, 0]], [[1, 0, 0, 0], [1, 0, 0, 0], [1, 0, 0, 0]], [[1, 0, 0, 0], [1, 0, 0, 0], [1, 0, 0, 0], [1, 0, 0, 0]], [[1, 0, 0, 0], [1, 0, 0, 0], [1, 0, 0, 0], [1, 0, 0, 0], [1, 0, 0, 0]], [[1, 0, 0, 0], [1, 0, 0, 0], [1, 0, 0, 0], [1, 0, 0, 0], [1, 0, 0, 0], [1, 0, 0, 0]], [[1, 0, 0, 0], [1, 0, 0, 0], [1, 0, 0, 0], [1, 0, 0, 0], [1, 0, 0, 0], [1, 0, 0, 0], [1, 0, 0, 0]]], [[[2, 0, 0, 0]], [[2, 0, 0, 0], [2, 0, 0, 0]], [[2, 0, 0, 0], [2, 0, 0, 0], [2, 0, 0, 0]], [[2, 0, 0, 0], [2, 0, 0, 0], [2, 0, 0, 0], [2, 0, 0, 0]], [[2, 0, 0, 0], [2, 0, 0, 0], [2, 0, 0, 0], [2, 0, 0, 0], [2, 0, 0, 0]], [[2, 0, 0, 0], [2, 0, 0, 0], [2, 0, 0, 0], [2, 0, 0, 0], [2, 0, 0, 0], [2, 0, 0, 0]], [[2, 0, 0, 0], [2, 0, 0, 0], [2, 0, 0, 0], [2, 0, 0, 0], [2, 0, 0, 0], [2, 0, 0, 0], [2, 0, 0, 0]], [[2, 0, 0, 0], [2, 0, 0, 0], [2, 0, 0, 0], [2, 0, 0, 0], [2, 0, 0, 0], [2, 0, 0, 0], [2, 0, 0, 0], [2, 0, 0, 0]], [[2, 0, 0, 0], [2, 0, 0, 0], [2, 0, 0, 0], [2, 0, 0, 0], [2, 0, 0, 0], [2, 0, 0, 0], [2, 0, 0, 0], [2, 0, 0, 0], [2, 0, 0, 0]], [[2, 0, 0, 0], [2, 0, 0, 0], [2, 0, 0, 0], [2, 0, 0, 0], [2, 0, 0, 0], [2, 0, 0, 0], [2, 0, 0, 0], [2, 0, 0, 0], [2, 0, 0, 0], [2, 0, 0, 0]]]]\n",
      "trajectroy_cnt : 2\n",
      "seq_cnt:  10\n"
     ]
    }
   ],
   "source": [
    "if (max(ball_centroid_list) == [0,0] or max(ball_centroid_list) > [640, 640]) and len(ball_trajectory_list) == 0: #공 검출되지 않은 경우 패스\n",
    "    print(1)\n",
    "    pass\n",
    "\n",
    "elif (max(ball_centroid_list) == [0,0] or max(ball_centroid_list) > [640, 640]) :\n",
    "    print(2)\n",
    "    ball_trajectory_list.clear()\n",
    "\n",
    "    if seq_cnt < 5: #만약 로봇을 공으로 볼 경우 save data에서 마지막 항 빼고 파라미터 초기화\n",
    "        print(\"cancel\")\n",
    "        seq_cnt = 0\n",
    "        ball_point_data.clear()\n",
    "\n",
    "    else:\n",
    "        trajectroy_cnt += 1\n",
    "        #ff.write(str(seq_cnt) + \",\")\n",
    "        ball_point_data.copy()\n",
    "        save_data.append(ball_point_data.copy())\n",
    "        print(save_data)\n",
    "        print(\"trajectroy_cnt :\",trajectroy_cnt)\n",
    "        print(\"seq_cnt: \",seq_cnt)\n",
    "        seq_cnt = 0\n",
    "        ball_point_data.clear()\n",
    "        \n",
    "\n",
    "else:\n",
    "    print(3)\n",
    "    ball_point = (ball_centroid_list[0] + ball_centroid_list[1])\n",
    "    ball_trajectory_list.append(ball_point)\n",
    "    ball_point_data.append(ball_trajectory_list.copy())\n",
    "    seq_cnt += 1\n",
    "    \n",
    "    print(ball_point_data)"
   ]
  },
  {
   "cell_type": "code",
   "execution_count": 382,
   "metadata": {
    "scrolled": true
   },
   "outputs": [
    {
     "data": {
      "text/plain": [
       "[[[[1, 0, 0, 0]],\n",
       "  [[1, 0, 0, 0], [1, 0, 0, 0]],\n",
       "  [[1, 0, 0, 0], [1, 0, 0, 0], [1, 0, 0, 0]],\n",
       "  [[1, 0, 0, 0], [1, 0, 0, 0], [1, 0, 0, 0], [1, 0, 0, 0]],\n",
       "  [[1, 0, 0, 0], [1, 0, 0, 0], [1, 0, 0, 0], [1, 0, 0, 0], [1, 0, 0, 0]],\n",
       "  [[1, 0, 0, 0],\n",
       "   [1, 0, 0, 0],\n",
       "   [1, 0, 0, 0],\n",
       "   [1, 0, 0, 0],\n",
       "   [1, 0, 0, 0],\n",
       "   [1, 0, 0, 0]],\n",
       "  [[1, 0, 0, 0],\n",
       "   [1, 0, 0, 0],\n",
       "   [1, 0, 0, 0],\n",
       "   [1, 0, 0, 0],\n",
       "   [1, 0, 0, 0],\n",
       "   [1, 0, 0, 0],\n",
       "   [1, 0, 0, 0]]],\n",
       " [[[2, 0, 0, 0]],\n",
       "  [[2, 0, 0, 0], [2, 0, 0, 0]],\n",
       "  [[2, 0, 0, 0], [2, 0, 0, 0], [2, 0, 0, 0]],\n",
       "  [[2, 0, 0, 0], [2, 0, 0, 0], [2, 0, 0, 0], [2, 0, 0, 0]],\n",
       "  [[2, 0, 0, 0], [2, 0, 0, 0], [2, 0, 0, 0], [2, 0, 0, 0], [2, 0, 0, 0]],\n",
       "  [[2, 0, 0, 0],\n",
       "   [2, 0, 0, 0],\n",
       "   [2, 0, 0, 0],\n",
       "   [2, 0, 0, 0],\n",
       "   [2, 0, 0, 0],\n",
       "   [2, 0, 0, 0]],\n",
       "  [[2, 0, 0, 0],\n",
       "   [2, 0, 0, 0],\n",
       "   [2, 0, 0, 0],\n",
       "   [2, 0, 0, 0],\n",
       "   [2, 0, 0, 0],\n",
       "   [2, 0, 0, 0],\n",
       "   [2, 0, 0, 0]],\n",
       "  [[2, 0, 0, 0],\n",
       "   [2, 0, 0, 0],\n",
       "   [2, 0, 0, 0],\n",
       "   [2, 0, 0, 0],\n",
       "   [2, 0, 0, 0],\n",
       "   [2, 0, 0, 0],\n",
       "   [2, 0, 0, 0],\n",
       "   [2, 0, 0, 0]],\n",
       "  [[2, 0, 0, 0],\n",
       "   [2, 0, 0, 0],\n",
       "   [2, 0, 0, 0],\n",
       "   [2, 0, 0, 0],\n",
       "   [2, 0, 0, 0],\n",
       "   [2, 0, 0, 0],\n",
       "   [2, 0, 0, 0],\n",
       "   [2, 0, 0, 0],\n",
       "   [2, 0, 0, 0]],\n",
       "  [[2, 0, 0, 0],\n",
       "   [2, 0, 0, 0],\n",
       "   [2, 0, 0, 0],\n",
       "   [2, 0, 0, 0],\n",
       "   [2, 0, 0, 0],\n",
       "   [2, 0, 0, 0],\n",
       "   [2, 0, 0, 0],\n",
       "   [2, 0, 0, 0],\n",
       "   [2, 0, 0, 0],\n",
       "   [2, 0, 0, 0]]]]"
      ]
     },
     "execution_count": 382,
     "metadata": {},
     "output_type": "execute_result"
    }
   ],
   "source": [
    "save_data"
   ]
  },
  {
   "cell_type": "code",
   "execution_count": 393,
   "metadata": {
    "scrolled": true
   },
   "outputs": [
    {
     "name": "stderr",
     "output_type": "stream",
     "text": [
      "/home/drcl_yang/anaconda3/envs/yolov5/lib/python3.6/site-packages/ipykernel_launcher.py:1: VisibleDeprecationWarning: Creating an ndarray from ragged nested sequences (which is a list-or-tuple of lists-or-tuples-or ndarrays with different lengths or shapes) is deprecated. If you meant to do this, you must specify 'dtype=object' when creating the ndarray\n",
      "  \"\"\"Entry point for launching an IPython kernel.\n"
     ]
    },
    {
     "data": {
      "text/plain": [
       "array([list([[[1, 0, 0, 0]], [[1, 0, 0, 0], [1, 0, 0, 0]], [[1, 0, 0, 0], [1, 0, 0, 0], [1, 0, 0, 0]], [[1, 0, 0, 0], [1, 0, 0, 0], [1, 0, 0, 0], [1, 0, 0, 0]], [[1, 0, 0, 0], [1, 0, 0, 0], [1, 0, 0, 0], [1, 0, 0, 0], [1, 0, 0, 0]], [[1, 0, 0, 0], [1, 0, 0, 0], [1, 0, 0, 0], [1, 0, 0, 0], [1, 0, 0, 0], [1, 0, 0, 0]], [[1, 0, 0, 0], [1, 0, 0, 0], [1, 0, 0, 0], [1, 0, 0, 0], [1, 0, 0, 0], [1, 0, 0, 0], [1, 0, 0, 0]]]),\n",
       "       list([[[2, 0, 0, 0]], [[2, 0, 0, 0], [2, 0, 0, 0]], [[2, 0, 0, 0], [2, 0, 0, 0], [2, 0, 0, 0]], [[2, 0, 0, 0], [2, 0, 0, 0], [2, 0, 0, 0], [2, 0, 0, 0]], [[2, 0, 0, 0], [2, 0, 0, 0], [2, 0, 0, 0], [2, 0, 0, 0], [2, 0, 0, 0]], [[2, 0, 0, 0], [2, 0, 0, 0], [2, 0, 0, 0], [2, 0, 0, 0], [2, 0, 0, 0], [2, 0, 0, 0]], [[2, 0, 0, 0], [2, 0, 0, 0], [2, 0, 0, 0], [2, 0, 0, 0], [2, 0, 0, 0], [2, 0, 0, 0], [2, 0, 0, 0]], [[2, 0, 0, 0], [2, 0, 0, 0], [2, 0, 0, 0], [2, 0, 0, 0], [2, 0, 0, 0], [2, 0, 0, 0], [2, 0, 0, 0], [2, 0, 0, 0]], [[2, 0, 0, 0], [2, 0, 0, 0], [2, 0, 0, 0], [2, 0, 0, 0], [2, 0, 0, 0], [2, 0, 0, 0], [2, 0, 0, 0], [2, 0, 0, 0], [2, 0, 0, 0]], [[2, 0, 0, 0], [2, 0, 0, 0], [2, 0, 0, 0], [2, 0, 0, 0], [2, 0, 0, 0], [2, 0, 0, 0], [2, 0, 0, 0], [2, 0, 0, 0], [2, 0, 0, 0], [2, 0, 0, 0]]])],\n",
       "      dtype=object)"
      ]
     },
     "execution_count": 393,
     "metadata": {},
     "output_type": "execute_result"
    }
   ],
   "source": [
    "np.array(save_data)"
   ]
  },
  {
   "cell_type": "code",
   "execution_count": 402,
   "metadata": {},
   "outputs": [
    {
     "ename": "NameError",
     "evalue": "name 'self' is not defined",
     "output_type": "error",
     "traceback": [
      "\u001b[0;31m---------------------------------------------------------------------------\u001b[0m",
      "\u001b[0;31mNameError\u001b[0m                                 Traceback (most recent call last)",
      "\u001b[0;32m<ipython-input-402-fad9309d9fb1>\u001b[0m in \u001b[0;36m<module>\u001b[0;34m\u001b[0m\n\u001b[0;32m----> 1\u001b[0;31m \u001b[0;32mif\u001b[0m \u001b[0;34m(\u001b[0m\u001b[0mmax\u001b[0m\u001b[0;34m(\u001b[0m\u001b[0mself\u001b[0m\u001b[0;34m.\u001b[0m\u001b[0mball_centroid_list\u001b[0m\u001b[0;34m)\u001b[0m \u001b[0;34m==\u001b[0m \u001b[0;34m[\u001b[0m\u001b[0;36m0\u001b[0m\u001b[0;34m,\u001b[0m\u001b[0;36m0\u001b[0m\u001b[0;34m]\u001b[0m \u001b[0;32mor\u001b[0m \u001b[0mmax\u001b[0m\u001b[0;34m(\u001b[0m\u001b[0mself\u001b[0m\u001b[0;34m.\u001b[0m\u001b[0mball_centroid_list\u001b[0m\u001b[0;34m)\u001b[0m \u001b[0;34m>\u001b[0m \u001b[0;34m[\u001b[0m\u001b[0;36m640\u001b[0m\u001b[0;34m,\u001b[0m \u001b[0;36m640\u001b[0m\u001b[0;34m]\u001b[0m\u001b[0;34m)\u001b[0m \u001b[0;32mand\u001b[0m \u001b[0mlen\u001b[0m\u001b[0;34m(\u001b[0m\u001b[0mball_trajectory_list\u001b[0m\u001b[0;34m)\u001b[0m \u001b[0;34m==\u001b[0m \u001b[0;36m0\u001b[0m\u001b[0;34m:\u001b[0m \u001b[0;31m#공 검출되지 않은 경우 패스\u001b[0m\u001b[0;34m\u001b[0m\u001b[0;34m\u001b[0m\u001b[0m\n\u001b[0m\u001b[1;32m      2\u001b[0m     \u001b[0;32mpass\u001b[0m\u001b[0;34m\u001b[0m\u001b[0;34m\u001b[0m\u001b[0m\n\u001b[1;32m      3\u001b[0m \u001b[0;34m\u001b[0m\u001b[0m\n\u001b[1;32m      4\u001b[0m \u001b[0;32melif\u001b[0m \u001b[0;34m(\u001b[0m\u001b[0mmax\u001b[0m\u001b[0;34m(\u001b[0m\u001b[0mself\u001b[0m\u001b[0;34m.\u001b[0m\u001b[0mball_centroid_list\u001b[0m\u001b[0;34m)\u001b[0m \u001b[0;34m==\u001b[0m \u001b[0;34m[\u001b[0m\u001b[0;36m0\u001b[0m\u001b[0;34m,\u001b[0m\u001b[0;36m0\u001b[0m\u001b[0;34m]\u001b[0m \u001b[0;32mor\u001b[0m \u001b[0mmax\u001b[0m\u001b[0;34m(\u001b[0m\u001b[0mself\u001b[0m\u001b[0;34m.\u001b[0m\u001b[0mball_centroid_list\u001b[0m\u001b[0;34m)\u001b[0m \u001b[0;34m>\u001b[0m \u001b[0;34m[\u001b[0m\u001b[0;36m640\u001b[0m\u001b[0;34m,\u001b[0m \u001b[0;36m640\u001b[0m\u001b[0;34m]\u001b[0m\u001b[0;34m)\u001b[0m \u001b[0;34m:\u001b[0m\u001b[0;34m\u001b[0m\u001b[0;34m\u001b[0m\u001b[0m\n\u001b[1;32m      5\u001b[0m     \u001b[0mball_trajectory_list\u001b[0m\u001b[0;34m.\u001b[0m\u001b[0mclear\u001b[0m\u001b[0;34m(\u001b[0m\u001b[0;34m)\u001b[0m\u001b[0;34m\u001b[0m\u001b[0;34m\u001b[0m\u001b[0m\n",
      "\u001b[0;31mNameError\u001b[0m: name 'self' is not defined"
     ]
    }
   ],
   "source": [
    "######### 데이터 저장 하는 방법 2 backup\n",
    "\n",
    "\n",
    "if (max(self.ball_centroid_list) == [0,0] or max(self.ball_centroid_list) > [640, 640]) and len(ball_trajectory_list) == 0: #공 검출되지 않은 경우 패스\n",
    "                    pass\n",
    "\n",
    "                elif (max(self.ball_centroid_list) == [0,0] or max(self.ball_centroid_list) > [640, 640]) :\n",
    "                    ball_trajectory_list.clear()\n",
    "\n",
    "                    if seq_cnt < 5: #만약 로봇을 공으로 볼 경우 save data에서 마지막 항 빼고 파라미터 초기화\n",
    "                        seq_cnt = 0\n",
    "                        ball_point_data.clear()\n",
    "\n",
    "                    else:\n",
    "                        trajectroy_cnt += 1\n",
    "                        ball_point_data.copy()\n",
    "                        save_data.append(ball_point_data.copy())\n",
    "\n",
    "                        ball_point_data.clear()\n",
    "\n",
    "                        print(\"trajectroy_cnt :\",trajectroy_cnt)\n",
    "                        print(\"seq_cnt: \",seq_cnt)\n",
    "                        seq_cnt = 0\n",
    "\n",
    "                else:\n",
    "                #elif max(self.ball_centroid_list) > [0,0]:\n",
    "                    ball_point = (self.ball_centroid_list[0] + self.ball_centroid_list[1])\n",
    "                    ball_trajectory_list.append(ball_point)\n",
    "                    ball_point_data.append(ball_trajectory_list.copy())\n",
    "                    seq_cnt += 1"
   ]
  },
  {
   "cell_type": "code",
   "execution_count": 389,
   "metadata": {},
   "outputs": [
    {
     "data": {
      "text/plain": [
       "10"
      ]
     },
     "execution_count": 389,
     "metadata": {},
     "output_type": "execute_result"
    }
   ],
   "source": [
    "len(save_data[1])"
   ]
  },
  {
   "cell_type": "code",
   "execution_count": 7,
   "metadata": {},
   "outputs": [],
   "source": []
  },
  {
   "cell_type": "code",
   "execution_count": 4,
   "metadata": {},
   "outputs": [
    {
     "data": {
      "text/plain": [
       "[[[[201.5, 222.5, 421.0, 442.5],\n",
       "   [205.5, 227.5, 408.5, 431.5],\n",
       "   [209.0, 231.5, 399.0, 421.5],\n",
       "   [214.5, 237.5, 385.5, 408.5],\n",
       "   [221.5, 244.5, 371.5, 394.5],\n",
       "   [229.5, 253.5, 356.0, 379.0],\n",
       "   [237.5, 261.5, 343.0, 366.0],\n",
       "   [248.5, 273.0, 325.5, 349.0],\n",
       "   [259.0, 283.5, 311.0, 335.0],\n",
       "   [289.0, 313.5, 0, 0],\n",
       "   [266.0, 290.5, 297.0, 323.0],\n",
       "   [244.5, 270.0, 317.5, 344.5],\n",
       "   [219.5, 242.5, 349.5, 377.0]],\n",
       "  [8.261344712823005, -2.306164520440291]],\n",
       " [[[167.5, 189.5, 410.0, 430.0],\n",
       "   [171.5, 194.0, 403.0, 424.0],\n",
       "   [176.5, 199.5, 396.0, 418.0],\n",
       "   [184.0, 207.0, 387.5, 409.0],\n",
       "   [192.5, 215.5, 378.0, 400.0],\n",
       "   [199.0, 223.0, 370.0, 392.0],\n",
       "   [207.0, 231.0, 361.5, 384.5],\n",
       "   [219.0, 243.0, 349.5, 372.5],\n",
       "   [229.0, 253.5, 335.5, 359.5],\n",
       "   [244.5, 269.0, 324.5, 348.5],\n",
       "   [257.5, 282.5, 312.5, 336.5],\n",
       "   [272.0, 297.0, 299.0, 323.5],\n",
       "   [279.0, 303.5, 294.5, 320.5],\n",
       "   [261.5, 287.0, 314.5, 340.5],\n",
       "   [241.5, 267.0, 337.0, 364.0]],\n",
       "  [6.895385697544844, 0.8737655736213427]],\n",
       " [[[191.5, 212.5, 430.5, 451.5],\n",
       "   [193.5, 215.5, 421.5, 443.5],\n",
       "   [198.0, 220.5, 410.0, 432.0],\n",
       "   [202.0, 224.5, 401.0, 423.0],\n",
       "   [208.5, 231.0, 387.0, 410.0],\n",
       "   [213.5, 236.5, 376.5, 399.0],\n",
       "   [222.5, 245.5, 361.0, 384.0],\n",
       "   [229.5, 253.5, 348.5, 372.0],\n",
       "   [242.0, 266.0, 330.5, 354.5],\n",
       "   [252.5, 277.0, 310.5, 334.5],\n",
       "   [294.0, 318.5, 0, 0],\n",
       "   [269.5, 294.0, 0, 0],\n",
       "   [242.0, 267.5, 314.0, 340.5],\n",
       "   [219.5, 244.0, 347.5, 376.0]],\n",
       "  [8.58677226224015, -2.176422399941662]],\n",
       " [[[176.0, 198.0, 429.0, 450.0],\n",
       "   [180.5, 202.5, 423.0, 444.0],\n",
       "   [185.5, 207.5, 416.0, 437.5],\n",
       "   [193.0, 215.5, 407.0, 428.5],\n",
       "   [199.5, 222.0, 399.0, 421.5],\n",
       "   [206.0, 229.0, 391.5, 414.0],\n",
       "   [216.5, 239.5, 380.0, 402.5],\n",
       "   [225.0, 248.5, 370.5, 393.5],\n",
       "   [238.5, 261.5, 356.0, 380.0],\n",
       "   [250.0, 273.5, 344.5, 368.5],\n",
       "   [267.0, 291.0, 327.0, 351.5],\n",
       "   [282.5, 307.0, 311.0, 336.0],\n",
       "   [288.5, 313.5, 298.5, 323.5],\n",
       "   [266.5, 292.5, 325.5, 350.5],\n",
       "   [243.0, 270.0, 347.0, 373.5]],\n",
       "  [7.822517084527802, 1.4817454681617748]],\n",
       " [[[146.0, 169.0, 388.0, 408.5],\n",
       "   [151.5, 175.0, 382.0, 403.5],\n",
       "   [158.0, 181.0, 377.0, 398.0],\n",
       "   [165.0, 189.0, 370.5, 392.5],\n",
       "   [173.0, 196.0, 363.5, 385.5],\n",
       "   [184.5, 208.5, 354.5, 376.5],\n",
       "   [193.5, 218.5, 347.5, 369.5],\n",
       "   [208.5, 233.0, 336.0, 358.5],\n",
       "   [220.5, 245.0, 327.0, 350.0],\n",
       "   [233.5, 258.0, 317.5, 340.5],\n",
       "   [253.0, 278.5, 303.0, 326.5],\n",
       "   [290.5, 315.0, 0, 0],\n",
       "   [272.0, 297.0, 0, 0],\n",
       "   [256.0, 281.0, 317.0, 343.0],\n",
       "   [237.5, 263.5, 341.0, 368.0],\n",
       "   [222.0, 242.0, 369.0, 393.5]],\n",
       "  [6.099108374712339, 1.5312111005855273]],\n",
       " [[[177.0, 198.5, 441.5, 461.5],\n",
       "   [180.5, 202.5, 434.0, 455.5],\n",
       "   [185.5, 207.0, 424.5, 446.0],\n",
       "   [192.5, 214.5, 416.5, 438.0],\n",
       "   [198.5, 220.5, 407.5, 429.5],\n",
       "   [207.5, 230.5, 395.5, 417.5],\n",
       "   [215.5, 238.5, 384.5, 407.5],\n",
       "   [228.0, 251.0, 369.5, 392.5],\n",
       "   [238.5, 261.5, 356.5, 380.5],\n",
       "   [254.5, 278.5, 337.5, 361.5],\n",
       "   [274.5, 299.0, 315.0, 339.5],\n",
       "   [295.0, 320.0, 0, 0],\n",
       "   [264.5, 290.0, 321.0, 347.0],\n",
       "   [236.5, 263.0, 346.5, 373.5]],\n",
       "  [9.562087570283845, 0.3587302346765744]],\n",
       " [[[198.0, 219.0, 448.0, 470.0],\n",
       "   [203.5, 224.5, 441.0, 463.0],\n",
       "   [208.0, 229.5, 429.5, 452.0],\n",
       "   [214.5, 236.5, 421.5, 444.0],\n",
       "   [222.5, 244.5, 409.0, 431.5],\n",
       "   [229.0, 251.5, 398.5, 422.0],\n",
       "   [239.5, 262.5, 383.5, 407.5],\n",
       "   [248.0, 271.0, 372.0, 395.0],\n",
       "   [261.5, 285.5, 353.5, 377.5],\n",
       "   [273.5, 297.5, 337.5, 362.5],\n",
       "   [291.5, 316.5, 314.5, 339.5],\n",
       "   [294.0, 320.0, 308.0, 332.5],\n",
       "   [253.0, 279.5, 342.0, 367.5]],\n",
       "  [8.429811923383578, 0.35092718695224934]],\n",
       " [[[193.5, 214.5, 428.5, 450.0],\n",
       "   [197.0, 219.0, 417.0, 438.5],\n",
       "   [200.0, 222.5, 408.0, 430.0],\n",
       "   [205.5, 228.0, 395.0, 417.0],\n",
       "   [210.0, 233.0, 384.5, 407.5],\n",
       "   [217.5, 240.5, 370.0, 393.0],\n",
       "   [224.0, 247.0, 358.5, 381.5],\n",
       "   [234.0, 258.0, 341.0, 365.0],\n",
       "   [243.0, 267.5, 328.0, 351.5],\n",
       "   [257.5, 282.5, 308.0, 332.0],\n",
       "   [291.5, 315.5, 0, 0],\n",
       "   [268.0, 293.0, 0, 0],\n",
       "   [241.0, 266.0, 321.0, 348.0],\n",
       "   [220.5, 243.5, 348.0, 376.0]],\n",
       "  [8.000804699999073, -2.4194079657262315]],\n",
       " [[[180.0, 201.5, 447.0, 468.5],\n",
       "   [184.5, 205.0, 439.5, 461.0],\n",
       "   [187.5, 209.5, 431.5, 453.5],\n",
       "   [193.5, 215.5, 420.5, 442.5],\n",
       "   [201.0, 223.0, 408.0, 430.5],\n",
       "   [207.5, 229.5, 398.0, 421.0],\n",
       "   [214.5, 237.5, 383.5, 406.5],\n",
       "   [225.5, 248.5, 371.5, 394.5],\n",
       "   [235.0, 259.0, 358.0, 381.5],\n",
       "   [251.0, 275.0, 338.0, 362.0],\n",
       "   [265.0, 289.0, 320.5, 345.0],\n",
       "   [286.5, 311.5, 295.5, 320.5],\n",
       "   [265.0, 290.5, 307.5, 333.0],\n",
       "   [237.0, 263.0, 341.5, 368.0]],\n",
       "  [9.811299430708772, -0.6391889788075077]],\n",
       " [[[199.0, 219.5, 455.5, 477.0],\n",
       "   [203.5, 225.0, 448.5, 471.5],\n",
       "   [209.5, 231.5, 440.5, 463.5],\n",
       "   [216.0, 237.0, 433.5, 456.0],\n",
       "   [223.5, 245.5, 423.5, 446.5],\n",
       "   [231.0, 252.5, 415.5, 438.5],\n",
       "   [238.0, 260.0, 407.0, 430.0],\n",
       "   [249.5, 272.0, 393.5, 417.5],\n",
       "   [259.0, 282.0, 378.5, 402.5],\n",
       "   [273.0, 296.0, 365.5, 390.5],\n",
       "   [285.5, 309.0, 346.0, 371.0],\n",
       "   [0, 0, 328.5, 354.5],\n",
       "   [0, 0, 301.0, 327.5],\n",
       "   [275.0, 302.5, 344.0, 369.0],\n",
       "   [233.0, 262.0, 365.0, 390.0]],\n",
       "  [7.916421954379715, 2.5446911057135004]],\n",
       " [[[193.0, 215.0, 425.5, 447.0],\n",
       "   [196.0, 218.5, 416.5, 438.5],\n",
       "   [200.0, 223.0, 404.5, 426.5],\n",
       "   [204.5, 227.5, 394.0, 416.5],\n",
       "   [210.5, 233.5, 380.5, 402.5],\n",
       "   [216.0, 239.0, 369.5, 392.0],\n",
       "   [224.5, 248.0, 353.0, 376.5],\n",
       "   [232.0, 256.0, 340.5, 364.0],\n",
       "   [244.5, 269.0, 322.0, 345.5],\n",
       "   [256.0, 281.0, 300.5, 325.0],\n",
       "   [285.0, 309.0, 0, 0],\n",
       "   [266.0, 291.0, 0, 0],\n",
       "   [238.5, 264.0, 320.0, 348.0],\n",
       "   [220.5, 243.0, 347.0, 375.5]],\n",
       "  [8.108150286173304, -2.739669300402517]],\n",
       " [[[158.5, 180.5, 418.5, 439.0],\n",
       "   [164.0, 186.5, 410.5, 431.0],\n",
       "   [168.5, 191.0, 403.5, 424.5],\n",
       "   [175.5, 198.0, 394.5, 415.5],\n",
       "   [181.5, 204.5, 386.5, 408.0],\n",
       "   [190.0, 214.0, 375.5, 398.0],\n",
       "   [198.5, 222.0, 366.5, 389.5],\n",
       "   [209.5, 233.5, 354.5, 377.0],\n",
       "   [220.5, 244.5, 344.0, 367.0],\n",
       "   [236.0, 260.5, 328.5, 351.5],\n",
       "   [249.0, 274.0, 310.5, 334.5],\n",
       "   [295.5, 320.0, 0, 0],\n",
       "   [280.0, 304.5, 0, 0],\n",
       "   [261.0, 287.0, 309.5, 335.5],\n",
       "   [232.5, 258.0, 334.0, 361.0]],\n",
       "  [7.653822490013476, 0.3816137610491832]],\n",
       " [[[145.5, 168.5, 406.5, 427.0],\n",
       "   [153.0, 176.0, 399.0, 419.5],\n",
       "   [159.0, 182.0, 392.5, 414.0],\n",
       "   [168.5, 191.5, 384.0, 405.5],\n",
       "   [176.5, 199.5, 377.0, 399.0],\n",
       "   [185.0, 208.5, 369.0, 391.0],\n",
       "   [197.5, 221.5, 358.5, 380.5],\n",
       "   [208.5, 233.0, 349.0, 371.5],\n",
       "   [221.5, 245.5, 335.5, 358.5],\n",
       "   [239.5, 264.0, 324.0, 347.0],\n",
       "   [255.5, 280.0, 310.5, 334.5],\n",
       "   [290.5, 315.0, 0, 0],\n",
       "   [273.5, 298.5, 300.0, 326.0],\n",
       "   [245.5, 272.0, 332.0, 358.5],\n",
       "   [219.5, 246.5, 361.5, 388.5]],\n",
       "  [8.058954660134368, 1.8732448921928593]],\n",
       " [[[195.5, 217.0, 427.5, 449.0],\n",
       "   [200.5, 223.0, 420.5, 443.0],\n",
       "   [209.5, 232.0, 411.5, 433.5],\n",
       "   [216.0, 239.0, 400.5, 423.5],\n",
       "   [226.5, 249.5, 392.5, 415.5],\n",
       "   [235.5, 258.5, 382.5, 406.5],\n",
       "   [249.0, 272.0, 369.0, 393.0],\n",
       "   [260.0, 283.5, 357.0, 381.0],\n",
       "   [276.5, 301.0, 339.0, 363.5],\n",
       "   [291.0, 315.0, 323.0, 348.5],\n",
       "   [0, 0, 298.0, 324.0],\n",
       "   [275.5, 302.0, 331.0, 356.5],\n",
       "   [238.0, 266.0, 353.5, 379.0]],\n",
       "  [8.861293275369423, 2.770110186182939]],\n",
       " [[[186.5, 208.0, 421.0, 442.0],\n",
       "   [192.0, 214.5, 414.5, 436.5],\n",
       "   [200.5, 223.0, 405.5, 427.5],\n",
       "   [207.5, 230.0, 395.5, 418.0],\n",
       "   [218.0, 241.0, 387.5, 410.0],\n",
       "   [226.5, 249.5, 378.5, 401.5],\n",
       "   [240.0, 264.0, 365.0, 388.5],\n",
       "   [251.0, 274.5, 354.5, 378.5],\n",
       "   [268.0, 291.5, 338.0, 362.0],\n",
       "   [287.5, 311.5, 317.5, 342.5],\n",
       "   [0, 0, 300.5, 326.5],\n",
       "   [272.5, 299.5, 328.0, 353.0],\n",
       "   [247.5, 274.5, 349.0, 375.0]],\n",
       "  [8.544694624871319, 2.756516683065366]],\n",
       " [[[177.0, 199.5, 417.0, 438.5],\n",
       "   [181.0, 203.0, 409.0, 430.5],\n",
       "   [187.0, 209.5, 397.5, 419.0],\n",
       "   [192.5, 215.5, 388.0, 410.0],\n",
       "   [200.5, 223.5, 374.5, 397.0],\n",
       "   [208.0, 231.0, 364.0, 386.5],\n",
       "   [219.0, 243.0, 348.5, 371.5],\n",
       "   [228.5, 253.0, 336.0, 359.0],\n",
       "   [244.5, 269.5, 316.5, 340.5],\n",
       "   [295.5, 319.5, 0, 0],\n",
       "   [277.5, 302.0, 0, 0],\n",
       "   [250.0, 275.0, 311.0, 338.0],\n",
       "   [225.5, 251.5, 340.0, 367.5]],\n",
       "  [8.86186441986402, -1.3792776306844363]],\n",
       " [[[201.0, 221.0, 446.5, 468.5],\n",
       "   [203.0, 224.5, 438.5, 460.5],\n",
       "   [205.0, 226.5, 427.0, 450.0],\n",
       "   [208.5, 230.5, 418.5, 441.5],\n",
       "   [212.0, 234.0, 407.0, 430.0],\n",
       "   [216.5, 239.5, 397.0, 420.0],\n",
       "   [222.0, 246.0, 384.0, 407.0],\n",
       "   [228.0, 251.0, 374.0, 397.0],\n",
       "   [233.5, 257.0, 362.5, 386.0],\n",
       "   [243.0, 267.0, 346.0, 370.0],\n",
       "   [251.0, 275.0, 329.5, 353.5],\n",
       "   [263.5, 288.0, 316.0, 340.0],\n",
       "   [275.0, 300.0, 296.0, 320.5],\n",
       "   [279.5, 304.5, 0, 0],\n",
       "   [262.5, 288.0, 310.0, 336.0],\n",
       "   [236.5, 262.0, 337.5, 365.0]],\n",
       "  [6.030694175342588, -2.091410192314914]],\n",
       " [[[176.0, 198.0, 423.0, 444.0],\n",
       "   [180.5, 202.5, 413.0, 434.0],\n",
       "   [186.5, 209.0, 404.0, 426.0],\n",
       "   [192.0, 215.0, 395.0, 417.0],\n",
       "   [201.0, 224.0, 382.0, 405.0],\n",
       "   [208.5, 231.5, 371.5, 394.5],\n",
       "   [219.5, 243.5, 357.0, 379.5],\n",
       "   [230.0, 254.0, 343.5, 366.5],\n",
       "   [246.0, 270.0, 325.0, 348.5],\n",
       "   [260.0, 285.0, 309.0, 333.0],\n",
       "   [285.0, 309.5, 0, 0],\n",
       "   [264.5, 289.0, 303.5, 329.5],\n",
       "   [231.5, 257.5, 338.5, 365.5]],\n",
       "  [9.556269490004688, -0.6324476451766422]],\n",
       " [[[195.5, 216.0, 463.0, 484.5],\n",
       "   [200.0, 221.0, 452.0, 473.5],\n",
       "   [204.0, 225.5, 442.5, 465.0],\n",
       "   [210.0, 232.0, 430.5, 452.5],\n",
       "   [215.0, 237.0, 420.0, 443.0],\n",
       "   [223.0, 246.0, 405.0, 428.0],\n",
       "   [233.0, 255.5, 388.5, 411.5],\n",
       "   [241.5, 264.5, 374.0, 397.5],\n",
       "   [255.0, 278.5, 353.5, 377.5],\n",
       "   [266.5, 290.5, 337.0, 361.0],\n",
       "   [285.5, 310.5, 311.0, 335.5],\n",
       "   [288.0, 313.5, 303.5, 328.5],\n",
       "   [253.0, 279.0, 332.0, 358.5],\n",
       "   [219.0, 234.0, 373.0, 389.5]],\n",
       "  [9.887667308508034, -1.181915080646661]],\n",
       " [[[180.5, 202.5, 421.0, 442.0],\n",
       "   [184.0, 207.0, 414.0, 435.5],\n",
       "   [190.0, 212.5, 404.5, 426.5],\n",
       "   [194.5, 217.5, 397.5, 419.5],\n",
       "   [200.0, 223.0, 386.5, 409.0],\n",
       "   [208.5, 231.5, 378.5, 401.0],\n",
       "   [218.0, 241.0, 366.5, 389.0],\n",
       "   [225.5, 249.5, 356.5, 379.5],\n",
       "   [238.0, 262.0, 342.5, 365.5],\n",
       "   [252.0, 276.5, 326.5, 350.5],\n",
       "   [264.5, 289.0, 313.5, 337.5],\n",
       "   [278.5, 303.5, 299.0, 323.5],\n",
       "   [277.5, 302.5, 300.5, 326.0],\n",
       "   [258.5, 284.5, 320.0, 346.0],\n",
       "   [237.5, 264.0, 342.5, 369.5]],\n",
       "  [6.773100171519933, 0.13320867161922234]],\n",
       " [[[124.5, 147.5, 390.0, 409.0],\n",
       "   [127.5, 151.0, 383.0, 403.5],\n",
       "   [133.0, 156.5, 374.5, 394.5],\n",
       "   [137.5, 161.5, 366.5, 387.5],\n",
       "   [142.5, 167.0, 358.5, 380.0],\n",
       "   [148.5, 173.0, 347.0, 369.0],\n",
       "   [158.5, 183.5, 338.5, 360.0],\n",
       "   [166.5, 191.5, 326.0, 348.5],\n",
       "   [180.0, 206.0, 315.5, 338.5],\n",
       "   [192.0, 218.0, 305.0, 327.5],\n",
       "   [292.0, 315.5, 0, 0],\n",
       "   [275.0, 299.0, 0, 0],\n",
       "   [261.0, 284.5, 0, 0],\n",
       "   [238.5, 263.5, 0, 0],\n",
       "   [224.0, 245.0, 322.5, 352.5]],\n",
       "  [7.1337239342038306, -1.9198751383106858]],\n",
       " [[[183.0, 205.0, 408.5, 430.0],\n",
       "   [187.0, 210.0, 399.0, 421.0],\n",
       "   [194.0, 217.0, 386.0, 408.0],\n",
       "   [199.5, 223.5, 375.5, 398.0],\n",
       "   [209.0, 233.0, 360.5, 383.0],\n",
       "   [217.0, 241.0, 344.5, 367.5],\n",
       "   [230.0, 254.5, 331.0, 354.0],\n",
       "   [242.0, 266.5, 315.5, 339.5],\n",
       "   [293.5, 318.0, 0, 0],\n",
       "   [275.5, 299.5, 0, 0],\n",
       "   [247.0, 272.0, 300.0, 327.0],\n",
       "   [223.0, 248.5, 336.5, 365.0]],\n",
       "  [9.975475622538172, -1.9253286055304226]],\n",
       " [[[151.0, 175.0, 390.5, 411.5],\n",
       "   [158.5, 182.0, 384.0, 405.0],\n",
       "   [169.0, 192.5, 374.5, 396.0],\n",
       "   [178.5, 202.0, 366.5, 388.0],\n",
       "   [192.0, 216.0, 354.5, 377.5],\n",
       "   [204.0, 228.0, 344.5, 367.5],\n",
       "   [221.5, 245.5, 331.0, 354.0],\n",
       "   [236.5, 261.5, 318.5, 341.5],\n",
       "   [253.0, 278.0, 299.5, 324.0],\n",
       "   [283.5, 308.0, 0, 0],\n",
       "   [265.0, 290.0, 302.0, 328.0],\n",
       "   [234.0, 260.0, 329.5, 356.5]],\n",
       "  [9.679524275764424, 2.207581245839358]],\n",
       " [[[165.5, 187.5, 431.5, 452.0],\n",
       "   [169.5, 191.5, 421.5, 441.5],\n",
       "   [173.5, 195.5, 412.0, 434.0],\n",
       "   [177.5, 200.5, 403.5, 425.5],\n",
       "   [184.5, 207.5, 391.5, 413.5],\n",
       "   [190.5, 213.5, 381.0, 403.0],\n",
       "   [200.0, 224.0, 365.5, 388.0],\n",
       "   [208.0, 232.0, 354.0, 376.5],\n",
       "   [222.0, 246.0, 336.0, 359.0],\n",
       "   [234.0, 258.5, 321.0, 344.5],\n",
       "   [253.5, 279.5, 298.5, 322.5],\n",
       "   [280.0, 304.5, 0, 0],\n",
       "   [258.5, 283.5, 295.0, 322.0],\n",
       "   [226.0, 251.5, 334.0, 362.5]],\n",
       "  [9.781686677427338, -1.8739941643182687]],\n",
       " [[[204.0, 224.5, 461.5, 483.0],\n",
       "   [208.5, 230.0, 454.5, 476.5],\n",
       "   [215.5, 236.5, 445.0, 468.0],\n",
       "   [221.0, 243.0, 434.5, 457.5],\n",
       "   [229.5, 251.5, 426.0, 449.0],\n",
       "   [237.5, 259.0, 417.0, 440.0],\n",
       "   [248.0, 270.0, 403.0, 427.0],\n",
       "   [257.5, 280.0, 386.5, 410.5],\n",
       "   [271.5, 294.5, 373.0, 397.5],\n",
       "   [283.5, 306.5, 352.0, 377.0],\n",
       "   [0, 0, 334.5, 359.5],\n",
       "   [0, 0, 304.5, 331.0],\n",
       "   [277.5, 304.5, 341.5, 366.5],\n",
       "   [231.5, 260.5, 370.5, 394.0]],\n",
       "  [9.115273523098422, 2.242012676753329]],\n",
       " [[[164.0, 185.0, 430.5, 451.5],\n",
       "   [165.5, 187.5, 423.5, 444.5],\n",
       "   [168.0, 190.0, 417.0, 437.5],\n",
       "   [171.5, 194.0, 406.5, 428.5],\n",
       "   [175.0, 197.5, 399.5, 420.5],\n",
       "   [179.0, 201.5, 390.5, 412.5],\n",
       "   [184.5, 207.5, 379.0, 401.0],\n",
       "   [189.5, 212.5, 370.0, 392.0],\n",
       "   [195.0, 219.0, 356.5, 379.5],\n",
       "   [205.0, 229.0, 346.0, 369.0],\n",
       "   [213.0, 237.5, 335.5, 358.0],\n",
       "   [226.0, 251.0, 319.0, 343.0],\n",
       "   [238.5, 263.5, 306.5, 329.5],\n",
       "   [287.0, 311.0, 0, 0],\n",
       "   [271.0, 295.5, 0, 0],\n",
       "   [248.5, 273.0, 305.5, 333.5],\n",
       "   [228.5, 254.0, 334.5, 363.0]],\n",
       "  [6.120215276179087, -2.372103844893098]],\n",
       " [[[193.5, 213.5, 453.5, 475.0],\n",
       "   [195.5, 216.5, 445.5, 466.5],\n",
       "   [198.5, 220.0, 434.0, 456.0],\n",
       "   [202.0, 223.5, 423.0, 445.0],\n",
       "   [205.0, 228.0, 414.0, 436.0],\n",
       "   [210.5, 233.0, 401.0, 424.0],\n",
       "   [215.5, 238.0, 391.0, 413.5],\n",
       "   [222.0, 245.0, 376.5, 400.5],\n",
       "   [229.0, 252.0, 365.0, 388.0],\n",
       "   [238.5, 262.0, 349.0, 372.5],\n",
       "   [247.0, 271.0, 335.5, 359.5],\n",
       "   [257.5, 282.5, 321.0, 345.0],\n",
       "   [273.5, 298.5, 300.5, 325.0],\n",
       "   [277.5, 302.5, 0, 0],\n",
       "   [258.5, 283.5, 313.0, 339.5],\n",
       "   [237.5, 263.5, 335.5, 363.0]],\n",
       "  [6.634214234871879, -2.1582903185817264]],\n",
       " [[[157.0, 179.0, 423.0, 442.0],\n",
       "   [161.5, 183.5, 417.5, 438.0],\n",
       "   [167.0, 189.5, 410.0, 431.5],\n",
       "   [174.5, 197.0, 405.0, 426.0],\n",
       "   [181.0, 203.0, 399.0, 420.5],\n",
       "   [188.0, 211.0, 391.0, 412.5],\n",
       "   [198.0, 221.0, 384.0, 406.0],\n",
       "   [206.5, 229.5, 377.0, 399.5],\n",
       "   [215.5, 238.5, 369.0, 392.0],\n",
       "   [229.0, 253.0, 357.5, 381.0],\n",
       "   [240.5, 264.5, 344.5, 368.5],\n",
       "   [257.5, 281.5, 334.0, 358.0],\n",
       "   [272.0, 296.5, 321.5, 346.0],\n",
       "   [288.0, 312.5, 302.5, 327.5],\n",
       "   [286.5, 312.0, 312.0, 336.5],\n",
       "   [267.0, 293.5, 332.0, 357.0],\n",
       "   [244.5, 271.5, 354.0, 380.5]],\n",
       "  [6.498992633826868, 2.536044483223278]],\n",
       " [[[206.0, 227.0, 443.0, 464.5],\n",
       "   [210.0, 231.5, 431.5, 453.5],\n",
       "   [216.0, 238.0, 422.0, 445.0],\n",
       "   [223.0, 245.5, 409.0, 431.5],\n",
       "   [229.5, 252.0, 398.5, 421.5],\n",
       "   [239.0, 261.5, 382.5, 406.0],\n",
       "   [247.5, 270.5, 369.5, 393.0],\n",
       "   [260.0, 283.5, 351.0, 375.0],\n",
       "   [271.5, 295.5, 334.5, 358.5],\n",
       "   [289.0, 313.5, 311.0, 336.0],\n",
       "   [282.5, 308.5, 310.5, 335.5],\n",
       "   [258.5, 285.0, 330.5, 356.0],\n",
       "   [220.5, 248.0, 353.0, 380.0]],\n",
       "  [9.376036883050698, -0.42260651813213135]],\n",
       " [[[169.5, 191.5, 412.0, 432.0],\n",
       "   [176.0, 199.0, 401.5, 423.5],\n",
       "   [181.0, 204.0, 394.0, 416.0],\n",
       "   [187.5, 210.5, 382.5, 404.5],\n",
       "   [197.0, 220.0, 373.5, 395.5],\n",
       "   [205.0, 228.5, 363.5, 386.0],\n",
       "   [217.0, 241.0, 349.0, 372.0],\n",
       "   [228.0, 252.0, 337.0, 360.0],\n",
       "   [240.5, 265.0, 323.5, 347.5],\n",
       "   [260.0, 285.0, 303.5, 327.5],\n",
       "   [287.0, 311.5, 0, 0],\n",
       "   [261.5, 286.0, 304.5, 331.0],\n",
       "   [239.0, 264.5, 329.5, 356.5]],\n",
       "  [9.413600894644205, 0.09340550816980975]],\n",
       " [[[198.0, 218.0, 443.5, 464.5],\n",
       "   [200.0, 221.0, 435.0, 457.0],\n",
       "   [202.5, 224.0, 427.0, 448.5],\n",
       "   [206.5, 228.5, 415.0, 437.0],\n",
       "   [210.5, 232.5, 405.5, 427.5],\n",
       "   [214.5, 237.0, 395.5, 418.0],\n",
       "   [219.0, 242.0, 381.5, 404.5],\n",
       "   [226.5, 250.0, 366.5, 389.5],\n",
       "   [235.5, 259.0, 354.0, 378.0],\n",
       "   [244.0, 268.0, 341.0, 365.0],\n",
       "   [256.0, 280.5, 323.0, 347.0],\n",
       "   [267.5, 292.0, 308.0, 332.0],\n",
       "   [285.5, 310.5, 0, 0],\n",
       "   [261.0, 286.0, 308.0, 334.0],\n",
       "   [240.5, 266.0, 329.0, 356.0],\n",
       "   [220.5, 244.0, 355.0, 382.5]],\n",
       "  [7.258643525386923, -2.14772786974839]],\n",
       " [[[176.5, 198.5, 426.0, 447.5],\n",
       "   [180.5, 202.5, 420.5, 441.5],\n",
       "   [187.0, 209.0, 412.0, 434.0],\n",
       "   [191.5, 214.0, 405.5, 427.5],\n",
       "   [199.0, 222.0, 396.0, 418.0],\n",
       "   [205.5, 228.0, 388.0, 411.0],\n",
       "   [215.0, 238.0, 377.5, 400.5],\n",
       "   [226.0, 249.0, 365.5, 388.5],\n",
       "   [235.5, 258.5, 355.5, 379.0],\n",
       "   [245.5, 269.5, 344.5, 368.5],\n",
       "   [262.0, 286.0, 328.5, 352.5],\n",
       "   [279.5, 304.5, 311.0, 335.5],\n",
       "   [295.0, 320.0, 296.0, 321.0],\n",
       "   [272.5, 297.5, 319.5, 345.0],\n",
       "   [250.0, 276.5, 342.0, 368.0],\n",
       "   [221.0, 245.5, 374.0, 395.5]],\n",
       "  [6.305860018334258, 1.025598679472044]],\n",
       " [[[210.0, 230.0, 472.5, 495.0],\n",
       "   [214.5, 235.0, 463.5, 486.5],\n",
       "   [218.5, 239.5, 457.5, 480.0],\n",
       "   [224.0, 245.0, 447.5, 470.5],\n",
       "   [229.0, 250.0, 440.5, 463.5],\n",
       "   [234.0, 256.0, 432.0, 455.5],\n",
       "   [242.5, 264.5, 420.0, 444.0],\n",
       "   [249.0, 271.5, 410.5, 434.5],\n",
       "   [259.0, 281.5, 396.5, 421.0],\n",
       "   [267.5, 290.5, 385.5, 409.5],\n",
       "   [276.5, 299.5, 367.5, 392.5],\n",
       "   [291.5, 314.5, 353.0, 379.0],\n",
       "   [0, 0, 331.0, 356.5],\n",
       "   [0, 0, 311.5, 337.5],\n",
       "   [289.0, 316.0, 338.0, 362.5],\n",
       "   [252.0, 280.5, 363.5, 388.5]],\n",
       "  [6.567459647387798, 1.7804540567073388]],\n",
       " [[[173.5, 195.5, 420.5, 441.5],\n",
       "   [176.5, 198.5, 413.0, 434.0],\n",
       "   [179.5, 202.5, 401.5, 423.0],\n",
       "   [185.0, 207.5, 393.0, 415.0],\n",
       "   [189.5, 212.5, 380.0, 402.0],\n",
       "   [197.5, 220.5, 369.5, 392.5],\n",
       "   [205.5, 229.5, 355.5, 378.5],\n",
       "   [213.5, 237.5, 344.0, 367.0],\n",
       "   [226.0, 250.5, 327.0, 351.0],\n",
       "   [237.0, 262.0, 314.0, 337.0],\n",
       "   [293.5, 317.0, 0, 0],\n",
       "   [276.0, 301.0, 0, 0],\n",
       "   [251.0, 276.0, 300.0, 327.0],\n",
       "   [230.0, 255.0, 327.0, 355.0]],\n",
       "  [8.073000454030733, -2.2439088144414767]],\n",
       " [[[214.5, 234.5, 461.5, 483.0],\n",
       "   [217.5, 239.0, 454.0, 477.0],\n",
       "   [221.5, 243.0, 447.5, 470.0],\n",
       "   [227.5, 249.5, 437.5, 460.5],\n",
       "   [235.0, 256.5, 426.5, 450.0],\n",
       "   [240.5, 262.5, 418.0, 441.5],\n",
       "   [249.0, 271.5, 405.5, 429.5],\n",
       "   [256.5, 279.0, 395.5, 419.5],\n",
       "   [267.0, 290.0, 380.0, 404.5],\n",
       "   [276.5, 300.0, 367.5, 392.0],\n",
       "   [290.5, 314.0, 349.0, 374.0],\n",
       "   [0, 0, 332.5, 358.5],\n",
       "   [0, 0, 308.0, 334.5],\n",
       "   [285.5, 312.5, 336.5, 361.0],\n",
       "   [251.5, 279.5, 354.0, 378.5]],\n",
       "  [6.7695700552872164, 1.7771010455888678]],\n",
       " [[[171.0, 192.0, 426.5, 447.5],\n",
       "   [177.0, 199.0, 418.0, 439.0],\n",
       "   [182.0, 204.5, 411.0, 432.0],\n",
       "   [188.0, 211.0, 403.5, 425.0],\n",
       "   [197.0, 220.0, 392.5, 414.5],\n",
       "   [204.5, 227.5, 383.0, 406.0],\n",
       "   [216.0, 240.0, 371.0, 394.0],\n",
       "   [226.5, 250.5, 359.5, 382.5],\n",
       "   [241.0, 265.0, 343.5, 367.0],\n",
       "   [254.5, 278.5, 330.0, 354.0],\n",
       "   [275.0, 299.5, 309.5, 333.5],\n",
       "   [291.5, 316.0, 0, 0],\n",
       "   [263.0, 288.5, 320.5, 346.5],\n",
       "   [237.5, 264.0, 345.5, 372.0]],\n",
       "  [9.13870970626656, 1.1701804858928124]],\n",
       " [[[207.0, 227.5, 448.5, 470.5],\n",
       "   [211.0, 232.5, 438.5, 461.5],\n",
       "   [215.0, 237.0, 430.5, 453.5],\n",
       "   [221.0, 243.0, 419.5, 442.5],\n",
       "   [226.0, 248.0, 410.5, 433.0],\n",
       "   [233.5, 256.5, 397.0, 420.0],\n",
       "   [240.0, 263.0, 383.0, 407.0],\n",
       "   [250.5, 274.0, 371.0, 395.0],\n",
       "   [262.5, 285.5, 354.0, 378.5],\n",
       "   [272.5, 296.5, 339.5, 364.0],\n",
       "   [288.5, 312.5, 318.5, 343.5],\n",
       "   [0, 0, 301.5, 326.5],\n",
       "   [274.5, 300.5, 323.5, 349.0],\n",
       "   [243.0, 270.0, 343.5, 368.5],\n",
       "   [217.5, 243.0, 373.5, 393.0]],\n",
       "  [7.354541217570169, 0.08970583290356093]],\n",
       " [[[219.5, 239.5, 480.5, 503.5],\n",
       "   [222.0, 242.5, 472.5, 495.5],\n",
       "   [225.0, 246.0, 464.0, 487.0],\n",
       "   [229.5, 250.5, 452.5, 475.5],\n",
       "   [234.0, 255.0, 439.5, 462.5],\n",
       "   [239.5, 261.5, 429.5, 452.5],\n",
       "   [247.0, 268.5, 414.5, 438.5],\n",
       "   [255.0, 278.0, 399.0, 423.0],\n",
       "   [262.0, 285.0, 385.5, 410.0],\n",
       "   [270.0, 293.0, 367.0, 392.0],\n",
       "   [283.0, 307.0, 351.0, 376.0],\n",
       "   [293.5, 317.5, 335.0, 360.0],\n",
       "   [0, 0, 308.5, 334.5],\n",
       "   [288.5, 314.5, 325.5, 350.5],\n",
       "   [255.5, 283.0, 349.0, 374.5],\n",
       "   [219.0, 245.5, 370.5, 395.5]],\n",
       "  [6.498963973636737, -0.29241967902800636]],\n",
       " [[[193.5, 215.0, 431.5, 453.0],\n",
       "   [196.5, 219.0, 423.5, 445.5],\n",
       "   [202.0, 224.0, 412.5, 435.0],\n",
       "   [207.0, 229.0, 403.5, 425.5],\n",
       "   [214.0, 236.5, 391.5, 414.0],\n",
       "   [220.0, 243.0, 381.5, 404.5],\n",
       "   [229.5, 253.0, 367.0, 390.0],\n",
       "   [237.5, 261.5, 355.0, 378.0],\n",
       "   [250.5, 274.5, 337.0, 361.0],\n",
       "   [262.0, 286.5, 323.0, 347.0],\n",
       "   [280.0, 304.5, 301.5, 326.5],\n",
       "   [283.0, 308.0, 296.0, 321.5],\n",
       "   [256.0, 281.5, 322.0, 348.0],\n",
       "   [233.5, 259.5, 344.0, 371.0]],\n",
       "  [8.10090233277067, -0.7169755578168426]],\n",
       " [[[175.0, 196.5, 430.5, 450.5],\n",
       "   [179.5, 201.0, 424.0, 445.5],\n",
       "   [185.5, 208.0, 415.5, 437.0],\n",
       "   [191.5, 213.5, 408.5, 430.5],\n",
       "   [199.5, 221.5, 399.0, 421.0],\n",
       "   [205.5, 228.5, 391.0, 413.0],\n",
       "   [216.5, 239.5, 379.0, 402.0],\n",
       "   [225.0, 248.0, 369.5, 393.5],\n",
       "   [238.0, 261.5, 356.0, 379.5],\n",
       "   [249.5, 273.5, 344.5, 367.5],\n",
       "   [261.5, 286.0, 327.0, 351.5],\n",
       "   [280.5, 305.5, 312.0, 336.5],\n",
       "   [295.0, 320.0, 298.0, 323.0],\n",
       "   [268.5, 294.5, 323.5, 349.0],\n",
       "   [245.5, 272.0, 345.5, 371.5]],\n",
       "  [7.585783960837962, 1.390344436571893]],\n",
       " [[[163.5, 185.0, 434.5, 454.5],\n",
       "   [165.5, 186.5, 427.5, 447.5],\n",
       "   [168.0, 190.5, 418.0, 439.0],\n",
       "   [170.5, 193.5, 410.5, 432.0],\n",
       "   [175.0, 197.5, 400.0, 422.0],\n",
       "   [178.5, 201.5, 391.5, 413.5],\n",
       "   [182.5, 205.5, 383.5, 405.0],\n",
       "   [189.5, 213.0, 371.5, 393.0],\n",
       "   [195.5, 218.5, 361.0, 384.0],\n",
       "   [202.0, 226.0, 347.5, 370.5],\n",
       "   [213.0, 237.5, 336.0, 359.0],\n",
       "   [222.0, 247.0, 324.5, 348.0],\n",
       "   [233.0, 258.5, 312.0, 335.0],\n",
       "   [292.5, 316.5, 0, 0],\n",
       "   [278.0, 302.0, 0, 0],\n",
       "   [254.5, 279.5, 297.0, 324.0],\n",
       "   [236.5, 262.0, 322.5, 351.0]],\n",
       "  [6.20209478090274, -2.412314464867572]],\n",
       " [[[171.0, 193.0, 421.5, 443.0],\n",
       "   [174.0, 196.0, 413.5, 435.5],\n",
       "   [177.5, 199.5, 402.5, 424.0],\n",
       "   [182.0, 205.0, 393.0, 415.0],\n",
       "   [186.0, 209.0, 384.0, 405.5],\n",
       "   [193.5, 216.5, 370.0, 392.5],\n",
       "   [199.0, 223.0, 359.0, 382.0],\n",
       "   [209.0, 233.5, 343.0, 366.0],\n",
       "   [218.5, 242.5, 330.5, 353.5],\n",
       "   [229.0, 253.5, 317.0, 340.5],\n",
       "   [245.5, 271.5, 296.5, 320.5],\n",
       "   [280.0, 304.0, 0, 0],\n",
       "   [255.0, 280.0, 0, 0],\n",
       "   [227.0, 252.5, 315.5, 343.0]],\n",
       "  [8.41293315791209, -2.7297611432741804]],\n",
       " [[[175.5, 195.5, 448.0, 468.5],\n",
       "   [178.0, 200.0, 439.5, 460.0],\n",
       "   [182.0, 203.5, 430.0, 451.5],\n",
       "   [186.5, 208.5, 420.5, 441.5],\n",
       "   [191.5, 214.5, 410.0, 431.5],\n",
       "   [200.0, 222.5, 395.0, 418.0],\n",
       "   [208.0, 231.0, 382.5, 405.5],\n",
       "   [219.0, 243.0, 366.0, 389.0],\n",
       "   [231.0, 254.0, 351.0, 374.5],\n",
       "   [244.0, 268.5, 334.5, 357.5],\n",
       "   [265.5, 290.0, 310.5, 334.5],\n",
       "   [288.5, 313.0, 0, 0],\n",
       "   [264.0, 289.5, 312.5, 339.0],\n",
       "   [227.0, 253.5, 355.0, 382.5]],\n",
       "  [6.611549355231818, -1.0622731134807222]],\n",
       " [[[180.5, 202.0, 420.0, 441.0],\n",
       "   [184.5, 206.5, 411.5, 433.5],\n",
       "   [190.5, 213.0, 400.0, 422.0],\n",
       "   [195.5, 218.5, 388.0, 410.0],\n",
       "   [204.0, 227.0, 378.0, 400.0],\n",
       "   [211.5, 234.5, 363.5, 386.0],\n",
       "   [222.5, 246.5, 351.5, 374.5],\n",
       "   [232.0, 257.0, 338.5, 361.5],\n",
       "   [248.0, 272.5, 319.0, 343.0],\n",
       "   [262.0, 287.0, 303.5, 327.5],\n",
       "   [285.0, 310.0, 0, 0],\n",
       "   [257.5, 282.5, 298.5, 325.0],\n",
       "   [235.0, 260.5, 331.0, 358.5]],\n",
       "  [9.702583093468274, -1.0033758596906779]],\n",
       " [[[135.0, 158.0, 394.5, 414.0],\n",
       "   [137.5, 161.0, 387.0, 408.0],\n",
       "   [141.0, 164.5, 380.0, 400.5],\n",
       "   [146.5, 170.5, 369.0, 390.0],\n",
       "   [151.0, 175.5, 361.0, 382.0],\n",
       "   [156.5, 181.0, 348.5, 370.0],\n",
       "   [166.0, 190.5, 338.0, 360.0],\n",
       "   [174.0, 199.0, 328.0, 350.5],\n",
       "   [187.5, 212.5, 312.5, 335.5],\n",
       "   [199.0, 225.0, 300.5, 323.5],\n",
       "   [283.0, 306.0, 0, 0],\n",
       "   [268.0, 291.0, 0, 0],\n",
       "   [251.5, 275.5, 0, 0],\n",
       "   [226.5, 251.0, 303.0, 332.5]],\n",
       "  [8.011063608635704, -2.6103983800073016]],\n",
       " [[[136.5, 159.5, 408.0, 427.5],\n",
       "   [140.5, 163.5, 400.0, 421.5],\n",
       "   [146.5, 169.5, 395.0, 416.0],\n",
       "   [151.5, 174.5, 387.0, 408.5],\n",
       "   [159.0, 182.5, 381.0, 402.5],\n",
       "   [165.0, 189.0, 374.5, 396.0],\n",
       "   [175.0, 198.5, 365.0, 387.0],\n",
       "   [183.0, 207.0, 357.5, 380.0],\n",
       "   [191.5, 215.5, 347.0, 369.0],\n",
       "   [205.5, 230.0, 337.5, 360.5],\n",
       "   [217.5, 242.0, 328.0, 351.0],\n",
       "   [235.0, 259.5, 314.0, 337.5],\n",
       "   [249.0, 275.0, 302.5, 326.5],\n",
       "   [285.0, 309.5, 0, 0],\n",
       "   [270.5, 295.0, 0, 0],\n",
       "   [247.5, 273.0, 323.0, 350.0],\n",
       "   [223.5, 247.0, 350.5, 378.0]],\n",
       "  [6.072147025644301, 0.5385105227367182]],\n",
       " [[[171.0, 193.0, 417.0, 438.5],\n",
       "   [174.0, 196.0, 409.5, 430.5],\n",
       "   [178.0, 201.0, 398.0, 420.0],\n",
       "   [182.5, 205.5, 390.0, 411.5],\n",
       "   [186.5, 210.5, 381.0, 403.0],\n",
       "   [194.0, 217.5, 367.5, 390.0],\n",
       "   [200.5, 224.5, 357.0, 380.0],\n",
       "   [207.5, 232.5, 341.5, 364.5],\n",
       "   [219.5, 244.5, 330.0, 353.0],\n",
       "   [230.5, 255.0, 316.5, 340.5],\n",
       "   [243.5, 269.0, 297.0, 321.0],\n",
       "   [281.5, 305.5, 0, 0],\n",
       "   [264.0, 289.0, 0, 0],\n",
       "   [238.0, 263.5, 314.5, 342.0],\n",
       "   [222.0, 242.0, 345.5, 375.0]],\n",
       "  [7.804174717917692, -2.2576641580025014]],\n",
       " [[[151.0, 172.5, 424.5, 444.5],\n",
       "   [154.0, 176.0, 417.5, 438.0],\n",
       "   [159.0, 182.0, 407.5, 428.5],\n",
       "   [164.0, 186.5, 399.5, 420.5],\n",
       "   [170.5, 194.5, 388.5, 409.5],\n",
       "   [177.0, 200.5, 375.5, 397.5],\n",
       "   [187.0, 211.0, 365.0, 387.5],\n",
       "   [195.5, 219.5, 354.5, 377.0],\n",
       "   [209.5, 233.5, 338.0, 361.0],\n",
       "   [222.5, 247.0, 324.0, 347.0],\n",
       "   [237.5, 263.0, 308.5, 331.5],\n",
       "   [287.0, 311.0, 0, 0],\n",
       "   [267.0, 292.0, 0, 0],\n",
       "   [237.0, 262.0, 309.5, 336.5]],\n",
       "  [9.847446654723404, -1.1745880722119006]],\n",
       " [[[172.0, 193.0, 430.0, 450.5],\n",
       "   [176.0, 198.0, 424.5, 446.0],\n",
       "   [181.0, 203.0, 419.0, 440.5],\n",
       "   [187.5, 210.5, 411.5, 433.0],\n",
       "   [193.5, 216.5, 405.5, 427.0],\n",
       "   [202.5, 225.5, 396.0, 418.0],\n",
       "   [210.0, 233.0, 388.5, 411.5],\n",
       "   [218.0, 240.5, 378.5, 401.5],\n",
       "   [230.0, 253.0, 369.5, 392.5],\n",
       "   [240.0, 263.5, 360.5, 383.5],\n",
       "   [255.0, 279.0, 346.5, 370.5],\n",
       "   [268.0, 292.0, 334.0, 358.0],\n",
       "   [286.5, 311.0, 316.0, 341.0],\n",
       "   [0, 0, 300.5, 325.5],\n",
       "   [276.0, 302.0, 320.5, 345.5],\n",
       "   [253.5, 280.0, 348.0, 373.5],\n",
       "   [227.0, 254.5, 371.5, 395.5]],\n",
       "  [6.494769705639819, 2.215903238675665]],\n",
       " [[[149.0, 170.0, 426.0, 445.0],\n",
       "   [152.0, 174.0, 416.5, 436.5],\n",
       "   [155.5, 177.5, 408.5, 429.0],\n",
       "   [158.5, 181.5, 400.5, 421.5],\n",
       "   [164.5, 187.5, 388.5, 410.0],\n",
       "   [169.5, 193.0, 379.5, 401.5],\n",
       "   [178.0, 201.0, 365.0, 388.0],\n",
       "   [184.5, 208.5, 354.5, 377.5],\n",
       "   [196.5, 221.0, 338.5, 361.5],\n",
       "   [207.0, 232.0, 325.5, 348.5],\n",
       "   [220.0, 245.0, 311.0, 334.0],\n",
       "   [291.0, 315.0, 0, 0],\n",
       "   [263.5, 288.0, 0, 0],\n",
       "   [236.5, 261.5, 305.5, 334.0]],\n",
       "  [9.686333129162518, -2.341228787654829]],\n",
       " [[[148.5, 171.5, 403.0, 422.0],\n",
       "   [157.0, 180.0, 393.5, 414.5],\n",
       "   [163.5, 186.5, 387.0, 408.5],\n",
       "   [171.0, 194.5, 379.5, 401.5],\n",
       "   [179.5, 202.5, 371.5, 393.5],\n",
       "   [192.5, 215.5, 360.0, 382.0],\n",
       "   [203.0, 227.0, 350.0, 373.0],\n",
       "   [214.5, 239.5, 336.0, 360.0],\n",
       "   [233.0, 257.5, 324.5, 348.0],\n",
       "   [254.5, 279.5, 306.0, 330.5],\n",
       "   [290.0, 314.5, 0, 0],\n",
       "   [265.0, 289.5, 0, 0],\n",
       "   [243.5, 269.5, 327.0, 354.0]],\n",
       "  [9.724231654339645, 1.8870910711784803]],\n",
       " [[[133.5, 156.5, 410.0, 430.0],\n",
       "   [136.5, 159.5, 403.0, 423.0],\n",
       "   [140.0, 163.0, 395.5, 416.5],\n",
       "   [145.5, 168.5, 385.5, 406.5],\n",
       "   [150.0, 174.0, 377.0, 399.0],\n",
       "   [156.0, 179.0, 365.0, 386.5],\n",
       "   [164.5, 188.5, 355.5, 377.5],\n",
       "   [172.0, 197.0, 345.5, 367.5],\n",
       "   [184.5, 209.0, 331.0, 354.0],\n",
       "   [196.0, 221.0, 318.5, 341.0],\n",
       "   [209.5, 234.5, 304.5, 328.5],\n",
       "   [290.5, 314.0, 0, 0],\n",
       "   [269.5, 293.5, 0, 0],\n",
       "   [251.0, 275.0, 0, 0],\n",
       "   [223.0, 247.5, 308.5, 337.5]],\n",
       "  [8.696466125496947, -2.01785041705627]],\n",
       " [[[117.0, 139.5, 409.0, 427.5],\n",
       "   [125.0, 148.0, 403.5, 423.5],\n",
       "   [131.5, 154.5, 397.5, 418.5],\n",
       "   [138.5, 161.5, 392.5, 412.5],\n",
       "   [149.0, 173.0, 384.0, 404.5],\n",
       "   [158.5, 181.5, 377.0, 398.5],\n",
       "   [168.0, 192.0, 369.5, 391.5],\n",
       "   [183.5, 207.5, 358.0, 381.0],\n",
       "   [196.0, 220.0, 349.0, 372.0],\n",
       "   [215.5, 239.5, 335.5, 358.5],\n",
       "   [232.5, 257.0, 322.5, 346.5],\n",
       "   [250.0, 275.0, 309.5, 333.5],\n",
       "   [288.0, 312.5, 0, 0],\n",
       "   [269.0, 294.0, 302.5, 328.5],\n",
       "   [236.5, 263.0, 330.5, 357.0]],\n",
       "  [9.381258316787376, 2.764755400929652]],\n",
       " [[[167.5, 190.0, 406.0, 427.0],\n",
       "   [171.5, 194.0, 398.5, 419.5],\n",
       "   [174.5, 197.5, 387.5, 409.5],\n",
       "   [180.0, 203.0, 379.0, 401.0],\n",
       "   [184.0, 208.0, 370.0, 392.0],\n",
       "   [189.0, 213.0, 357.5, 379.5],\n",
       "   [198.0, 222.0, 346.5, 369.5],\n",
       "   [204.5, 229.5, 336.5, 359.0],\n",
       "   [213.5, 238.5, 320.5, 344.5],\n",
       "   [227.0, 252.5, 308.5, 331.5],\n",
       "   [295.0, 318.5, 0, 0],\n",
       "   [275.5, 299.5, 0, 0],\n",
       "   [259.0, 283.5, 0, 0],\n",
       "   [241.5, 266.0, 301.5, 329.5],\n",
       "   [222.5, 247.0, 331.0, 360.5]],\n",
       "  [7.357032192053154, -2.4775102579068373]],\n",
       " [[[150.5, 173.5, 396.5, 417.5],\n",
       "   [157.0, 180.0, 388.0, 409.0],\n",
       "   [162.5, 186.0, 381.5, 403.0],\n",
       "   [171.0, 194.5, 372.0, 394.0],\n",
       "   [178.0, 202.0, 365.0, 386.5],\n",
       "   [186.0, 210.0, 353.5, 376.0],\n",
       "   [198.0, 222.5, 345.0, 368.0],\n",
       "   [208.5, 233.0, 335.5, 358.0],\n",
       "   [220.0, 244.5, 325.0, 348.0],\n",
       "   [233.0, 258.0, 309.0, 333.0],\n",
       "   [253.0, 279.0, 297.0, 321.0],\n",
       "   [277.5, 301.5, 0, 0],\n",
       "   [261.5, 286.0, 298.0, 324.5],\n",
       "   [236.0, 261.5, 330.5, 358.0],\n",
       "   [223.0, 236.0, 361.0, 389.0]],\n",
       "  [7.292761126954835, 0.5092692487872761]],\n",
       " [[[189.0, 210.0, 439.0, 460.5],\n",
       "   [194.5, 215.5, 431.5, 453.0],\n",
       "   [199.0, 220.5, 425.0, 447.0],\n",
       "   [206.0, 227.5, 416.5, 438.5],\n",
       "   [212.0, 234.0, 409.5, 432.0],\n",
       "   [220.0, 243.0, 399.0, 422.0],\n",
       "   [227.5, 250.0, 391.0, 414.0],\n",
       "   [238.5, 261.5, 378.5, 402.5],\n",
       "   [247.5, 271.0, 369.0, 393.0],\n",
       "   [261.0, 285.0, 354.0, 378.5],\n",
       "   [272.5, 296.5, 337.0, 361.5],\n",
       "   [290.5, 314.5, 323.0, 348.5],\n",
       "   [0, 0, 301.0, 326.5],\n",
       "   [281.5, 308.0, 328.0, 353.0],\n",
       "   [250.5, 278.0, 347.5, 373.0],\n",
       "   [222.0, 250.5, 379.5, 394.5]],\n",
       "  [6.4494794722651045, 1.8978301066490184]],\n",
       " [[[189.5, 209.5, 456.5, 478.0],\n",
       "   [192.5, 212.5, 448.5, 470.0],\n",
       "   [196.5, 218.0, 436.5, 458.5],\n",
       "   [200.0, 222.0, 427.5, 449.0],\n",
       "   [206.5, 228.5, 413.5, 436.0],\n",
       "   [212.0, 234.0, 402.5, 425.5],\n",
       "   [220.0, 243.0, 386.5, 409.5],\n",
       "   [228.0, 251.0, 373.0, 396.0],\n",
       "   [239.5, 263.5, 354.5, 378.0],\n",
       "   [250.5, 274.5, 338.5, 362.5],\n",
       "   [268.5, 292.5, 314.5, 338.5],\n",
       "   [295.0, 319.5, 0, 0],\n",
       "   [263.5, 289.0, 311.5, 337.5],\n",
       "   [238.0, 263.5, 336.0, 362.5]],\n",
       "  [9.71778017706669, -1.9449734164506285]],\n",
       " [[[166.5, 189.0, 420.5, 441.0],\n",
       "   [171.5, 194.0, 411.5, 432.5],\n",
       "   [176.0, 198.5, 404.0, 425.0],\n",
       "   [182.0, 205.0, 393.5, 415.5],\n",
       "   [188.0, 211.0, 385.0, 407.0],\n",
       "   [194.5, 217.5, 373.5, 395.5],\n",
       "   [204.5, 227.5, 363.0, 386.0],\n",
       "   [212.5, 236.5, 349.5, 372.5],\n",
       "   [225.5, 249.5, 338.0, 361.0],\n",
       "   [237.0, 262.0, 320.5, 344.0],\n",
       "   [255.0, 280.0, 306.5, 330.5],\n",
       "   [291.0, 315.0, 0, 0],\n",
       "   [266.5, 291.5, 0, 0],\n",
       "   [247.0, 272.0, 320.5, 347.5],\n",
       "   [224.0, 250.0, 348.0, 376.0]],\n",
       "  [7.782756041968175, -0.6276455050274521]],\n",
       " [[[200.0, 221.0, 456.0, 478.0],\n",
       "   [203.0, 224.0, 449.5, 471.5],\n",
       "   [207.5, 229.0, 440.0, 462.0],\n",
       "   [211.5, 233.5, 431.5, 454.5],\n",
       "   [217.0, 239.0, 421.0, 444.0],\n",
       "   [223.0, 245.0, 412.0, 435.0],\n",
       "   [230.0, 253.0, 399.0, 422.0],\n",
       "   [237.0, 259.5, 389.5, 412.5],\n",
       "   [247.0, 270.0, 374.0, 398.0],\n",
       "   [259.0, 282.0, 357.5, 381.5],\n",
       "   [269.0, 293.0, 344.0, 368.5],\n",
       "   [280.5, 305.0, 329.5, 354.0],\n",
       "   [0, 0, 307.0, 332.0],\n",
       "   [287.0, 313.0, 315.0, 340.0],\n",
       "   [258.5, 285.5, 339.5, 364.5],\n",
       "   [224.5, 252.0, 362.0, 388.5]],\n",
       "  [6.563704433304155, 0.09098473936654705]],\n",
       " [[[156.5, 178.5, 422.5, 443.0],\n",
       "   [159.5, 181.5, 416.5, 437.5],\n",
       "   [164.5, 187.0, 407.5, 428.5],\n",
       "   [168.5, 191.5, 400.0, 422.0],\n",
       "   [175.5, 198.5, 390.5, 412.5],\n",
       "   [181.0, 204.0, 383.0, 405.0],\n",
       "   [187.0, 210.0, 374.5, 397.0],\n",
       "   [196.5, 220.5, 363.0, 385.0],\n",
       "   [205.5, 229.0, 353.0, 375.5],\n",
       "   [215.0, 239.0, 338.5, 361.5],\n",
       "   [229.5, 254.5, 327.0, 350.0],\n",
       "   [243.0, 267.5, 314.5, 338.0],\n",
       "   [295.5, 319.5, 0, 0],\n",
       "   [279.0, 304.0, 0, 0],\n",
       "   [255.5, 280.5, 311.5, 338.5],\n",
       "   [234.5, 260.0, 338.5, 366.0]],\n",
       "  [6.673355383505416, -0.6858495612428036]],\n",
       " [[[174.5, 194.5, 446.5, 467.0],\n",
       "   [176.0, 197.0, 439.5, 460.5],\n",
       "   [179.0, 200.0, 430.0, 451.0],\n",
       "   [181.5, 203.0, 422.5, 444.5],\n",
       "   [184.5, 206.0, 411.5, 433.5],\n",
       "   [188.5, 211.0, 403.5, 425.5],\n",
       "   [192.5, 215.5, 394.5, 417.0],\n",
       "   [198.5, 222.5, 382.5, 405.0],\n",
       "   [204.5, 227.5, 372.5, 395.5],\n",
       "   [213.5, 236.5, 359.0, 381.5],\n",
       "   [220.5, 245.5, 347.0, 370.0],\n",
       "   [233.0, 257.5, 331.0, 354.0],\n",
       "   [244.0, 268.5, 318.0, 342.0],\n",
       "   [261.0, 286.5, 298.5, 322.5],\n",
       "   [283.0, 307.5, 0, 0],\n",
       "   [259.5, 284.5, 303.5, 329.5],\n",
       "   [239.5, 265.0, 329.0, 356.5]],\n",
       "  [6.145102556754731, -2.1602799178613727]],\n",
       " [[[194.5, 215.5, 435.5, 456.5],\n",
       "   [201.5, 223.0, 426.0, 448.0],\n",
       "   [207.5, 229.5, 418.5, 441.0],\n",
       "   [216.5, 239.0, 407.5, 430.0],\n",
       "   [226.5, 249.5, 395.0, 418.0],\n",
       "   [236.0, 258.5, 385.0, 408.0],\n",
       "   [248.5, 271.5, 370.0, 394.0],\n",
       "   [259.5, 283.5, 357.5, 381.5],\n",
       "   [277.0, 300.5, 337.5, 362.0],\n",
       "   [291.5, 315.5, 320.0, 345.5],\n",
       "   [293.5, 319.0, 314.0, 339.0],\n",
       "   [268.5, 295.0, 333.5, 359.0],\n",
       "   [226.5, 254.5, 365.5, 391.5]],\n",
       "  [9.849282266678092, 2.2194806618585443]],\n",
       " [[[205.0, 225.0, 482.0, 504.0],\n",
       "   [211.0, 231.5, 476.0, 498.0],\n",
       "   [218.0, 239.0, 466.5, 489.5],\n",
       "   [223.5, 244.5, 459.0, 482.0],\n",
       "   [232.5, 253.5, 448.5, 472.0],\n",
       "   [239.0, 260.5, 439.5, 463.0],\n",
       "   [250.0, 272.0, 426.0, 450.0],\n",
       "   [259.5, 281.5, 414.5, 438.5],\n",
       "   [273.5, 296.0, 396.5, 421.5],\n",
       "   [289.0, 312.0, 375.5, 401.0],\n",
       "   [0, 0, 356.5, 382.5],\n",
       "   [0, 0, 325.5, 351.5],\n",
       "   [0, 0, 293.0, 321.0],\n",
       "   [242.5, 272.0, 371.5, 394.5]],\n",
       "  [9.946204167259742, 2.801134530943977]],\n",
       " [[[210.0, 230.5, 485.0, 507.5],\n",
       "   [213.0, 233.5, 474.5, 497.0],\n",
       "   [215.5, 236.5, 463.0, 485.5],\n",
       "   [220.0, 241.0, 453.5, 476.5],\n",
       "   [223.5, 245.0, 443.5, 466.5],\n",
       "   [229.0, 250.5, 430.0, 453.0],\n",
       "   [234.0, 256.0, 418.5, 442.5],\n",
       "   [241.5, 263.5, 403.0, 427.0],\n",
       "   [250.0, 273.0, 385.5, 409.5],\n",
       "   [258.0, 281.0, 371.5, 395.5],\n",
       "   [270.0, 294.0, 351.0, 375.5],\n",
       "   [284.5, 309.0, 328.5, 353.0],\n",
       "   [0, 0, 309.5, 334.5],\n",
       "   [280.5, 306.5, 320.0, 345.5],\n",
       "   [256.5, 283.0, 340.0, 365.5],\n",
       "   [221.5, 247.5, 372.5, 395.5]],\n",
       "  [6.752048251976235, -1.3802646255302218]],\n",
       " [[[180.0, 201.0, 450.0, 471.0],\n",
       "   [185.5, 207.5, 442.5, 464.5],\n",
       "   [190.5, 212.0, 434.0, 456.0],\n",
       "   [198.0, 220.0, 427.5, 449.5],\n",
       "   [206.0, 228.0, 417.0, 439.5],\n",
       "   [213.5, 235.0, 406.0, 429.0],\n",
       "   [223.5, 246.5, 397.5, 420.5],\n",
       "   [232.0, 255.0, 384.0, 407.0],\n",
       "   [245.5, 269.5, 372.5, 396.0],\n",
       "   [257.5, 281.0, 359.5, 383.5],\n",
       "   [275.0, 299.0, 340.5, 364.5],\n",
       "   [290.0, 314.5, 323.0, 348.5],\n",
       "   [0, 0, 296.5, 322.5],\n",
       "   [272.0, 298.0, 334.0, 359.0],\n",
       "   [230.0, 257.5, 367.0, 393.0]],\n",
       "  [8.615589883267281, 1.973552587774313]],\n",
       " [[[208.5, 229.5, 464.0, 486.0],\n",
       "   [212.0, 233.0, 456.0, 479.0],\n",
       "   [217.5, 238.5, 444.5, 467.5],\n",
       "   [222.0, 243.0, 435.5, 458.5],\n",
       "   [228.5, 250.5, 423.0, 446.0],\n",
       "   [234.0, 256.5, 412.0, 436.0],\n",
       "   [243.5, 266.0, 396.5, 420.5],\n",
       "   [250.5, 273.5, 384.0, 408.0],\n",
       "   [262.5, 285.5, 366.0, 390.5],\n",
       "   [273.0, 297.0, 344.5, 369.0],\n",
       "   [289.0, 313.0, 327.5, 352.5],\n",
       "   [0, 0, 300.5, 326.0],\n",
       "   [277.5, 303.5, 325.5, 350.5],\n",
       "   [241.5, 268.5, 353.5, 379.5]],\n",
       "  [8.063692404145026, -0.19451455030442155]],\n",
       " [[[170.5, 192.5, 431.5, 452.0],\n",
       "   [174.0, 196.0, 423.5, 444.5],\n",
       "   [179.5, 201.5, 412.5, 434.5],\n",
       "   [184.0, 206.5, 401.5, 422.5],\n",
       "   [191.5, 214.0, 391.5, 413.0],\n",
       "   [197.5, 220.5, 381.5, 403.5],\n",
       "   [207.5, 230.5, 366.5, 389.0],\n",
       "   [216.5, 240.5, 354.0, 377.0],\n",
       "   [230.0, 254.0, 336.5, 359.5],\n",
       "   [242.5, 267.0, 321.5, 345.5],\n",
       "   [262.5, 288.0, 299.0, 323.5],\n",
       "   [280.0, 305.0, 0, 0],\n",
       "   [251.0, 276.5, 312.5, 339.5],\n",
       "   [225.5, 251.5, 342.0, 369.5]],\n",
       "  [9.282041185013993, -1.4551033959590747]],\n",
       " [[[190.0, 210.5, 433.5, 454.5],\n",
       "   [192.0, 213.5, 425.5, 447.0],\n",
       "   [196.0, 218.0, 414.5, 436.5],\n",
       "   [200.0, 222.0, 406.0, 428.0],\n",
       "   [205.0, 228.0, 393.5, 415.5],\n",
       "   [212.0, 235.0, 380.0, 402.5],\n",
       "   [217.5, 241.5, 369.5, 392.0],\n",
       "   [224.5, 248.5, 353.5, 377.5],\n",
       "   [235.0, 259.5, 341.5, 364.5],\n",
       "   [245.0, 269.5, 323.5, 347.5],\n",
       "   [259.5, 284.5, 308.5, 332.5],\n",
       "   [287.0, 311.0, 0, 0],\n",
       "   [269.0, 293.5, 295.5, 321.5],\n",
       "   [242.0, 267.5, 323.5, 350.5],\n",
       "   [220.5, 244.5, 351.0, 379.0]],\n",
       "  [7.774491212028427, -1.9095571936806557]],\n",
       " [[[214.0, 235.0, 458.0, 481.0],\n",
       "   [218.0, 239.0, 450.5, 473.0],\n",
       "   [222.0, 243.5, 439.5, 462.5],\n",
       "   [225.5, 247.5, 430.5, 453.5],\n",
       "   [231.0, 253.0, 418.5, 441.5],\n",
       "   [236.0, 258.0, 409.0, 432.0],\n",
       "   [243.0, 265.5, 395.0, 418.0],\n",
       "   [249.0, 272.0, 383.5, 407.5],\n",
       "   [258.5, 281.5, 368.0, 392.0],\n",
       "   [269.5, 293.5, 349.5, 374.0],\n",
       "   [279.0, 303.0, 335.5, 360.0],\n",
       "   [294.0, 318.0, 314.5, 340.0],\n",
       "   [0, 0, 297.0, 323.0],\n",
       "   [271.5, 298.0, 327.0, 352.5],\n",
       "   [249.5, 276.5, 345.5, 371.5],\n",
       "   [220.0, 244.0, 375.0, 395.0]],\n",
       "  [6.0822080583383835, -0.5468034673909139]],\n",
       " [[[189.5, 209.5, 464.5, 485.5],\n",
       "   [191.5, 212.5, 457.5, 478.5],\n",
       "   [196.0, 216.0, 447.5, 469.5],\n",
       "   [199.0, 220.0, 440.0, 462.0],\n",
       "   [204.0, 225.5, 429.0, 451.0],\n",
       "   [208.0, 230.0, 420.5, 442.5],\n",
       "   [213.0, 235.0, 411.5, 434.5],\n",
       "   [220.5, 242.5, 398.5, 421.5],\n",
       "   [226.5, 249.5, 388.0, 411.0],\n",
       "   [236.5, 259.5, 373.0, 396.5],\n",
       "   [245.0, 268.0, 361.0, 384.0],\n",
       "   [255.0, 279.0, 346.5, 371.0],\n",
       "   [270.0, 294.0, 327.5, 351.5],\n",
       "   [284.0, 308.5, 304.5, 329.0],\n",
       "   [285.5, 311.5, 305.5, 330.5],\n",
       "   [257.0, 283.0, 332.5, 358.5],\n",
       "   [231.0, 257.5, 357.5, 384.5]],\n",
       "  [6.887491191883226, -0.7566052708448135]],\n",
       " [[[155.5, 177.0, 426.5, 446.5],\n",
       "   [160.0, 181.5, 420.5, 441.0],\n",
       "   [166.5, 189.0, 412.5, 433.5],\n",
       "   [172.5, 194.5, 406.0, 427.0],\n",
       "   [178.5, 201.5, 397.0, 418.5],\n",
       "   [188.0, 211.0, 389.5, 411.5],\n",
       "   [196.0, 219.0, 381.5, 403.5],\n",
       "   [208.0, 231.5, 369.5, 392.0],\n",
       "   [218.5, 241.5, 359.5, 382.5],\n",
       "   [229.5, 253.5, 349.0, 372.0],\n",
       "   [247.5, 271.5, 332.5, 356.5],\n",
       "   [262.5, 287.0, 319.0, 343.0],\n",
       "   [279.5, 304.0, 297.5, 322.0],\n",
       "   [278.5, 303.5, 305.5, 331.5],\n",
       "   [256.5, 282.5, 329.0, 355.0],\n",
       "   [220.5, 247.5, 365.5, 392.5]],\n",
       "  [8.002365078983736, 1.504920672311764]],\n",
       " [[[196.5, 217.0, 443.0, 464.5],\n",
       "   [201.0, 223.0, 434.0, 456.0],\n",
       "   [205.0, 227.0, 422.5, 444.5],\n",
       "   [212.0, 234.0, 412.5, 435.0],\n",
       "   [217.5, 240.0, 401.5, 424.5],\n",
       "   [226.5, 249.5, 386.5, 409.5],\n",
       "   [234.0, 257.0, 374.5, 398.0],\n",
       "   [245.5, 269.5, 356.5, 380.0],\n",
       "   [256.5, 280.5, 341.0, 365.0],\n",
       "   [273.0, 298.0, 318.5, 343.0],\n",
       "   [292.5, 317.5, 0, 0],\n",
       "   [270.0, 296.0, 313.0, 338.5],\n",
       "   [235.5, 262.5, 344.0, 370.5]],\n",
       "  [9.222938786116616, -1.0575378680052538]],\n",
       " [[[190.5, 211.5, 458.0, 480.0],\n",
       "   [195.5, 216.5, 449.0, 471.0],\n",
       "   [199.5, 220.5, 442.0, 464.0],\n",
       "   [205.5, 227.0, 430.5, 453.5],\n",
       "   [210.5, 232.5, 422.0, 444.5],\n",
       "   [219.0, 241.5, 409.5, 432.0],\n",
       "   [226.0, 248.0, 399.0, 422.0],\n",
       "   [236.5, 259.5, 384.0, 407.5],\n",
       "   [245.5, 268.5, 371.5, 395.5],\n",
       "   [259.5, 283.5, 352.0, 377.0],\n",
       "   [272.5, 296.5, 331.0, 355.5],\n",
       "   [292.0, 316.0, 312.0, 337.5],\n",
       "   [291.0, 316.5, 309.5, 334.0],\n",
       "   [257.5, 283.5, 337.0, 363.0],\n",
       "   [227.0, 254.5, 363.0, 389.5]],\n",
       "  [8.626706447135087, 0.22051600808840044]],\n",
       " [[[173.5, 196.0, 408.0, 430.0],\n",
       "   [178.0, 200.5, 402.0, 423.5],\n",
       "   [184.5, 207.5, 393.0, 415.0],\n",
       "   [190.5, 213.5, 386.0, 408.0],\n",
       "   [196.0, 220.0, 378.5, 401.0],\n",
       "   [205.5, 229.5, 368.0, 390.0],\n",
       "   [214.0, 238.0, 359.0, 381.5],\n",
       "   [222.5, 246.5, 350.0, 373.0],\n",
       "   [236.0, 260.5, 336.0, 359.5],\n",
       "   [248.5, 272.5, 324.0, 348.0],\n",
       "   [261.0, 285.5, 312.5, 336.5],\n",
       "   [294.0, 318.5, 0, 0],\n",
       "   [277.5, 302.5, 298.5, 323.5],\n",
       "   [261.0, 286.0, 317.0, 343.0],\n",
       "   [232.5, 259.0, 348.5, 375.0]],\n",
       "  [6.645356226962842, 0.6865379999829417]],\n",
       " [[[119.0, 142.0, 395.5, 416.0],\n",
       "   [122.5, 145.5, 389.5, 409.5],\n",
       "   [127.0, 151.0, 380.0, 400.0],\n",
       "   [131.5, 155.5, 373.5, 393.5],\n",
       "   [136.5, 160.5, 363.0, 384.5],\n",
       "   [144.0, 168.5, 355.0, 377.0],\n",
       "   [151.0, 176.0, 346.5, 367.5],\n",
       "   [162.0, 187.0, 334.0, 356.0],\n",
       "   [172.0, 197.0, 323.5, 345.5],\n",
       "   [187.0, 213.0, 308.5, 331.5],\n",
       "   [296.5, 319.5, 0, 0],\n",
       "   [284.0, 307.0, 0, 0],\n",
       "   [264.0, 288.0, 0, 0],\n",
       "   [248.0, 272.0, 0, 0],\n",
       "   [223.5, 248.0, 302.0, 332.0]],\n",
       "  [7.891305771875223, -1.714373159942594]],\n",
       " [[[173.0, 195.0, 414.0, 435.0],\n",
       "   [176.5, 199.0, 404.5, 425.5],\n",
       "   [180.0, 203.0, 396.5, 418.0],\n",
       "   [184.0, 206.5, 389.0, 411.0],\n",
       "   [189.5, 213.0, 377.5, 399.5],\n",
       "   [195.0, 218.5, 368.5, 391.0],\n",
       "   [200.5, 224.5, 359.5, 382.5],\n",
       "   [207.5, 231.5, 349.5, 372.5],\n",
       "   [218.0, 242.5, 335.5, 358.5],\n",
       "   [227.5, 252.0, 324.0, 347.0],\n",
       "   [238.5, 263.5, 307.0, 330.5],\n",
       "   [294.0, 317.5, 0, 0],\n",
       "   [279.5, 303.5, 0, 0],\n",
       "   [257.0, 282.0, 296.0, 323.0],\n",
       "   [239.5, 265.0, 318.0, 346.0],\n",
       "   [222.5, 245.5, 346.0, 374.5]],\n",
       "  [6.699913069303108, -1.6945933282159262]],\n",
       " [[[108.0, 131.0, 404.0, 422.0],\n",
       "   [111.5, 135.0, 397.0, 417.0],\n",
       "   [117.0, 140.0, 389.0, 409.5],\n",
       "   [122.0, 145.0, 382.5, 403.0],\n",
       "   [126.5, 150.5, 376.0, 397.0],\n",
       "   [134.5, 159.0, 366.5, 387.5],\n",
       "   [142.0, 166.0, 358.5, 379.5],\n",
       "   [150.0, 174.0, 350.0, 372.0],\n",
       "   [159.0, 183.5, 338.5, 360.0],\n",
       "   [173.5, 198.5, 328.0, 351.0],\n",
       "   [186.0, 211.0, 318.0, 340.0],\n",
       "   [200.5, 226.5, 306.0, 329.0],\n",
       "   [288.0, 311.0, 0, 0],\n",
       "   [273.5, 297.5, 0, 0],\n",
       "   [251.5, 275.5, 0, 0],\n",
       "   [232.0, 256.5, 313.0, 341.5]],\n",
       "  [7.837204892308963, -0.7758813616713457]],\n",
       " [[[154.5, 175.0, 430.5, 450.5],\n",
       "   [159.0, 181.0, 421.5, 442.5],\n",
       "   [163.0, 186.0, 414.5, 435.5],\n",
       "   [170.0, 192.5, 404.0, 425.5],\n",
       "   [176.0, 198.5, 396.0, 417.5],\n",
       "   [182.0, 205.0, 384.0, 406.0],\n",
       "   [192.5, 215.5, 374.5, 396.5],\n",
       "   [201.5, 224.5, 363.5, 386.5],\n",
       "   [215.0, 239.0, 348.0, 371.0],\n",
       "   [227.0, 251.0, 335.5, 358.5],\n",
       "   [241.0, 266.0, 314.5, 338.5],\n",
       "   [263.0, 288.5, 298.5, 322.5],\n",
       "   [279.5, 303.5, 0, 0],\n",
       "   [249.5, 274.5, 317.0, 343.5],\n",
       "   [221.5, 247.5, 349.0, 377.0]],\n",
       "  [9.734878976771107, -0.2278263992545354]],\n",
       " [[[150.0, 171.5, 425.0, 445.0],\n",
       "   [152.5, 174.5, 419.0, 439.5],\n",
       "   [156.5, 178.5, 412.0, 433.0],\n",
       "   [161.0, 183.5, 403.5, 424.5],\n",
       "   [165.5, 188.5, 394.5, 414.5],\n",
       "   [172.5, 195.5, 385.5, 407.0],\n",
       "   [178.0, 201.0, 374.5, 397.0],\n",
       "   [187.5, 210.5, 365.5, 387.5],\n",
       "   [194.5, 218.5, 356.0, 379.0],\n",
       "   [207.0, 231.0, 342.5, 365.0],\n",
       "   [218.0, 242.5, 330.5, 353.5],\n",
       "   [235.0, 260.0, 313.5, 337.5],\n",
       "   [249.5, 275.0, 300.0, 324.0],\n",
       "   [284.0, 308.0, 0, 0],\n",
       "   [261.0, 286.0, 295.5, 322.0],\n",
       "   [241.0, 266.5, 322.0, 349.5]],\n",
       "  [7.16014927352599, -0.9806932683878649]],\n",
       " [[[200.5, 221.5, 439.5, 461.5],\n",
       "   [204.0, 225.5, 431.5, 453.5],\n",
       "   [208.0, 230.0, 419.5, 441.5],\n",
       "   [212.0, 234.0, 410.0, 432.5],\n",
       "   [217.5, 240.0, 396.0, 419.0],\n",
       "   [222.5, 245.5, 385.0, 408.0],\n",
       "   [230.5, 254.5, 370.0, 393.5],\n",
       "   [237.5, 261.5, 358.0, 381.0],\n",
       "   [248.5, 272.5, 340.5, 364.0],\n",
       "   [258.5, 282.5, 325.5, 350.0],\n",
       "   [270.0, 294.5, 304.5, 329.0],\n",
       "   [287.0, 311.5, 0, 0],\n",
       "   [261.5, 287.0, 310.5, 336.5],\n",
       "   [240.0, 265.5, 332.0, 359.0]],\n",
       "  [7.662562824336712, -1.9979873051650745]],\n",
       " [[[207.5, 228.5, 466.5, 488.5],\n",
       "   [210.0, 231.0, 458.5, 481.0],\n",
       "   [214.0, 235.5, 447.5, 470.5],\n",
       "   [219.0, 241.0, 435.5, 458.5],\n",
       "   [222.5, 244.5, 426.5, 449.5],\n",
       "   [229.0, 251.5, 413.5, 436.5],\n",
       "   [234.0, 256.5, 403.0, 426.5],\n",
       "   [242.5, 265.5, 388.5, 411.5],\n",
       "   [249.5, 273.0, 375.5, 399.5],\n",
       "   [257.5, 281.0, 362.5, 387.0],\n",
       "   [270.0, 294.0, 343.5, 368.0],\n",
       "   [285.0, 309.5, 322.0, 347.0],\n",
       "   [0, 0, 304.5, 329.5],\n",
       "   [276.5, 302.5, 314.0, 339.0],\n",
       "   [254.5, 281.0, 338.0, 364.5],\n",
       "   [220.5, 247.5, 369.5, 394.0]],\n",
       "  [6.766627574519953, -0.8148896370454528]],\n",
       " [[[177.0, 197.0, 447.5, 469.0],\n",
       "   [180.5, 201.5, 440.5, 460.5],\n",
       "   [184.0, 205.5, 428.0, 450.0],\n",
       "   [187.5, 209.5, 419.0, 441.0],\n",
       "   [191.5, 214.0, 406.0, 428.0],\n",
       "   [197.5, 220.5, 395.5, 418.0],\n",
       "   [203.0, 226.0, 384.0, 407.0],\n",
       "   [210.0, 233.0, 372.0, 394.5],\n",
       "   [220.5, 244.5, 355.0, 378.0],\n",
       "   [233.5, 257.5, 335.5, 358.5],\n",
       "   [245.5, 270.0, 313.0, 337.0],\n",
       "   [294.5, 318.5, 0, 0],\n",
       "   [273.5, 298.0, 0, 0],\n",
       "   [243.0, 268.5, 316.0, 343.0],\n",
       "   [220.5, 242.5, 348.0, 376.5]],\n",
       "  [9.747301954904584, -2.615459276619616]],\n",
       " [[[154.5, 177.5, 409.0, 430.0],\n",
       "   [158.5, 181.0, 402.0, 423.5],\n",
       "   [163.0, 186.0, 392.0, 413.0],\n",
       "   [169.5, 192.5, 384.5, 405.5],\n",
       "   [176.0, 199.0, 375.5, 397.0],\n",
       "   [184.5, 208.5, 363.0, 385.0],\n",
       "   [192.0, 216.5, 353.5, 375.5],\n",
       "   [205.0, 229.0, 339.0, 362.0],\n",
       "   [216.0, 240.5, 326.5, 349.5],\n",
       "   [228.5, 253.5, 314.0, 337.0],\n",
       "   [293.5, 317.5, 0, 0],\n",
       "   [278.0, 302.0, 0, 0],\n",
       "   [258.5, 283.5, 0, 0],\n",
       "   [231.0, 256.5, 326.0, 354.5]],\n",
       "  [8.551791589238759, -1.025816211720358]],\n",
       " [[[182.0, 202.0, 456.0, 476.5],\n",
       "   [185.0, 205.0, 449.5, 470.5],\n",
       "   [189.0, 210.5, 440.0, 462.0],\n",
       "   [192.5, 214.5, 433.0, 455.0],\n",
       "   [198.5, 220.0, 423.0, 445.5],\n",
       "   [203.5, 225.5, 415.0, 437.5],\n",
       "   [208.5, 230.5, 404.0, 426.5],\n",
       "   [217.0, 239.5, 394.5, 417.5],\n",
       "   [226.5, 249.5, 381.5, 404.5],\n",
       "   [235.0, 258.0, 370.5, 394.0],\n",
       "   [247.5, 271.5, 354.5, 378.5],\n",
       "   [263.0, 287.0, 336.5, 360.5],\n",
       "   [276.0, 300.5, 321.0, 345.5],\n",
       "   [0, 0, 298.0, 323.0],\n",
       "   [277.5, 303.0, 315.5, 341.0],\n",
       "   [246.0, 272.5, 345.0, 371.0],\n",
       "   [221.0, 247.0, 371.5, 395.0]],\n",
       "  [6.999982101284869, 0.048180632831123726]],\n",
       " [[[173.0, 195.0, 427.0, 448.0],\n",
       "   [176.5, 198.5, 420.0, 441.5],\n",
       "   [181.5, 203.5, 410.5, 432.0],\n",
       "   [186.0, 208.5, 403.0, 424.5],\n",
       "   [191.0, 213.0, 395.0, 417.0],\n",
       "   [198.5, 221.5, 383.5, 406.5],\n",
       "   [207.5, 230.5, 371.5, 394.5],\n",
       "   [215.0, 238.5, 361.5, 384.0],\n",
       "   [224.0, 248.0, 350.0, 373.0],\n",
       "   [238.0, 262.0, 334.0, 358.0],\n",
       "   [249.5, 273.5, 322.0, 346.0],\n",
       "   [267.5, 292.5, 302.5, 326.5],\n",
       "   [286.0, 310.5, 0, 0],\n",
       "   [268.0, 293.0, 303.5, 329.5],\n",
       "   [240.5, 266.0, 334.5, 361.5],\n",
       "   [221.0, 242.0, 363.5, 392.0]],\n",
       "  [7.2368305242894575, -0.5011199685844427]],\n",
       " [[[194.5, 214.5, 455.5, 476.0],\n",
       "   [198.0, 218.5, 445.0, 466.5],\n",
       "   [201.0, 223.0, 436.5, 458.5],\n",
       "   [206.0, 228.0, 425.0, 447.5],\n",
       "   [210.5, 232.5, 415.5, 438.5],\n",
       "   [217.5, 240.5, 402.0, 425.0],\n",
       "   [223.5, 246.5, 392.0, 414.5],\n",
       "   [233.0, 256.0, 376.5, 399.5],\n",
       "   [241.0, 264.5, 363.0, 386.5],\n",
       "   [250.0, 274.0, 345.0, 369.0],\n",
       "   [264.5, 288.5, 329.5, 353.5],\n",
       "   [277.5, 302.5, 312.5, 337.0],\n",
       "   [287.0, 312.0, 299.0, 324.0],\n",
       "   [257.5, 283.0, 325.0, 350.5],\n",
       "   [232.0, 258.0, 349.0, 376.0]],\n",
       "  [8.201027532283373, -1.1254601547245096]],\n",
       " [[[216.0, 236.0, 477.0, 499.5],\n",
       "   [217.5, 238.0, 467.5, 490.5],\n",
       "   [221.0, 241.5, 455.0, 478.0],\n",
       "   [223.5, 244.5, 444.5, 467.5],\n",
       "   [227.5, 249.0, 431.0, 454.0],\n",
       "   [231.0, 253.0, 420.0, 444.0],\n",
       "   [236.5, 259.5, 404.5, 428.0],\n",
       "   [241.5, 264.5, 392.0, 416.0],\n",
       "   [249.0, 272.0, 375.0, 399.0],\n",
       "   [256.0, 279.5, 361.0, 385.0],\n",
       "   [267.0, 291.0, 341.5, 366.0],\n",
       "   [277.0, 301.5, 324.5, 349.0],\n",
       "   [288.0, 312.5, 308.5, 333.0],\n",
       "   [284.0, 309.0, 306.5, 331.5],\n",
       "   [264.0, 289.5, 323.5, 349.0],\n",
       "   [234.0, 260.5, 351.5, 378.5]],\n",
       "  [6.068988414824497, -2.3785152325340273]],\n",
       " [[[186.5, 207.5, 436.0, 458.0],\n",
       "   [190.5, 212.0, 431.0, 452.5],\n",
       "   [195.5, 217.0, 425.0, 447.0],\n",
       "   [202.5, 224.5, 417.0, 439.0],\n",
       "   [208.5, 230.5, 410.0, 432.5],\n",
       "   [217.5, 240.0, 400.5, 423.5],\n",
       "   [224.5, 247.5, 392.5, 415.5],\n",
       "   [236.0, 258.5, 381.0, 404.0],\n",
       "   [245.0, 268.0, 371.5, 395.0],\n",
       "   [258.5, 282.5, 357.0, 381.5],\n",
       "   [270.5, 294.5, 345.5, 369.5],\n",
       "   [288.0, 312.0, 327.0, 352.0],\n",
       "   [0, 0, 311.5, 337.0],\n",
       "   [287.0, 313.0, 325.0, 350.0],\n",
       "   [263.5, 291.0, 344.5, 370.5],\n",
       "   [227.5, 255.0, 366.0, 391.5]],\n",
       "  [6.538946845558689, 2.327138492004416]],\n",
       " [[[127.0, 149.0, 411.0, 431.5],\n",
       "   [130.0, 153.0, 405.5, 425.5],\n",
       "   [133.0, 156.0, 399.0, 419.5],\n",
       "   [138.5, 161.5, 390.5, 411.0],\n",
       "   [142.5, 165.5, 383.5, 404.5],\n",
       "   [149.0, 173.0, 374.0, 395.0],\n",
       "   [155.0, 179.0, 366.0, 387.5],\n",
       "   [161.5, 186.0, 355.0, 377.0],\n",
       "   [172.0, 196.0, 346.0, 368.5],\n",
       "   [181.5, 205.5, 336.5, 358.5],\n",
       "   [195.5, 220.0, 322.5, 345.0],\n",
       "   [208.5, 233.5, 311.0, 333.5],\n",
       "   [222.5, 248.5, 299.0, 322.0],\n",
       "   [280.0, 303.5, 0, 0],\n",
       "   [264.5, 289.0, 0, 0],\n",
       "   [241.5, 266.5, 304.0, 332.0]],\n",
       "  [6.860057030533789, -1.3976602386757013]],\n",
       " [[[135.0, 158.5, 384.0, 405.0],\n",
       "   [143.5, 167.5, 378.0, 399.5],\n",
       "   [151.0, 175.0, 372.0, 393.0],\n",
       "   [162.0, 186.0, 362.5, 384.5],\n",
       "   [171.5, 195.5, 354.5, 376.5],\n",
       "   [181.5, 206.0, 344.0, 366.0],\n",
       "   [197.5, 222.0, 334.5, 357.0],\n",
       "   [210.0, 234.5, 325.0, 348.0],\n",
       "   [225.0, 250.0, 313.5, 337.0],\n",
       "   [241.5, 266.5, 301.5, 325.5],\n",
       "   [283.5, 308.0, 0, 0],\n",
       "   [267.5, 292.0, 0, 0],\n",
       "   [249.0, 274.5, 312.5, 339.0],\n",
       "   [220.0, 246.0, 350.5, 378.5]],\n",
       "  [8.088340334370114, 1.6615298360089843]],\n",
       " [[[158.0, 179.5, 428.0, 448.0],\n",
       "   [160.5, 183.0, 421.0, 441.5],\n",
       "   [164.0, 185.5, 413.0, 433.5],\n",
       "   [169.0, 191.5, 401.5, 423.0],\n",
       "   [173.5, 196.0, 393.0, 414.0],\n",
       "   [180.0, 203.5, 380.0, 402.0],\n",
       "   [187.0, 210.0, 369.5, 391.5],\n",
       "   [193.5, 217.5, 358.5, 381.0],\n",
       "   [205.0, 229.5, 342.0, 365.0],\n",
       "   [216.0, 240.0, 329.0, 352.0],\n",
       "   [228.0, 253.0, 309.5, 332.5],\n",
       "   [293.0, 317.0, 0, 0],\n",
       "   [275.0, 299.0, 0, 0],\n",
       "   [254.5, 279.0, 0, 0],\n",
       "   [223.5, 248.5, 332.5, 361.0]],\n",
       "  [9.280930568035213, -2.1719214477827786]],\n",
       " [[[152.0, 174.5, 395.0, 416.0],\n",
       "   [160.0, 183.0, 388.0, 409.0],\n",
       "   [167.0, 190.5, 380.5, 402.5],\n",
       "   [175.0, 198.5, 369.5, 391.5],\n",
       "   [187.0, 211.0, 361.5, 383.0],\n",
       "   [197.0, 221.0, 352.0, 374.0],\n",
       "   [208.5, 233.0, 340.5, 363.5],\n",
       "   [226.5, 251.5, 325.0, 348.0],\n",
       "   [242.0, 267.0, 311.5, 335.0],\n",
       "   [291.5, 315.5, 0, 0],\n",
       "   [274.0, 298.0, 0, 0],\n",
       "   [253.0, 278.5, 310.5, 337.0],\n",
       "   [220.5, 246.5, 349.5, 377.0]],\n",
       "  [9.951176561912963, 1.3726663356256528]],\n",
       " [[[170.0, 190.5, 442.0, 462.0],\n",
       "   [173.0, 195.0, 436.0, 457.0],\n",
       "   [178.5, 200.5, 428.5, 449.5],\n",
       "   [183.0, 205.0, 422.0, 443.5],\n",
       "   [188.5, 210.0, 415.5, 437.5],\n",
       "   [196.0, 218.0, 406.0, 428.0],\n",
       "   [202.0, 225.0, 398.5, 421.0],\n",
       "   [212.0, 235.0, 387.5, 410.5],\n",
       "   [220.5, 243.5, 378.5, 401.5],\n",
       "   [229.0, 252.5, 369.0, 392.5],\n",
       "   [243.0, 266.0, 355.0, 378.0],\n",
       "   [255.0, 278.0, 343.0, 367.0],\n",
       "   [272.5, 296.5, 324.5, 349.0],\n",
       "   [288.0, 312.5, 309.0, 334.0],\n",
       "   [285.5, 310.5, 312.0, 337.0],\n",
       "   [262.5, 289.0, 334.0, 360.0],\n",
       "   [228.5, 256.0, 366.5, 393.0]],\n",
       "  [6.807141578320807, 1.2073916806082168]],\n",
       " [[[130.0, 152.5, 407.0, 427.0],\n",
       "   [136.0, 159.0, 402.5, 421.5],\n",
       "   [142.0, 165.0, 394.5, 415.5],\n",
       "   [151.5, 175.5, 388.5, 409.5],\n",
       "   [159.5, 183.0, 380.5, 401.5],\n",
       "   [171.5, 195.0, 373.5, 395.0],\n",
       "   [181.0, 205.0, 366.0, 388.0],\n",
       "   [196.5, 220.5, 355.0, 377.0],\n",
       "   [213.5, 237.5, 342.0, 365.0],\n",
       "   [227.5, 252.0, 332.0, 355.0],\n",
       "   [243.5, 268.0, 320.0, 343.5],\n",
       "   [268.5, 293.5, 301.0, 325.5],\n",
       "   [285.5, 310.0, 0, 0],\n",
       "   [259.5, 285.5, 320.5, 346.0],\n",
       "   [235.0, 262.0, 348.5, 375.5]],\n",
       "  [7.899590226340393, 2.3742448679014467]],\n",
       " [[[184.5, 206.5, 414.5, 436.0],\n",
       "   [189.0, 212.0, 407.0, 428.0],\n",
       "   [196.5, 219.0, 395.5, 417.5],\n",
       "   [202.5, 225.5, 383.0, 406.0],\n",
       "   [211.5, 235.5, 373.5, 396.0],\n",
       "   [220.0, 244.0, 362.5, 385.5],\n",
       "   [233.0, 257.0, 347.0, 370.0],\n",
       "   [244.0, 268.0, 333.5, 357.5],\n",
       "   [261.0, 285.5, 314.5, 338.5],\n",
       "   [292.5, 317.0, 0, 0],\n",
       "   [273.0, 298.0, 300.0, 326.0],\n",
       "   [251.0, 277.0, 322.0, 348.0],\n",
       "   [218.0, 244.0, 357.0, 384.5]],\n",
       "  [9.047286175018913, -0.10891579834813103]],\n",
       " [[[149.5, 172.0, 400.0, 420.5],\n",
       "   [154.5, 177.5, 393.5, 414.5],\n",
       "   [162.5, 186.0, 384.5, 406.0],\n",
       "   [169.0, 193.0, 378.0, 399.5],\n",
       "   [176.5, 200.0, 367.5, 389.5],\n",
       "   [187.5, 211.5, 360.0, 382.0],\n",
       "   [197.0, 221.5, 351.0, 373.0],\n",
       "   [211.5, 236.0, 337.5, 360.5],\n",
       "   [223.5, 248.5, 327.0, 350.5],\n",
       "   [238.0, 263.0, 311.5, 334.5],\n",
       "   [259.5, 284.5, 296.5, 321.0],\n",
       "   [282.0, 307.0, 0, 0],\n",
       "   [258.5, 284.0, 306.0, 332.5],\n",
       "   [236.5, 262.5, 333.0, 360.0]],\n",
       "  [8.206035450270194, 1.162876398196504]],\n",
       " [[[177.0, 198.0, 437.0, 458.0],\n",
       "   [182.5, 204.0, 429.5, 451.5],\n",
       "   [187.5, 209.0, 422.0, 444.0],\n",
       "   [194.5, 216.5, 412.0, 434.0],\n",
       "   [201.0, 224.0, 402.5, 425.5],\n",
       "   [210.5, 233.5, 390.5, 413.0],\n",
       "   [219.0, 242.5, 380.5, 403.5],\n",
       "   [228.5, 251.5, 364.5, 388.5],\n",
       "   [243.5, 266.5, 352.0, 375.5],\n",
       "   [255.5, 279.5, 331.5, 356.0],\n",
       "   [275.5, 300.0, 315.5, 340.0],\n",
       "   [289.5, 314.5, 299.5, 324.5],\n",
       "   [265.5, 291.0, 322.5, 347.5],\n",
       "   [239.0, 265.5, 346.5, 373.0]],\n",
       "  [9.166477665225486, 0.5893281765262707]],\n",
       " [[[156.0, 178.0, 415.5, 435.0],\n",
       "   [160.5, 183.5, 404.5, 425.5],\n",
       "   [164.0, 187.0, 396.5, 417.5],\n",
       "   [169.0, 191.5, 384.5, 406.0],\n",
       "   [176.0, 199.5, 375.0, 396.5],\n",
       "   [182.0, 206.0, 364.5, 387.0],\n",
       "   [189.5, 213.5, 349.5, 372.5],\n",
       "   [201.5, 225.5, 337.5, 360.0],\n",
       "   [211.5, 236.5, 324.5, 347.5],\n",
       "   [224.0, 249.5, 305.0, 328.5],\n",
       "   [289.0, 312.5, 0, 0],\n",
       "   [270.5, 295.0, 0, 0],\n",
       "   [251.0, 275.5, 0, 0],\n",
       "   [221.0, 245.0, 330.5, 359.5]],\n",
       "  [9.849604567492579, -2.1319788751331625]],\n",
       " [[[163.0, 184.5, 428.0, 448.0],\n",
       "   [166.5, 188.5, 419.5, 440.5],\n",
       "   [170.0, 192.0, 411.5, 433.5],\n",
       "   [175.0, 198.0, 401.0, 422.0],\n",
       "   [180.0, 203.0, 392.0, 413.5],\n",
       "   [185.5, 208.5, 382.0, 404.0],\n",
       "   [194.0, 217.0, 368.5, 390.5],\n",
       "   [201.5, 224.5, 357.5, 380.5],\n",
       "   [210.0, 234.0, 345.5, 368.5],\n",
       "   [224.0, 248.0, 328.0, 351.0],\n",
       "   [241.0, 266.0, 308.5, 331.5],\n",
       "   [291.0, 315.0, 0, 0],\n",
       "   [267.0, 291.5, 0, 0],\n",
       "   [245.5, 270.5, 308.0, 336.0]],\n",
       "  [8.732345272378154, -1.9852803576170985]],\n",
       " [[[125.0, 148.0, 405.0, 424.0],\n",
       "   [129.5, 152.5, 399.0, 419.5],\n",
       "   [134.5, 157.5, 392.0, 412.5],\n",
       "   [142.0, 166.0, 385.5, 406.5],\n",
       "   [149.0, 172.0, 377.5, 398.5],\n",
       "   [158.5, 182.5, 371.0, 392.0],\n",
       "   [167.0, 191.0, 363.0, 385.0],\n",
       "   [176.0, 200.0, 355.5, 377.0],\n",
       "   [190.0, 214.5, 343.5, 366.5],\n",
       "   [201.5, 226.0, 335.0, 358.0],\n",
       "   [219.5, 244.5, 321.5, 344.5],\n",
       "   [235.0, 260.5, 310.0, 333.0],\n",
       "   [253.0, 278.0, 296.5, 320.5],\n",
       "   [277.5, 302.0, 0, 0],\n",
       "   [259.0, 284.0, 305.0, 332.0],\n",
       "   [241.0, 266.0, 330.5, 358.0]],\n",
       "  [6.684036518077956, 0.7590854016467352]]]"
      ]
     },
     "execution_count": 4,
     "metadata": {},
     "output_type": "execute_result"
    }
   ],
   "source": [
    "data"
   ]
  },
  {
   "cell_type": "code",
   "execution_count": 8,
   "metadata": {},
   "outputs": [
    {
     "data": {
      "text/plain": [
       "500"
      ]
     },
     "execution_count": 8,
     "metadata": {},
     "output_type": "execute_result"
    }
   ],
   "source": [
    "len(data) "
   ]
  },
  {
   "cell_type": "code",
   "execution_count": 405,
   "metadata": {},
   "outputs": [
    {
     "data": {
      "text/plain": [
       "[[227.5, 246.0, 482.0, 503.5],\n",
       " [230.5, 249.5, 473.0, 495.5],\n",
       " [235.5, 255.5, 464.5, 486.5],\n",
       " [239.5, 260.5, 451.0, 474.0],\n",
       " [246.5, 267.0, 440.5, 463.5],\n",
       " [252.0, 273.0, 426.0, 449.5],\n",
       " [260.5, 281.5, 414.0, 437.5],\n",
       " [267.5, 289.5, 396.0, 419.5],\n",
       " [278.5, 300.5, 380.5, 404.5],\n",
       " [289.0, 311.0, 359.5, 384.5],\n",
       " [0, 0, 341.0, 366.0],\n",
       " [0, 0, 312.0, 337.0],\n",
       " [278.0, 305.0, 336.5, 360.5],\n",
       " [247.5, 275.0, 355.0, 379.5]]"
      ]
     },
     "execution_count": 405,
     "metadata": {},
     "output_type": "execute_result"
    }
   ],
   "source": [
    "data[0][0]"
   ]
  },
  {
   "cell_type": "code",
   "execution_count": 406,
   "metadata": {},
   "outputs": [
    {
     "name": "stdout",
     "output_type": "stream",
     "text": [
      "[227.5, 246.0, 482.0, 503.5]\n",
      "[230.5, 249.5, 473.0, 495.5]\n",
      "[235.5, 255.5, 464.5, 486.5]\n",
      "[239.5, 260.5, 451.0, 474.0]\n",
      "[246.5, 267.0, 440.5, 463.5]\n",
      "[252.0, 273.0, 426.0, 449.5]\n",
      "[260.5, 281.5, 414.0, 437.5]\n",
      "[267.5, 289.5, 396.0, 419.5]\n",
      "[278.5, 300.5, 380.5, 404.5]\n",
      "[289.0, 311.0, 359.5, 384.5]\n",
      "[0, 0, 341.0, 366.0]\n",
      "[0, 0, 312.0, 337.0]\n",
      "[278.0, 305.0, 336.5, 360.5]\n",
      "[247.5, 275.0, 355.0, 379.5]\n"
     ]
    }
   ],
   "source": [
    "for i in data[0][0]:\n",
    "    print(i)"
   ]
  },
  {
   "cell_type": "code",
   "execution_count": 9,
   "metadata": {},
   "outputs": [],
   "source": [
    "with open('src/yolov5/list_100.bin', 'rb') as f:\n",
    "    data_100 = pickle.load(f)"
   ]
  },
  {
   "cell_type": "code",
   "execution_count": 3,
   "metadata": {},
   "outputs": [],
   "source": [
    "with open('src/yolov5/list_500.bin', 'rb') as f:\n",
    "    data_500 = pickle.load(f)"
   ]
  },
  {
   "cell_type": "code",
   "execution_count": 11,
   "metadata": {},
   "outputs": [
    {
     "data": {
      "text/plain": [
       "100"
      ]
     },
     "execution_count": 11,
     "metadata": {},
     "output_type": "execute_result"
    }
   ],
   "source": [
    "len(data_100)"
   ]
  },
  {
   "cell_type": "code",
   "execution_count": 7,
   "metadata": {},
   "outputs": [],
   "source": [
    "data_100.append(data_500)"
   ]
  },
  {
   "cell_type": "code",
   "execution_count": 15,
   "metadata": {},
   "outputs": [],
   "source": [
    "data_new = data_100 + data_500"
   ]
  },
  {
   "cell_type": "code",
   "execution_count": 16,
   "metadata": {},
   "outputs": [
    {
     "data": {
      "text/plain": [
       "600"
      ]
     },
     "execution_count": 16,
     "metadata": {},
     "output_type": "execute_result"
    }
   ],
   "source": [
    "len(data_new)"
   ]
  },
  {
   "cell_type": "code",
   "execution_count": 17,
   "metadata": {},
   "outputs": [],
   "source": [
    "with open('list.bin', 'wb') as f:\n",
    "    pickle.dump(data_new,f)"
   ]
  },
  {
   "cell_type": "code",
   "execution_count": 5,
   "metadata": {},
   "outputs": [
    {
     "data": {
      "text/plain": [
       "array([-0.21285, -0.4257 , -0.63855])"
      ]
     },
     "execution_count": 5,
     "metadata": {},
     "output_type": "execute_result"
    }
   ],
   "source": [
    "-0.645 * (0.033 * np.array([100,200,300]) / np.array([10,10,10]))"
   ]
  },
  {
   "cell_type": "code",
   "execution_count": 9,
   "metadata": {},
   "outputs": [
    {
     "data": {
      "text/plain": [
       "array([0.10442832, 0.41771326, 0.93985484])"
      ]
     },
     "execution_count": 9,
     "metadata": {},
     "output_type": "execute_result"
    }
   ],
   "source": [
    "0.5 * 0.507 * 1.2041 * np.pi * (0.033 ** 2) * (np.array([10,20,30]) ** 2)\n",
    "[337.2084410968044, 0.0, 320.5, 0.0, 337.2084410968044, 240.5, 0.0, 0.0, 1.0]"
   ]
  },
  {
   "cell_type": "code",
   "execution_count": 38,
   "metadata": {},
   "outputs": [],
   "source": [
    "k = np.matrix([[337.2084410968044, 0.0, 320.5, 0],\n",
    "              [0.0, 337.2084410968044, 240.5, 0],\n",
    "              [0, 0, 1, 0]])\n",
    "\n",
    "ror = np.matrix([[0.707,-0.707, 0],\n",
    "                [0.707, 0.707, 0],\n",
    "                [0, 0, 1]])\n",
    "\n",
    "c_xy = np.matrix([[-1],\n",
    "                 [6.4],\n",
    "                 [0]])\n",
    "\n",
    "point = np.matrix([[2.5],\n",
    "                  [-4.47],\n",
    "                  [2.7],\n",
    "                  [1]])"
   ]
  },
  {
   "cell_type": "code",
   "execution_count": 39,
   "metadata": {},
   "outputs": [
    {
     "data": {
      "text/plain": [
       "matrix([[-5.2318],\n",
       "        [ 3.8178],\n",
       "        [ 0.    ]])"
      ]
     },
     "execution_count": 39,
     "metadata": {},
     "output_type": "execute_result"
    }
   ],
   "source": [
    "ror@c_xy "
   ]
  },
  {
   "cell_type": "code",
   "execution_count": 48,
   "metadata": {},
   "outputs": [],
   "source": [
    "ror = np.matrix([[0.707,-0.707, 0, -5.2318],\n",
    "                [0.707, 0.707, 0, 3.8178],\n",
    "                [0, 0, 1, 0],\n",
    "                [0, 0, 0, 1]])\n"
   ]
  },
  {
   "cell_type": "code",
   "execution_count": 44,
   "metadata": {},
   "outputs": [],
   "source": [
    "p = k@ror"
   ]
  },
  {
   "cell_type": "code",
   "execution_count": 46,
   "metadata": {},
   "outputs": [
    {
     "data": {
      "text/plain": [
       "matrix([[ 2.38406368e+02, -2.38406368e+02,  3.20500000e+02,\n",
       "         -1.76420712e+03],\n",
       "        [ 2.38406368e+02,  2.38406368e+02,  2.40500000e+02,\n",
       "          1.28739439e+03],\n",
       "        [ 0.00000000e+00,  0.00000000e+00,  1.00000000e+00,\n",
       "          0.00000000e+00]])"
      ]
     },
     "execution_count": 46,
     "metadata": {},
     "output_type": "execute_result"
    }
   ],
   "source": [
    "p.shape\n",
    "p"
   ]
  },
  {
   "cell_type": "code",
   "execution_count": 47,
   "metadata": {},
   "outputs": [
    {
     "data": {
      "text/plain": [
       "matrix([[ 762.83526182],\n",
       "        [1467.08384174],\n",
       "        [   2.7       ]])"
      ]
     },
     "execution_count": 47,
     "metadata": {},
     "output_type": "execute_result"
    }
   ],
   "source": [
    "p @ point"
   ]
  },
  {
   "cell_type": "code",
   "execution_count": 51,
   "metadata": {},
   "outputs": [
    {
     "data": {
      "text/plain": [
       "matrix([[-0.30401],\n",
       "        [ 2.42501],\n",
       "        [ 2.7    ],\n",
       "        [ 1.     ]])"
      ]
     },
     "execution_count": 51,
     "metadata": {},
     "output_type": "execute_result"
    }
   ],
   "source": [
    "ror@(point)"
   ]
  },
  {
   "cell_type": "code",
   "execution_count": 25,
   "metadata": {},
   "outputs": [
    {
     "data": {
      "text/plain": [
       "matrix([[ 2.7 ],\n",
       "        [-4.47],\n",
       "        [ 2.5 ]])"
      ]
     },
     "execution_count": 25,
     "metadata": {},
     "output_type": "execute_result"
    }
   ],
   "source": [
    "point[:3]"
   ]
  },
  {
   "cell_type": "code",
   "execution_count": 3,
   "metadata": {},
   "outputs": [],
   "source": [
    "def z_roration_matrix(z):\n",
    "    z_matrix = np.matrix([[np.cos(np.deg2rad(z)), -np.sin(np.deg2rad(z)), 0],\n",
    "                            [np.sin(np.deg2rad(z)), np.cos(np.deg2rad(z)), 0],\n",
    "                            [0, 0, 1]])\n",
    "    return z_matrix\n",
    "    \n",
    "def x_roration_matrix(x):\n",
    "    x_matrix = np.matrix([[1, 0, 0],\n",
    "                         [0, np.cos(np.deg2rad(x)), -np.sin(np.deg2rad(x))],\n",
    "                         [0,-np.sin(np.deg2rad(x)),np.cos(np.deg2rad(x))]])\n",
    "    return x_matrix\n",
    "\n",
    "def y_roration_matrix(y):\n",
    "    x_matrix = np.matrix([[np.cos(np.deg2rad(y)), 0, np.sin(np.deg2rad(y))],\n",
    "                         [0, 1, 0],\n",
    "                         [-np.sin(np.deg2rad(y)),0, np.cos(np.deg2rad(y))]])\n",
    "    return x_matrix    \n",
    "    \n",
    "    \n",
    "    \n",
    "    \n",
    "ror = np.round(z_roration_matrix(45) @ y_roration_matrix(0) @ x_roration_matrix(-90),3)\n",
    "\n",
    "k = np.matrix([[337.2084410968044, 0.0, 320.306834],\n",
    "              [0.0, 337.2084410968044, 240.879174],\n",
    "              [0, 0, 1]])"
   ]
  },
  {
   "cell_type": "code",
   "execution_count": 132,
   "metadata": {},
   "outputs": [],
   "source": [
    "c_xy = np.matrix([[0],\n",
    "                 [-6.4],\n",
    "                 [1]])\n",
    "\n",
    "ball_point = np.matrix([[-2.69],\n",
    "                  [-2.79],\n",
    "                  [2.4]])"
   ]
  },
  {
   "cell_type": "code",
   "execution_count": 136,
   "metadata": {},
   "outputs": [
    {
     "data": {
      "text/plain": [
       "matrix([[ 50.20100449],\n",
       "        [155.68687081],\n",
       "        [  1.        ]])"
      ]
     },
     "execution_count": 136,
     "metadata": {},
     "output_type": "execute_result"
    }
   ],
   "source": [
    "k @ ror @ (ball_point - c_xy) / 3.61"
   ]
  },
  {
   "cell_type": "code",
   "execution_count": 138,
   "metadata": {},
   "outputs": [],
   "source": [
    "ccd_matrix = np.matrix([[368 / 50.2,0,0],\n",
    "                       [0,135 / 155,0],\n",
    "                       [0,0,1]]) *3.61"
   ]
  },
  {
   "cell_type": "code",
   "execution_count": 148,
   "metadata": {},
   "outputs": [
    {
     "data": {
      "text/plain": [
       "matrix([[1.28403707e+03],\n",
       "        [1.30210261e+02],\n",
       "        [1.00027083e+00]])"
      ]
     },
     "execution_count": 148,
     "metadata": {},
     "output_type": "execute_result"
    }
   ],
   "source": [
    "ccd_matrix @ k @ ror @ (ball_point - c_xy) / 24"
   ]
  },
  {
   "cell_type": "code",
   "execution_count": 142,
   "metadata": {},
   "outputs": [],
   "source": [
    "c_xy = np.matrix([[0],\n",
    "                 [-6.4],\n",
    "                 [1]])\n",
    "\n",
    "ball_point = np.matrix([[-3.3],\n",
    "                  [0.25],\n",
    "                  [1.75]])\n",
    "\n"
   ]
  },
  {
   "cell_type": "code",
   "execution_count": 143,
   "metadata": {},
   "outputs": [
    {
     "data": {
      "text/plain": [
       "matrix([[175.11197839],\n",
       "        [149.46019084],\n",
       "        [  1.        ]])"
      ]
     },
     "execution_count": 143,
     "metadata": {},
     "output_type": "execute_result"
    }
   ],
   "source": [
    "k @ ror @ (ball_point - c_xy) / 6.65"
   ]
  },
  {
   "cell_type": "code",
   "execution_count": 2,
   "metadata": {},
   "outputs": [],
   "source": [
    "c_xy = np.matrix([[0],\n",
    "                 [-6.4],\n",
    "                 [1]])\n",
    "\n",
    "ball_point = np.matrix([[-2.69],\n",
    "                  [-2.79],\n",
    "                  [2.4]])\n",
    "\n",
    "k = np.matrix([[337.2084410968044, 0.0, 320.306834],\n",
    "              [0.0, 337.2084410968044, 240.879174],\n",
    "              [0, 0, 1]])"
   ]
  },
  {
   "cell_type": "code",
   "execution_count": 4,
   "metadata": {
    "scrolled": true
   },
   "outputs": [
    {
     "data": {
      "text/plain": [
       "matrix([[-2.89163],\n",
       "        [-0.91203],\n",
       "        [ 3.61   ]])"
      ]
     },
     "execution_count": 4,
     "metadata": {},
     "output_type": "execute_result"
    }
   ],
   "source": [
    "ror @ (ball_point - c_xy)"
   ]
  },
  {
   "cell_type": "code",
   "execution_count": 65,
   "metadata": {},
   "outputs": [],
   "source": [
    "point = np.matrix([[368],\n",
    "                 [135],\n",
    "                 [1]])"
   ]
  },
  {
   "cell_type": "code",
   "execution_count": 102,
   "metadata": {},
   "outputs": [
    {
     "data": {
      "text/plain": [
       "matrix([[-0.12201273],\n",
       "        [-5.4       ],\n",
       "        [ 0.6779676 ]])"
      ]
     },
     "execution_count": 102,
     "metadata": {},
     "output_type": "execute_result"
    }
   ],
   "source": [
    "(np.linalg.inv(ror) @ np.linalg.inv(k) @ point) + c_xy"
   ]
  },
  {
   "cell_type": "code",
   "execution_count": 20,
   "metadata": {},
   "outputs": [
    {
     "name": "stdout",
     "output_type": "stream",
     "text": [
      "[[3.99856224]]\n"
     ]
    }
   ],
   "source": []
  },
  {
   "cell_type": "code",
   "execution_count": 190,
   "metadata": {},
   "outputs": [],
   "source": [
    "h = np.matrix([[ 0.707,  0.   , -0.707, 0],\n",
    "       [ 0.707,  0.   ,  0.707, -6.4],\n",
    "       [ 0.   ,  1.   ,  0., 1   ],\n",
    "              [0,0,0,1]])"
   ]
  },
  {
   "cell_type": "code",
   "execution_count": 177,
   "metadata": {},
   "outputs": [],
   "source": [
    "ball_point_ = np.matrix([[-2.69],\n",
    "                  [-2.79],\n",
    "                  [2.4],\n",
    "                       [1]])"
   ]
  },
  {
   "cell_type": "code",
   "execution_count": 185,
   "metadata": {},
   "outputs": [
    {
     "ename": "TypeError",
     "evalue": "can't multiply sequence by non-int of type 'float'",
     "output_type": "error",
     "traceback": [
      "\u001b[0;31m---------------------------------------------------------------------------\u001b[0m",
      "\u001b[0;31mTypeError\u001b[0m                                 Traceback (most recent call last)",
      "\u001b[0;32m<ipython-input-185-6b9ee601cc60>\u001b[0m in \u001b[0;36m<module>\u001b[0;34m\u001b[0m\n\u001b[0;32m----> 1\u001b[0;31m \u001b[0mk_\u001b[0m \u001b[0;34m@\u001b[0m \u001b[0mh\u001b[0m \u001b[0;34m@\u001b[0m \u001b[0mball_point_\u001b[0m\u001b[0;34m\u001b[0m\u001b[0;34m\u001b[0m\u001b[0m\n\u001b[0m",
      "\u001b[0;31mTypeError\u001b[0m: can't multiply sequence by non-int of type 'float'"
     ]
    }
   ],
   "source": [
    "k_ @ h @ ball_point_"
   ]
  },
  {
   "cell_type": "code",
   "execution_count": 194,
   "metadata": {},
   "outputs": [],
   "source": [
    "k_ = np.matrix([[337.2084411,   0.       , 320.306834,0 ],\n",
    "                [  0.       , 337.2084411, 240.879174,0 ],\n",
    "                [  0.       ,   0.       ,   1.     ,0  ],\n",
    "               [0,0,0,1]])"
   ]
  },
  {
   "cell_type": "code",
   "execution_count": 2,
   "metadata": {},
   "outputs": [],
   "source": [
    "def cal_heigth(depth, x_pos, y_pos):\n",
    "    \n",
    "    x = x_pos - 320\n",
    "    y = y_pos - 240\n",
    "    \n",
    "    pix_length = np.sqrt(x**2 + 337**2)\n",
    "    theta_pix = np.arctan(abs(y) / pix_length)\n",
    "    \n",
    "    return depth * np.sin(theta_pix)\n"
   ]
  },
  {
   "cell_type": "code",
   "execution_count": 14,
   "metadata": {},
   "outputs": [
    {
     "data": {
      "text/plain": [
       "1.2626868831837847"
      ]
     },
     "execution_count": 14,
     "metadata": {},
     "output_type": "execute_result"
    }
   ],
   "source": [
    "cal_heigth(8.62, 341, 190)"
   ]
  },
  {
   "cell_type": "code",
   "execution_count": 15,
   "metadata": {},
   "outputs": [
    {
     "data": {
      "text/plain": [
       "1.5346332353346785"
      ]
     },
     "execution_count": 15,
     "metadata": {},
     "output_type": "execute_result"
    }
   ],
   "source": [
    "cal_heigth(6.59, 626, 131)"
   ]
  },
  {
   "cell_type": "code",
   "execution_count": 16,
   "metadata": {},
   "outputs": [
    {
     "data": {
      "text/plain": [
       "0.7250275764867471"
      ]
     },
     "execution_count": 16,
     "metadata": {},
     "output_type": "execute_result"
    }
   ],
   "source": [
    "cal_heigth(7.17, 429, 204)"
   ]
  },
  {
   "cell_type": "code",
   "execution_count": 17,
   "metadata": {},
   "outputs": [
    {
     "data": {
      "text/plain": [
       "1.3894774039993185"
      ]
     },
     "execution_count": 17,
     "metadata": {},
     "output_type": "execute_result"
    }
   ],
   "source": [
    "cal_heigth(4.714, 368, 135)"
   ]
  },
  {
   "cell_type": "code",
   "execution_count": 19,
   "metadata": {},
   "outputs": [
    {
     "data": {
      "text/plain": [
       "1.417734139297918"
      ]
     },
     "execution_count": 19,
     "metadata": {},
     "output_type": "execute_result"
    }
   ],
   "source": [
    "cal_heigth(5.04, 267, 140)"
   ]
  },
  {
   "cell_type": "code",
   "execution_count": 21,
   "metadata": {},
   "outputs": [
    {
     "data": {
      "text/plain": [
       "1.3884355132045225"
      ]
     },
     "execution_count": 21,
     "metadata": {},
     "output_type": "execute_result"
    }
   ],
   "source": [
    "cal_heigth(3.998, 339, 115)"
   ]
  },
  {
   "cell_type": "code",
   "execution_count": 72,
   "metadata": {},
   "outputs": [
    {
     "name": "stdout",
     "output_type": "stream",
     "text": [
      "[[8.3977497]]\n"
     ]
    }
   ],
   "source": []
  },
  {
   "cell_type": "code",
   "execution_count": 29,
   "metadata": {},
   "outputs": [
    {
     "data": {
      "text/plain": [
       "1.1652218213528636"
      ]
     },
     "execution_count": 29,
     "metadata": {},
     "output_type": "execute_result"
    }
   ],
   "source": [
    "cal_heigth(8.588, 457, 233) + 1"
   ]
  },
  {
   "cell_type": "code",
   "execution_count": null,
   "metadata": {},
   "outputs": [],
   "source": []
  },
  {
   "cell_type": "code",
   "execution_count": 31,
   "metadata": {},
   "outputs": [],
   "source": [
    "real = np.array([2.53, 2.52, 2.4, 2.43, 1.42, 1.3, 0.79, 1.46, 1.21, 1.4])\n",
    "esti = np.array([2.527, 2.525, 2.449, 2.4496, 1.427, 1.386, 0.818, 1.435, 1.2254, 1.17])"
   ]
  },
  {
   "cell_type": "code",
   "execution_count": 32,
   "metadata": {},
   "outputs": [
    {
     "data": {
      "text/plain": [
       "array([ 0.003 , -0.005 , -0.049 , -0.0196, -0.007 , -0.086 , -0.028 ,\n",
       "        0.025 , -0.0154,  0.23  ])"
      ]
     },
     "execution_count": 32,
     "metadata": {},
     "output_type": "execute_result"
    }
   ],
   "source": [
    "real - esti"
   ]
  },
  {
   "cell_type": "code",
   "execution_count": 35,
   "metadata": {},
   "outputs": [
    {
     "data": {
      "text/plain": [
       "0.02545787108145533"
      ]
     },
     "execution_count": 35,
     "metadata": {},
     "output_type": "execute_result"
    }
   ],
   "source": [
    "np.sqrt(sum((real - esti)**2)) / len(real - esti)"
   ]
  },
  {
   "cell_type": "code",
   "execution_count": 36,
   "metadata": {},
   "outputs": [
    {
     "data": {
      "text/plain": [
       "0.004799999999999971"
      ]
     },
     "execution_count": 36,
     "metadata": {},
     "output_type": "execute_result"
    }
   ],
   "source": [
    "(sum((real - esti))) / len(real - esti)"
   ]
  },
  {
   "cell_type": "code",
   "execution_count": 15,
   "metadata": {},
   "outputs": [
    {
     "name": "stdout",
     "output_type": "stream",
     "text": [
      "0.6545\n",
      "1.309\n",
      "1.9634999999999998\n",
      "2.618\n",
      "3.2725\n"
     ]
    }
   ],
   "source": [
    "rpm = [500, 1000, 1500, 2000, 2500]\n",
    "\n",
    "for i in rpm:\n",
    "    print((i * 0.10472) / 80)"
   ]
  },
  {
   "cell_type": "code",
   "execution_count": 9,
   "metadata": {},
   "outputs": [],
   "source": [
    "value = [0.8726666666666667,\n",
    "1.7453333333333334,\n",
    "2.618,\n",
    "3.490666666666667,\n",
    "4.363333333333333]"
   ]
  },
  {
   "cell_type": "code",
   "execution_count": 17,
   "metadata": {},
   "outputs": [
    {
     "name": "stdout",
     "output_type": "stream",
     "text": [
      "0.021816666666666668\n",
      "0.043633333333333336\n",
      "0.06545\n",
      "0.08726666666666667\n",
      "0.10908333333333334\n"
     ]
    }
   ],
   "source": [
    "for j in value:\n",
    "    print(0.025 * j)"
   ]
  },
  {
   "cell_type": "code",
   "execution_count": 2,
   "metadata": {},
   "outputs": [
    {
     "name": "stdout",
     "output_type": "stream",
     "text": [
      "[nan  7.]\n"
     ]
    }
   ],
   "source": [
    "var = np.array([None, 7.0], dtype=np.float16)\n",
    "print(var)"
   ]
  },
  {
   "cell_type": "code",
   "execution_count": 4,
   "metadata": {},
   "outputs": [
    {
     "data": {
      "text/plain": [
       "nan"
      ]
     },
     "execution_count": 4,
     "metadata": {},
     "output_type": "execute_result"
    }
   ],
   "source": [
    "np.mean(var)"
   ]
  },
  {
   "cell_type": "code",
   "execution_count": 5,
   "metadata": {},
   "outputs": [
    {
     "data": {
      "text/plain": [
       "array([ True, False])"
      ]
     },
     "execution_count": 5,
     "metadata": {},
     "output_type": "execute_result"
    }
   ],
   "source": [
    "np.isnan(var)"
   ]
  },
  {
   "cell_type": "code",
   "execution_count": 7,
   "metadata": {
    "scrolled": true
   },
   "outputs": [
    {
     "name": "stdout",
     "output_type": "stream",
     "text": [
      "[0, 0]\n"
     ]
    }
   ],
   "source": [
    "print(min([[0, 0], [395, 131]]))"
   ]
  },
  {
   "cell_type": "code",
   "execution_count": 65,
   "metadata": {},
   "outputs": [],
   "source": [
    "\n",
    "a = [1.9110087607998396, 2.054286575684662]\n",
    "b = [7.572891, 12.82606]\n",
    "\n",
    "\n"
   ]
  },
  {
   "cell_type": "code",
   "execution_count": 70,
   "metadata": {},
   "outputs": [],
   "source": [
    "def cal_ball_position(ball_height_list, ball_depth_list):\n",
    "    \n",
    "    height = sum(ball_height_list) / 2\n",
    "    \n",
    "    th_L = np.arccos((ball_depth_list[1] ** 2 - 12.8 ** 2 - ball_depth_list[0]**2) / (2 * 12.8 * ball_depth_list[0]))\n",
    "    th_R = np.arccos((ball_depth_list[0] ** 2 - 12.8 ** 2 - ball_depth_list[1]**2) / (2 * 12.8 * ball_depth_list[1]))\n",
    "    \n",
    "    ball2net_length_x = ball_depth_list[0] * np.sin(th_L)\n",
    "    ball2net_length_y = ball_depth_list[0] * np.cos(th_L)\n",
    "    \n",
    "    #ball2net_length_x = ball_depth_list[1] * np.sin(th_R)\n",
    "    #ball2net_length_y = ball_depth_list[1] * np.cos(th_R)\n",
    "    \n",
    "    \n",
    "    ball_plate_angle = np.sin(height / ball2net_length_x)\n",
    "    \n",
    "    ball_position = ball2net_length_x * np.cos(ball_plate_angle)\n",
    "    \n",
    "    print(np.rad2deg(th_L) )\n",
    "    print(np.rad2deg(th_R) )\n",
    "    \n",
    "    print(ball_depth_list[0] * np.sin(th_L))\n",
    "    print(ball_depth_list[1] * np.sin(th_R))\n",
    "    \n",
    "    print(ball_depth_list[0] * np.cos(th_L))\n",
    "    print(ball_depth_list[1] * np.cos(th_R))\n",
    "    \n",
    "    print(np.rad2deg(ball_plate_angle))\n",
    "    print(-ball_position, 6.4 + ball2net_length_y)\n",
    "    \n",
    "    \n",
    "    \n",
    "    #th_R = \n",
    "    \n",
    "    \n"
   ]
  },
  {
   "cell_type": "code",
   "execution_count": 71,
   "metadata": {},
   "outputs": [
    {
     "name": "stdout",
     "output_type": "stream",
     "text": [
      "106.99997751983467\n",
      "145.62332085833663\n",
      "7.241992548397297\n",
      "7.241992548397296\n",
      "-2.2140962099328525\n",
      "-10.585903790067151\n",
      "15.490712029629778\n",
      "-6.978918199155788 4.185903790067147\n"
     ]
    }
   ],
   "source": [
    "cal_ball_position(a,b)"
   ]
  },
  {
   "cell_type": "code",
   "execution_count": 26,
   "metadata": {},
   "outputs": [
    {
     "data": {
      "text/plain": [
       "-0.7622810143329566"
      ]
     },
     "execution_count": 26,
     "metadata": {},
     "output_type": "execute_result"
    }
   ],
   "source": [
    "(b[1] ** 2 - 12.8 ** 2 - b[0]**2) / (2 * 12.8 * b[0])"
   ]
  },
  {
   "cell_type": "code",
   "execution_count": 66,
   "metadata": {},
   "outputs": [
    {
     "name": "stdout",
     "output_type": "stream",
     "text": [
      "[[11.09451468]]\n"
     ]
    }
   ],
   "source": [
    "point = np.matrix([[-9.96],\n",
    "                 [1.616],\n",
    "                 [0]])\n",
    "\n",
    "\n",
    "print(np.sqrt(point[0] **2 + (point[1] - (-6.4)) ** 2 + (point[2] - 1) ** 2))"
   ]
  },
  {
   "cell_type": "code",
   "execution_count": 3,
   "metadata": {},
   "outputs": [
    {
     "data": {
      "text/plain": [
       "14.430246342922675"
      ]
     },
     "execution_count": 3,
     "metadata": {},
     "output_type": "execute_result"
    }
   ],
   "source": [
    "np.rad2deg(0.2518553105578714)"
   ]
  },
  {
   "cell_type": "code",
   "execution_count": 6,
   "metadata": {},
   "outputs": [
    {
     "data": {
      "text/plain": [
       "9.40444465318028"
      ]
     },
     "execution_count": 6,
     "metadata": {},
     "output_type": "execute_result"
    }
   ],
   "source": [
    "2.42124108441863 / np.tan(0.2518553105578714)\n",
    "                          \n",
    "2.4199435731404417 / np.tan(0.2518553105578714)"
   ]
  },
  {
   "cell_type": "code",
   "execution_count": 8,
   "metadata": {},
   "outputs": [
    {
     "data": {
      "text/plain": [
       "0.0038253126777132796"
      ]
     },
     "execution_count": 8,
     "metadata": {},
     "output_type": "execute_result"
    }
   ],
   "source": [
    "((9.40948707364745) ** 2 -  (9.40444465318028) ** 2) / 24.8"
   ]
  },
  {
   "cell_type": "code",
   "execution_count": 104,
   "metadata": {},
   "outputs": [],
   "source": [
    "th_L = 0.3446797139381855\n",
    "th_R = 0.16516572590879303\n",
    "\n",
    "h_L = 2.52 - 1\n",
    "h_R = 2.52 - 1\n",
    "\n",
    "s_L = h_L / np.tan(th_L)\n",
    "s_R = h_R / np.tan(th_R)"
   ]
  },
  {
   "cell_type": "code",
   "execution_count": 105,
   "metadata": {},
   "outputs": [
    {
     "name": "stdout",
     "output_type": "stream",
     "text": [
      "4.233854353054301 9.119041290755295\n"
     ]
    }
   ],
   "source": [
    "print(s_L,s_R)"
   ]
  },
  {
   "cell_type": "code",
   "execution_count": 95,
   "metadata": {},
   "outputs": [],
   "source": [
    "th_L_1 = np.arccos((s_L ** 2 + 12.8 ** 2 - s_R**2) / (2 * 12.8 * s_L))\n",
    "th_R_1 = np.arccos((s_R ** 2 + 12.8 ** 2 - s_L**2) / (2 * 12.8 * s_R))"
   ]
  },
  {
   "cell_type": "code",
   "execution_count": 99,
   "metadata": {},
   "outputs": [
    {
     "data": {
      "text/plain": [
       "2.5481012257665285"
      ]
     },
     "execution_count": 99,
     "metadata": {},
     "output_type": "execute_result"
    }
   ],
   "source": [
    "6.4 - (s_L * np.cos(th_L_1))"
   ]
  },
  {
   "cell_type": "code",
   "execution_count": 100,
   "metadata": {},
   "outputs": [
    {
     "data": {
      "text/plain": [
       "2.54810122576653"
      ]
     },
     "execution_count": 100,
     "metadata": {},
     "output_type": "execute_result"
    }
   ],
   "source": [
    "s_R * np.cos(th_R_1) - 6.4"
   ]
  },
  {
   "cell_type": "code",
   "execution_count": 101,
   "metadata": {},
   "outputs": [
    {
     "data": {
      "text/plain": [
       "1.7573839978603238"
      ]
     },
     "execution_count": 101,
     "metadata": {},
     "output_type": "execute_result"
    }
   ],
   "source": [
    "s_L * np.sin(th_L_1)"
   ]
  },
  {
   "cell_type": "code",
   "execution_count": 102,
   "metadata": {},
   "outputs": [
    {
     "data": {
      "text/plain": [
       "1.757383997860318"
      ]
     },
     "execution_count": 102,
     "metadata": {},
     "output_type": "execute_result"
    }
   ],
   "source": [
    "s_R * np.sin(th_R_1)"
   ]
  },
  {
   "cell_type": "code",
   "execution_count": 76,
   "metadata": {},
   "outputs": [
    {
     "name": "stdout",
     "output_type": "stream",
     "text": [
      "[[4.74690604]]\n",
      "[[9.98071726]]\n"
     ]
    }
   ],
   "source": [
    "point = np.matrix([[-3.286],\n",
    "                 [-3.011],\n",
    "                 [1.5]])\n",
    "\n",
    "print(np.sqrt(point[0] **2 + (point[1] - (-6.4)) ** 2 + (point[2] - 1) ** 2))\n",
    "print(np.sqrt(point[0] **2 + (point[1] - (6.4)) ** 2 + (point[2] - 1) ** 2))"
   ]
  },
  {
   "cell_type": "code",
   "execution_count": 107,
   "metadata": {},
   "outputs": [],
   "source": [
    "s_L  = 4.654203 / np.cos(th_L)\n",
    "s_R = 8.919018 / np.cos(th_R)"
   ]
  },
  {
   "cell_type": "code",
   "execution_count": 108,
   "metadata": {},
   "outputs": [
    {
     "name": "stdout",
     "output_type": "stream",
     "text": [
      "4.9450525771252165 9.042070443170804\n"
     ]
    }
   ],
   "source": [
    "print(s_L, s_R)"
   ]
  },
  {
   "cell_type": "code",
   "execution_count": 81,
   "metadata": {},
   "outputs": [],
   "source": [
    "th_L_1 = np.arccos((s_L ** 2 + 12.8 ** 2 - s_R**2) / (2 * 12.8 * s_L))\n",
    "th_R_1 = np.arccos((s_R ** 2 + 12.8 ** 2 - s_L**2) / (2 * 12.8 * s_R))"
   ]
  },
  {
   "cell_type": "code",
   "execution_count": 82,
   "metadata": {},
   "outputs": [
    {
     "data": {
      "text/plain": [
       "0.5706518693866471"
      ]
     },
     "execution_count": 82,
     "metadata": {},
     "output_type": "execute_result"
    }
   ],
   "source": [
    "th_L_1"
   ]
  },
  {
   "cell_type": "code",
   "execution_count": 83,
   "metadata": {},
   "outputs": [
    {
     "data": {
      "text/plain": [
       "2.671222177824756"
      ]
     },
     "execution_count": 83,
     "metadata": {},
     "output_type": "execute_result"
    }
   ],
   "source": [
    "s_L * np.sin(th_L_1)"
   ]
  },
  {
   "cell_type": "code",
   "execution_count": 89,
   "metadata": {},
   "outputs": [
    {
     "data": {
      "text/plain": [
       "2.671222177824756"
      ]
     },
     "execution_count": 89,
     "metadata": {},
     "output_type": "execute_result"
    }
   ],
   "source": [
    "s_L * np.sin(th_L_1)"
   ]
  },
  {
   "cell_type": "code",
   "execution_count": 88,
   "metadata": {},
   "outputs": [
    {
     "data": {
      "text/plain": [
       "2.2384958167472773"
      ]
     },
     "execution_count": 88,
     "metadata": {},
     "output_type": "execute_result"
    }
   ],
   "source": [
    "6.4 - s_L * np.cos(th_L_1)"
   ]
  },
  {
   "cell_type": "code",
   "execution_count": 90,
   "metadata": {},
   "outputs": [
    {
     "data": {
      "text/plain": [
       "2.671222177824753"
      ]
     },
     "execution_count": 90,
     "metadata": {},
     "output_type": "execute_result"
    }
   ],
   "source": [
    "s_R * np.sin(th_R_1)"
   ]
  },
  {
   "cell_type": "code",
   "execution_count": 92,
   "metadata": {},
   "outputs": [
    {
     "data": {
      "text/plain": [
       "2.238495816747278"
      ]
     },
     "execution_count": 92,
     "metadata": {},
     "output_type": "execute_result"
    }
   ],
   "source": [
    "s_R * np.cos(th_R_1) - 6.4"
   ]
  },
  {
   "cell_type": "code",
   "execution_count": null,
   "metadata": {},
   "outputs": [],
   "source": [
    "#depth에서 th를 통해 내적시킨 결과\n",
    "2.671222177824753, 2.238495816747278"
   ]
  },
  {
   "cell_type": "code",
   "execution_count": 11,
   "metadata": {},
   "outputs": [
    {
     "name": "stdout",
     "output_type": "stream",
     "text": [
      "[[8.67582273]]\n",
      "[[4.82720416]]\n"
     ]
    }
   ],
   "source": [
    "point = np.matrix([[-1.27],[2.03],[2.61]])\n",
    "\n",
    "print(np.sqrt(point[0] **2 + (point[1] - (-6.4)) ** 2 + (point[2] - 1) ** 2))\n",
    "print(np.sqrt(point[0] **2 + (point[1] - (6.4)) ** 2 + (point[2] - 1) ** 2))"
   ]
  },
  {
   "cell_type": "code",
   "execution_count": null,
   "metadata": {},
   "outputs": [],
   "source": [
    "-6.526 -0.0 2.233"
   ]
  },
  {
   "cell_type": "code",
   "execution_count": 122,
   "metadata": {},
   "outputs": [
    {
     "data": {
      "text/plain": [
       "143.82716049382717"
      ]
     },
     "execution_count": 122,
     "metadata": {},
     "output_type": "execute_result"
    }
   ],
   "source": [
    "(11.885 + (-6.526) ) / 0.03726"
   ]
  },
  {
   "cell_type": "code",
   "execution_count": 142,
   "metadata": {},
   "outputs": [],
   "source": [
    "real_point_list = [-2.991, -0.087, 2.552]\n",
    "predict_point_list = [-1.799, -0.065, 2.592]"
   ]
  },
  {
   "cell_type": "code",
   "execution_count": 143,
   "metadata": {},
   "outputs": [],
   "source": [
    "real_point_list[0] = np.round((11.885 + real_point_list[0]) / 0.03726)\n",
    "predict_point_list[0] = np.round((11.885 + predict_point_list[0]) / 0.03726)\n",
    "\n",
    "real_point_list[1] = np.round((5.485 - real_point_list[1]) / 0.03656)\n",
    "predict_point_list[1] = np.round((5.485 - predict_point_list[1]) / 0.03656)\n",
    "real_point_xy = real_point_list[0:2]\n",
    "predict_point = predict_point_list[0:2]"
   ]
  },
  {
   "cell_type": "code",
   "execution_count": 144,
   "metadata": {},
   "outputs": [
    {
     "data": {
      "text/plain": [
       "[239.0, 152.0]"
      ]
     },
     "execution_count": 144,
     "metadata": {},
     "output_type": "execute_result"
    }
   ],
   "source": [
    "real_point_xy"
   ]
  },
  {
   "cell_type": "code",
   "execution_count": 6,
   "metadata": {},
   "outputs": [],
   "source": [
    "ball_height_list = [2.231228127949282, 1.813267052603247]\n",
    "ball_depth_list = [6.5851097, 2.4148982]"
   ]
  },
  {
   "cell_type": "code",
   "execution_count": 9,
   "metadata": {},
   "outputs": [],
   "source": [
    "def cal_ball_position(ball_height_list, ball_depth_list):\n",
    "\n",
    "    height = sum(ball_height_list) / 2 - 1\n",
    "\n",
    "    th_L = np.arccos((ball_depth_list[0] ** 2 + 12.8 ** 2 - ball_depth_list[1]**2) / (2 * 12.8 * ball_depth_list[0]))\n",
    "    th_R = np.arccos((ball_depth_list[1] ** 2 + 12.8 ** 2 - ball_depth_list[0]**2) / (2 * 12.8 * ball_depth_list[1]))\n",
    "\n",
    "    print(np.rad2deg(th_L), np.rad2deg(th_R))\n",
    "\n",
    "    ball2net_length_x_L = ball_depth_list[0] * np.sin(th_L)\n",
    "    ball_position_y_L = ball_depth_list[0] * np.cos(th_L)\n",
    "\n",
    "    ball_plate_angle_L = np.sin(height / ball2net_length_x_L)\n",
    "\n",
    "    ball_position_x_L = ball2net_length_x_L * np.cos(ball_plate_angle_L)\n",
    "\n",
    "    ball2net_length_x_R = ball_depth_list[1] * np.sin(th_R)\n",
    "    ball_position_y_R = ball_depth_list[1] * np.cos(th_R)\n",
    "\n",
    "    ball_plate_angle_R = np.sin(height / ball2net_length_x_R)\n",
    "\n",
    "    ball_position_x_R = ball2net_length_x_R * np.cos(ball_plate_angle_R)\n",
    "\n",
    "    return [-ball_position_x_L, ball_position_y_L - 6.4, height + 1], [-ball_position_x_R, 6.4 - ball_position_y_R , height + 1]"
   ]
  },
  {
   "cell_type": "code",
   "execution_count": 10,
   "metadata": {},
   "outputs": [
    {
     "name": "stdout",
     "output_type": "stream",
     "text": [
      "nan nan\n"
     ]
    },
    {
     "name": "stderr",
     "output_type": "stream",
     "text": [
      "/home/drcl_yang/anaconda3/envs/yolov5/lib/python3.6/site-packages/ipykernel_launcher.py:5: RuntimeWarning: invalid value encountered in arccos\n",
      "  \"\"\"\n",
      "/home/drcl_yang/anaconda3/envs/yolov5/lib/python3.6/site-packages/ipykernel_launcher.py:6: RuntimeWarning: invalid value encountered in arccos\n",
      "  \n"
     ]
    },
    {
     "data": {
      "text/plain": [
       "([nan, nan, 2.0222475902762644], [nan, nan, 2.0222475902762644])"
      ]
     },
     "execution_count": 10,
     "metadata": {},
     "output_type": "execute_result"
    }
   ],
   "source": [
    "cal_ball_position(ball_height_list, ball_depth_list)"
   ]
  },
  {
   "cell_type": "code",
   "execution_count": 19,
   "metadata": {},
   "outputs": [
    {
     "data": {
      "text/plain": [
       "9.059565438447809"
      ]
     },
     "execution_count": 19,
     "metadata": {},
     "output_type": "execute_result"
    }
   ],
   "source": [
    "height = 1.473\n",
    "\n",
    "height / np.sin(0.16331560445944124)\n"
   ]
  },
  {
   "cell_type": "code",
   "execution_count": 20,
   "metadata": {},
   "outputs": [
    {
     "data": {
      "text/plain": [
       "7.050055652976752"
      ]
     },
     "execution_count": 20,
     "metadata": {},
     "output_type": "execute_result"
    }
   ],
   "source": [
    "height / np.sin(0.21048530735523446)\n"
   ]
  },
  {
   "cell_type": "code",
   "execution_count": 5,
   "metadata": {},
   "outputs": [
    {
     "data": {
      "text/plain": [
       "array([[2.5e-05, 5.0e-04, 0.0e+00, 0.0e+00, 0.0e+00, 0.0e+00],\n",
       "       [5.0e-04, 1.0e-02, 0.0e+00, 0.0e+00, 0.0e+00, 0.0e+00],\n",
       "       [0.0e+00, 0.0e+00, 2.5e-05, 5.0e-04, 0.0e+00, 0.0e+00],\n",
       "       [0.0e+00, 0.0e+00, 5.0e-04, 1.0e-02, 0.0e+00, 0.0e+00],\n",
       "       [0.0e+00, 0.0e+00, 0.0e+00, 0.0e+00, 2.5e-05, 5.0e-04],\n",
       "       [0.0e+00, 0.0e+00, 0.0e+00, 0.0e+00, 5.0e-04, 1.0e-02]])"
      ]
     },
     "execution_count": 5,
     "metadata": {},
     "output_type": "execute_result"
    }
   ],
   "source": [
    "Q_discrete_white_noise(2, dt=0.1, var=1., block_size=3)"
   ]
  },
  {
   "cell_type": "code",
   "execution_count": 7,
   "metadata": {},
   "outputs": [
    {
     "data": {
      "text/plain": [
       "array([[2.5e-09, 5.0e-08, 0.0e+00, 0.0e+00, 0.0e+00, 0.0e+00],\n",
       "       [5.0e-08, 1.0e-06, 0.0e+00, 0.0e+00, 0.0e+00, 0.0e+00],\n",
       "       [0.0e+00, 0.0e+00, 2.5e-09, 5.0e-08, 0.0e+00, 0.0e+00],\n",
       "       [0.0e+00, 0.0e+00, 5.0e-08, 1.0e-06, 0.0e+00, 0.0e+00],\n",
       "       [0.0e+00, 0.0e+00, 0.0e+00, 0.0e+00, 2.5e-09, 5.0e-08],\n",
       "       [0.0e+00, 0.0e+00, 0.0e+00, 0.0e+00, 5.0e-08, 1.0e-06]])"
      ]
     },
     "execution_count": 7,
     "metadata": {},
     "output_type": "execute_result"
    }
   ],
   "source": [
    "Q_discrete_white_noise(2, dt = 0.1 , var = 0.01**2, block_size = 3)"
   ]
  },
  {
   "cell_type": "code",
   "execution_count": 237,
   "metadata": {},
   "outputs": [],
   "source": [
    "def fx(x, dt):\n",
    "    # state transition function - predict next state based\n",
    "    # on constant velocity model x = vt + x_0\n",
    "    \n",
    "    \n",
    "\n",
    "    u_x, u_y = 0, 1\n",
    "\n",
    "    F = np.array([[1, dt, 0, 0, 0, 0],\n",
    "                    [0, 1, 0, 0, 0, 0],\n",
    "                    [0, 0, 1, dt, 0, 0],\n",
    "                    [0, 0, 0, 1, 0, 0],\n",
    "                    [0, 0, 0, 0, 1, dt],\n",
    "                    [0, 0, 0, 0, 0, 1]])\n",
    "    \n",
    "    B = np.array([0, 0, 0, 0, (dt**2)/2, dt])\n",
    "\n",
    "    u = np.array([[-9.8]]) \n",
    "    \n",
    "    return np.dot(F, x) + B * u\n",
    "    \n",
    "\n",
    "def hx(x):\n",
    "    # measurement function - convert state into a measurement\n",
    "    # where measurements are [x_pos, y_pos, z_pos]\n",
    "\n",
    "    return x[[0, 2, 4]]\n",
    "\n",
    "class UK_filter():\n",
    "\n",
    "    def __init__(self, dt, x_std_meas, y_std_meas, z_std_meas, init_x, init_y, init_z):  \n",
    "    \n",
    "        self.init_x = init_x \n",
    "        self.init_y = init_y\n",
    "        self.init_z = init_z\n",
    "        self.dt = dt\n",
    "        self.z_std = 0.1\n",
    "\n",
    "        self.sigmas_points = MerweScaledSigmaPoints(6, alpha=.1, beta=2., kappa=1)\n",
    "        self.f = UnscentedKalmanFilter(dim_x=6, dim_z=6, dt=self.dt, fx=fx, hx=hx, points=self.sigmas_points)\n",
    "\n",
    "        self.f.x = np.array([self.init_x, 0, self.init_y, 0, self.init_z, 0]) \n",
    "\n",
    "        self.f.P = np.eye(6)\n",
    "\n",
    "        self.f.Q = Q_discrete_white_noise(2, dt = self.dt, var = 0.01**2, block_size = 3)\n",
    "        \n",
    "        self.f.R = np.array([[x_std_meas**2,0,0],\n",
    "                            [0, y_std_meas**2,0],\n",
    "                            [0, 0, y_std_meas**2]])\n",
    "\n",
    "        self.f.predict()\n"
   ]
  },
  {
   "cell_type": "code",
   "execution_count": 238,
   "metadata": {},
   "outputs": [],
   "source": [
    "centroid = [100, 100, 100]\n",
    "\n",
    "uk = UK_filter(dt = 0.03, \n",
    "                x_std_meas = 0.01, \n",
    "                y_std_meas = 0.01,\n",
    "                z_std_meas = 0.01,\n",
    "                init_x = centroid[0],\n",
    "                init_y = centroid[1],\n",
    "                init_z = centroid[2])"
   ]
  },
  {
   "cell_type": "code",
   "execution_count": 255,
   "metadata": {},
   "outputs": [],
   "source": [
    "uk.f.update([30,20,10])"
   ]
  },
  {
   "cell_type": "code",
   "execution_count": 256,
   "metadata": {},
   "outputs": [
    {
     "data": {
      "text/plain": [
       "array([-249.96503459,  -10.48951048, -299.96003953,  -11.98801198,\n",
       "       -349.93740668,  -13.77985263])"
      ]
     },
     "execution_count": 256,
     "metadata": {},
     "output_type": "execute_result"
    }
   ],
   "source": [
    "uk.f.x"
   ]
  },
  {
   "cell_type": "code",
   "execution_count": 257,
   "metadata": {},
   "outputs": [
    {
     "data": {
      "text/plain": [
       "[30, 20, 10]"
      ]
     },
     "execution_count": 257,
     "metadata": {},
     "output_type": "execute_result"
    }
   ],
   "source": [
    "uk.f.z"
   ]
  },
  {
   "cell_type": "code",
   "execution_count": 263,
   "metadata": {},
   "outputs": [],
   "source": [
    "kf_pred_dict = OrderedDict()\n",
    "\n",
    "kf_pred_dict[0] = [0,0,0]"
   ]
  },
  {
   "cell_type": "code",
   "execution_count": 264,
   "metadata": {},
   "outputs": [
    {
     "data": {
      "text/plain": [
       "odict_items([(0, [0, 0, 0])])"
      ]
     },
     "execution_count": 264,
     "metadata": {},
     "output_type": "execute_result"
    }
   ],
   "source": [
    "kf_pred_dict.items()"
   ]
  },
  {
   "cell_type": "code",
   "execution_count": 267,
   "metadata": {},
   "outputs": [
    {
     "name": "stdout",
     "output_type": "stream",
     "text": [
      "0 [0, 0, 0]\n"
     ]
    }
   ],
   "source": [
    "for a, b in kf_pred_dict.items():\n",
    "    print(a, b)"
   ]
  },
  {
   "cell_type": "code",
   "execution_count": 8,
   "metadata": {},
   "outputs": [],
   "source": [
    "def fx(x, dt):\n",
    "    # state transition function - predict next state based\n",
    "    # on constant velocity model x = vt + x_0\n",
    "    \n",
    "\n",
    "    #[x, x', x'', y, y', y'', z, z', z'']\n",
    "\n",
    "    F = np.matrix([[1.0, 0.0, 0.0, dt, 0.0, 0.0, 1/2.0*dt**2, 0.0, 0.0],    #x\n",
    "                    [0.0, 1.0, 0.0, 0.0,  dt, 0.0, 0.0, 1/2.0*dt**2, 0.0],  #y\n",
    "                    [0.0, 0.0, 1.0, 0.0, 0.0,  dt, 0.0, 0.0, 1/2.0*dt**2],  #z\n",
    "                    [0.0, 0.0, 0.0, 1.0, 0.0, 0.0,  dt, 0.0, 0.0],          #x'\n",
    "                    [0.0, 0.0, 0.0, 0.0, 1.0, 0.0, 0.0,  dt, 0.0],          #y'\n",
    "                    [0.0, 0.0, 0.0, 0.0, 0.0, 1.0, 0.0, 0.0,  dt],          #z'\n",
    "                    [0.0, 0.0, 0.0, 0.0, 0.0, 0.0, 1.0, 0.0, 0.0],          #x''\n",
    "                    [0.0, 0.0, 0.0, 0.0, 0.0, 0.0, 0.0, 1.0, 0.0],          #y''\n",
    "                    [0.0, 0.0, 0.0, 0.0, 0.0, 0.0, 0.0, 0.0, -9.8]])         #z''\n",
    "            \n",
    "    #B = np.array([0, 0, 0, 0, (dt**2)/2, dt])   #[x, x', y, y', z, z']\n",
    "\n",
    "    #u = np.array([[-9.8]]) # g\n",
    "    \n",
    "    return np.dot(F, x) \n",
    "\n",
    "def hx(x):\n",
    "    # measurement function - convert state into a measurement\n",
    "    # where measurements are [x_pos, y_pos, z_pos]\n",
    "\n",
    "    return x[[0, 1, 2]]\n",
    "\n",
    "class UK_filter():\n",
    "\n",
    "    def __init__(self, dt, x_std_meas, y_std_meas, z_std_meas, init_x, init_y, init_z):  \n",
    "    \n",
    "        self.init_x = init_x \n",
    "        self.init_y = init_y\n",
    "        self.init_z = init_z\n",
    "        self.dt = dt\n",
    "        self.z_std = 0.1\n",
    "\n",
    "        self.sigmas_points = MerweScaledSigmaPoints(9, alpha=.1, beta=2., kappa=1)\n",
    "        self.f = UnscentedKalmanFilter(dim_x=9, dim_z=9, dt=self.dt, fx=fx, hx=hx, points=self.sigmas_points)\n",
    "\n",
    "        self.f.x = np.array([self.init_x, self.init_y, self.init_z, 0, 0, 0, 0, 0, 0]) \n",
    "\n",
    "        self.f.P = np.eye(9)\n",
    "\n",
    "        #self.f.Q = Q_discrete_white_noise(3, dt = self.dt, var = 0.1**2, block_size = 3)\n",
    "        \n",
    "        self.f.Q = np.array([[(dt**6)/36, 0, 0, (dt**5)/12, 0, 0, (dt**4)/6, 0, 0],\n",
    "                               [0, (dt**6)/36, 0, 0, (dt**5)/12, 0, 0, (dt**4)/6, 0],\n",
    "                               [0, 0, (dt**6)/36, 0, 0, (dt**5)/12, 0, 0, (dt**4)/6],\n",
    "                               [(dt**5)/12, 0, 0, (dt**4)/4, 0, 0, (dt**3)/2, 0, 0],\n",
    "                               [0, (dt**5)/12, 0, 0, (dt**4)/4, 0, 0, (dt**3)/2, 0],\n",
    "                               [0, 0, (dt**5)/12, 0, 0, (dt**4)/4, 0, 0, (dt**3)/2],\n",
    "                               [(dt**4)/6, 0, 0, (dt**3)/2, 0, 0, (dt**2), 0, 0],\n",
    "                               [0, (dt**4)/6, 0, 0, (dt**3)/2, 0, 0, (dt**2), 0],\n",
    "                               [0, 0, (dt**4)/6, 0, 0, (dt**3)/2, 0, 0, (dt**2)]]) * 0.1**2\n",
    "        \n",
    "        self.f.R = np.array([[x_std_meas**2,0,0],\n",
    "                            [0, y_std_meas**2,0],\n",
    "                            [0, 0, y_std_meas**2]])\n",
    "\n",
    "        self.f.predict()\n"
   ]
  },
  {
   "cell_type": "code",
   "execution_count": 9,
   "metadata": {},
   "outputs": [],
   "source": [
    "centroid = [100, 100, 100]\n",
    "\n",
    "uk = UK_filter(dt = 0.03, \n",
    "                x_std_meas = 0.01, \n",
    "                y_std_meas = 0.1,\n",
    "                z_std_meas = 0.1,\n",
    "                init_x = centroid[0],\n",
    "                init_y = centroid[1],\n",
    "                init_z = centroid[2])"
   ]
  },
  {
   "cell_type": "code",
   "execution_count": 11,
   "metadata": {},
   "outputs": [],
   "source": [
    "uk.f.update([30,20,10])"
   ]
  },
  {
   "cell_type": "code",
   "execution_count": 5,
   "metadata": {},
   "outputs": [
    {
     "data": {
      "text/plain": [
       "array([30.00699301, 20.00799201, 10.00899101, -2.09884573, -2.39868083,\n",
       "       -2.69851594, -0.03146853, -0.03596403,  0.39650342])"
      ]
     },
     "execution_count": 5,
     "metadata": {},
     "output_type": "execute_result"
    }
   ],
   "source": [
    "uk.f.x"
   ]
  },
  {
   "cell_type": "code",
   "execution_count": 7,
   "metadata": {},
   "outputs": [
    {
     "data": {
      "text/plain": [
       "array([[2.025e-09, 1.350e-07, 4.500e-06, 0.000e+00, 0.000e+00, 0.000e+00,\n",
       "        0.000e+00, 0.000e+00, 0.000e+00],\n",
       "       [1.350e-07, 9.000e-06, 3.000e-04, 0.000e+00, 0.000e+00, 0.000e+00,\n",
       "        0.000e+00, 0.000e+00, 0.000e+00],\n",
       "       [4.500e-06, 3.000e-04, 1.000e-02, 0.000e+00, 0.000e+00, 0.000e+00,\n",
       "        0.000e+00, 0.000e+00, 0.000e+00],\n",
       "       [0.000e+00, 0.000e+00, 0.000e+00, 2.025e-09, 1.350e-07, 4.500e-06,\n",
       "        0.000e+00, 0.000e+00, 0.000e+00],\n",
       "       [0.000e+00, 0.000e+00, 0.000e+00, 1.350e-07, 9.000e-06, 3.000e-04,\n",
       "        0.000e+00, 0.000e+00, 0.000e+00],\n",
       "       [0.000e+00, 0.000e+00, 0.000e+00, 4.500e-06, 3.000e-04, 1.000e-02,\n",
       "        0.000e+00, 0.000e+00, 0.000e+00],\n",
       "       [0.000e+00, 0.000e+00, 0.000e+00, 0.000e+00, 0.000e+00, 0.000e+00,\n",
       "        2.025e-09, 1.350e-07, 4.500e-06],\n",
       "       [0.000e+00, 0.000e+00, 0.000e+00, 0.000e+00, 0.000e+00, 0.000e+00,\n",
       "        1.350e-07, 9.000e-06, 3.000e-04],\n",
       "       [0.000e+00, 0.000e+00, 0.000e+00, 0.000e+00, 0.000e+00, 0.000e+00,\n",
       "        4.500e-06, 3.000e-04, 1.000e-02]])"
      ]
     },
     "execution_count": 7,
     "metadata": {},
     "output_type": "execute_result"
    }
   ],
   "source": [
    "uk.f.Q"
   ]
  },
  {
   "cell_type": "code",
   "execution_count": 12,
   "metadata": {},
   "outputs": [
    {
     "data": {
      "text/plain": [
       "array([[2.025e-13, 0.000e+00, 0.000e+00, 2.025e-11, 0.000e+00, 0.000e+00,\n",
       "        1.350e-09, 0.000e+00, 0.000e+00],\n",
       "       [0.000e+00, 2.025e-13, 0.000e+00, 0.000e+00, 2.025e-11, 0.000e+00,\n",
       "        0.000e+00, 1.350e-09, 0.000e+00],\n",
       "       [0.000e+00, 0.000e+00, 2.025e-13, 0.000e+00, 0.000e+00, 2.025e-11,\n",
       "        0.000e+00, 0.000e+00, 1.350e-09],\n",
       "       [2.025e-11, 0.000e+00, 0.000e+00, 2.025e-09, 0.000e+00, 0.000e+00,\n",
       "        1.350e-07, 0.000e+00, 0.000e+00],\n",
       "       [0.000e+00, 2.025e-11, 0.000e+00, 0.000e+00, 2.025e-09, 0.000e+00,\n",
       "        0.000e+00, 1.350e-07, 0.000e+00],\n",
       "       [0.000e+00, 0.000e+00, 2.025e-11, 0.000e+00, 0.000e+00, 2.025e-09,\n",
       "        0.000e+00, 0.000e+00, 1.350e-07],\n",
       "       [1.350e-09, 0.000e+00, 0.000e+00, 1.350e-07, 0.000e+00, 0.000e+00,\n",
       "        9.000e-06, 0.000e+00, 0.000e+00],\n",
       "       [0.000e+00, 1.350e-09, 0.000e+00, 0.000e+00, 1.350e-07, 0.000e+00,\n",
       "        0.000e+00, 9.000e-06, 0.000e+00],\n",
       "       [0.000e+00, 0.000e+00, 1.350e-09, 0.000e+00, 0.000e+00, 1.350e-07,\n",
       "        0.000e+00, 0.000e+00, 9.000e-06]])"
      ]
     },
     "execution_count": 12,
     "metadata": {},
     "output_type": "execute_result"
    }
   ],
   "source": [
    "uk.f.Q"
   ]
  },
  {
   "cell_type": "code",
   "execution_count": 28,
   "metadata": {},
   "outputs": [
    {
     "name": "stdout",
     "output_type": "stream",
     "text": [
      "[[-2.34618559e-01 -4.02991878e+00  8.04024001e+02]\n",
      " [ 2.38399528e-01 -4.02769729e+00  6.53202159e+02]\n",
      " [ 7.35523219e-06 -6.21379005e-03  1.00000000e+00]]\n",
      "[[ 2.26355288e-01 -3.96787505e+00  6.46430758e+02]\n",
      " [ 2.26086351e-01  3.31465582e-01 -2.04673291e+02]\n",
      " [-2.51029938e-05 -6.15316812e-03  1.00000000e+00]]\n"
     ]
    }
   ],
   "source": [
    "\n",
    "camera_L_points = np.float32([[26,198],[318,181],[639,200],[177,316]])\n",
    "camera_R_points = np.float32([[317,181],[615,198],[442,316],[0,200]])\n",
    "\n",
    "court_img_L_points = np.float32([[0,600],[0,0],[638,0],[531,600]])\n",
    "court_img_R_points = np.float32([[0,600],[0,0],[531,0],[638,600]])\n",
    "\n",
    "\n",
    "\n",
    "h_L = cv2.getPerspectiveTransform(camera_L_points, court_img_L_points)\n",
    "h_R = cv2.getPerspectiveTransform(camera_R_points, court_img_R_points)\n",
    "\n",
    "print(h_L)\n",
    "print(h_R)"
   ]
  },
  {
   "cell_type": "code",
   "execution_count": 47,
   "metadata": {},
   "outputs": [],
   "source": [
    "a = h_L @ np.array([305,195,1]).reshape(3,1)"
   ]
  },
  {
   "cell_type": "code",
   "execution_count": 63,
   "metadata": {},
   "outputs": [
    {
     "data": {
      "text/plain": [
       "array([346.51853345])"
      ]
     },
     "execution_count": 63,
     "metadata": {},
     "output_type": "execute_result"
    }
   ],
   "source": [
    "a[0]/a[2]"
   ]
  },
  {
   "cell_type": "code",
   "execution_count": 64,
   "metadata": {},
   "outputs": [
    {
     "data": {
      "text/plain": [
       "array([309.98916497])"
      ]
     },
     "execution_count": 64,
     "metadata": {},
     "output_type": "execute_result"
    }
   ],
   "source": [
    "a[1]/a[2]"
   ]
  },
  {
   "cell_type": "code",
   "execution_count": 62,
   "metadata": {},
   "outputs": [],
   "source": [
    "a = h_R @ np.array([926 - 640, 200,1]).reshape(3,1)"
   ]
  },
  {
   "cell_type": "code",
   "execution_count": 74,
   "metadata": {},
   "outputs": [
    {
     "data": {
      "text/plain": [
       "125.0"
      ]
     },
     "execution_count": 74,
     "metadata": {},
     "output_type": "execute_result"
    }
   ],
   "source": [
    "(200 + 300)/2  *  (10 / 20)"
   ]
  },
  {
   "cell_type": "code",
   "execution_count": null,
   "metadata": {},
   "outputs": [],
   "source": []
  }
 ],
 "metadata": {
  "kernelspec": {
   "display_name": "Python 3",
   "language": "python",
   "name": "python3"
  },
  "language_info": {
   "codemirror_mode": {
    "name": "ipython",
    "version": 3
   },
   "file_extension": ".py",
   "mimetype": "text/x-python",
   "name": "python",
   "nbconvert_exporter": "python",
   "pygments_lexer": "ipython3",
   "version": "3.6.13"
  }
 },
 "nbformat": 4,
 "nbformat_minor": 4
}
