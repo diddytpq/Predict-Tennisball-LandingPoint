{
 "cells": [
  {
   "cell_type": "code",
   "execution_count": 82,
   "id": "8b8df323",
   "metadata": {},
   "outputs": [],
   "source": [
    "import numpy as np\n",
    "import pickle\n",
    "from sklearn.metrics import mean_squared_error, mean_absolute_error"
   ]
  },
  {
   "cell_type": "code",
   "execution_count": 83,
   "id": "c02ec656",
   "metadata": {},
   "outputs": [],
   "source": [
    "esti_data_list = np.array([[0,0]])\n",
    "real_data_list = np.array([[0,0]])\n"
   ]
  },
  {
   "cell_type": "code",
   "execution_count": 92,
   "id": "6c586279",
   "metadata": {},
   "outputs": [
    {
     "name": "stdout",
     "output_type": "stream",
     "text": [
      "100\n",
      "100\n",
      "[6.564 1.789]\n",
      "[6.871375 2.137   ]\n"
     ]
    }
   ],
   "source": [
    "with open(\"real_ball_list1.bin\",\"rb\") as fr:\n",
    "    real_data = pickle.load(fr)\n",
    "\n",
    "with open(\"esti_ball_list1.bin\",\"rb\") as fr:\n",
    "    esti_data = pickle.load(fr)\n",
    "\n",
    "print(len(real_data))\n",
    "print(len(esti_data))\n",
    "\n",
    "print(real_data[-3])\n",
    "print(esti_data[-3])\n",
    "\n"
   ]
  },
  {
   "cell_type": "code",
   "execution_count": 93,
   "id": "b37d7f6f",
   "metadata": {},
   "outputs": [
    {
     "name": "stdout",
     "output_type": "stream",
     "text": [
      "(501, 2)\n",
      "(501, 2)\n"
     ]
    }
   ],
   "source": [
    "real_data_list = np.vstack((real_data_list, np.array(real_data)))\n",
    "esti_data_list = np.vstack((esti_data_list, np.array(esti_data))) \n",
    "\n",
    "print(np.array(real_data_list).shape)\n",
    "print(np.array(esti_data_list).shape)\n",
    "\n",
    "\n"
   ]
  },
  {
   "cell_type": "markdown",
   "id": "caf56573",
   "metadata": {},
   "source": []
  },
  {
   "cell_type": "code",
   "execution_count": 94,
   "id": "4d50290d",
   "metadata": {},
   "outputs": [
    {
     "name": "stdout",
     "output_type": "stream",
     "text": [
      "MSE : [4.32122164 0.84714985]\n",
      "MAE : [1.7599984  0.65018379]\n",
      "RMSE : [2.07875483 0.92040744]\n"
     ]
    }
   ],
   "source": [
    "print(\"MSE :\",mean_squared_error(real_data_list, esti_data_list, multioutput='raw_values'))\n",
    "print(\"MAE :\",mean_absolute_error(real_data_list, esti_data_list, multioutput='raw_values'))\n",
    "print(\"RMSE :\", np.sqrt(mean_squared_error(real_data_list, esti_data_list, multioutput='raw_values')))\n"
   ]
  },
  {
   "cell_type": "code",
   "execution_count": null,
   "id": "14ca20ed",
   "metadata": {},
   "outputs": [],
   "source": [
    "MSE : [4.25105959 0.80291377]\n",
    "MAE : [1.68471637 0.66030462]\n",
    "RMSE : [2.06180979 0.89605456]"
   ]
  }
 ],
 "metadata": {
  "kernelspec": {
   "display_name": "Python 3.7.11 ('yoseph')",
   "language": "python",
   "name": "python3"
  },
  "language_info": {
   "codemirror_mode": {
    "name": "ipython",
    "version": 3
   },
   "file_extension": ".py",
   "mimetype": "text/x-python",
   "name": "python",
   "nbconvert_exporter": "python",
   "pygments_lexer": "ipython3",
   "version": "3.7.11"
  },
  "vscode": {
   "interpreter": {
    "hash": "cd082a6f0d0bfc392ec42c7550f3928d915156ee39eb79ad203ce533b8a340e5"
   }
  }
 },
 "nbformat": 4,
 "nbformat_minor": 5
}
