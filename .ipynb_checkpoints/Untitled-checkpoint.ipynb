{
 "cells": [
  {
   "cell_type": "code",
   "execution_count": 1,
   "metadata": {},
   "outputs": [],
   "source": [
    "import rospy\n",
    "from sensor_msgs.msg import Image\n",
    "import cv2\n",
    "import numpy as np\n",
    "import math"
   ]
  },
  {
   "cell_type": "code",
   "execution_count": null,
   "metadata": {},
   "outputs": [
    {
     "name": "stdout",
     "output_type": "stream",
     "text": [
      "[INFO] [1617877017.954327, 880.760000]: Hello ROS!\n"
     ]
    }
   ],
   "source": [
    " from cv_bridge import CvBridge, CvBridgeError\n",
    "\n",
    " # Print \"Hello ROS!\" to the Terminal and to a ROS Log file located in ~/.ros/log/loghash/*.log\n",
    " rospy.loginfo(\"Hello ROS!\")\n",
    "\n",
    " # Initialize the CvBridge class\n",
    " bridge = CvBridge()\n",
    "\n",
    " # Define a function to show the image in an OpenCV Window\n",
    " def show_image(img):\n",
    "     cv2.imshow(\"Image Window\", img)\n",
    "     cv2.waitKey(3)\n",
    "\n",
    " # Define a callback for the Image message\n",
    " def image_callback(img_msg):\n",
    "     # log some info about the image topic\n",
    "     rospy.loginfo(img_msg.header)\n",
    "\n",
    "     # Try to convert the ROS Image message to a CV2 Image\n",
    "     try:\n",
    "         cv_image = bridge.imgmsg_to_cv2(img_msg, \"passthrough\")\n",
    "        \n",
    "     except CvBridgeError:\n",
    "         rospy.logerr(\"CvBridge Error: {0}\".format(e))\n",
    "\n",
    "     # Show the converted image\n",
    "     show_image(cv_image)\n",
    "\n",
    " # Initalize a subscriber to the \"/camera/rgb/image_raw\" topic with the function \"image_callback\" as a callback\n",
    " sub_image = rospy.Subscriber(\"/camera/rgb/image_raw\", Image, image_callback)\n",
    "\n",
    " # Initialize an OpenCV Window named \"Image Window\"\n",
    " cv2.namedWindow(\"Image Window\", 1)\n",
    "\n",
    " # Loop to keep the program from shutting down unless ROS is shut down, or CTRL+C is pressed\n",
    " while not rospy.is_shutdown():\n",
    "     rospy.spin()"
   ]
  },
  {
   "cell_type": "code",
   "execution_count": 32,
   "metadata": {},
   "outputs": [],
   "source": [
    "force = [0.6, 0, 0.7]\n",
    "torque = [0, 70, 0]\n"
   ]
  },
  {
   "cell_type": "code",
   "execution_count": 12,
   "metadata": {},
   "outputs": [],
   "source": [
    "x = np.array(force)"
   ]
  },
  {
   "cell_type": "code",
   "execution_count": 7,
   "metadata": {},
   "outputs": [],
   "source": [
    "r = np.array([[np.cos(np.deg2rad(45)),-np.sin(np.deg2rad(45)),0],\n",
    "             [np.sin(np.deg2rad(45)),np.cos(np.deg2rad(45)),0],\n",
    "             [0,0,1]])"
   ]
  },
  {
   "cell_type": "code",
   "execution_count": 8,
   "metadata": {},
   "outputs": [
    {
     "data": {
      "text/plain": [
       "array([[0.70710678],\n",
       "       [0.70710678],\n",
       "       [0.        ]])"
      ]
     },
     "execution_count": 8,
     "metadata": {},
     "output_type": "execute_result"
    }
   ],
   "source": [
    "r@x"
   ]
  },
  {
   "cell_type": "code",
   "execution_count": 11,
   "metadata": {},
   "outputs": [
    {
     "data": {
      "text/plain": [
       "array([[1],\n",
       "       [0],\n",
       "       [0]])"
      ]
     },
     "execution_count": 11,
     "metadata": {},
     "output_type": "execute_result"
    }
   ],
   "source": [
    "x.reshape([3,1])"
   ]
  },
  {
   "cell_type": "code",
   "execution_count": 13,
   "metadata": {},
   "outputs": [],
   "source": [
    "F = np.array(force).reshape([3,1])\n",
    "T = np.array(torque).reshape([3,1])\n"
   ]
  },
  {
   "cell_type": "code",
   "execution_count": 14,
   "metadata": {},
   "outputs": [
    {
     "data": {
      "text/plain": [
       "array([[0.6],\n",
       "       [0. ],\n",
       "       [0.7]])"
      ]
     },
     "execution_count": 14,
     "metadata": {},
     "output_type": "execute_result"
    }
   ],
   "source": [
    "F"
   ]
  },
  {
   "cell_type": "code",
   "execution_count": 15,
   "metadata": {},
   "outputs": [
    {
     "ename": "NameError",
     "evalue": "name 'Y' is not defined",
     "output_type": "error",
     "traceback": [
      "\u001b[0;31m---------------------------------------------------------------------------\u001b[0m",
      "\u001b[0;31mNameError\u001b[0m                                 Traceback (most recent call last)",
      "\u001b[0;32m<ipython-input-15-c881daf1af41>\u001b[0m in \u001b[0;36m<module>\u001b[0;34m\u001b[0m\n\u001b[0;32m----> 1\u001b[0;31m \u001b[0mY\u001b[0m\u001b[0;34m\u001b[0m\u001b[0;34m\u001b[0m\u001b[0m\n\u001b[0m",
      "\u001b[0;31mNameError\u001b[0m: name 'Y' is not defined"
     ]
    }
   ],
   "source": [
    "Y"
   ]
  },
  {
   "cell_type": "code",
   "execution_count": 17,
   "metadata": {},
   "outputs": [],
   "source": [
    "F = r@(np.array(force).reshape([3,1]))"
   ]
  },
  {
   "cell_type": "code",
   "execution_count": 33,
   "metadata": {},
   "outputs": [],
   "source": [
    "a = F.reshape([1,3]).tolist(), T.reshape(1,3).tolist"
   ]
  },
  {
   "cell_type": "code",
   "execution_count": 21,
   "metadata": {},
   "outputs": [],
   "source": [
    "a = F.reshape([1,3])"
   ]
  },
  {
   "cell_type": "code",
   "execution_count": 34,
   "metadata": {},
   "outputs": [
    {
     "data": {
      "text/plain": [
       "([[0.4242640687119285, 0.42426406871192845, 0.7]], <function ndarray.tolist>)"
      ]
     },
     "execution_count": 34,
     "metadata": {},
     "output_type": "execute_result"
    }
   ],
   "source": [
    "a"
   ]
  },
  {
   "cell_type": "code",
   "execution_count": 35,
   "metadata": {},
   "outputs": [
    {
     "data": {
      "text/plain": [
       "[0.4242640687119285, 0.42426406871192845, 0.7]"
      ]
     },
     "execution_count": 35,
     "metadata": {},
     "output_type": "execute_result"
    }
   ],
   "source": [
    "a[0][0]"
   ]
  },
  {
   "cell_type": "code",
   "execution_count": 36,
   "metadata": {},
   "outputs": [
    {
     "data": {
      "text/plain": [
       "<function ndarray.tolist>"
      ]
     },
     "execution_count": 36,
     "metadata": {},
     "output_type": "execute_result"
    }
   ],
   "source": [
    "a[1]"
   ]
  },
  {
   "cell_type": "code",
   "execution_count": 26,
   "metadata": {},
   "outputs": [
    {
     "ename": "IndexError",
     "evalue": "tuple index out of range",
     "output_type": "error",
     "traceback": [
      "\u001b[0;31m---------------------------------------------------------------------------\u001b[0m",
      "\u001b[0;31mIndexError\u001b[0m                                Traceback (most recent call last)",
      "\u001b[0;32m<ipython-input-26-fc907be37984>\u001b[0m in \u001b[0;36m<module>\u001b[0;34m\u001b[0m\n\u001b[0;32m----> 1\u001b[0;31m \u001b[0ma\u001b[0m\u001b[0;34m[\u001b[0m\u001b[0;36m2\u001b[0m\u001b[0;34m]\u001b[0m\u001b[0;34m\u001b[0m\u001b[0;34m\u001b[0m\u001b[0m\n\u001b[0m",
      "\u001b[0;31mIndexError\u001b[0m: tuple index out of range"
     ]
    }
   ],
   "source": [
    "a[2]"
   ]
  },
  {
   "cell_type": "code",
   "execution_count": 31,
   "metadata": {},
   "outputs": [
    {
     "data": {
      "text/plain": [
       "0.7853981633974483"
      ]
     },
     "execution_count": 31,
     "metadata": {},
     "output_type": "execute_result"
    }
   ],
   "source": [
    "np.deg2rad(45)"
   ]
  },
  {
   "cell_type": "code",
   "execution_count": 38,
   "metadata": {},
   "outputs": [],
   "source": [
    "a = [0,0,-0.686,0.727]"
   ]
  },
  {
   "cell_type": "code",
   "execution_count": 40,
   "metadata": {},
   "outputs": [
    {
     "ename": "NameError",
     "evalue": "name 'quat2mat' is not defined",
     "output_type": "error",
     "traceback": [
      "\u001b[0;31m---------------------------------------------------------------------------\u001b[0m",
      "\u001b[0;31mNameError\u001b[0m                                 Traceback (most recent call last)",
      "\u001b[0;32m<ipython-input-40-f70293e22c7d>\u001b[0m in \u001b[0;36m<module>\u001b[0;34m\u001b[0m\n\u001b[0;32m----> 1\u001b[0;31m \u001b[0mM\u001b[0m \u001b[0;34m=\u001b[0m \u001b[0mquat2mat\u001b[0m\u001b[0;34m(\u001b[0m\u001b[0ma\u001b[0m\u001b[0;34m)\u001b[0m \u001b[0;31m# from this module\u001b[0m\u001b[0;34m\u001b[0m\u001b[0;34m\u001b[0m\u001b[0m\n\u001b[0m\u001b[1;32m      2\u001b[0m \u001b[0mvec\u001b[0m \u001b[0;34m=\u001b[0m \u001b[0mnp\u001b[0m\u001b[0;34m.\u001b[0m\u001b[0marray\u001b[0m\u001b[0;34m(\u001b[0m\u001b[0;34m[\u001b[0m\u001b[0;36m1\u001b[0m\u001b[0;34m,\u001b[0m \u001b[0;36m2\u001b[0m\u001b[0;34m,\u001b[0m \u001b[0;36m3\u001b[0m\u001b[0;34m]\u001b[0m\u001b[0;34m)\u001b[0m\u001b[0;34m.\u001b[0m\u001b[0mreshape\u001b[0m\u001b[0;34m(\u001b[0m\u001b[0;34m(\u001b[0m\u001b[0;36m3\u001b[0m\u001b[0;34m,\u001b[0m\u001b[0;36m1\u001b[0m\u001b[0;34m)\u001b[0m\u001b[0;34m)\u001b[0m \u001b[0;31m# column vector\u001b[0m\u001b[0;34m\u001b[0m\u001b[0;34m\u001b[0m\u001b[0m\n\u001b[1;32m      3\u001b[0m \u001b[0mtvec\u001b[0m \u001b[0;34m=\u001b[0m \u001b[0mnp\u001b[0m\u001b[0;34m.\u001b[0m\u001b[0mdot\u001b[0m\u001b[0;34m(\u001b[0m\u001b[0mM\u001b[0m\u001b[0;34m,\u001b[0m \u001b[0mvec\u001b[0m\u001b[0;34m)\u001b[0m\u001b[0;34m\u001b[0m\u001b[0;34m\u001b[0m\u001b[0m\n",
      "\u001b[0;31mNameError\u001b[0m: name 'quat2mat' is not defined"
     ]
    }
   ],
   "source": [
    "M = quat2mat(a) # from this module\n",
    "vec = np.array([1, 2, 3]).reshape((3,1)) # column vector\n",
    "tvec = np.dot(M, vec)"
   ]
  },
  {
   "cell_type": "code",
   "execution_count": 3,
   "metadata": {},
   "outputs": [
    {
     "data": {
      "text/plain": [
       "6.866666666666667"
      ]
     },
     "execution_count": 3,
     "metadata": {},
     "output_type": "execute_result"
    }
   ],
   "source": [
    "1/0.06 - 9.8"
   ]
  },
  {
   "cell_type": "code",
   "execution_count": 2,
   "metadata": {},
   "outputs": [
    {
     "data": {
      "text/plain": [
       "6.068666666666668"
      ]
     },
     "execution_count": 2,
     "metadata": {},
     "output_type": "execute_result"
    }
   ],
   "source": [
    "(37/0.06 - 9.8)*0.01"
   ]
  },
  {
   "cell_type": "code",
   "execution_count": 26,
   "metadata": {},
   "outputs": [
    {
     "data": {
      "text/plain": [
       "16.666666666666668"
      ]
     },
     "execution_count": 26,
     "metadata": {},
     "output_type": "execute_result"
    }
   ],
   "source": [
    "(100/0.06)*0.01"
   ]
  },
  {
   "cell_type": "code",
   "execution_count": 3,
   "metadata": {},
   "outputs": [
    {
     "data": {
      "text/plain": [
       "616.6666666666667"
      ]
     },
     "execution_count": 3,
     "metadata": {},
     "output_type": "execute_result"
    }
   ],
   "source": [
    "37/0.06"
   ]
  },
  {
   "cell_type": "code",
   "execution_count": 4,
   "metadata": {},
   "outputs": [
    {
     "data": {
      "text/plain": [
       "15.326386645018165"
      ]
     },
     "execution_count": 4,
     "metadata": {},
     "output_type": "execute_result"
    }
   ],
   "source": [
    "np.cos(np.deg2rad(20))*16.31"
   ]
  },
  {
   "cell_type": "code",
   "execution_count": 5,
   "metadata": {},
   "outputs": [
    {
     "data": {
      "text/plain": [
       "5.578348537641657"
      ]
     },
     "execution_count": 5,
     "metadata": {},
     "output_type": "execute_result"
    }
   ],
   "source": [
    "np.sin(np.deg2rad(20))*16.31"
   ]
  },
  {
   "cell_type": "code",
   "execution_count": 8,
   "metadata": {},
   "outputs": [
    {
     "data": {
      "text/plain": [
       "34.058091225849935"
      ]
     },
     "execution_count": 8,
     "metadata": {},
     "output_type": "execute_result"
    }
   ],
   "source": [
    "(5.578348537641657/0.01+9.8)*0.06"
   ]
  },
  {
   "cell_type": "code",
   "execution_count": 54,
   "metadata": {},
   "outputs": [],
   "source": []
  },
  {
   "cell_type": "code",
   "execution_count": 66,
   "metadata": {},
   "outputs": [],
   "source": []
  },
  {
   "cell_type": "code",
   "execution_count": 67,
   "metadata": {},
   "outputs": [
    {
     "data": {
      "text/plain": [
       "0.6797358430497326"
      ]
     },
     "execution_count": 67,
     "metadata": {},
     "output_type": "execute_result"
    }
   ],
   "source": [
    "t_plus"
   ]
  },
  {
   "cell_type": "code",
   "execution_count": 57,
   "metadata": {},
   "outputs": [
    {
     "data": {
      "text/plain": [
       "18.97702436874511"
      ]
     },
     "execution_count": 57,
     "metadata": {},
     "output_type": "execute_result"
    }
   ],
   "source": [
    "15.814186973954259 * 1.2"
   ]
  },
  {
   "cell_type": "code",
   "execution_count": 68,
   "metadata": {},
   "outputs": [
    {
     "name": "stdout",
     "output_type": "stream",
     "text": [
      "x_target, y_target : 8.980462935295002 -2.734974614280743\n",
      "x_error, y_error : 18.980462935295 -2.734974614280743\n",
      "yaw_z : -8.313608157242417\n",
      "s : 19.176497578516976\n",
      "vx0 : 15.980414648764148\n",
      "vy0 : 5.88\n",
      "v : 17.027861061990016\n",
      "launch_angle : 20.201112331728556\n",
      "force : [90.13115920121886, -13.17057727589192, 33.516]\n"
     ]
    }
   ],
   "source": [
    "print(\"x_target, y_target :\",x_target,y_target)\n",
    "print(\"x_error, y_error :\",x_error,y_error)\n",
    "print(\"yaw_z :\",np.rad2deg(yaw_z))\n",
    "#print(\"ror_matrix :\")\n",
    "#print(ror_matrix)\n",
    "print(\"s :\",s)\n",
    "print(\"vx0 :\",vx0)\n",
    "print(\"vy0 :\",vy0)\n",
    "print(\"v :\",v)\n",
    "print(\"launch_angle :\",np.rad2deg(launch_angle))\n",
    "print(\"force :\",force)\n"
   ]
  },
  {
   "cell_type": "code",
   "execution_count": 69,
   "metadata": {},
   "outputs": [
    {
     "ename": "IndexError",
     "evalue": "pop from empty list",
     "output_type": "error",
     "traceback": [
      "\u001b[0;31m---------------------------------------------------------------------------\u001b[0m",
      "\u001b[0;31mIndexError\u001b[0m                                Traceback (most recent call last)",
      "\u001b[0;32m<ipython-input-69-95189d4055f5>\u001b[0m in \u001b[0;36m<module>\u001b[0;34m\u001b[0m\n\u001b[1;32m      1\u001b[0m \u001b[0ma\u001b[0m \u001b[0;34m=\u001b[0m \u001b[0;34m[\u001b[0m\u001b[0;34m]\u001b[0m\u001b[0;34m\u001b[0m\u001b[0;34m\u001b[0m\u001b[0m\n\u001b[0;32m----> 2\u001b[0;31m \u001b[0mprint\u001b[0m\u001b[0;34m(\u001b[0m\u001b[0ma\u001b[0m\u001b[0;34m.\u001b[0m\u001b[0mpop\u001b[0m\u001b[0;34m(\u001b[0m\u001b[0;34m)\u001b[0m\u001b[0;34m)\u001b[0m\u001b[0;34m\u001b[0m\u001b[0;34m\u001b[0m\u001b[0m\n\u001b[0m",
      "\u001b[0;31mIndexError\u001b[0m: pop from empty list"
     ]
    }
   ],
   "source": [
    "a = []\n",
    "print(a.pop())"
   ]
  },
  {
   "cell_type": "code",
   "execution_count": 70,
   "metadata": {},
   "outputs": [
    {
     "ename": "IndexError",
     "evalue": "pop from empty list",
     "output_type": "error",
     "traceback": [
      "\u001b[0;31m---------------------------------------------------------------------------\u001b[0m",
      "\u001b[0;31mIndexError\u001b[0m                                Traceback (most recent call last)",
      "\u001b[0;32m<ipython-input-70-9c070c907602>\u001b[0m in \u001b[0;36m<module>\u001b[0;34m\u001b[0m\n\u001b[0;32m----> 1\u001b[0;31m \u001b[0ma\u001b[0m\u001b[0;34m.\u001b[0m\u001b[0mpop\u001b[0m\u001b[0;34m(\u001b[0m\u001b[0;34m)\u001b[0m\u001b[0;34m\u001b[0m\u001b[0;34m\u001b[0m\u001b[0m\n\u001b[0m",
      "\u001b[0;31mIndexError\u001b[0m: pop from empty list"
     ]
    }
   ],
   "source": [
    "a.pop()"
   ]
  },
  {
   "cell_type": "code",
   "execution_count": 2,
   "metadata": {},
   "outputs": [],
   "source": [
    "def check_velocity(x_vel, y_vel):\n",
    "\n",
    "    if vel_forward < abs(x_vel):\n",
    "        if x_vel > 0: x_vel = vel_forward\n",
    "        else: x_vel = -vel_forward\n",
    "\n",
    "    if vel_lateral < abs(y_vel):\n",
    "        if y_vel > 0: y_vel = vel_lateral\n",
    "        else: y_vel = -vel_lateral"
   ]
  },
  {
   "cell_type": "code",
   "execution_count": 2,
   "metadata": {},
   "outputs": [
    {
     "ename": "NameError",
     "evalue": "name 'robot_x' is not defined",
     "output_type": "error",
     "traceback": [
      "\u001b[0;31m---------------------------------------------------------------------------\u001b[0m",
      "\u001b[0;31mNameError\u001b[0m                                 Traceback (most recent call last)",
      "\u001b[0;32m<ipython-input-2-7c534f203af7>\u001b[0m in \u001b[0;36m<module>\u001b[0;34m\u001b[0m\n\u001b[0;32m----> 1\u001b[0;31m \u001b[0mx_error\u001b[0m \u001b[0;34m=\u001b[0m \u001b[0mrobot_x\u001b[0m \u001b[0;34m-\u001b[0m \u001b[0;34m(\u001b[0m\u001b[0;36m10\u001b[0m\u001b[0;34m)\u001b[0m\u001b[0;34m\u001b[0m\u001b[0;34m\u001b[0m\u001b[0m\n\u001b[0m\u001b[1;32m      2\u001b[0m \u001b[0my_error\u001b[0m \u001b[0;34m=\u001b[0m \u001b[0mrobot_y\u001b[0m\u001b[0;34m\u001b[0m\u001b[0;34m\u001b[0m\u001b[0m\n\u001b[1;32m      3\u001b[0m \u001b[0;34m\u001b[0m\u001b[0m\n\u001b[1;32m      4\u001b[0m \u001b[0mvel_forward_apply\u001b[0m\u001b[0;34m,\u001b[0m \u001b[0mvel_lateral_apply\u001b[0m \u001b[0;34m=\u001b[0m \u001b[0mhome_mecanum\u001b[0m\u001b[0;34m.\u001b[0m\u001b[0mcheck_velocity\u001b[0m\u001b[0;34m(\u001b[0m\u001b[0mhome_mecanum\u001b[0m\u001b[0;34m.\u001b[0m\u001b[0mvel_forward\u001b[0m \u001b[0;34m*\u001b[0m \u001b[0;34m(\u001b[0m\u001b[0mx_error\u001b[0m\u001b[0;34m**\u001b[0m\u001b[0;36m2\u001b[0m\u001b[0;34m)\u001b[0m\u001b[0;34m,\u001b[0m \u001b[0mhome_mecanum\u001b[0m\u001b[0;34m.\u001b[0m\u001b[0mvel_lateral\u001b[0m \u001b[0;34m*\u001b[0m \u001b[0;34m(\u001b[0m\u001b[0my_error\u001b[0m\u001b[0;34m**\u001b[0m\u001b[0;36m2\u001b[0m\u001b[0;34m)\u001b[0m\u001b[0;34m)\u001b[0m\u001b[0;34m\u001b[0m\u001b[0;34m\u001b[0m\u001b[0m\n",
      "\u001b[0;31mNameError\u001b[0m: name 'robot_x' is not defined"
     ]
    }
   ],
   "source": [
    "x_error = robot_x - (10)\n",
    "y_error = robot_y\n",
    "\n",
    "vel_forward_apply, vel_lateral_apply = home_mecanum.check_velocity(home_mecanum.vel_forward * (x_error**2), home_mecanum.vel_lateral * (y_error**2))"
   ]
  },
  {
   "cell_type": "code",
   "execution_count": 5,
   "metadata": {},
   "outputs": [],
   "source": [
    "spawn_pos_z = 0.5\n",
    "ball_fly_time = 0.45\n",
    "vz0 = 9.8 * ball_fly_time"
   ]
  },
  {
   "cell_type": "code",
   "execution_count": 7,
   "metadata": {},
   "outputs": [
    {
     "data": {
      "text/plain": [
       "1.4922499999999999"
      ]
     },
     "execution_count": 7,
     "metadata": {},
     "output_type": "execute_result"
    }
   ],
   "source": [
    "h = spawn_pos_z + vz0 * ball_fly_time - (9.8 * ball_fly_time**2)/2\n",
    "h "
   ]
  },
  {
   "cell_type": "code",
   "execution_count": 66,
   "metadata": {},
   "outputs": [],
   "source": [
    "def rotation_matrix(angle):\n",
    "\n",
    "    return np.array([[np.cos(angle),-np.sin(angle),0],\n",
    "             [np.sin(angle),np.cos(angle),0],\n",
    "             [0,0,1]])\n",
    "\n",
    "def get_wrench(force, torque, matrix):\n",
    "\n",
    "    F = matrix@(np.array(force).reshape([3,1]))\n",
    "    T = matrix@(np.array(torque).reshape([3,1]))\n",
    "    \n",
    "    F = F.reshape([1,3]).tolist()\n",
    "    T = T.reshape([1,3]).tolist()\n",
    "\n",
    "\n",
    "    return F[0], T[0]"
   ]
  },
  {
   "cell_type": "code",
   "execution_count": 5,
   "metadata": {},
   "outputs": [
    {
     "data": {
      "text/plain": [
       "array([[ 0.92951967, -0.36877254,  0.        ],\n",
       "       [ 0.36877254,  0.92951967,  0.        ],\n",
       "       [ 0.        ,  0.        ,  1.        ]])"
      ]
     },
     "execution_count": 5,
     "metadata": {},
     "output_type": "execute_result"
    }
   ],
   "source": [
    "rotation_matrix(0.3776881459970161)"
   ]
  },
  {
   "cell_type": "code",
   "execution_count": 102,
   "metadata": {},
   "outputs": [],
   "source": [
    "\n",
    "class Make_mecanum_left():\n",
    "\n",
    "    def __init__(self):\n",
    "        self.vel_forward = 5.5 #m/s\n",
    "        self.vel_lateral = 2 #m/s\n",
    "        self.ball_fly_time = 0.45 #max height time [sec]\n",
    "        self.vel_forward_apply = 0\n",
    "        self.vel_lateral_apply = 0\n",
    "        \n",
    "        self.spawn_pos_z = 0.5\n",
    "        \n",
    "        self.torque = [0,20000,0]\n",
    "        self.delete_model_name = \"ball_right\"\n",
    "\n",
    "    def set_ball_target(self):\n",
    "        #self.x_target = (np.random.randint(6, 10) + np.random.rand())\n",
    "        #self.y_target = (np.random.randint(-3, 3) + np.random.rand())\n",
    "\n",
    "        self.x_target = 11\n",
    "        self.y_target = 4\n",
    "\n",
    "        self.x = -10.89\n",
    "        self.y = -3.9\n",
    "        \n",
    "        self.x_error = self.x_target - self.x\n",
    "        self.y_error = self.y_target - self.y\n",
    "        print(self.x_error, self.y_error)\n",
    "        self.s = np.sqrt(self.x_error**2 + self.y_error**2)\n",
    "\n",
    "    def throw_ball(self):\n",
    "\n",
    "        duration = 0.01\n",
    "\n",
    "        self.set_ball_target()\n",
    "\n",
    "        self.yaw_z = np.arctan(self.y_error/self.x_error)\n",
    "        self.ror_matrix = rotation_matrix(self.yaw_z)\n",
    "        vz0 = 9.8 * self.ball_fly_time\n",
    "\n",
    "        h =self.spawn_pos_z + vz0 * self.ball_fly_time - (9.8 * self.ball_fly_time**2)/2\n",
    "        self.ball_fly_time_plus = np.sqrt(2 * h / 9.8)\n",
    "        v0 = self.s/(self.ball_fly_time + self.ball_fly_time_plus)\n",
    "        print(v0)\n",
    "        self.v = np.sqrt(v0**2 + vz0**2)\n",
    "        self.launch_angle = np.arctan(vz0/v0)\n",
    "\n",
    "        self.force = [v0 * 0.057 * 100, 0, vz0 * 0.057 *100 ]\n",
    "\n",
    "        self.apply_force, self.apply_torque = get_wrench(self.force, self.torque, self.ror_matrix)\n",
    "\n"
   ]
  },
  {
   "cell_type": "code",
   "execution_count": 103,
   "metadata": {},
   "outputs": [],
   "source": [
    "x = Make_mecanum_left()"
   ]
  },
  {
   "cell_type": "code",
   "execution_count": 113,
   "metadata": {},
   "outputs": [
    {
     "name": "stdout",
     "output_type": "stream",
     "text": [
      "21.89 7.9\n",
      "23.228892719109222\n"
     ]
    }
   ],
   "source": [
    "x.throw_ball()"
   ]
  },
  {
   "cell_type": "code",
   "execution_count": 115,
   "metadata": {},
   "outputs": [
    {
     "data": {
      "text/plain": [
       "1.0018521689062485"
      ]
     },
     "execution_count": 115,
     "metadata": {},
     "output_type": "execute_result"
    }
   ],
   "source": [
    "x.ball_fly_time_plus + x.ball_fly_time"
   ]
  },
  {
   "cell_type": "code",
   "execution_count": 117,
   "metadata": {},
   "outputs": [
    {
     "data": {
      "text/plain": [
       "array([21.84953098, -7.88539492,  0.        ])"
      ]
     },
     "execution_count": 117,
     "metadata": {},
     "output_type": "execute_result"
    }
   ],
   "source": [
    "[23.228892719109222,0,0] @ x.ror_matrix"
   ]
  },
  {
   "cell_type": "code",
   "execution_count": 119,
   "metadata": {},
   "outputs": [
    {
     "data": {
      "text/plain": [
       "array([21.89, -7.9 ,  0.  ])"
      ]
     },
     "execution_count": 119,
     "metadata": {},
     "output_type": "execute_result"
    }
   ],
   "source": [
    "np.array([21.84953098, -7.88539492,  0.        ]) * (x.ball_fly_time_plus + x.ball_fly_time)"
   ]
  },
  {
   "cell_type": "code",
   "execution_count": 18,
   "metadata": {},
   "outputs": [],
   "source": [
    "vx1 = 14.98431004421108\n",
    "mu_s = 0.6\n",
    "ey = 0.79\n",
    "vy1 = -5.25\n",
    "R = 0.033\n",
    "R1 = 0.030\n",
    "w1 = 0\n",
    "vx2 = 9.956566531466533"
   ]
  },
  {
   "cell_type": "code",
   "execution_count": 22,
   "metadata": {},
   "outputs": [],
   "source": [
    "vx2 = vx1 + mu_s * (1 + ey) * vy1"
   ]
  },
  {
   "cell_type": "code",
   "execution_count": 23,
   "metadata": {},
   "outputs": [
    {
     "data": {
      "text/plain": [
       "4.882910444211079"
      ]
     },
     "execution_count": 23,
     "metadata": {},
     "output_type": "execute_result"
    }
   ],
   "source": [
    "vx2"
   ]
  },
  {
   "cell_type": "code",
   "execution_count": 32,
   "metadata": {},
   "outputs": [
    {
     "data": {
      "text/plain": [
       "-4.1475"
      ]
     },
     "execution_count": 32,
     "metadata": {},
     "output_type": "execute_result"
    }
   ],
   "source": [
    "ey * vy1"
   ]
  },
  {
   "cell_type": "code",
   "execution_count": 15,
   "metadata": {},
   "outputs": [],
   "source": [
    "w2 = w1 -(1.5 * mu_s * R * (1 + ey) * vy1) / R1**2"
   ]
  },
  {
   "cell_type": "code",
   "execution_count": 16,
   "metadata": {},
   "outputs": [],
   "source": [
    "w2 = w1 -(1.5 * R * (vx2 - vx1)) / R1**2"
   ]
  },
  {
   "cell_type": "code",
   "execution_count": 17,
   "metadata": {},
   "outputs": [
    {
     "data": {
      "text/plain": [
       "107.2322516621961"
      ]
     },
     "execution_count": 17,
     "metadata": {},
     "output_type": "execute_result"
    }
   ],
   "source": [
    "w2"
   ]
  },
  {
   "cell_type": "code",
   "execution_count": 21,
   "metadata": {},
   "outputs": [],
   "source": [
    "vx1 = 9.34581004421108\n",
    "mu_s = 0.6\n",
    "ey = 0.79\n",
    "vy1 = -4.1554\n",
    "R = 0.033\n",
    "R1 = 0.030\n",
    "w1 = 107.2322516621961\n"
   ]
  },
  {
   "cell_type": "code",
   "execution_count": 26,
   "metadata": {},
   "outputs": [
    {
     "data": {
      "text/plain": [
       "4.898600399999999"
      ]
     },
     "execution_count": 26,
     "metadata": {},
     "output_type": "execute_result"
    }
   ],
   "source": [
    "vx2 = vx1 + mu_s * (1 + ey) * vy1\n",
    "vx2"
   ]
  },
  {
   "cell_type": "code",
   "execution_count": 28,
   "metadata": {},
   "outputs": [
    {
     "data": {
      "text/plain": [
       "558.5304779999999"
      ]
     },
     "execution_count": 28,
     "metadata": {},
     "output_type": "execute_result"
    }
   ],
   "source": [
    "w2 = w1 -(1.5 * mu_s * R * (1 + ey) * vy1) / R1**2\n",
    "w2"
   ]
  },
  {
   "cell_type": "code",
   "execution_count": 3,
   "metadata": {},
   "outputs": [
    {
     "data": {
      "text/plain": [
       "array([[[0., 0., 0.],\n",
       "        [0., 0., 0.],\n",
       "        [0., 0., 0.]],\n",
       "\n",
       "       [[0., 0., 0.],\n",
       "        [0., 0., 0.],\n",
       "        [0., 0., 0.]],\n",
       "\n",
       "       [[0., 0., 0.],\n",
       "        [0., 0., 0.],\n",
       "        [0., 0., 0.]]])"
      ]
     },
     "execution_count": 3,
     "metadata": {},
     "output_type": "execute_result"
    }
   ],
   "source": [
    "np.zeros((3,3,3))"
   ]
  },
  {
   "cell_type": "code",
   "execution_count": 37,
   "metadata": {},
   "outputs": [
    {
     "data": {
      "text/plain": [
       "0"
      ]
     },
     "execution_count": 37,
     "metadata": {},
     "output_type": "execute_result"
    }
   ],
   "source": [
    "robot = [[190, 175, 235, 205], [361, 492, 404, 523]]\n",
    "ball = [[334, 479, 358, 503], [361, 492, 404, 519]]\n",
    "\n",
    "\n"
   ]
  },
  {
   "cell_type": "code",
   "execution_count": 34,
   "metadata": {},
   "outputs": [],
   "source": [
    "def check_iou(robot_box, ball_cand_box):\n",
    "    no_ball_box = []\n",
    "\n",
    "    for i in range(len(robot_box)):\n",
    "        for j in range(len(ball_cand_box)):\n",
    "            print(robot_box[i], ball_cand_box[j])\n",
    "            print(iou(robot_box[i], ball_cand_box[j]))\n",
    "            if iou(robot_box[i], ball_cand_box[j]):\n",
    "                no_ball_box.append(ball_cand_box[j])\n",
    "                print(1)\n",
    "            else:\n",
    "                pass\n",
    "    for i in no_ball_box:\n",
    "        del ball_cand_box[ball_cand_box.index(i)]\n",
    "                          \n",
    "    return ball_cand_box\n",
    "\n",
    "def iou(box_0, box_1):\n",
    "    b0x_0, b0y_0, b0x_1 ,b0y_1 = box_0\n",
    "    b1x_0, b1y_0, b1x_1 ,b1y_1 = box_1\n",
    "\n",
    "    min_x = np.argmin([b0x_0,b1x_0])\n",
    "    min_y = np.argmin([b0y_0,b1y_0])\n",
    "\n",
    "    if min_x == 0 and min_y == 0:\n",
    "        if ((b0x_0 < b1x_0 < b0x_1) or (b0x_0 < b1x_1 < b0x_1)) and ((b0y_0 < b1y_0 < b0y_1) or (b0y_0 < b1y_1 < b0y_1)):\n",
    "            return True\n",
    "    if min_x == 0 and min_y == 1:\n",
    "        if ((b0x_0 < b1x_0 < b0x_1) or (b0x_0 < b1x_1 < b0x_1)) and ((b1y_0 < b0y_0 < b1y_1) or (b1y_0 < b0y_1 < b1y_1)):\n",
    "            return True\n",
    "    if min_x == 1 and min_y == 0:\n",
    "        if ((b1x_0 < b0x_0 < b1x_1) or (b1x_0 < b0x_1 < b1x_1)) and ((b0y_0 < b1y_0 < b0y_1) or (b0y_0 < b1y_1 < b0y_1)):\n",
    "            return True\n",
    "    if min_x == 1 and min_y == 1:\n",
    "        if ((b1x_0 < b0x_0 < b1x_1) or (b1x_0 < b0x_1 < b1x_1) ) and ((b1y_0 < b0y_0 < b1y_1) or (b1y_0 < b0y_1 < b1y_1) ):\n",
    "            return True\n",
    "\n",
    "    return False\n",
    "\n"
   ]
  },
  {
   "cell_type": "code",
   "execution_count": 35,
   "metadata": {
    "scrolled": true
   },
   "outputs": [
    {
     "name": "stdout",
     "output_type": "stream",
     "text": [
      "[216, 178, 250, 199] [521, 137, 544, 160]\n",
      "False\n",
      "[216, 178, 250, 199] [227, 176, 242, 191]\n",
      "True\n",
      "1\n",
      "[416, 499, 452, 521] [521, 137, 544, 160]\n",
      "False\n",
      "[416, 499, 452, 521] [227, 176, 242, 191]\n",
      "False\n"
     ]
    },
    {
     "data": {
      "text/plain": [
       "[[521, 137, 544, 160]]"
      ]
     },
     "execution_count": 35,
     "metadata": {},
     "output_type": "execute_result"
    }
   ],
   "source": [
    "check_iou(robot, ball)"
   ]
  },
  {
   "cell_type": "code",
   "execution_count": 45,
   "metadata": {},
   "outputs": [],
   "source": [
    "ball_centroid_list = [[100,123],[423, 321]]\n"
   ]
  },
  {
   "cell_type": "code",
   "execution_count": 46,
   "metadata": {},
   "outputs": [
    {
     "data": {
      "text/plain": [
       "[100, 123]"
      ]
     },
     "execution_count": 46,
     "metadata": {},
     "output_type": "execute_result"
    }
   ],
   "source": [
    "ball_centroid_list[0]"
   ]
  },
  {
   "cell_type": "code",
   "execution_count": 41,
   "metadata": {},
   "outputs": [
    {
     "data": {
      "text/plain": [
       "True"
      ]
     },
     "execution_count": 41,
     "metadata": {},
     "output_type": "execute_result"
    }
   ],
   "source": [
    "max(ball_centroid_list) > [1, 0]"
   ]
  },
  {
   "cell_type": "code",
   "execution_count": 42,
   "metadata": {},
   "outputs": [
    {
     "data": {
      "text/plain": [
       "[423, 321]"
      ]
     },
     "execution_count": 42,
     "metadata": {},
     "output_type": "execute_result"
    }
   ],
   "source": [
    "max(ball_centroid_list)"
   ]
  },
  {
   "cell_type": "code",
   "execution_count": 44,
   "metadata": {},
   "outputs": [
    {
     "name": "stdout",
     "output_type": "stream",
     "text": [
      "1\n"
     ]
    }
   ],
   "source": [
    "if True:\n",
    "    print(1)\n",
    "elif True:\n",
    "    print(2)"
   ]
  },
  {
   "cell_type": "code",
   "execution_count": 52,
   "metadata": {},
   "outputs": [
    {
     "data": {
      "text/plain": [
       "array([0.15625  , 0.1921875, 0.6609375, 0.5015625])"
      ]
     },
     "execution_count": 52,
     "metadata": {},
     "output_type": "execute_result"
    }
   ],
   "source": [
    "np.array(ball_centroid_list[0] + ball_centroid_list[1])/640"
   ]
  },
  {
   "cell_type": "code",
   "execution_count": 1,
   "metadata": {},
   "outputs": [],
   "source": [
    "import numpy as np"
   ]
  },
  {
   "cell_type": "code",
   "execution_count": 21,
   "metadata": {},
   "outputs": [],
   "source": [
    "npy_array = np.load(file=\"src/yolov5/npy_test.npy\")"
   ]
  },
  {
   "cell_type": "code",
   "execution_count": 22,
   "metadata": {},
   "outputs": [
    {
     "data": {
      "text/plain": [
       "(1227, 20, 4)"
      ]
     },
     "execution_count": 22,
     "metadata": {},
     "output_type": "execute_result"
    }
   ],
   "source": [
    "npy_array.shape\n"
   ]
  },
  {
   "cell_type": "code",
   "execution_count": 18,
   "metadata": {},
   "outputs": [
    {
     "data": {
      "text/plain": [
       "array([[[  0. ,   0. ,   0. ,   0. ],\n",
       "        [  0. ,   0. ,   0. ,   0. ],\n",
       "        [  0. ,   0. ,   0. ,   0. ],\n",
       "        [  0. ,   0. ,   0. ,   0. ],\n",
       "        [  0. ,   0. ,   0. ,   0. ],\n",
       "        [  0. ,   0. ,   0. ,   0. ],\n",
       "        [  0. ,   0. ,   0. ,   0. ],\n",
       "        [  0. ,   0. ,   0. ,   0. ],\n",
       "        [  0. ,   0. ,   0. ,   0. ],\n",
       "        [  0. ,   0. ,   0. ,   0. ],\n",
       "        [  0. ,   0. ,   0. ,   0. ],\n",
       "        [  0. ,   0. ,   0. ,   0. ],\n",
       "        [  0. ,   0. ,   0. ,   0. ],\n",
       "        [  0. ,   0. ,   0. ,   0. ],\n",
       "        [  0. ,   0. ,   0. ,   0. ],\n",
       "        [  0. ,   0. ,   0. ,   0. ],\n",
       "        [  0. ,   0. ,   0. ,   0. ],\n",
       "        [  0. ,   0. ,   0. ,   0. ],\n",
       "        [  0. ,   0. ,   0. ,   0. ],\n",
       "        [  0. ,   0. , 562.5, 580. ]],\n",
       "\n",
       "       [[  0. ,   0. ,   0. ,   0. ],\n",
       "        [  0. ,   0. ,   0. ,   0. ],\n",
       "        [  0. ,   0. ,   0. ,   0. ],\n",
       "        [  0. ,   0. ,   0. ,   0. ],\n",
       "        [  0. ,   0. ,   0. ,   0. ],\n",
       "        [  0. ,   0. ,   0. ,   0. ],\n",
       "        [  0. ,   0. ,   0. ,   0. ],\n",
       "        [  0. ,   0. ,   0. ,   0. ],\n",
       "        [  0. ,   0. ,   0. ,   0. ],\n",
       "        [  0. ,   0. ,   0. ,   0. ],\n",
       "        [  0. ,   0. ,   0. ,   0. ],\n",
       "        [  0. ,   0. ,   0. ,   0. ],\n",
       "        [  0. ,   0. ,   0. ,   0. ],\n",
       "        [  0. ,   0. ,   0. ,   0. ],\n",
       "        [  0. ,   0. ,   0. ,   0. ],\n",
       "        [  0. ,   0. ,   0. ,   0. ],\n",
       "        [  0. ,   0. ,   0. ,   0. ],\n",
       "        [  0. ,   0. ,   0. ,   0. ],\n",
       "        [  0. ,   0. ,   0. ,   0. ],\n",
       "        [  0. ,   0. , 495. , 515. ]],\n",
       "\n",
       "       [[  0. ,   0. ,   0. ,   0. ],\n",
       "        [  0. ,   0. ,   0. ,   0. ],\n",
       "        [  0. ,   0. ,   0. ,   0. ],\n",
       "        [  0. ,   0. ,   0. ,   0. ],\n",
       "        [  0. ,   0. ,   0. ,   0. ],\n",
       "        [  0. ,   0. ,   0. ,   0. ],\n",
       "        [  0. ,   0. ,   0. ,   0. ],\n",
       "        [  0. ,   0. ,   0. ,   0. ],\n",
       "        [  0. ,   0. ,   0. ,   0. ],\n",
       "        [  0. ,   0. ,   0. ,   0. ],\n",
       "        [  0. ,   0. ,   0. ,   0. ],\n",
       "        [  0. ,   0. ,   0. ,   0. ],\n",
       "        [  0. ,   0. ,   0. ,   0. ],\n",
       "        [  0. ,   0. ,   0. ,   0. ],\n",
       "        [  0. ,   0. ,   0. ,   0. ],\n",
       "        [  0. ,   0. ,   0. ,   0. ],\n",
       "        [  0. ,   0. ,   0. ,   0. ],\n",
       "        [  0. ,   0. ,   0. ,   0. ],\n",
       "        [  0. ,   0. , 495. , 515. ],\n",
       "        [211. , 230. , 485. , 507. ]],\n",
       "\n",
       "       [[  0. ,   0. ,   0. ,   0. ],\n",
       "        [  0. ,   0. ,   0. ,   0. ],\n",
       "        [  0. ,   0. ,   0. ,   0. ],\n",
       "        [  0. ,   0. ,   0. ,   0. ],\n",
       "        [  0. ,   0. ,   0. ,   0. ],\n",
       "        [  0. ,   0. ,   0. ,   0. ],\n",
       "        [  0. ,   0. ,   0. ,   0. ],\n",
       "        [  0. ,   0. ,   0. ,   0. ],\n",
       "        [  0. ,   0. ,   0. ,   0. ],\n",
       "        [  0. ,   0. ,   0. ,   0. ],\n",
       "        [  0. ,   0. ,   0. ,   0. ],\n",
       "        [  0. ,   0. ,   0. ,   0. ],\n",
       "        [  0. ,   0. ,   0. ,   0. ],\n",
       "        [  0. ,   0. ,   0. ,   0. ],\n",
       "        [  0. ,   0. ,   0. ,   0. ],\n",
       "        [  0. ,   0. ,   0. ,   0. ],\n",
       "        [  0. ,   0. ,   0. ,   0. ],\n",
       "        [  0. ,   0. , 495. , 515. ],\n",
       "        [211. , 230. , 485. , 507. ],\n",
       "        [213.5, 232.5, 476. , 497.5]],\n",
       "\n",
       "       [[  0. ,   0. ,   0. ,   0. ],\n",
       "        [  0. ,   0. ,   0. ,   0. ],\n",
       "        [  0. ,   0. ,   0. ,   0. ],\n",
       "        [  0. ,   0. ,   0. ,   0. ],\n",
       "        [  0. ,   0. ,   0. ,   0. ],\n",
       "        [  0. ,   0. ,   0. ,   0. ],\n",
       "        [  0. ,   0. ,   0. ,   0. ],\n",
       "        [  0. ,   0. ,   0. ,   0. ],\n",
       "        [  0. ,   0. ,   0. ,   0. ],\n",
       "        [  0. ,   0. ,   0. ,   0. ],\n",
       "        [  0. ,   0. ,   0. ,   0. ],\n",
       "        [  0. ,   0. ,   0. ,   0. ],\n",
       "        [  0. ,   0. ,   0. ,   0. ],\n",
       "        [  0. ,   0. ,   0. ,   0. ],\n",
       "        [  0. ,   0. ,   0. ,   0. ],\n",
       "        [  0. ,   0. ,   0. ,   0. ],\n",
       "        [  0. ,   0. , 495. , 515. ],\n",
       "        [211. , 230. , 485. , 507. ],\n",
       "        [213.5, 232.5, 476. , 497.5],\n",
       "        [216.5, 236.5, 463. , 485. ]],\n",
       "\n",
       "       [[  0. ,   0. ,   0. ,   0. ],\n",
       "        [  0. ,   0. ,   0. ,   0. ],\n",
       "        [  0. ,   0. ,   0. ,   0. ],\n",
       "        [  0. ,   0. ,   0. ,   0. ],\n",
       "        [  0. ,   0. ,   0. ,   0. ],\n",
       "        [  0. ,   0. ,   0. ,   0. ],\n",
       "        [  0. ,   0. ,   0. ,   0. ],\n",
       "        [  0. ,   0. ,   0. ,   0. ],\n",
       "        [  0. ,   0. ,   0. ,   0. ],\n",
       "        [  0. ,   0. ,   0. ,   0. ],\n",
       "        [  0. ,   0. ,   0. ,   0. ],\n",
       "        [  0. ,   0. ,   0. ,   0. ],\n",
       "        [  0. ,   0. ,   0. ,   0. ],\n",
       "        [  0. ,   0. ,   0. ,   0. ],\n",
       "        [  0. ,   0. ,   0. ,   0. ],\n",
       "        [  0. ,   0. , 495. , 515. ],\n",
       "        [211. , 230. , 485. , 507. ],\n",
       "        [213.5, 232.5, 476. , 497.5],\n",
       "        [216.5, 236.5, 463. , 485. ],\n",
       "        [220. , 240.5, 452.5, 474. ]],\n",
       "\n",
       "       [[  0. ,   0. ,   0. ,   0. ],\n",
       "        [  0. ,   0. ,   0. ,   0. ],\n",
       "        [  0. ,   0. ,   0. ,   0. ],\n",
       "        [  0. ,   0. ,   0. ,   0. ],\n",
       "        [  0. ,   0. ,   0. ,   0. ],\n",
       "        [  0. ,   0. ,   0. ,   0. ],\n",
       "        [  0. ,   0. ,   0. ,   0. ],\n",
       "        [  0. ,   0. ,   0. ,   0. ],\n",
       "        [  0. ,   0. ,   0. ,   0. ],\n",
       "        [  0. ,   0. ,   0. ,   0. ],\n",
       "        [  0. ,   0. ,   0. ,   0. ],\n",
       "        [  0. ,   0. ,   0. ,   0. ],\n",
       "        [  0. ,   0. ,   0. ,   0. ],\n",
       "        [  0. ,   0. ,   0. ,   0. ],\n",
       "        [  0. ,   0. , 495. , 515. ],\n",
       "        [211. , 230. , 485. , 507. ],\n",
       "        [213.5, 232.5, 476. , 497.5],\n",
       "        [216.5, 236.5, 463. , 485. ],\n",
       "        [220. , 240.5, 452.5, 474. ],\n",
       "        [224. , 244. , 441.5, 463.5]],\n",
       "\n",
       "       [[  0. ,   0. ,   0. ,   0. ],\n",
       "        [  0. ,   0. ,   0. ,   0. ],\n",
       "        [  0. ,   0. ,   0. ,   0. ],\n",
       "        [  0. ,   0. ,   0. ,   0. ],\n",
       "        [  0. ,   0. ,   0. ,   0. ],\n",
       "        [  0. ,   0. ,   0. ,   0. ],\n",
       "        [  0. ,   0. ,   0. ,   0. ],\n",
       "        [  0. ,   0. ,   0. ,   0. ],\n",
       "        [  0. ,   0. ,   0. ,   0. ],\n",
       "        [  0. ,   0. ,   0. ,   0. ],\n",
       "        [  0. ,   0. ,   0. ,   0. ],\n",
       "        [  0. ,   0. ,   0. ,   0. ],\n",
       "        [  0. ,   0. ,   0. ,   0. ],\n",
       "        [  0. ,   0. , 495. , 515. ],\n",
       "        [211. , 230. , 485. , 507. ],\n",
       "        [213.5, 232.5, 476. , 497.5],\n",
       "        [216.5, 236.5, 463. , 485. ],\n",
       "        [220. , 240.5, 452.5, 474. ],\n",
       "        [224. , 244. , 441.5, 463.5],\n",
       "        [229.5, 250.5, 426. , 448.5]],\n",
       "\n",
       "       [[  0. ,   0. ,   0. ,   0. ],\n",
       "        [  0. ,   0. ,   0. ,   0. ],\n",
       "        [  0. ,   0. ,   0. ,   0. ],\n",
       "        [  0. ,   0. ,   0. ,   0. ],\n",
       "        [  0. ,   0. ,   0. ,   0. ],\n",
       "        [  0. ,   0. ,   0. ,   0. ],\n",
       "        [  0. ,   0. ,   0. ,   0. ],\n",
       "        [  0. ,   0. ,   0. ,   0. ],\n",
       "        [  0. ,   0. ,   0. ,   0. ],\n",
       "        [  0. ,   0. ,   0. ,   0. ],\n",
       "        [  0. ,   0. ,   0. ,   0. ],\n",
       "        [  0. ,   0. ,   0. ,   0. ],\n",
       "        [  0. ,   0. , 495. , 515. ],\n",
       "        [211. , 230. , 485. , 507. ],\n",
       "        [213.5, 232.5, 476. , 497.5],\n",
       "        [216.5, 236.5, 463. , 485. ],\n",
       "        [220. , 240.5, 452.5, 474. ],\n",
       "        [224. , 244. , 441.5, 463.5],\n",
       "        [229.5, 250.5, 426. , 448.5],\n",
       "        [235. , 256. , 413.5, 436. ]],\n",
       "\n",
       "       [[  0. ,   0. ,   0. ,   0. ],\n",
       "        [  0. ,   0. ,   0. ,   0. ],\n",
       "        [  0. ,   0. ,   0. ,   0. ],\n",
       "        [  0. ,   0. ,   0. ,   0. ],\n",
       "        [  0. ,   0. ,   0. ,   0. ],\n",
       "        [  0. ,   0. ,   0. ,   0. ],\n",
       "        [  0. ,   0. ,   0. ,   0. ],\n",
       "        [  0. ,   0. ,   0. ,   0. ],\n",
       "        [  0. ,   0. ,   0. ,   0. ],\n",
       "        [  0. ,   0. ,   0. ,   0. ],\n",
       "        [  0. ,   0. ,   0. ,   0. ],\n",
       "        [  0. ,   0. , 495. , 515. ],\n",
       "        [211. , 230. , 485. , 507. ],\n",
       "        [213.5, 232.5, 476. , 497.5],\n",
       "        [216.5, 236.5, 463. , 485. ],\n",
       "        [220. , 240.5, 452.5, 474. ],\n",
       "        [224. , 244. , 441.5, 463.5],\n",
       "        [229.5, 250.5, 426. , 448.5],\n",
       "        [235. , 256. , 413.5, 436. ],\n",
       "        [242.5, 264.5, 395. , 418. ]]])"
      ]
     },
     "execution_count": 18,
     "metadata": {},
     "output_type": "execute_result"
    }
   ],
   "source": [
    "npy_array[:10]"
   ]
  },
  {
   "cell_type": "code",
   "execution_count": 24,
   "metadata": {},
   "outputs": [
    {
     "data": {
      "text/plain": [
       "99"
      ]
     },
     "execution_count": 24,
     "metadata": {},
     "output_type": "execute_result"
    }
   ],
   "source": [
    "len([[9.850715324921595, -2.4599579902681374],[6.615110312640641, 1.1540531770127413],[7.41918558896831, 2.8302628611026495],[8.556503945549668, 0.3468410500368394],[6.465440524291949, -2.0793884549787065],[7.780037007740142, 1.1904319535705827],[8.552879469338405, -1.692884439699251],[8.579632141771087, 1.5401876343507168],[7.3299666701099655, 1.0362246921555027],[8.58319092522273, 1.947011402403695],[6.0612100095982, 2.336201634946792],[6.318418470016545, 0.6915800291792218],[8.513100868106063, -0.6381548815692847],[8.936778080827644, 0.9582419076654426],[8.609319230204907, -0.44167154040057044],[6.927783028733114, 0.1414818176194449],[7.800526493702175, 0.4773592786524238],[8.111037402739369, -0.40602603281618965],[6.038148005412364, 2.9747844485871826],[8.386005421052605, 2.7419967055297514],[6.645274911879599, -2.8998934953403914],[7.56797539592803, 1.2737085473545675],[7.7517423768713325, 2.3257576055004097],[6.110183522516695, 0.5421270073086444],[8.57034406243817, 1.4253170641945587],[8.580121645585281, 0.9974139329235079],[7.756279672107773, -1.2183490458442476],[6.125815130702706, 0.49989197079303005],[8.258266862290247, -2.5633907953132775],[6.179244699016952, -1.498246374596822],[9.04404762722706, -1.1669504779615303],[9.965016042627916, -1.8610571651228027],[7.032149298434519, 1.3682363679428171],[6.8325533464358585, -2.308003455092148],[7.6691252927144005, -2.507673478985287],[6.576778214423938, -2.79928533221218],[6.080830027610218, 2.3344433598526795],[9.335146213195848, 1.0913613446645922],[8.610271868456874, 2.7658298120630187],[7.2640520684557695, 2.4535254529852404],[8.293062273286683, -2.6646151024237836],[7.06844894922195, -2.2828176883268245],[7.340216309798152, 2.982846428013799],[6.490102782846223, 0.5341222048168535],[9.835842278199362, -2.448119475299717],[6.7918548399378755, 0.46599314949310344],[6.34237862022159, 0.7753123770996173],[6.290554364423248, -1.5854916536968275],[7.949602131173205, -2.4081164205142374],[6.017843303162472, -0.2840839609880762],[8.594829417994655, 1.6369854262150607],[7.953322632601895, -0.050708488872660995],[7.924253916919518, 1.226770229823889],[8.480290649937887, 1.5540886544298216],[9.362862749567046, 0.8257472734415015],[7.182418409396621, -1.632230600986516],[6.795001951955431, -0.257486287425742],[6.290174854380166, 0.22682943567545066],[8.385822847066116, 1.9099184734615284],[7.30780204375761, 1.163883368654409],[8.304795085427356, -2.3513099231852514],[7.332011838107156, -2.4276615872683167],[8.49812980451529, 1.7406710275662611],[7.634739744497031, 0.00137026849674049],[7.61204488136005, -0.06783152743280907],[9.094510696328753, -0.701136549312443],[7.642670853005197, -0.6363590086635127],[9.6765349859197, 2.686670323856228],[6.514322267176656, -1.6945030877268814],[7.4111965111873195, -2.5265479653376834],[6.013615716156044, 0.5006997276189602],[8.636769110800431, 2.1808743516616307],[6.211409819037085, 1.7636433221551895],[7.289927378118963, -1.2087484476222174],[7.133403774370477, -0.1592303078785361],[8.738396641358747, 0.8463878149046792],[7.882873892538725, 0.7492731590102456],[7.391580741993121, -2.924163623283767],[7.835431029836058, -2.267292147905674],[9.93545936244133, -1.9136619522804208],[9.396266923077388, 2.0800087891720014],[9.369497795250672, -1.9686329598280365],[6.027517796102913, -0.14297442531080007],[8.103113195723653, -0.402397768307194],[6.092806514633231, -2.695323484452337],[8.60745944902624, 1.0398348910583022],[7.28679477593088, 1.5751545443512567],[9.603421142475133, 2.870511098825409],[9.01154530219899, 1.6370143148223306],[8.36297721413697, 2.8441897392745448],[6.928635333778087, -1.356134583094463],[8.197732022043462, 1.8212896154669687],[8.423108405597391, -0.657760606794699],[6.509409147312991, 1.277048422497156],[6.176844543167684, 0.2169923417109555],[6.927756419893956, 2.7524548647188736],[9.85735758010074, -0.9057113160597572],[6.056765113223903, -1.2533775453750495],[8.397669452423449, -1.843964858886376]])"
   ]
  },
  {
   "cell_type": "code",
   "execution_count": 2,
   "metadata": {},
   "outputs": [],
   "source": [
    "import numpy as np"
   ]
  },
  {
   "cell_type": "code",
   "execution_count": 16,
   "metadata": {},
   "outputs": [],
   "source": [
    "s = 18.6\n",
    "v0 = 200\n",
    "h = 2\n",
    "angle = np.arctan(h/s)"
   ]
  },
  {
   "cell_type": "code",
   "execution_count": 17,
   "metadata": {},
   "outputs": [
    {
     "data": {
      "text/plain": [
       "6.137255949261987"
      ]
     },
     "execution_count": 17,
     "metadata": {},
     "output_type": "execute_result"
    }
   ],
   "source": [
    "np.rad2deg(angle)"
   ]
  },
  {
   "cell_type": "code",
   "execution_count": 15,
   "metadata": {},
   "outputs": [
    {
     "data": {
      "text/plain": [
       "0.8455313699917524"
      ]
     },
     "execution_count": 15,
     "metadata": {},
     "output_type": "execute_result"
    }
   ],
   "source": [
    "np.tan(0.14) * 6"
   ]
  },
  {
   "cell_type": "code",
   "execution_count": 66,
   "metadata": {},
   "outputs": [],
   "source": [
    "ball_trajectory_list = []\n",
    "ball_point_data = []\n",
    "save_data = []\n",
    "seq_cnt = 0\n",
    "trajectroy_cnt = 0"
   ]
  },
  {
   "cell_type": "code",
   "execution_count": 67,
   "metadata": {},
   "outputs": [],
   "source": [
    "ball_centroid_list = [[0, 0],[0, 0]]\n"
   ]
  },
  {
   "cell_type": "code",
   "execution_count": 68,
   "metadata": {},
   "outputs": [
    {
     "name": "stdout",
     "output_type": "stream",
     "text": [
      "1\n"
     ]
    }
   ],
   "source": [
    "if (max(ball_centroid_list) == [0,0] or max(ball_centroid_list) > [640, 640]) and len(ball_trajectory_list) == 0: #공 검출되지 않은 경우 패스\n",
    "    print(1)\n",
    "    pass\n",
    "\n",
    "elif (max(ball_centroid_list) == [0,0] or max(ball_centroid_list) > [640, 640]) :\n",
    "    ball_trajectory_list.clear()\n",
    "    print(2)\n",
    "\n",
    "    if seq_cnt < 5: #만약 로봇을 공으로 볼 경우 save data에서 마지막 항 빼고 파라미터 초기화\n",
    "        seq_cnt = 0\n",
    "        ball_point_data.pop()\n",
    "\n",
    "    else:\n",
    "        trajectroy_cnt += 1\n",
    "        #ff.write(str(seq_cnt) + \",\")\n",
    "        save_data.append(ball_point_data)\n",
    "        print(\"trajectroy_cnt :\",trajectroy_cnt)\n",
    "        print(\"seq_cnt: \",seq_cnt)\n",
    "        seq_cnt = 0\n",
    "\n",
    "else:\n",
    "    print(2)\n",
    "    ball_point = (ball_centroid_list[0] + ball_centroid_list[1])\n",
    "    ball_trajectory_list.append(ball_point)\n",
    "    seq_cnt += 1\n",
    "\n",
    "    ball_point_data.append(ball_trajectory_list)\n",
    "    print(np.array(save_data).shape)"
   ]
  },
  {
   "cell_type": "code",
   "execution_count": 65,
   "metadata": {},
   "outputs": [
    {
     "data": {
      "text/plain": [
       "[]"
      ]
     },
     "execution_count": 65,
     "metadata": {},
     "output_type": "execute_result"
    }
   ],
   "source": [
    "save_data[0]"
   ]
  },
  {
   "cell_type": "code",
   "execution_count": 64,
   "metadata": {},
   "outputs": [
    {
     "data": {
      "text/plain": [
       "[]"
      ]
     },
     "execution_count": 64,
     "metadata": {},
     "output_type": "execute_result"
    }
   ],
   "source": [
    "ball_trajectory_list"
   ]
  },
  {
   "cell_type": "code",
   "execution_count": null,
   "metadata": {},
   "outputs": [],
   "source": []
  }
 ],
 "metadata": {
  "kernelspec": {
   "display_name": "Python 3",
   "language": "python",
   "name": "python3"
  },
  "language_info": {
   "codemirror_mode": {
    "name": "ipython",
    "version": 3
   },
   "file_extension": ".py",
   "mimetype": "text/x-python",
   "name": "python",
   "nbconvert_exporter": "python",
   "pygments_lexer": "ipython3",
   "version": "3.6.13"
  }
 },
 "nbformat": 4,
 "nbformat_minor": 4
}
