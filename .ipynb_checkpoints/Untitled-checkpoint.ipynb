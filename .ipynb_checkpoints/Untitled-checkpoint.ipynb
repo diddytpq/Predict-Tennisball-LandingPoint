{
 "cells": [
  {
   "cell_type": "code",
   "execution_count": 1,
   "metadata": {},
   "outputs": [],
   "source": [
    "import rospy\n",
    "from sensor_msgs.msg import Image\n",
    "import cv2\n",
    "import numpy as np"
   ]
  },
  {
   "cell_type": "code",
   "execution_count": null,
   "metadata": {},
   "outputs": [
    {
     "name": "stdout",
     "output_type": "stream",
     "text": [
      "[INFO] [1617877017.954327, 880.760000]: Hello ROS!\n"
     ]
    }
   ],
   "source": [
    " from cv_bridge import CvBridge, CvBridgeError\n",
    "\n",
    " # Print \"Hello ROS!\" to the Terminal and to a ROS Log file located in ~/.ros/log/loghash/*.log\n",
    " rospy.loginfo(\"Hello ROS!\")\n",
    "\n",
    " # Initialize the CvBridge class\n",
    " bridge = CvBridge()\n",
    "\n",
    " # Define a function to show the image in an OpenCV Window\n",
    " def show_image(img):\n",
    "     cv2.imshow(\"Image Window\", img)\n",
    "     cv2.waitKey(3)\n",
    "\n",
    " # Define a callback for the Image message\n",
    " def image_callback(img_msg):\n",
    "     # log some info about the image topic\n",
    "     rospy.loginfo(img_msg.header)\n",
    "\n",
    "     # Try to convert the ROS Image message to a CV2 Image\n",
    "     try:\n",
    "         cv_image = bridge.imgmsg_to_cv2(img_msg, \"passthrough\")\n",
    "        \n",
    "     except CvBridgeError:\n",
    "         rospy.logerr(\"CvBridge Error: {0}\".format(e))\n",
    "\n",
    "     # Show the converted image\n",
    "     show_image(cv_image)\n",
    "\n",
    " # Initalize a subscriber to the \"/camera/rgb/image_raw\" topic with the function \"image_callback\" as a callback\n",
    " sub_image = rospy.Subscriber(\"/camera/rgb/image_raw\", Image, image_callback)\n",
    "\n",
    " # Initialize an OpenCV Window named \"Image Window\"\n",
    " cv2.namedWindow(\"Image Window\", 1)\n",
    "\n",
    " # Loop to keep the program from shutting down unless ROS is shut down, or CTRL+C is pressed\n",
    " while not rospy.is_shutdown():\n",
    "     rospy.spin()"
   ]
  },
  {
   "cell_type": "code",
   "execution_count": 32,
   "metadata": {},
   "outputs": [],
   "source": [
    "force = [0.6, 0, 0.7]\n",
    "torque = [0, 70, 0]\n"
   ]
  },
  {
   "cell_type": "code",
   "execution_count": 12,
   "metadata": {},
   "outputs": [],
   "source": [
    "x = np.array(force)"
   ]
  },
  {
   "cell_type": "code",
   "execution_count": 7,
   "metadata": {},
   "outputs": [],
   "source": [
    "r = np.array([[np.cos(np.deg2rad(45)),-np.sin(np.deg2rad(45)),0],\n",
    "             [np.sin(np.deg2rad(45)),np.cos(np.deg2rad(45)),0],\n",
    "             [0,0,1]])"
   ]
  },
  {
   "cell_type": "code",
   "execution_count": 8,
   "metadata": {},
   "outputs": [
    {
     "data": {
      "text/plain": [
       "array([[0.70710678],\n",
       "       [0.70710678],\n",
       "       [0.        ]])"
      ]
     },
     "execution_count": 8,
     "metadata": {},
     "output_type": "execute_result"
    }
   ],
   "source": [
    "r@x"
   ]
  },
  {
   "cell_type": "code",
   "execution_count": 11,
   "metadata": {},
   "outputs": [
    {
     "data": {
      "text/plain": [
       "array([[1],\n",
       "       [0],\n",
       "       [0]])"
      ]
     },
     "execution_count": 11,
     "metadata": {},
     "output_type": "execute_result"
    }
   ],
   "source": [
    "x.reshape([3,1])"
   ]
  },
  {
   "cell_type": "code",
   "execution_count": 13,
   "metadata": {},
   "outputs": [],
   "source": [
    "F = np.array(force).reshape([3,1])\n",
    "T = np.array(torque).reshape([3,1])\n"
   ]
  },
  {
   "cell_type": "code",
   "execution_count": 14,
   "metadata": {},
   "outputs": [
    {
     "data": {
      "text/plain": [
       "array([[0.6],\n",
       "       [0. ],\n",
       "       [0.7]])"
      ]
     },
     "execution_count": 14,
     "metadata": {},
     "output_type": "execute_result"
    }
   ],
   "source": [
    "F"
   ]
  },
  {
   "cell_type": "code",
   "execution_count": 15,
   "metadata": {},
   "outputs": [
    {
     "ename": "NameError",
     "evalue": "name 'Y' is not defined",
     "output_type": "error",
     "traceback": [
      "\u001b[0;31m---------------------------------------------------------------------------\u001b[0m",
      "\u001b[0;31mNameError\u001b[0m                                 Traceback (most recent call last)",
      "\u001b[0;32m<ipython-input-15-c881daf1af41>\u001b[0m in \u001b[0;36m<module>\u001b[0;34m\u001b[0m\n\u001b[0;32m----> 1\u001b[0;31m \u001b[0mY\u001b[0m\u001b[0;34m\u001b[0m\u001b[0;34m\u001b[0m\u001b[0m\n\u001b[0m",
      "\u001b[0;31mNameError\u001b[0m: name 'Y' is not defined"
     ]
    }
   ],
   "source": [
    "Y"
   ]
  },
  {
   "cell_type": "code",
   "execution_count": 17,
   "metadata": {},
   "outputs": [],
   "source": [
    "F = r@(np.array(force).reshape([3,1]))"
   ]
  },
  {
   "cell_type": "code",
   "execution_count": 33,
   "metadata": {},
   "outputs": [],
   "source": [
    "a = F.reshape([1,3]).tolist(), T.reshape(1,3).tolist"
   ]
  },
  {
   "cell_type": "code",
   "execution_count": 21,
   "metadata": {},
   "outputs": [],
   "source": [
    "a = F.reshape([1,3])"
   ]
  },
  {
   "cell_type": "code",
   "execution_count": 34,
   "metadata": {},
   "outputs": [
    {
     "data": {
      "text/plain": [
       "([[0.4242640687119285, 0.42426406871192845, 0.7]], <function ndarray.tolist>)"
      ]
     },
     "execution_count": 34,
     "metadata": {},
     "output_type": "execute_result"
    }
   ],
   "source": [
    "a"
   ]
  },
  {
   "cell_type": "code",
   "execution_count": 35,
   "metadata": {},
   "outputs": [
    {
     "data": {
      "text/plain": [
       "[0.4242640687119285, 0.42426406871192845, 0.7]"
      ]
     },
     "execution_count": 35,
     "metadata": {},
     "output_type": "execute_result"
    }
   ],
   "source": [
    "a[0][0]"
   ]
  },
  {
   "cell_type": "code",
   "execution_count": 36,
   "metadata": {},
   "outputs": [
    {
     "data": {
      "text/plain": [
       "<function ndarray.tolist>"
      ]
     },
     "execution_count": 36,
     "metadata": {},
     "output_type": "execute_result"
    }
   ],
   "source": [
    "a[1]"
   ]
  },
  {
   "cell_type": "code",
   "execution_count": 26,
   "metadata": {},
   "outputs": [
    {
     "ename": "IndexError",
     "evalue": "tuple index out of range",
     "output_type": "error",
     "traceback": [
      "\u001b[0;31m---------------------------------------------------------------------------\u001b[0m",
      "\u001b[0;31mIndexError\u001b[0m                                Traceback (most recent call last)",
      "\u001b[0;32m<ipython-input-26-fc907be37984>\u001b[0m in \u001b[0;36m<module>\u001b[0;34m\u001b[0m\n\u001b[0;32m----> 1\u001b[0;31m \u001b[0ma\u001b[0m\u001b[0;34m[\u001b[0m\u001b[0;36m2\u001b[0m\u001b[0;34m]\u001b[0m\u001b[0;34m\u001b[0m\u001b[0;34m\u001b[0m\u001b[0m\n\u001b[0m",
      "\u001b[0;31mIndexError\u001b[0m: tuple index out of range"
     ]
    }
   ],
   "source": [
    "a[2]"
   ]
  },
  {
   "cell_type": "code",
   "execution_count": 31,
   "metadata": {},
   "outputs": [
    {
     "data": {
      "text/plain": [
       "0.7853981633974483"
      ]
     },
     "execution_count": 31,
     "metadata": {},
     "output_type": "execute_result"
    }
   ],
   "source": [
    "np.deg2rad(45)"
   ]
  },
  {
   "cell_type": "code",
   "execution_count": 38,
   "metadata": {},
   "outputs": [],
   "source": [
    "a = [0,0,-0.686,0.727]"
   ]
  },
  {
   "cell_type": "code",
   "execution_count": 40,
   "metadata": {},
   "outputs": [
    {
     "ename": "NameError",
     "evalue": "name 'quat2mat' is not defined",
     "output_type": "error",
     "traceback": [
      "\u001b[0;31m---------------------------------------------------------------------------\u001b[0m",
      "\u001b[0;31mNameError\u001b[0m                                 Traceback (most recent call last)",
      "\u001b[0;32m<ipython-input-40-f70293e22c7d>\u001b[0m in \u001b[0;36m<module>\u001b[0;34m\u001b[0m\n\u001b[0;32m----> 1\u001b[0;31m \u001b[0mM\u001b[0m \u001b[0;34m=\u001b[0m \u001b[0mquat2mat\u001b[0m\u001b[0;34m(\u001b[0m\u001b[0ma\u001b[0m\u001b[0;34m)\u001b[0m \u001b[0;31m# from this module\u001b[0m\u001b[0;34m\u001b[0m\u001b[0;34m\u001b[0m\u001b[0m\n\u001b[0m\u001b[1;32m      2\u001b[0m \u001b[0mvec\u001b[0m \u001b[0;34m=\u001b[0m \u001b[0mnp\u001b[0m\u001b[0;34m.\u001b[0m\u001b[0marray\u001b[0m\u001b[0;34m(\u001b[0m\u001b[0;34m[\u001b[0m\u001b[0;36m1\u001b[0m\u001b[0;34m,\u001b[0m \u001b[0;36m2\u001b[0m\u001b[0;34m,\u001b[0m \u001b[0;36m3\u001b[0m\u001b[0;34m]\u001b[0m\u001b[0;34m)\u001b[0m\u001b[0;34m.\u001b[0m\u001b[0mreshape\u001b[0m\u001b[0;34m(\u001b[0m\u001b[0;34m(\u001b[0m\u001b[0;36m3\u001b[0m\u001b[0;34m,\u001b[0m\u001b[0;36m1\u001b[0m\u001b[0;34m)\u001b[0m\u001b[0;34m)\u001b[0m \u001b[0;31m# column vector\u001b[0m\u001b[0;34m\u001b[0m\u001b[0;34m\u001b[0m\u001b[0m\n\u001b[1;32m      3\u001b[0m \u001b[0mtvec\u001b[0m \u001b[0;34m=\u001b[0m \u001b[0mnp\u001b[0m\u001b[0;34m.\u001b[0m\u001b[0mdot\u001b[0m\u001b[0;34m(\u001b[0m\u001b[0mM\u001b[0m\u001b[0;34m,\u001b[0m \u001b[0mvec\u001b[0m\u001b[0;34m)\u001b[0m\u001b[0;34m\u001b[0m\u001b[0;34m\u001b[0m\u001b[0m\n",
      "\u001b[0;31mNameError\u001b[0m: name 'quat2mat' is not defined"
     ]
    }
   ],
   "source": [
    "M = quat2mat(a) # from this module\n",
    "vec = np.array([1, 2, 3]).reshape((3,1)) # column vector\n",
    "tvec = np.dot(M, vec)"
   ]
  },
  {
   "cell_type": "code",
   "execution_count": 3,
   "metadata": {},
   "outputs": [
    {
     "data": {
      "text/plain": [
       "6.866666666666667"
      ]
     },
     "execution_count": 3,
     "metadata": {},
     "output_type": "execute_result"
    }
   ],
   "source": [
    "1/0.06 - 9.8"
   ]
  },
  {
   "cell_type": "code",
   "execution_count": 2,
   "metadata": {},
   "outputs": [
    {
     "data": {
      "text/plain": [
       "6.068666666666668"
      ]
     },
     "execution_count": 2,
     "metadata": {},
     "output_type": "execute_result"
    }
   ],
   "source": [
    "(37/0.06 - 9.8)*0.01"
   ]
  },
  {
   "cell_type": "code",
   "execution_count": 26,
   "metadata": {},
   "outputs": [
    {
     "data": {
      "text/plain": [
       "16.666666666666668"
      ]
     },
     "execution_count": 26,
     "metadata": {},
     "output_type": "execute_result"
    }
   ],
   "source": [
    "(100/0.06)*0.01"
   ]
  },
  {
   "cell_type": "code",
   "execution_count": 3,
   "metadata": {},
   "outputs": [
    {
     "data": {
      "text/plain": [
       "616.6666666666667"
      ]
     },
     "execution_count": 3,
     "metadata": {},
     "output_type": "execute_result"
    }
   ],
   "source": [
    "37/0.06"
   ]
  },
  {
   "cell_type": "code",
   "execution_count": 4,
   "metadata": {},
   "outputs": [
    {
     "data": {
      "text/plain": [
       "15.326386645018165"
      ]
     },
     "execution_count": 4,
     "metadata": {},
     "output_type": "execute_result"
    }
   ],
   "source": [
    "np.cos(np.deg2rad(20))*16.31"
   ]
  },
  {
   "cell_type": "code",
   "execution_count": 5,
   "metadata": {},
   "outputs": [
    {
     "data": {
      "text/plain": [
       "5.578348537641657"
      ]
     },
     "execution_count": 5,
     "metadata": {},
     "output_type": "execute_result"
    }
   ],
   "source": [
    "np.sin(np.deg2rad(20))*16.31"
   ]
  },
  {
   "cell_type": "code",
   "execution_count": 8,
   "metadata": {},
   "outputs": [
    {
     "data": {
      "text/plain": [
       "34.058091225849935"
      ]
     },
     "execution_count": 8,
     "metadata": {},
     "output_type": "execute_result"
    }
   ],
   "source": [
    "(5.578348537641657/0.01+9.8)*0.06"
   ]
  },
  {
   "cell_type": "code",
   "execution_count": 54,
   "metadata": {},
   "outputs": [],
   "source": [
    "def rotation_matrix(angle):\n",
    "\n",
    "    return np.array([[np.cos(angle),-np.sin(angle),0],\n",
    "             [np.sin(angle),np.cos(angle),0],\n",
    "             [0,0,1]])\n",
    "\n",
    "def get_wrench(force, torque, matrix):\n",
    "\n",
    "    F = matrix@(np.array(force).reshape([3,1]))\n",
    "    T = matrix@(np.array(torque).reshape([3,1]))\n",
    "    \n",
    "    F = F.reshape([1,3]).tolist()\n",
    "    T = T.reshape([1,3]).tolist()\n",
    "    \n",
    "    return F[0], T[0]"
   ]
  },
  {
   "cell_type": "code",
   "execution_count": 55,
   "metadata": {},
   "outputs": [],
   "source": [
    "position_x = -10\n",
    "position_y = 0\n",
    "ball_fly_time =1.2\n",
    "\n",
    "#x_target = (np.random.randint(6, 10) + np.random.rand())\n",
    "#y_target = (np.random.randint(-3, 3) + np.random.rand())\n",
    "\n",
    "x_target = 8.980462935295002\n",
    "y_target = -2.734974614280743\n",
    "\n",
    "x_error = x_target - position_x\n",
    "y_error = y_target - position_y\n",
    "\n",
    "yaw_z = np.tan(y_error/x_error)\n",
    "ror_matrix = rotation_matrix(yaw_z)\n",
    "\n",
    "s = np.sqrt(x_error**2 + y_error**2)\n",
    "vx0 = s/ball_fly_time\n",
    "vy0 = 9.8 * ball_fly_time/2\n",
    "\n",
    "v = np.sqrt(vx0**2 + vy0**2)\n",
    "launch_angle = np.arctan(vy0/vx0)\n",
    "\n",
    "force = [vx0 * 0.057 * 100, 0, vy0 * 0.057 *100]\n",
    "torque = [0, 10000, 0]\n",
    "\n",
    "force, torque = get_wrench(force, torque, ror_matrix)"
   ]
  },
  {
   "cell_type": "code",
   "execution_count": 56,
   "metadata": {},
   "outputs": [
    {
     "name": "stdout",
     "output_type": "stream",
     "text": [
      "x_target, y_target : 8.980462935295002 -2.734974614280743\n",
      "x_error, y_error : 18.980462935295 -2.734974614280743\n",
      "yaw_z : -8.313608157242417\n",
      "s : 19.176497578516976\n",
      "vx0 : 15.980414648764148\n",
      "vy0 : 5.88\n",
      "v : 17.027861061990016\n",
      "launch_angle : 20.201112331728556\n",
      "force : [90.13115920121886, -13.17057727589192, 33.516]\n"
     ]
    }
   ],
   "source": [
    "print(\"x_target, y_target :\",x_target,y_target)\n",
    "print(\"x_error, y_error :\",x_error,y_error)\n",
    "print(\"yaw_z :\",np.rad2deg(yaw_z))\n",
    "#print(\"ror_matrix :\")\n",
    "#print(ror_matrix)\n",
    "print(\"s :\",s)\n",
    "print(\"vx0 :\",vx0)\n",
    "print(\"vy0 :\",vy0)\n",
    "print(\"v :\",v)\n",
    "print(\"launch_angle :\",np.rad2deg(launch_angle))\n",
    "print(\"force :\",force)\n"
   ]
  },
  {
   "cell_type": "code",
   "execution_count": 57,
   "metadata": {},
   "outputs": [
    {
     "data": {
      "text/plain": [
       "18.97702436874511"
      ]
     },
     "execution_count": 57,
     "metadata": {},
     "output_type": "execute_result"
    }
   ],
   "source": [
    "15.814186973954259 * 1.2"
   ]
  },
  {
   "cell_type": "code",
   "execution_count": null,
   "metadata": {},
   "outputs": [],
   "source": []
  }
 ],
 "metadata": {
  "kernelspec": {
   "display_name": "Python 3",
   "language": "python",
   "name": "python3"
  },
  "language_info": {
   "codemirror_mode": {
    "name": "ipython",
    "version": 3
   },
   "file_extension": ".py",
   "mimetype": "text/x-python",
   "name": "python",
   "nbconvert_exporter": "python",
   "pygments_lexer": "ipython3",
   "version": "3.6.12"
  }
 },
 "nbformat": 4,
 "nbformat_minor": 4
}
