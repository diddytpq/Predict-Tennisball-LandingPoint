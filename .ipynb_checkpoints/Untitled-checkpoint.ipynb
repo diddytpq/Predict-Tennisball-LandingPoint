{
 "cells": [
  {
   "cell_type": "code",
   "execution_count": 1,
   "metadata": {},
   "outputs": [],
   "source": [
    "import rospy\n",
    "from sensor_msgs.msg import Image\n",
    "import cv2\n",
    "import numpy as np\n",
    "import math\n",
    "import pickle\n",
    "import sys\n",
    "from pathlib import Path\n",
    "\n",
    "from filterpy.kalman import KalmanFilter, UnscentedKalmanFilter, MerweScaledSigmaPoints\n",
    "from filterpy.common import Q_discrete_white_noise\n",
    "\n",
    "from collections import OrderedDict\n",
    "\n",
    "import matplotlib.pyplot as plt\n",
    "from mpl_toolkits.mplot3d import Axes3D\n",
    "\n",
    "from sympy import Symbol, solve\n",
    "\n",
    "\n",
    "import tensorflow as tf\n",
    "from tensorflow.keras.preprocessing import sequence\n",
    "\n"
   ]
  },
  {
   "cell_type": "code",
   "execution_count": null,
   "metadata": {},
   "outputs": [
    {
     "name": "stdout",
     "output_type": "stream",
     "text": [
      "[INFO] [1617877017.954327, 880.760000]: Hello ROS!\n"
     ]
    }
   ],
   "source": [
    " from cv_bridge import CvBridge, CvBridgeError\n",
    "\n",
    " # Print \"Hello ROS!\" to the Terminal and to a ROS Log file located in ~/.ros/log/loghash/*.log\n",
    " rospy.loginfo(\"Hello ROS!\")\n",
    "\n",
    " # Initialize the CvBridge class\n",
    " bridge = CvBridge()\n",
    "\n",
    " # Define a function to show the image in an OpenCV Window\n",
    " def show_image(img):\n",
    "     cv2.imshow(\"Image Window\", img)\n",
    "     cv2.waitKey(3)\n",
    "\n",
    " # Define a callback for the Image message\n",
    " def image_callback(img_msg):\n",
    "     # log some info about the image topic\n",
    "     rospy.loginfo(img_msg.header)\n",
    "\n",
    "     # Try to convert the ROS Image message to a CV2 Image\n",
    "     try:\n",
    "         cv_image = bridge.imgmsg_to_cv2(img_msg, \"passthrough\")\n",
    "        \n",
    "     except CvBridgeError:\n",
    "         rospy.logerr(\"CvBridge Error: {0}\".format(e))\n",
    "\n",
    "     # Show the converted image\n",
    "     show_image(cv_image)\n",
    "\n",
    " # Initalize a subscriber to the \"/camera/rgb/image_raw\" topic with the function \"image_callback\" as a callback\n",
    " sub_image = rospy.Subscriber(\"/camera/rgb/image_raw\", Image, image_callback)\n",
    "\n",
    " # Initialize an OpenCV Window named \"Image Window\"\n",
    " cv2.namedWindow(\"Image Window\", 1)\n",
    "\n",
    " # Loop to keep the program from shutting down unless ROS is shut down, or CTRL+C is pressed\n",
    " while not rospy.is_shutdown():\n",
    "     rospy.spin()"
   ]
  },
  {
   "cell_type": "code",
   "execution_count": 2,
   "metadata": {},
   "outputs": [],
   "source": [
    "def check_velocity(x_vel, y_vel):\n",
    "\n",
    "    if vel_forward < abs(x_vel):\n",
    "        if x_vel > 0: x_vel = vel_forward\n",
    "        else: x_vel = -vel_forward\n",
    "\n",
    "    if vel_lateral < abs(y_vel):\n",
    "        if y_vel > 0: y_vel = vel_lateral\n",
    "        else: y_vel = -vel_lateral"
   ]
  },
  {
   "cell_type": "code",
   "execution_count": 2,
   "metadata": {},
   "outputs": [
    {
     "ename": "NameError",
     "evalue": "name 'robot_x' is not defined",
     "output_type": "error",
     "traceback": [
      "\u001b[0;31m---------------------------------------------------------------------------\u001b[0m",
      "\u001b[0;31mNameError\u001b[0m                                 Traceback (most recent call last)",
      "\u001b[0;32m<ipython-input-2-7c534f203af7>\u001b[0m in \u001b[0;36m<module>\u001b[0;34m\u001b[0m\n\u001b[0;32m----> 1\u001b[0;31m \u001b[0mx_error\u001b[0m \u001b[0;34m=\u001b[0m \u001b[0mrobot_x\u001b[0m \u001b[0;34m-\u001b[0m \u001b[0;34m(\u001b[0m\u001b[0;36m10\u001b[0m\u001b[0;34m)\u001b[0m\u001b[0;34m\u001b[0m\u001b[0;34m\u001b[0m\u001b[0m\n\u001b[0m\u001b[1;32m      2\u001b[0m \u001b[0my_error\u001b[0m \u001b[0;34m=\u001b[0m \u001b[0mrobot_y\u001b[0m\u001b[0;34m\u001b[0m\u001b[0;34m\u001b[0m\u001b[0m\n\u001b[1;32m      3\u001b[0m \u001b[0;34m\u001b[0m\u001b[0m\n\u001b[1;32m      4\u001b[0m \u001b[0mvel_forward_apply\u001b[0m\u001b[0;34m,\u001b[0m \u001b[0mvel_lateral_apply\u001b[0m \u001b[0;34m=\u001b[0m \u001b[0mhome_mecanum\u001b[0m\u001b[0;34m.\u001b[0m\u001b[0mcheck_velocity\u001b[0m\u001b[0;34m(\u001b[0m\u001b[0mhome_mecanum\u001b[0m\u001b[0;34m.\u001b[0m\u001b[0mvel_forward\u001b[0m \u001b[0;34m*\u001b[0m \u001b[0;34m(\u001b[0m\u001b[0mx_error\u001b[0m\u001b[0;34m**\u001b[0m\u001b[0;36m2\u001b[0m\u001b[0;34m)\u001b[0m\u001b[0;34m,\u001b[0m \u001b[0mhome_mecanum\u001b[0m\u001b[0;34m.\u001b[0m\u001b[0mvel_lateral\u001b[0m \u001b[0;34m*\u001b[0m \u001b[0;34m(\u001b[0m\u001b[0my_error\u001b[0m\u001b[0;34m**\u001b[0m\u001b[0;36m2\u001b[0m\u001b[0;34m)\u001b[0m\u001b[0;34m)\u001b[0m\u001b[0;34m\u001b[0m\u001b[0;34m\u001b[0m\u001b[0m\n",
      "\u001b[0;31mNameError\u001b[0m: name 'robot_x' is not defined"
     ]
    }
   ],
   "source": [
    "x_error = robot_x - (10)\n",
    "y_error = robot_y\n",
    "\n",
    "vel_forward_apply, vel_lateral_apply = home_mecanum.check_velocity(home_mecanum.vel_forward * (x_error**2), home_mecanum.vel_lateral * (y_error**2))"
   ]
  },
  {
   "cell_type": "code",
   "execution_count": 5,
   "metadata": {},
   "outputs": [],
   "source": [
    "spawn_pos_z = 0.5\n",
    "ball_fly_time = 0.45\n",
    "vz0 = 9.8 * ball_fly_time"
   ]
  },
  {
   "cell_type": "code",
   "execution_count": 7,
   "metadata": {},
   "outputs": [
    {
     "data": {
      "text/plain": [
       "1.4922499999999999"
      ]
     },
     "execution_count": 7,
     "metadata": {},
     "output_type": "execute_result"
    }
   ],
   "source": [
    "h = spawn_pos_z + vz0 * ball_fly_time - (9.8 * ball_fly_time**2)/2\n",
    "h "
   ]
  },
  {
   "cell_type": "code",
   "execution_count": 66,
   "metadata": {},
   "outputs": [],
   "source": [
    "def rotation_matrix(angle):\n",
    "\n",
    "    return np.array([[np.cos(angle),-np.sin(angle),0],\n",
    "             [np.sin(angle),np.cos(angle),0],\n",
    "             [0,0,1]])\n",
    "\n",
    "def get_wrench(force, torque, matrix):\n",
    "\n",
    "    F = matrix@(np.array(force).reshape([3,1]))\n",
    "    T = matrix@(np.array(torque).reshape([3,1]))\n",
    "    \n",
    "    F = F.reshape([1,3]).tolist()\n",
    "    T = T.reshape([1,3]).tolist()\n",
    "\n",
    "\n",
    "    return F[0], T[0]"
   ]
  },
  {
   "cell_type": "code",
   "execution_count": 5,
   "metadata": {},
   "outputs": [
    {
     "data": {
      "text/plain": [
       "array([[ 0.92951967, -0.36877254,  0.        ],\n",
       "       [ 0.36877254,  0.92951967,  0.        ],\n",
       "       [ 0.        ,  0.        ,  1.        ]])"
      ]
     },
     "execution_count": 5,
     "metadata": {},
     "output_type": "execute_result"
    }
   ],
   "source": [
    "rotation_matrix(0.3776881459970161)"
   ]
  },
  {
   "cell_type": "code",
   "execution_count": 102,
   "metadata": {},
   "outputs": [],
   "source": [
    "class Make_mecanum_left():\n",
    "\n",
    "    def __init__(self):\n",
    "        self.vel_forward = 5.5 #m/s\n",
    "        self.vel_lateral = 2 #m/s\n",
    "        self.ball_fly_time = 0.45 #max height time [sec]\n",
    "        self.vel_forward_apply = 0\n",
    "        self.vel_lateral_apply = 0\n",
    "        \n",
    "        self.spawn_pos_z = 0.5\n",
    "        \n",
    "        self.torque = [0,20000,0]\n",
    "        self.delete_model_name = \"ball_right\"\n",
    "\n",
    "    def set_ball_target(self):\n",
    "        #self.x_target = (np.random.randint(6, 10) + np.random.rand())\n",
    "        #self.y_target = (np.random.randint(-3, 3) + np.random.rand())\n",
    "\n",
    "        self.x_target = 11\n",
    "        self.y_target = 4\n",
    "\n",
    "        self.x = -10.89\n",
    "        self.y = -3.9\n",
    "        \n",
    "        self.x_error = self.x_target - self.x\n",
    "        self.y_error = self.y_target - self.y\n",
    "        print(self.x_error, self.y_error)\n",
    "        self.s = np.sqrt(self.x_error**2 + self.y_error**2)\n",
    "\n",
    "    def throw_ball(self):\n",
    "\n",
    "        duration = 0.01\n",
    "\n",
    "        self.set_ball_target()\n",
    "\n",
    "        self.yaw_z = np.arctan(self.y_error/self.x_error)\n",
    "        self.ror_matrix = rotation_matrix(self.yaw_z)\n",
    "        vz0 = 9.8 * self.ball_fly_time\n",
    "\n",
    "        h =self.spawn_pos_z + vz0 * self.ball_fly_time - (9.8 * self.ball_fly_time**2)/2\n",
    "        self.ball_fly_time_plus = np.sqrt(2 * h / 9.8)\n",
    "        v0 = self.s/(self.ball_fly_time + self.ball_fly_time_plus)\n",
    "        print(v0)\n",
    "        self.v = np.sqrt(v0**2 + vz0**2)\n",
    "        self.launch_angle = np.arctan(vz0/v0)\n",
    "\n",
    "        self.force = [v0 * 0.057 * 100, 0, vz0 * 0.057 *100 ]\n",
    "\n",
    "        self.apply_force, self.apply_torque = get_wrench(self.force, self.torque, self.ror_matrix)\n",
    "\n"
   ]
  },
  {
   "cell_type": "code",
   "execution_count": 103,
   "metadata": {},
   "outputs": [],
   "source": [
    "x = Make_mecanum_left()"
   ]
  },
  {
   "cell_type": "code",
   "execution_count": 113,
   "metadata": {},
   "outputs": [
    {
     "name": "stdout",
     "output_type": "stream",
     "text": [
      "21.89 7.9\n",
      "23.228892719109222\n"
     ]
    }
   ],
   "source": [
    "x.throw_ball()"
   ]
  },
  {
   "cell_type": "code",
   "execution_count": 115,
   "metadata": {},
   "outputs": [
    {
     "data": {
      "text/plain": [
       "1.0018521689062485"
      ]
     },
     "execution_count": 115,
     "metadata": {},
     "output_type": "execute_result"
    }
   ],
   "source": [
    "x.ball_fly_time_plus + x.ball_fly_time"
   ]
  },
  {
   "cell_type": "code",
   "execution_count": 117,
   "metadata": {},
   "outputs": [
    {
     "data": {
      "text/plain": [
       "array([21.84953098, -7.88539492,  0.        ])"
      ]
     },
     "execution_count": 117,
     "metadata": {},
     "output_type": "execute_result"
    }
   ],
   "source": [
    "[23.228892719109222,0,0] @ x.ror_matrix"
   ]
  },
  {
   "cell_type": "code",
   "execution_count": 119,
   "metadata": {},
   "outputs": [
    {
     "data": {
      "text/plain": [
       "array([21.89, -7.9 ,  0.  ])"
      ]
     },
     "execution_count": 119,
     "metadata": {},
     "output_type": "execute_result"
    }
   ],
   "source": [
    "np.array([21.84953098, -7.88539492,  0.        ]) * (x.ball_fly_time_plus + x.ball_fly_time)"
   ]
  },
  {
   "cell_type": "code",
   "execution_count": 18,
   "metadata": {},
   "outputs": [],
   "source": [
    "vx1 = 14.98431004421108\n",
    "mu_s = 0.6\n",
    "ey = 0.79\n",
    "vy1 = -5.25\n",
    "R = 0.033\n",
    "R1 = 0.030\n",
    "w1 = 0\n",
    "vx2 = 9.956566531466533"
   ]
  },
  {
   "cell_type": "code",
   "execution_count": 22,
   "metadata": {},
   "outputs": [],
   "source": [
    "vx2 = vx1 + mu_s * (1 + ey) * vy1"
   ]
  },
  {
   "cell_type": "code",
   "execution_count": 15,
   "metadata": {},
   "outputs": [],
   "source": [
    "w2 = w1 -(1.5 * mu_s * R * (1 + ey) * vy1) / R1**2"
   ]
  },
  {
   "cell_type": "code",
   "execution_count": 16,
   "metadata": {},
   "outputs": [],
   "source": [
    "w2 = w1 -(1.5 * R * (vx2 - vx1)) / R1**2"
   ]
  },
  {
   "cell_type": "code",
   "execution_count": 21,
   "metadata": {},
   "outputs": [],
   "source": [
    "vx1 = 9.34581004421108\n",
    "mu_s = 0.6\n",
    "ey = 0.79\n",
    "vy1 = -4.1554\n",
    "R = 0.033\n",
    "R1 = 0.030\n",
    "w1 = 107.2322516621961\n"
   ]
  },
  {
   "cell_type": "code",
   "execution_count": 26,
   "metadata": {},
   "outputs": [
    {
     "data": {
      "text/plain": [
       "4.898600399999999"
      ]
     },
     "execution_count": 26,
     "metadata": {},
     "output_type": "execute_result"
    }
   ],
   "source": [
    "vx2 = vx1 + mu_s * (1 + ey) * vy1\n",
    "vx2"
   ]
  },
  {
   "cell_type": "code",
   "execution_count": 28,
   "metadata": {},
   "outputs": [
    {
     "data": {
      "text/plain": [
       "558.5304779999999"
      ]
     },
     "execution_count": 28,
     "metadata": {},
     "output_type": "execute_result"
    }
   ],
   "source": [
    "w2 = w1 -(1.5 * mu_s * R * (1 + ey) * vy1) / R1**2\n",
    "w2"
   ]
  },
  {
   "cell_type": "code",
   "execution_count": 37,
   "metadata": {},
   "outputs": [
    {
     "data": {
      "text/plain": [
       "0"
      ]
     },
     "execution_count": 37,
     "metadata": {},
     "output_type": "execute_result"
    }
   ],
   "source": [
    "robot = [[190, 175, 235, 205], [361, 492, 404, 523]]\n",
    "ball = [[334, 479, 358, 503], [361, 492, 404, 519]]\n",
    "\n",
    "\n"
   ]
  },
  {
   "cell_type": "code",
   "execution_count": 34,
   "metadata": {},
   "outputs": [],
   "source": [
    "def check_iou(robot_box, ball_cand_box):\n",
    "    no_ball_box = []\n",
    "\n",
    "    for i in range(len(robot_box)):\n",
    "        for j in range(len(ball_cand_box)):\n",
    "            print(robot_box[i], ball_cand_box[j])\n",
    "            print(iou(robot_box[i], ball_cand_box[j]))\n",
    "            if iou(robot_box[i], ball_cand_box[j]):\n",
    "                no_ball_box.append(ball_cand_box[j])\n",
    "                print(1)\n",
    "            else:\n",
    "                pass\n",
    "    for i in no_ball_box:\n",
    "        del ball_cand_box[ball_cand_box.index(i)]\n",
    "                          \n",
    "    return ball_cand_box\n",
    "\n",
    "def iou(box_0, box_1):\n",
    "    b0x_0, b0y_0, b0x_1 ,b0y_1 = box_0\n",
    "    b1x_0, b1y_0, b1x_1 ,b1y_1 = box_1\n",
    "\n",
    "    min_x = np.argmin([b0x_0,b1x_0])\n",
    "    min_y = np.argmin([b0y_0,b1y_0])\n",
    "\n",
    "    if min_x == 0 and min_y == 0:\n",
    "        if ((b0x_0 < b1x_0 < b0x_1) or (b0x_0 < b1x_1 < b0x_1)) and ((b0y_0 < b1y_0 < b0y_1) or (b0y_0 < b1y_1 < b0y_1)):\n",
    "            return True\n",
    "    if min_x == 0 and min_y == 1:\n",
    "        if ((b0x_0 < b1x_0 < b0x_1) or (b0x_0 < b1x_1 < b0x_1)) and ((b1y_0 < b0y_0 < b1y_1) or (b1y_0 < b0y_1 < b1y_1)):\n",
    "            return True\n",
    "    if min_x == 1 and min_y == 0:\n",
    "        if ((b1x_0 < b0x_0 < b1x_1) or (b1x_0 < b0x_1 < b1x_1)) and ((b0y_0 < b1y_0 < b0y_1) or (b0y_0 < b1y_1 < b0y_1)):\n",
    "            return True\n",
    "    if min_x == 1 and min_y == 1:\n",
    "        if ((b1x_0 < b0x_0 < b1x_1) or (b1x_0 < b0x_1 < b1x_1) ) and ((b1y_0 < b0y_0 < b1y_1) or (b1y_0 < b0y_1 < b1y_1) ):\n",
    "            return True\n",
    "\n",
    "    return False\n",
    "\n"
   ]
  },
  {
   "cell_type": "code",
   "execution_count": 35,
   "metadata": {
    "scrolled": true
   },
   "outputs": [
    {
     "name": "stdout",
     "output_type": "stream",
     "text": [
      "[216, 178, 250, 199] [521, 137, 544, 160]\n",
      "False\n",
      "[216, 178, 250, 199] [227, 176, 242, 191]\n",
      "True\n",
      "1\n",
      "[416, 499, 452, 521] [521, 137, 544, 160]\n",
      "False\n",
      "[416, 499, 452, 521] [227, 176, 242, 191]\n",
      "False\n"
     ]
    },
    {
     "data": {
      "text/plain": [
       "[[521, 137, 544, 160]]"
      ]
     },
     "execution_count": 35,
     "metadata": {},
     "output_type": "execute_result"
    }
   ],
   "source": [
    "check_iou(robot, ball)"
   ]
  },
  {
   "cell_type": "code",
   "execution_count": 45,
   "metadata": {},
   "outputs": [],
   "source": [
    "ball_centroid_list = [[100,123],[423, 321]]\n"
   ]
  },
  {
   "cell_type": "code",
   "execution_count": 46,
   "metadata": {},
   "outputs": [
    {
     "data": {
      "text/plain": [
       "[100, 123]"
      ]
     },
     "execution_count": 46,
     "metadata": {},
     "output_type": "execute_result"
    }
   ],
   "source": [
    "ball_centroid_list[0]"
   ]
  },
  {
   "cell_type": "code",
   "execution_count": 41,
   "metadata": {},
   "outputs": [
    {
     "data": {
      "text/plain": [
       "True"
      ]
     },
     "execution_count": 41,
     "metadata": {},
     "output_type": "execute_result"
    }
   ],
   "source": [
    "max(ball_centroid_list) > [1, 0]"
   ]
  },
  {
   "cell_type": "code",
   "execution_count": 42,
   "metadata": {},
   "outputs": [
    {
     "data": {
      "text/plain": [
       "[423, 321]"
      ]
     },
     "execution_count": 42,
     "metadata": {},
     "output_type": "execute_result"
    }
   ],
   "source": [
    "max(ball_centroid_list)"
   ]
  },
  {
   "cell_type": "code",
   "execution_count": 52,
   "metadata": {},
   "outputs": [
    {
     "data": {
      "text/plain": [
       "array([0.15625  , 0.1921875, 0.6609375, 0.5015625])"
      ]
     },
     "execution_count": 52,
     "metadata": {},
     "output_type": "execute_result"
    }
   ],
   "source": [
    "np.array(ball_centroid_list[0] + ball_centroid_list[1])/640"
   ]
  },
  {
   "cell_type": "code",
   "execution_count": 21,
   "metadata": {},
   "outputs": [],
   "source": [
    "npy_array = np.load(file=\"src/yolov5/npy_test.npy\")"
   ]
  },
  {
   "cell_type": "code",
   "execution_count": 22,
   "metadata": {},
   "outputs": [
    {
     "data": {
      "text/plain": [
       "(1227, 20, 4)"
      ]
     },
     "execution_count": 22,
     "metadata": {},
     "output_type": "execute_result"
    }
   ],
   "source": [
    "npy_array.shape\n"
   ]
  },
  {
   "cell_type": "code",
   "execution_count": 18,
   "metadata": {
    "collapsed": true
   },
   "outputs": [
    {
     "data": {
      "text/plain": [
       "array([[[  0. ,   0. ,   0. ,   0. ],\n",
       "        [  0. ,   0. ,   0. ,   0. ],\n",
       "        [  0. ,   0. ,   0. ,   0. ],\n",
       "        [  0. ,   0. ,   0. ,   0. ],\n",
       "        [  0. ,   0. ,   0. ,   0. ],\n",
       "        [  0. ,   0. ,   0. ,   0. ],\n",
       "        [  0. ,   0. ,   0. ,   0. ],\n",
       "        [  0. ,   0. ,   0. ,   0. ],\n",
       "        [  0. ,   0. ,   0. ,   0. ],\n",
       "        [  0. ,   0. ,   0. ,   0. ],\n",
       "        [  0. ,   0. ,   0. ,   0. ],\n",
       "        [  0. ,   0. ,   0. ,   0. ],\n",
       "        [  0. ,   0. ,   0. ,   0. ],\n",
       "        [  0. ,   0. ,   0. ,   0. ],\n",
       "        [  0. ,   0. ,   0. ,   0. ],\n",
       "        [  0. ,   0. ,   0. ,   0. ],\n",
       "        [  0. ,   0. ,   0. ,   0. ],\n",
       "        [  0. ,   0. ,   0. ,   0. ],\n",
       "        [  0. ,   0. ,   0. ,   0. ],\n",
       "        [  0. ,   0. , 562.5, 580. ]],\n",
       "\n",
       "       [[  0. ,   0. ,   0. ,   0. ],\n",
       "        [  0. ,   0. ,   0. ,   0. ],\n",
       "        [  0. ,   0. ,   0. ,   0. ],\n",
       "        [  0. ,   0. ,   0. ,   0. ],\n",
       "        [  0. ,   0. ,   0. ,   0. ],\n",
       "        [  0. ,   0. ,   0. ,   0. ],\n",
       "        [  0. ,   0. ,   0. ,   0. ],\n",
       "        [  0. ,   0. ,   0. ,   0. ],\n",
       "        [  0. ,   0. ,   0. ,   0. ],\n",
       "        [  0. ,   0. ,   0. ,   0. ],\n",
       "        [  0. ,   0. ,   0. ,   0. ],\n",
       "        [  0. ,   0. ,   0. ,   0. ],\n",
       "        [  0. ,   0. ,   0. ,   0. ],\n",
       "        [  0. ,   0. ,   0. ,   0. ],\n",
       "        [  0. ,   0. ,   0. ,   0. ],\n",
       "        [  0. ,   0. ,   0. ,   0. ],\n",
       "        [  0. ,   0. ,   0. ,   0. ],\n",
       "        [  0. ,   0. ,   0. ,   0. ],\n",
       "        [  0. ,   0. ,   0. ,   0. ],\n",
       "        [  0. ,   0. , 495. , 515. ]],\n",
       "\n",
       "       [[  0. ,   0. ,   0. ,   0. ],\n",
       "        [  0. ,   0. ,   0. ,   0. ],\n",
       "        [  0. ,   0. ,   0. ,   0. ],\n",
       "        [  0. ,   0. ,   0. ,   0. ],\n",
       "        [  0. ,   0. ,   0. ,   0. ],\n",
       "        [  0. ,   0. ,   0. ,   0. ],\n",
       "        [  0. ,   0. ,   0. ,   0. ],\n",
       "        [  0. ,   0. ,   0. ,   0. ],\n",
       "        [  0. ,   0. ,   0. ,   0. ],\n",
       "        [  0. ,   0. ,   0. ,   0. ],\n",
       "        [  0. ,   0. ,   0. ,   0. ],\n",
       "        [  0. ,   0. ,   0. ,   0. ],\n",
       "        [  0. ,   0. ,   0. ,   0. ],\n",
       "        [  0. ,   0. ,   0. ,   0. ],\n",
       "        [  0. ,   0. ,   0. ,   0. ],\n",
       "        [  0. ,   0. ,   0. ,   0. ],\n",
       "        [  0. ,   0. ,   0. ,   0. ],\n",
       "        [  0. ,   0. ,   0. ,   0. ],\n",
       "        [  0. ,   0. , 495. , 515. ],\n",
       "        [211. , 230. , 485. , 507. ]],\n",
       "\n",
       "       [[  0. ,   0. ,   0. ,   0. ],\n",
       "        [  0. ,   0. ,   0. ,   0. ],\n",
       "        [  0. ,   0. ,   0. ,   0. ],\n",
       "        [  0. ,   0. ,   0. ,   0. ],\n",
       "        [  0. ,   0. ,   0. ,   0. ],\n",
       "        [  0. ,   0. ,   0. ,   0. ],\n",
       "        [  0. ,   0. ,   0. ,   0. ],\n",
       "        [  0. ,   0. ,   0. ,   0. ],\n",
       "        [  0. ,   0. ,   0. ,   0. ],\n",
       "        [  0. ,   0. ,   0. ,   0. ],\n",
       "        [  0. ,   0. ,   0. ,   0. ],\n",
       "        [  0. ,   0. ,   0. ,   0. ],\n",
       "        [  0. ,   0. ,   0. ,   0. ],\n",
       "        [  0. ,   0. ,   0. ,   0. ],\n",
       "        [  0. ,   0. ,   0. ,   0. ],\n",
       "        [  0. ,   0. ,   0. ,   0. ],\n",
       "        [  0. ,   0. ,   0. ,   0. ],\n",
       "        [  0. ,   0. , 495. , 515. ],\n",
       "        [211. , 230. , 485. , 507. ],\n",
       "        [213.5, 232.5, 476. , 497.5]],\n",
       "\n",
       "       [[  0. ,   0. ,   0. ,   0. ],\n",
       "        [  0. ,   0. ,   0. ,   0. ],\n",
       "        [  0. ,   0. ,   0. ,   0. ],\n",
       "        [  0. ,   0. ,   0. ,   0. ],\n",
       "        [  0. ,   0. ,   0. ,   0. ],\n",
       "        [  0. ,   0. ,   0. ,   0. ],\n",
       "        [  0. ,   0. ,   0. ,   0. ],\n",
       "        [  0. ,   0. ,   0. ,   0. ],\n",
       "        [  0. ,   0. ,   0. ,   0. ],\n",
       "        [  0. ,   0. ,   0. ,   0. ],\n",
       "        [  0. ,   0. ,   0. ,   0. ],\n",
       "        [  0. ,   0. ,   0. ,   0. ],\n",
       "        [  0. ,   0. ,   0. ,   0. ],\n",
       "        [  0. ,   0. ,   0. ,   0. ],\n",
       "        [  0. ,   0. ,   0. ,   0. ],\n",
       "        [  0. ,   0. ,   0. ,   0. ],\n",
       "        [  0. ,   0. , 495. , 515. ],\n",
       "        [211. , 230. , 485. , 507. ],\n",
       "        [213.5, 232.5, 476. , 497.5],\n",
       "        [216.5, 236.5, 463. , 485. ]],\n",
       "\n",
       "       [[  0. ,   0. ,   0. ,   0. ],\n",
       "        [  0. ,   0. ,   0. ,   0. ],\n",
       "        [  0. ,   0. ,   0. ,   0. ],\n",
       "        [  0. ,   0. ,   0. ,   0. ],\n",
       "        [  0. ,   0. ,   0. ,   0. ],\n",
       "        [  0. ,   0. ,   0. ,   0. ],\n",
       "        [  0. ,   0. ,   0. ,   0. ],\n",
       "        [  0. ,   0. ,   0. ,   0. ],\n",
       "        [  0. ,   0. ,   0. ,   0. ],\n",
       "        [  0. ,   0. ,   0. ,   0. ],\n",
       "        [  0. ,   0. ,   0. ,   0. ],\n",
       "        [  0. ,   0. ,   0. ,   0. ],\n",
       "        [  0. ,   0. ,   0. ,   0. ],\n",
       "        [  0. ,   0. ,   0. ,   0. ],\n",
       "        [  0. ,   0. ,   0. ,   0. ],\n",
       "        [  0. ,   0. , 495. , 515. ],\n",
       "        [211. , 230. , 485. , 507. ],\n",
       "        [213.5, 232.5, 476. , 497.5],\n",
       "        [216.5, 236.5, 463. , 485. ],\n",
       "        [220. , 240.5, 452.5, 474. ]],\n",
       "\n",
       "       [[  0. ,   0. ,   0. ,   0. ],\n",
       "        [  0. ,   0. ,   0. ,   0. ],\n",
       "        [  0. ,   0. ,   0. ,   0. ],\n",
       "        [  0. ,   0. ,   0. ,   0. ],\n",
       "        [  0. ,   0. ,   0. ,   0. ],\n",
       "        [  0. ,   0. ,   0. ,   0. ],\n",
       "        [  0. ,   0. ,   0. ,   0. ],\n",
       "        [  0. ,   0. ,   0. ,   0. ],\n",
       "        [  0. ,   0. ,   0. ,   0. ],\n",
       "        [  0. ,   0. ,   0. ,   0. ],\n",
       "        [  0. ,   0. ,   0. ,   0. ],\n",
       "        [  0. ,   0. ,   0. ,   0. ],\n",
       "        [  0. ,   0. ,   0. ,   0. ],\n",
       "        [  0. ,   0. ,   0. ,   0. ],\n",
       "        [  0. ,   0. , 495. , 515. ],\n",
       "        [211. , 230. , 485. , 507. ],\n",
       "        [213.5, 232.5, 476. , 497.5],\n",
       "        [216.5, 236.5, 463. , 485. ],\n",
       "        [220. , 240.5, 452.5, 474. ],\n",
       "        [224. , 244. , 441.5, 463.5]],\n",
       "\n",
       "       [[  0. ,   0. ,   0. ,   0. ],\n",
       "        [  0. ,   0. ,   0. ,   0. ],\n",
       "        [  0. ,   0. ,   0. ,   0. ],\n",
       "        [  0. ,   0. ,   0. ,   0. ],\n",
       "        [  0. ,   0. ,   0. ,   0. ],\n",
       "        [  0. ,   0. ,   0. ,   0. ],\n",
       "        [  0. ,   0. ,   0. ,   0. ],\n",
       "        [  0. ,   0. ,   0. ,   0. ],\n",
       "        [  0. ,   0. ,   0. ,   0. ],\n",
       "        [  0. ,   0. ,   0. ,   0. ],\n",
       "        [  0. ,   0. ,   0. ,   0. ],\n",
       "        [  0. ,   0. ,   0. ,   0. ],\n",
       "        [  0. ,   0. ,   0. ,   0. ],\n",
       "        [  0. ,   0. , 495. , 515. ],\n",
       "        [211. , 230. , 485. , 507. ],\n",
       "        [213.5, 232.5, 476. , 497.5],\n",
       "        [216.5, 236.5, 463. , 485. ],\n",
       "        [220. , 240.5, 452.5, 474. ],\n",
       "        [224. , 244. , 441.5, 463.5],\n",
       "        [229.5, 250.5, 426. , 448.5]],\n",
       "\n",
       "       [[  0. ,   0. ,   0. ,   0. ],\n",
       "        [  0. ,   0. ,   0. ,   0. ],\n",
       "        [  0. ,   0. ,   0. ,   0. ],\n",
       "        [  0. ,   0. ,   0. ,   0. ],\n",
       "        [  0. ,   0. ,   0. ,   0. ],\n",
       "        [  0. ,   0. ,   0. ,   0. ],\n",
       "        [  0. ,   0. ,   0. ,   0. ],\n",
       "        [  0. ,   0. ,   0. ,   0. ],\n",
       "        [  0. ,   0. ,   0. ,   0. ],\n",
       "        [  0. ,   0. ,   0. ,   0. ],\n",
       "        [  0. ,   0. ,   0. ,   0. ],\n",
       "        [  0. ,   0. ,   0. ,   0. ],\n",
       "        [  0. ,   0. , 495. , 515. ],\n",
       "        [211. , 230. , 485. , 507. ],\n",
       "        [213.5, 232.5, 476. , 497.5],\n",
       "        [216.5, 236.5, 463. , 485. ],\n",
       "        [220. , 240.5, 452.5, 474. ],\n",
       "        [224. , 244. , 441.5, 463.5],\n",
       "        [229.5, 250.5, 426. , 448.5],\n",
       "        [235. , 256. , 413.5, 436. ]],\n",
       "\n",
       "       [[  0. ,   0. ,   0. ,   0. ],\n",
       "        [  0. ,   0. ,   0. ,   0. ],\n",
       "        [  0. ,   0. ,   0. ,   0. ],\n",
       "        [  0. ,   0. ,   0. ,   0. ],\n",
       "        [  0. ,   0. ,   0. ,   0. ],\n",
       "        [  0. ,   0. ,   0. ,   0. ],\n",
       "        [  0. ,   0. ,   0. ,   0. ],\n",
       "        [  0. ,   0. ,   0. ,   0. ],\n",
       "        [  0. ,   0. ,   0. ,   0. ],\n",
       "        [  0. ,   0. ,   0. ,   0. ],\n",
       "        [  0. ,   0. ,   0. ,   0. ],\n",
       "        [  0. ,   0. , 495. , 515. ],\n",
       "        [211. , 230. , 485. , 507. ],\n",
       "        [213.5, 232.5, 476. , 497.5],\n",
       "        [216.5, 236.5, 463. , 485. ],\n",
       "        [220. , 240.5, 452.5, 474. ],\n",
       "        [224. , 244. , 441.5, 463.5],\n",
       "        [229.5, 250.5, 426. , 448.5],\n",
       "        [235. , 256. , 413.5, 436. ],\n",
       "        [242.5, 264.5, 395. , 418. ]]])"
      ]
     },
     "execution_count": 18,
     "metadata": {},
     "output_type": "execute_result"
    }
   ],
   "source": [
    "npy_array[:10]"
   ]
  },
  {
   "cell_type": "code",
   "execution_count": 16,
   "metadata": {},
   "outputs": [],
   "source": [
    "s = 18.6\n",
    "v0 = 200\n",
    "h = 2\n",
    "angle = np.arctan(h/s)"
   ]
  },
  {
   "cell_type": "code",
   "execution_count": 345,
   "metadata": {},
   "outputs": [],
   "source": [
    "ball_trajectory_list = []\n",
    "ball_point_data = []\n",
    "save_data = []\n",
    "seq_cnt = 0\n",
    "trajectroy_cnt = 0"
   ]
  },
  {
   "cell_type": "code",
   "execution_count": 380,
   "metadata": {},
   "outputs": [],
   "source": [
    "ball_centroid_list = [[0, 0],[0, 0]]\n"
   ]
  },
  {
   "cell_type": "code",
   "execution_count": 381,
   "metadata": {
    "scrolled": false
   },
   "outputs": [
    {
     "name": "stdout",
     "output_type": "stream",
     "text": [
      "2\n",
      "[[[[1, 0, 0, 0]], [[1, 0, 0, 0], [1, 0, 0, 0]], [[1, 0, 0, 0], [1, 0, 0, 0], [1, 0, 0, 0]], [[1, 0, 0, 0], [1, 0, 0, 0], [1, 0, 0, 0], [1, 0, 0, 0]], [[1, 0, 0, 0], [1, 0, 0, 0], [1, 0, 0, 0], [1, 0, 0, 0], [1, 0, 0, 0]], [[1, 0, 0, 0], [1, 0, 0, 0], [1, 0, 0, 0], [1, 0, 0, 0], [1, 0, 0, 0], [1, 0, 0, 0]], [[1, 0, 0, 0], [1, 0, 0, 0], [1, 0, 0, 0], [1, 0, 0, 0], [1, 0, 0, 0], [1, 0, 0, 0], [1, 0, 0, 0]]], [[[2, 0, 0, 0]], [[2, 0, 0, 0], [2, 0, 0, 0]], [[2, 0, 0, 0], [2, 0, 0, 0], [2, 0, 0, 0]], [[2, 0, 0, 0], [2, 0, 0, 0], [2, 0, 0, 0], [2, 0, 0, 0]], [[2, 0, 0, 0], [2, 0, 0, 0], [2, 0, 0, 0], [2, 0, 0, 0], [2, 0, 0, 0]], [[2, 0, 0, 0], [2, 0, 0, 0], [2, 0, 0, 0], [2, 0, 0, 0], [2, 0, 0, 0], [2, 0, 0, 0]], [[2, 0, 0, 0], [2, 0, 0, 0], [2, 0, 0, 0], [2, 0, 0, 0], [2, 0, 0, 0], [2, 0, 0, 0], [2, 0, 0, 0]], [[2, 0, 0, 0], [2, 0, 0, 0], [2, 0, 0, 0], [2, 0, 0, 0], [2, 0, 0, 0], [2, 0, 0, 0], [2, 0, 0, 0], [2, 0, 0, 0]], [[2, 0, 0, 0], [2, 0, 0, 0], [2, 0, 0, 0], [2, 0, 0, 0], [2, 0, 0, 0], [2, 0, 0, 0], [2, 0, 0, 0], [2, 0, 0, 0], [2, 0, 0, 0]], [[2, 0, 0, 0], [2, 0, 0, 0], [2, 0, 0, 0], [2, 0, 0, 0], [2, 0, 0, 0], [2, 0, 0, 0], [2, 0, 0, 0], [2, 0, 0, 0], [2, 0, 0, 0], [2, 0, 0, 0]]]]\n",
      "trajectroy_cnt : 2\n",
      "seq_cnt:  10\n"
     ]
    }
   ],
   "source": [
    "if (max(ball_centroid_list) == [0,0] or max(ball_centroid_list) > [640, 640]) and len(ball_trajectory_list) == 0: #공 검출되지 않은 경우 패스\n",
    "    print(1)\n",
    "    pass\n",
    "\n",
    "elif (max(ball_centroid_list) == [0,0] or max(ball_centroid_list) > [640, 640]) :\n",
    "    print(2)\n",
    "    ball_trajectory_list.clear()\n",
    "\n",
    "    if seq_cnt < 5: #만약 로봇을 공으로 볼 경우 save data에서 마지막 항 빼고 파라미터 초기화\n",
    "        print(\"cancel\")\n",
    "        seq_cnt = 0\n",
    "        ball_point_data.clear()\n",
    "\n",
    "    else:\n",
    "        trajectroy_cnt += 1\n",
    "        #ff.write(str(seq_cnt) + \",\")\n",
    "        ball_point_data.copy()\n",
    "        save_data.append(ball_point_data.copy())\n",
    "        print(save_data)\n",
    "        print(\"trajectroy_cnt :\",trajectroy_cnt)\n",
    "        print(\"seq_cnt: \",seq_cnt)\n",
    "        seq_cnt = 0\n",
    "        ball_point_data.clear()\n",
    "        \n",
    "\n",
    "else:\n",
    "    print(3)\n",
    "    ball_point = (ball_centroid_list[0] + ball_centroid_list[1])\n",
    "    ball_trajectory_list.append(ball_point)\n",
    "    ball_point_data.append(ball_trajectory_list.copy())\n",
    "    seq_cnt += 1\n",
    "    \n",
    "    print(ball_point_data)"
   ]
  },
  {
   "cell_type": "code",
   "execution_count": 402,
   "metadata": {},
   "outputs": [
    {
     "ename": "NameError",
     "evalue": "name 'self' is not defined",
     "output_type": "error",
     "traceback": [
      "\u001b[0;31m---------------------------------------------------------------------------\u001b[0m",
      "\u001b[0;31mNameError\u001b[0m                                 Traceback (most recent call last)",
      "\u001b[0;32m<ipython-input-402-fad9309d9fb1>\u001b[0m in \u001b[0;36m<module>\u001b[0;34m\u001b[0m\n\u001b[0;32m----> 1\u001b[0;31m \u001b[0;32mif\u001b[0m \u001b[0;34m(\u001b[0m\u001b[0mmax\u001b[0m\u001b[0;34m(\u001b[0m\u001b[0mself\u001b[0m\u001b[0;34m.\u001b[0m\u001b[0mball_centroid_list\u001b[0m\u001b[0;34m)\u001b[0m \u001b[0;34m==\u001b[0m \u001b[0;34m[\u001b[0m\u001b[0;36m0\u001b[0m\u001b[0;34m,\u001b[0m\u001b[0;36m0\u001b[0m\u001b[0;34m]\u001b[0m \u001b[0;32mor\u001b[0m \u001b[0mmax\u001b[0m\u001b[0;34m(\u001b[0m\u001b[0mself\u001b[0m\u001b[0;34m.\u001b[0m\u001b[0mball_centroid_list\u001b[0m\u001b[0;34m)\u001b[0m \u001b[0;34m>\u001b[0m \u001b[0;34m[\u001b[0m\u001b[0;36m640\u001b[0m\u001b[0;34m,\u001b[0m \u001b[0;36m640\u001b[0m\u001b[0;34m]\u001b[0m\u001b[0;34m)\u001b[0m \u001b[0;32mand\u001b[0m \u001b[0mlen\u001b[0m\u001b[0;34m(\u001b[0m\u001b[0mball_trajectory_list\u001b[0m\u001b[0;34m)\u001b[0m \u001b[0;34m==\u001b[0m \u001b[0;36m0\u001b[0m\u001b[0;34m:\u001b[0m \u001b[0;31m#공 검출되지 않은 경우 패스\u001b[0m\u001b[0;34m\u001b[0m\u001b[0;34m\u001b[0m\u001b[0m\n\u001b[0m\u001b[1;32m      2\u001b[0m     \u001b[0;32mpass\u001b[0m\u001b[0;34m\u001b[0m\u001b[0;34m\u001b[0m\u001b[0m\n\u001b[1;32m      3\u001b[0m \u001b[0;34m\u001b[0m\u001b[0m\n\u001b[1;32m      4\u001b[0m \u001b[0;32melif\u001b[0m \u001b[0;34m(\u001b[0m\u001b[0mmax\u001b[0m\u001b[0;34m(\u001b[0m\u001b[0mself\u001b[0m\u001b[0;34m.\u001b[0m\u001b[0mball_centroid_list\u001b[0m\u001b[0;34m)\u001b[0m \u001b[0;34m==\u001b[0m \u001b[0;34m[\u001b[0m\u001b[0;36m0\u001b[0m\u001b[0;34m,\u001b[0m\u001b[0;36m0\u001b[0m\u001b[0;34m]\u001b[0m \u001b[0;32mor\u001b[0m \u001b[0mmax\u001b[0m\u001b[0;34m(\u001b[0m\u001b[0mself\u001b[0m\u001b[0;34m.\u001b[0m\u001b[0mball_centroid_list\u001b[0m\u001b[0;34m)\u001b[0m \u001b[0;34m>\u001b[0m \u001b[0;34m[\u001b[0m\u001b[0;36m640\u001b[0m\u001b[0;34m,\u001b[0m \u001b[0;36m640\u001b[0m\u001b[0;34m]\u001b[0m\u001b[0;34m)\u001b[0m \u001b[0;34m:\u001b[0m\u001b[0;34m\u001b[0m\u001b[0;34m\u001b[0m\u001b[0m\n\u001b[1;32m      5\u001b[0m     \u001b[0mball_trajectory_list\u001b[0m\u001b[0;34m.\u001b[0m\u001b[0mclear\u001b[0m\u001b[0;34m(\u001b[0m\u001b[0;34m)\u001b[0m\u001b[0;34m\u001b[0m\u001b[0;34m\u001b[0m\u001b[0m\n",
      "\u001b[0;31mNameError\u001b[0m: name 'self' is not defined"
     ]
    }
   ],
   "source": [
    "######### 데이터 저장 하는 방법 2 backup\n",
    "\n",
    "\n",
    "if (max(self.ball_centroid_list) == [0,0] or max(self.ball_centroid_list) > [640, 640]) and len(ball_trajectory_list) == 0: #공 검출되지 않은 경우 패스\n",
    "                    pass\n",
    "\n",
    "                elif (max(self.ball_centroid_list) == [0,0] or max(self.ball_centroid_list) > [640, 640]) :\n",
    "                    ball_trajectory_list.clear()\n",
    "\n",
    "                    if seq_cnt < 5: #만약 로봇을 공으로 볼 경우 save data에서 마지막 항 빼고 파라미터 초기화\n",
    "                        seq_cnt = 0\n",
    "                        ball_point_data.clear()\n",
    "\n",
    "                    else:\n",
    "                        trajectroy_cnt += 1\n",
    "                        ball_point_data.copy()\n",
    "                        save_data.append(ball_point_data.copy())\n",
    "\n",
    "                        ball_point_data.clear()\n",
    "\n",
    "                        print(\"trajectroy_cnt :\",trajectroy_cnt)\n",
    "                        print(\"seq_cnt: \",seq_cnt)\n",
    "                        seq_cnt = 0\n",
    "\n",
    "                else:\n",
    "                #elif max(self.ball_centroid_list) > [0,0]:\n",
    "                    ball_point = (self.ball_centroid_list[0] + self.ball_centroid_list[1])\n",
    "                    ball_trajectory_list.append(ball_point)\n",
    "                    ball_point_data.append(ball_trajectory_list.copy())\n",
    "                    seq_cnt += 1"
   ]
  },
  {
   "cell_type": "code",
   "execution_count": 405,
   "metadata": {},
   "outputs": [
    {
     "data": {
      "text/plain": [
       "[[227.5, 246.0, 482.0, 503.5],\n",
       " [230.5, 249.5, 473.0, 495.5],\n",
       " [235.5, 255.5, 464.5, 486.5],\n",
       " [239.5, 260.5, 451.0, 474.0],\n",
       " [246.5, 267.0, 440.5, 463.5],\n",
       " [252.0, 273.0, 426.0, 449.5],\n",
       " [260.5, 281.5, 414.0, 437.5],\n",
       " [267.5, 289.5, 396.0, 419.5],\n",
       " [278.5, 300.5, 380.5, 404.5],\n",
       " [289.0, 311.0, 359.5, 384.5],\n",
       " [0, 0, 341.0, 366.0],\n",
       " [0, 0, 312.0, 337.0],\n",
       " [278.0, 305.0, 336.5, 360.5],\n",
       " [247.5, 275.0, 355.0, 379.5]]"
      ]
     },
     "execution_count": 405,
     "metadata": {},
     "output_type": "execute_result"
    }
   ],
   "source": [
    "data[0][0]"
   ]
  },
  {
   "cell_type": "code",
   "execution_count": 406,
   "metadata": {},
   "outputs": [
    {
     "name": "stdout",
     "output_type": "stream",
     "text": [
      "[227.5, 246.0, 482.0, 503.5]\n",
      "[230.5, 249.5, 473.0, 495.5]\n",
      "[235.5, 255.5, 464.5, 486.5]\n",
      "[239.5, 260.5, 451.0, 474.0]\n",
      "[246.5, 267.0, 440.5, 463.5]\n",
      "[252.0, 273.0, 426.0, 449.5]\n",
      "[260.5, 281.5, 414.0, 437.5]\n",
      "[267.5, 289.5, 396.0, 419.5]\n",
      "[278.5, 300.5, 380.5, 404.5]\n",
      "[289.0, 311.0, 359.5, 384.5]\n",
      "[0, 0, 341.0, 366.0]\n",
      "[0, 0, 312.0, 337.0]\n",
      "[278.0, 305.0, 336.5, 360.5]\n",
      "[247.5, 275.0, 355.0, 379.5]\n"
     ]
    }
   ],
   "source": [
    "for i in data[0][0]:\n",
    "    print(i)"
   ]
  },
  {
   "cell_type": "code",
   "execution_count": 9,
   "metadata": {},
   "outputs": [],
   "source": [
    "with open('src/yolov5/list_100.bin', 'rb') as f:\n",
    "    data_100 = pickle.load(f)"
   ]
  },
  {
   "cell_type": "code",
   "execution_count": 3,
   "metadata": {},
   "outputs": [],
   "source": [
    "with open('src/yolov5/list_500.bin', 'rb') as f:\n",
    "    data_500 = pickle.load(f)"
   ]
  },
  {
   "cell_type": "code",
   "execution_count": 7,
   "metadata": {},
   "outputs": [],
   "source": [
    "data_100.append(data_500)"
   ]
  },
  {
   "cell_type": "code",
   "execution_count": 15,
   "metadata": {},
   "outputs": [],
   "source": [
    "data_new = data_100 + data_500"
   ]
  },
  {
   "cell_type": "code",
   "execution_count": 17,
   "metadata": {},
   "outputs": [],
   "source": [
    "with open('list.bin', 'wb') as f:\n",
    "    pickle.dump(data_new,f)"
   ]
  },
  {
   "cell_type": "code",
   "execution_count": 5,
   "metadata": {},
   "outputs": [
    {
     "data": {
      "text/plain": [
       "array([-0.21285, -0.4257 , -0.63855])"
      ]
     },
     "execution_count": 5,
     "metadata": {},
     "output_type": "execute_result"
    }
   ],
   "source": [
    "-0.645 * (0.033 * np.array([100,200,300]) / np.array([10,10,10]))"
   ]
  },
  {
   "cell_type": "code",
   "execution_count": 9,
   "metadata": {},
   "outputs": [
    {
     "data": {
      "text/plain": [
       "array([0.10442832, 0.41771326, 0.93985484])"
      ]
     },
     "execution_count": 9,
     "metadata": {},
     "output_type": "execute_result"
    }
   ],
   "source": [
    "0.5 * 0.507 * 1.2041 * np.pi * (0.033 ** 2) * (np.array([10,20,30]) ** 2)\n",
    "[337.2084410968044, 0.0, 320.5, 0.0, 337.2084410968044, 240.5, 0.0, 0.0, 1.0]"
   ]
  },
  {
   "cell_type": "code",
   "execution_count": 38,
   "metadata": {},
   "outputs": [],
   "source": [
    "k = np.matrix([[337.2084410968044, 0.0, 320.5, 0],\n",
    "              [0.0, 337.2084410968044, 240.5, 0],\n",
    "              [0, 0, 1, 0]])\n",
    "\n",
    "ror = np.matrix([[0.707,-0.707, 0],\n",
    "                [0.707, 0.707, 0],\n",
    "                [0, 0, 1]])\n",
    "\n",
    "c_xy = np.matrix([[-1],\n",
    "                 [6.4],\n",
    "                 [0]])\n",
    "\n",
    "point = np.matrix([[2.5],\n",
    "                  [-4.47],\n",
    "                  [2.7],\n",
    "                  [1]])"
   ]
  },
  {
   "cell_type": "code",
   "execution_count": 39,
   "metadata": {},
   "outputs": [
    {
     "data": {
      "text/plain": [
       "matrix([[-5.2318],\n",
       "        [ 3.8178],\n",
       "        [ 0.    ]])"
      ]
     },
     "execution_count": 39,
     "metadata": {},
     "output_type": "execute_result"
    }
   ],
   "source": [
    "ror@c_xy "
   ]
  },
  {
   "cell_type": "code",
   "execution_count": 48,
   "metadata": {},
   "outputs": [],
   "source": [
    "ror = np.matrix([[0.707,-0.707, 0, -5.2318],\n",
    "                [0.707, 0.707, 0, 3.8178],\n",
    "                [0, 0, 1, 0],\n",
    "                [0, 0, 0, 1]])\n"
   ]
  },
  {
   "cell_type": "code",
   "execution_count": 44,
   "metadata": {},
   "outputs": [],
   "source": [
    "p = k@ror"
   ]
  },
  {
   "cell_type": "code",
   "execution_count": 47,
   "metadata": {},
   "outputs": [
    {
     "data": {
      "text/plain": [
       "matrix([[ 762.83526182],\n",
       "        [1467.08384174],\n",
       "        [   2.7       ]])"
      ]
     },
     "execution_count": 47,
     "metadata": {},
     "output_type": "execute_result"
    }
   ],
   "source": [
    "p @ point"
   ]
  },
  {
   "cell_type": "code",
   "execution_count": 51,
   "metadata": {},
   "outputs": [
    {
     "data": {
      "text/plain": [
       "matrix([[-0.30401],\n",
       "        [ 2.42501],\n",
       "        [ 2.7    ],\n",
       "        [ 1.     ]])"
      ]
     },
     "execution_count": 51,
     "metadata": {},
     "output_type": "execute_result"
    }
   ],
   "source": [
    "ror@(point)"
   ]
  },
  {
   "cell_type": "code",
   "execution_count": 25,
   "metadata": {},
   "outputs": [
    {
     "data": {
      "text/plain": [
       "matrix([[ 2.7 ],\n",
       "        [-4.47],\n",
       "        [ 2.5 ]])"
      ]
     },
     "execution_count": 25,
     "metadata": {},
     "output_type": "execute_result"
    }
   ],
   "source": [
    "point[:3]"
   ]
  },
  {
   "cell_type": "code",
   "execution_count": 3,
   "metadata": {},
   "outputs": [],
   "source": [
    "def z_roration_matrix(z):\n",
    "    z_matrix = np.matrix([[np.cos(np.deg2rad(z)), -np.sin(np.deg2rad(z)), 0],\n",
    "                            [np.sin(np.deg2rad(z)), np.cos(np.deg2rad(z)), 0],\n",
    "                            [0, 0, 1]])\n",
    "    return z_matrix\n",
    "    \n",
    "def x_roration_matrix(x):\n",
    "    x_matrix = np.matrix([[1, 0, 0],\n",
    "                         [0, np.cos(np.deg2rad(x)), -np.sin(np.deg2rad(x))],\n",
    "                         [0,-np.sin(np.deg2rad(x)),np.cos(np.deg2rad(x))]])\n",
    "    return x_matrix\n",
    "\n",
    "def y_roration_matrix(y):\n",
    "    x_matrix = np.matrix([[np.cos(np.deg2rad(y)), 0, np.sin(np.deg2rad(y))],\n",
    "                         [0, 1, 0],\n",
    "                         [-np.sin(np.deg2rad(y)),0, np.cos(np.deg2rad(y))]])\n",
    "    return x_matrix    \n",
    "    \n",
    "    \n",
    "    \n",
    "    \n",
    "ror = np.round(z_roration_matrix(45) @ y_roration_matrix(0) @ x_roration_matrix(-90),3)\n",
    "\n",
    "k = np.matrix([[337.2084410968044, 0.0, 320.306834],\n",
    "              [0.0, 337.2084410968044, 240.879174],\n",
    "              [0, 0, 1]])"
   ]
  },
  {
   "cell_type": "code",
   "execution_count": 132,
   "metadata": {},
   "outputs": [],
   "source": [
    "c_xy = np.matrix([[0],\n",
    "                 [-6.4],\n",
    "                 [1]])\n",
    "\n",
    "ball_point = np.matrix([[-2.69],\n",
    "                  [-2.79],\n",
    "                  [2.4]])"
   ]
  },
  {
   "cell_type": "code",
   "execution_count": 136,
   "metadata": {},
   "outputs": [
    {
     "data": {
      "text/plain": [
       "matrix([[ 50.20100449],\n",
       "        [155.68687081],\n",
       "        [  1.        ]])"
      ]
     },
     "execution_count": 136,
     "metadata": {},
     "output_type": "execute_result"
    }
   ],
   "source": [
    "k @ ror @ (ball_point - c_xy) / 3.61"
   ]
  },
  {
   "cell_type": "code",
   "execution_count": 138,
   "metadata": {},
   "outputs": [],
   "source": [
    "ccd_matrix = np.matrix([[368 / 50.2,0,0],\n",
    "                       [0,135 / 155,0],\n",
    "                       [0,0,1]]) *3.61"
   ]
  },
  {
   "cell_type": "code",
   "execution_count": 148,
   "metadata": {},
   "outputs": [
    {
     "data": {
      "text/plain": [
       "matrix([[1.28403707e+03],\n",
       "        [1.30210261e+02],\n",
       "        [1.00027083e+00]])"
      ]
     },
     "execution_count": 148,
     "metadata": {},
     "output_type": "execute_result"
    }
   ],
   "source": [
    "ccd_matrix @ k @ ror @ (ball_point - c_xy) / 24"
   ]
  },
  {
   "cell_type": "code",
   "execution_count": 142,
   "metadata": {},
   "outputs": [],
   "source": [
    "c_xy = np.matrix([[0],\n",
    "                 [-6.4],\n",
    "                 [1]])\n",
    "\n",
    "ball_point = np.matrix([[-3.3],\n",
    "                  [0.25],\n",
    "                  [1.75]])\n",
    "\n"
   ]
  },
  {
   "cell_type": "code",
   "execution_count": 143,
   "metadata": {},
   "outputs": [
    {
     "data": {
      "text/plain": [
       "matrix([[175.11197839],\n",
       "        [149.46019084],\n",
       "        [  1.        ]])"
      ]
     },
     "execution_count": 143,
     "metadata": {},
     "output_type": "execute_result"
    }
   ],
   "source": [
    "k @ ror @ (ball_point - c_xy) / 6.65"
   ]
  },
  {
   "cell_type": "code",
   "execution_count": 2,
   "metadata": {},
   "outputs": [],
   "source": [
    "c_xy = np.matrix([[0],\n",
    "                 [-6.4],\n",
    "                 [1]])\n",
    "\n",
    "ball_point = np.matrix([[-2.69],\n",
    "                  [-2.79],\n",
    "                  [2.4]])\n",
    "\n",
    "k = np.matrix([[337.2084410968044, 0.0, 320.306834],\n",
    "              [0.0, 337.2084410968044, 240.879174],\n",
    "              [0, 0, 1]])"
   ]
  },
  {
   "cell_type": "code",
   "execution_count": 4,
   "metadata": {
    "scrolled": true
   },
   "outputs": [
    {
     "data": {
      "text/plain": [
       "matrix([[-2.89163],\n",
       "        [-0.91203],\n",
       "        [ 3.61   ]])"
      ]
     },
     "execution_count": 4,
     "metadata": {},
     "output_type": "execute_result"
    }
   ],
   "source": [
    "ror @ (ball_point - c_xy)"
   ]
  },
  {
   "cell_type": "code",
   "execution_count": 65,
   "metadata": {},
   "outputs": [],
   "source": [
    "point = np.matrix([[368],\n",
    "                 [135],\n",
    "                 [1]])"
   ]
  },
  {
   "cell_type": "code",
   "execution_count": 102,
   "metadata": {},
   "outputs": [
    {
     "data": {
      "text/plain": [
       "matrix([[-0.12201273],\n",
       "        [-5.4       ],\n",
       "        [ 0.6779676 ]])"
      ]
     },
     "execution_count": 102,
     "metadata": {},
     "output_type": "execute_result"
    }
   ],
   "source": [
    "(np.linalg.inv(ror) @ np.linalg.inv(k) @ point) + c_xy"
   ]
  },
  {
   "cell_type": "code",
   "execution_count": 190,
   "metadata": {},
   "outputs": [],
   "source": [
    "h = np.matrix([[ 0.707,  0.   , -0.707, 0],\n",
    "       [ 0.707,  0.   ,  0.707, -6.4],\n",
    "       [ 0.   ,  1.   ,  0., 1   ],\n",
    "              [0,0,0,1]])"
   ]
  },
  {
   "cell_type": "code",
   "execution_count": 177,
   "metadata": {},
   "outputs": [],
   "source": [
    "ball_point_ = np.matrix([[-2.69],\n",
    "                  [-2.79],\n",
    "                  [2.4],\n",
    "                       [1]])"
   ]
  },
  {
   "cell_type": "code",
   "execution_count": 194,
   "metadata": {},
   "outputs": [],
   "source": [
    "k_ = np.matrix([[337.2084411,   0.       , 320.306834,0 ],\n",
    "                [  0.       , 337.2084411, 240.879174,0 ],\n",
    "                [  0.       ,   0.       ,   1.     ,0  ],\n",
    "               [0,0,0,1]])"
   ]
  },
  {
   "cell_type": "code",
   "execution_count": 2,
   "metadata": {},
   "outputs": [],
   "source": [
    "def cal_heigth(depth, x_pos, y_pos):\n",
    "    \n",
    "    x = x_pos - 320\n",
    "    y = y_pos - 240\n",
    "    \n",
    "    pix_length = np.sqrt(x**2 + 337**2)\n",
    "    theta_pix = np.arctan(abs(y) / pix_length)\n",
    "    \n",
    "    return depth * np.sin(theta_pix)\n"
   ]
  },
  {
   "cell_type": "code",
   "execution_count": 14,
   "metadata": {},
   "outputs": [
    {
     "data": {
      "text/plain": [
       "1.2626868831837847"
      ]
     },
     "execution_count": 14,
     "metadata": {},
     "output_type": "execute_result"
    }
   ],
   "source": [
    "cal_heigth(8.62, 341, 190)"
   ]
  },
  {
   "cell_type": "code",
   "execution_count": 35,
   "metadata": {},
   "outputs": [
    {
     "data": {
      "text/plain": [
       "0.02545787108145533"
      ]
     },
     "execution_count": 35,
     "metadata": {},
     "output_type": "execute_result"
    }
   ],
   "source": [
    "np.sqrt(sum((real - esti)**2)) / len(real - esti)"
   ]
  },
  {
   "cell_type": "code",
   "execution_count": 36,
   "metadata": {},
   "outputs": [
    {
     "data": {
      "text/plain": [
       "0.004799999999999971"
      ]
     },
     "execution_count": 36,
     "metadata": {},
     "output_type": "execute_result"
    }
   ],
   "source": [
    "(sum((real - esti))) / len(real - esti)"
   ]
  },
  {
   "cell_type": "code",
   "execution_count": 15,
   "metadata": {},
   "outputs": [
    {
     "name": "stdout",
     "output_type": "stream",
     "text": [
      "0.6545\n",
      "1.309\n",
      "1.9634999999999998\n",
      "2.618\n",
      "3.2725\n"
     ]
    }
   ],
   "source": [
    "rpm = [500, 1000, 1500, 2000, 2500]\n",
    "\n",
    "for i in rpm:\n",
    "    print((i * 0.10472) / 80)"
   ]
  },
  {
   "cell_type": "code",
   "execution_count": 2,
   "metadata": {},
   "outputs": [
    {
     "name": "stdout",
     "output_type": "stream",
     "text": [
      "[nan  7.]\n"
     ]
    }
   ],
   "source": [
    "var = np.array([None, 7.0], dtype=np.float16)\n",
    "print(var)"
   ]
  },
  {
   "cell_type": "code",
   "execution_count": 4,
   "metadata": {},
   "outputs": [
    {
     "data": {
      "text/plain": [
       "nan"
      ]
     },
     "execution_count": 4,
     "metadata": {},
     "output_type": "execute_result"
    }
   ],
   "source": [
    "np.mean(var)"
   ]
  },
  {
   "cell_type": "code",
   "execution_count": 5,
   "metadata": {},
   "outputs": [
    {
     "data": {
      "text/plain": [
       "array([ True, False])"
      ]
     },
     "execution_count": 5,
     "metadata": {},
     "output_type": "execute_result"
    }
   ],
   "source": [
    "np.isnan(var)"
   ]
  },
  {
   "cell_type": "code",
   "execution_count": 7,
   "metadata": {
    "scrolled": true
   },
   "outputs": [
    {
     "name": "stdout",
     "output_type": "stream",
     "text": [
      "[0, 0]\n"
     ]
    }
   ],
   "source": [
    "print(min([[0, 0], [395, 131]]))"
   ]
  },
  {
   "cell_type": "code",
   "execution_count": 65,
   "metadata": {},
   "outputs": [],
   "source": [
    "a = [1.9110087607998396, 2.054286575684662]\n",
    "b = [7.572891, 12.82606]"
   ]
  },
  {
   "cell_type": "code",
   "execution_count": 70,
   "metadata": {},
   "outputs": [],
   "source": [
    "def cal_ball_position(ball_height_list, ball_depth_list):\n",
    "    \n",
    "    height = sum(ball_height_list) / 2\n",
    "    \n",
    "    th_L = np.arccos((ball_depth_list[1] ** 2 - 12.8 ** 2 - ball_depth_list[0]**2) / (2 * 12.8 * ball_depth_list[0]))\n",
    "    th_R = np.arccos((ball_depth_list[0] ** 2 - 12.8 ** 2 - ball_depth_list[1]**2) / (2 * 12.8 * ball_depth_list[1]))\n",
    "    \n",
    "    ball2net_length_x = ball_depth_list[0] * np.sin(th_L)\n",
    "    ball2net_length_y = ball_depth_list[0] * np.cos(th_L)\n",
    "    \n",
    "    #ball2net_length_x = ball_depth_list[1] * np.sin(th_R)\n",
    "    #ball2net_length_y = ball_depth_list[1] * np.cos(th_R)\n",
    "    \n",
    "    \n",
    "    ball_plate_angle = np.sin(height / ball2net_length_x)\n",
    "    \n",
    "    ball_position = ball2net_length_x * np.cos(ball_plate_angle)\n",
    "    \n",
    "    print(np.rad2deg(th_L) )\n",
    "    print(np.rad2deg(th_R) )\n",
    "    \n",
    "    print(ball_depth_list[0] * np.sin(th_L))\n",
    "    print(ball_depth_list[1] * np.sin(th_R))\n",
    "    \n",
    "    print(ball_depth_list[0] * np.cos(th_L))\n",
    "    print(ball_depth_list[1] * np.cos(th_R))\n",
    "    \n",
    "    print(np.rad2deg(ball_plate_angle))\n",
    "    print(-ball_position, 6.4 + ball2net_length_y)\n",
    "    \n",
    "    \n",
    "    \n",
    "    #th_R = \n",
    "    \n",
    "    \n"
   ]
  },
  {
   "cell_type": "code",
   "execution_count": 71,
   "metadata": {},
   "outputs": [
    {
     "name": "stdout",
     "output_type": "stream",
     "text": [
      "106.99997751983467\n",
      "145.62332085833663\n",
      "7.241992548397297\n",
      "7.241992548397296\n",
      "-2.2140962099328525\n",
      "-10.585903790067151\n",
      "15.490712029629778\n",
      "-6.978918199155788 4.185903790067147\n"
     ]
    }
   ],
   "source": [
    "cal_ball_position(a,b)"
   ]
  },
  {
   "cell_type": "code",
   "execution_count": 26,
   "metadata": {},
   "outputs": [
    {
     "data": {
      "text/plain": [
       "-0.7622810143329566"
      ]
     },
     "execution_count": 26,
     "metadata": {},
     "output_type": "execute_result"
    }
   ],
   "source": [
    "(b[1] ** 2 - 12.8 ** 2 - b[0]**2) / (2 * 12.8 * b[0])"
   ]
  },
  {
   "cell_type": "code",
   "execution_count": 66,
   "metadata": {},
   "outputs": [
    {
     "name": "stdout",
     "output_type": "stream",
     "text": [
      "[[11.09451468]]\n"
     ]
    }
   ],
   "source": [
    "point = np.matrix([[-9.96],\n",
    "                 [1.616],\n",
    "                 [0]])\n",
    "\n",
    "\n",
    "print(np.sqrt(point[0] **2 + (point[1] - (-6.4)) ** 2 + (point[2] - 1) ** 2))"
   ]
  },
  {
   "cell_type": "code",
   "execution_count": 3,
   "metadata": {},
   "outputs": [
    {
     "data": {
      "text/plain": [
       "14.430246342922675"
      ]
     },
     "execution_count": 3,
     "metadata": {},
     "output_type": "execute_result"
    }
   ],
   "source": [
    "np.rad2deg(0.2518553105578714)"
   ]
  },
  {
   "cell_type": "code",
   "execution_count": 6,
   "metadata": {},
   "outputs": [
    {
     "data": {
      "text/plain": [
       "9.40444465318028"
      ]
     },
     "execution_count": 6,
     "metadata": {},
     "output_type": "execute_result"
    }
   ],
   "source": [
    "2.42124108441863 / np.tan(0.2518553105578714)\n",
    "                          \n",
    "2.4199435731404417 / np.tan(0.2518553105578714)"
   ]
  },
  {
   "cell_type": "code",
   "execution_count": 8,
   "metadata": {},
   "outputs": [
    {
     "data": {
      "text/plain": [
       "0.0038253126777132796"
      ]
     },
     "execution_count": 8,
     "metadata": {},
     "output_type": "execute_result"
    }
   ],
   "source": [
    "((9.40948707364745) ** 2 -  (9.40444465318028) ** 2) / 24.8"
   ]
  },
  {
   "cell_type": "code",
   "execution_count": 104,
   "metadata": {},
   "outputs": [],
   "source": [
    "th_L = 0.3446797139381855\n",
    "th_R = 0.16516572590879303\n",
    "\n",
    "h_L = 2.52 - 1\n",
    "h_R = 2.52 - 1\n",
    "\n",
    "s_L = h_L / np.tan(th_L)\n",
    "s_R = h_R / np.tan(th_R)"
   ]
  },
  {
   "cell_type": "code",
   "execution_count": 105,
   "metadata": {},
   "outputs": [
    {
     "name": "stdout",
     "output_type": "stream",
     "text": [
      "4.233854353054301 9.119041290755295\n"
     ]
    }
   ],
   "source": [
    "print(s_L,s_R)"
   ]
  },
  {
   "cell_type": "code",
   "execution_count": 95,
   "metadata": {},
   "outputs": [],
   "source": [
    "th_L_1 = np.arccos((s_L ** 2 + 12.8 ** 2 - s_R**2) / (2 * 12.8 * s_L))\n",
    "th_R_1 = np.arccos((s_R ** 2 + 12.8 ** 2 - s_L**2) / (2 * 12.8 * s_R))"
   ]
  },
  {
   "cell_type": "code",
   "execution_count": 99,
   "metadata": {},
   "outputs": [
    {
     "data": {
      "text/plain": [
       "2.5481012257665285"
      ]
     },
     "execution_count": 99,
     "metadata": {},
     "output_type": "execute_result"
    }
   ],
   "source": [
    "6.4 - (s_L * np.cos(th_L_1))"
   ]
  },
  {
   "cell_type": "code",
   "execution_count": 100,
   "metadata": {},
   "outputs": [
    {
     "data": {
      "text/plain": [
       "2.54810122576653"
      ]
     },
     "execution_count": 100,
     "metadata": {},
     "output_type": "execute_result"
    }
   ],
   "source": [
    "s_R * np.cos(th_R_1) - 6.4"
   ]
  },
  {
   "cell_type": "code",
   "execution_count": 101,
   "metadata": {},
   "outputs": [
    {
     "data": {
      "text/plain": [
       "1.7573839978603238"
      ]
     },
     "execution_count": 101,
     "metadata": {},
     "output_type": "execute_result"
    }
   ],
   "source": [
    "s_L * np.sin(th_L_1)"
   ]
  },
  {
   "cell_type": "code",
   "execution_count": 102,
   "metadata": {},
   "outputs": [
    {
     "data": {
      "text/plain": [
       "1.757383997860318"
      ]
     },
     "execution_count": 102,
     "metadata": {},
     "output_type": "execute_result"
    }
   ],
   "source": [
    "s_R * np.sin(th_R_1)"
   ]
  },
  {
   "cell_type": "code",
   "execution_count": 107,
   "metadata": {},
   "outputs": [],
   "source": [
    "s_L  = 4.654203 / np.cos(th_L)\n",
    "s_R = 8.919018 / np.cos(th_R)"
   ]
  },
  {
   "cell_type": "code",
   "execution_count": 108,
   "metadata": {},
   "outputs": [
    {
     "name": "stdout",
     "output_type": "stream",
     "text": [
      "4.9450525771252165 9.042070443170804\n"
     ]
    }
   ],
   "source": [
    "print(s_L, s_R)"
   ]
  },
  {
   "cell_type": "code",
   "execution_count": 81,
   "metadata": {},
   "outputs": [],
   "source": [
    "th_L_1 = np.arccos((s_L ** 2 + 12.8 ** 2 - s_R**2) / (2 * 12.8 * s_L))\n",
    "th_R_1 = np.arccos((s_R ** 2 + 12.8 ** 2 - s_L**2) / (2 * 12.8 * s_R))"
   ]
  },
  {
   "cell_type": "code",
   "execution_count": 82,
   "metadata": {},
   "outputs": [
    {
     "data": {
      "text/plain": [
       "0.5706518693866471"
      ]
     },
     "execution_count": 82,
     "metadata": {},
     "output_type": "execute_result"
    }
   ],
   "source": [
    "th_L_1"
   ]
  },
  {
   "cell_type": "code",
   "execution_count": 83,
   "metadata": {},
   "outputs": [
    {
     "data": {
      "text/plain": [
       "2.671222177824756"
      ]
     },
     "execution_count": 83,
     "metadata": {},
     "output_type": "execute_result"
    }
   ],
   "source": [
    "s_L * np.sin(th_L_1)"
   ]
  },
  {
   "cell_type": "code",
   "execution_count": 89,
   "metadata": {},
   "outputs": [
    {
     "data": {
      "text/plain": [
       "2.671222177824756"
      ]
     },
     "execution_count": 89,
     "metadata": {},
     "output_type": "execute_result"
    }
   ],
   "source": [
    "s_L * np.sin(th_L_1)"
   ]
  },
  {
   "cell_type": "code",
   "execution_count": 88,
   "metadata": {},
   "outputs": [
    {
     "data": {
      "text/plain": [
       "2.2384958167472773"
      ]
     },
     "execution_count": 88,
     "metadata": {},
     "output_type": "execute_result"
    }
   ],
   "source": [
    "6.4 - s_L * np.cos(th_L_1)"
   ]
  },
  {
   "cell_type": "code",
   "execution_count": 90,
   "metadata": {},
   "outputs": [
    {
     "data": {
      "text/plain": [
       "2.671222177824753"
      ]
     },
     "execution_count": 90,
     "metadata": {},
     "output_type": "execute_result"
    }
   ],
   "source": [
    "s_R * np.sin(th_R_1)"
   ]
  },
  {
   "cell_type": "code",
   "execution_count": 92,
   "metadata": {},
   "outputs": [
    {
     "data": {
      "text/plain": [
       "2.238495816747278"
      ]
     },
     "execution_count": 92,
     "metadata": {},
     "output_type": "execute_result"
    }
   ],
   "source": [
    "s_R * np.cos(th_R_1) - 6.4"
   ]
  },
  {
   "cell_type": "code",
   "execution_count": 11,
   "metadata": {},
   "outputs": [
    {
     "name": "stdout",
     "output_type": "stream",
     "text": [
      "[[8.67582273]]\n",
      "[[4.82720416]]\n"
     ]
    }
   ],
   "source": [
    "point = np.matrix([[-1.27],[2.03],[2.61]])\n",
    "\n",
    "print(np.sqrt(point[0] **2 + (point[1] - (-6.4)) ** 2 + (point[2] - 1) ** 2))\n",
    "print(np.sqrt(point[0] **2 + (point[1] - (6.4)) ** 2 + (point[2] - 1) ** 2))"
   ]
  },
  {
   "cell_type": "code",
   "execution_count": 122,
   "metadata": {},
   "outputs": [
    {
     "data": {
      "text/plain": [
       "143.82716049382717"
      ]
     },
     "execution_count": 122,
     "metadata": {},
     "output_type": "execute_result"
    }
   ],
   "source": [
    "(11.885 + (-6.526) ) / 0.03726"
   ]
  },
  {
   "cell_type": "code",
   "execution_count": 142,
   "metadata": {},
   "outputs": [],
   "source": [
    "real_point_list = [-2.991, -0.087, 2.552]\n",
    "predict_point_list = [-1.799, -0.065, 2.592]"
   ]
  },
  {
   "cell_type": "code",
   "execution_count": 143,
   "metadata": {},
   "outputs": [],
   "source": [
    "real_point_list[0] = np.round((11.885 + real_point_list[0]) / 0.03726)\n",
    "predict_point_list[0] = np.round((11.885 + predict_point_list[0]) / 0.03726)\n",
    "\n",
    "real_point_list[1] = np.round((5.485 - real_point_list[1]) / 0.03656)\n",
    "predict_point_list[1] = np.round((5.485 - predict_point_list[1]) / 0.03656)\n",
    "real_point_xy = real_point_list[0:2]\n",
    "predict_point = predict_point_list[0:2]"
   ]
  },
  {
   "cell_type": "code",
   "execution_count": 6,
   "metadata": {},
   "outputs": [],
   "source": [
    "ball_height_list = [2.231228127949282, 1.813267052603247]\n",
    "ball_depth_list = [6.5851097, 2.4148982]"
   ]
  },
  {
   "cell_type": "code",
   "execution_count": 9,
   "metadata": {},
   "outputs": [],
   "source": [
    "def cal_ball_position(ball_height_list, ball_distance_list):\n",
    "\n",
    "    height = sum(ball_height_list[:2]) / 2 - 1\n",
    "\n",
    "    th_L = np.arccos((ball_distance_list[0] ** 2 + 12.8 ** 2 - ball_distance_list[1]**2) / (2 * 12.8 * ball_distance_list[0]))\n",
    "    #th_R = np.arccos((ball_depth_list[1] ** 2 + 12.8 ** 2 - ball_depth_list[0]**2) / (2 * 12.8 * ball_depth_list[1]))\n",
    "\n",
    "    ball2net_length_x_L = ball_distance_list[0] * np.sin(th_L)\n",
    "    ball_position_y_L = ball_distance_list[0] * np.cos(th_L)\n",
    "\n",
    "    ball_plate_angle_L = np.sin(height / ball2net_length_x_L)\n",
    "\n",
    "    ball_position_x_L = ball2net_length_x_L * np.cos(ball_plate_angle_L)\n",
    "\n",
    "    #ball2net_length_x_R = ball_depth_list[1] * np.sin(th_R)\n",
    "    #ball_position_y_R = ball_depth_list[1] * np.cos(th_R)\n",
    "\n",
    "    #ball_plate_angle_R = np.sin(height / ball2net_length_x_R)\n",
    "\n",
    "    #ball_position_x_R = ball2net_length_x_R * np.cos(ball_plate_angle_R)\n",
    "\n",
    "    return [-ball_position_x_L, ball_position_y_L - 6.4, height + 1]\n"
   ]
  },
  {
   "cell_type": "code",
   "execution_count": 10,
   "metadata": {},
   "outputs": [
    {
     "name": "stdout",
     "output_type": "stream",
     "text": [
      "nan nan\n"
     ]
    },
    {
     "name": "stderr",
     "output_type": "stream",
     "text": [
      "/home/drcl_yang/anaconda3/envs/yolov5/lib/python3.6/site-packages/ipykernel_launcher.py:5: RuntimeWarning: invalid value encountered in arccos\n",
      "  \"\"\"\n",
      "/home/drcl_yang/anaconda3/envs/yolov5/lib/python3.6/site-packages/ipykernel_launcher.py:6: RuntimeWarning: invalid value encountered in arccos\n",
      "  \n"
     ]
    },
    {
     "data": {
      "text/plain": [
       "([nan, nan, 2.0222475902762644], [nan, nan, 2.0222475902762644])"
      ]
     },
     "execution_count": 10,
     "metadata": {},
     "output_type": "execute_result"
    }
   ],
   "source": [
    "cal_ball_position(ball_height_list, ball_depth_list)"
   ]
  },
  {
   "cell_type": "code",
   "execution_count": 19,
   "metadata": {},
   "outputs": [
    {
     "data": {
      "text/plain": [
       "9.059565438447809"
      ]
     },
     "execution_count": 19,
     "metadata": {},
     "output_type": "execute_result"
    }
   ],
   "source": [
    "height = 1.473\n",
    "\n",
    "height / np.sin(0.16331560445944124)\n"
   ]
  },
  {
   "cell_type": "code",
   "execution_count": 20,
   "metadata": {},
   "outputs": [
    {
     "data": {
      "text/plain": [
       "7.050055652976752"
      ]
     },
     "execution_count": 20,
     "metadata": {},
     "output_type": "execute_result"
    }
   ],
   "source": [
    "height / np.sin(0.21048530735523446)\n"
   ]
  },
  {
   "cell_type": "code",
   "execution_count": 5,
   "metadata": {},
   "outputs": [
    {
     "data": {
      "text/plain": [
       "array([[2.5e-05, 5.0e-04, 0.0e+00, 0.0e+00, 0.0e+00, 0.0e+00],\n",
       "       [5.0e-04, 1.0e-02, 0.0e+00, 0.0e+00, 0.0e+00, 0.0e+00],\n",
       "       [0.0e+00, 0.0e+00, 2.5e-05, 5.0e-04, 0.0e+00, 0.0e+00],\n",
       "       [0.0e+00, 0.0e+00, 5.0e-04, 1.0e-02, 0.0e+00, 0.0e+00],\n",
       "       [0.0e+00, 0.0e+00, 0.0e+00, 0.0e+00, 2.5e-05, 5.0e-04],\n",
       "       [0.0e+00, 0.0e+00, 0.0e+00, 0.0e+00, 5.0e-04, 1.0e-02]])"
      ]
     },
     "execution_count": 5,
     "metadata": {},
     "output_type": "execute_result"
    }
   ],
   "source": [
    "Q_discrete_white_noise(2, dt=0.1, var=1., block_size=3)"
   ]
  },
  {
   "cell_type": "code",
   "execution_count": 7,
   "metadata": {},
   "outputs": [
    {
     "data": {
      "text/plain": [
       "array([[2.5e-09, 5.0e-08, 0.0e+00, 0.0e+00, 0.0e+00, 0.0e+00],\n",
       "       [5.0e-08, 1.0e-06, 0.0e+00, 0.0e+00, 0.0e+00, 0.0e+00],\n",
       "       [0.0e+00, 0.0e+00, 2.5e-09, 5.0e-08, 0.0e+00, 0.0e+00],\n",
       "       [0.0e+00, 0.0e+00, 5.0e-08, 1.0e-06, 0.0e+00, 0.0e+00],\n",
       "       [0.0e+00, 0.0e+00, 0.0e+00, 0.0e+00, 2.5e-09, 5.0e-08],\n",
       "       [0.0e+00, 0.0e+00, 0.0e+00, 0.0e+00, 5.0e-08, 1.0e-06]])"
      ]
     },
     "execution_count": 7,
     "metadata": {},
     "output_type": "execute_result"
    }
   ],
   "source": [
    "Q_discrete_white_noise(2, dt = 0.1 , var = 0.01**2, block_size = 3)"
   ]
  },
  {
   "cell_type": "code",
   "execution_count": 238,
   "metadata": {},
   "outputs": [],
   "source": [
    "centroid = [100, 100, 100]\n",
    "\n",
    "uk = UK_filter(dt = 0.03, \n",
    "                x_std_meas = 0.01, \n",
    "                y_std_meas = 0.01,\n",
    "                z_std_meas = 0.01,\n",
    "                init_x = centroid[0],\n",
    "                init_y = centroid[1],\n",
    "                init_z = centroid[2])"
   ]
  },
  {
   "cell_type": "code",
   "execution_count": 255,
   "metadata": {},
   "outputs": [],
   "source": [
    "uk.f.update([30,20,10])"
   ]
  },
  {
   "cell_type": "code",
   "execution_count": 256,
   "metadata": {},
   "outputs": [
    {
     "data": {
      "text/plain": [
       "array([-249.96503459,  -10.48951048, -299.96003953,  -11.98801198,\n",
       "       -349.93740668,  -13.77985263])"
      ]
     },
     "execution_count": 256,
     "metadata": {},
     "output_type": "execute_result"
    }
   ],
   "source": [
    "uk.f.x"
   ]
  },
  {
   "cell_type": "code",
   "execution_count": 257,
   "metadata": {},
   "outputs": [
    {
     "data": {
      "text/plain": [
       "[30, 20, 10]"
      ]
     },
     "execution_count": 257,
     "metadata": {},
     "output_type": "execute_result"
    }
   ],
   "source": [
    "uk.f.z"
   ]
  },
  {
   "cell_type": "code",
   "execution_count": 263,
   "metadata": {},
   "outputs": [],
   "source": [
    "kf_pred_dict = OrderedDict()\n",
    "\n",
    "kf_pred_dict[0] = [0,0,0]"
   ]
  },
  {
   "cell_type": "code",
   "execution_count": 264,
   "metadata": {},
   "outputs": [
    {
     "data": {
      "text/plain": [
       "odict_items([(0, [0, 0, 0])])"
      ]
     },
     "execution_count": 264,
     "metadata": {},
     "output_type": "execute_result"
    }
   ],
   "source": [
    "kf_pred_dict.items()"
   ]
  },
  {
   "cell_type": "code",
   "execution_count": 267,
   "metadata": {},
   "outputs": [
    {
     "name": "stdout",
     "output_type": "stream",
     "text": [
      "0 [0, 0, 0]\n"
     ]
    }
   ],
   "source": [
    "for a, b in kf_pred_dict.items():\n",
    "    print(a, b)"
   ]
  },
  {
   "cell_type": "code",
   "execution_count": 8,
   "metadata": {},
   "outputs": [],
   "source": [
    "def fx(x, dt):\n",
    "    # state transition function - predict next state based\n",
    "    # on constant velocity model x = vt + x_0\n",
    "    \n",
    "\n",
    "    #[x, x', x'', y, y', y'', z, z', z'']\n",
    "\n",
    "    F = np.matrix([[1.0, 0.0, 0.0, dt, 0.0, 0.0, 1/2.0*dt**2, 0.0, 0.0],    #x\n",
    "                    [0.0, 1.0, 0.0, 0.0,  dt, 0.0, 0.0, 1/2.0*dt**2, 0.0],  #y\n",
    "                    [0.0, 0.0, 1.0, 0.0, 0.0,  dt, 0.0, 0.0, 1/2.0*dt**2],  #z\n",
    "                    [0.0, 0.0, 0.0, 1.0, 0.0, 0.0,  dt, 0.0, 0.0],          #x'\n",
    "                    [0.0, 0.0, 0.0, 0.0, 1.0, 0.0, 0.0,  dt, 0.0],          #y'\n",
    "                    [0.0, 0.0, 0.0, 0.0, 0.0, 1.0, 0.0, 0.0,  dt],          #z'\n",
    "                    [0.0, 0.0, 0.0, 0.0, 0.0, 0.0, 1.0, 0.0, 0.0],          #x''\n",
    "                    [0.0, 0.0, 0.0, 0.0, 0.0, 0.0, 0.0, 1.0, 0.0],          #y''\n",
    "                    [0.0, 0.0, 0.0, 0.0, 0.0, 0.0, 0.0, 0.0, -9.8]])         #z''\n",
    "            \n",
    "    #B = np.array([0, 0, 0, 0, (dt**2)/2, dt])   #[x, x', y, y', z, z']\n",
    "\n",
    "    #u = np.array([[-9.8]]) # g\n",
    "    \n",
    "    return np.dot(F, x) \n",
    "\n",
    "def hx(x):\n",
    "    # measurement function - convert state into a measurement\n",
    "    # where measurements are [x_pos, y_pos, z_pos]\n",
    "\n",
    "    return x[[0, 1, 2]]\n",
    "\n",
    "class UK_filter():\n",
    "\n",
    "    def __init__(self, dt, x_std_meas, y_std_meas, z_std_meas, init_x, init_y, init_z):  \n",
    "    \n",
    "        self.init_x = init_x \n",
    "        self.init_y = init_y\n",
    "        self.init_z = init_z\n",
    "        self.dt = dt\n",
    "        self.z_std = 0.1\n",
    "\n",
    "        self.sigmas_points = MerweScaledSigmaPoints(9, alpha=.1, beta=2., kappa=1)\n",
    "        self.f = UnscentedKalmanFilter(dim_x=9, dim_z=9, dt=self.dt, fx=fx, hx=hx, points=self.sigmas_points)\n",
    "\n",
    "        self.f.x = np.array([self.init_x, self.init_y, self.init_z, 0, 0, 0, 0, 0, 0]) \n",
    "\n",
    "        self.f.P = np.eye(9)\n",
    "\n",
    "        #self.f.Q = Q_discrete_white_noise(3, dt = self.dt, var = 0.1**2, block_size = 3)\n",
    "        \n",
    "        self.f.Q = np.array([[(dt**6)/36, 0, 0, (dt**5)/12, 0, 0, (dt**4)/6, 0, 0],\n",
    "                               [0, (dt**6)/36, 0, 0, (dt**5)/12, 0, 0, (dt**4)/6, 0],\n",
    "                               [0, 0, (dt**6)/36, 0, 0, (dt**5)/12, 0, 0, (dt**4)/6],\n",
    "                               [(dt**5)/12, 0, 0, (dt**4)/4, 0, 0, (dt**3)/2, 0, 0],\n",
    "                               [0, (dt**5)/12, 0, 0, (dt**4)/4, 0, 0, (dt**3)/2, 0],\n",
    "                               [0, 0, (dt**5)/12, 0, 0, (dt**4)/4, 0, 0, (dt**3)/2],\n",
    "                               [(dt**4)/6, 0, 0, (dt**3)/2, 0, 0, (dt**2), 0, 0],\n",
    "                               [0, (dt**4)/6, 0, 0, (dt**3)/2, 0, 0, (dt**2), 0],\n",
    "                               [0, 0, (dt**4)/6, 0, 0, (dt**3)/2, 0, 0, (dt**2)]]) * 0.1**2\n",
    "        \n",
    "        self.f.R = np.array([[x_std_meas**2,0,0],\n",
    "                            [0, y_std_meas**2,0],\n",
    "                            [0, 0, y_std_meas**2]])\n",
    "\n",
    "        self.f.predict()\n"
   ]
  },
  {
   "cell_type": "code",
   "execution_count": 9,
   "metadata": {},
   "outputs": [],
   "source": [
    "centroid = [100, 100, 100]\n",
    "\n",
    "uk = UK_filter(dt = 0.03, \n",
    "                x_std_meas = 0.01, \n",
    "                y_std_meas = 0.1,\n",
    "                z_std_meas = 0.1,\n",
    "                init_x = centroid[0],\n",
    "                init_y = centroid[1],\n",
    "                init_z = centroid[2])"
   ]
  },
  {
   "cell_type": "code",
   "execution_count": 11,
   "metadata": {},
   "outputs": [],
   "source": [
    "uk.f.update([30,20,10])"
   ]
  },
  {
   "cell_type": "code",
   "execution_count": 5,
   "metadata": {},
   "outputs": [
    {
     "data": {
      "text/plain": [
       "array([30.00699301, 20.00799201, 10.00899101, -2.09884573, -2.39868083,\n",
       "       -2.69851594, -0.03146853, -0.03596403,  0.39650342])"
      ]
     },
     "execution_count": 5,
     "metadata": {},
     "output_type": "execute_result"
    }
   ],
   "source": [
    "uk.f.x"
   ]
  },
  {
   "cell_type": "code",
   "execution_count": 7,
   "metadata": {
    "collapsed": true
   },
   "outputs": [
    {
     "data": {
      "text/plain": [
       "array([[2.025e-09, 1.350e-07, 4.500e-06, 0.000e+00, 0.000e+00, 0.000e+00,\n",
       "        0.000e+00, 0.000e+00, 0.000e+00],\n",
       "       [1.350e-07, 9.000e-06, 3.000e-04, 0.000e+00, 0.000e+00, 0.000e+00,\n",
       "        0.000e+00, 0.000e+00, 0.000e+00],\n",
       "       [4.500e-06, 3.000e-04, 1.000e-02, 0.000e+00, 0.000e+00, 0.000e+00,\n",
       "        0.000e+00, 0.000e+00, 0.000e+00],\n",
       "       [0.000e+00, 0.000e+00, 0.000e+00, 2.025e-09, 1.350e-07, 4.500e-06,\n",
       "        0.000e+00, 0.000e+00, 0.000e+00],\n",
       "       [0.000e+00, 0.000e+00, 0.000e+00, 1.350e-07, 9.000e-06, 3.000e-04,\n",
       "        0.000e+00, 0.000e+00, 0.000e+00],\n",
       "       [0.000e+00, 0.000e+00, 0.000e+00, 4.500e-06, 3.000e-04, 1.000e-02,\n",
       "        0.000e+00, 0.000e+00, 0.000e+00],\n",
       "       [0.000e+00, 0.000e+00, 0.000e+00, 0.000e+00, 0.000e+00, 0.000e+00,\n",
       "        2.025e-09, 1.350e-07, 4.500e-06],\n",
       "       [0.000e+00, 0.000e+00, 0.000e+00, 0.000e+00, 0.000e+00, 0.000e+00,\n",
       "        1.350e-07, 9.000e-06, 3.000e-04],\n",
       "       [0.000e+00, 0.000e+00, 0.000e+00, 0.000e+00, 0.000e+00, 0.000e+00,\n",
       "        4.500e-06, 3.000e-04, 1.000e-02]])"
      ]
     },
     "execution_count": 7,
     "metadata": {},
     "output_type": "execute_result"
    }
   ],
   "source": [
    "uk.f.Q"
   ]
  },
  {
   "cell_type": "code",
   "execution_count": 12,
   "metadata": {
    "collapsed": true
   },
   "outputs": [
    {
     "data": {
      "text/plain": [
       "array([[2.025e-13, 0.000e+00, 0.000e+00, 2.025e-11, 0.000e+00, 0.000e+00,\n",
       "        1.350e-09, 0.000e+00, 0.000e+00],\n",
       "       [0.000e+00, 2.025e-13, 0.000e+00, 0.000e+00, 2.025e-11, 0.000e+00,\n",
       "        0.000e+00, 1.350e-09, 0.000e+00],\n",
       "       [0.000e+00, 0.000e+00, 2.025e-13, 0.000e+00, 0.000e+00, 2.025e-11,\n",
       "        0.000e+00, 0.000e+00, 1.350e-09],\n",
       "       [2.025e-11, 0.000e+00, 0.000e+00, 2.025e-09, 0.000e+00, 0.000e+00,\n",
       "        1.350e-07, 0.000e+00, 0.000e+00],\n",
       "       [0.000e+00, 2.025e-11, 0.000e+00, 0.000e+00, 2.025e-09, 0.000e+00,\n",
       "        0.000e+00, 1.350e-07, 0.000e+00],\n",
       "       [0.000e+00, 0.000e+00, 2.025e-11, 0.000e+00, 0.000e+00, 2.025e-09,\n",
       "        0.000e+00, 0.000e+00, 1.350e-07],\n",
       "       [1.350e-09, 0.000e+00, 0.000e+00, 1.350e-07, 0.000e+00, 0.000e+00,\n",
       "        9.000e-06, 0.000e+00, 0.000e+00],\n",
       "       [0.000e+00, 1.350e-09, 0.000e+00, 0.000e+00, 1.350e-07, 0.000e+00,\n",
       "        0.000e+00, 9.000e-06, 0.000e+00],\n",
       "       [0.000e+00, 0.000e+00, 1.350e-09, 0.000e+00, 0.000e+00, 1.350e-07,\n",
       "        0.000e+00, 0.000e+00, 9.000e-06]])"
      ]
     },
     "execution_count": 12,
     "metadata": {},
     "output_type": "execute_result"
    }
   ],
   "source": [
    "uk.f.Q"
   ]
  },
  {
   "cell_type": "code",
   "execution_count": 28,
   "metadata": {},
   "outputs": [
    {
     "name": "stdout",
     "output_type": "stream",
     "text": [
      "[[-2.34618559e-01 -4.02991878e+00  8.04024001e+02]\n",
      " [ 2.38399528e-01 -4.02769729e+00  6.53202159e+02]\n",
      " [ 7.35523219e-06 -6.21379005e-03  1.00000000e+00]]\n",
      "[[ 2.26355288e-01 -3.96787505e+00  6.46430758e+02]\n",
      " [ 2.26086351e-01  3.31465582e-01 -2.04673291e+02]\n",
      " [-2.51029938e-05 -6.15316812e-03  1.00000000e+00]]\n"
     ]
    }
   ],
   "source": [
    "\n",
    "camera_L_points = np.float32([[26,198],[318,181],[639,200],[177,316]])\n",
    "camera_R_points = np.float32([[317,181],[615,198],[442,316],[0,200]])\n",
    "\n",
    "court_img_L_points = np.float32([[0,600],[0,0],[638,0],[531,600]])\n",
    "court_img_R_points = np.float32([[0,600],[0,0],[531,0],[638,600]])\n",
    "\n",
    "\n",
    "\n",
    "h_L = cv2.getPerspectiveTransform(camera_L_points, court_img_L_points)\n",
    "h_R = cv2.getPerspectiveTransform(camera_R_points, court_img_R_points)\n",
    "\n",
    "print(h_L)\n",
    "print(h_R)"
   ]
  },
  {
   "cell_type": "code",
   "execution_count": 47,
   "metadata": {},
   "outputs": [],
   "source": [
    "a = h_L @ np.array([305,195,1]).reshape(3,1)"
   ]
  },
  {
   "cell_type": "code",
   "execution_count": 63,
   "metadata": {},
   "outputs": [
    {
     "data": {
      "text/plain": [
       "array([346.51853345])"
      ]
     },
     "execution_count": 63,
     "metadata": {},
     "output_type": "execute_result"
    }
   ],
   "source": [
    "a[0]/a[2]"
   ]
  },
  {
   "cell_type": "code",
   "execution_count": 64,
   "metadata": {},
   "outputs": [
    {
     "data": {
      "text/plain": [
       "array([309.98916497])"
      ]
     },
     "execution_count": 64,
     "metadata": {},
     "output_type": "execute_result"
    }
   ],
   "source": [
    "a[1]/a[2]"
   ]
  },
  {
   "cell_type": "code",
   "execution_count": 62,
   "metadata": {},
   "outputs": [],
   "source": [
    "a = h_R @ np.array([926 - 640, 200,1]).reshape(3,1)"
   ]
  },
  {
   "cell_type": "code",
   "execution_count": 85,
   "metadata": {
    "scrolled": true
   },
   "outputs": [
    {
     "name": "stdout",
     "output_type": "stream",
     "text": [
      "8.548994092874318\n",
      "9.02957917070336\n",
      "9.205938300901218\n"
     ]
    }
   ],
   "source": [
    "point = np.matrix([[-8.01],\n",
    "                 [4.11],\n",
    "                 [0]])\n",
    "point = [-6.02, -0.33, 1]\n",
    "[5.930308, 5.9304457, 11.355419]\n",
    "\n",
    "\n",
    "print(np.sqrt(point[0] **2 + (point[1] - (-6.4)) ** 2 + (point[2] - 1) ** 2))\n",
    "print(np.sqrt(point[0] **2 + (point[1] - (6.4)) ** 2 + (point[2] - 1) ** 2))\n",
    "print(np.sqrt((point[0] - (-15)) **2 + point[1] ** 2 + (point[2] - 3) ** 2))"
   ]
  },
  {
   "cell_type": "code",
   "execution_count": 78,
   "metadata": {},
   "outputs": [],
   "source": [
    "x = Symbol('x')\n",
    "y = Symbol('y')\n",
    "z = Symbol('z')\n",
    "\n",
    "depth = [10.217538, 9.828651, 7.930579662322998]\n",
    "\n",
    "b = x**2 + (y + 6.4) ** 2 + (z - 1) ** 2 - depth[0] ** 2\n",
    "a = x**2 + (y - 6.4) ** 2 + (z - 1) ** 2 - depth[1] ** 2\n",
    "c = (x + 15) ** 2 + y ** 2 + (z - 3) ** 2 - depth[2] ** 2"
   ]
  },
  {
   "cell_type": "code",
   "execution_count": 79,
   "metadata": {
    "scrolled": true
   },
   "outputs": [
    {
     "name": "stdout",
     "output_type": "stream",
     "text": [
      "[{x: -7.64989018878984, y: 0.304519621157930, z: 0.0373580466189902}, {x: -7.13042451755325, y: 0.304519621157930, z: 3.93335058089342}]\n"
     ]
    }
   ],
   "source": [
    "print(solve((a,b,c)))"
   ]
  },
  {
   "cell_type": "code",
   "execution_count": 28,
   "metadata": {},
   "outputs": [],
   "source": [
    " focal_length = 640 / (2.0 * np.tan(1.50098/2.0))"
   ]
  },
  {
   "cell_type": "code",
   "execution_count": 2,
   "metadata": {},
   "outputs": [],
   "source": [
    "a = np.array([np.nan,np.nan,np.nan])"
   ]
  },
  {
   "cell_type": "code",
   "execution_count": 5,
   "metadata": {},
   "outputs": [
    {
     "data": {
      "text/plain": [
       "True"
      ]
     },
     "execution_count": 5,
     "metadata": {},
     "output_type": "execute_result"
    }
   ],
   "source": [
    "np.isnan(a[0])"
   ]
  },
  {
   "cell_type": "code",
   "execution_count": 16,
   "metadata": {},
   "outputs": [],
   "source": [
    "\n",
    "def draw_point_3D(real_ball_trajectory_list, estimation_ball_trajectory_list):\n",
    "        \n",
    "\n",
    "        real_x = []\n",
    "        real_y = []\n",
    "        real_z = []\n",
    "        esti_x = []\n",
    "        esti_y = []\n",
    "        esti_z = []\n",
    "\n",
    "        for i in range((len(real_ball_trajectory_list))):\n",
    "\n",
    "            real_x.append(real_ball_trajectory_list[i][0])\n",
    "            real_y.append(real_ball_trajectory_list[i][1])\n",
    "            real_z.append(real_ball_trajectory_list[i][2])\n",
    "\n",
    "            ax.plot3D(real_x, real_y, real_z, 'red')\n",
    "\n",
    "\n",
    "        for j in range((len(estimation_ball_trajectory_list))):\n",
    "\n",
    "            esti_x.append(estimation_ball_trajectory_list[j][0])\n",
    "            esti_y.append(estimation_ball_trajectory_list[j][1])\n",
    "            esti_z.append(estimation_ball_trajectory_list[j][2])\n",
    "\n",
    "            ax.plot3D(esti_x, esti_y, esti_z, 'blue')\n",
    "\n",
    "       "
   ]
  },
  {
   "cell_type": "code",
   "execution_count": 18,
   "metadata": {},
   "outputs": [],
   "source": [
    "real_ball_trajectory_list =  [[-10.625, -2.284, 1.759], [-9.407, -2.074, 1.997], [-7.969, -1.832, 2.226], [-6.533, -1.597, 2.396], [-5.176, -1.379, 2.504], [-3.988, -1.192, 2.556], [-2.593, -0.978, 2.565], [-1.333, -0.786, 2.524], [-0.223, -0.617, 2.445]]\n",
    "estimation_ball_trajectory_list =  [[-11.253518534143861, -2.404967213012043, 1.6081490034740993], [-9.752641483540874, -2.128997130851256, 1.9134226567739963], [-8.291614135850025, -1.8856938337555267, 2.1259198937132617], [-6.882515822948473, -1.6529807512295243, 2.3590684109799147], [-5.577961412598646, -1.4445077880487691, 2.470015965525062], [-4.311206224718138, -1.2490537212459243, 2.5353311812823307], [-2.9625125884717294, -1.0371818784588367, 2.5590434605401917], [-1.7949310436030408, -0.8509251973853535, 2.530924368505894], [-0.9018243378625923, -0.6659461897659202, 2.456246584234343]]\n"
   ]
  },
  {
   "cell_type": "code",
   "execution_count": 19,
   "metadata": {},
   "outputs": [
    {
     "name": "stdout",
     "output_type": "stream",
     "text": [
      "9 9\n"
     ]
    }
   ],
   "source": [
    "print(len(real_ball_trajectory_list), len(estimation_ball_trajectory_list))"
   ]
  },
  {
   "cell_type": "code",
   "execution_count": 20,
   "metadata": {},
   "outputs": [
    {
     "data": {
      "image/png": "[encoded data removed]",
      "text/plain": [
       "<Figure size 432x288 with 1 Axes>"
      ]
     },
     "metadata": {
      "needs_background": "light"
     },
     "output_type": "display_data"
    }
   ],
   "source": [
    "fig_3d = plt.figure()\n",
    "ax = plt.axes(projection=\"3d\")\n",
    "draw_point_3D(real_ball_trajectory_list, estimation_ball_trajectory_list)\n",
    "\n",
    "plt.show()"
   ]
  },
  {
   "cell_type": "code",
   "execution_count": 3,
   "metadata": {},
   "outputs": [],
   "source": [
    "def cal_ball_position(ball_height_list, ball_distance_list):\n",
    "\n",
    "    height = sum(ball_height_list[:2]) / 2 - 1\n",
    "\n",
    "    th_L = np.arccos((ball_distance_list[0] ** 2 + 12.8 ** 2 - ball_distance_list[1]**2) / (2 * 12.8 * ball_distance_list[0]))\n",
    "    #th_R = np.arccos((ball_depth_list[1] ** 2 + 12.8 ** 2 - ball_depth_list[0]**2) / (2 * 12.8 * ball_depth_list[1]))\n",
    "\n",
    "    ball2net_length_x_L = ball_distance_list[0] * np.sin(th_L)\n",
    "    ball_position_y_L = ball_distance_list[0] * np.cos(th_L)\n",
    "\n",
    "    ball_plate_angle_L = np.sin(height / ball2net_length_x_L)\n",
    "\n",
    "    ball_position_x_L = ball2net_length_x_L * np.cos(ball_plate_angle_L)\n",
    "\n",
    "    #ball2net_length_x_R = ball_depth_list[1] * np.sin(th_R)\n",
    "    #ball_position_y_R = ball_depth_list[1] * np.cos(th_R)\n",
    "\n",
    "    #ball_plate_angle_R = np.sin(height / ball2net_length_x_R)\n",
    "\n",
    "    #ball_position_x_R = ball2net_length_x_R * np.cos(ball_plate_angle_R)\n",
    "\n",
    "    return [-ball_position_x_L, ball_position_y_L - 6.4, height + 1]"
   ]
  },
  {
   "cell_type": "code",
   "execution_count": 5,
   "metadata": {},
   "outputs": [
    {
     "data": {
      "text/plain": [
       "[-10.967803557522545, 0.1709653125000017, 1.776]"
      ]
     },
     "execution_count": 5,
     "metadata": {},
     "output_type": "execute_result"
    }
   ],
   "source": [
    "a = [12.809, 12.637]\n",
    "b = [1.776,1.776]\n",
    "\n",
    "cal_ball_position(b,a)"
   ]
  },
  {
   "cell_type": "code",
   "execution_count": 86,
   "metadata": {},
   "outputs": [
    {
     "name": "stdout",
     "output_type": "stream",
     "text": [
      "9.32065972291495\n",
      "5.515483085856488\n",
      "11.800572684000088\n"
     ]
    }
   ],
   "source": [
    "point = [-3.581137, 2.2052400, 1]\n",
    "\n",
    "\n",
    "print(np.sqrt(point[0] **2 + (point[1] - (-6.4)) ** 2 + (point[2] - 1) ** 2))\n",
    "print(np.sqrt(point[0] **2 + (point[1] - (6.4)) ** 2 + (point[2] - 1) ** 2))\n",
    "print(np.sqrt((point[0] - (-15)) **2 + point[1] ** 2 + (point[2] - 3) ** 2))"
   ]
  },
  {
   "cell_type": "code",
   "execution_count": 69,
   "metadata": {},
   "outputs": [],
   "source": [
    "real_ball_trajectory_list =  [[-8.019, -4.153, 2.055], [-3.984, -3.32, 2.135], [-1.064, -2.763, 1.863], [-9.568, -4.36, 1.922], [-8.224, -3.967, 2.046], [-6.838, -3.592, 2.123], [-5.439, -3.248, 2.151], [-3.18, -2.726, 2.08], [-8.181, -4.585, 2.034], [-6.733, -4.375, 2.117], [-5.357, -4.193, 2.148], [-4.024, -4.028, 2.137], [-2.901, -3.891, 2.086], [-8.293, -4.827, 2.027], [-6.754, -4.673, 2.12], [-5.309, -4.54, 2.159], [-1.756, -4.236, 2.015], [-7.629, -4.688, 2.073], [-6.227, -4.535, 2.137], [-4.931, -4.405, 2.157], [-1.574, -4.082, 1.983], [-7.984, -4.821, 2.045], [-6.616, -4.694, 2.118], [-5.21, -4.574, 2.147], [-3.952, -4.474, 2.134], [-1.738, -4.299, 1.989], [-0.844, -4.228, 1.87], [-9.688, -4.428, 1.91], [-8.284, -4.024, 2.044], [-6.967, -3.673, 2.125], [-5.568, -3.33, 2.162], [-4.166, -3.011, 2.149], [-3.047, -2.757, 2.095], [-2.084, -2.538, 2.003], [-9.389, -4.75, 1.928], [-7.75, -4.485, 2.064], [-6.213, -4.258, 2.134], [-4.832, -4.071, 2.149], [-3.531, -3.9, 2.12], [-2.384, -3.749, 2.049], [-1.26, -3.601, 1.923], [-9.609, -4.714, 1.905], [-8.165, -4.442, 2.038], [-6.875, -4.217, 2.114], [-5.601, -4.01, 2.149], [-3.167, -3.644, 2.107], [-2.195, -3.499, 2.034], [-1.277, -3.362, 1.925], [-9.756, -4.595, 1.893], [-8.281, -4.242, 2.034], [-7.027, -3.964, 2.112], [-5.724, -3.696, 2.151], [-4.502, -3.462, 2.151], [-3.374, -3.25, 2.114], [-2.342, -3.056, 2.04], [-1.422, -2.883, 1.931], [-8.168, -4.344, 2.042], [-6.822, -4.083, 2.121], [-5.494, -3.844, 2.155], [-1.942, -3.249, 2.008], [-0.795, -3.058, 1.849], [-9.566, -4.687, 1.911], [-8.129, -4.411, 2.041], [-6.782, -4.171, 2.116], [-5.497, -3.96, 2.148], [-2.901, -3.566, 2.082], [-1.9, -3.415, 1.99], [-9.429, -4.767, 1.926], [-7.937, -4.528, 2.056], [-6.56, -4.325, 2.13], [-5.225, -4.143, 2.158], [-4.006, -3.988, 2.147], [-2.849, -3.841, 2.098], [-1.84, -3.714, 2.013], [-0.912, -3.596, 1.892], [-8.196, -4.915, 2.03], [-6.749, -4.8, 2.115], [-5.37, -4.699, 2.15], [-3.878, -4.597, 2.139], [-2.607, -4.51, 2.079], [-9.565, -4.604, 1.914], [-8.225, -4.31, 2.037], [-6.842, -4.029, 2.117], [-7.955, -4.838, 2.046], [-6.52, -4.71, 2.121], [-5.088, -4.593, 2.148], [-1.5, -4.316, 1.969], [-0.549, -4.243, 1.834], [-8.32, -3.984, 2.035], [-6.977, -3.615, 2.114], [-4.524, -3.015, 2.137], [-1.396, -2.282, 1.868], [-0.461, -2.063, 1.703], [-8.324, -4.602, 2.022], [-7.026, -4.41, 2.102], [-5.663, -4.224, 2.142], [-1.312, -3.676, 1.913], [-0.385, -3.56, 1.762]]\n",
    "estimation_ball_trajectory_list =  [[-8.436, -4.151, 1.983], [-4.337, -3.388, 2.135], [-1.353, -2.776, 1.92], [-10.041, -4.356, 1.83], [-8.644, -3.97, 1.978], [-7.442, -3.444, 2.084], [-5.777, -3.329, 2.14], [-3.438, -2.784, 2.092], [-8.682, -4.665, 1.981], [-7.267, -4.45, 2.081], [-5.846, -4.25, 2.128], [-4.496, -4.082, 2.139], [-3.18, -3.907, 2.09], [-8.696, -4.808, 1.941], [-7.189, -4.661, 2.052], [-5.679, -4.565, 2.137], [-2.237, -4.187, 2.049], [-7.994, -4.722, 2.029], [-6.599, -4.566, 2.116], [-5.313, -4.443, 2.151], [-1.787, -4.086, 2.003], [-8.446, -4.809, 1.965], [-7.018, -4.674, 2.054], [-5.592, -4.602, 2.127], [-4.355, -4.465, 2.098], [-2.019, -4.302, 2.014], [-1.067, -4.218, 1.892], [-10.166, -4.442, 1.825], [-8.655, -4.135, 2.02], [-7.347, -3.772, 2.085], [-6.058, -3.45, 2.148], [-4.624, -2.962, 2.149], [-3.279, -2.809, 2.106], [-2.318, -2.592, 2.026], [-10.017, -4.467, 1.869], [-8.218, -4.488, 1.984], [-6.654, -4.318, 2.111], [-5.274, -4.127, 2.136], [-3.939, -3.941, 2.118], [-2.758, -3.786, 2.069], [-1.598, -3.578, 1.957], [-9.965, -4.786, 1.843], [-8.553, -4.513, 1.995], [-7.27, -4.215, 2.06], [-5.999, -4.016, 2.118], [-3.459, -3.679, 2.111], [-2.429, -3.527, 2.059], [-1.465, -3.382, 1.949], [-10.23, -4.586, 1.792], [-8.711, -4.343, 1.999], [-7.439, -3.978, 2.059], [-6.059, -3.765, 2.132], [-4.818, -3.515, 2.148], [-3.652, -3.302, 2.12], [-2.588, -3.1, 2.064], [-1.623, -2.914, 1.952], [-8.614, -4.441, 2.002], [-7.213, -4.158, 2.094], [-5.874, -3.913, 2.151], [-2.276, -3.305, 2.033], [-1.046, -3.055, 1.886], [-10.027, -4.668, 1.827], [-8.571, -4.4, 1.958], [-7.184, -4.165, 2.062], [-6.112, -3.824, 2.13], [-3.232, -3.61, 2.091], [-2.179, -3.449, 2.011], [-9.855, -4.754, 1.851], [-8.409, -4.52, 1.986], [-7.009, -4.323, 2.063], [-5.63, -4.193, 2.14], [-4.298, -4.014, 2.147], [-3.149, -3.874, 2.107], [-2.1, -3.742, 2.031], [-1.122, -3.606, 1.918], [-8.685, -4.949, 1.985], [-7.269, -4.829, 2.078], [-5.865, -4.726, 2.144], [-4.433, -4.472, 2.127], [-2.899, -4.517, 2.085], [-10.051, -4.722, 1.859], [-8.673, -4.301, 1.955], [-7.27, -4.03, 2.053], [-8.369, -4.875, 2.005], [-6.93, -4.674, 2.053], [-5.486, -4.578, 2.108], [-1.741, -4.322, 1.993], [-0.805, -4.244, 1.862], [-8.8, -4.126, 1.987], [-7.415, -3.739, 2.082], [-4.819, -3.081, 2.144], [-1.654, -2.35, 1.909], [-0.609, -2.126, 1.748], [-8.707, -4.674, 1.973], [-7.362, -4.454, 2.08], [-6.009, -4.264, 2.128], [-1.573, -3.699, 1.941], [-0.646, -3.582, 1.807]]\n",
    "\n",
    "\n",
    "real = np.array(real_ball_trajectory_list)\n",
    "esti = np.array(estimation_ball_trajectory_list)"
   ]
  },
  {
   "cell_type": "code",
   "execution_count": 70,
   "metadata": {},
   "outputs": [
    {
     "data": {
      "text/plain": [
       "(98, 3)"
      ]
     },
     "execution_count": 70,
     "metadata": {},
     "output_type": "execute_result"
    }
   ],
   "source": [
    "real.shape"
   ]
  },
  {
   "cell_type": "code",
   "execution_count": 76,
   "metadata": {
    "scrolled": true
   },
   "outputs": [
    {
     "data": {
      "text/plain": [
       "0.3782653061224492"
      ]
     },
     "execution_count": 76,
     "metadata": {},
     "output_type": "execute_result"
    }
   ],
   "source": [
    "sum(real[:,0] - esti[:,0]) / real.shape[0]"
   ]
  },
  {
   "cell_type": "code",
   "execution_count": 75,
   "metadata": {},
   "outputs": [
    {
     "data": {
      "text/plain": [
       "0.02370408163265307"
      ]
     },
     "execution_count": 75,
     "metadata": {},
     "output_type": "execute_result"
    }
   ],
   "source": [
    "sum(real[:,1] - esti[:,1]) / real.shape[0]"
   ]
  },
  {
   "cell_type": "code",
   "execution_count": 74,
   "metadata": {},
   "outputs": [
    {
     "data": {
      "text/plain": [
       "0.02037755102040814"
      ]
     },
     "execution_count": 74,
     "metadata": {},
     "output_type": "execute_result"
    }
   ],
   "source": [
    "sum(real[:,2] - esti[:,2]) / real.shape[0]"
   ]
  },
  {
   "cell_type": "code",
   "execution_count": 30,
   "metadata": {},
   "outputs": [],
   "source": [
    "def cal_landing_point(pos, vel):\n",
    "    t_list = []\n",
    "\n",
    "    x0, y0, z0 = pos[0], pos[1], pos[2]\n",
    "    vx, vy, vz = vel[0], vel[1], vel[2]\n",
    "\n",
    "    a = -((0.5 * 0.507 * 1.2041 * np.pi * (0.033 ** 2) * vz ** 2 ) / 0.057 + 9.8 / 2 )\n",
    "    b = vz\n",
    "    c = z0\n",
    "\n",
    "    t_list.append((-b + np.sqrt(b ** 2 - 4 * a * c))/(2 * a))\n",
    "    t_list.append((-b - np.sqrt(b ** 2 - 4 * a * c))/(2 * a))\n",
    "\n",
    "    t = max(t_list)\n",
    "\n",
    "    x = np.array(x0 + vx * t - (0.5 * 0.507 * 1.2041 * np.pi * (0.033 ** 2) * vx ** 2 ) * (t ** 2) / 0.057,float)\n",
    "    y = np.array(y0 + vy * t - (0.5 * 0.507 * 1.2041 * np.pi * (0.033 ** 2) * vy ** 2 ) * (t ** 2) / 0.057,float)\n",
    "    z = np.array(z0 + vz * t - ((0.5 * 0.507 * 1.2041 * np.pi * (0.033 ** 2) * vz ** 2 ) / 0.057 + 9.8 / 2) * (t ** 2),float)\n",
    "\n",
    "    return x, y, z"
   ]
  },
  {
   "cell_type": "code",
   "execution_count": 36,
   "metadata": {},
   "outputs": [
    {
     "name": "stdout",
     "output_type": "stream",
     "text": [
      "(array(4.23870792), array(1.32126774), array(0.))\n",
      "(array(5.24515374), array(1.48026305), array(4.4408921e-16))\n"
     ]
    }
   ],
   "source": [
    "real_ball_pos = [-5.732, -0.121, 2.523]\n",
    "camera_preadict_pos =  [-5.578, -0.151, 2.529]\n",
    "ball_val =  [17.371, 1.934, -0.445]\n",
    "real_ball_val =  [18.50223393549761, 2.0893857924319046, -0.07884474688421994]\n",
    "esti_ball_val =  [20.328803904982106, 2.2996384507898315, 0.13140791147370184]\n",
    "\n",
    "\n",
    "\n",
    "\n",
    "print(cal_landing_point(real_ball_pos, real_ball_val))\n",
    "print(cal_landing_point(camera_preadict_pos, esti_ball_val))"
   ]
  },
  {
   "cell_type": "code",
   "execution_count": 32,
   "metadata": {},
   "outputs": [
    {
     "name": "stdout",
     "output_type": "stream",
     "text": [
      "esti_ball_landing_point =  [1.73, -0.016, 0.0]\n"
     ]
    }
   ],
   "source": [
    "esti_ball_landing_point =  [1.72977204028550, -0.0160365672019290, 2.22044604925031e-15]\n",
    "\n",
    "print(\"esti_ball_landing_point = \", [np.around(esti_ball_landing_point[0],3), np.around(esti_ball_landing_point[1],3), np.around(esti_ball_landing_point[2],3)])\n"
   ]
  },
  {
   "cell_type": "code",
   "execution_count": 10,
   "metadata": {},
   "outputs": [
    {
     "ename": "NameError",
     "evalue": "name 'vz' is not defined",
     "output_type": "error",
     "traceback": [
      "\u001b[0;31m---------------------------------------------------------------------------\u001b[0m",
      "\u001b[0;31mNameError\u001b[0m                                 Traceback (most recent call last)",
      "\u001b[0;32m<ipython-input-10-a9b825730e39>\u001b[0m in \u001b[0;36m<module>\u001b[0;34m\u001b[0m\n\u001b[0;32m----> 1\u001b[0;31m \u001b[0meq\u001b[0m \u001b[0;34m=\u001b[0m \u001b[0;34m-\u001b[0m\u001b[0;34m(\u001b[0m\u001b[0;34m(\u001b[0m\u001b[0;36m0.5\u001b[0m \u001b[0;34m*\u001b[0m \u001b[0;36m0.507\u001b[0m \u001b[0;34m*\u001b[0m \u001b[0;36m1.2041\u001b[0m \u001b[0;34m*\u001b[0m \u001b[0mnp\u001b[0m\u001b[0;34m.\u001b[0m\u001b[0mpi\u001b[0m \u001b[0;34m*\u001b[0m \u001b[0;34m(\u001b[0m\u001b[0;36m0.033\u001b[0m \u001b[0;34m**\u001b[0m \u001b[0;36m2\u001b[0m\u001b[0;34m)\u001b[0m \u001b[0;34m*\u001b[0m \u001b[0mvz\u001b[0m \u001b[0;34m**\u001b[0m \u001b[0;36m2\u001b[0m \u001b[0;34m)\u001b[0m \u001b[0;34m/\u001b[0m \u001b[0;36m0.057\u001b[0m \u001b[0;34m+\u001b[0m \u001b[0;36m9.8\u001b[0m\u001b[0;34m)\u001b[0m \u001b[0;34m*\u001b[0m \u001b[0mtime\u001b[0m \u001b[0;34m**\u001b[0m \u001b[0;36m2\u001b[0m \u001b[0;34m+\u001b[0m \u001b[0mvz\u001b[0m \u001b[0;34m*\u001b[0m \u001b[0mtime\u001b[0m \u001b[0;34m+\u001b[0m \u001b[0mz0\u001b[0m\u001b[0;34m\u001b[0m\u001b[0;34m\u001b[0m\u001b[0m\n\u001b[0m\u001b[1;32m      2\u001b[0m \u001b[0;34m\u001b[0m\u001b[0m\n\u001b[1;32m      3\u001b[0m \u001b[0ma\u001b[0m \u001b[0;34m=\u001b[0m \u001b[0;34m-\u001b[0m\u001b[0;34m(\u001b[0m\u001b[0;34m(\u001b[0m\u001b[0;36m0.5\u001b[0m \u001b[0;34m*\u001b[0m \u001b[0;36m0.507\u001b[0m \u001b[0;34m*\u001b[0m \u001b[0;36m1.2041\u001b[0m \u001b[0;34m*\u001b[0m \u001b[0mnp\u001b[0m\u001b[0;34m.\u001b[0m\u001b[0mpi\u001b[0m \u001b[0;34m*\u001b[0m \u001b[0;34m(\u001b[0m\u001b[0;36m0.033\u001b[0m \u001b[0;34m**\u001b[0m \u001b[0;36m2\u001b[0m\u001b[0;34m)\u001b[0m \u001b[0;34m*\u001b[0m \u001b[0mvz\u001b[0m \u001b[0;34m**\u001b[0m \u001b[0;36m2\u001b[0m \u001b[0;34m)\u001b[0m \u001b[0;34m/\u001b[0m \u001b[0;36m0.057\u001b[0m \u001b[0;34m+\u001b[0m \u001b[0;36m9.8\u001b[0m\u001b[0;34m)\u001b[0m\u001b[0;34m\u001b[0m\u001b[0;34m\u001b[0m\u001b[0m\n\u001b[1;32m      4\u001b[0m \u001b[0mb\u001b[0m \u001b[0;34m=\u001b[0m \u001b[0mvz\u001b[0m\u001b[0;34m\u001b[0m\u001b[0;34m\u001b[0m\u001b[0m\n\u001b[1;32m      5\u001b[0m \u001b[0mc\u001b[0m \u001b[0;34m=\u001b[0m \u001b[0mz0\u001b[0m\u001b[0;34m\u001b[0m\u001b[0;34m\u001b[0m\u001b[0m\n",
      "\u001b[0;31mNameError\u001b[0m: name 'vz' is not defined"
     ]
    }
   ],
   "source": [
    "eq = -((0.5 * 0.507 * 1.2041 * np.pi * (0.033 ** 2) * vz ** 2 ) / 0.057 + 9.8) * time ** 2 + vz * time + z0\n",
    "\n",
    "a = -((0.5 * 0.507 * 1.2041 * np.pi * (0.033 ** 2) * vz ** 2 ) / 0.057 + 9.8)\n",
    "b = vz\n",
    "c = z0\n",
    "\n",
    "sol = (-b + np.sqrt(b ** 2 - 4 * a * c))/(2 * a)"
   ]
  },
  {
   "cell_type": "code",
   "execution_count": 60,
   "metadata": {},
   "outputs": [
    {
     "name": "stdout",
     "output_type": "stream",
     "text": [
      "(100, 3) (100, 3)\n"
     ]
    }
   ],
   "source": [
    "with open('실험 데이터/4real_ball_list.bin', 'rb') as f:\n",
    "    real_landing_point = pickle.load(f)\n",
    "\n",
    "with open('실험 데이터/4esti_ball_list.bin', 'rb') as f:\n",
    "    esti_landing_point = pickle.load(f)\n",
    "    \n",
    "print(real_landing_point.shape, esti_landing_point.shape)"
   ]
  },
  {
   "cell_type": "code",
   "execution_count": 61,
   "metadata": {},
   "outputs": [
    {
     "name": "stdout",
     "output_type": "stream",
     "text": [
      "MAE\n",
      "0.25931\n",
      "0.056929999999999994\n",
      "MSE\n",
      "0.11588589000000002\n",
      "0.050190730000000024\n",
      "RMSE\n",
      "0.3404201668526705\n",
      "0.22403287705156139\n",
      "R2 Score\n",
      "1.0113696456901113\n",
      "0.996668522914896\n"
     ]
    }
   ],
   "source": [
    "print('MAE')\n",
    "print((sum(abs((real_landing_point[:,0]  - esti_landing_point[:,0]))) / esti_landing_point.shape[0]))\n",
    "print((sum(abs((real_landing_point[:,1]  - esti_landing_point[:,1]))) / esti_landing_point.shape[0]))\n",
    "\n",
    "print('MSE')\n",
    "print((sum((real_landing_point[:,0]  - esti_landing_point[:,0]) ** 2) / esti_landing_point.shape[0]))\n",
    "print((sum((real_landing_point[:,1]  - esti_landing_point[:,1]) ** 2) / esti_landing_point.shape[0]))\n",
    "\n",
    "\n",
    "print('RMSE')\n",
    "print(np.sqrt(sum((real_landing_point[:,0]  - esti_landing_point[:,0]) ** 2) / esti_landing_point.shape[0]))\n",
    "print(np.sqrt(sum((real_landing_point[:,1] - esti_landing_point[:,1]) ** 2) / esti_landing_point.shape[0]))\n",
    "\n",
    "print('R2 Score')\n",
    "print(sum(esti_landing_point[:,0])/ sum(real_landing_point[:,0]))\n",
    "print(sum(esti_landing_point[:,1])/ sum(real_landing_point[:,1]))\n"
   ]
  },
  {
   "cell_type": "code",
   "execution_count": 8,
   "metadata": {
    "collapsed": true
   },
   "outputs": [
    {
     "data": {
      "text/plain": [
       "array([[ 5.019e+00,  2.099e+00,  2.000e-03],\n",
       "       [ 5.341e+00,  2.015e+00,  1.000e-03],\n",
       "       [ 5.996e+00, -5.980e-01,  7.000e-03],\n",
       "       [ 5.130e+00,  2.010e+00,  1.000e-03],\n",
       "       [ 5.215e+00, -2.660e-01,  8.000e-03],\n",
       "       [ 5.929e+00,  1.880e-01,  3.500e-02],\n",
       "       [ 5.083e+00,  1.816e+00,  8.000e-03],\n",
       "       [ 5.648e+00,  1.494e+00,  9.000e-03],\n",
       "       [ 5.736e+00,  8.240e-01,  1.800e-02],\n",
       "       [ 5.997e+00, -2.164e+00,  1.900e-02],\n",
       "       [ 5.660e+00, -9.060e-01,  2.000e-02],\n",
       "       [ 5.156e+00,  5.140e-01,  1.500e-02],\n",
       "       [ 5.798e+00,  5.810e-01,  3.000e-03],\n",
       "       [ 5.424e+00, -1.340e+00,  1.300e-02],\n",
       "       [ 6.033e+00, -1.484e+00,  1.200e-02],\n",
       "       [ 5.258e+00, -1.394e+00,  1.800e-02],\n",
       "       [ 5.521e+00, -2.780e-01,  3.000e-03],\n",
       "       [ 5.207e+00,  1.698e+00,  1.500e-02],\n",
       "       [ 5.561e+00,  8.100e-02,  1.900e-02],\n",
       "       [ 5.899e+00,  9.760e-01,  2.500e-02],\n",
       "       [ 5.457e+00, -5.180e-01,  7.000e-03],\n",
       "       [ 6.093e+00, -1.636e+00,  1.400e-02],\n",
       "       [ 6.248e+00,  1.668e+00,  2.600e-02],\n",
       "       [ 6.150e+00,  2.094e+00,  2.700e-02],\n",
       "       [ 5.794e+00,  2.192e+00,  4.000e-03],\n",
       "       [ 5.630e+00, -9.610e-01,  7.000e-03],\n",
       "       [ 5.483e+00,  6.950e-01,  1.700e-02],\n",
       "       [ 6.096e+00,  1.645e+00,  6.000e-03],\n",
       "       [ 5.381e+00, -2.184e+00,  5.000e-03],\n",
       "       [ 5.176e+00,  1.749e+00,  0.000e+00],\n",
       "       [ 5.576e+00, -1.839e+00,  2.000e-02],\n",
       "       [ 5.363e+00,  8.510e-01,  8.000e-03],\n",
       "       [ 5.975e+00,  5.260e-01,  2.200e-02],\n",
       "       [ 6.045e+00,  1.353e+00,  2.500e-02],\n",
       "       [ 5.896e+00, -8.800e-02,  2.600e-02],\n",
       "       [ 5.350e+00, -1.179e+00,  1.600e-02],\n",
       "       [ 5.852e+00, -9.830e-01,  3.000e-03],\n",
       "       [ 6.084e+00, -1.734e+00,  1.700e-02],\n",
       "       [ 5.650e+00,  2.238e+00,  2.500e-02],\n",
       "       [ 5.081e+00,  6.260e-01,  1.400e-02],\n",
       "       [ 4.982e+00,  1.835e+00,  2.000e-03],\n",
       "       [ 6.086e+00, -1.410e+00,  5.200e-02],\n",
       "       [ 6.588e+00, -1.375e+00,  6.000e-03],\n",
       "       [ 5.619e+00,  6.660e-01,  1.600e-02],\n",
       "       [ 5.815e+00, -1.830e-01,  1.300e-02],\n",
       "       [ 5.135e+00, -1.453e+00,  1.800e-02],\n",
       "       [ 5.900e+00,  2.136e+00,  9.000e-03],\n",
       "       [ 6.011e+00,  8.240e-01,  7.000e-03],\n",
       "       [ 5.456e+00, -1.106e+00,  2.100e-02],\n",
       "       [ 5.664e+00,  6.430e-01,  9.000e-03],\n",
       "       [ 5.519e+00,  1.112e+00,  2.300e-02],\n",
       "       [ 6.062e+00,  1.150e-01,  2.100e-02],\n",
       "       [ 6.301e+00,  1.640e+00,  0.000e+00],\n",
       "       [ 5.346e+00, -2.610e-01,  2.400e-02],\n",
       "       [ 5.845e+00,  1.227e+00,  3.000e-03],\n",
       "       [ 5.678e+00,  2.170e-01,  2.900e-02],\n",
       "       [ 5.197e+00, -1.830e+00,  2.200e-02],\n",
       "       [ 5.105e+00, -3.120e-01,  1.400e-02],\n",
       "       [ 5.063e+00, -1.937e+00,  2.000e-02],\n",
       "       [ 6.108e+00, -2.251e+00,  3.000e-02],\n",
       "       [ 5.398e+00, -9.990e-01,  2.700e-02],\n",
       "       [ 6.196e+00,  4.800e-01,  1.100e-02],\n",
       "       [ 5.328e+00,  1.122e+00,  6.000e-03],\n",
       "       [ 5.552e+00, -1.558e+00,  1.600e-02],\n",
       "       [ 6.042e+00,  1.498e+00,  1.800e-02],\n",
       "       [ 5.532e+00,  2.416e+00,  1.000e-02],\n",
       "       [ 5.621e+00,  2.048e+00,  3.100e-02],\n",
       "       [ 5.124e+00, -8.520e-01,  2.100e-02],\n",
       "       [ 5.724e+00, -5.570e-01,  3.000e-03],\n",
       "       [ 5.678e+00,  2.220e+00,  1.300e-02],\n",
       "       [ 6.144e+00,  1.531e+00,  3.200e-02],\n",
       "       [ 5.115e+00, -5.330e-01,  1.400e-02],\n",
       "       [ 5.998e+00, -1.408e+00,  4.000e-03],\n",
       "       [ 5.148e+00,  1.143e+00,  7.000e-03],\n",
       "       [ 5.238e+00,  1.445e+00,  2.000e-03],\n",
       "       [ 5.731e+00, -2.323e+00,  7.000e-03],\n",
       "       [ 5.884e+00, -1.798e+00,  3.800e-02],\n",
       "       [ 5.725e+00,  7.790e-01,  3.500e-02],\n",
       "       [ 5.460e+00,  4.170e-01,  2.600e-02],\n",
       "       [ 6.063e+00,  1.029e+00,  2.400e-02],\n",
       "       [ 5.184e+00,  1.493e+00,  1.200e-02],\n",
       "       [ 5.327e+00, -4.930e-01,  1.300e-02],\n",
       "       [ 5.834e+00, -7.900e-01,  3.100e-02],\n",
       "       [ 5.736e+00,  2.398e+00,  1.500e-02],\n",
       "       [ 5.854e+00,  9.910e-01,  1.300e-02],\n",
       "       [ 6.234e+00,  2.084e+00,  1.800e-02],\n",
       "       [ 6.257e+00,  1.752e+00,  1.500e-02],\n",
       "       [ 5.604e+00, -3.030e-01,  3.000e-03],\n",
       "       [ 5.579e+00, -7.150e-01,  4.000e-03],\n",
       "       [ 5.422e+00,  2.610e-01,  2.000e-03],\n",
       "       [ 6.076e+00, -2.276e+00,  7.000e-03],\n",
       "       [ 5.177e+00,  1.037e+00,  2.800e-02],\n",
       "       [ 5.312e+00,  2.130e+00,  2.000e-03],\n",
       "       [ 5.851e+00,  6.390e-01,  8.000e-03],\n",
       "       [ 5.682e+00,  4.600e-02,  1.400e-02],\n",
       "       [ 5.454e+00, -1.161e+00,  3.600e-02],\n",
       "       [ 5.640e+00, -1.241e+00,  0.000e+00],\n",
       "       [ 6.112e+00, -7.300e-02,  1.100e-02],\n",
       "       [ 5.276e+00, -8.900e-02,  2.600e-02],\n",
       "       [ 5.974e+00,  1.992e+00,  1.800e-02]])"
      ]
     },
     "execution_count": 8,
     "metadata": {},
     "output_type": "execute_result"
    }
   ],
   "source": []
  },
  {
   "cell_type": "code",
   "execution_count": 9,
   "metadata": {
    "collapsed": true
   },
   "outputs": [
    {
     "data": {
      "text/plain": [
       "array([[ 4.164,  1.949,  0.   ],\n",
       "       [ 4.552,  1.831, -0.   ],\n",
       "       [ 4.828, -0.57 , -0.   ],\n",
       "       [ 3.9  ,  1.887, -0.   ],\n",
       "       [ 2.998, -1.447,  0.   ],\n",
       "       [ 4.105,  0.189,  0.   ],\n",
       "       [ 4.589,  1.758,  0.   ],\n",
       "       [ 4.743,  1.371, -0.   ],\n",
       "       [ 4.708,  0.777,  0.   ],\n",
       "       [ 6.02 , -1.753,  0.   ],\n",
       "       [ 4.487, -0.857,  0.   ],\n",
       "       [ 4.366,  0.481,  0.   ],\n",
       "       [ 5.023,  0.545,  0.   ],\n",
       "       [ 5.86 , -1.827, -0.   ],\n",
       "       [ 4.828, -1.384,  0.   ],\n",
       "       [ 2.574, -0.061,  0.   ],\n",
       "       [ 4.633, -0.703,  0.   ],\n",
       "       [ 3.704,  1.769,  0.   ],\n",
       "       [ 3.998,  1.727,  0.   ],\n",
       "       [ 5.417,  0.963, -0.   ],\n",
       "       [ 4.329, -0.442,  0.   ],\n",
       "       [ 4.63 , -1.533, -0.   ],\n",
       "       [ 5.146,  1.628,  0.   ],\n",
       "       [ 4.306,  1.964,  0.   ],\n",
       "       [ 3.573,  0.628,  0.   ],\n",
       "       [ 5.425, -0.992, -0.   ],\n",
       "       [ 4.745,  0.629, -0.   ],\n",
       "       [ 5.127,  1.558,  0.   ],\n",
       "       [ 4.1  , -2.066,  0.   ],\n",
       "       [ 5.722,  1.818,  0.   ],\n",
       "       [ 4.446, -1.782,  0.   ],\n",
       "       [ 4.277,  0.782, -0.   ],\n",
       "       [ 5.114,  0.266, -0.   ],\n",
       "       [ 3.807,  1.229,  0.   ],\n",
       "       [ 4.578, -0.018,  0.   ],\n",
       "       [ 4.296, -1.112, -0.   ],\n",
       "       [ 4.323, -1.07 ,  0.   ],\n",
       "       [ 4.771, -1.598,  0.   ],\n",
       "       [-0.612,  5.053,  0.   ],\n",
       "       [ 3.226,  0.666,  0.   ],\n",
       "       [ 4.194,  1.691, -0.   ],\n",
       "       [ 4.195, -1.304,  0.   ],\n",
       "       [ 5.728, -2.185, -0.   ],\n",
       "       [ 4.473,  0.608, -0.   ],\n",
       "       [ 5.281, -0.182,  0.   ],\n",
       "       [ 4.127, -1.368,  0.   ],\n",
       "       [ 4.675,  1.814, -0.   ],\n",
       "       [ 3.125, -0.072, -0.   ],\n",
       "       [ 4.216, -1.006, -0.   ],\n",
       "       [ 4.621,  0.485, -0.   ],\n",
       "       [ 4.925,  1.072, -0.   ],\n",
       "       [ 6.994,  0.125, -0.   ],\n",
       "       [ 5.625,  1.799, -0.   ],\n",
       "       [ 4.155, -0.281, -0.   ],\n",
       "       [ 4.343,  1.365,  0.   ],\n",
       "       [ 5.118,  0.2  , -0.   ],\n",
       "       [ 4.801, -1.723,  0.   ],\n",
       "       [ 4.394, -0.277,  0.   ],\n",
       "       [ 3.   , -1.896,  0.   ],\n",
       "       [ 4.48 , -2.14 , -0.   ],\n",
       "       [ 3.701, -0.979,  0.   ],\n",
       "       [ 4.806,  0.444, -0.   ],\n",
       "       [ 5.086,  1.138, -0.   ],\n",
       "       [ 4.53 , -1.288, -0.   ],\n",
       "       [ 4.268,  1.347,  0.   ],\n",
       "       [ 3.807,  2.164,  0.   ],\n",
       "       [ 4.593,  1.696,  0.   ],\n",
       "       [ 4.862, -0.853,  0.   ],\n",
       "       [ 4.737, -0.493, -0.   ],\n",
       "       [ 3.984,  2.025,  0.   ],\n",
       "       [ 5.362,  1.484, -0.   ],\n",
       "       [ 4.326, -0.456, -0.   ],\n",
       "       [ 4.556, -1.344,  0.   ],\n",
       "       [ 4.849,  1.194,  0.   ],\n",
       "       [ 4.306,  1.332,  0.   ],\n",
       "       [ 4.077, -2.173, -0.   ],\n",
       "       [ 4.709, -1.677,  0.   ],\n",
       "       [ 2.107,  0.96 ,  0.   ],\n",
       "       [ 3.189,  0.39 ,  0.   ],\n",
       "       [ 4.556,  0.97 ,  0.   ],\n",
       "       [ 4.385,  1.398,  0.   ],\n",
       "       [ 5.722, -0.547,  0.   ],\n",
       "       [ 4.692, -0.799, -0.   ],\n",
       "       [ 4.749,  2.26 , -0.   ],\n",
       "       [ 4.758,  0.951,  0.   ],\n",
       "       [ 4.896,  1.917, -0.   ],\n",
       "       [ 4.932,  1.624, -0.   ],\n",
       "       [ 4.791, -0.52 , -0.   ],\n",
       "       [ 3.553, -0.651,  0.   ],\n",
       "       [ 4.856,  0.243, -0.   ],\n",
       "       [ 5.127, -2.213,  0.   ],\n",
       "       [ 4.534,  0.996, -0.   ],\n",
       "       [ 4.871,  2.063,  0.   ],\n",
       "       [ 4.347,  0.601,  0.   ],\n",
       "       [ 3.855, -0.536,  0.   ],\n",
       "       [ 3.868, -0.872,  0.   ],\n",
       "       [ 4.887, -1.201,  0.   ],\n",
       "       [ 4.232, -0.051,  0.   ],\n",
       "       [ 2.718,  2.053,  0.   ],\n",
       "       [ 4.027,  1.423, -0.   ]])"
      ]
     },
     "execution_count": 9,
     "metadata": {},
     "output_type": "execute_result"
    }
   ],
   "source": [
    "esti_landing_point"
   ]
  },
  {
   "cell_type": "code",
   "execution_count": 95,
   "metadata": {},
   "outputs": [
    {
     "name": "stdout",
     "output_type": "stream",
     "text": [
      "(513, 3)\n",
      "(513, 3)\n"
     ]
    }
   ],
   "source": [
    "real_ball_trajectory_list = np.array( [[-10.408, -4.078, 2.186], [-9.45, -4.074, 2.354], [-8.658, -4.071, 2.464], [-7.763, -4.067, 2.558], [-6.922, -4.064, 2.618], [-6.151, -4.061, 2.648], [-5.362, -4.059, 2.655], [-4.581, -4.056, 2.638], [-3.863, -4.054, 2.594], [-3.167, -4.052, 2.522], [-2.536, -4.05, 2.431], [-1.917, -4.048, 2.32], [-1.325, -4.046, 2.192], [-0.706, -4.044, 2.036], [-10.627, -3.521, 2.173], [-9.709, -3.233, 2.351], [-8.913, -2.999, 2.472], [-8.15, -2.79, 2.56], [-7.358, -2.588, 2.621], [-6.506, -2.387, 2.655], [-5.673, -2.207, 2.657], [-4.986, -2.062, 2.634], [-4.358, -1.93, 2.587], [-3.705, -1.793, 2.512], [-3.052, -1.655, 2.411], [-2.436, -1.526, 2.291], [-1.821, -1.396, 2.148], [-1.18, -1.262, 1.974], [-0.615, -1.143, 1.799], [-10.501, -3.556, 2.198], [-9.649, -3.324, 2.359], [-8.852, -3.121, 2.478], [-8.071, -2.935, 2.564], [-7.276, -2.758, 2.623], [-6.375, -2.574, 2.655], [-5.632, -2.434, 2.655], [-4.944, -2.307, 2.631], [-4.317, -2.192, 2.584], [-3.673, -2.074, 2.51], [-3.079, -1.965, 2.42], [-2.473, -1.853, 2.305], [-1.917, -1.751, 2.18], [-1.298, -1.637, 2.018], [-0.654, -1.519, 1.825], [-10.554, -3.495, 2.202], [-9.671, -3.221, 2.374], [-8.92, -3.003, 2.487], [-8.2, -2.808, 2.567], [-7.464, -2.623, 2.623], [-6.787, -2.464, 2.651], [-6.049, -2.303, 2.656], [-5.386, -2.163, 2.638], [-4.749, -2.028, 2.596], [-4.156, -1.903, 2.534], [-3.587, -1.783, 2.454], [-2.868, -1.631, 2.324], [-2.274, -1.506, 2.194], [-1.643, -1.372, 2.031], [-1.075, -1.252, 1.863], [-0.468, -1.124, 1.662], [-9.795, -4.127, 2.342], [-9.027, -4.137, 2.461], [-8.258, -4.147, 2.551], [-7.503, -4.156, 2.611], [-6.748, -4.165, 2.644], [-6.036, -4.172, 2.652], [-5.288, -4.18, 2.635], [-4.634, -4.186, 2.592], [-4.019, -4.192, 2.527], [-3.441, -4.198, 2.445], [-2.889, -4.204, 2.347], [-2.312, -4.21, 2.225], [-1.734, -4.215, 2.081], [-1.144, -4.221, 1.913], [-0.567, -4.227, 1.728], [-9.845, -3.759, 2.335], [-9.065, -3.666, 2.458], [-8.252, -3.576, 2.554], [-7.518, -3.5, 2.613], [-6.721, -3.424, 2.648], [-5.999, -3.36, 2.654], [-5.29, -3.299, 2.637], [-4.643, -3.244, 2.595], [-4.003, -3.189, 2.529], [-3.35, -3.133, 2.436], [-2.697, -3.078, 2.318], [-2.069, -3.024, 2.18], [-1.429, -2.97, 2.016], [-0.814, -2.917, 1.835], [-0.212, -2.866, 1.636], [-10.691, -3.854, 2.186], [-9.85, -3.744, 2.355], [-9.087, -3.651, 2.472], [-8.397, -3.572, 2.55], [-7.704, -3.5, 2.602], [-6.966, -3.428, 2.629], [-6.257, -3.364, 2.629], [-5.606, -3.307, 2.605], [-5.028, -3.256, 2.561], [-4.412, -3.201, 2.492], [-3.846, -3.152, 2.407], [-3.243, -3.098, 2.295], [-2.69, -3.05, 2.172], [-2.074, -2.995, 2.013], [-1.483, -2.943, 1.839], [-0.829, -2.885, 1.621], [-10.511, -3.753, 2.205], [-9.614, -3.599, 2.374], [-8.819, -3.473, 2.49], [-8.072, -3.362, 2.569], [-7.309, -3.257, 2.623], [-6.592, -3.166, 2.648], [-5.875, -3.081, 2.65], [-5.108, -2.991, 2.623], [-4.464, -2.916, 2.573], [-3.864, -2.845, 2.502], [-3.288, -2.778, 2.413], [-2.7, -2.709, 2.3], [-2.061, -2.635, 2.154], [-1.423, -2.56, 1.982], [-0.797, -2.487, 1.789], [-0.209, -2.418, 1.585], [-10.651, -3.6, 2.195], [-9.793, -3.369, 2.366], [-9.0, -3.172, 2.486], [-8.223, -2.994, 2.569], [-7.476, -2.837, 2.618], [-6.687, -2.684, 2.637], [-6.009, -2.563, 2.629], [-5.373, -2.449, 2.596], [-4.771, -2.341, 2.541], [-4.132, -2.227, 2.459], [-3.554, -2.124, 2.362], [-2.915, -2.009, 2.231], [-2.313, -1.901, 2.084], [-1.723, -1.796, 1.919], [-1.146, -1.693, 1.736], [-0.569, -1.59, 1.532], [-10.301, -3.92, 2.204], [-9.302, -3.843, 2.374], [-8.42, -3.779, 2.49], [-7.56, -3.721, 2.573], [-6.636, -3.663, 2.63], [-5.885, -3.619, 2.651], [-5.073, -3.575, 2.65], [-4.384, -3.538, 2.628], [-3.68, -3.501, 2.579], [-3.079, -3.469, 2.512], [-2.428, -3.434, 2.414], [-1.086, -3.362, 2.133], [-0.473, -3.329, 1.969], [-10.458, -3.921, 2.196], [-9.537, -3.845, 2.362], [-8.607, -3.774, 2.489], [-7.831, -3.719, 2.565], [-7.04, -3.667, 2.614], [-6.235, -3.618, 2.637], [-5.466, -3.575, 2.632], [-4.754, -3.535, 2.603], [-4.004, -3.493, 2.539], [-3.425, -3.461, 2.467], [-2.691, -3.42, 2.347], [-1.983, -3.38, 2.201], [-1.314, -3.343, 2.035], [-0.735, -3.31, 1.871], [-10.451, -3.465, 2.203], [-9.629, -3.211, 2.354], [-8.777, -2.964, 2.477], [-7.896, -2.726, 2.569], [-7.037, -2.511, 2.624], [-6.198, -2.318, 2.646], [-5.504, -2.17, 2.642], [-4.866, -2.035, 2.616], [-4.232, -1.9, 2.566], [-3.629, -1.772, 2.493], [-3.051, -1.65, 2.401], [-2.398, -1.512, 2.271], [-1.845, -1.394, 2.139], [-1.303, -1.28, 1.99], [-0.713, -1.154, 1.807], [-10.634, -3.535, 2.194], [-9.806, -3.284, 2.359], [-9.012, -3.061, 2.481], [-8.25, -2.862, 2.566], [-7.592, -2.702, 2.614], [-6.887, -2.543, 2.642], [-6.213, -2.403, 2.645], [-5.511, -2.26, 2.622], [-4.931, -2.142, 2.579], [-4.341, -2.021, 2.513], [-3.652, -1.881, 2.407], [-3.062, -1.761, 2.292], [-2.484, -1.643, 2.158], [-1.795, -1.502, 1.969], [-1.168, -1.374, 1.771], [-0.504, -1.239, 1.533], [-10.412, -3.791, 2.201], [-9.476, -3.656, 2.368], [-8.563, -3.533, 2.494], [-7.773, -3.435, 2.573], [-6.871, -3.33, 2.63], [-6.164, -3.254, 2.651], [-5.366, -3.173, 2.651], [-4.684, -3.106, 2.628], [-4.049, -3.044, 2.582], [-3.412, -2.981, 2.511], [-2.839, -2.925, 2.426], [-2.24, -2.866, 2.316], [-1.604, -2.803, 2.175], [-1.018, -2.746, 2.024], [-0.381, -2.683, 1.836], [-10.582, -3.635, 2.16], [-9.771, -3.436, 2.312], [-8.874, -3.229, 2.446], [-8.035, -3.049, 2.54], [-7.233, -2.889, 2.602], [-6.368, -2.728, 2.639], [-5.633, -2.601, 2.646], [-4.909, -2.48, 2.632], [-4.162, -2.355, 2.587], [-3.56, -2.254, 2.525], [-2.961, -2.154, 2.44], [-2.362, -2.054, 2.333], [-1.751, -1.952, 2.2], [-1.152, -1.852, 2.047], [-0.541, -1.75, 1.867], [-10.413, -4.102, 2.185], [-9.504, -4.108, 2.345], [-8.549, -4.114, 2.476], [-7.81, -4.118, 2.553], [-6.867, -4.124, 2.618], [-6.031, -4.128, 2.646], [-5.08, -4.133, 2.646], [-4.402, -4.136, 2.623], [-3.767, -4.139, 2.577], [-3.137, -4.142, 2.508], [-2.429, -4.145, 2.401], [-1.811, -4.148, 2.284], [-1.181, -4.151, 2.141], [-0.563, -4.154, 1.979], [-10.478, -3.919, 2.189], [-9.547, -3.84, 2.358], [-8.672, -3.771, 2.481], [-7.868, -3.711, 2.564], [-7.081, -3.657, 2.618], [-6.39, -3.613, 2.644], [-5.574, -3.564, 2.648], [-4.84, -3.521, 2.627], [-4.139, -3.48, 2.577], [-3.49, -3.441, 2.504], [-2.853, -3.404, 2.408], [-2.229, -3.367, 2.289], [-1.503, -3.325, 2.122], [-0.905, -3.289, 1.96], [-0.281, -3.253, 1.768], [-9.702, -4.173, 2.363], [-8.874, -4.196, 2.484], [-8.034, -4.218, 2.57], [-7.301, -4.236, 2.616], [-6.479, -4.254, 2.637], [-5.805, -4.268, 2.63], [-5.201, -4.281, 2.602], [-4.594, -4.293, 2.552], [-4.012, -4.306, 2.482], [-3.342, -4.32, 2.376], [-2.786, -4.331, 2.267], [-2.141, -4.345, 2.117], [-1.521, -4.358, 1.949], [-0.864, -4.371, 1.744], [-0.282, -4.383, 1.542], [-10.395, -4.138, 2.196], [-9.478, -4.16, 2.357], [-8.6, -4.18, 2.478], [-7.795, -4.197, 2.56], [-6.941, -4.214, 2.617], [-6.172, -4.228, 2.643], [-5.357, -4.242, 2.645], [-4.562, -4.255, 2.619], [-3.916, -4.265, 2.571], [-3.327, -4.275, 2.505], [-2.751, -4.285, 2.421], [-2.072, -4.296, 2.296], [-1.483, -4.306, 2.165], [-0.92, -4.315, 2.02], [-10.404, -4.147, 2.201], [-9.43, -4.175, 2.373], [-8.617, -4.197, 2.485], [-7.739, -4.22, 2.573], [-6.899, -4.239, 2.626], [-6.156, -4.255, 2.649], [-5.399, -4.271, 2.649], [-4.692, -4.285, 2.626], [-3.997, -4.298, 2.577], [-3.42, -4.31, 2.513], [-2.832, -4.321, 2.428], [-2.153, -4.335, 2.303], [-1.551, -4.347, 2.17], [-0.975, -4.358, 2.022], [-10.393, -3.625, 2.19], [-9.383, -3.399, 2.366], [-8.507, -3.215, 2.486], [-7.636, -3.043, 2.573], [-6.77, -2.885, 2.63], [-6.023, -2.758, 2.655], [-5.291, -2.64, 2.659], [-4.53, -2.522, 2.64], [-3.866, -2.419, 2.599], [-3.187, -2.313, 2.528], [-2.54, -2.212, 2.433], [-1.956, -2.121, 2.327], [-1.346, -2.026, 2.193], [-0.787, -1.939, 2.051], [-0.165, -1.843, 1.87], [-10.419, -3.729, 2.193], [-9.445, -3.56, 2.364], [-8.65, -3.431, 2.472], [-7.856, -3.309, 2.552], [-6.996, -3.187, 2.609], [-6.204, -3.082, 2.634], [-5.478, -2.992, 2.635], [-4.687, -2.897, 2.61], [-4.054, -2.821, 2.564], [-3.451, -2.748, 2.497], [-2.759, -2.664, 2.393], [-2.182, -2.595, 2.285], [-1.58, -2.522, 2.151], [-0.875, -2.437, 1.967], [-0.272, -2.365, 1.786], [-10.408, -3.677, 2.194], [-9.489, -3.493, 2.357], [-8.663, -3.338, 2.473], [-7.787, -3.183, 2.564], [-6.933, -3.044, 2.622], [-6.181, -2.93, 2.648], [-5.32, -2.808, 2.651], [-4.625, -2.712, 2.63], [-3.978, -2.622, 2.586], [-3.399, -2.542, 2.524], [-2.835, -2.464, 2.443], [-2.233, -2.381, 2.334], [-1.594, -2.292, 2.194], [-0.98, -2.207, 2.036], [-0.39, -2.126, 1.862], [-10.391, -3.519, 2.207], [-9.552, -3.29, 2.358], [-8.701, -3.072, 2.478], [-7.771, -2.852, 2.571], [-7.009, -2.684, 2.62], [-6.247, -2.527, 2.643], [-5.42, -2.369, 2.641], [-4.792, -2.249, 2.617], [-4.154, -2.128, 2.568], [-3.449, -1.995, 2.484], [-2.895, -1.89, 2.397], [-2.316, -1.78, 2.285], [-1.649, -1.653, 2.131], [-1.057, -1.541, 1.971], [-0.503, -1.436, 1.801], [-10.583, -3.93, 2.204], [-9.777, -3.864, 2.361], [-8.927, -3.799, 2.486], [-8.245, -3.751, 2.557], [-7.543, -3.704, 2.606], [-6.838, -3.661, 2.629], [-6.016, -3.615, 2.625], [-5.367, -3.579, 2.595], [-4.767, -3.545, 2.545], [-4.181, -3.512, 2.475], [-3.607, -3.48, 2.387], [-2.932, -3.443, 2.257], [-2.333, -3.409, 2.119], [-1.657, -3.372, 1.937], [-0.969, -3.333, 1.724], [-0.318, -3.297, 1.496], [-10.52, -3.478, 2.2], [-9.638, -3.201, 2.367], [-8.875, -2.977, 2.479], [-8.096, -2.765, 2.563], [-7.335, -2.572, 2.617], [-6.604, -2.4, 2.643], [-5.874, -2.24, 2.645], [-5.234, -2.102, 2.625], [-4.648, -1.976, 2.585], [-4.041, -1.844, 2.519], [-3.446, -1.716, 2.432], [-2.851, -1.588, 2.322], [-2.181, -1.443, 2.172], [-1.623, -1.323, 2.025], [-0.892, -1.165, 1.802], [-0.334, -1.045, 1.609], [-10.292, -3.49, 2.204], [-9.301, -3.217, 2.373], [-8.375, -2.979, 2.496], [-7.493, -2.768, 2.581], [-6.65, -2.58, 2.634], [-5.812, -2.405, 2.659], [-4.968, -2.241, 2.658], [-4.137, -2.081, 2.627], [-3.509, -1.961, 2.578], [-2.902, -1.844, 2.506], [-2.245, -1.718, 2.403], [-1.676, -1.609, 2.292], [-1.094, -1.497, 2.159], [-0.513, -1.385, 2.004], [-10.501, -3.859, 2.198], [-9.633, -3.757, 2.361], [-8.835, -3.671, 2.478], [-8.086, -3.595, 2.56], [-7.351, -3.525, 2.616], [-6.569, -3.456, 2.647], [-5.864, -3.399, 2.653], [-5.095, -3.338, 2.633], [-4.507, -3.292, 2.595], [-3.887, -3.244, 2.532], [-3.28, -3.196, 2.447], [-2.699, -3.151, 2.344], [-2.079, -3.102, 2.212], [-1.447, -3.053, 2.052], [-0.827, -3.004, 1.872], [-0.221, -2.957, 1.674], [-10.392, -3.903, 2.202], [-9.527, -3.827, 2.355], [-8.665, -3.756, 2.475], [-7.823, -3.691, 2.56], [-7.033, -3.634, 2.612], [-6.227, -3.58, 2.638], [-5.411, -3.53, 2.637], [-4.743, -3.489, 2.615], [-4.149, -3.453, 2.573], [-3.542, -3.417, 2.507], [-2.923, -3.379, 2.416], [-2.329, -3.343, 2.307], [-1.685, -3.304, 2.165], [-1.015, -3.264, 1.989], [-0.396, -3.226, 1.802], [-10.499, -3.644, 2.192], [-9.516, -3.425, 2.369], [-8.773, -3.271, 2.47], [-7.868, -3.097, 2.559], [-7.11, -2.961, 2.604], [-6.367, -2.837, 2.623], [-5.677, -2.729, 2.62], [-5.031, -2.629, 2.595], [-4.43, -2.535, 2.548], [-3.82, -2.44, 2.479], [-3.224, -2.347, 2.389], [-2.564, -2.244, 2.264], [-1.98, -2.153, 2.131], [-1.384, -2.061, 1.974], [-0.787, -1.968, 1.796], [-0.203, -1.877, 1.6], [-10.375, -3.599, 2.223], [-9.356, -3.363, 2.405], [-8.297, -3.136, 2.543], [-7.44, -2.966, 2.617], [-6.634, -2.817, 2.657], [-5.765, -2.667, 2.669], [-4.94, -2.528, 2.649], [-4.302, -2.421, 2.606], [-3.618, -2.307, 2.531], [-3.034, -2.208, 2.443], [-2.45, -2.11, 2.333], [-1.878, -2.014, 2.205], [-1.281, -1.914, 2.049], [-0.709, -1.818, 1.878], [-0.113, -1.718, 1.678], [-10.475, -3.486, 2.201], [-9.64, -3.232, 2.356], [-8.907, -3.024, 2.464], [-8.093, -2.808, 2.555], [-7.361, -2.627, 2.609], [-6.612, -2.454, 2.64], [-5.893, -2.299, 2.646], [-5.14, -2.144, 2.628], [-4.488, -2.01, 2.586], [-3.843, -1.877, 2.517], [-3.121, -1.728, 2.411], [-2.487, -1.598, 2.291], [-1.93, -1.483, 2.166], [-1.335, -1.361, 2.011], [-0.727, -1.235, 1.83], [-0.17, -1.121, 1.645], [-10.453, -3.608, 2.175], [-9.452, -3.366, 2.353], [-8.585, -3.169, 2.474], [-7.655, -2.973, 2.569], [-6.75, -2.795, 2.629], [-5.916, -2.643, 2.656], [-5.059, -2.496, 2.656], [-4.377, -2.381, 2.634], [-3.769, -2.278, 2.592], [-3.13, -2.17, 2.522], [-2.571, -2.076, 2.439], [-1.95, -1.971, 2.323], [-1.366, -1.872, 2.192], [-0.67, -1.755, 2.008], [-0.049, -1.65, 1.817], [-10.659, -3.67, 2.193], [-9.874, -3.488, 2.352], [-9.075, -3.316, 2.477], [-8.382, -3.178, 2.556], [-7.715, -3.055, 2.607], [-6.974, -2.928, 2.637], [-6.291, -2.82, 2.64], [-5.673, -2.725, 2.62], [-5.096, -2.636, 2.58], [-4.455, -2.537, 2.512], [-3.878, -2.448, 2.428], [-3.288, -2.357, 2.321], [-2.66, -2.26, 2.184], [-2.07, -2.169, 2.033], [-1.405, -2.067, 1.836], [-0.677, -1.954, 1.589]] )\n",
    "estimation_ball_trajectory_list = np.array( [[-10.289, -4.074, 2.116], [-9.37, -4.068, 2.293], [-8.506, -4.065, 2.435], [-7.611, -4.062, 2.527], [-6.815, -4.056, 2.597], [-6.037, -4.055, 2.63], [-5.258, -4.047, 2.652], [-4.502, -4.051, 2.64], [-3.787, -4.048, 2.612], [-2.956, -4.033, 2.533], [-2.355, -4.032, 2.454], [-1.753, -4.032, 2.343], [-1.171, -4.028, 2.213], [-0.528, -4.017, 2.043], [-10.43, -3.601, 2.119], [-9.617, -3.322, 2.276], [-8.83, -3.092, 2.423], [-8.059, -2.869, 2.513], [-7.29, -2.671, 2.592], [-6.306, -2.433, 2.639], [-5.556, -2.269, 2.648], [-4.834, -2.114, 2.634], [-4.229, -1.989, 2.604], [-3.465, -1.826, 2.523], [-2.832, -1.696, 2.442], [-2.191, -1.561, 2.322], [-1.574, -1.43, 2.182], [-0.984, -1.316, 2.042], [-0.371, -1.198, 1.881], [-10.387, -3.644, 2.115], [-9.551, -3.407, 2.304], [-8.785, -3.201, 2.429], [-7.977, -3.009, 2.532], [-7.222, -2.836, 2.593], [-6.175, -2.613, 2.639], [-5.392, -2.466, 2.651], [-4.744, -2.347, 2.629], [-4.078, -2.224, 2.588], [-3.459, -2.109, 2.527], [-2.864, -1.999, 2.446], [-2.247, -1.885, 2.328], [-1.656, -1.773, 2.208], [-1.015, -1.665, 2.058], [-0.319, -1.549, 1.88], [-10.38, -3.582, 2.137], [-9.582, -3.313, 2.307], [-8.826, -3.092, 2.435], [-8.062, -2.883, 2.532], [-7.34, -2.69, 2.598], [-6.625, -2.518, 2.64], [-5.911, -2.362, 2.642], [-5.223, -2.215, 2.638], [-4.606, -2.082, 2.611], [-4.053, -1.969, 2.556], [-3.48, -1.845, 2.496], [-2.636, -1.667, 2.356], [-2.042, -1.541, 2.229], [-1.39, -1.411, 2.077], [-0.758, -1.288, 1.918], [-0.085, -1.166, 1.728], [-9.664, -4.113, 2.283], [-8.885, -4.125, 2.415], [-8.075, -4.143, 2.515], [-7.351, -4.149, 2.584], [-6.592, -4.156, 2.63], [-5.924, -4.154, 2.635], [-5.216, -4.168, 2.631], [-4.414, -4.17, 2.604], [-3.84, -4.17, 2.548], [-3.283, -4.177, 2.472], [-2.693, -4.186, 2.374], [-2.129, -4.192, 2.265], [-1.543, -4.191, 2.128], [-0.961, -4.196, 1.978], [-0.382, -4.201, 1.797], [-9.657, -3.784, 2.285], [-8.908, -3.695, 2.404], [-8.105, -3.6, 2.518], [-7.336, -3.514, 2.597], [-6.549, -3.438, 2.628], [-5.807, -3.376, 2.639], [-5.083, -3.307, 2.632], [-4.408, -3.25, 2.605], [-3.758, -3.193, 2.535], [-3.103, -3.142, 2.447], [-2.469, -3.08, 2.348], [-1.817, -3.025, 2.216], [-1.214, -2.977, 2.062], [-0.582, -2.923, 1.896], [0.168, -2.853, 1.702], [-10.51, -3.891, 2.134], [-9.684, -3.769, 2.3], [-8.953, -3.685, 2.429], [-8.225, -3.6, 2.52], [-7.523, -3.512, 2.579], [-6.792, -3.449, 2.61], [-6.079, -3.378, 2.631], [-5.429, -3.325, 2.623], [-4.814, -3.264, 2.57], [-4.243, -3.205, 2.505], [-3.657, -3.164, 2.434], [-3.062, -3.113, 2.334], [-2.481, -3.062, 2.218], [-1.838, -3.003, 2.057], [-1.209, -2.94, 1.889], [-0.467, -2.885, 1.677], [-10.364, -3.803, 2.125], [-9.49, -3.649, 2.321], [-8.688, -3.52, 2.451], [-7.958, -3.395, 2.537], [-7.159, -3.286, 2.6], [-6.431, -3.194, 2.628], [-5.664, -3.1, 2.636], [-4.941, -3.016, 2.628], [-4.295, -2.933, 2.591], [-3.692, -2.859, 2.517], [-3.088, -2.798, 2.439], [-2.471, -2.727, 2.326], [-1.848, -2.653, 2.204], [-1.208, -2.575, 2.047], [-0.555, -2.506, 1.859], [0.197, -2.428, 1.662], [-10.479, -3.67, 2.121], [-9.616, -3.433, 2.308], [-8.845, -3.231, 2.447], [-8.024, -3.041, 2.549], [-7.274, -2.873, 2.609], [-6.524, -2.732, 2.617], [-5.843, -2.609, 2.622], [-5.155, -2.482, 2.602], [-4.541, -2.372, 2.551], [-3.912, -2.257, 2.474], [-3.359, -2.163, 2.397], [-2.746, -2.05, 2.286], [-2.118, -1.94, 2.14], [-1.489, -1.832, 1.981], [-0.862, -1.727, 1.804], [-0.136, -1.62, 1.599], [-10.166, -3.936, 2.157], [-9.213, -3.869, 2.318], [-8.326, -3.799, 2.444], [-7.473, -3.735, 2.53], [-6.595, -3.679, 2.608], [-5.77, -3.632, 2.635], [-4.965, -3.579, 2.646], [-4.175, -3.54, 2.616], [-3.493, -3.507, 2.582], [-2.895, -3.472, 2.537], [-2.298, -3.435, 2.445], [-0.899, -3.358, 2.172], [-0.312, -3.322, 2.003], [-10.305, -3.954, 2.133], [-9.361, -3.858, 2.318], [-8.529, -3.79, 2.452], [-7.708, -3.732, 2.535], [-6.894, -3.679, 2.581], [-6.056, -3.627, 2.621], [-5.324, -3.581, 2.641], [-4.524, -3.528, 2.596], [-3.887, -3.501, 2.549], [-3.308, -3.471, 2.498], [-2.447, -3.42, 2.372], [-1.78, -3.377, 2.242], [-1.15, -3.343, 2.091], [-0.516, -3.308, 1.918], [-10.316, -3.545, 2.146], [-9.467, -3.292, 2.299], [-8.609, -3.034, 2.447], [-7.726, -2.786, 2.539], [-6.888, -2.568, 2.604], [-6.102, -2.389, 2.63], [-5.371, -2.225, 2.634], [-4.663, -2.074, 2.62], [-4.02, -1.941, 2.574], [-3.432, -1.82, 2.51], [-2.806, -1.683, 2.419], [-2.217, -1.557, 2.316], [-1.657, -1.444, 2.187], [-1.046, -1.321, 2.041], [-0.349, -1.189, 1.868], [-10.484, -3.627, 2.122], [-9.639, -3.362, 2.298], [-8.906, -3.139, 2.429], [-8.149, -2.938, 2.521], [-7.439, -2.764, 2.579], [-6.73, -2.6, 2.624], [-6.01, -2.443, 2.638], [-5.329, -2.303, 2.626], [-4.728, -2.182, 2.579], [-4.079, -2.047, 2.522], [-3.459, -1.923, 2.449], [-2.887, -1.812, 2.341], [-2.339, -1.696, 2.229], [-1.475, -1.525, 2.0], [-0.83, -1.409, 1.823], [-0.052, -1.281, 1.607], [-10.262, -3.841, 2.153], [-9.337, -3.702, 2.307], [-8.475, -3.572, 2.44], [-7.638, -3.469, 2.542], [-6.808, -3.363, 2.605], [-6.052, -3.281, 2.631], [-5.275, -3.198, 2.655], [-4.567, -3.124, 2.618], [-3.903, -3.054, 2.594], [-3.271, -3.003, 2.529], [-2.666, -2.937, 2.452], [-2.078, -2.884, 2.354], [-1.438, -2.815, 2.227], [-0.835, -2.752, 2.074], [-0.198, -2.692, 1.902], [-10.538, -3.732, 2.074], [-9.64, -3.502, 2.262], [-8.758, -3.295, 2.405], [-7.929, -3.108, 2.506], [-7.084, -2.937, 2.585], [-6.255, -2.783, 2.619], [-5.484, -2.645, 2.628], [-4.724, -2.507, 2.625], [-4.009, -2.396, 2.598], [-3.382, -2.29, 2.541], [-2.745, -2.184, 2.463], [-2.133, -2.082, 2.356], [-1.524, -1.98, 2.23], [-0.922, -1.879, 2.094], [-0.252, -1.777, 1.912], [-10.299, -4.093, 2.129], [-9.365, -4.097, 2.292], [-8.432, -4.109, 2.427], [-7.595, -4.076, 2.454], [-6.721, -4.118, 2.593], [-5.883, -4.12, 2.632], [-5.015, -4.121, 2.642], [-4.274, -4.125, 2.62], [-3.609, -4.124, 2.585], [-3.008, -4.127, 2.521], [-2.238, -4.124, 2.429], [-1.629, -4.13, 2.305], [-1.017, -4.134, 2.153], [-0.46, -4.118, 1.995], [-10.351, -3.933, 2.122], [-9.443, -3.86, 2.291], [-8.601, -3.787, 2.428], [-7.781, -3.732, 2.532], [-7.005, -3.679, 2.584], [-6.247, -3.623, 2.638], [-5.374, -3.571, 2.649], [-4.633, -3.519, 2.629], [-3.912, -3.475, 2.577], [-3.277, -3.438, 2.522], [-2.66, -3.404, 2.429], [-1.999, -3.366, 2.32], [-1.323, -3.328, 2.169], [-0.705, -3.283, 2.005], [0.001, -3.236, 1.816], [-9.539, -4.163, 2.306], [-8.691, -4.185, 2.451], [-7.891, -4.209, 2.544], [-7.126, -4.221, 2.602], [-6.373, -4.235, 2.615], [-5.684, -4.254, 2.622], [-5.028, -4.267, 2.612], [-4.41, -4.288, 2.557], [-3.828, -4.292, 2.5], [-3.211, -4.297, 2.415], [-2.553, -4.314, 2.292], [-1.937, -4.329, 2.155], [-1.289, -4.331, 1.995], [-0.656, -4.341, 1.818], [0.032, -4.337, 1.619], [-10.271, -4.124, 2.127], [-9.349, -4.148, 2.302], [-8.494, -4.167, 2.431], [-7.698, -4.182, 2.504], [-6.828, -4.197, 2.584], [-6.033, -4.207, 2.622], [-5.196, -4.233, 2.633], [-4.434, -4.244, 2.617], [-3.762, -4.243, 2.582], [-3.163, -4.251, 2.52], [-2.541, -4.26, 2.429], [-1.913, -4.279, 2.327], [-1.329, -4.285, 2.196], [-0.743, -4.294, 2.035], [-10.24, -4.139, 2.138], [-9.343, -4.167, 2.323], [-8.495, -4.183, 2.442], [-7.621, -4.204, 2.535], [-6.813, -4.219, 2.59], [-6.031, -4.241, 2.638], [-5.249, -4.261, 2.639], [-4.481, -4.273, 2.622], [-3.844, -4.278, 2.588], [-3.232, -4.285, 2.53], [-2.644, -4.294, 2.442], [-2.0, -4.31, 2.342], [-1.394, -4.325, 2.205], [-0.815, -4.335, 2.046], [-10.239, -3.694, 2.14], [-9.291, -3.475, 2.314], [-8.394, -3.268, 2.446], [-7.55, -3.101, 2.536], [-6.706, -2.945, 2.6], [-5.899, -2.808, 2.645], [-5.133, -2.677, 2.646], [-4.368, -2.559, 2.634], [-3.655, -2.449, 2.608], [-3.008, -2.344, 2.549], [-2.364, -2.24, 2.454], [-1.782, -2.151, 2.365], [-1.186, -2.058, 2.241], [-0.605, -1.968, 2.093], [0.11, -1.838, 1.921], [-10.312, -3.782, 2.122], [-9.41, -3.624, 2.301], [-8.559, -3.48, 2.427], [-7.694, -3.338, 2.51], [-6.87, -3.228, 2.585], [-6.058, -3.116, 2.608], [-5.282, -3.015, 2.635], [-4.555, -2.927, 2.615], [-3.884, -2.844, 2.583], [-3.258, -2.768, 2.508], [-2.605, -2.69, 2.419], [-1.975, -2.612, 2.314], [-1.33, -2.532, 2.187], [-0.662, -2.457, 2.018], [0.016, -2.373, 1.835], [-10.266, -3.734, 2.119], [-9.382, -3.549, 2.3], [-8.51, -3.387, 2.436], [-7.626, -3.228, 2.536], [-6.762, -3.082, 2.604], [-5.992, -2.961, 2.636], [-5.203, -2.843, 2.645], [-4.5, -2.743, 2.627], [-3.836, -2.652, 2.603], [-3.226, -2.571, 2.551], [-2.63, -2.484, 2.464], [-1.994, -2.399, 2.356], [-1.37, -2.312, 2.228], [-0.776, -2.23, 2.085], [-0.175, -2.15, 1.918], [-10.263, -3.596, 2.142], [-9.419, -3.357, 2.293], [-8.523, -3.126, 2.437], [-7.685, -2.919, 2.543], [-6.887, -2.744, 2.594], [-6.112, -2.586, 2.621], [-5.312, -2.423, 2.641], [-4.574, -2.283, 2.606], [-3.919, -2.154, 2.566], [-3.294, -2.042, 2.516], [-2.713, -1.932, 2.429], [-2.083, -1.812, 2.317], [-1.44, -1.689, 2.173], [-0.819, -1.582, 2.029], [-0.16, -1.466, 1.859], [-10.399, -3.943, 2.138], [-9.578, -3.876, 2.303], [-8.785, -3.815, 2.446], [-8.082, -3.767, 2.534], [-7.358, -3.718, 2.576], [-6.651, -3.672, 2.616], [-5.9, -3.62, 2.619], [-5.239, -3.581, 2.604], [-4.618, -3.548, 2.57], [-4.017, -3.51, 2.503], [-3.429, -3.479, 2.413], [-2.818, -3.451, 2.312], [-2.21, -3.412, 2.194], [-1.395, -3.368, 1.977], [-0.724, -3.327, 1.791], [-0.001, -3.292, 1.592], [-10.34, -3.556, 2.148], [-9.495, -3.289, 2.322], [-8.712, -3.047, 2.425], [-7.932, -2.826, 2.531], [-7.21, -2.643, 2.601], [-6.443, -2.462, 2.635], [-5.708, -2.291, 2.643], [-5.045, -2.148, 2.615], [-4.413, -2.008, 2.585], [-3.813, -1.883, 2.536], [-3.223, -1.76, 2.451], [-2.623, -1.629, 2.346], [-2.019, -1.501, 2.228], [-1.485, -1.387, 2.098], [-0.579, -1.206, 1.862], [0.12, -1.082, 1.673], [-10.142, -3.57, 2.148], [-9.146, -3.279, 2.318], [-8.27, -3.054, 2.457], [-7.359, -2.83, 2.539], [-6.488, -2.636, 2.604], [-5.647, -2.452, 2.651], [-4.809, -2.285, 2.64], [-4.007, -2.131, 2.624], [-3.352, -2.005, 2.596], [-2.739, -1.887, 2.527], [-2.133, -1.767, 2.437], [-1.558, -1.662, 2.337], [-0.988, -1.556, 2.223], [-0.437, -1.44, 2.085], [-10.393, -3.902, 2.126], [-9.554, -3.799, 2.29], [-8.781, -3.702, 2.423], [-7.993, -3.625, 2.517], [-7.219, -3.548, 2.582], [-6.445, -3.473, 2.623], [-5.694, -3.414, 2.64], [-4.975, -3.358, 2.639], [-4.312, -3.302, 2.603], [-3.695, -3.247, 2.553], [-3.094, -3.2, 2.463], [-2.469, -3.151, 2.375], [-1.844, -3.102, 2.25], [-1.219, -3.047, 2.096], [-0.561, -3.004, 1.92], [0.158, -2.924, 1.723], [-10.289, -3.925, 2.131], [-9.408, -3.844, 2.289], [-8.5, -3.778, 2.439], [-7.686, -3.709, 2.534], [-6.907, -3.648, 2.573], [-6.081, -3.592, 2.626], [-5.29, -3.533, 2.638], [-4.598, -3.498, 2.624], [-3.955, -3.459, 2.577], [-3.345, -3.423, 2.527], [-2.727, -3.383, 2.449], [-2.123, -3.343, 2.338], [-1.459, -3.296, 2.195], [-0.782, -3.257, 2.028], [-0.123, -3.213, 1.856], [-10.331, -3.691, 2.124], [-9.458, -3.5, 2.307], [-8.619, -3.327, 2.436], [-7.774, -3.151, 2.53], [-6.99, -3.012, 2.583], [-6.243, -2.885, 2.608], [-5.525, -2.768, 2.614], [-4.839, -2.66, 2.589], [-4.2, -2.556, 2.563], [-3.607, -2.469, 2.506], [-2.981, -2.373, 2.414], [-2.362, -2.269, 2.294], [-1.751, -2.178, 2.172], [-1.127, -2.082, 2.023], [-0.514, -1.996, 1.864], [0.188, -1.897, 1.673], [-10.295, -3.676, 2.143], [-9.399, -3.455, 2.336], [-8.164, -3.187, 2.498], [-7.347, -3.023, 2.585], [-6.549, -2.87, 2.637], [-5.614, -2.706, 2.653], [-4.82, -2.57, 2.646], [-4.15, -2.454, 2.612], [-3.512, -2.354, 2.559], [-2.893, -2.252, 2.472], [-2.285, -2.144, 2.368], [-1.664, -2.041, 2.251], [-1.127, -1.956, 2.121], [-0.51, -1.856, 1.95], [0.156, -1.754, 1.769], [-10.369, -3.593, 2.115], [-9.574, -3.344, 2.294], [-8.77, -3.105, 2.417], [-7.97, -2.878, 2.521], [-7.232, -2.692, 2.585], [-6.487, -2.522, 2.623], [-5.716, -2.347, 2.627], [-4.955, -2.189, 2.626], [-4.246, -2.04, 2.592], [-3.583, -1.906, 2.54], [-2.943, -1.777, 2.444], [-2.322, -1.645, 2.336], [-1.742, -1.529, 2.21], [-1.118, -1.405, 2.062], [-0.454, -1.28, 1.902], [0.34, -1.151, 1.701], [-10.505, -3.728, 2.073], [-9.365, -3.444, 2.288], [-8.421, -3.225, 2.438], [-7.532, -3.032, 2.536], [-6.62, -2.85, 2.609], [-5.765, -2.687, 2.629], [-4.964, -2.547, 2.65], [-4.238, -2.426, 2.632], [-3.569, -2.313, 2.612], [-2.962, -2.206, 2.545], [-2.386, -2.111, 2.459], [-1.781, -2.004, 2.358], [-1.225, -1.912, 2.247], [-0.453, -1.78, 2.051], [0.343, -1.647, 1.871], [-10.478, -3.739, 2.12], [-9.699, -3.546, 2.314], [-8.938, -3.37, 2.421], [-8.252, -3.223, 2.519], [-7.545, -3.102, 2.577], [-6.828, -2.969, 2.632], [-6.167, -2.869, 2.626], [-5.507, -2.762, 2.612], [-4.887, -2.663, 2.587], [-4.237, -2.559, 2.523], [-3.657, -2.477, 2.455], [-3.05, -2.38, 2.357], [-2.466, -2.291, 2.23], [-1.857, -2.197, 2.09], [-1.219, -2.1, 1.923], [-0.281, -1.978, 1.649]] )\n",
    "\n",
    "print(real_ball_trajectory_list.shape)\n",
    "print(estimation_ball_trajectory_list.shape)"
   ]
  },
  {
   "cell_type": "code",
   "execution_count": 96,
   "metadata": {
    "scrolled": true
   },
   "outputs": [
    {
     "name": "stdout",
     "output_type": "stream",
     "text": [
      "MAE\n",
      "0.17316959064327475\n",
      "0.03245808966861598\n",
      "0.03386159844054582\n",
      "MSE\n",
      "0.034296908382066296\n",
      "0.00157572514619883\n",
      "0.001618060428849906\n",
      "RMSE\n",
      "0.1851942450025548\n",
      "0.03969540459799887\n",
      "0.04022512186246185\n",
      "R2 Score\n",
      "0.96613171593677\n",
      "1.0087885247847281\n",
      "1.0002072639034771\n"
     ]
    }
   ],
   "source": [
    "print('MAE')\n",
    "print((sum(abs((real_ball_trajectory_list[:,0]  - estimation_ball_trajectory_list[:,0]))) / estimation_ball_trajectory_list.shape[0]))\n",
    "print((sum(abs((real_ball_trajectory_list[:,1]  - estimation_ball_trajectory_list[:,1]))) / estimation_ball_trajectory_list.shape[0]))\n",
    "print((sum(abs((real_ball_trajectory_list[:,2]  - estimation_ball_trajectory_list[:,2]))) / estimation_ball_trajectory_list.shape[0]))\n",
    "\n",
    "print('MSE')\n",
    "print((sum((real_ball_trajectory_list[:,0]  - estimation_ball_trajectory_list[:,0]) ** 2) / estimation_ball_trajectory_list.shape[0]))\n",
    "print((sum((real_ball_trajectory_list[:,1]  - estimation_ball_trajectory_list[:,1]) ** 2) / estimation_ball_trajectory_list.shape[0]))\n",
    "print((sum((real_ball_trajectory_list[:,2]  - estimation_ball_trajectory_list[:,2]) ** 2) / estimation_ball_trajectory_list.shape[0]))\n",
    "\n",
    "\n",
    "print('RMSE')\n",
    "print(np.sqrt(sum((real_ball_trajectory_list[:,0]  - estimation_ball_trajectory_list[:,0]) ** 2) / estimation_ball_trajectory_list.shape[0]))\n",
    "print(np.sqrt(sum((real_ball_trajectory_list[:,1] - estimation_ball_trajectory_list[:,1]) ** 2) / estimation_ball_trajectory_list.shape[0]))\n",
    "print(np.sqrt(sum((real_ball_trajectory_list[:,2] - estimation_ball_trajectory_list[:,2]) ** 2) / estimation_ball_trajectory_list.shape[0]))\n",
    "\n",
    "print('R2 Score')\n",
    "print(sum(estimation_ball_trajectory_list[:,0])/ sum(real_ball_trajectory_list[:,0]))\n",
    "print(sum(estimation_ball_trajectory_list[:,1])/ sum(real_ball_trajectory_list[:,1]))\n",
    "print(sum(estimation_ball_trajectory_list[:,2])/ sum(real_ball_trajectory_list[:,2]))\n"
   ]
  },
  {
   "cell_type": "code",
   "execution_count": 97,
   "metadata": {},
   "outputs": [],
   "source": [
    "with open('real_traj_list.bin', 'wb') as f:\n",
    "        pickle.dump(np.array(real_ball_val_list),f)\n",
    "\n",
    "with open('esti_traj_list.bin', 'wb') as f:\n",
    "        pickle.dump(np.array(esti_ball_val_list),f)"
   ]
  },
  {
   "cell_type": "code",
   "execution_count": 78,
   "metadata": {},
   "outputs": [],
   "source": [
    "ball_val_list = np.array( [[17.6, 2.862, 2.126], [17.217, 2.634, 1.5], [16.744, 2.36, 0.805], [16.386, 2.158, 0.305], [15.673, 1.943, -0.19], [14.338, 1.778, -0.634], [13.146, 1.63, -1.093], [12.736, 1.579, -1.579], [12.736, 1.579, -2.118], [12.736, 1.579, -3.098], [12.736, 1.579, -3.568], [15.942, 4.54, 2.175], [15.58, 4.109, 1.479], [15.252, 3.727, 0.859], [14.923, 3.351, 0.245], [14.309, 3.055, -0.251], [13.166, 2.811, -0.764], [12.387, 2.645, -1.228], [12.387, 2.645, -1.708], [12.387, 2.645, -2.14], [12.387, 2.645, -2.62], [12.387, 2.645, -3.08], [12.387, 2.645, -3.521], [12.387, 2.645, -3.982], [12.387, 2.645, -4.452], [15.692, 1.762, 2.118], [15.398, 1.61, 1.501], [15.125, 1.472, 0.956], [14.788, 1.307, 0.334], [14.391, 1.211, -0.13], [12.733, 1.071, -0.702], [12.561, 1.057, -1.191], [12.561, 1.057, -1.632], [12.561, 1.057, -2.073], [12.561, 1.057, -2.524], [12.561, 1.057, -2.994], [12.561, 1.057, -3.474], [12.561, 1.057, -3.925], [12.561, 1.057, -4.395], [16.329, 2.735, 2.261], [15.92, 2.449, 1.537], [15.602, 2.233, 0.987], [15.319, 2.045, 0.432], [15.049, 1.871, -0.041], [13.786, 1.714, -0.518], [12.525, 1.557, -0.961], [12.525, 1.557, -1.431], [12.525, 1.557, -1.892], [12.525, 1.557, -2.333], [12.525, 1.557, -2.793], [12.525, 1.557, -3.293], [12.525, 1.557, -3.773], [12.525, 1.557, -4.224], [16.234, 2.454, 2.094], [15.931, 2.26, 1.46], [15.64, 2.077, 0.921], [15.273, 1.853, 0.343], [14.653, 1.7, -0.13], [13.007, 1.509, -0.711], [12.609, 1.463, -1.198], [12.609, 1.463, -1.708], [12.609, 1.463, -2.169], [12.609, 1.463, -2.629], [12.609, 1.463, -3.158], [12.609, 1.463, -3.658], [12.609, 1.463, -4.129], [16.693, 3.266, 2.096], [16.364, 3.01, 1.467], [16.036, 2.761, 0.898], [15.644, 2.469, 0.323], [15.366, 2.268, -0.14], [14.051, 2.074, -0.585], [12.817, 1.892, -1.036], [12.399, 1.83, -1.552], [12.399, 1.83, -2.061], [12.399, 1.83, -2.551], [12.399, 1.83, -3.031], [12.399, 1.83, -3.482], [12.399, 1.83, -3.953], [15.157, 2.913, 1.976], [14.886, 2.66, 1.346], [14.625, 2.422, 0.777], [14.398, 2.221, 0.244], [13.444, 1.981, -0.315], [12.639, 1.862, -0.822], [12.639, 1.862, -1.263], [12.639, 1.862, -1.694], [12.639, 1.862, -2.174], [12.639, 1.862, -2.704], [12.639, 1.862, -3.223], [12.639, 1.862, -3.664], [12.639, 1.862, -4.115], [12.639, 1.862, -4.575], [15.293, 2.875, 2.106], [14.991, 2.604, 1.464], [14.752, 2.395, 0.9], [14.513, 2.191, 0.357], [14.208, 1.995, -0.134], [12.623, 1.772, -0.697], [12.623, 1.772, -1.216], [12.623, 1.772, -1.657], [12.623, 1.772, -2.147], [12.623, 1.772, -2.598], [12.623, 1.772, -3.068], [12.623, 1.772, -3.568], [12.623, 1.772, -4.107], [12.623, 1.772, -4.617], [15.4, 1.398, 2.031], [15.104, 1.268, 1.349], [14.736, 1.112, 0.661], [14.507, 1.019, 0.132], [13.273, 0.91, -0.408], [12.807, 0.878, -0.866], [12.807, 0.878, -1.307], [12.807, 0.878, -1.768], [12.807, 0.878, -2.248], [12.807, 0.878, -2.679], [12.807, 0.878, -3.14], [12.807, 0.878, -3.62], [12.807, 0.878, -4.62], [17.161, 4.574, 2.073], [16.709, 4.132, 1.363], [16.342, 3.779, 0.781], [16.019, 3.474, 0.251], [15.369, 3.189, -0.219], [13.713, 2.846, -0.759], [12.475, 2.589, -1.276], [12.475, 2.589, -1.737], [12.475, 2.589, -2.187], [12.475, 2.589, -2.619], [12.475, 2.589, -3.089], [12.475, 2.589, -3.55], [12.475, 2.589, -3.981], [16.18, 0.019, 2.066], [15.864, 0.018, 1.434], [15.569, 0.016, 0.884], [15.287, 0.015, 0.341], [14.594, 0.013, -0.225], [13.379, 0.012, -0.72], [12.529, 0.011, -1.184], [12.529, 0.011, -1.634], [12.529, 0.011, -2.095], [12.529, 0.011, -2.536], [12.529, 0.011, -3.055], [12.529, 0.011, -3.575], [12.529, 0.011, -4.084], [16.478, 4.563, 2.097], [16.02, 4.066, 1.335], [15.629, 3.649, 0.674], [15.313, 3.32, 0.131], [13.912, 2.949, -0.4], [12.685, 2.689, -0.911], [12.28, 2.603, -1.349], [12.28, 2.603, -1.839], [12.28, 2.603, -2.368], [12.28, 2.603, -2.868], [12.28, 2.603, -3.377], [12.28, 2.603, -3.867], [12.28, 2.603, -4.328], [15.956, 3.263, 2.352], [15.647, 2.99, 1.695], [15.317, 2.705, 1.061], [15.011, 2.446, 0.486], [14.763, 2.243, -0.078], [13.045, 1.982, -0.592], [12.634, 1.92, -1.05], [12.634, 1.92, -1.56], [12.634, 1.92, -2.099], [12.634, 1.92, -2.589], [12.634, 1.92, -3.039], [12.634, 1.92, -3.5], [12.634, 1.92, -3.951], [12.634, 1.92, -4.421], [17.75, 0.701, 2.062], [17.338, 0.641, 1.437], [16.946, 0.586, 0.864], [16.526, 0.528, 0.295], [15.867, 0.486, -0.166], [14.533, 0.445, -0.62], [13.232, 0.405, -1.06], [12.841, 0.393, -1.516], [12.841, 0.393, -1.977], [12.841, 0.393, -2.487], [12.841, 0.393, -2.908], [12.841, 0.393, -3.378], [12.841, 0.393, -3.829], [17.978, 1.365, 2.183], [17.557, 1.251, 1.506], [17.157, 1.144, 0.92], [16.711, 1.029, 0.269], [15.957, 0.923, -0.243], [14.625, 0.846, -0.735], [12.828, 0.742, -1.324], [12.573, 0.727, -1.811], [12.573, 0.727, -2.35], [12.573, 0.727, -2.86], [12.573, 0.727, -3.321], [12.573, 0.727, -3.771], [16.795, 2.697, 2.074], [16.442, 2.472, 1.428], [16.133, 2.28, 0.879], [15.821, 2.089, 0.349], [15.423, 1.898, -0.14], [14.16, 1.742, -0.587], [12.56, 1.546, -1.074], [12.56, 1.546, -1.545], [12.56, 1.546, -2.074], [12.56, 1.546, -2.623], [12.56, 1.546, -3.113], [12.56, 1.546, -3.642], [12.56, 1.546, -4.171], [16.228, 2.158, 2.101], [15.817, 1.925, 1.312], [15.517, 1.76, 0.685], [15.198, 1.589, 0.163], [14.21, 1.437, -0.311], [12.975, 1.313, -0.726], [12.564, 1.271, -1.233], [12.564, 1.271, -1.713], [12.564, 1.271, -2.243], [12.564, 1.271, -2.772], [12.564, 1.271, -3.232], [12.564, 1.271, -3.703], [12.564, 1.271, -4.163], [15.873, 3.269, 2.057], [15.566, 2.994, 1.407], [15.252, 2.718, 0.83], [14.947, 2.456, 0.296], [14.325, 2.245, -0.193], [12.913, 2.024, -0.726], [12.717, 1.993, -1.264], [12.717, 1.993, -1.724], [12.717, 1.993, -2.175], [12.717, 1.993, -2.714], [12.717, 1.993, -3.224], [12.717, 1.993, -3.694], [12.717, 1.993, -4.155], [17.157, 0.166, 1.772], [16.742, 0.15, 1.105], [16.388, 0.137, 0.497], [15.98, 0.123, -0.034], [14.627, 0.112, -0.491], [13.407, 0.103, -0.961], [12.61, 0.097, -1.414], [12.61, 0.097, -1.963], [12.61, 0.097, -2.492], [12.61, 0.097, -2.962], [12.61, 0.097, -3.403], [12.61, 0.097, -3.874], [16.087, 2.238, 2.127], [15.775, 2.049, 1.455], [15.461, 1.864, 0.838], [15.146, 1.684, 0.263], [14.359, 1.522, -0.228], [12.68, 1.344, -0.798], [12.494, 1.324, -1.316], [12.494, 1.324, -1.787], [12.494, 1.324, -2.247], [12.494, 1.324, -2.698], [12.494, 1.324, -3.267], [12.494, 1.324, -3.806], [12.494, 1.324, -4.325], [15.553, 2.111, 2.109], [15.263, 1.928, 1.433], [14.998, 1.764, 0.872], [14.735, 1.605, 0.327], [14.063, 1.428, -0.228], [12.86, 1.306, -0.762], [12.86, 1.306, -1.233], [12.86, 1.306, -1.693], [12.86, 1.306, -2.154], [12.86, 1.306, -2.595], [12.86, 1.306, -3.163], [12.86, 1.306, -3.575], [12.86, 1.306, -4.035], [12.86, 1.306, -4.516], [15.67, 0.457, 2.041], [15.295, 0.406, 1.279], [14.96, 0.362, 0.598], [14.715, 0.331, 0.092], [13.799, 0.303, -0.359], [12.578, 0.276, -0.912], [12.578, 0.276, -1.461], [12.578, 0.276, -1.951], [12.578, 0.276, -2.441], [12.578, 0.276, -3.0], [12.578, 0.276, -3.49], [12.578, 0.276, -3.97], [12.578, 0.276, -4.509], [17.238, 2.103, 2.135], [16.768, 1.885, 1.442], [16.427, 1.73, 0.885], [16.054, 1.566, 0.256], [15.344, 1.412, -0.284], [13.821, 1.272, -0.765], [12.831, 1.181, -1.217], [12.831, 1.181, -1.707], [12.831, 1.181, -2.275], [12.831, 1.181, -2.745], [12.831, 1.181, -3.226], [12.831, 1.181, -3.696], [12.831, 1.181, -4.166], [17.335, 2.535, 2.126], [16.809, 2.247, 1.279], [16.365, 2.01, 0.561], [15.973, 1.808, 0.05], [14.752, 1.628, -0.525], [13.266, 1.464, -1.003], [12.505, 1.38, -1.446], [12.505, 1.38, -1.936], [12.505, 1.38, -2.396], [12.505, 1.38, -2.847], [12.505, 1.38, -3.406], [12.505, 1.38, -3.896], [15.636, 3.605, 2.204], [15.271, 3.23, 1.502], [15.0, 2.958, 0.883], [14.671, 2.637, 0.24], [13.769, 2.359, -0.26], [12.469, 2.136, -0.744], [12.469, 2.136, -1.205], [12.469, 2.136, -1.744], [12.469, 2.136, -2.253], [12.469, 2.136, -2.724], [12.469, 2.136, -3.155], [12.469, 2.136, -4.243], [12.469, 2.136, -4.752], [15.433, 2.903, 2.103], [15.064, 2.58, 1.347], [14.786, 2.344, 0.715], [14.499, 2.106, 0.123], [13.55, 1.921, -0.36], [12.72, 1.803, -0.955], [12.72, 1.803, -1.474], [12.72, 1.803, -1.954], [12.72, 1.803, -2.532], [12.72, 1.803, -3.071], [12.72, 1.803, -3.542], [12.72, 1.803, -3.993], [12.72, 1.803, -4.473], [17.506, 4.339, 2.107], [17.101, 3.979, 1.456], [16.615, 3.556, 0.727], [16.253, 3.248, 0.206], [15.375, 2.965, -0.272], [14.059, 2.711, -0.744], [12.719, 2.453, -1.27], [12.339, 2.38, -1.785], [12.339, 2.38, -2.265], [12.339, 2.38, -2.814], [12.339, 2.38, -3.274], [12.339, 2.38, -3.735], [16.511, 2.245, 2.087], [16.181, 2.059, 1.466], [15.844, 1.875, 0.895], [15.39, 1.634, 0.192], [14.672, 1.487, -0.322], [13.102, 1.328, -0.784], [12.693, 1.286, -1.319], [12.693, 1.286, -1.849], [12.693, 1.286, -2.329], [12.693, 1.286, -2.848], [12.693, 1.286, -3.377], [12.693, 1.286, -3.838], [12.693, 1.286, -4.328], [16.027, 0.34, 2.228], [15.638, 0.304, 1.465], [15.363, 0.278, 0.889], [15.101, 0.255, 0.338], [14.85, 0.234, -0.15], [13.305, 0.209, -0.674], [12.781, 0.201, -1.238], [12.781, 0.201, -1.787], [12.781, 0.201, -2.307], [12.781, 0.201, -2.777], [12.781, 0.201, -3.247], [12.781, 0.201, -3.835], [12.781, 0.201, -4.316], [16.813, 1.337, 2.144], [16.366, 1.195, 1.424], [16.048, 1.096, 0.859], [15.741, 1.003, 0.252], [15.007, 0.896, -0.269], [13.715, 0.819, -0.752], [12.896, 0.77, -1.216], [12.896, 0.77, -1.677], [12.896, 0.77, -2.137], [12.896, 0.77, -2.706], [12.896, 0.77, -3.205], [12.896, 0.77, -3.666], [12.896, 0.77, -4.225], [17.223, 0.037, 2.121], [16.87, 0.034, 1.506], [16.538, 0.031, 0.919], [16.165, 0.028, 0.323], [15.439, 0.025, -0.201], [14.184, 0.024, -0.675], [12.928, 0.022, -1.144], [12.928, 0.022, -1.614], [12.928, 0.022, -2.143], [12.928, 0.022, -2.663], [12.928, 0.022, -3.162], [12.928, 0.022, -3.701], [15.314, 3.835, 2.2], [14.986, 3.456, 1.509], [14.703, 3.136, 0.905], [14.456, 2.863, 0.36], [13.862, 2.553, -0.199], [12.681, 2.335, -0.733], [12.681, 2.335, -1.213], [12.681, 2.335, -1.762], [12.681, 2.335, -2.32], [12.681, 2.335, -2.869], [12.681, 2.335, -3.398], [12.681, 2.335, -3.81], [12.681, 2.335, -4.378], [16.884, -0.534, 2.093], [16.519, -0.488, 1.436], [16.119, -0.438, 0.798], [15.759, -0.395, 0.219], [14.704, -0.349, -0.364], [13.428, -0.319, -0.846], [12.654, -0.3, -1.369], [12.654, -0.3, -1.927], [12.654, -0.3, -2.407], [12.654, -0.3, -2.888], [12.654, -0.3, -3.436], [12.654, -0.3, -3.946], [15.124, 0.024, 2.044], [14.876, 0.022, 1.407], [14.631, 0.02, 0.835], [14.325, 0.018, 0.146], [13.509, 0.016, -0.349], [12.569, 0.015, -0.904], [12.569, 0.015, -1.433], [12.569, 0.015, -1.923], [12.569, 0.015, -2.462], [12.569, 0.015, -3.138], [12.569, 0.015, -3.667], [12.569, 0.015, -4.128], [12.569, 0.015, -4.608], [17.797, 3.195, 2.131], [17.373, 2.924, 1.466], [16.886, 2.619, 0.794], [16.537, 2.406, 0.215], [15.734, 2.194, -0.273], [14.186, 1.978, -0.735], [12.579, 1.754, -1.296], [12.579, 1.754, -1.796], [12.579, 1.754, -2.257], [12.579, 1.754, -2.825], [12.579, 1.754, -3.305], [12.579, 1.754, -3.756], [17.141, 1.139, 2.082], [16.779, 1.045, 1.433], [16.418, 0.954, 0.859], [16.084, 0.872, 0.335], [15.352, 0.782, -0.26], [13.592, 0.692, -0.779], [12.786, 0.651, -1.272], [12.786, 0.651, -1.831], [12.786, 0.651, -2.399], [12.786, 0.651, -2.938], [12.786, 0.651, -3.477], [12.786, 0.651, -4.026], [15.669, 1.498, 2.049], [15.354, 1.359, 1.402], [15.039, 1.223, 0.809], [14.795, 1.121, 0.297], [13.887, 1.003, -0.252], [12.578, 0.908, -0.854], [12.578, 0.908, -1.354], [12.578, 0.908, -1.814], [12.578, 0.908, -2.402], [12.578, 0.908, -2.912], [12.578, 0.908, -3.49], [12.578, 0.908, -3.97], [12.578, 0.908, -4.529], [16.406, 2.234, 1.998], [15.983, 1.994, 1.203], [15.579, 1.772, 0.537], [15.225, 1.584, -0.126], [13.535, 1.408, -0.745], [12.766, 1.328, -1.366], [12.766, 1.328, -1.954], [12.766, 1.328, -2.522], [12.766, 1.328, -3.052], [12.766, 1.328, -3.649], [12.766, 1.328, -4.13]] )\n",
    "real_ball_val_list = np.array( [[19.255228825418577, 3.441449888753532, 3.3781103202488634], [17.83177242192046, 3.0032458815866048, 2.460993152966806], [14.738135072882855, 2.327073958876244, 1.5337532910775187], [21.681441313398338, 3.164682427732045, 1.4364515984032034], [15.55358378731315, 2.090535455284028, 0.5226338638210046], [16.514816239571502, 2.1087186348883975, 0.041756804651260075], [13.814026135053727, 1.7064385225654601, -0.38598014200885633], [13.589679039448464, 1.6759931059052389, -0.8480928969640912], [11.22617655685487, 1.3987887722598686, -1.1656573102165664], [14.40473754383261, 1.7980668182343642, -2.1011117875997], [12.885695501196079, 1.5879546261285595, -2.6398481364302815], [14.851744453675067, 4.760174504383038, 3.0655523808226772], [16.70684092144898, 5.013862335039403, 2.6788867349668943], [16.197808536591115, 4.444520635040236, 1.8765753792392177], [13.781998469931642, 3.489335490478883, 1.034526602704796], [16.677506223148697, 3.9276020572859043, 0.6118375064113665], [13.98391055237043, 3.051737385738296, -0.01931479358062001], [15.941479129153715, 3.389978065149782, -0.5793000491078766], [12.138936429368895, 2.5925874162062703, -0.9646836897511712], [13.358156543894482, 2.8512367749152943, -1.5715478286934657], [11.364299957193445, 2.42792045764097, -1.7750342841576876], [13.240325804656585, 2.8356546204371567, -2.552089158393443], [12.852821246169558, 2.7384017775344107, -2.959240630561374], [12.19039440801296, 2.599743610311007, -3.255141159128909], [11.466091086727792, 2.442947241845782, -3.4674089884262727], [16.644145133837277, 2.0779464258560725, 3.291796318187832], [15.689121681517928, 1.8268155382589395, 2.4285900685089437], [16.028730337739244, 1.7485887641170055, 1.8606777874578468], [12.10862161581621, 1.2252771873147354, 0.9730142369852272], [17.37423088383331, 1.625535574793637, 0.7388798067243839], [12.363987003458753, 1.0623870314083048, 0.0732680711316075], [15.81679299654523, 1.326440073407865, -0.4823418448755856], [13.728573214322187, 1.1565412692252663, -1.0280366837557966], [12.765483810960003, 1.0618666461196449, -1.4312115665090746], [12.032647324647364, 1.0222426045718125, -1.7676278370720948], [12.623088021265657, 1.0679431490072426, -2.306757201855654], [11.587071906503281, 0.9623161413875596, -2.553083640415976], [13.270997010870962, 1.1221005602687655, -3.4094593946627825], [12.1569855322655, 1.0285097743033382, -3.579214014575628], [16.532639206400273, 3.065384278071738, 3.2901791251303347], [16.204509766091352, 2.8242717886512767, 2.563877935796906], [18.44515001860754, 2.9679323629463794, 2.1544990486573723], [14.102804120115113, 2.093067470276455, 1.1379784304415665], [15.5580591480042, 2.1708919741401225, 0.7035298064343012], [15.297639083070726, 1.968117308933077, 0.20128472477724402], [15.447600467061356, 1.9201626278889128, -0.3020480538252178], [12.797266209000774, 1.5996582761250897, -0.7251784185100486], [12.185612375220554, 1.5206671017330178, -1.1759825586735275], [13.068978334593368, 1.6081411815530773, -1.7213905605356965], [11.942996490021336, 1.484919634638539, -2.01524807558087], [11.818707675573288, 1.4748803255707046, -2.4188037339359596], [12.561455351385437, 1.562669086775227, -3.045201297305562], [12.855027558897644, 1.5937717691292363, -3.627927842886281], [20.453727440470956, 3.4089545734118296, 3.8465906335119895], [14.925293491068498, 2.3524634774001933, 2.1943146721968274], [18.16935322966838, 2.6549880831154584, 2.008556202009076], [14.113402745252033, 1.9116136283194394, 1.037152074939275], [15.952157460096824, 2.024385464479294, 0.647803348633374], [11.605341486816284, 1.3859616451881343, 0.08349166537277722], [17.01661663737888, 1.9735247697788505, -0.5235882042270387], [12.313538497845364, 1.4253613695255098, -0.9304442273291545], [13.817176080068405, 1.6032143237941974, -1.5821193984811184], [12.666300221125192, 1.4655223396343164, -1.94705110837131], [10.612555882679228, 1.2348505158598082, -2.0222914245240347], [13.596413844315707, 1.5772638674022665, -3.114597003984218], [13.552109102786362, 1.5596517474435283, -3.6672892439888383], [19.624225029943155, 4.296807441196709, 3.634115746285771], [16.1285832168441, 3.2662916954866676, 2.333065496776186], [17.56878622007592, 3.3361197014694093, 1.8846910001807753], [15.378894180728587, 2.7491840403721812, 1.116210061504491], [16.366829893994655, 2.6940450196798107, 0.6279353053389061], [14.769622939096374, 2.2754321054630258, 0.0827429856532011], [14.95964115530887, 2.198679247610235, -0.36644654126837084], [11.941213909664006, 1.7627506247599245, -0.7202636961384689], [12.931534411801804, 1.900543693855719, -1.3519331430520056], [13.058783991028523, 1.9392191076724883, -1.8979591266581757], [12.731010719637302, 1.873392400199792, -2.3769925077803795], [12.337346957944641, 1.824683247561562, -2.7577599082464492], [12.271370733739154, 1.810185048201656, -3.2414941560820387], [16.089693311628576, 3.4633411187392324, 3.24564539127563], [17.08544473667639, 3.413025821357477, 2.6207162556852035], [14.698129147384694, 2.710293317957459, 1.6053275806363414], [13.968452248684097, 2.3872637317666316, 1.0062020687611453], [13.002002405109533, 2.073595211159704, 0.4483449105210101], [15.409653323125328, 2.2908887405408684, -0.039160491291292586], [14.854206816232747, 2.175952567998228, -0.6439043313464106], [12.85302426772955, 1.8992441357813397, -1.0600432385756342], [11.039470870316459, 1.6281234017373163, -1.2905856233283617], [12.108471191784275, 1.7800821945918757, -1.8583275657827274], [12.370013740095434, 1.8292406848457365, -2.3906907960360146], [15.396916873041265, 2.252086348594093, -3.6309147252843568], [12.268404537893883, 1.8143415161674072, -3.3478920834041372], [12.594272813104606, 1.8610093847542952, -3.873496277569974], [20.065015392068347, 4.22542901812256, 4.109980137846], [15.110365526425625, 2.9595474548309495, 2.3759747172586487], [14.995980014361534, 2.6959065194357845, 1.7691886533797336], [14.376098971741287, 2.426866493083646, 1.1311665857593218], [13.72156754993429, 2.1501031773401373, 0.5863917756382224], [12.776221790570359, 1.851626346459467, 0.09258131732297172], [14.903397463126051, 2.0804235037358754, -0.453910582633281], [14.179059764236134, 1.9854999974272742, -1.0790760855583017], [11.656944273460772, 1.6418231371071537, -1.3134585096857228], [13.102009029702975, 1.8479854257425736, -1.9725687128712912], [12.48593022158412, 1.7476091203903614, -2.3582195359484364], [11.515295857344793, 1.6151817621688225, -2.584290819470111], [11.278854746603477, 1.5908368818505696, -2.967178903226909], [14.298740653946489, 2.0022281820943495, -4.348273324750347], [15.348578801400981, 1.5484064364591181, 3.0387476315510176], [16.42776013223653, 1.5451853589727444, 2.5210919014818463], [12.98318510049199, 1.1362375634922226, 1.4370063302989837], [16.57811991867999, 1.32862922793248, 1.11049607110775], [13.962040747183487, 1.0122957039681588, 0.38199837885590976], [16.303682297598417, 1.1215271898984953, -0.14538315424610296], [13.755605714162202, 0.9517882042748116, -0.7025103412504523], [12.175446033103587, 0.8229504251144569, -1.0339633546309885], [12.222727311453196, 0.8527484170781258, -1.4618544292767859], [14.231213346825912, 0.9759843284107116, -2.2470336863409375], [11.623137595566126, 0.7831191997012599, -2.2257071991509623], [12.605505588921003, 0.8794538782968199, -2.86869479349199], [12.978982345618657, 0.8878131246188621, -3.445560459830357], [18.680748849833137, 5.542639768631816, 3.4338239644048976], [18.059985572067525, 4.954676670033185, 2.5340712739864357], [17.311641917216832, 4.451023906505421, 1.7425285080787205], [17.637324434603173, 4.207668252012871, 1.1336722751537178], [15.704775870209835, 3.5053535044478448, 0.4951064271819059], [14.163867587868598, 2.9858964104155388, 0.019140361605225743], [14.819683947389356, 3.075084419083291, -0.5001643332243928], [14.923398300059295, 3.1090413125123524, -1.16070875667128], [12.91871028508956, 2.6675152636447734, -1.5652362290808115], [12.781266568983455, 2.6497747764965753, -2.0262983584973817], [11.43946553265903, 2.3754081433936745, -2.208712835085346], [12.708212000121392, 2.630748394015116, -2.9065526611296018], [13.421186481955738, 2.794171929690441, -3.5728755822271276], [18.08381215770052, 0.04072930666149223, 3.4416264128957086], [16.89060630466874, 0.021060606364921308, 2.506212157425916], [15.858636592787493, 0.0, 1.7269697219237343], [14.883346218404924, 0.020585541104292213, 1.091033678527606], [12.88016532903965, 0.017405628823032364, 0.5221688646907932], [16.43305639706803, 0.01947044596808795, 0.0584113379042725], [15.4941235461202, 0.0, -0.5328103007606649], [13.499000251193172, 0.021949593904376716, -1.0096813196014363], [12.39994818126292, 0.0, -1.3992997079550262], [12.40220617086861, 0.021056377200114152, -1.8319048164101275], [10.823762695888899, 0.0, -2.0150622040218704], [13.480045575330468, 0.02030127345682977, -3.004588471609805], [11.421309755417397, 0.01720076770393997, -3.027335115893767], [16.945847851793427, 5.187082696097751, 3.1825128892392573], [14.039764867370675, 4.040220105718169, 2.0537785537400692], [17.151575974396142, 4.556181543143653, 1.8262380565493153], [17.49249032186551, 4.281107819637078, 1.1041771299516427], [14.599599666476959, 3.293699291042964, 0.3700785720272998], [15.360728934846954, 3.260717395376726, -0.13750013113034587], [15.005117970952547, 3.180316611197618, -0.7470542375296364], [11.518244930717398, 2.4537106278464855, -1.0544872119670856], [12.171819903202781, 2.567809182237134, -1.5770796552322524], [11.374767569424849, 2.419068216122026, -1.9386858753318361], [12.622735842658525, 2.66677517802645, -2.6865290682340555], [13.140217886833591, 2.8010495808924247, -3.3571403065107814], [12.50559726511664, 2.6477648932657405, -3.6865034283161395], [16.94957169430084, 3.8062933953702927, 3.511883961474243], [15.452721414250389, 3.2655612933429685, 2.5612245437984087], [15.678441028477177, 3.0652698444050532, 1.9882831423167913], [15.258466328257208, 2.8190706523782625, 1.3602508742244772], [13.776817960132941, 2.3295015837477133, 0.6915707826750983], [15.909147636646566, 2.505836440937005, 0.19425088689434597], [15.680357919652984, 2.386141422555889, -0.383487014339344], [10.808571172475608, 1.62670803599131, -0.6868322818629952], [12.343814013492086, 1.8788149183397407, -1.296382293654419], [13.971966736166028, 2.1309762216310757, -2.010354926067057], [13.804381323362463, 2.0968680491183505, -2.5774003103746344], [12.515102117956408, 1.8955748474701632, -2.7787404014051234], [12.938861383619052, 1.960433542972581, -3.354519617975309], [11.98036755863859, 1.8352026036468747, -3.546683683452392], [19.027320772580016, 0.8272748161991319, 3.2470536535815904], [18.41705226572941, 0.7391459103302778, 2.4638197011009257], [18.16270128120808, 0.6841357712241126, 1.787580563521085], [15.512339447256252, 0.5519002598769701, 1.0446683490528341], [18.65202302211227, 0.6217341007370738, 0.6217341007370738], [15.734901848694896, 0.4923846837006592, 0.06422408917834892], [15.521247678927596, 0.4883566301167398, -0.4034250422703507], [12.801766015567067, 0.3812438155106117, -0.7825530949954731], [12.792725362001537, 0.40109204930368136, -1.266606471485302], [12.315797841516774, 0.36702708799222655, -1.6924026835196926], [14.790349525428379, 0.46496607789520156, -2.5683840493258887], [11.662582147894419, 0.3380458593592588, -2.450832480354617], [13.681834262686602, 0.42200462823221935, -3.353826255950779], [20.168137866484283, 1.682475672284246, 3.494372550128824], [15.688976856262261, 1.2339644718408551, 2.154541141309421], [18.80146562830877, 1.3903953610338755, 1.950703939360961], [14.243804681728196, 0.9758375803587818, 0.992957537908934], [19.552293200450084, 1.2521172985509899, 0.6742170069120748], [17.163748532585874, 1.0036082077526332, 0.0], [12.063072354466188, 0.7105010605703483, -0.3861418807447547], [16.26542302096862, 0.9239530236763249, -1.2319373649017666], [11.841456118853655, 0.6965562422855159, -1.4872417065014958], [13.569272187572954, 0.7793838222611801, -2.238230463929562], [13.798345580002861, 0.8067998165219095, -2.8548301200005897], [12.879065121837169, 0.7409276043019649, -3.1816303008261007], [17.81655606116831, 3.1742140108977948, 3.256129211179038], [16.86728283559753, 2.8145886124226407, 2.429860672595075], [17.68120953862824, 2.7522637489374207, 1.8556929822381072], [16.079412381093555, 2.3368745993855966, 1.1362784749306194], [15.796900759155097, 2.1653715139834007, 0.598054989576366], [15.867970496039208, 2.007784021947817, 0.1079453775240739], [13.4349939228184, 1.6526403523003816, -0.3305280704600746], [13.829575733961926, 1.6955018994369822, -0.8783925503107315], [12.574118471965626, 1.545655759012391, -1.3158961191591962], [11.434586494180191, 1.4145880198985812, -1.6503526898816743], [13.997207352270998, 1.7123183958681423, -2.628209630867388], [11.893899178181163, 1.477267732321861, -2.7083241759234133], [12.246564970048274, 1.4992107559203676, -3.305488775101527], [17.145023672008467, 2.516309444399249, 3.2200231025787085], [12.935322333385136, 1.7670267909000883, 1.9042715901932994], [17.459990660804408, 2.2347334560654994, 1.8531935977128478], [18.16859538255941, 2.1261122256186487, 1.138221696543328], [15.180760973690695, 1.6500827145315973, 0.41252067863289016], [15.086358899852678, 1.5446061706721543, -0.08463595455737845], [11.507383978650692, 1.1585932674750723, -0.4320178285500218], [13.478024634529298, 1.3702999249066243, -1.0635163596290202], [11.285374646379013, 1.1416382312257363, -1.31007665878363], [13.26066436372455, 1.3241473821953587, -2.091769053033249], [13.974718415128319, 1.4268481264695596, -2.790747070888989], [12.322305677551709, 1.2531158316154294, -2.9448222042962566], [12.640770251899239, 1.278751219512194, -3.479880367852862], [17.45275197877811, 3.9966601194209916, 3.3539811052427497], [15.713365954420121, 3.3510949499673623, 2.349853166135644], [16.341967848522714, 3.2471702348363243, 1.782760128929753], [15.199585418239947, 2.817785118131087, 1.1106598275845214], [14.406655485753804, 2.4640348692875507, 0.5166524725925465], [12.99826313871898, 2.067496903115748, 0.03595646788026985], [13.921368005523004, 2.1902952328689502, -0.46404560018409846], [14.675969845322117, 2.288527486609601, -1.154761575812178], [12.801805752201105, 2.0123239811152196, -1.5199468367997995], [10.639486946001847, 1.6732184598840527, -1.6186569883660924], [13.645083428831207, 2.125216778580701, -2.6217627548845996], [14.221198259426012, 2.23656827225394, -3.3337527076992712], [12.849744313473387, 2.0222548427761415, -3.4968156656337404], [16.748458455026853, 0.1807387603060432, 2.6106709821984295], [15.460220505332098, 0.14847750785432998, 1.874528536660914], [17.106234805751615, 0.17144333324249741, 1.4286944436874982], [17.806317584990243, 0.1394230683388521, 0.856455991224357], [16.783311633765283, 0.14223145452342803, 0.2235065713939712], [14.946184531485333, 0.12386340771949636, -0.24772681543898356], [14.973224546390515, 0.10850162714775512, -0.7812117154638543], [10.798515347396291, 0.08924392849087648, -0.9995319990978386], [13.0316872021341, 0.09402371718712106, -1.748841139680333], [14.569095357264409, 0.10496466395723414, -2.5611378005565655], [12.746979318936459, 0.10534693652013379, -2.7811591241315936], [12.505391780879442, 0.08806613930196798, -3.1483644800453483], [16.20992804094643, 2.539621529058925, 3.1745269113236674], [16.277111066486743, 2.3504853525612606, 2.5071843760653363], [16.40559363972619, 2.219114115518522, 1.8426572566359134], [14.814811785587509, 1.842545686900954, 1.0608596379126802], [16.406087598279914, 1.898566112002206, 0.5778244688702274], [13.141318622972303, 1.409935147994282, 0.018076091640958303], [14.105618949413172, 1.4895246473298858, -0.5383824026493624], [13.98135855206301, 1.4706317884392244, -1.180648055507542], [12.616724822524366, 1.3457839810692669, -1.57709060281554], [12.70614209703307, 1.3420456729404564, -2.0563603053119994], [9.762328977833903, 1.035655769822379, -1.9354878321270685], [13.341598076551834, 1.4169697267510215, -3.1835813341289207], [12.736697225551243, 1.3416995593681607, -3.6093607864692694], [17.136833734792823, 2.6216797877854634, 3.4316296409224427], [14.467775337120361, 2.036060399269983, 2.251412941500464], [16.860445680969665, 2.209447716462942, 1.9520363320206564], [14.055447817550219, 1.7222872677843264, 1.0492094849720661], [13.04647351475862, 1.4638399455549655, 0.5306419802636729], [15.12527603615882, 1.5774827767772988, 0.0371172418065206], [14.97201835798061, 1.5277569753041487, -0.549992511109486], [12.834123853779737, 1.289652640088074, -0.9984407536165769], [13.056401088480253, 1.340226601797638, -1.491542508452213], [12.669462227081876, 1.2774168526479226, -1.9056546490321526], [10.75219721864332, 1.0956470395508773, -1.987020902236335], [15.754306832103984, 1.6071507640804077, -3.5315023368608887], [11.932742936174463, 1.1910686110044713, -3.1320693104191735], [12.358394349020204, 1.2685769033762515, -3.662504285554001], [16.803417939838404, 0.5492642667985943, 3.2955856007915476], [14.056281706497662, 0.4175133180147825, 2.1397557548257624], [15.158302318892519, 0.4370906089646044, 1.6259770653483336], [17.882857256627304, 0.4480898173642331, 1.0998568244394877], [15.134075867442899, 0.3538917328012858, 0.3538917328012765], [11.402862376868827, 0.25876389660064847, -0.10350555864025784], [13.465663082310641, 0.29635572120628695, -0.6668003727141456], [14.359102417800138, 0.30551281740000547, -1.3442563965600185], [12.487833723841856, 0.27794860434623725, -1.687545097816465], [11.207376950364958, 0.24477890375212485, -1.95823123001696], [14.204347141008315, 0.3169728790183171, -3.070674765489949], [12.370547654103332, 0.25567109618973294, -3.2057222060712873], [11.520402797609846, 0.26702920391811347, -3.41415910723868], [19.80196636175861, 2.6459524017867158, 3.5421620862628664], [15.896569376682459, 2.0016462662570786, 2.2542812319011745], [17.994581171387626, 2.1170095495750156, 1.8629684036260137], [13.61891326291779, 1.4636315695403184, 0.9460057705565427], [17.551336007668013, 1.8053866306933148, 0.614203699101848], [16.73319572893817, 1.5693501269812986, -0.019616876587264163], [15.365219836457412, 1.4141067706629802, -0.5698639225059691], [11.835212881673746, 1.088076022992585, -0.878096439608057], [11.743670126148793, 1.0809306356361634, -1.355743509102978], [15.376014663710277, 1.4053346735649188, -2.3766689332347912], [12.908645749230582, 1.194468843678803, -2.5356268435988647], [12.6435568505854, 1.1658605680984913, -2.954853508801353], [12.7105123381479, 1.1555011216498101, -3.4252354677476515], [19.017203284976652, 3.114531123678392, 3.4445476665847115], [14.097585412711917, 2.146677778753861, 2.002497927942036], [16.91903101310444, 2.3625673937217946, 1.6766607310283657], [21.109746032378187, 2.714408490810249, 1.1692836575798016], [13.51288026072696, 1.5846289996471008, 0.2612025823594151], [17.977659730383696, 2.0104049590966717, -0.2899622537158683], [15.397981059528682, 1.6789764139514811, -0.8394882069757356], [11.76525662688473, 1.298372972406632, -1.1385732219565936], [12.898946508618357, 1.4446820089652619, -1.7336184107582995], [13.124568290307648, 1.4285244397613677, -2.2767108258697006], [10.563609206981887, 1.1757756334727678, -2.2229508070344495], [13.19231168831169, 1.4617007340485635, -3.3119548277809114], [18.843556239122513, 4.83821038572065, 3.883300441170515], [14.417532909547745, 3.4317789601599613, 2.3149278192794975], [14.44390252770689, 3.1893896444428895, 1.7230036010208776], [14.311368948623453, 2.9277387556904406, 1.1092674788640788], [16.37354222440126, 3.065189184188859, 0.6207978094559723], [13.75463496618159, 2.3879574594065267, -0.019103659675258594], [13.789954304249623, 2.363404985080043, -0.5137836924087023], [10.788553729229774, 1.841948197673374, -0.8457925397479776], [14.065176015027848, 2.418081836394473, -1.6725066035061706], [12.657509265253083, 2.168184457473904, -2.03145210429988], [12.797566055910481, 2.183884992476194, -2.5551454411971446], [10.848438178314238, 1.856417228374625, -2.5525736890151154], [12.665199190113801, 2.177975005236333, -3.761124904000559], [15.14315004893904, 3.195165931042125, 3.098342721010539], [14.129383460143865, 2.766714248969056, 2.244692692559803], [16.047851662007552, 2.907358108015672, 1.817098817509797], [15.504280610868276, 2.5651851132336745, 1.0751143489288209], [15.785848976936009, 2.3757310027478313, 0.43195109140869264], [12.273549557817095, 1.7429892863172218, -0.09078069199568661], [13.453815475024479, 1.9170831211230837, -0.6846725432582441], [13.942318495006585, 1.9685660757141745, -1.3394367113106724], [11.721652324628389, 1.6718382321985994, -1.5779147360076688], [12.503788029350272, 1.7672020414815028, -2.217338410538115], [14.338180826607482, 2.0244593015734, -3.151477881830753], [12.526675223994408, 1.783667339586769, -3.239303904077121], [12.478886499664172, 1.773754770019154, -3.693583462275177], [19.064928472950896, 5.230026962041401, 3.37484758682671], [17.217880437037234, 4.410690875762764, 2.387438180458751], [17.003388050577517, 4.067703944072407, 1.7350395969977037], [18.220908044178053, 4.062889914427232, 1.1709639054681094], [16.30864391188574, 3.3632611958363645, 0.46535689502138816], [14.755381941765409, 2.8701722053825667, -0.038525801414535404], [13.453403815102849, 2.592107655013033, -0.4563569815163777], [14.343943541520828, 2.777527103475676, -1.0911713620797336], [13.010471031602728, 2.505001138920526, -1.5923263053603312], [11.106862505479564, 2.1388214959876204, -1.8198744307964818], [14.362377991361535, 2.7745502937857482, -2.958160239698043], [12.38530236536366, 2.3916445946909164, -3.053617652150002], [18.694324100705238, 2.8093127930341617, 3.5116409912926976], [17.08069627805664, 2.404259574022655, 2.48788599398867], [16.876234724146794, 2.217158388503982, 1.8296938157557088], [12.717090279066895, 1.5398925644040173, 0.9170146731844141], [16.388172141583894, 1.8357422969187653, 0.5507226890756289], [16.45504787983491, 1.6914452769881052, -0.06264612136993222], [12.935920207874519, 1.3054598374919297, -0.5142720571937843], [11.678896963106805, 1.1890648233009702, -0.96102499417476], [14.076569608779787, 1.4384815658607057, -1.7672773523431538], [11.543206824537183, 1.1691672507167918, -1.911495663870301], [12.83606670031695, 1.29695770523262, -2.6129883178951294], [14.802307288070976, 1.4910353326670023, -3.630346896928359], [11.727181345160428, 1.1982547103095236, -3.33939837299376], [17.703688004766647, 0.4200163227702556, 3.528137111270225], [14.263084170166135, 0.3063212707686693, 2.2591193719189313], [17.761359514568216, 0.3604334512539255, 2.0825043850226552], [15.258950432014547, 0.28713078769919426, 1.1485231507967952], [14.748067903117002, 0.25193808507296467, 0.5813955809375915], [13.470401323999731, 0.22513205555431326, 0.07504401851810442], [13.02376116076915, 0.20618091547391812, -0.3779983450355203], [14.522597549428347, 0.21734499733837695, -1.086724986691911], [12.99767716230424, 0.21424742575226796, -1.5354398845579165], [14.28418354153796, 0.23174929049693097, -2.296424787651391], [12.40912354062598, 0.18218941576775294, -2.4696787470740102], [10.272160952825407, 0.16729903831963594, -2.4258360556346656], [15.894736892033437, 0.24867906480365246, -4.414053400264824], [18.369029019988197, 1.6102032358928522, 3.368714664565312], [15.258497141316308, 1.2459828067657788, 2.2044311196625292], [17.775234484658736, 1.3446985898559811, 1.8909823919849782], [13.680901022975005, 0.9671588126781772, 0.9671588126781772], [17.655502788904993, 1.171737530422269, 0.615658702425261], [16.073262921668846, 0.9771586639724222, -0.01994201355045543], [14.676937976199207, 0.8814362192410167, -0.5329614348899202], [13.496723435598197, 0.7887695514310646, -1.0078722046063555], [12.557917888789996, 0.7506348334171713, -1.4201199551135761], [10.584663726653762, 0.6287919045536892, -1.5545133195910628], [14.988531177740828, 0.9017164478587385, -2.8253782032907186], [13.224839561213116, 0.7996414618407961, -3.03453682954967], [11.475498578974124, 0.6859344869499864, -3.0588970363985952], [18.010891643956576, 0.040247802556331994, 3.280195908340695], [18.35608219575107, 0.04052115274999795, 2.613614352375156], [16.107189107296964, 0.04021770064244385, 1.7092522773036718], [14.929011657101094, 0.03650125099535315, 1.0767869043630396], [17.33183471074381, 0.019606147862838902, 0.6470028794734661], [17.2186276710063, 0.041540718144763344, 0.062311077217145024], [14.606179235025017, 0.020091030584626437, -0.4420026728618262], [13.266968334966064, 0.020442170007658682, -0.8790133103290328], [11.570159711086136, 0.018631497119299296, -1.2296788098738858], [13.348448327723267, 0.01877418892787876, -1.9525156484996078], [13.050580010992457, 0.0190519416218847, -2.419596585979619], [13.469748815812558, 0.020439679538417382, -3.0455122512231734], [16.286595749701238, 4.518078081158855, 3.377801232104478], [14.707828571704557, 3.788380086651184, 2.3905286108280137], [14.976769776407087, 3.5976585967617565, 1.819040863531223], [15.079748465217262, 3.3533133379526223, 1.219386668346409], [12.889460190355763, 2.6331325817441047, 0.5708189512871868], [15.214415602811128, 2.8943569106724563, 0.07616728712295937], [14.076528039574455, 2.583910626442434, -0.5013557931903195], [11.525107562422852, 2.115720228850568, -0.8908295700423461], [11.809221862772787, 2.182506619337663, -1.3873297890363487], [13.41210878256972, 2.4634485519005667, -2.153236512031601], [13.292724781166724, 2.452601332863156, -2.7334335465497754], [14.172042815567504, 2.6068283135204435, -3.4964601982932972], [10.648737630813056, 1.9579292454403006, -3.036788217417609], [18.25805736693197, -0.6391385309310943, 3.3235203608417545], [15.941953072202107, -0.516821421293348, 2.266063154901549], [15.963739794687598, -0.4871563787111205, 1.6863105416923503], [16.78506356218491, -0.4756098293889473, 1.1295733447987477], [13.772896811995679, -0.3590091586065117, 0.4242835510804322], [17.787102127362765, -0.4290748320197206, -0.0780136058217666], [13.192522734482154, -0.3185694410315359, -0.5809207454104302], [12.416054519124291, -0.30370205298576425, -1.0718895987733206], [14.657579557571882, -0.3456017371410916, -1.9109743112507], [12.368282402629216, -0.27928379618840626, -2.1145773139979043], [11.090931299793573, -0.26832898305951625, -2.325517853182522], [13.410786925463595, -0.3215562450393312, -3.366883036294104], [16.4263094913292, 0.021113508343608457, 3.3148208099468937], [13.975540216490797, 0.01909226805532169, 2.1765185583059434], [14.811035874374854, 0.04030213843366857, 1.6926898142142677], [12.082802700924995, 0.017460697544687397, 0.9079562723238453], [16.700138437978566, 0.01861776860421866, 0.5585330581263697], [12.213299003831407, 0.0, -0.0868655690172913], [14.454431487042093, 0.019375913521502, -0.6975328867741495], [12.932976207341962, 0.01941888319420503, -1.203970758040841], [11.507425499494941, 0.017952301871284982, -1.5438979609306758], [10.957674270785644, 0.016137959161692635, -1.9042791810791002], [14.63754028212358, 0.01663356850241133, -3.2601794264729747], [14.382289098495388, 0.021212815779489382, -3.9031581034264797], [11.966139509736717, 0.0, -3.7254985952479784], [19.13540753850618, 3.8147094769651306, 3.381688401201523], [16.80008796010532, 3.1290629460063175, 2.328171834826127], [16.62854163664892, 2.891920284634588, 1.7054914499127107], [17.96640865459775, 2.885116718256572, 1.1615404969604357], [19.035664657401913, 2.870122387368805, 0.5698037092570445], [14.998039793540551, 2.101267785984474, -0.019277686109947182], [12.972420882964773, 1.822864053131478, -0.4424427313425971], [15.134106448029234, 2.09875013083357, -1.1360207130200006], [13.979303326810175, 1.9451324200913187, -1.7313816046966723], [10.197310691233998, 1.4321096233035941, -1.639161617034234], [14.619680108632249, 2.0254975184799133, -2.9680557696537373], [13.739550567285896, 1.9150751195892786, -3.3402473016092107], [18.680847089137607, 1.3720396167163207, 3.292895080119175], [16.259392306923008, 1.1185822717293479, 2.2371645434586958], [18.357381231171498, 1.170364328787789, 1.8855869741581048], [15.583433011079366, 0.9202027195245803, 1.060233568147889], [12.95782030214684, 0.7295287569573329, 0.46898277232971347], [18.06364122450674, 0.9476642612428573, 0.05802026089242212], [13.592786080535435, 0.682197544819847, -0.49459321999438716], [12.464385633546028, 0.6499832999088386, -0.9749749498632664], [12.613121203871001, 0.6401721324324088, -1.5225715582176254], [14.054017180313298, 0.708292643039667, -2.329910009998889], [13.811658431934648, 0.7072826508529839, -2.8880708243163444], [11.667810440343159, 0.597498116432936, -2.9376990724619336], [18.40863561452718, 1.970902488531054, 3.637026241722261], [16.259146094321217, 1.6053334118443683, 2.449162512942049], [15.643797629790045, 1.429809460787264, 1.7241819968316958], [14.944299731028519, 1.2767538985892708, 1.088380372567905], [12.754970684039082, 1.0139934853420185, 0.48031270358306427], [13.065434300385315, 0.94870032499613, 0.01664386535080748], [15.694682414412457, 1.1414314483209067, -0.6658350115205226], [13.373203660962993, 0.9596994826900174, -1.1683298050139286], [9.632975474310106, 0.698765060312647, -1.214520223876748], [14.642969749383242, 1.0500173875046686, -2.4627680543291244], [11.287305382618104, 0.8111672063960974, -2.381724988992817], [13.646761155978682, 0.9907922483107878, -3.4771199657699086], [11.041793155321548, 0.8066244999829041, -3.2802729665971455], [18.186952661888174, 2.7833281851526936, 3.393372718884792], [13.56306758893576, 1.9173745606606747, 1.933090745584121], [19.198609017614984, 2.504166393601955, 1.8829778308479812], [13.223956273319295, 1.5880296834772056, 0.7362683077939802], [16.03688700361429, 1.7547961462921442, 0.21122546205368223], [13.922631297331739, 1.4546032698704772, -0.4304438247575895], [13.96239680426098, 1.446706174899336, -1.1270850432355282], [13.695938942420275, 1.4368913365885765, -1.7824727972870982], [12.199645305326712, 1.2694225520407514, -2.1431809320168527], [12.3147761684686, 1.2805963821911783, -2.683989677743157], [15.799779572336288, 1.6428525614367726, -4.157836729562183]] )\n",
    "esti_ball_val_list = np.array( [[19.867511320963683, 3.5892422152644228, 3.948166436790863], [17.89434004445348, 3.086669378297344, 2.1272991661238496], [14.914428554615933, 2.327073958876244, 1.6042706837707381], [19.436985690893323, 2.9402368654815496, 1.7282308293288517], [16.410703323979607, 2.3204943553652733, 0.8362141821136112], [15.909342572128299, 2.1295970372140225, 0.20878402325628181], [14.971966561080277, 1.848641732779242, -0.18283269884630607], [15.205094081284846, 1.9990761142725133, -0.787514832895225], [11.477241208286125, 1.2732564465442449, -0.9863254163370916], [13.677429617355786, 1.777863820276668, -1.9596908018958803], [13.128440157419552, 1.6789838722123658, -2.5892763330503876], [13.728343270640684, 4.550726826190182, 3.389244247120722], [20.09165051225177, 6.299003944381635, 3.5839160373205816], [15.980520861100239, 4.444520635040236, 2.0741096296854464], [13.904738914320355, 3.6120759348675895, 1.3150761898789771], [17.38802719833609, 4.203915769858778, 0.6907842814321975], [14.080484520273538, 3.148311353641413, 0.15451834864497724], [15.340723522671484, 3.282700278277946, -0.47202226223605037], [12.239424313717974, 2.693075300555353, -0.5828297292246637], [13.313255177360379, 2.783884725114143, -1.414393045824126], [11.83356189438456, 2.468725843483675, -1.7138262053936182], [13.2621385325061, 2.8792800761361947, -2.4866509748449004], [12.76448570495877, 2.6500662363236183, -2.738401777534401], [12.714712447067281, 2.5342038554292197, -2.9274423847199653], [12.195035021794679, 2.462648429280024, -3.2900983015181087], [16.006359597188336, 1.8927828829580087, 3.5181073150632485], [15.667629734009049, 2.299638383455376, 2.3211303309643028], [16.52192204043892, 1.6589175454443381, 2.7573899741845187], [12.30682821964652, 1.171220840815554, 0.9189578904860457], [15.959803825246633, 1.7099789812764237, 1.2033185423797048], [12.125865772281031, 0.9708019424937975, 0.0], [18.791234373277998, 1.748489187674, -0.08039030747925534], [13.21455487244429, 1.0494541146673733, -0.8781146673747501], [12.903988156106049, 1.223455048790017, -1.5235477966064344], [12.224317813004577, 0.8731655580717541, -1.5120671859291417], [12.516293706364934, 1.1747374639079744, -2.0077331201336204], [11.52815459172445, 0.8444815118299034, -2.3566925911532124], [12.92573530001904, 1.1652582741252515, -2.9778822560978724], [12.630100028445035, 1.0696501652754764, -3.394082255201029], [16.83917763420742, 3.249307334756049, 3.576281657750368], [15.924085616863579, 2.864332381398099, 2.303484082942526], [16.862252758369443, 2.748085521246652, 2.6161774162268174], [14.285693510721801, 2.174351643879424, 1.3411888644489847], [15.96007618025238, 2.311597935426976, 0.6633281032094797], [16.102777982179703, 2.01284724777247, 0.5367592660726573], [14.368857417685566, 1.8770129059138763, -0.2373234708626773], [13.629088512585817, 1.7702884922451094, -0.3625892092550196], [12.205887936577001, 1.439564856307248, -1.034053629178444], [13.408726471541195, 1.7666903121287463, -1.676090808942657], [11.836930801832882, 1.3576408088123741, -1.6758378733777672], [12.506985160839623, 1.6322008936315806, -2.4974640179664065], [12.741763322936412, 1.562669086775227, -2.884927544815796], [12.456584616615338, 1.5728010879564762, -3.061719451221949], [19.117785783323082, 3.5010884808013385, 3.9847914945962577], [14.312466870905375, 2.312926276099354, 2.3524634774002022], [18.377134905738295, 2.8627697591853507, 2.3779458483555747], [15.069209559411766, 2.2776673018274227, 1.077824705329046], [15.203134838239489, 1.7814592087417784, 0.9109734590156889], [11.304771491474268, 1.352564979039019, 0.21707832996922372], [19.010279415012626, 2.295732895457031, -0.18124207069397424], [13.085609239671694, 1.6233282264040574, -0.9304442273291545], [13.09994861942362, 1.4766447719157034, -1.3289802947241398], [12.289451619504943, 1.3399061390942364, -1.5702025067510514], [10.00407881689323, 1.1811613629963362, -1.7538456602066907], [16.17194598222574, 1.8967097139647504, -3.334216023495919], [13.509956352855454, 1.6018044973744392, -3.3511436195070528], [18.085070125633866, 4.147167381055527, 3.2065727173109737], [16.128583216844135, 3.30686674760451, 2.718528491895733], [17.590449335020516, 3.55275085091548, 2.12298526457145], [15.647611417757444, 2.831866267150292, 1.1988922882826016], [16.123758162895715, 2.7345569748629615, 0.9722869243957221], [14.583451221376682, 2.2340606126364295, 0.14480022489310423], [14.183636714975835, 2.3711246787953515, -0.25866814677767525], [12.86997499152677, 1.8006592403461636, -0.36013184806923443], [15.53743452811944, 2.253221905086673, -1.4303060788811075], [12.831854095449826, 1.8360691551367203, -1.5472492880365585], [12.046114573327696, 1.7525283743804458, -2.235984477657812], [12.917927991259683, 2.073503690410866, -2.737024871342343], [13.134365931137621, 1.8312337115528405, -3.0099588592190334], [15.139748319060065, 3.483131639417749, 3.542503201453281], [15.805560053667358, 3.067660113243916, 2.5394537361290728], [14.927461658904193, 2.877080599062543, 1.9597505529846229], [13.554133749782434, 2.485910993409879, 1.3613322106768386], [12.366847115204745, 1.8867848317759504, 0.392301796705889], [18.17046795916176, 2.858715864264672, 0.11748147387389515], [14.14369169198843, 2.153748970365586, -0.5106827455506059], [12.300918414304753, 1.8771599016443499, -0.750863960657736], [11.13874668749556, 1.5089924211223948, -0.9530478449194072], [11.79548970702087, 1.7605208517941562, -1.6431527950078832], [14.036252779756891, 2.010353623939378, -2.354468208217283], [14.592600319971943, 2.2291058756492577, -3.2402466852221177], [12.354801752949482, 1.7495436048757118, -3.2398955645846605], [13.113624269315102, 1.7960904527279802, -3.527261973429636], [17.617499130205005, 3.786723273071591, 4.0407108096800535], [15.88151521536043, 3.1471244061934724, 2.6886029695295264], [15.143412402143209, 2.8644006769005212, 2.021929889576829], [13.88249900704629, 2.4679998234748988, 1.5219332244761923], [13.897485082625762, 2.1696495698614005, 0.5472989905956702], [12.313315203955485, 1.8516263464594753, 0.3888415327564878], [17.74033860458406, 2.534334086369148, -0.302607055088854], [13.531614112901146, 2.093407605983112, -0.9495869552913097], [11.841649376385334, 1.4776408233964382, -1.0261394606919665], [13.226592316831683, 1.8479854257425736, -1.8895131881188159], [12.212208311161536, 1.6844425256774544, -2.0002754992419702], [11.572302272480156, 1.672188177304195, -2.45127585082092], [15.872619675093327, 3.9860294904795164, -2.859931472989792], [11.527980442361384, -0.6067358127558583, -4.46962048730152], [15.387288962312473, 1.2967903905345137, 3.0000374706395436], [15.268871113007, 1.8094933809022906, 2.8057313097136634], [12.11429755193912, 1.119528187558508, 1.7043563452383301], [19.88977784501915, 1.6855743936456897, 1.586422958725357], [14.382238963924992, 0.9931957850253654, 0.09549959471398381], [14.891388799207718, 0.9969130576875473, 0.26999728645704174], [13.438342979403945, 1.0197730760087296, -0.4985557260487185], [12.449762841475069, 0.865153011017767, -0.928456889872718], [12.506976783812568, 0.954266085777901, -1.3806402943169638], [13.323320948304323, 0.7717085387433564, -1.6796009372649463], [12.138347595369588, 0.9067695996540956, -2.2463155991430983], [12.41705118642883, 0.7956963660780663, -2.512725366562329], [12.746459860599431, 0.9089515323478897, -3.29759160572721], [16.273339657397106, 4.852142558398224, 3.4898102246941014], [20.896632520559812, 5.919136632520555, 3.0068457654018226], [16.156269754251614, 4.166915997579549, 1.9508743079576916], [17.9207425033916, 4.403880761174091, 1.373487564128557], [14.496716187885985, 3.366723704836911, 0.5743234555310011], [14.10644650305293, 3.081598218441685, 0.019140361605225743], [18.042965205946526, 3.7234455917815734, -0.18524604934236283], [13.783416485471438, 2.8395910654279506, -0.6839890887527162], [13.095074930619793, 2.7116064250273317, -1.5431906483895446], [12.981669703340344, 2.7388428362107406, -1.8481622390690309], [11.981225284661088, 2.5004296246249207, -2.14620209446973], [12.0080934759077, 2.4398069783204686, -2.5458855425952645], [13.787635259620055, 2.6567536380663257, -3.114814610146727], [16.98412087784035, 0.3461991066226432, 3.258344532919016], [16.048182050071812, -0.021060606364921308, 3.011666710184074], [16.51151539010012, -0.12636363818954655, 1.8743939664782021], [14.883346218404904, 0.0, 1.1939613840490855], [12.23615706258767, 0.034811257646057, 0.7832532970361935], [19.139448386632555, 0.01947044596808795, 0.2531157975851693], [14.748189125055262, 0.02131241203042433, -0.3196861804564028], [13.016109185296825, 0.08779837561751662, -0.7682357866532631], [12.313837430004158, 0.0, -1.1624951419934053], [12.696995451670235, 0.21056377200116955, -1.8319048164101275], [11.111628725034883, 0.01919106860972999, -1.8615336551440136], [12.14016152718015, -0.060903820370471276, -2.39555026790511], [13.726212627745609, 0.1032046062236551, -3.405752005380496], [17.069841860465125, 5.311076704769415, 3.5958262514781225], [13.652577107239326, 3.855043350872751, 2.0537785537400692], [15.344165114306097, 4.367909578550944, 1.8827196459271311], [20.204504325255524, 5.075340492058434, 1.6272084020340032], [14.729127166686524, 3.404722862651158, 0.4255903578313968], [15.125014424337783, 3.319646023004001, -0.05892862762729233], [14.428818987715392, 3.0309057636916967, -0.44823254251778377], [12.329388939922838, 2.5956608294574415, -0.8517012096657275], [11.908973293997416, 2.466714332542756, -1.2940140760880057], [13.279140420414524, 2.813667996056827, -2.2818161187533925], [12.365935269959687, 2.6470212878188444, -2.271697373874387], [12.996046217228832, 2.6156860056863103, -3.2747564953080537], [12.464862420604861, 2.3829884039391644, -3.075480760639439], [16.949571694300875, 3.932468867040021, 3.8483518859268657], [16.263775853119853, 3.713775588507697, 2.6465986952583553], [14.93283485010839, 2.941002148010249, 2.0297057077817198], [15.061328520398575, 2.6810741868772263, 1.6756713667982697], [12.830457941735443, 2.2203061970095432, 1.0373561740126516], [17.735105973453383, 2.874913126036248, 0.2913763303415146], [15.595138583133123, 2.40744625668585, -0.36218218020937365], [10.880869307408545, 1.7170807046575, -0.48801241079739616], [11.122584316571265, 1.7285097248725614, -0.8454667132528811], [16.223564253361122, 2.352115263498454, -2.211390418673758], [13.47674569068772, 2.2060799266765954, -2.2060799266765954], [12.472020871423, 1.8309529776700417, -2.714118531605002], [13.396295876979325, 1.960433542972581, -3.071345883990382], [12.537114415924721, 1.8352026036468794, -3.3198608897432296], [19.192775735819822, 0.8272748161991319, 3.3711448760114555], [17.842161002139186, 0.7596777411727832, 2.628074347840988], [18.31718355212965, 0.7503424587619331, 1.9862006261345369], [14.86188556954412, 0.6898753248462148, 0.9461147312176631], [18.11604534906306, 0.47166035228330394, 0.9861989184105394], [16.184470472943318, 0.5994248323312343, 0.4495686242484234], [16.752755702700235, 0.6157540118863188, -0.4034250422703507], [13.60438457453679, 0.2809164956393986, -0.6019639192272878], [12.792725362001546, 0.6121931278845604, -0.9499548536139836], [12.132284297520656, 0.2854655128828439, -1.468108351968879], [13.83827612783344, 0.46496607789520156, -2.2584066640624245], [12.10626733830345, 0.4859409228289369, -2.3240652830948996], [13.237618864547423, 0.37758308841829685, -3.442669335578604], [20.124997464630827, 1.6177650695040897, 4.033627573296851], [15.414762529186529, 1.2339644718408551, 2.095780928364625], [17.66009630208694, 1.2658823436278523, 2.0959691263346425], [13.71308599767341, 0.9758375803587818, 1.3011167738117115], [21.690524279514094, 1.464014072151929, 0.8861137805130055], [15.873395122618206, 1.0445718080690627, 0.3277088025314728], [14.688837143530515, 1.09664294131511, -0.787729436719298], [14.302022845656431, 0.6737157464306558, -0.6352177037774798], [14.025254067640658, 3.539258744585825, -1.2236798850961637], [13.049682972732167, -2.2582146645003593, -2.238230463929562], [12.432992044350403, 0.8895485156523614, -2.4617737991309405], [12.05096956408791, 0.6973436275783245, -2.941918428846059], [17.304586059410596, 2.989904810265022, 3.3380444114602623], [16.68504328515289, 2.8145886124226407, 2.591851384101423], [17.243349396751853, 2.6897123000979315, 2.0016463628635788], [15.779263349979805, 2.4226314654180956, 1.4578667225524837], [15.87939110254493, 2.3097296149156206, 0.43307430279667825], [15.393010834933268, 2.137318474976713, 0.32383613257223126], [14.50434944489513, 1.7498544906709903, -0.05832848302236865], [12.99203865110752, 1.511652295883585, -0.4698378757476016], [13.263397391525192, 1.6292047189589973, -1.2323471592125714], [13.505947523317394, 1.7008736905923398, -1.7513946913030052], [12.78265593194592, 1.652586358802981, -2.210085371411215], [11.401476600740537, 1.458328402420301, -2.272719588187477], [13.691587385393207, 1.4992107559203596, -3.594493258170517], [16.41998535752053, 2.6869066948670044, 3.305321727812572], [12.746610734356983, 1.6469375915185267, 2.0415163894865183], [19.767398375603737, 2.5617676203677635, 2.2710705854324145], [16.579380183612116, 2.083160463484943, 1.3100287450781594], [14.953874600442598, 1.670708748463249, 0.4743987804278365], [15.065199911213345, 1.586924147950839, 0.25390786367213536], [12.823074638325773, 1.4335137038250845, -0.608752394775039], [13.273502257677567, 1.2680387364807593, -0.6340193682403796], [10.985928552942747, 1.0293459461871348, -0.9731998036678425], [14.661573913003688, 1.4776717163629367, -2.245293387200827], [13.24031129121017, 1.3848820051028123, -2.5389503426884787], [12.53115831615428, 1.336656887056458, -2.568887454811623], [13.18581175529788, 1.3626037584966002, -3.3541015593762524], [15.805887004946328, 3.9163252426487105, 3.574902016366517], [16.46940566874204, 3.616730525269651, 2.758523281985331], [16.172181169577023, 3.3957335789138154, 1.8676534684025985], [14.747094377372195, 2.612107372282098, 1.3369053480183977], [14.605367975212474, 2.503777367179281, 0.7551074599429547], [12.333068482933916, 2.085475137055883, 0.26967350910205584], [16.501461542546604, 2.672902657060419, -0.2784273601104624], [13.185277629273667, 2.1205621664914647, -0.9867962556940421], [12.737582646420819, 1.926693173408189, -1.1774236059716763], [9.748316244541863, 1.4731597309848705, -1.4185982594669102], [16.525050091393833, 2.5820390767802834, -2.7806574673018485], [13.398309932842011, 2.173269170209024, -2.9539580954297384], [13.039330704983657, 1.8958639151026329, -3.265098964898972], [17.752562678949342, 0.16065667582759594, 2.7914097425044724], [14.643594212133275, 0.11135813089074335, 2.319961060223904], [19.315948878654936, 0.6476748144716692, 1.1048570364516679], [17.08928466210474, -0.23901097429517124, 1.4938185893448137], [16.092473140365747, 0.04063755843526257, 0.8533887271406132], [15.441638162363299, 0.28901461801215206, -0.24772681543898356], [14.213713156356219, -0.021700325429558735, -0.7812117154638543], [11.244734989850674, 0.24988299977446363, -0.7674977850215566], [15.10020898025062, -0.01880474343742087, -1.748841139680333], [12.742710204408501, 0.2519151934973675, -2.0783003463532843], [12.620562995112296, 0.14748571112818357, -2.5704652510913166], [12.15312722367157, 0.2421818830804144, -2.9502156666159225], [15.971838522597182, 2.4999399426673925, 3.3530940500856214], [16.12041204298264, 2.2329610849331933, 2.585533887817378], [15.831001591958003, 2.397435785515544, 2.0011654077443795], [14.405357188498403, 1.8053225417110397, 1.2655869364572252], [14.982163014278264, 1.6715636420888964, 0.5984610570441805], [13.123242531331345, 1.4641634229171328, 0.2892174662552285], [16.905207443189845, 1.8305001690078149, -0.358921601766231], [13.318538591076319, 1.4292055408775608, -0.9528036939183738], [12.7218641960454, 1.57709060281554, -1.3878397304776768], [11.948535668760226, 1.2121702852365457, -1.6450882442495975], [9.966064539110437, 1.0016998429429602, -1.7317522708505346], [14.500936943893583, 1.545785156455654, -3.330798968077079], [11.791838380925775, 1.2283164980131092, -2.9290624183389355], [16.98763244605707, 2.8561389557988006, 3.3250572918254746], [14.898480421581288, 2.153525422304785, 2.7408505374788144], [16.174015322456942, 2.0592910755382823, 1.952036332020666], [13.87728016915873, 1.7816764839148225, 1.3263591602477], [12.607321531092131, 1.3906479482772092, 0.6953239741386046], [17.370869165453556, 1.8187448485197157, 0.05567586270978915], [14.014623986790019, 1.5277569753041398, -0.30555139506083157], [12.355704326005135, 1.435258583323827, -0.7072288671450707], [13.099634204667268, 1.2537603694236061, -1.0375947884884977], [12.439108368407648, 1.3402406322863474, -1.9684784286705774], [13.37060794028186, 3.8440497828310303, -1.7641774365649623], [13.977982303383529, -1.4591237200203677, -3.531502336860898], [13.079697894919514, 1.2572390893936114, -3.0438420059003235], [12.010558746481552, 1.1662723143942892, -3.232825011829786], [16.783074818845837, 0.9561266866494031, 3.987251714537927], [13.01249841146073, 0.4349097062653965, 1.983188260570213], [17.308788114998382, 0.8741812179292165, 1.4511408217624873], [16.39601377173687, -0.10183859485551533, 1.7108883935725434], [14.780184134641631, 0.37470889355429987, 0.6245148225904967], [11.489117009069027, 0.24151297016060674, -0.05175277932013275], [15.391975270151521, 0.42601134923403955, -0.42601134923403955], [12.872273373120116, 0.3462478597200013, -0.8961709310400093], [11.554720552108042, 0.17868124565115315, -1.608131210860396], [11.084987498488895, 1.538610252156189, -1.7659049484974423], [15.650535901529393, -1.1490266864413952, -3.169728790183162], [11.760870424727807, 0.47200817758104946, -2.6747130062926137], [10.738388700421096, 0.17166163109021096, -2.822880155705726], [18.649696767432133, 2.5819374243241318, 3.840898647754901], [15.935436294473872, 2.1376804785269794, 2.4680492797538838], [16.385653913710623, 1.9264786901132571, 1.968818881104762], [13.601064097435584, 1.4457824040581213, 1.1601957563429302], [20.39900770350385, 2.140406830203411, 0.9306116653058294], [15.909286912272988, 1.510499497219506, 0.019616876587264163], [15.766235189331988, 1.646273553906158, -0.08442428481570016], [12.541507843967178, 1.1644322351324157, -0.9353635987129236], [10.974194080441698, 0.971005486249431, -0.9893263444805503], [16.80201602365114, 1.5913348509485086, -2.3560022468588295], [11.756088093049286, 1.0058684999400465, -2.242248531116356], [13.166184001801966, 1.4271741437067726, -2.894550375968679], [12.566074697941675, 1.0729653272462523, -2.888752804124516], [18.398422267027282, 3.3620435308581316, 3.692060073764442], [13.649025876852921, 2.082597845059716, 2.002497927942036], [18.123178265388447, 2.5607182073887818, 2.0729623583623473], [18.18653688842869, 2.317687249845671, 1.106643461638024], [13.112369634442532, 1.6368695161189855, 0.20896206588753055], [20.27802694319621, 2.4356829312132797, -0.03866163382877786], [15.022420545881662, 1.7452517987127163, -0.5081112831695296], [12.304580784653632, 1.1585481907628472, -0.7790237834439827], [12.816393250963198, 1.4240436945514656, -1.651065153103142], [12.901361346594927, 1.4508451341326467, -1.9419004103006252], [10.618723689800925, 1.2125186220187876, -2.0392358643043336], [14.228453980801808, 1.609721061547152, -3.4784776962168213], [16.191028615372158, 4.456246407900594, 3.9257408831505254], [15.899898969261818, 3.9191321852714354, 2.903812966289193], [13.23413404188371, 3.0794106911862418, 1.5580351711359024], [13.383948597442023, 2.9277387556904406, 1.2547451810101877], [18.895533325316126, 3.4531878150988415, 1.0475963034569489], [13.410769092027055, 2.5216830771332948, 0.267451235453527], [14.077673171998502, 2.4250590281690805, -0.4110269539269545], [9.923965799709613, 1.8043574181290234, -0.7142248113427426], [16.03994284808333, 2.579287292154096, -1.3299450100169559], [11.817581952898331, 2.129118070852757, -1.91425294443643], [12.81940490583525, 2.031013043002863, -2.4022734917238084], [10.635723704229635, 1.817741869450158, -2.281846176543811], [14.284953710814772, 2.3060911820149412, -3.7519737485163738], [15.394890395021145, 3.6405526971873936, 3.44690627712423], [13.694365496469478, 2.7319128118751093, 2.3838984409356048], [15.87570545824346, 7.3257773379605355, 1.4919337659554064], [16.447363373086553, -1.6598256615041478, 1.735272282481609], [14.195483594931254, 2.257926159636364, 0.5693900750387348], [12.545891633804155, 1.7611454247163656, 0.018156138399135713], [15.353781782566116, 2.22518576558929, -0.7360229840026068], [12.643470774947748, 1.846799101958654, -0.9538412944182116], [11.045403152053673, 1.4652065405785537, -1.1646513527675608], [14.787813309378254, 2.150651541048247, -2.334040432145386], [12.292850810584873, 1.7113985848352427, -2.5253564483544477], [12.64968676465556, 1.8246711864738165, -3.1367942868594842], [13.626610174382447, 1.8363578795492441, -3.5892449463917], [19.16360822695169, 5.5260662240437375, 3.8682463568306136], [17.035787694459863, 4.3499932949036415, 2.569530923036111], [15.538243502001666, 3.7978088956505363, 1.8892653389530556], [19.693483864690982, 4.4354693388943645, 1.5435433299352421], [15.75867667231502, 3.3844137819736977, 0.7191879286694061], [14.601278736107284, 2.8509093046753033, -0.13484030495086108], [13.216098184714333, 2.70163333057696, -0.23730563038851546], [17.30002595879137, 3.1941561689970346, -0.8927765689743236], [11.961865903682511, 2.3302336176004865, -1.3204657166402782], [10.112498125766024, 1.951205575286952, -1.5947353259556798], [16.463691816802204, 3.182572395813065, -3.0397646601035064], [11.680621368713663, 2.135396959545461, -2.62653826024091], [17.82674220873881, 3.0158799101690312, 4.069372207556835], [16.181712263422057, 2.29972654906515, 2.132473709133139], [16.940812152938175, 2.3678390556838567, 2.432416484475237], [12.855507588226807, 1.5571947280490044, 1.003525491409357], [17.956897377132666, 2.036005092946275, 0.8177397504456316], [14.596546279193651, 1.5035069128783178, -0.0835281618265732], [13.766667377187575, 1.5032567825664507, -0.27691572310434337], [13.144867293203875, 1.5474131262135955, -0.9936021126213583], [12.905234619436078, 1.1713349893437188, -1.2946334092746414], [10.151341049874343, 0.9650269370995725, -1.4475404056493546], [15.658856999940884, 1.5830513166809943, -2.8800090219136143], [13.116789085925666, 1.3829892940679367, -2.9604614576141857], [11.589676706272451, 1.1196806309449732, -3.201893734105784], [17.43067739496598, 0.6930269325709347, 3.9061518017634587], [15.201193061895207, 0.3063212707686693, 2.3931349278802263], [16.660035080181206, 0.4004816125043567, 2.0024080625217837], [15.771683981477409, 0.12305605187108065, 1.5382006483885673], [13.934114089804373, 0.27131793777088237, 0.8527135187084739], [13.958187444367406, 4.108660013866211, -0.07504401851810442], [14.518572797955065, -3.1442589609772456, 0.0859087147807973], [12.704803026234586, 0.2766209057033928, -0.7508281726235023], [14.604532855446253, 0.21424742575226796, -1.624709645288034], [13.104368971735404, 0.2106811731790307, -1.98040302788284], [11.822068756485438, 0.1417028789304695, -2.2267595260503454], [13.333733354074676, 2.7771640361058987, -2.208347305819138], [12.848418348188696, -2.839085989841697, -4.227544101662092], [17.373245439896554, 1.6525770052584583, 3.4110884339309084], [15.661045432732926, 1.3418276380554521, 2.43445871475775], [16.17840490920477, 1.2816658434564796, 1.9119933074514754], [13.329206909273855, 0.8440658728827779, 0.8088964615126583], [20.91253592431605, 1.4696369025635168, 1.2710373211360182], [14.697263986687254, 0.917332623321056, 0.2193621490550363], [15.517377161987158, 1.0864213865063643, -0.4714658847103123], [14.088300599171498, 0.7230387554784735, -0.8983208780187101], [11.786995627442634, 0.6897725496265965, -1.0549462523700819], [10.060670472859018, 0.6113254627605252, -1.2401173673142143], [15.810095052456571, 1.0419834508589894, -2.8253782032907186], [12.896781525586125, 0.902159597974229, -2.8910114389628676], [11.178878260293047, 0.6303181771972826, -2.7808154876350923], [17.66878532222777, 0.18111511150347162, 3.1393285993935467], [16.775757238500987, 0.06078172912500593, 2.7351778106251587], [16.006644855690887, -0.180979652890975, 1.950558481158308], [13.815723501742685, 0.29201000796285764, 1.1132881553583929], [20.606061403836808, 0.07842459145132949, 1.2351873153584416], [16.097028281097558, -0.12462215443430849, 0.2907850270133711], [14.405268929178753, -0.08036412233851467, -0.26118339760017045], [13.205641824943097, 0.30663255011478036, -1.0629928403978974], [11.421107734131725, 0.018631497119299296, -0.8943118617264655], [15.244641409439229, -0.13141932249515967, -1.82109632600444], [11.431164973132079, 0.09525970810943195, -2.1719213448950923], [12.304687082123158, 0.04087935907681661, -2.514080583224494], [15.920846571702638, 4.195358218218933, 3.571433149868427], [14.38368909904991, 4.092260842264908, 2.4715634789916754], [14.936346646106415, 3.5168123361603687, 1.9807333847339987], [13.941654241427262, 3.1500822265615587, 1.300679112902836], [13.220903452393495, 2.9461623292241716, 1.0679838443437693], [17.289974176911752, 3.3513606334102124, 0.17137639602665647], [13.208796859052761, 2.4103643903380934, -0.3278095570859788], [11.153928574905198, 2.0971612794746877, -0.872270620666466], [13.771785954580285, 2.588554362470252, -1.3365738211447733], [11.131137901180317, 1.916015540367104, -1.3138392276803013], [15.651715376134346, 2.88321072718264, -3.0142657602363987], [13.054830681201594, 2.420626291126128, -3.330947289498339], [11.58774451383034, 2.07780246454889, -2.876957258606156], [18.620235867792953, -0.46870158934948425, 3.557871155516506], [15.663664614582563, -0.7354766379943588, 2.1269189260917942], [15.364162713197, -0.33726210833846676, 2.304624406979553], [16.329270809020525, -0.5746952105116425, 1.0106708874515153], [16.416509707189146, -0.14686738306631014, 0.2937347661326058], [15.290666741066252, -0.5460952407523575, 0.6241088465741328], [13.58604969105051, -0.24361192549469707, -0.2810906832631165], [14.43477993014737, -0.3751613595706761, -1.2862675185279848], [12.909241357916986, -0.16263611159580463, -1.484054518311715], [11.949356708346606, -0.3790280091128156, -1.7953958326397217], [10.142835559649933, -0.17888598870636005, -1.93196867802856], [15.32120932246194, -0.3593863915145417, -3.5938639151453917], [15.096158465681707, 0.021113508343617835, 2.9347776597619037], [13.82280207204829, 0.11455360833188774, 2.6729175277441377], [14.750582666724306, -0.16120855373469214, 2.0554090601173294], [13.060601763427615, 3.6318250892953814, 0.8206527846003929], [16.32778306589431, -3.7607892580509126, 0.9867417360232665], [12.682373076524808, 3.248772281246761, -0.1737311380345903], [16.062632309326922, -3.371408952741718, -0.11625548112902061], [11.98145093082582, 0.0, -1.2039707580408496], [10.143050557277139, 0.017952301871284982, -1.0771381122772186], [12.991057125158228, 0.08068979580843451, -2.1140726501810256], [14.571006008113926, 0.04990070550724137, -3.210278720965741], [12.854966362371988, -0.12727689467694572, -2.9061557617903655], [12.715288683781147, 0.10123637487086685, -3.563520395454588], [18.57866615538152, 3.71160922083094, 3.649749067150422], [16.930465582855607, 3.147688320684916, 2.439924082897777], [16.517313933393737, 7.415180217011786, 1.1493529336368227], [19.465170586159605, -1.348885738405672, 2.173204800764694], [16.608722932788584, 2.5113570889476975, 0.5064921860062597], [14.863095990770912, 2.216933902644174, 0.09638843054974447], [15.343913922961066, 4.91996317252961, -0.5132335683574039], [14.980069741179054, -0.8472018876759375, -0.596892239044404], [12.782298760600128, 1.774131767775598, -1.517630789302026], [9.645172041285633, 1.328583626438278, -1.3803466248709322], [15.602347221558146, 2.145824103736141, -2.8477291843975], [12.871086268867497, 1.9150751195892786, -3.0952958328245423], [18.638630485546322, 1.2453898059425015, 3.546194701666804], [16.359265724041716, 1.2384303722717824, 2.4568860611198113], [17.013629594415118, 1.1270175017956436, 1.8855869741581144], [15.443402162456067, 0.9602115334169581, 1.4003084862330595], [13.583130665253115, 4.429281738669499, 0.3300249138616508], [18.469783050753676, -2.978373392477563, 0.6769030437449018], [13.166412615023024, 0.6992524834403488, -0.35815371103042537], [15.465779106654516, 0.8985063263445705, -1.20438082041932], [10.311961917019365, 0.4671526371804097, -0.9170033248356134], [15.880666628152433, 0.7828497633596233, -2.44174569047884], [12.082745285405128, 0.6876359105515144, -2.3969023167795522], [13.31093026053373, 0.7302754756402552, -3.2530453005793185], [17.006653431963837, 1.82867241203912, 3.758937735858198], [15.971009328092718, 1.5641710166688763, 2.3462565250033096], [15.30737187431069, 1.6190489482443995, 1.850341655136459], [15.593141876213243, 1.2139627232488217, 1.4860578163907958], [12.737181324647127, 1.0851509229098795, 0.7115743756786029], [12.100090110038378, 0.8987687289437002, 0.2496579802621418], [17.121471724813574, 1.2555745931530016, -0.5897395816324621], [13.164573338639082, 1.084877676084353, -0.9179734182252296], [9.16713210076834, 0.6322160069495447, -0.9982358004466437], [15.368436308022826, 1.069108612732024, -2.3482207029649835], [14.10050228990672, 3.6933996206120403, -2.0710652078198377], [12.226002460287749, -1.9441961098928544, -3.551896739227326], [11.238968033095146, 0.8603994666484331, -3.0472481110465304], [17.843802611663854, 2.6308170517196694, 3.584011635676077], [13.673080883399921, 2.0273878551248137, 2.105968779742053], [17.082685475734266, 2.387693538085589, 1.8635656882619216], [15.15846516046425, 1.7901425522833925, 0.9095079096278575], [13.632166358695448, 1.6248112465668003, 0.584932048764048], [16.49045135536839, 1.7959897515747751, -0.4601296057753577], [11.825981871560808, 1.177551537708755, -0.6224200985031992], [16.042255175583907, 1.636964813835098, -1.8552267890131025], [11.688579083076537, 1.3188805735488345, -1.8464328029683683], [10.841213208139022, 1.1402570526359805, -2.1226323595223655], [18.03081391502819, 1.8253917349297353, -4.380940163831376]] )\n"
   ]
  },
  {
   "cell_type": "code",
   "execution_count": 79,
   "metadata": {
    "scrolled": false
   },
   "outputs": [
    {
     "name": "stdout",
     "output_type": "stream",
     "text": [
      "MAE\n",
      "1.3576391013673506\n",
      "0.4182966034426443\n",
      "1.0135777538063664\n",
      " \n",
      "0.9098172032567304\n",
      "0.30874817114952474\n",
      "0.24515085375940096\n",
      " \n",
      "MSE\n",
      "3.4838522328694164\n",
      "0.6934143541793717\n",
      " \n",
      "1.500945456568431\n",
      "0.6169526857736036\n",
      " \n",
      "RMSE\n",
      "1.8665080318255842\n",
      "0.8327150498095802\n",
      "1.0637049408523434\n",
      " \n",
      "1.2251307916171363\n",
      "0.7854633573716877\n",
      "0.2998927002591459\n",
      " \n",
      "R2 Score\n",
      "1.043582151338219\n",
      "1.120370291830645\n",
      " \n",
      "1.003085883019449\n",
      "1.0196932348943328\n"
     ]
    }
   ],
   "source": [
    "print('MAE')\n",
    "print((sum(abs((ball_val_list[:,0]  - esti_ball_val_list[:,0]))) / esti_ball_val_list.shape[0]))\n",
    "print((sum(abs((ball_val_list[:,1]  - esti_ball_val_list[:,1]))) / esti_ball_val_list.shape[0]))\n",
    "print((sum(abs((ball_val_list[:,2]  - esti_ball_val_list[:,2]))) / esti_ball_val_list.shape[0]))\n",
    "\n",
    "print(\" \")\n",
    "print((sum(abs((real_ball_val_list[:,0]  - esti_ball_val_list[:,0]))) / esti_ball_val_list.shape[0]))\n",
    "print((sum(abs((real_ball_val_list[:,1]  - esti_ball_val_list[:,1]))) / esti_ball_val_list.shape[0]))\n",
    "print((sum(abs((real_ball_val_list[:,2]  - esti_ball_val_list[:,2]))) / esti_ball_val_list.shape[0]))\n",
    "\n",
    "print(\" \")\n",
    "\n",
    "print('MSE')\n",
    "print((sum((ball_val_list[:,0]  - esti_ball_val_list[:,0]) ** 2) / esti_ball_val_list.shape[0]))\n",
    "print((sum((ball_val_list[:,1]  - esti_ball_val_list[:,1]) ** 2) / esti_ball_val_list.shape[0]))\n",
    "print(\" \")\n",
    "print((sum((real_ball_val_list[:,0]  - esti_ball_val_list[:,0]) ** 2) / esti_ball_val_list.shape[0]))\n",
    "print((sum((real_ball_val_list[:,1]  - esti_ball_val_list[:,1]) ** 2) / esti_ball_val_list.shape[0]))\n",
    "print(\" \")\n",
    "\n",
    "\n",
    "print('RMSE')\n",
    "print(np.sqrt(sum((ball_val_list[:,0]  - esti_ball_val_list[:,0]) ** 2) / esti_ball_val_list.shape[0]))\n",
    "print(np.sqrt(sum((ball_val_list[:,1]  - esti_ball_val_list[:,1]) ** 2) / esti_ball_val_list.shape[0]))\n",
    "print(np.sqrt(sum((ball_val_list[:,2]  - esti_ball_val_list[:,2]) ** 2) / esti_ball_val_list.shape[0]))\n",
    "\n",
    "print(\" \")\n",
    "print(np.sqrt(sum((real_ball_val_list[:,0]  - esti_ball_val_list[:,0]) ** 2) / esti_ball_val_list.shape[0]))\n",
    "print(np.sqrt(sum((real_ball_val_list[:,1] - esti_ball_val_list[:,1]) ** 2) / esti_ball_val_list.shape[0]))\n",
    "print(np.sqrt(sum((real_ball_val_list[:,2] - esti_ball_val_list[:,2]) ** 2) / esti_ball_val_list.shape[0]))\n",
    "\n",
    "\n",
    "print(\" \")\n",
    "\n",
    "print('R2 Score')\n",
    "print(sum(esti_ball_val_list[:,0])/ sum(ball_val_list[:,0]))\n",
    "print(sum(esti_ball_val_list[:,1])/ sum(ball_val_list[:,1]))\n",
    "print(\" \")\n",
    "print(sum(esti_ball_val_list[:,0])/ sum(real_ball_val_list[:,0]))\n",
    "print(sum(esti_ball_val_list[:,1])/ sum(real_ball_val_list[:,1]))\n"
   ]
  },
  {
   "cell_type": "code",
   "execution_count": 80,
   "metadata": {},
   "outputs": [],
   "source": [
    "with open('real_vel_list.bin', 'wb') as f:\n",
    "        pickle.dump(np.array(real_ball_val_list),f)\n",
    "\n",
    "with open('esti_vel_list.bin', 'wb') as f:\n",
    "        pickle.dump(np.array(esti_ball_val_list),f)"
   ]
  },
  {
   "cell_type": "code",
   "execution_count": 57,
   "metadata": {},
   "outputs": [
    {
     "name": "stdout",
     "output_type": "stream",
     "text": [
      "(100, 3) (100, 3)\n"
     ]
    }
   ],
   "source": [
    "with open('real_ball_list.bin', 'rb') as f:\n",
    "    real_landing_point = pickle.load(f)\n",
    "\n",
    "with open('esti_ball_list.bin', 'rb') as f:\n",
    "    esti_landing_point = pickle.load(f)\n",
    "\n",
    "print(real_landing_point.shape, esti_landing_point.shape)"
   ]
  },
  {
   "cell_type": "code",
   "execution_count": 58,
   "metadata": {},
   "outputs": [
    {
     "name": "stdout",
     "output_type": "stream",
     "text": [
      "MAE\n",
      "0.31875000000000014\n",
      "0.07080000000000003\n",
      "MSE\n",
      "0.17301450999999993\n",
      "0.007971440000000002\n",
      "RMSE\n",
      "0.4159501292222421\n",
      "0.08928292109916657\n",
      "R2 Score\n",
      "1.0100277390948573\n",
      "0.9694743810883474\n"
     ]
    }
   ],
   "source": [
    "print('MAE')\n",
    "print((sum(abs((real_landing_point[:,0]  - esti_landing_point[:,0]))) / esti_landing_point.shape[0]))\n",
    "print((sum(abs((real_landing_point[:,1]  - esti_landing_point[:,1]))) / esti_landing_point.shape[0]))\n",
    "\n",
    "print('MSE')\n",
    "print((sum((real_landing_point[:,0]  - esti_landing_point[:,0]) ** 2) / esti_landing_point.shape[0]))\n",
    "print((sum((real_landing_point[:,1]  - esti_landing_point[:,1]) ** 2) / esti_landing_point.shape[0]))\n",
    "\n",
    "\n",
    "print('RMSE')\n",
    "print(np.sqrt(sum((real_landing_point[:,0]  - esti_landing_point[:,0]) ** 2) / esti_landing_point.shape[0]))\n",
    "print(np.sqrt(sum((real_landing_point[:,1] - esti_landing_point[:,1]) ** 2) / esti_landing_point.shape[0]))\n",
    "\n",
    "print('R2 Score')\n",
    "print(sum(esti_landing_point[:,0])/ sum(real_landing_point[:,0]))\n",
    "print(sum(esti_landing_point[:,1])/ sum(real_landing_point[:,1]))\n"
   ]
  },
  {
   "cell_type": "code",
   "execution_count": 59,
   "metadata": {
    "scrolled": true
   },
   "outputs": [
    {
     "data": {
      "text/plain": [
       "array([[ 5.171e+00, -2.704e+00,  5.000e-03],\n",
       "       [ 4.859e+00, -6.610e-01,  1.300e-02],\n",
       "       [ 4.129e+00,  1.380e-01,  1.000e-03],\n",
       "       [ 5.244e+00, -3.286e+00,  2.100e-02],\n",
       "       [ 5.575e+00, -1.667e+00,  5.000e-03],\n",
       "       [ 5.384e+00,  3.350e-01,  4.000e-03],\n",
       "       [ 5.516e+00, -6.730e-01,  1.500e-02],\n",
       "       [ 6.388e+00, -3.758e+00,  3.100e-02],\n",
       "       [ 4.650e+00, -1.757e+00,  1.700e-02],\n",
       "       [ 5.440e+00, -3.368e+00,  7.000e-03],\n",
       "       [ 5.206e+00, -6.640e-01,  3.600e-02],\n",
       "       [ 5.038e+00, -3.021e+00,  6.000e-03],\n",
       "       [ 5.964e+00, -3.876e+00,  7.000e-03],\n",
       "       [ 5.584e+00, -3.931e+00,  1.000e-02],\n",
       "       [ 5.289e+00, -3.076e+00,  5.000e-03],\n",
       "       [ 5.909e+00, -2.296e+00,  2.600e-02],\n",
       "       [ 5.303e+00, -4.014e+00,  6.000e-03],\n",
       "       [ 5.389e+00, -4.337e+00,  1.000e-03],\n",
       "       [ 5.292e+00, -1.853e+00,  1.800e-02],\n",
       "       [ 5.753e+00, -2.880e-01,  1.600e-02],\n",
       "       [ 4.647e+00,  9.500e-02,  6.000e-03],\n",
       "       [ 5.541e+00, -9.430e-01,  5.000e-03],\n",
       "       [ 4.949e+00, -3.422e+00,  1.500e-02],\n",
       "       [ 5.061e+00, -2.406e+00,  8.000e-03],\n",
       "       [ 4.761e+00,  8.500e-02,  1.000e-02],\n",
       "       [ 5.660e+00, -2.905e+00,  7.000e-03],\n",
       "       [ 5.131e+00, -2.400e+00,  8.000e-03],\n",
       "       [ 4.899e+00, -3.471e+00,  2.300e-02],\n",
       "       [ 4.986e+00, -2.990e+00,  3.000e-03],\n",
       "       [ 4.907e+00, -3.743e+00,  8.000e-03],\n",
       "       [ 4.966e+00, -4.376e+00,  1.500e-02],\n",
       "       [ 5.854e+00, -3.916e+00,  6.000e-03],\n",
       "       [ 5.475e+00, -3.622e+00,  1.600e-02],\n",
       "       [ 5.162e+00, -2.555e+00,  2.000e-02],\n",
       "       [ 4.880e+00, -2.948e+00,  2.000e-03],\n",
       "       [ 4.919e+00, -4.111e+00,  1.900e-02],\n",
       "       [ 5.689e+00, -2.786e+00,  1.700e-02],\n",
       "       [ 5.451e+00, -7.280e-01,  1.500e-02],\n",
       "       [ 5.866e+00,  6.200e-02,  1.700e-02],\n",
       "       [ 4.808e+00, -1.141e+00,  2.600e-02],\n",
       "       [ 4.979e+00, -1.589e+00,  3.500e-02],\n",
       "       [ 6.047e+00, -2.071e+00,  2.900e-02],\n",
       "       [ 5.557e+00, -5.570e-01,  9.000e-03],\n",
       "       [ 5.662e+00, -2.225e+00,  1.300e-02],\n",
       "       [ 5.895e+00, -1.944e+00,  1.400e-02],\n",
       "       [ 5.472e+00, -2.540e-01,  9.000e-03],\n",
       "       [ 4.755e+00, -3.405e+00,  1.500e-02],\n",
       "       [ 4.985e+00, -2.512e+00,  2.500e-02],\n",
       "       [ 5.182e+00, -4.250e+00,  2.600e-02],\n",
       "       [ 4.655e+00, -2.956e+00,  1.400e-02],\n",
       "       [ 5.924e+00, -2.870e-01,  5.000e-03],\n",
       "       [ 4.937e+00, -3.226e+00,  9.000e-03],\n",
       "       [ 5.494e+00, -3.873e+00,  1.700e-02],\n",
       "       [ 5.414e+00, -4.355e+00,  2.500e-02],\n",
       "       [ 5.046e+00, -3.875e+00,  2.700e-02],\n",
       "       [ 5.910e+00, -3.531e+00,  2.100e-02],\n",
       "       [ 4.833e+00, -4.130e+00,  1.000e-03],\n",
       "       [ 4.954e+00, -1.510e+00,  9.000e-03],\n",
       "       [ 5.705e+00, -2.870e-01,  3.000e-03],\n",
       "       [ 5.159e+00, -5.260e-01,  1.900e-02],\n",
       "       [ 4.994e+00,  2.450e-01,  7.000e-03],\n",
       "       [ 5.084e+00, -4.400e-01,  2.000e-02],\n",
       "       [ 5.459e+00,  1.760e-01,  3.700e-02],\n",
       "       [ 5.707e+00, -1.118e+00,  7.000e-03],\n",
       "       [ 6.009e+00, -2.402e+00,  2.300e-02],\n",
       "       [ 5.155e+00, -1.860e+00,  7.000e-03],\n",
       "       [ 5.327e+00, -4.281e+00,  2.100e-02],\n",
       "       [ 4.740e+00, -1.330e-01,  2.200e-02],\n",
       "       [ 5.214e+00, -3.345e+00,  2.200e-02],\n",
       "       [ 5.194e+00, -9.180e-01,  8.000e-03],\n",
       "       [ 5.439e+00, -1.302e+00,  1.000e-03],\n",
       "       [ 4.999e+00, -1.373e+00,  3.200e-02],\n",
       "       [ 5.733e+00, -1.738e+00,  7.000e-03],\n",
       "       [ 6.128e+00, -2.833e+00,  1.500e-02],\n",
       "       [ 5.010e+00, -1.104e+00,  2.000e-03],\n",
       "       [ 5.568e+00, -3.982e+00,  2.800e-02],\n",
       "       [ 5.270e+00, -2.255e+00,  3.300e-02],\n",
       "       [ 5.614e+00, -2.692e+00,  2.600e-02],\n",
       "       [ 5.032e+00, -1.347e+00,  1.800e-02],\n",
       "       [ 4.997e+00, -4.405e+00,  2.500e-02],\n",
       "       [ 5.918e+00, -1.904e+00,  1.900e-02],\n",
       "       [ 4.623e+00, -2.139e+00,  3.500e-02],\n",
       "       [ 6.070e+00, -3.226e+00,  2.000e-03],\n",
       "       [ 5.355e+00, -4.300e-02,  2.500e-02],\n",
       "       [ 5.304e+00, -1.963e+00,  3.500e-02],\n",
       "       [ 5.672e+00, -3.457e+00,  2.600e-02],\n",
       "       [ 6.163e+00, -1.032e+00,  1.300e-02],\n",
       "       [ 4.867e+00, -1.701e+00,  1.200e-02],\n",
       "       [ 4.821e+00, -3.750e+00,  1.600e-02],\n",
       "       [ 5.309e+00, -6.630e-01,  3.400e-02],\n",
       "       [ 4.842e+00, -3.502e+00,  2.100e-02],\n",
       "       [ 5.038e+00, -2.766e+00,  0.000e+00],\n",
       "       [ 5.957e+00, -1.124e+00,  2.700e-02],\n",
       "       [ 5.204e+00, -2.635e+00,  1.000e-02],\n",
       "       [ 6.298e+00, -9.330e-01,  2.500e-02],\n",
       "       [ 5.480e+00, -1.850e+00,  2.000e-03],\n",
       "       [ 4.782e+00, -2.480e+00,  2.100e-02],\n",
       "       [ 6.120e+00, -3.983e+00,  3.500e-02],\n",
       "       [ 6.011e+00, -4.383e+00,  2.800e-02],\n",
       "       [ 5.055e+00, -1.061e+00,  2.500e-02]])"
      ]
     },
     "execution_count": 59,
     "metadata": {},
     "output_type": "execute_result"
    }
   ],
   "source": [
    "real_landing_point"
   ]
  },
  {
   "cell_type": "code",
   "execution_count": 25,
   "metadata": {
    "scrolled": true
   },
   "outputs": [
    {
     "data": {
      "text/plain": [
       "array([[ 6.426,  2.56 ,  0.   ],\n",
       "       [ 4.499, -2.482,  0.   ],\n",
       "       [ 5.11 , -1.205,  0.   ],\n",
       "       [ 5.554,  1.602, -0.   ],\n",
       "       [ 5.105, -1.158, -0.   ],\n",
       "       [ 5.769,  2.104,  0.   ],\n",
       "       [ 5.621,  0.361,  0.   ],\n",
       "       [ 5.472,  3.214, -0.   ],\n",
       "       [ 5.472,  3.214, -0.   ],\n",
       "       [ 5.314, -2.129, -0.   ],\n",
       "       [ 6.872,  1.902,  0.   ],\n",
       "       [ 5.683,  0.301, -0.   ],\n",
       "       [ 5.316,  2.952, -0.   ],\n",
       "       [ 5.441,  0.747, -0.   ],\n",
       "       [ 6.81 , -0.692, -0.   ],\n",
       "       [ 5.055,  1.138,  0.   ],\n",
       "       [ 4.712,  6.377, -0.   ],\n",
       "       [ 6.406,  2.465, -0.   ],\n",
       "       [ 8.582, -9.112,  0.   ],\n",
       "       [ 3.875, -0.123,  0.   ],\n",
       "       [ 4.919, -0.775,  0.   ],\n",
       "       [ 5.078,  2.551, -0.   ],\n",
       "       [ 5.69 ,  0.074, -0.   ],\n",
       "       [ 6.355,  2.111, -0.   ],\n",
       "       [ 5.728,  1.092,  0.   ],\n",
       "       [ 7.355,  3.736,  0.   ],\n",
       "       [ 7.02 ,  3.112, -0.   ],\n",
       "       [ 5.263, -1.007,  0.   ],\n",
       "       [ 8.085,  2.194,  0.   ],\n",
       "       [ 7.438, -0.508,  0.   ],\n",
       "       [ 6.366,  2.448, -0.   ],\n",
       "       [ 5.401, -0.794,  0.   ],\n",
       "       [ 4.339, -0.901, -0.   ],\n",
       "       [ 5.066,  3.268, -0.   ],\n",
       "       [ 5.214,  0.617,  0.   ],\n",
       "       [ 6.192,  3.267, -0.   ],\n",
       "       [ 9.264, -8.265,  0.   ],\n",
       "       [ 4.116,  3.209,  0.   ],\n",
       "       [ 9.211,  3.498,  0.   ],\n",
       "       [ 5.879, -1.677, -0.   ],\n",
       "       [ 5.8  ,  1.545, -0.   ],\n",
       "       [ 5.683,  0.664, -0.   ],\n",
       "       [ 5.916, -1.08 ,  0.   ],\n",
       "       [ 6.653,  1.881,  0.   ],\n",
       "       [ 5.735, -0.376,  0.   ],\n",
       "       [ 5.953,  2.113,  0.   ],\n",
       "       [ 6.521,  1.325,  0.   ],\n",
       "       [ 5.413,  0.794,  0.   ],\n",
       "       [ 5.928,  1.834,  0.   ],\n",
       "       [ 6.683,  1.253,  0.   ],\n",
       "       [ 5.485, -0.202,  0.   ],\n",
       "       [ 6.613, -0.934,  0.   ],\n",
       "       [ 5.38 , -0.658,  0.   ],\n",
       "       [ 7.121, -0.586, -0.   ],\n",
       "       [ 6.519, -0.438,  0.   ],\n",
       "       [ 6.562,  3.449,  0.   ],\n",
       "       [ 5.746,  2.21 ,  0.   ],\n",
       "       [ 4.886,  0.403, -0.   ],\n",
       "       [ 5.748,  1.347,  0.   ],\n",
       "       [ 5.142, -0.581,  0.   ],\n",
       "       [ 6.101,  2.018,  0.   ],\n",
       "       [ 5.737,  3.154, -0.   ],\n",
       "       [ 5.638, -1.236,  0.   ],\n",
       "       [ 5.985, -1.114,  0.   ],\n",
       "       [ 6.239,  0.833, -0.   ],\n",
       "       [ 5.37 ,  1.037, -0.   ],\n",
       "       [ 7.559,  0.264, -0.   ],\n",
       "       [ 6.77 ,  1.08 ,  0.   ],\n",
       "       [ 6.467,  4.442,  0.   ],\n",
       "       [ 5.771,  1.443, -0.   ],\n",
       "       [ 4.241,  2.027,  0.   ],\n",
       "       [ 9.221, -1.836, -0.   ],\n",
       "       [ 7.234, -1.474,  0.   ],\n",
       "       [ 6.694, -1.776, -0.   ],\n",
       "       [ 5.367, -0.155,  0.   ],\n",
       "       [ 5.204, -0.485, -0.   ],\n",
       "       [ 7.099, -2.18 ,  0.   ],\n",
       "       [ 6.944,  2.31 ,  0.   ],\n",
       "       [ 6.832,  0.997,  0.   ],\n",
       "       [ 6.747,  1.284, -0.   ],\n",
       "       [ 4.93 ,  3.392, -0.   ],\n",
       "       [ 6.285,  2.477,  0.   ],\n",
       "       [ 5.952,  1.452,  0.   ],\n",
       "       [ 6.593,  0.737,  0.   ],\n",
       "       [ 5.67 ,  0.475,  0.   ],\n",
       "       [ 6.774,  2.637, -0.   ],\n",
       "       [ 5.398,  1.852, -0.   ],\n",
       "       [ 6.379,  3.075,  0.   ],\n",
       "       [ 7.011, -1.148,  0.   ],\n",
       "       [ 5.437,  0.159, -0.   ],\n",
       "       [ 6.104, -1.432,  0.   ],\n",
       "       [ 5.053,  3.344, -0.   ],\n",
       "       [ 4.982, -0.856, -0.   ],\n",
       "       [ 6.429,  2.81 ,  0.   ],\n",
       "       [ 5.614,  2.827,  0.   ],\n",
       "       [ 6.492,  0.26 , -0.   ],\n",
       "       [ 7.839,  0.318,  0.   ],\n",
       "       [ 6.207,  2.794,  0.   ],\n",
       "       [ 5.641,  3.173,  0.   ],\n",
       "       [ 2.673,  3.52 ,  0.   ]])"
      ]
     },
     "execution_count": 25,
     "metadata": {},
     "output_type": "execute_result"
    }
   ],
   "source": [
    "esti_landing_point"
   ]
  },
  {
   "cell_type": "code",
   "execution_count": 64,
   "metadata": {},
   "outputs": [],
   "source": [
    "data = np.array([0.10859999999999999, 0.06041999999999998, 0.030749999999999975, 0.056929999999999994, 0.07080000000000003])\n",
    "data_1 = np.array([0.16328208719881068, 0.07943525665597112, 0.04142185413522672, 0.22403287705156139, 0.08928292109916657\n",
    "                  ])"
   ]
  },
  {
   "cell_type": "code",
   "execution_count": 65,
   "metadata": {},
   "outputs": [
    {
     "name": "stdout",
     "output_type": "stream",
     "text": [
      "0.06549999999999999\n",
      "0.1194909992281473\n"
     ]
    }
   ],
   "source": [
    "print(sum(data)/data.shape[0])\n",
    "print(sum(data_1)/data_1.shape[0])\n"
   ]
  },
  {
   "cell_type": "code",
   "execution_count": 5,
   "metadata": {},
   "outputs": [
    {
     "name": "stdout",
     "output_type": "stream",
     "text": [
      "(100, 3) (100, 3)\n"
     ]
    }
   ],
   "source": [
    "with open('실험 데이터/낙후지점/1real_ball_list.bin', 'rb') as f:\n",
    "    real_landing_point = pickle.load(f)\n",
    "\n",
    "with open('실험 데이터/낙후지점/1esti_ball_list.bin', 'rb') as f:\n",
    "    esti_landing_point = pickle.load(f)\n",
    "\n",
    "print(real_landing_point.shape, esti_landing_point.shape)"
   ]
  },
  {
   "cell_type": "code",
   "execution_count": 12,
   "metadata": {},
   "outputs": [
    {
     "name": "stdout",
     "output_type": "stream",
     "text": [
      "2.6450000000000005\n",
      "0.8739999999999997\n"
     ]
    }
   ],
   "source": [
    "print(max(abs((real_landing_point[:,0]  - esti_landing_point[:,0]))))\n",
    "print(max(abs((real_landing_point[:,1]  - esti_landing_point[:,1]))))\n"
   ]
  },
  {
   "cell_type": "code",
   "execution_count": 4,
   "metadata": {},
   "outputs": [],
   "source": [
    "def test(data):\n",
    "    data.append(5)\n",
    "    \n",
    "    return data\n",
    "\n",
    "a = [1,2,3]"
   ]
  },
  {
   "cell_type": "code",
   "execution_count": 29,
   "metadata": {},
   "outputs": [],
   "source": [
    "\n",
    "a = test(a)"
   ]
  },
  {
   "cell_type": "code",
   "execution_count": 30,
   "metadata": {},
   "outputs": [
    {
     "data": {
      "text/plain": [
       "[1, 2, 3, 5, 5, 5, 5, 5, 5, 5, 5, 5, 5, 5, 5, 5]"
      ]
     },
     "execution_count": 30,
     "metadata": {},
     "output_type": "execute_result"
    }
   ],
   "source": [
    "a"
   ]
  },
  {
   "cell_type": "code",
   "execution_count": null,
   "metadata": {},
   "outputs": [],
   "source": [
    "\n",
    "\n",
    "th_L = np.arccos((ball_depth_list[1] ** 2 - 12.8 ** 2 - ball_depth_list[0]**2) / (2 * 12.8 * ball_depth_list[0]))\n"
   ]
  },
  {
   "cell_type": "code",
   "execution_count": 21,
   "metadata": {},
   "outputs": [
    {
     "name": "stdout",
     "output_type": "stream",
     "text": [
      "7.719002526233554\n",
      "11.841579286564778\n"
     ]
    }
   ],
   "source": [
    "point = [--6.83, -3.15, 2.54]\n",
    "\n",
    "\n",
    "print(np.sqrt(point[0] **2 + (point[1] - (-6.4)) ** 2 + (point[2] - 1) ** 2))\n",
    "print(np.sqrt(point[0] **2 + (point[1] - (6.4)) ** 2 + (point[2] - 1) ** 2))\n"
   ]
  },
  {
   "cell_type": "code",
   "execution_count": 15,
   "metadata": {},
   "outputs": [],
   "source": [
    "def get_depth(L_pos, R_pos):\n",
    "    \n",
    "    cx = 320\n",
    "    cy = 160\n",
    "    focal_length = 343.159\n",
    "    \n",
    "    x_L, y_L = L_pos[0] - cx, L_pos[1] - cy\n",
    "    x_R, y_R = R_pos[0] - cx, R_pos[1] - cy\n",
    "    \n",
    "    a_L = np.sqrt(focal_length ** 2 + x_L ** 2 + y_L ** 2)\n",
    "    b_L = np.sqrt(focal_length ** 2 + x_L ** 2)\n",
    "    c_L = b_L * np.cos(0.785398 - np.arccos(focal_length / b_L))\n",
    "    \n",
    "    a_R = np.sqrt(focal_length ** 2 + x_R ** 2 + y_R ** 2)\n",
    "    b_R = np.sqrt(focal_length ** 2 + x_R ** 2)\n",
    "    c_R = b_R * np.cos(0.785398 - np.arccos(focal_length / b_R))\n",
    "    \n",
    "    theta_L = np.arccos(c_L/a_L)\n",
    "    theta_R = np.arccos(c_R/a_R)\n",
    "    \n",
    "    #if x_L < 0:\n",
    "    #   theta_L = 3.14 - theta_L\n",
    "        \n",
    "    \n",
    "    if x_R > 0:\n",
    "        theta_R = 3.14 - theta_R\n",
    "    \n",
    "    return theta_L, theta_R\n",
    "\n",
    "\n",
    "def get_depth(L_pos, R_pos):\n",
    "    \n",
    "    cx = 320\n",
    "    cy = 160\n",
    "    focal_length = 343.159\n",
    "    \n",
    "    x_L, y_L = L_pos[0] - cx, L_pos[1] - cy\n",
    "    x_R, y_R = R_pos[0] - cx, R_pos[1] - cy\n",
    "    \n",
    "    \n",
    "    \n",
    "    a_L = np.sqrt(focal_length ** 2 + x_L ** 2 + y_L ** 2)\n",
    "    b_L = np.sqrt(focal_length ** 2 + x_L ** 2)\n",
    "    c_L = b_L * np.cos(0.785398 + np.arccos(focal_length / b_L))\n",
    "    \n",
    "    a_R = np.sqrt(focal_length ** 2 + x_R ** 2 + y_R ** 2)\n",
    "    b_R = np.sqrt(focal_length ** 2 + x_R ** 2)\n",
    "    c_R = b_R * np.cos(0.785398 - np.arccos(focal_length / b_R))\n",
    "    \n",
    "    theta_L = np.arccos(c_L/a_L)\n",
    "    theta_R = np.arccos(c_R/a_R)\n",
    "\n",
    "    \n",
    "    return theta_L, theta_R\n",
    "\n",
    "\n",
    "    \n",
    "\n",
    "    "
   ]
  },
  {
   "cell_type": "code",
   "execution_count": 23,
   "metadata": {},
   "outputs": [
    {
     "name": "stdout",
     "output_type": "stream",
     "text": [
      "65.25910533352527\n",
      "36.25479789900261\n",
      "7.7276020607080405 11.867693546603148\n"
     ]
    }
   ],
   "source": [
    "L_pos = [197, 86]\n",
    "R_pos = [263, 434 - 320]\n",
    "\n",
    "deg = get_depth(L_pos, R_pos)\n",
    "\n",
    "print(np.rad2deg(deg[0]))\n",
    "print(np.rad2deg(deg[1]))\n",
    "\n",
    "\n",
    "D_L = 12.8 * np.sin(deg[1]) / np.sin(3.14 - (deg[0] + deg[1]))\n",
    "D_R = 12.8 * np.sin(deg[0]) / np.sin(3.14 - (deg[0] + deg[1]))\n",
    "\n",
    "print(D_L, D_R)"
   ]
  },
  {
   "cell_type": "raw",
   "metadata": {},
   "source": [
    "print(180 - np.rad2deg(deg[0]) - np.rad2deg(deg[1]))"
   ]
  },
  {
   "cell_type": "code",
   "execution_count": 18,
   "metadata": {},
   "outputs": [],
   "source": [
    "real_distance = np.array( [[10.301, 10.303], [9.557, 9.56], [8.871, 8.874], [8.277, 8.28], [7.795, 7.798], [7.357, 7.36], [7.02, 7.024], [6.767, 6.77], [6.62, 6.624], [6.583, 6.587], [10.931, 10.935], [10.056, 10.059], [9.274, 9.278], [8.626, 8.631], [8.004, 8.009], [7.53, 7.535], [7.127, 7.133], [6.834, 6.84], [6.655, 6.661], [6.582, 6.588], [11.027, 13.972], [10.053, 13.217], [9.107, 12.513], [8.299, 11.937], [7.503, 11.398], [6.543, 10.79], [5.802, 10.358], [5.149, 10.007], [4.6, 9.736], [4.184, 9.546], [3.917, 9.432], [10.145, 13.287], [9.304, 12.657], [8.472, 12.058], [7.686, 11.519], [6.776, 10.933], [6.017, 10.48], [5.288, 10.079], [4.737, 9.801], [4.269, 9.584], [3.917, 9.432], [11.084, 14.017], [10.089, 13.245], [9.071, 12.487], [8.281, 11.925], [7.47, 11.376], [6.728, 10.904], [6.017, 10.48], [5.365, 10.12], [4.727, 9.797], [4.293, 9.595], [3.974, 9.456]] )\n",
    "distance = np.array( [[10.553, 10.576], [9.882, 9.906], [9.234, 9.234], [8.576, 8.603], [8.051, 8.051], [7.578, 7.609], [7.169, 7.201], [6.878, 6.878], [6.656, 6.687], [6.568, 6.585], [11.568, 11.398], [10.708, 10.419], [9.567, 9.569], [8.883, 8.909], [8.23, 8.258], [7.721, 7.721], [7.262, 7.294], [6.926, 6.96], [7.221, 6.282], [6.568, 6.588], [11.885, 14.546], [10.489, 13.555], [9.545, 12.841], [8.723, 12.256], [7.912, 11.684], [6.825, 10.965], [6.068, 10.52], [5.454, 10.177], [4.891, 9.867], [4.393, 9.629], [4.077, 9.411], [10.6, 13.649], [9.79, 13.041], [8.928, 12.4], [8.098, 11.819], [7.293, 11.094], [6.692, 10.595], [5.57, 10.241], [5.028, 9.936], [4.505, 9.702], [4.451, 9.048], [11.885, 14.546], [10.871, 13.711], [9.505, 12.826], [8.68, 12.223], [7.917, 11.685], [7.121, 11.153], [6.392, 10.69], [6.129, 10.132], [4.978, 9.912], [4.493, 9.695], [4.139, 9.486]] )\n"
   ]
  },
  {
   "cell_type": "code",
   "execution_count": 19,
   "metadata": {},
   "outputs": [
    {
     "name": "stdout",
     "output_type": "stream",
     "text": [
      "MAE\n",
      "0.3562115384615386\n",
      "0.2374615384615385\n"
     ]
    }
   ],
   "source": [
    "print('MAE')\n",
    "print((sum(abs((real_distance[:,0]  - distance[:,0]))) / distance.shape[0]))\n",
    "print((sum(abs((real_distance[:,1]  - distance[:,1]))) / distance.shape[0]))"
   ]
  },
  {
   "cell_type": "code",
   "execution_count": 6,
   "metadata": {},
   "outputs": [],
   "source": [
    "a= np.array([[21.10908253787842, 1.7776069505581846, 4.969219429969466], [22.56647479586072, -0.13305704478691194, 4.257825433181277], [20.453596791565445, 0.0, 3.4959532806893137], [20.25975368234247, -0.11630168589175585, 3.0936248447204973], [20.25975368234247, -0.11630168589175585, 3.0936248447204973], [18.39326766632572, -1.8940958018672869, 1.5517893316503093], [22.98384185251745, 4.572054562059925, 2.7185189287923843], [17.727292934928496, -0.44152659862835647, 0.6402135680111144], [20.67665501291248, 0.0, 0.5536240573888124], [17.967680878690484, 0.2901613061154962, 0.04464020094084099], [19.00136081009448, 0.022920821242582427, -0.13752492745544367], [17.830134928670038, -0.07238214450069304, -0.8444583525080568], [17.42084368313051, 0.11506501772212771, -1.0816111665880168]])\n"
   ]
  },
  {
   "cell_type": "code",
   "execution_count": 12,
   "metadata": {},
   "outputs": [
    {
     "data": {
      "text/plain": [
       "array([ 4.96921943,  4.25782543,  3.49595328,  3.09362484,  3.09362484,\n",
       "        1.55178933,  2.71851893,  0.64021357,  0.55362406,  0.0446402 ,\n",
       "       -0.13752493, -0.84445835, -1.08161117])"
      ]
     },
     "execution_count": 12,
     "metadata": {},
     "output_type": "execute_result"
    }
   ],
   "source": [
    "a[:,2]"
   ]
  },
  {
   "cell_type": "code",
   "execution_count": 47,
   "metadata": {},
   "outputs": [],
   "source": [
    "def check_vel_noise(esti_ball_val_list):\n",
    "\n",
    "    y_vel_list = np.array(esti_ball_val_list)[:,1]\n",
    "\n",
    "    if len(y_vel_list) > 3 :\n",
    "\n",
    "        vel_mean = np.mean(y_vel_list)\n",
    "        \n",
    "        if abs(abs(vel_mean) - abs(y_vel_list[-1])) > 2:\n",
    "\n",
    "            vel_mean = np.mean(esti_ball_val_list[:,1])\n",
    "            esti_ball_val_list[:,1][-1] = vel_mean\n",
    "            \n",
    "        \n",
    "        \n",
    "        print(vel_mean)\n",
    "\n",
    "        return esti_ball_val_list[-1]\n",
    "\n",
    "    else:\n",
    "        return esti_ball_val_list[-1]\n",
    "\n"
   ]
  },
  {
   "cell_type": "code",
   "execution_count": 48,
   "metadata": {},
   "outputs": [],
   "source": [
    "a = np.array([[23.265920178621283, 0.5365306540143328, 4.56051055912178], \n",
    "             [18.669406026313265, -0.06691543378607161, 3.8587900149966505], \n",
    "             [20.300678162046797, 0.24196279096599826, 3.5568530272000927], \n",
    "             [19.0204798680775, -0.3602363611378345, 2.32952846869131], \n",
    "             [17.084952742966887, -0.02075935934746658, 2.179732731484231], \n",
    "             [23.021409066103807, 0.20808175819813846, 2.080817581981443], \n",
    "             [19.671862539932143, 0.23061972496990157, 0.9686028448735702], \n",
    "             [17.27005170382924, -0.6500646814490352, 1.0401034903184485], \n",
    "             [20.55794988472639, 0.20304148034297695, 0.25380185042871556], \n",
    "             [19.052599263285934, 0.3143195309933041, -0.072535276383071], \n",
    "             [17.34281632965184, -0.09163971640502963, -0.481108511126403], \n",
    "             [17.788860778167063, 0.045495807616790555, -0.6596892104435338], \n",
    "             [16.33794047345955, -3.0374231134260827, -1.641340440174346]])"
   ]
  },
  {
   "cell_type": "code",
   "execution_count": 49,
   "metadata": {},
   "outputs": [
    {
     "data": {
      "text/plain": [
       "-0.18822976295769828"
      ]
     },
     "execution_count": 49,
     "metadata": {},
     "output_type": "execute_result"
    }
   ],
   "source": [
    "np.mean(a[:,1])"
   ]
  },
  {
   "cell_type": "code",
   "execution_count": 50,
   "metadata": {},
   "outputs": [
    {
     "name": "stdout",
     "output_type": "stream",
     "text": [
      "-0.18822976295769828\n"
     ]
    },
    {
     "data": {
      "text/plain": [
       "array([16.33794047, -0.18822976, -1.64134044])"
      ]
     },
     "execution_count": 50,
     "metadata": {},
     "output_type": "execute_result"
    }
   ],
   "source": [
    "check_vel_noise(a)"
   ]
  },
  {
   "cell_type": "code",
   "execution_count": 51,
   "metadata": {},
   "outputs": [
    {
     "data": {
      "text/plain": [
       "-0.18822976295769828"
      ]
     },
     "execution_count": 51,
     "metadata": {},
     "output_type": "execute_result"
    }
   ],
   "source": [
    "a[:,1,][-1]"
   ]
  },
  {
   "cell_type": "code",
   "execution_count": 52,
   "metadata": {},
   "outputs": [
    {
     "data": {
      "text/plain": [
       "13"
      ]
     },
     "execution_count": 52,
     "metadata": {},
     "output_type": "execute_result"
    }
   ],
   "source": [
    "len(a)"
   ]
  },
  {
   "cell_type": "code",
   "execution_count": 82,
   "metadata": {},
   "outputs": [],
   "source": [
    "a = np.array([[21.27604014380183, -0.17457263707734824, 4.12427855095235], [19.668045037540008, 0.043950938631379256, 3.252369458721699], [19.135713800484357, -0.042149149340278656, 2.6132472590969864], [21.75786674628266, 3.779115601358449, 3.3989678781448793]])\n",
    "\n",
    "b = [[21.27604014380183, -0.17457263707734824, 4.12427855095235], [19.668045037540008, 0.043950938631379256, 3.252369458721699], [19.135713800484357, -0.042149149340278656, 2.6132472590969864], [21.75786674628266, 3.779115601358449, 3.3989678781448793]]"
   ]
  },
  {
   "cell_type": "code",
   "execution_count": 68,
   "metadata": {},
   "outputs": [],
   "source": [
    "a[:,1][-1] = np.mean(a[:,1])"
   ]
  },
  {
   "cell_type": "code",
   "execution_count": 69,
   "metadata": {},
   "outputs": [
    {
     "data": {
      "text/plain": [
       "array([[21.27604014, -0.17457264,  4.12427855],\n",
       "       [19.66804504,  0.04395094,  3.25236946],\n",
       "       [19.1357138 , -0.04214915,  2.61324726],\n",
       "       [21.75786675,  0.90158619,  3.39896788]])"
      ]
     },
     "execution_count": 69,
     "metadata": {},
     "output_type": "execute_result"
    }
   ],
   "source": [
    "a"
   ]
  },
  {
   "cell_type": "code",
   "execution_count": 71,
   "metadata": {
    "scrolled": true
   },
   "outputs": [
    {
     "data": {
      "text/plain": [
       "0.9015861883930503"
      ]
     },
     "execution_count": 71,
     "metadata": {},
     "output_type": "execute_result"
    }
   ],
   "source": [
    "np.mean(a[:,1][-1])"
   ]
  },
  {
   "cell_type": "code",
   "execution_count": 67,
   "metadata": {},
   "outputs": [
    {
     "data": {
      "text/plain": [
       "array([-0.17457264,  0.04395094, -0.04214915,  3.7791156 ])"
      ]
     },
     "execution_count": 67,
     "metadata": {},
     "output_type": "execute_result"
    }
   ],
   "source": [
    "a[:,1]"
   ]
  },
  {
   "cell_type": "code",
   "execution_count": 85,
   "metadata": {},
   "outputs": [
    {
     "data": {
      "text/plain": [
       "[[21.27604014380183, -0.17457263707734824, 4.12427855095235],\n",
       " [19.668045037540008, 0.043950938631379256, 3.252369458721699],\n",
       " [19.135713800484357, -0.042149149340278656, 2.6132472590969864],\n",
       " [21.75786674628266, 1, 3.3989678781448793]]"
      ]
     },
     "execution_count": 85,
     "metadata": {},
     "output_type": "execute_result"
    }
   ],
   "source": [
    "b"
   ]
  },
  {
   "cell_type": "code",
   "execution_count": 7,
   "metadata": {},
   "outputs": [],
   "source": [
    "b = [4.491, 3.162, 5.211, -1.132, 3.369, 1.315, 5.409, 2.223, 3.755, 1.816, 4.178, 1.224, 4.214, 1.272, 5.473, 1.127, 3.728, 1.228, 3.486, 1.217, 4.206, 1.076, 4.395, 1.401, 4.72, 1.132, 4.061, 1.074]\n"
   ]
  },
  {
   "cell_type": "code",
   "execution_count": 10,
   "metadata": {},
   "outputs": [
    {
     "data": {
      "text/plain": [
       "[[4.491, 3.162],\n",
       " [5.211, -1.132],\n",
       " [3.369, 1.315],\n",
       " [5.409, 2.223],\n",
       " [3.755, 1.816],\n",
       " [4.178, 1.224],\n",
       " [4.214, 1.272],\n",
       " [5.473, 1.127],\n",
       " [3.728, 1.228],\n",
       " [3.486, 1.217],\n",
       " [4.206, 1.076],\n",
       " [4.395, 1.401],\n",
       " [4.72, 1.132],\n",
       " [4.061, 1.074]]"
      ]
     },
     "execution_count": 10,
     "metadata": {},
     "output_type": "execute_result"
    }
   ],
   "source": [
    "a = np.array(b)\n",
    "\n",
    "a.reshape(-1,2).tolist()"
   ]
  },
  {
   "cell_type": "code",
   "execution_count": 8,
   "metadata": {},
   "outputs": [
    {
     "ename": "FileNotFoundError",
     "evalue": "[Errno 2] No such file or directory: 'real_ball_list.bin'",
     "output_type": "error",
     "traceback": [
      "\u001b[0;31m---------------------------------------------------------------------------\u001b[0m",
      "\u001b[0;31mFileNotFoundError\u001b[0m                         Traceback (most recent call last)",
      "\u001b[0;32m<ipython-input-8-2e422d485d92>\u001b[0m in \u001b[0;36m<module>\u001b[0;34m\u001b[0m\n\u001b[0;32m----> 1\u001b[0;31m \u001b[0;32mwith\u001b[0m \u001b[0mopen\u001b[0m\u001b[0;34m(\u001b[0m\u001b[0;34m'real_ball_list.bin'\u001b[0m\u001b[0;34m,\u001b[0m \u001b[0;34m'rb'\u001b[0m\u001b[0;34m)\u001b[0m \u001b[0;32mas\u001b[0m \u001b[0mf\u001b[0m\u001b[0;34m:\u001b[0m\u001b[0;34m\u001b[0m\u001b[0;34m\u001b[0m\u001b[0m\n\u001b[0m\u001b[1;32m      2\u001b[0m     \u001b[0mreal_landing_point\u001b[0m \u001b[0;34m=\u001b[0m \u001b[0mpickle\u001b[0m\u001b[0;34m.\u001b[0m\u001b[0mload\u001b[0m\u001b[0;34m(\u001b[0m\u001b[0mf\u001b[0m\u001b[0;34m)\u001b[0m\u001b[0;34m\u001b[0m\u001b[0;34m\u001b[0m\u001b[0m\n\u001b[1;32m      3\u001b[0m \u001b[0;34m\u001b[0m\u001b[0m\n\u001b[1;32m      4\u001b[0m \u001b[0;32mwith\u001b[0m \u001b[0mopen\u001b[0m\u001b[0;34m(\u001b[0m\u001b[0;34m'esti_ball_list.bin'\u001b[0m\u001b[0;34m,\u001b[0m \u001b[0;34m'rb'\u001b[0m\u001b[0;34m)\u001b[0m \u001b[0;32mas\u001b[0m \u001b[0mf\u001b[0m\u001b[0;34m:\u001b[0m\u001b[0;34m\u001b[0m\u001b[0;34m\u001b[0m\u001b[0m\n\u001b[1;32m      5\u001b[0m     \u001b[0mesti_landing_point\u001b[0m \u001b[0;34m=\u001b[0m \u001b[0mpickle\u001b[0m\u001b[0;34m.\u001b[0m\u001b[0mload\u001b[0m\u001b[0;34m(\u001b[0m\u001b[0mf\u001b[0m\u001b[0;34m)\u001b[0m\u001b[0;34m\u001b[0m\u001b[0;34m\u001b[0m\u001b[0m\n",
      "\u001b[0;31mFileNotFoundError\u001b[0m: [Errno 2] No such file or directory: 'real_ball_list.bin'"
     ]
    }
   ],
   "source": [
    "with open('real_ball_list.bin', 'rb') as f:\n",
    "    real_landing_point = pickle.load(f)\n",
    "\n",
    "with open('esti_ball_list.bin', 'rb') as f:\n",
    "    esti_landing_point = pickle.load(f)\n",
    "    esti_landing_point = esti_landing_point.tolist()\n",
    "\n",
    "print(real_landing_point.shape, esti_landing_point.shape)"
   ]
  },
  {
   "cell_type": "code",
   "execution_count": null,
   "metadata": {},
   "outputs": [],
   "source": [
    "\n",
    "print('MAE')\n",
    "print((sum(abs((real_landing_point[:,0]  - esti_landing_point[:,0]))) / esti_landing_point.shape[0]))\n",
    "print((sum(abs((real_landing_point[:,1]  - esti_landing_point[:,1]))) / esti_landing_point.shape[0]))\n",
    "\n",
    "print('MSE')\n",
    "print((sum((real_landing_point[:,0]  - esti_landing_point[:,0]) ** 2) / esti_landing_point.shape[0]))\n",
    "print((sum((real_landing_point[:,1]  - esti_landing_point[:,1]) ** 2) / esti_landing_point.shape[0]))\n",
    "\n",
    "\n",
    "print('RMSE')\n",
    "print(np.sqrt(sum((real_landing_point[:,0]  - esti_landing_point[:,0]) ** 2) / esti_landing_point.shape[0]))\n",
    "print(np.sqrt(sum((real_landing_point[:,1] - esti_landing_point[:,1]) ** 2) / esti_landing_point.shape[0]))\n",
    "\n",
    "print('R2 Score')\n",
    "print(sum(esti_landing_point[:,0])/ sum(real_landing_point[:,0]))\n",
    "print(sum(esti_landing_point[:,1])/ sum(real_landing_point[:,1]))\n"
   ]
  },
  {
   "cell_type": "code",
   "execution_count": 135,
   "metadata": {},
   "outputs": [
    {
     "ename": "FileNotFoundError",
     "evalue": "[Errno 2] No such file or directory: 'real_1.bin'",
     "output_type": "error",
     "traceback": [
      "\u001b[0;31m---------------------------------------------------------------------------\u001b[0m",
      "\u001b[0;31mFileNotFoundError\u001b[0m                         Traceback (most recent call last)",
      "\u001b[0;32m<ipython-input-135-444545dd93ec>\u001b[0m in \u001b[0;36m<module>\u001b[0;34m\u001b[0m\n\u001b[1;32m      6\u001b[0m \u001b[0;34m\u001b[0m\u001b[0m\n\u001b[1;32m      7\u001b[0m \u001b[0;34m\u001b[0m\u001b[0m\n\u001b[0;32m----> 8\u001b[0;31m \u001b[0;32mwith\u001b[0m \u001b[0mopen\u001b[0m\u001b[0;34m(\u001b[0m\u001b[0;34m'real_1.bin'\u001b[0m\u001b[0;34m,\u001b[0m \u001b[0;34m'rb'\u001b[0m\u001b[0;34m)\u001b[0m \u001b[0;32mas\u001b[0m \u001b[0mf\u001b[0m\u001b[0;34m:\u001b[0m\u001b[0;34m\u001b[0m\u001b[0;34m\u001b[0m\u001b[0m\n\u001b[0m\u001b[1;32m      9\u001b[0m     \u001b[0mreal_landing_point\u001b[0m \u001b[0;34m=\u001b[0m \u001b[0mpickle\u001b[0m\u001b[0;34m.\u001b[0m\u001b[0mload\u001b[0m\u001b[0;34m(\u001b[0m\u001b[0mf\u001b[0m\u001b[0;34m)\u001b[0m\u001b[0;34m\u001b[0m\u001b[0;34m\u001b[0m\u001b[0m\n\u001b[1;32m     10\u001b[0m \u001b[0;34m\u001b[0m\u001b[0m\n",
      "\u001b[0;31mFileNotFoundError\u001b[0m: [Errno 2] No such file or directory: 'real_1.bin'"
     ]
    }
   ],
   "source": [
    "def get_numpy_from_nonfixed_2d_array(aa, fixed_length, padding_value=0):\n",
    "    rows = []\n",
    "    for a in aa:\n",
    "        rows.append(np.pad(a, (0, fixed_length), 'constant', constant_values=padding_value)[:fixed_length])\n",
    "    return np.array(rows).reshape(-1, fixed_length)\n",
    "    \n",
    "\n",
    "with open('real_1.bin', 'rb') as f:\n",
    "    real_landing_point = pickle.load(f)\n",
    "\n",
    "with open('esti_1.bin', 'rb') as f:\n",
    "    esti_landing_point = pickle.load(f)\n",
    "    #esti_landing_point = esti_landing_point.tolist()\n",
    "\n",
    "max_list = []\n",
    "for i in range(len(esti_landing_point)):\n",
    "    max_list.append(len(esti_landing_point[i]))\n",
    "\n",
    "    \n",
    "esti_landing_point = sequence.pad_sequences(esti_landing_point)\n",
    "#esti_landing_point = get_numpy_from_nonfixed_2d_array(esti_landing_point, np.max(max_list), 0 )\n",
    "esti_landing_point= esti_landing_point.reshape(100,-1,2)\n",
    "\n",
    "print(real_landing_point.shape, esti_landing_point.shape)\n",
    "\n"
   ]
  },
  {
   "cell_type": "code",
   "execution_count": 261,
   "metadata": {},
   "outputs": [
    {
     "name": "stdout",
     "output_type": "stream",
     "text": [
      "(100, 2) (100, 17, 2)\n"
     ]
    }
   ],
   "source": [
    "with open('실험 데이터/관측시작부터낙하지점/real_5.bin', 'rb') as f:\n",
    "    real_landing_point = pickle.load(f)\n",
    "\n",
    "with open('실험 데이터/관측시작부터낙하지점/esti_5.bin', 'rb') as f:\n",
    "    esti_landing_point = pickle.load(f)\n",
    "    esti_landing_point = esti_landing_point.tolist()\n",
    "    \n",
    "max_list = []\n",
    "for i in range(len(esti_landing_point)):\n",
    "    max_list.append(len(esti_landing_point[i]))\n",
    "    \n",
    "esti_landing_point = sequence.pad_sequences(esti_landing_point,padding='pre', dtype = 'float32')\n",
    "esti_landing_point= esti_landing_point.reshape(100,-1,2)\n",
    "\n",
    "print(real_landing_point.shape, esti_landing_point.shape)\n",
    "\n"
   ]
  },
  {
   "cell_type": "code",
   "execution_count": 262,
   "metadata": {
    "scrolled": false
   },
   "outputs": [
    {
     "name": "stdout",
     "output_type": "stream",
     "text": [
      "index :  16\n",
      "sample : 100\n",
      "MAE_x :  0.3518700135231019\n",
      "MAE_y :  0.33166999961793414\n",
      "RMSE_x :  0.04156168120575055\n",
      "RMSE_Y : 0.0626982909670253\n",
      "26\n",
      "[[-1.637      -1.28499997  0.35200003]\n",
      " [-2.621      -3.02900004  0.40800004]\n",
      " [-0.64        0.64499998  1.28499998]\n",
      " [-1.824      -2.24900007  0.42500007]\n",
      " [-4.053      -3.648       0.405     ]\n",
      " [-0.769       0.58600003  1.35500003]\n",
      " [-3.635      -3.95600009  0.32100009]\n",
      " [-1.113      -0.011       1.102     ]\n",
      " [-2.433      -2.9059999   0.4729999 ]\n",
      " [-3.271      -3.63400006  0.36300006]\n",
      " [-4.124      -3.75        0.374     ]\n",
      " [-0.178       1.171       1.349     ]\n",
      " [-3.382      -3.79999995  0.41799995]\n",
      " [-2.174      -2.523       0.349     ]\n",
      " [-0.765       0.26800001  1.03300001]\n",
      " [-0.296       0.35699999  0.65299999]\n",
      " [-2.07       -2.50600004  0.43600004]\n",
      " [-0.478       0.15800001  0.63600001]\n",
      " [-3.597      -3.92600012  0.32900012]\n",
      " [-0.325      -4.01999998  3.69499998]\n",
      " [-1.278      -0.154       1.124     ]\n",
      " [-3.999      -3.57399988  0.42500012]\n",
      " [ 0.191      -2.85500002  3.04600002]\n",
      " [-0.163       1.00399995  1.16699995]\n",
      " [-2.787      -3.49499989  0.70799989]\n",
      " [-0.696       0.33199999  1.02799999]]\n"
     ]
    }
   ],
   "source": [
    "count = 0\n",
    "\n",
    "index = 16\n",
    "\n",
    "a = 0\n",
    "over_y_list = []\n",
    "\n",
    "MAE_x_list = []\n",
    "MAE_y_list = []\n",
    "\n",
    "RMSE_x_list = []\n",
    "RMSE_y_list = []\n",
    "\n",
    "for i in range(100):\n",
    "    real_landing_list = real_landing_point[i]\n",
    "\n",
    "    esti_list  = esti_landing_point[i]\n",
    "    real_x, real_y = real_landing_list\n",
    "    \n",
    "    \n",
    "    esti_x, esti_y = esti_list[index]\n",
    "\n",
    "    if esti_x == 0 :\n",
    "        count += 1\n",
    "        continue\n",
    "    \n",
    "    #print(\"real_x, real_y : \", real_x, real_y)\n",
    "    #print(\"esti_x, esti_y : \", esti_x, esti_y)\n",
    "    \n",
    "    \n",
    "    #print('MAE')\n",
    "    MAE_x = abs((real_x - esti_x))\n",
    "    MAE_y = abs((real_y - esti_y))\n",
    "    \n",
    "    RMSE_x = (real_x - esti_x) ** 2\n",
    "    RMSE_y = (real_y - esti_y) ** 2\n",
    "\n",
    "    MAE_x_list.append(MAE_x)\n",
    "    MAE_y_list.append(MAE_y)\n",
    "\n",
    "    RMSE_x_list.append(RMSE_x)\n",
    "    RMSE_y_list.append(RMSE_y)\n",
    "    \n",
    "    if MAE_y > 0.32002999786823993 :\n",
    "        a += 1\n",
    "        over_y_list.append([real_y,esti_y, MAE_y])\n",
    "\n",
    "print(\"index : \", index)\n",
    "print(\"sample :\",100 - count)\n",
    "print(\"MAE_x : \",sum(MAE_x_list) / (100 - count))\n",
    "print(\"MAE_y : \",sum(MAE_y_list) / (100 - count))\n",
    "\n",
    "print(\"RMSE_x : \",np.sqrt(sum(RMSE_x_list)) / (100 - count))\n",
    "print(\"RMSE_Y :\",np.sqrt(sum(RMSE_y_list)) / (100 - count))\n",
    "\n",
    "print(a)\n",
    "print(np.array(over_y_list))\n"
   ]
  },
  {
   "cell_type": "code",
   "execution_count": 263,
   "metadata": {},
   "outputs": [
    {
     "data": {
      "text/plain": [
       "0.8945769335237833"
      ]
     },
     "execution_count": 263,
     "metadata": {},
     "output_type": "execute_result"
    }
   ],
   "source": [
    "sum(np.array(over_y_list)[:,2])/np.array(over_y_list).shape[0]"
   ]
  },
  {
   "cell_type": "code",
   "execution_count": null,
   "metadata": {},
   "outputs": [],
   "source": []
  },
  {
   "cell_type": "code",
   "execution_count": null,
   "metadata": {},
   "outputs": [],
   "source": []
  },
  {
   "cell_type": "code",
   "execution_count": null,
   "metadata": {},
   "outputs": [],
   "source": []
  },
  {
   "cell_type": "code",
   "execution_count": 84,
   "metadata": {},
   "outputs": [
    {
     "data": {
      "text/plain": [
       "array([[ 2.453, -1.701],\n",
       "       [ 2.138, -0.376],\n",
       "       [ 1.458,  0.248],\n",
       "       [ 2.007, -1.517],\n",
       "       [ 1.276,  0.18 ],\n",
       "       [ 5.22 , -0.324],\n",
       "       [ 1.494,  1.606],\n",
       "       [ 3.069, -0.806],\n",
       "       [ 3.22 ,  0.376],\n",
       "       [ 2.469,  1.647],\n",
       "       [ 2.066, -0.421],\n",
       "       [ 2.686,  3.001],\n",
       "       [ 3.107,  0.751],\n",
       "       [ 3.186,  3.104],\n",
       "       [ 2.851,  1.803],\n",
       "       [ 3.062,  0.826]])"
      ]
     },
     "execution_count": 84,
     "metadata": {},
     "output_type": "execute_result"
    }
   ],
   "source": [
    "print('MSE')\n",
    "print((sum((real_landing_point[:,0]  - esti_landing_point[:,0]) ** 2) / esti_landing_point.shape[0]))\n",
    "print((sum((real_landing_point[:,1]  - esti_landing_point[:,1]) ** 2) / esti_landing_point.shape[0]))\n",
    "\n",
    "\n",
    "print('RMSE')\n",
    "print(np.sqrt(sum((real_landing_point[:,0]  - esti_landing_point[:,0]) ** 2) / esti_landing_point.shape[0]))\n",
    "print(np.sqrt(sum((real_landing_point[:,1] - esti_landing_point[:,1]) ** 2) / esti_landing_point.shape[0]))\n",
    "\n",
    "print('R2 Score')\n",
    "print(sum(esti_landing_point[:,0])/ sum(real_landing_point[:,0]))\n",
    "print(sum(esti_landing_point[:,1])/ sum(real_landing_point[:,1]))\n"
   ]
  },
  {
   "cell_type": "code",
   "execution_count": 25,
   "metadata": {},
   "outputs": [
    {
     "data": {
      "text/plain": [
       "(17, 2)"
      ]
     },
     "execution_count": 25,
     "metadata": {},
     "output_type": "execute_result"
    }
   ],
   "source": [
    "esti_landing_point[0].shape"
   ]
  },
  {
   "cell_type": "code",
   "execution_count": 41,
   "metadata": {},
   "outputs": [
    {
     "data": {
      "text/plain": [
       "[0.8809999313354493,\n",
       " 0.8809999313354493,\n",
       " 0.8809999313354493,\n",
       " 0.8809999313354493,\n",
       " 0.8809999313354493,\n",
       " 0.8809999313354493,\n",
       " 0.8809999313354493,\n",
       " 0.8809999313354493,\n",
       " 0.8809999313354493,\n",
       " 0.8809999313354493,\n",
       " 0.8809999313354493,\n",
       " 0.8809999313354493,\n",
       " 0.8809999313354493,\n",
       " 0.8809999313354493,\n",
       " 0.8809999313354493,\n",
       " 0.8809999313354493,\n",
       " 0.8809999313354493,\n",
       " 1.8299999122619628,\n",
       " 1.8299999122619628,\n",
       " 1.8299999122619628,\n",
       " 1.8299999122619628,\n",
       " 1.8299999122619628,\n",
       " 1.8299999122619628,\n",
       " 1.8299999122619628,\n",
       " 1.8299999122619628,\n",
       " 1.8299999122619628,\n",
       " 1.8299999122619628,\n",
       " 1.8299999122619628,\n",
       " 1.8299999122619628,\n",
       " 1.8299999122619628,\n",
       " 1.8299999122619628,\n",
       " 1.8299999122619628,\n",
       " 1.8299999122619628,\n",
       " 1.8299999122619628,\n",
       " 0.09599998855590819,\n",
       " 0.09599998855590819,\n",
       " 0.09599998855590819,\n",
       " 0.09599998855590819,\n",
       " 0.09599998855590819,\n",
       " 0.09599998855590819,\n",
       " 0.09599998855590819,\n",
       " 0.09599998855590819,\n",
       " 0.09599998855590819,\n",
       " 0.09599998855590819,\n",
       " 0.09599998855590819,\n",
       " 0.09599998855590819,\n",
       " 0.09599998855590819,\n",
       " 0.09599998855590819,\n",
       " 0.09599998855590819,\n",
       " 0.09599998855590819,\n",
       " 0.09599998855590819,\n",
       " 0.19399995994567876,\n",
       " 0.19399995994567876,\n",
       " 0.19399995994567876,\n",
       " 0.19399995994567876,\n",
       " 0.19399995994567876,\n",
       " 0.19399995994567876,\n",
       " 0.19399995994567876,\n",
       " 0.19399995994567876,\n",
       " 0.19399995994567876,\n",
       " 0.19399995994567876,\n",
       " 0.19399995994567876,\n",
       " 0.19399995994567876,\n",
       " 0.19399995994567876,\n",
       " 0.19399995994567876,\n",
       " 0.19399995994567876,\n",
       " 0.19399995994567876,\n",
       " 0.19399995994567876,\n",
       " 2.8310000391006467,\n",
       " 2.8310000391006467,\n",
       " 2.8310000391006467,\n",
       " 2.8310000391006467,\n",
       " 2.8310000391006467,\n",
       " 2.8310000391006467,\n",
       " 2.8310000391006467,\n",
       " 2.8310000391006467,\n",
       " 2.8310000391006467,\n",
       " 2.8310000391006467,\n",
       " 2.8310000391006467,\n",
       " 2.8310000391006467,\n",
       " 2.8310000391006467,\n",
       " 2.8310000391006467,\n",
       " 2.8310000391006467,\n",
       " 2.8310000391006467,\n",
       " 2.8310000391006467,\n",
       " 0.5510000286102295,\n",
       " 0.5510000286102295,\n",
       " 0.5510000286102295,\n",
       " 0.5510000286102295,\n",
       " 0.5510000286102295,\n",
       " 0.5510000286102295,\n",
       " 0.5510000286102295,\n",
       " 0.5510000286102295,\n",
       " 0.5510000286102295,\n",
       " 0.5510000286102295,\n",
       " 0.5510000286102295,\n",
       " 0.5510000286102295,\n",
       " 0.5510000286102295,\n",
       " 0.5510000286102295,\n",
       " 0.5510000286102295,\n",
       " 0.5510000286102295,\n",
       " 0.5510000286102295,\n",
       " 2.056999954223633,\n",
       " 2.056999954223633,\n",
       " 2.056999954223633,\n",
       " 2.056999954223633,\n",
       " 2.056999954223633,\n",
       " 2.056999954223633,\n",
       " 2.056999954223633,\n",
       " 2.056999954223633,\n",
       " 2.056999954223633,\n",
       " 2.056999954223633,\n",
       " 2.056999954223633,\n",
       " 2.056999954223633,\n",
       " 2.056999954223633,\n",
       " 2.056999954223633,\n",
       " 2.056999954223633,\n",
       " 2.056999954223633,\n",
       " 2.056999954223633,\n",
       " 1.2129999313354491,\n",
       " 1.2129999313354491,\n",
       " 1.2129999313354491,\n",
       " 1.2129999313354491,\n",
       " 1.2129999313354491,\n",
       " 1.2129999313354491,\n",
       " 1.2129999313354491,\n",
       " 1.2129999313354491,\n",
       " 1.2129999313354491,\n",
       " 1.2129999313354491,\n",
       " 1.2129999313354491,\n",
       " 1.2129999313354491,\n",
       " 1.2129999313354491,\n",
       " 1.2129999313354491,\n",
       " 1.2129999313354491,\n",
       " 1.2129999313354491,\n",
       " 1.2129999313354491,\n",
       " 1.5089999599456787,\n",
       " 1.5089999599456787,\n",
       " 1.5089999599456787,\n",
       " 1.5089999599456787,\n",
       " 1.5089999599456787,\n",
       " 1.5089999599456787,\n",
       " 1.5089999599456787,\n",
       " 1.5089999599456787,\n",
       " 1.5089999599456787,\n",
       " 1.5089999599456787,\n",
       " 1.5089999599456787,\n",
       " 1.5089999599456787,\n",
       " 1.5089999599456787,\n",
       " 1.5089999599456787,\n",
       " 1.5089999599456787,\n",
       " 1.5089999599456787,\n",
       " 1.5089999599456787,\n",
       " 1.092999984741211,\n",
       " 1.092999984741211,\n",
       " 1.092999984741211,\n",
       " 1.092999984741211,\n",
       " 1.092999984741211,\n",
       " 1.092999984741211,\n",
       " 1.092999984741211,\n",
       " 1.092999984741211,\n",
       " 1.092999984741211,\n",
       " 1.092999984741211,\n",
       " 1.092999984741211,\n",
       " 1.092999984741211,\n",
       " 1.092999984741211,\n",
       " 1.092999984741211,\n",
       " 1.092999984741211,\n",
       " 1.092999984741211,\n",
       " 1.092999984741211,\n",
       " 1.298999942779541,\n",
       " 1.298999942779541,\n",
       " 1.298999942779541,\n",
       " 1.298999942779541,\n",
       " 1.298999942779541,\n",
       " 1.298999942779541,\n",
       " 1.298999942779541,\n",
       " 1.298999942779541,\n",
       " 1.298999942779541,\n",
       " 1.298999942779541,\n",
       " 1.298999942779541,\n",
       " 1.298999942779541,\n",
       " 1.298999942779541,\n",
       " 1.298999942779541,\n",
       " 1.298999942779541,\n",
       " 1.298999942779541,\n",
       " 1.298999942779541,\n",
       " 0.4669999656677244,\n",
       " 0.4669999656677244,\n",
       " 0.4669999656677244,\n",
       " 0.4669999656677244,\n",
       " 0.4669999656677244,\n",
       " 0.4669999656677244,\n",
       " 0.4669999656677244,\n",
       " 0.4669999656677244,\n",
       " 0.4669999656677244,\n",
       " 0.4669999656677244,\n",
       " 0.4669999656677244,\n",
       " 0.4669999656677244,\n",
       " 0.4669999656677244,\n",
       " 0.4669999656677244,\n",
       " 0.4669999656677244,\n",
       " 0.4669999656677244,\n",
       " 0.4669999656677244,\n",
       " 1.9810000400543215,\n",
       " 1.9810000400543215,\n",
       " 1.9810000400543215,\n",
       " 1.9810000400543215,\n",
       " 1.9810000400543215,\n",
       " 1.9810000400543215,\n",
       " 1.9810000400543215,\n",
       " 1.9810000400543215,\n",
       " 1.9810000400543215,\n",
       " 1.9810000400543215,\n",
       " 1.9810000400543215,\n",
       " 1.9810000400543215,\n",
       " 1.9810000400543215,\n",
       " 1.9810000400543215,\n",
       " 1.9810000400543215,\n",
       " 1.9810000400543215,\n",
       " 1.9810000400543215,\n",
       " 0.7540000171661378,\n",
       " 0.7540000171661378,\n",
       " 0.7540000171661378,\n",
       " 0.7540000171661378,\n",
       " 0.7540000171661378,\n",
       " 0.7540000171661378,\n",
       " 0.7540000171661378,\n",
       " 0.7540000171661378,\n",
       " 0.7540000171661378,\n",
       " 0.7540000171661378,\n",
       " 0.7540000171661378,\n",
       " 0.7540000171661378,\n",
       " 0.7540000171661378,\n",
       " 0.7540000171661378,\n",
       " 0.7540000171661378,\n",
       " 0.7540000171661378,\n",
       " 0.7540000171661378,\n",
       " 0.15499996757507306,\n",
       " 0.15499996757507306,\n",
       " 0.15499996757507306,\n",
       " 0.15499996757507306,\n",
       " 0.15499996757507306,\n",
       " 0.15499996757507306,\n",
       " 0.15499996757507306,\n",
       " 0.15499996757507306,\n",
       " 0.15499996757507306,\n",
       " 0.15499996757507306,\n",
       " 0.15499996757507306,\n",
       " 0.15499996757507306,\n",
       " 0.15499996757507306,\n",
       " 0.15499996757507306,\n",
       " 0.15499996757507306,\n",
       " 0.15499996757507306,\n",
       " 0.15499996757507306,\n",
       " 1.1200000743865965,\n",
       " 1.1200000743865965,\n",
       " 1.1200000743865965,\n",
       " 1.1200000743865965,\n",
       " 1.1200000743865965,\n",
       " 1.1200000743865965,\n",
       " 1.1200000743865965,\n",
       " 1.1200000743865965,\n",
       " 1.1200000743865965,\n",
       " 1.1200000743865965,\n",
       " 1.1200000743865965,\n",
       " 1.1200000743865965,\n",
       " 1.1200000743865965,\n",
       " 1.1200000743865965,\n",
       " 1.1200000743865965,\n",
       " 1.1200000743865965,\n",
       " 1.1200000743865965,\n",
       " 2.0290000104904173,\n",
       " 2.0290000104904173,\n",
       " 2.0290000104904173,\n",
       " 2.0290000104904173,\n",
       " 2.0290000104904173,\n",
       " 2.0290000104904173,\n",
       " 2.0290000104904173,\n",
       " 2.0290000104904173,\n",
       " 2.0290000104904173,\n",
       " 2.0290000104904173,\n",
       " 2.0290000104904173,\n",
       " 2.0290000104904173,\n",
       " 2.0290000104904173,\n",
       " 2.0290000104904173,\n",
       " 2.0290000104904173,\n",
       " 2.0290000104904173,\n",
       " 2.0290000104904173,\n",
       " 0.47599990081787125,\n",
       " 0.47599990081787125,\n",
       " 0.47599990081787125,\n",
       " 0.47599990081787125,\n",
       " 0.47599990081787125,\n",
       " 0.47599990081787125,\n",
       " 0.47599990081787125,\n",
       " 0.47599990081787125,\n",
       " 0.47599990081787125,\n",
       " 0.47599990081787125,\n",
       " 0.47599990081787125,\n",
       " 0.47599990081787125,\n",
       " 0.47599990081787125,\n",
       " 0.47599990081787125,\n",
       " 0.47599990081787125,\n",
       " 0.47599990081787125,\n",
       " 0.47599990081787125,\n",
       " 1.754000062942505,\n",
       " 1.754000062942505,\n",
       " 1.754000062942505,\n",
       " 1.754000062942505,\n",
       " 1.754000062942505,\n",
       " 1.754000062942505,\n",
       " 1.754000062942505,\n",
       " 1.754000062942505,\n",
       " 1.754000062942505,\n",
       " 1.754000062942505,\n",
       " 1.754000062942505,\n",
       " 1.754000062942505,\n",
       " 1.754000062942505,\n",
       " 1.754000062942505,\n",
       " 1.754000062942505,\n",
       " 1.754000062942505,\n",
       " 1.754000062942505,\n",
       " 1.1269999103546144,\n",
       " 1.1269999103546144,\n",
       " 1.1269999103546144,\n",
       " 1.1269999103546144,\n",
       " 1.1269999103546144,\n",
       " 1.1269999103546144,\n",
       " 1.1269999103546144,\n",
       " 1.1269999103546144,\n",
       " 1.1269999103546144,\n",
       " 1.1269999103546144,\n",
       " 1.1269999103546144,\n",
       " 1.1269999103546144,\n",
       " 1.1269999103546144,\n",
       " 1.1269999103546144,\n",
       " 1.1269999103546144,\n",
       " 1.1269999103546144,\n",
       " 1.1269999103546144,\n",
       " 2.8589999972581865,\n",
       " 2.8589999972581865,\n",
       " 2.8589999972581865,\n",
       " 2.8589999972581865,\n",
       " 2.8589999972581865,\n",
       " 2.8589999972581865,\n",
       " 2.8589999972581865,\n",
       " 2.8589999972581865,\n",
       " 2.8589999972581865,\n",
       " 2.8589999972581865,\n",
       " 2.8589999972581865,\n",
       " 2.8589999972581865,\n",
       " 2.8589999972581865,\n",
       " 2.8589999972581865,\n",
       " 2.8589999972581865,\n",
       " 2.8589999972581865,\n",
       " 2.8589999972581865,\n",
       " 1.4469999618530274,\n",
       " 1.4469999618530274,\n",
       " 1.4469999618530274,\n",
       " 1.4469999618530274,\n",
       " 1.4469999618530274,\n",
       " 1.4469999618530274,\n",
       " 1.4469999618530274,\n",
       " 1.4469999618530274,\n",
       " 1.4469999618530274,\n",
       " 1.4469999618530274,\n",
       " 1.4469999618530274,\n",
       " 1.4469999618530274,\n",
       " 1.4469999618530274,\n",
       " 1.4469999618530274,\n",
       " 1.4469999618530274,\n",
       " 1.4469999618530274,\n",
       " 1.4469999618530274,\n",
       " 0.026000003814697248,\n",
       " 0.026000003814697248,\n",
       " 0.026000003814697248,\n",
       " 0.026000003814697248,\n",
       " 0.026000003814697248,\n",
       " 0.026000003814697248,\n",
       " 0.026000003814697248,\n",
       " 0.026000003814697248,\n",
       " 0.026000003814697248,\n",
       " 0.026000003814697248,\n",
       " 0.026000003814697248,\n",
       " 0.026000003814697248,\n",
       " 0.026000003814697248,\n",
       " 0.026000003814697248,\n",
       " 0.026000003814697248,\n",
       " 0.026000003814697248,\n",
       " 0.026000003814697248,\n",
       " 1.1899999713897706,\n",
       " 1.1899999713897706,\n",
       " 1.1899999713897706,\n",
       " 1.1899999713897706,\n",
       " 1.1899999713897706,\n",
       " 1.1899999713897706,\n",
       " 1.1899999713897706,\n",
       " 1.1899999713897706,\n",
       " 1.1899999713897706,\n",
       " 1.1899999713897706,\n",
       " 1.1899999713897706,\n",
       " 1.1899999713897706,\n",
       " 1.1899999713897706,\n",
       " 1.1899999713897706,\n",
       " 1.1899999713897706,\n",
       " 1.1899999713897706,\n",
       " 1.1899999713897706,\n",
       " 1.152000078201294,\n",
       " 1.152000078201294,\n",
       " 1.152000078201294,\n",
       " 1.152000078201294,\n",
       " 1.152000078201294,\n",
       " 1.152000078201294,\n",
       " 1.152000078201294,\n",
       " 1.152000078201294,\n",
       " 1.152000078201294,\n",
       " 1.152000078201294,\n",
       " 1.152000078201294,\n",
       " 1.152000078201294,\n",
       " 1.152000078201294,\n",
       " 1.152000078201294,\n",
       " 1.152000078201294,\n",
       " 1.152000078201294,\n",
       " 1.152000078201294,\n",
       " 3.659000000357628,\n",
       " 3.659000000357628,\n",
       " 3.659000000357628,\n",
       " 3.659000000357628,\n",
       " 3.659000000357628,\n",
       " 3.659000000357628,\n",
       " 3.659000000357628,\n",
       " 3.659000000357628,\n",
       " 3.659000000357628,\n",
       " 3.659000000357628,\n",
       " 3.659000000357628,\n",
       " 3.659000000357628,\n",
       " 3.659000000357628,\n",
       " 3.659000000357628,\n",
       " 3.659000000357628,\n",
       " 3.659000000357628,\n",
       " 3.659000000357628,\n",
       " 1.8810000495910648,\n",
       " 1.8810000495910648,\n",
       " 1.8810000495910648,\n",
       " 1.8810000495910648,\n",
       " 1.8810000495910648,\n",
       " 1.8810000495910648,\n",
       " 1.8810000495910648,\n",
       " 1.8810000495910648,\n",
       " 1.8810000495910648,\n",
       " 1.8810000495910648,\n",
       " 1.8810000495910648,\n",
       " 1.8810000495910648,\n",
       " 1.8810000495910648,\n",
       " 1.8810000495910648,\n",
       " 1.8810000495910648,\n",
       " 1.8810000495910648,\n",
       " 1.8810000495910648,\n",
       " 1.615000022888184,\n",
       " 1.615000022888184,\n",
       " 1.615000022888184,\n",
       " 1.615000022888184,\n",
       " 1.615000022888184,\n",
       " 1.615000022888184,\n",
       " 1.615000022888184,\n",
       " 1.615000022888184,\n",
       " 1.615000022888184,\n",
       " 1.615000022888184,\n",
       " 1.615000022888184,\n",
       " 1.615000022888184,\n",
       " 1.615000022888184,\n",
       " 1.615000022888184,\n",
       " 1.615000022888184,\n",
       " 1.615000022888184,\n",
       " 1.615000022888184,\n",
       " 2.784000011920929,\n",
       " 2.784000011920929,\n",
       " 2.784000011920929,\n",
       " 2.784000011920929,\n",
       " 2.784000011920929,\n",
       " 2.784000011920929,\n",
       " 2.784000011920929,\n",
       " 2.784000011920929,\n",
       " 2.784000011920929,\n",
       " 2.784000011920929,\n",
       " 2.784000011920929,\n",
       " 2.784000011920929,\n",
       " 2.784000011920929,\n",
       " 2.784000011920929,\n",
       " 2.784000011920929,\n",
       " 2.784000011920929,\n",
       " 2.784000011920929,\n",
       " 0.735999967575073,\n",
       " 0.735999967575073,\n",
       " 0.735999967575073,\n",
       " 0.735999967575073,\n",
       " 0.735999967575073,\n",
       " 0.735999967575073,\n",
       " 0.735999967575073,\n",
       " 0.735999967575073,\n",
       " 0.735999967575073,\n",
       " 0.735999967575073,\n",
       " 0.735999967575073,\n",
       " 0.735999967575073,\n",
       " 0.735999967575073,\n",
       " 0.735999967575073,\n",
       " 0.735999967575073,\n",
       " 0.735999967575073,\n",
       " 0.735999967575073,\n",
       " 1.5029999103546139,\n",
       " 1.5029999103546139,\n",
       " 1.5029999103546139,\n",
       " 1.5029999103546139,\n",
       " 1.5029999103546139,\n",
       " 1.5029999103546139,\n",
       " 1.5029999103546139,\n",
       " 1.5029999103546139,\n",
       " 1.5029999103546139,\n",
       " 1.5029999103546139,\n",
       " 1.5029999103546139,\n",
       " 1.5029999103546139,\n",
       " 1.5029999103546139,\n",
       " 1.5029999103546139,\n",
       " 1.5029999103546139,\n",
       " 1.5029999103546139,\n",
       " 1.5029999103546139,\n",
       " 0.30399994468688973,\n",
       " 0.30399994468688973,\n",
       " 0.30399994468688973,\n",
       " 0.30399994468688973,\n",
       " 0.30399994468688973,\n",
       " 0.30399994468688973,\n",
       " 0.30399994468688973,\n",
       " 0.30399994468688973,\n",
       " 0.30399994468688973,\n",
       " 0.30399994468688973,\n",
       " 0.30399994468688973,\n",
       " 0.30399994468688973,\n",
       " 0.30399994468688973,\n",
       " 0.30399994468688973,\n",
       " 0.30399994468688973,\n",
       " 0.30399994468688973,\n",
       " 0.30399994468688973,\n",
       " 1.1490000762939454,\n",
       " 1.1490000762939454,\n",
       " 1.1490000762939454,\n",
       " 1.1490000762939454,\n",
       " 1.1490000762939454,\n",
       " 1.1490000762939454,\n",
       " 1.1490000762939454,\n",
       " 1.1490000762939454,\n",
       " 1.1490000762939454,\n",
       " 1.1490000762939454,\n",
       " 1.1490000762939454,\n",
       " 1.1490000762939454,\n",
       " 1.1490000762939454,\n",
       " 1.1490000762939454,\n",
       " 1.1490000762939454,\n",
       " 1.1490000762939454,\n",
       " 1.1490000762939454,\n",
       " 2.2149999570846557,\n",
       " 2.2149999570846557,\n",
       " 2.2149999570846557,\n",
       " 2.2149999570846557,\n",
       " 2.2149999570846557,\n",
       " 2.2149999570846557,\n",
       " 2.2149999570846557,\n",
       " 2.2149999570846557,\n",
       " 2.2149999570846557,\n",
       " 2.2149999570846557,\n",
       " 2.2149999570846557,\n",
       " 2.2149999570846557,\n",
       " 2.2149999570846557,\n",
       " 2.2149999570846557,\n",
       " 2.2149999570846557,\n",
       " 2.2149999570846557,\n",
       " 2.2149999570846557,\n",
       " 2.670999979972839,\n",
       " 2.670999979972839,\n",
       " 2.670999979972839,\n",
       " 2.670999979972839,\n",
       " 2.670999979972839,\n",
       " 2.670999979972839,\n",
       " 2.670999979972839,\n",
       " 2.670999979972839,\n",
       " 2.670999979972839,\n",
       " 2.670999979972839,\n",
       " 2.670999979972839,\n",
       " 2.670999979972839,\n",
       " 2.670999979972839,\n",
       " 2.670999979972839,\n",
       " 2.670999979972839,\n",
       " 2.670999979972839,\n",
       " 2.670999979972839,\n",
       " 1.6570000524520876,\n",
       " 1.6570000524520876,\n",
       " 1.6570000524520876,\n",
       " 1.6570000524520876,\n",
       " 1.6570000524520876,\n",
       " 1.6570000524520876,\n",
       " 1.6570000524520876,\n",
       " 1.6570000524520876,\n",
       " 1.6570000524520876,\n",
       " 1.6570000524520876,\n",
       " 1.6570000524520876,\n",
       " 1.6570000524520876,\n",
       " 1.6570000524520876,\n",
       " 1.6570000524520876,\n",
       " 1.6570000524520876,\n",
       " 1.6570000524520876,\n",
       " 1.6570000524520876,\n",
       " 1.1609999656677248,\n",
       " 1.1609999656677248,\n",
       " 1.1609999656677248,\n",
       " 1.1609999656677248,\n",
       " 1.1609999656677248,\n",
       " 1.1609999656677248,\n",
       " 1.1609999656677248,\n",
       " 1.1609999656677248,\n",
       " 1.1609999656677248,\n",
       " 1.1609999656677248,\n",
       " 1.1609999656677248,\n",
       " 1.1609999656677248,\n",
       " 1.1609999656677248,\n",
       " 1.1609999656677248,\n",
       " 1.1609999656677248,\n",
       " 1.1609999656677248,\n",
       " 1.1609999656677248,\n",
       " 0.578999906539917,\n",
       " 0.578999906539917,\n",
       " 0.578999906539917,\n",
       " 0.578999906539917,\n",
       " 0.578999906539917,\n",
       " 0.578999906539917,\n",
       " 0.578999906539917,\n",
       " 0.578999906539917,\n",
       " 0.578999906539917,\n",
       " 0.578999906539917,\n",
       " 0.578999906539917,\n",
       " 0.578999906539917,\n",
       " 0.578999906539917,\n",
       " 0.578999906539917,\n",
       " 0.578999906539917,\n",
       " 0.578999906539917,\n",
       " 0.578999906539917,\n",
       " 1.3900000591278077,\n",
       " 1.3900000591278077,\n",
       " 1.3900000591278077,\n",
       " 1.3900000591278077,\n",
       " 1.3900000591278077,\n",
       " 1.3900000591278077,\n",
       " 1.3900000591278077,\n",
       " 1.3900000591278077,\n",
       " 1.3900000591278077,\n",
       " 1.3900000591278077,\n",
       " 1.3900000591278077,\n",
       " 1.3900000591278077,\n",
       " 1.3900000591278077,\n",
       " 1.3900000591278077,\n",
       " 1.3900000591278077,\n",
       " 1.3900000591278077,\n",
       " 1.3900000591278077,\n",
       " 0.152999942779541,\n",
       " 0.152999942779541,\n",
       " 0.152999942779541,\n",
       " 0.152999942779541,\n",
       " 0.152999942779541,\n",
       " 0.152999942779541,\n",
       " 0.152999942779541,\n",
       " 0.152999942779541,\n",
       " 0.152999942779541,\n",
       " 0.152999942779541,\n",
       " 0.152999942779541,\n",
       " 0.152999942779541,\n",
       " 0.152999942779541,\n",
       " 0.152999942779541,\n",
       " 0.152999942779541,\n",
       " 0.152999942779541,\n",
       " 0.152999942779541,\n",
       " 4.228999973297119,\n",
       " 4.228999973297119,\n",
       " 4.228999973297119,\n",
       " 4.228999973297119,\n",
       " 4.228999973297119,\n",
       " 4.228999973297119,\n",
       " 4.228999973297119,\n",
       " 4.228999973297119,\n",
       " 4.228999973297119,\n",
       " 4.228999973297119,\n",
       " 4.228999973297119,\n",
       " 4.228999973297119,\n",
       " 4.228999973297119,\n",
       " 4.228999973297119,\n",
       " 4.228999973297119,\n",
       " 4.228999973297119,\n",
       " 4.228999973297119,\n",
       " 1.9820000438690188,\n",
       " 1.9820000438690188,\n",
       " 1.9820000438690188,\n",
       " 1.9820000438690188,\n",
       " 1.9820000438690188,\n",
       " 1.9820000438690188,\n",
       " 1.9820000438690188,\n",
       " 1.9820000438690188,\n",
       " 1.9820000438690188,\n",
       " 1.9820000438690188,\n",
       " 1.9820000438690188,\n",
       " 1.9820000438690188,\n",
       " 1.9820000438690188,\n",
       " 1.9820000438690188,\n",
       " 1.9820000438690188,\n",
       " 1.9820000438690188,\n",
       " 1.9820000438690188,\n",
       " 1.6570000019073485,\n",
       " 1.6570000019073485,\n",
       " 1.6570000019073485,\n",
       " 1.6570000019073485,\n",
       " 1.6570000019073485,\n",
       " 1.6570000019073485,\n",
       " 1.6570000019073485,\n",
       " 1.6570000019073485,\n",
       " 1.6570000019073485,\n",
       " 1.6570000019073485,\n",
       " 1.6570000019073485,\n",
       " 1.6570000019073485,\n",
       " 1.6570000019073485,\n",
       " 1.6570000019073485,\n",
       " 1.6570000019073485,\n",
       " 1.6570000019073485,\n",
       " 1.6570000019073485,\n",
       " 3.139000001430511,\n",
       " 3.139000001430511,\n",
       " 3.139000001430511,\n",
       " 3.139000001430511,\n",
       " 3.139000001430511,\n",
       " 3.139000001430511,\n",
       " 3.139000001430511,\n",
       " 3.139000001430511,\n",
       " 3.139000001430511,\n",
       " 3.139000001430511,\n",
       " 3.139000001430511,\n",
       " 3.139000001430511,\n",
       " 3.139000001430511,\n",
       " 3.139000001430511,\n",
       " 3.139000001430511,\n",
       " 3.139000001430511,\n",
       " 3.139000001430511,\n",
       " 1.4260000352859499,\n",
       " 1.4260000352859499,\n",
       " 1.4260000352859499,\n",
       " 1.4260000352859499,\n",
       " 1.4260000352859499,\n",
       " 1.4260000352859499,\n",
       " 1.4260000352859499,\n",
       " 1.4260000352859499,\n",
       " 1.4260000352859499,\n",
       " 1.4260000352859499,\n",
       " 1.4260000352859499,\n",
       " 1.4260000352859499,\n",
       " 1.4260000352859499,\n",
       " 1.4260000352859499,\n",
       " 1.4260000352859499,\n",
       " 1.4260000352859499,\n",
       " 1.4260000352859499,\n",
       " 1.7439999504089352,\n",
       " 1.7439999504089352,\n",
       " 1.7439999504089352,\n",
       " 1.7439999504089352,\n",
       " 1.7439999504089352,\n",
       " 1.7439999504089352,\n",
       " 1.7439999504089352,\n",
       " 1.7439999504089352,\n",
       " 1.7439999504089352,\n",
       " 1.7439999504089352,\n",
       " 1.7439999504089352,\n",
       " 1.7439999504089352,\n",
       " 1.7439999504089352,\n",
       " 1.7439999504089352,\n",
       " 1.7439999504089352,\n",
       " 1.7439999504089352,\n",
       " 1.7439999504089352,\n",
       " 0.2859999961853026,\n",
       " 0.2859999961853026,\n",
       " 0.2859999961853026,\n",
       " 0.2859999961853026,\n",
       " 0.2859999961853026,\n",
       " 0.2859999961853026,\n",
       " 0.2859999961853026,\n",
       " 0.2859999961853026,\n",
       " 0.2859999961853026,\n",
       " 0.2859999961853026,\n",
       " 0.2859999961853026,\n",
       " 0.2859999961853026,\n",
       " 0.2859999961853026,\n",
       " 0.2859999961853026,\n",
       " 0.2859999961853026,\n",
       " 0.2859999961853026,\n",
       " 0.2859999961853026,\n",
       " 1.2799999294281004,\n",
       " 1.2799999294281004,\n",
       " 1.2799999294281004,\n",
       " 1.2799999294281004,\n",
       " 1.2799999294281004,\n",
       " 1.2799999294281004,\n",
       " 1.2799999294281004,\n",
       " 1.2799999294281004,\n",
       " 1.2799999294281004,\n",
       " 1.2799999294281004,\n",
       " 1.2799999294281004,\n",
       " 1.2799999294281004,\n",
       " 1.2799999294281004,\n",
       " 1.2799999294281004,\n",
       " 1.2799999294281004,\n",
       " 1.2799999294281004,\n",
       " 1.2799999294281004,\n",
       " 1.1870000820159912,\n",
       " 1.1870000820159912,\n",
       " 1.1870000820159912,\n",
       " 1.1870000820159912,\n",
       " 1.1870000820159912,\n",
       " 1.1870000820159912,\n",
       " 1.1870000820159912,\n",
       " 1.1870000820159912,\n",
       " 1.1870000820159912,\n",
       " 1.1870000820159912,\n",
       " 1.1870000820159912,\n",
       " 1.1870000820159912,\n",
       " 1.1870000820159912,\n",
       " 1.1870000820159912,\n",
       " 1.1870000820159912,\n",
       " 1.1870000820159912,\n",
       " 1.1870000820159912,\n",
       " 1.1229999485015871,\n",
       " 1.1229999485015871,\n",
       " 1.1229999485015871,\n",
       " 1.1229999485015871,\n",
       " 1.1229999485015871,\n",
       " 1.1229999485015871,\n",
       " 1.1229999485015871,\n",
       " 1.1229999485015871,\n",
       " 1.1229999485015871,\n",
       " 1.1229999485015871,\n",
       " 1.1229999485015871,\n",
       " 1.1229999485015871,\n",
       " 1.1229999485015871,\n",
       " 1.1229999485015871,\n",
       " 1.1229999485015871,\n",
       " 1.1229999485015871,\n",
       " 1.1229999485015871,\n",
       " 0.07400011253356942,\n",
       " 0.07400011253356942,\n",
       " 0.07400011253356942,\n",
       " 0.07400011253356942,\n",
       " 0.07400011253356942,\n",
       " 0.07400011253356942,\n",
       " 0.07400011253356942,\n",
       " 0.07400011253356942,\n",
       " 0.07400011253356942,\n",
       " 0.07400011253356942,\n",
       " 0.07400011253356942,\n",
       " 0.07400011253356942,\n",
       " 0.07400011253356942,\n",
       " 0.07400011253356942,\n",
       " 0.07400011253356942,\n",
       " 0.07400011253356942,\n",
       " 0.07400011253356942,\n",
       " 4.256000000476837,\n",
       " 4.256000000476837,\n",
       " 4.256000000476837,\n",
       " 4.256000000476837,\n",
       " 4.256000000476837,\n",
       " 4.256000000476837,\n",
       " 4.256000000476837,\n",
       " 4.256000000476837,\n",
       " 4.256000000476837,\n",
       " 4.256000000476837,\n",
       " 4.256000000476837,\n",
       " 4.256000000476837,\n",
       " 4.256000000476837,\n",
       " 4.256000000476837,\n",
       " 4.256000000476837,\n",
       " 4.256000000476837,\n",
       " 4.256000000476837,\n",
       " 0.7960000038146973,\n",
       " 0.7960000038146973,\n",
       " 0.7960000038146973,\n",
       " 0.7960000038146973,\n",
       " 0.7960000038146973,\n",
       " 0.7960000038146973,\n",
       " 0.7960000038146973,\n",
       " 0.7960000038146973,\n",
       " 0.7960000038146973,\n",
       " 0.7960000038146973,\n",
       " 0.7960000038146973,\n",
       " 0.7960000038146973,\n",
       " 0.7960000038146973,\n",
       " 0.7960000038146973,\n",
       " 0.7960000038146973,\n",
       " 0.7960000038146973,\n",
       " 0.7960000038146973,\n",
       " 1.5220000162124632,\n",
       " 1.5220000162124632,\n",
       " 1.5220000162124632,\n",
       " 1.5220000162124632,\n",
       " 1.5220000162124632,\n",
       " 1.5220000162124632,\n",
       " 1.5220000162124632,\n",
       " 1.5220000162124632,\n",
       " 1.5220000162124632,\n",
       " 1.5220000162124632,\n",
       " 1.5220000162124632,\n",
       " 1.5220000162124632,\n",
       " 1.5220000162124632,\n",
       " 1.5220000162124632,\n",
       " 1.5220000162124632,\n",
       " 1.5220000162124632,\n",
       " 1.5220000162124632,\n",
       " 0.2509999084472656,\n",
       " 0.2509999084472656,\n",
       " 0.2509999084472656,\n",
       " 0.2509999084472656,\n",
       " 0.2509999084472656,\n",
       " 0.2509999084472656,\n",
       " 0.2509999084472656,\n",
       " 0.2509999084472656,\n",
       " 0.2509999084472656,\n",
       " 0.2509999084472656,\n",
       " 0.2509999084472656,\n",
       " 0.2509999084472656,\n",
       " 0.2509999084472656,\n",
       " 0.2509999084472656,\n",
       " 0.2509999084472656,\n",
       " 0.2509999084472656,\n",
       " 0.2509999084472656,\n",
       " 1.1899999103546142,\n",
       " 1.1899999103546142,\n",
       " 1.1899999103546142,\n",
       " 1.1899999103546142,\n",
       " 1.1899999103546142,\n",
       " 1.1899999103546142,\n",
       " 1.1899999103546142,\n",
       " 1.1899999103546142,\n",
       " 1.1899999103546142,\n",
       " 1.1899999103546142,\n",
       " 1.1899999103546142,\n",
       " 1.1899999103546142,\n",
       " 1.1899999103546142,\n",
       " 1.1899999103546142,\n",
       " 1.1899999103546142,\n",
       " 1.1899999103546142,\n",
       " 1.1899999103546142,\n",
       " 2.3250000572204588,\n",
       " 2.3250000572204588,\n",
       " 2.3250000572204588,\n",
       " 2.3250000572204588,\n",
       " 2.3250000572204588,\n",
       " 2.3250000572204588,\n",
       " 2.3250000572204588,\n",
       " 2.3250000572204588,\n",
       " 2.3250000572204588,\n",
       " 2.3250000572204588,\n",
       " 2.3250000572204588,\n",
       " 2.3250000572204588,\n",
       " 2.3250000572204588,\n",
       " 2.3250000572204588,\n",
       " 2.3250000572204588,\n",
       " 2.3250000572204588,\n",
       " 2.3250000572204588,\n",
       " 1.708000040054321,\n",
       " 1.708000040054321,\n",
       " 1.708000040054321,\n",
       " 1.708000040054321,\n",
       " 1.708000040054321,\n",
       " 1.708000040054321,\n",
       " 1.708000040054321,\n",
       " 1.708000040054321,\n",
       " 1.708000040054321,\n",
       " 1.708000040054321,\n",
       " 1.708000040054321,\n",
       " 1.708000040054321,\n",
       " 1.708000040054321,\n",
       " 1.708000040054321,\n",
       " 1.708000040054321,\n",
       " 1.708000040054321,\n",
       " 1.708000040054321,\n",
       " 1.30100002861023,\n",
       " 1.30100002861023,\n",
       " 1.30100002861023,\n",
       " 1.30100002861023,\n",
       " 1.30100002861023,\n",
       " 1.30100002861023,\n",
       " 1.30100002861023,\n",
       " 1.30100002861023,\n",
       " 1.30100002861023,\n",
       " 1.30100002861023,\n",
       " 1.30100002861023,\n",
       " 1.30100002861023,\n",
       " 1.30100002861023,\n",
       " 1.30100002861023,\n",
       " ...]"
      ]
     },
     "execution_count": 41,
     "metadata": {},
     "output_type": "execute_result"
    }
   ],
   "source": [
    "MAE_x_list"
   ]
  },
  {
   "cell_type": "code",
   "execution_count": 138,
   "metadata": {},
   "outputs": [
    {
     "data": {
      "text/plain": [
       "array([[ 0.   ,  0.   ],\n",
       "       [ 0.   ,  0.   ],\n",
       "       [ 0.   ,  0.   ],\n",
       "       [ 0.247, -5.376],\n",
       "       [ 4.906,  0.967],\n",
       "       [ 4.182, -2.307],\n",
       "       [ 3.87 , -2.552],\n",
       "       [ 3.239, -2.347],\n",
       "       [ 5.317, -2.296],\n",
       "       [ 3.959, -2.213],\n",
       "       [ 3.818, -2.477],\n",
       "       [ 3.925, -2.533],\n",
       "       [ 4.194, -2.357],\n",
       "       [ 4.133, -2.464],\n",
       "       [ 3.535, -2.42 ],\n",
       "       [ 3.799, -2.286],\n",
       "       [ 4.281, -2.387]], dtype=float32)"
      ]
     },
     "execution_count": 138,
     "metadata": {},
     "output_type": "execute_result"
    }
   ],
   "source": [
    "esti_landing_point[0]"
   ]
  },
  {
   "cell_type": "code",
   "execution_count": null,
   "metadata": {},
   "outputs": [],
   "source": [
    "\n",
    "def cal_drag_lift_force(down_motion, drag_force, lift_force, angle_xy, angle_x, cl):\n",
    "\n",
    "    if down_motion == 0 : \n",
    "\n",
    "        if cl < 0:\n",
    "\n",
    "            drag_force_z = drag_force * np.sin(angle_xy)\n",
    "            drag_force_xy = drag_force * np.cos(angle_xy)\n",
    "            drag_force_x = drag_force_xy * np.cos(angle_x)\n",
    "            drag_force_y = drag_force_xy * np.sin(angle_x)\n",
    "            \n",
    "            lift_force_z = lift_force * np.sin(angle_xy)\n",
    "            lift_force_xy = lift_force * np.cos(angle_xy)\n",
    "            lift_force_x = -lift_force_xy * np.cos(angle_x)\n",
    "            lift_force_y = lift_force_xy * np.sin(angle_x)\n",
    "                \n",
    "        else:\n",
    "\n",
    "            drag_force_z = drag_force * np.sin(angle_xy)\n",
    "            drag_force_xy = drag_force * np.cos(angle_xy)\n",
    "            drag_force_x = drag_force_xy * np.cos(angle_x)\n",
    "            drag_force_y = drag_force_xy * np.sin(angle_x)\n",
    "            \n",
    "            lift_force_z = lift_force * np.sin(angle_xy)\n",
    "            lift_force_xy = lift_force * np.cos(angle_xy)\n",
    "            lift_force_x = -lift_force_xy * np.cos(angle_x)\n",
    "            lift_force_y = lift_force_xy * np.sin(angle_x)\n",
    "        \n",
    "    else:\n",
    "\n",
    "        if cl < 0:\n",
    "\n",
    "            drag_force_z = drag_force * np.sin(angle_xy)\n",
    "            drag_force_xy = drag_force * np.cos(angle_xy)\n",
    "            drag_force_x = drag_force_xy * np.cos(angle_x)\n",
    "            drag_force_y = drag_force_xy * np.sin(angle_x)\n",
    "            \n",
    "            lift_force_z = - lift_force * np.sin(angle_xy)\n",
    "            lift_force_xy = lift_force * np.cos(angle_xy)\n",
    "            lift_force_x = lift_force_xy * np.cos(angle_x)\n",
    "            lift_force_y = lift_force_xy * np.sin(angle_x)\n",
    "\n",
    "        else:\n",
    "\n",
    "            drag_force_z = drag_force * np.sin(angle_xy)\n",
    "            drag_force_xy = drag_force * np.cos(angle_xy)\n",
    "            drag_force_x = drag_force_xy * np.cos(angle_x)\n",
    "            drag_force_y = drag_force_xy * np.sin(angle_x)\n",
    "            \n",
    "            lift_force_z = -lift_force * np.sin(angle_xy)\n",
    "            lift_force_xy = lift_force * np.cos(angle_xy)\n",
    "            lift_force_x = lift_force_xy * np.cos(angle_x)\n",
    "            lift_force_y = -lift_force_xy * np.sin(angle_x)\n",
    "\n",
    "    liftdrag_force_x = drag_force_x + lift_force_x\n",
    "    liftdrag_force_y = drag_force_y + lift_force_y\n",
    "    liftdrag_force_z = drag_force_z + lift_force_z\n",
    "\n",
    "    return liftdrag_force_x, liftdrag_force_y, liftdrag_force_z"
   ]
  },
  {
   "cell_type": "code",
   "execution_count": null,
   "metadata": {},
   "outputs": [],
   "source": [
    "down_motion = 0\n",
    "\n",
    "liftdrag_force_x, liftdrag_force_y, liftdrag_force_z = cal_drag_lift_force(down_motion, drag_force, lift_force, angle_xy, angle_x, cl)\n"
   ]
  }
 ],
 "metadata": {
  "kernelspec": {
   "display_name": "Python 3",
   "language": "python",
   "name": "python3"
  },
  "language_info": {
   "codemirror_mode": {
    "name": "ipython",
    "version": 3
   },
   "file_extension": ".py",
   "mimetype": "text/x-python",
   "name": "python",
   "nbconvert_exporter": "python",
   "pygments_lexer": "ipython3",
   "version": "3.6.13"
  }
 },
 "nbformat": 4,
 "nbformat_minor": 4
}
