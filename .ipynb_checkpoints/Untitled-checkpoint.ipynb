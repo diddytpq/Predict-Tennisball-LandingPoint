{
 "cells": [
  {
   "cell_type": "code",
   "execution_count": 2,
   "metadata": {},
   "outputs": [],
   "source": [
    "import rospy\n",
    "from sensor_msgs.msg import Image\n",
    "import cv2\n",
    "import numpy as np\n",
    "import math\n",
    "import pickle\n",
    "import sys\n",
    "from pathlib import Path\n",
    "\n",
    "from filterpy.kalman import KalmanFilter, UnscentedKalmanFilter, MerweScaledSigmaPoints\n",
    "from filterpy.common import Q_discrete_white_noise\n",
    "\n",
    "from collections import OrderedDict\n",
    "\n",
    "import matplotlib.pyplot as plt\n",
    "from mpl_toolkits.mplot3d import Axes3D\n",
    "\n",
    "from sympy import Symbol, solve"
   ]
  },
  {
   "cell_type": "code",
   "execution_count": null,
   "metadata": {},
   "outputs": [
    {
     "name": "stdout",
     "output_type": "stream",
     "text": [
      "[INFO] [1617877017.954327, 880.760000]: Hello ROS!\n"
     ]
    }
   ],
   "source": [
    " from cv_bridge import CvBridge, CvBridgeError\n",
    "\n",
    " # Print \"Hello ROS!\" to the Terminal and to a ROS Log file located in ~/.ros/log/loghash/*.log\n",
    " rospy.loginfo(\"Hello ROS!\")\n",
    "\n",
    " # Initialize the CvBridge class\n",
    " bridge = CvBridge()\n",
    "\n",
    " # Define a function to show the image in an OpenCV Window\n",
    " def show_image(img):\n",
    "     cv2.imshow(\"Image Window\", img)\n",
    "     cv2.waitKey(3)\n",
    "\n",
    " # Define a callback for the Image message\n",
    " def image_callback(img_msg):\n",
    "     # log some info about the image topic\n",
    "     rospy.loginfo(img_msg.header)\n",
    "\n",
    "     # Try to convert the ROS Image message to a CV2 Image\n",
    "     try:\n",
    "         cv_image = bridge.imgmsg_to_cv2(img_msg, \"passthrough\")\n",
    "        \n",
    "     except CvBridgeError:\n",
    "         rospy.logerr(\"CvBridge Error: {0}\".format(e))\n",
    "\n",
    "     # Show the converted image\n",
    "     show_image(cv_image)\n",
    "\n",
    " # Initalize a subscriber to the \"/camera/rgb/image_raw\" topic with the function \"image_callback\" as a callback\n",
    " sub_image = rospy.Subscriber(\"/camera/rgb/image_raw\", Image, image_callback)\n",
    "\n",
    " # Initialize an OpenCV Window named \"Image Window\"\n",
    " cv2.namedWindow(\"Image Window\", 1)\n",
    "\n",
    " # Loop to keep the program from shutting down unless ROS is shut down, or CTRL+C is pressed\n",
    " while not rospy.is_shutdown():\n",
    "     rospy.spin()"
   ]
  },
  {
   "cell_type": "code",
   "execution_count": 2,
   "metadata": {},
   "outputs": [],
   "source": [
    "def check_velocity(x_vel, y_vel):\n",
    "\n",
    "    if vel_forward < abs(x_vel):\n",
    "        if x_vel > 0: x_vel = vel_forward\n",
    "        else: x_vel = -vel_forward\n",
    "\n",
    "    if vel_lateral < abs(y_vel):\n",
    "        if y_vel > 0: y_vel = vel_lateral\n",
    "        else: y_vel = -vel_lateral"
   ]
  },
  {
   "cell_type": "code",
   "execution_count": 2,
   "metadata": {},
   "outputs": [
    {
     "ename": "NameError",
     "evalue": "name 'robot_x' is not defined",
     "output_type": "error",
     "traceback": [
      "\u001b[0;31m---------------------------------------------------------------------------\u001b[0m",
      "\u001b[0;31mNameError\u001b[0m                                 Traceback (most recent call last)",
      "\u001b[0;32m<ipython-input-2-7c534f203af7>\u001b[0m in \u001b[0;36m<module>\u001b[0;34m\u001b[0m\n\u001b[0;32m----> 1\u001b[0;31m \u001b[0mx_error\u001b[0m \u001b[0;34m=\u001b[0m \u001b[0mrobot_x\u001b[0m \u001b[0;34m-\u001b[0m \u001b[0;34m(\u001b[0m\u001b[0;36m10\u001b[0m\u001b[0;34m)\u001b[0m\u001b[0;34m\u001b[0m\u001b[0;34m\u001b[0m\u001b[0m\n\u001b[0m\u001b[1;32m      2\u001b[0m \u001b[0my_error\u001b[0m \u001b[0;34m=\u001b[0m \u001b[0mrobot_y\u001b[0m\u001b[0;34m\u001b[0m\u001b[0;34m\u001b[0m\u001b[0m\n\u001b[1;32m      3\u001b[0m \u001b[0;34m\u001b[0m\u001b[0m\n\u001b[1;32m      4\u001b[0m \u001b[0mvel_forward_apply\u001b[0m\u001b[0;34m,\u001b[0m \u001b[0mvel_lateral_apply\u001b[0m \u001b[0;34m=\u001b[0m \u001b[0mhome_mecanum\u001b[0m\u001b[0;34m.\u001b[0m\u001b[0mcheck_velocity\u001b[0m\u001b[0;34m(\u001b[0m\u001b[0mhome_mecanum\u001b[0m\u001b[0;34m.\u001b[0m\u001b[0mvel_forward\u001b[0m \u001b[0;34m*\u001b[0m \u001b[0;34m(\u001b[0m\u001b[0mx_error\u001b[0m\u001b[0;34m**\u001b[0m\u001b[0;36m2\u001b[0m\u001b[0;34m)\u001b[0m\u001b[0;34m,\u001b[0m \u001b[0mhome_mecanum\u001b[0m\u001b[0;34m.\u001b[0m\u001b[0mvel_lateral\u001b[0m \u001b[0;34m*\u001b[0m \u001b[0;34m(\u001b[0m\u001b[0my_error\u001b[0m\u001b[0;34m**\u001b[0m\u001b[0;36m2\u001b[0m\u001b[0;34m)\u001b[0m\u001b[0;34m)\u001b[0m\u001b[0;34m\u001b[0m\u001b[0;34m\u001b[0m\u001b[0m\n",
      "\u001b[0;31mNameError\u001b[0m: name 'robot_x' is not defined"
     ]
    }
   ],
   "source": [
    "x_error = robot_x - (10)\n",
    "y_error = robot_y\n",
    "\n",
    "vel_forward_apply, vel_lateral_apply = home_mecanum.check_velocity(home_mecanum.vel_forward * (x_error**2), home_mecanum.vel_lateral * (y_error**2))"
   ]
  },
  {
   "cell_type": "code",
   "execution_count": 5,
   "metadata": {},
   "outputs": [],
   "source": [
    "spawn_pos_z = 0.5\n",
    "ball_fly_time = 0.45\n",
    "vz0 = 9.8 * ball_fly_time"
   ]
  },
  {
   "cell_type": "code",
   "execution_count": 7,
   "metadata": {},
   "outputs": [
    {
     "data": {
      "text/plain": [
       "1.4922499999999999"
      ]
     },
     "execution_count": 7,
     "metadata": {},
     "output_type": "execute_result"
    }
   ],
   "source": [
    "h = spawn_pos_z + vz0 * ball_fly_time - (9.8 * ball_fly_time**2)/2\n",
    "h "
   ]
  },
  {
   "cell_type": "code",
   "execution_count": 66,
   "metadata": {},
   "outputs": [],
   "source": [
    "def rotation_matrix(angle):\n",
    "\n",
    "    return np.array([[np.cos(angle),-np.sin(angle),0],\n",
    "             [np.sin(angle),np.cos(angle),0],\n",
    "             [0,0,1]])\n",
    "\n",
    "def get_wrench(force, torque, matrix):\n",
    "\n",
    "    F = matrix@(np.array(force).reshape([3,1]))\n",
    "    T = matrix@(np.array(torque).reshape([3,1]))\n",
    "    \n",
    "    F = F.reshape([1,3]).tolist()\n",
    "    T = T.reshape([1,3]).tolist()\n",
    "\n",
    "\n",
    "    return F[0], T[0]"
   ]
  },
  {
   "cell_type": "code",
   "execution_count": 5,
   "metadata": {},
   "outputs": [
    {
     "data": {
      "text/plain": [
       "array([[ 0.92951967, -0.36877254,  0.        ],\n",
       "       [ 0.36877254,  0.92951967,  0.        ],\n",
       "       [ 0.        ,  0.        ,  1.        ]])"
      ]
     },
     "execution_count": 5,
     "metadata": {},
     "output_type": "execute_result"
    }
   ],
   "source": [
    "rotation_matrix(0.3776881459970161)"
   ]
  },
  {
   "cell_type": "code",
   "execution_count": 102,
   "metadata": {},
   "outputs": [],
   "source": [
    "class Make_mecanum_left():\n",
    "\n",
    "    def __init__(self):\n",
    "        self.vel_forward = 5.5 #m/s\n",
    "        self.vel_lateral = 2 #m/s\n",
    "        self.ball_fly_time = 0.45 #max height time [sec]\n",
    "        self.vel_forward_apply = 0\n",
    "        self.vel_lateral_apply = 0\n",
    "        \n",
    "        self.spawn_pos_z = 0.5\n",
    "        \n",
    "        self.torque = [0,20000,0]\n",
    "        self.delete_model_name = \"ball_right\"\n",
    "\n",
    "    def set_ball_target(self):\n",
    "        #self.x_target = (np.random.randint(6, 10) + np.random.rand())\n",
    "        #self.y_target = (np.random.randint(-3, 3) + np.random.rand())\n",
    "\n",
    "        self.x_target = 11\n",
    "        self.y_target = 4\n",
    "\n",
    "        self.x = -10.89\n",
    "        self.y = -3.9\n",
    "        \n",
    "        self.x_error = self.x_target - self.x\n",
    "        self.y_error = self.y_target - self.y\n",
    "        print(self.x_error, self.y_error)\n",
    "        self.s = np.sqrt(self.x_error**2 + self.y_error**2)\n",
    "\n",
    "    def throw_ball(self):\n",
    "\n",
    "        duration = 0.01\n",
    "\n",
    "        self.set_ball_target()\n",
    "\n",
    "        self.yaw_z = np.arctan(self.y_error/self.x_error)\n",
    "        self.ror_matrix = rotation_matrix(self.yaw_z)\n",
    "        vz0 = 9.8 * self.ball_fly_time\n",
    "\n",
    "        h =self.spawn_pos_z + vz0 * self.ball_fly_time - (9.8 * self.ball_fly_time**2)/2\n",
    "        self.ball_fly_time_plus = np.sqrt(2 * h / 9.8)\n",
    "        v0 = self.s/(self.ball_fly_time + self.ball_fly_time_plus)\n",
    "        print(v0)\n",
    "        self.v = np.sqrt(v0**2 + vz0**2)\n",
    "        self.launch_angle = np.arctan(vz0/v0)\n",
    "\n",
    "        self.force = [v0 * 0.057 * 100, 0, vz0 * 0.057 *100 ]\n",
    "\n",
    "        self.apply_force, self.apply_torque = get_wrench(self.force, self.torque, self.ror_matrix)\n",
    "\n"
   ]
  },
  {
   "cell_type": "code",
   "execution_count": 103,
   "metadata": {},
   "outputs": [],
   "source": [
    "x = Make_mecanum_left()"
   ]
  },
  {
   "cell_type": "code",
   "execution_count": 113,
   "metadata": {},
   "outputs": [
    {
     "name": "stdout",
     "output_type": "stream",
     "text": [
      "21.89 7.9\n",
      "23.228892719109222\n"
     ]
    }
   ],
   "source": [
    "x.throw_ball()"
   ]
  },
  {
   "cell_type": "code",
   "execution_count": 115,
   "metadata": {},
   "outputs": [
    {
     "data": {
      "text/plain": [
       "1.0018521689062485"
      ]
     },
     "execution_count": 115,
     "metadata": {},
     "output_type": "execute_result"
    }
   ],
   "source": [
    "x.ball_fly_time_plus + x.ball_fly_time"
   ]
  },
  {
   "cell_type": "code",
   "execution_count": 117,
   "metadata": {},
   "outputs": [
    {
     "data": {
      "text/plain": [
       "array([21.84953098, -7.88539492,  0.        ])"
      ]
     },
     "execution_count": 117,
     "metadata": {},
     "output_type": "execute_result"
    }
   ],
   "source": [
    "[23.228892719109222,0,0] @ x.ror_matrix"
   ]
  },
  {
   "cell_type": "code",
   "execution_count": 119,
   "metadata": {},
   "outputs": [
    {
     "data": {
      "text/plain": [
       "array([21.89, -7.9 ,  0.  ])"
      ]
     },
     "execution_count": 119,
     "metadata": {},
     "output_type": "execute_result"
    }
   ],
   "source": [
    "np.array([21.84953098, -7.88539492,  0.        ]) * (x.ball_fly_time_plus + x.ball_fly_time)"
   ]
  },
  {
   "cell_type": "code",
   "execution_count": 18,
   "metadata": {},
   "outputs": [],
   "source": [
    "vx1 = 14.98431004421108\n",
    "mu_s = 0.6\n",
    "ey = 0.79\n",
    "vy1 = -5.25\n",
    "R = 0.033\n",
    "R1 = 0.030\n",
    "w1 = 0\n",
    "vx2 = 9.956566531466533"
   ]
  },
  {
   "cell_type": "code",
   "execution_count": 22,
   "metadata": {},
   "outputs": [],
   "source": [
    "vx2 = vx1 + mu_s * (1 + ey) * vy1"
   ]
  },
  {
   "cell_type": "code",
   "execution_count": 15,
   "metadata": {},
   "outputs": [],
   "source": [
    "w2 = w1 -(1.5 * mu_s * R * (1 + ey) * vy1) / R1**2"
   ]
  },
  {
   "cell_type": "code",
   "execution_count": 16,
   "metadata": {},
   "outputs": [],
   "source": [
    "w2 = w1 -(1.5 * R * (vx2 - vx1)) / R1**2"
   ]
  },
  {
   "cell_type": "code",
   "execution_count": 21,
   "metadata": {},
   "outputs": [],
   "source": [
    "vx1 = 9.34581004421108\n",
    "mu_s = 0.6\n",
    "ey = 0.79\n",
    "vy1 = -4.1554\n",
    "R = 0.033\n",
    "R1 = 0.030\n",
    "w1 = 107.2322516621961\n"
   ]
  },
  {
   "cell_type": "code",
   "execution_count": 26,
   "metadata": {},
   "outputs": [
    {
     "data": {
      "text/plain": [
       "4.898600399999999"
      ]
     },
     "execution_count": 26,
     "metadata": {},
     "output_type": "execute_result"
    }
   ],
   "source": [
    "vx2 = vx1 + mu_s * (1 + ey) * vy1\n",
    "vx2"
   ]
  },
  {
   "cell_type": "code",
   "execution_count": 28,
   "metadata": {},
   "outputs": [
    {
     "data": {
      "text/plain": [
       "558.5304779999999"
      ]
     },
     "execution_count": 28,
     "metadata": {},
     "output_type": "execute_result"
    }
   ],
   "source": [
    "w2 = w1 -(1.5 * mu_s * R * (1 + ey) * vy1) / R1**2\n",
    "w2"
   ]
  },
  {
   "cell_type": "code",
   "execution_count": 37,
   "metadata": {},
   "outputs": [
    {
     "data": {
      "text/plain": [
       "0"
      ]
     },
     "execution_count": 37,
     "metadata": {},
     "output_type": "execute_result"
    }
   ],
   "source": [
    "robot = [[190, 175, 235, 205], [361, 492, 404, 523]]\n",
    "ball = [[334, 479, 358, 503], [361, 492, 404, 519]]\n",
    "\n",
    "\n"
   ]
  },
  {
   "cell_type": "code",
   "execution_count": 34,
   "metadata": {},
   "outputs": [],
   "source": [
    "def check_iou(robot_box, ball_cand_box):\n",
    "    no_ball_box = []\n",
    "\n",
    "    for i in range(len(robot_box)):\n",
    "        for j in range(len(ball_cand_box)):\n",
    "            print(robot_box[i], ball_cand_box[j])\n",
    "            print(iou(robot_box[i], ball_cand_box[j]))\n",
    "            if iou(robot_box[i], ball_cand_box[j]):\n",
    "                no_ball_box.append(ball_cand_box[j])\n",
    "                print(1)\n",
    "            else:\n",
    "                pass\n",
    "    for i in no_ball_box:\n",
    "        del ball_cand_box[ball_cand_box.index(i)]\n",
    "                          \n",
    "    return ball_cand_box\n",
    "\n",
    "def iou(box_0, box_1):\n",
    "    b0x_0, b0y_0, b0x_1 ,b0y_1 = box_0\n",
    "    b1x_0, b1y_0, b1x_1 ,b1y_1 = box_1\n",
    "\n",
    "    min_x = np.argmin([b0x_0,b1x_0])\n",
    "    min_y = np.argmin([b0y_0,b1y_0])\n",
    "\n",
    "    if min_x == 0 and min_y == 0:\n",
    "        if ((b0x_0 < b1x_0 < b0x_1) or (b0x_0 < b1x_1 < b0x_1)) and ((b0y_0 < b1y_0 < b0y_1) or (b0y_0 < b1y_1 < b0y_1)):\n",
    "            return True\n",
    "    if min_x == 0 and min_y == 1:\n",
    "        if ((b0x_0 < b1x_0 < b0x_1) or (b0x_0 < b1x_1 < b0x_1)) and ((b1y_0 < b0y_0 < b1y_1) or (b1y_0 < b0y_1 < b1y_1)):\n",
    "            return True\n",
    "    if min_x == 1 and min_y == 0:\n",
    "        if ((b1x_0 < b0x_0 < b1x_1) or (b1x_0 < b0x_1 < b1x_1)) and ((b0y_0 < b1y_0 < b0y_1) or (b0y_0 < b1y_1 < b0y_1)):\n",
    "            return True\n",
    "    if min_x == 1 and min_y == 1:\n",
    "        if ((b1x_0 < b0x_0 < b1x_1) or (b1x_0 < b0x_1 < b1x_1) ) and ((b1y_0 < b0y_0 < b1y_1) or (b1y_0 < b0y_1 < b1y_1) ):\n",
    "            return True\n",
    "\n",
    "    return False\n",
    "\n"
   ]
  },
  {
   "cell_type": "code",
   "execution_count": 35,
   "metadata": {
    "scrolled": true
   },
   "outputs": [
    {
     "name": "stdout",
     "output_type": "stream",
     "text": [
      "[216, 178, 250, 199] [521, 137, 544, 160]\n",
      "False\n",
      "[216, 178, 250, 199] [227, 176, 242, 191]\n",
      "True\n",
      "1\n",
      "[416, 499, 452, 521] [521, 137, 544, 160]\n",
      "False\n",
      "[416, 499, 452, 521] [227, 176, 242, 191]\n",
      "False\n"
     ]
    },
    {
     "data": {
      "text/plain": [
       "[[521, 137, 544, 160]]"
      ]
     },
     "execution_count": 35,
     "metadata": {},
     "output_type": "execute_result"
    }
   ],
   "source": [
    "check_iou(robot, ball)"
   ]
  },
  {
   "cell_type": "code",
   "execution_count": 45,
   "metadata": {},
   "outputs": [],
   "source": [
    "ball_centroid_list = [[100,123],[423, 321]]\n"
   ]
  },
  {
   "cell_type": "code",
   "execution_count": 46,
   "metadata": {},
   "outputs": [
    {
     "data": {
      "text/plain": [
       "[100, 123]"
      ]
     },
     "execution_count": 46,
     "metadata": {},
     "output_type": "execute_result"
    }
   ],
   "source": [
    "ball_centroid_list[0]"
   ]
  },
  {
   "cell_type": "code",
   "execution_count": 41,
   "metadata": {},
   "outputs": [
    {
     "data": {
      "text/plain": [
       "True"
      ]
     },
     "execution_count": 41,
     "metadata": {},
     "output_type": "execute_result"
    }
   ],
   "source": [
    "max(ball_centroid_list) > [1, 0]"
   ]
  },
  {
   "cell_type": "code",
   "execution_count": 42,
   "metadata": {},
   "outputs": [
    {
     "data": {
      "text/plain": [
       "[423, 321]"
      ]
     },
     "execution_count": 42,
     "metadata": {},
     "output_type": "execute_result"
    }
   ],
   "source": [
    "max(ball_centroid_list)"
   ]
  },
  {
   "cell_type": "code",
   "execution_count": 52,
   "metadata": {},
   "outputs": [
    {
     "data": {
      "text/plain": [
       "array([0.15625  , 0.1921875, 0.6609375, 0.5015625])"
      ]
     },
     "execution_count": 52,
     "metadata": {},
     "output_type": "execute_result"
    }
   ],
   "source": [
    "np.array(ball_centroid_list[0] + ball_centroid_list[1])/640"
   ]
  },
  {
   "cell_type": "code",
   "execution_count": 21,
   "metadata": {},
   "outputs": [],
   "source": [
    "npy_array = np.load(file=\"src/yolov5/npy_test.npy\")"
   ]
  },
  {
   "cell_type": "code",
   "execution_count": 22,
   "metadata": {},
   "outputs": [
    {
     "data": {
      "text/plain": [
       "(1227, 20, 4)"
      ]
     },
     "execution_count": 22,
     "metadata": {},
     "output_type": "execute_result"
    }
   ],
   "source": [
    "npy_array.shape\n"
   ]
  },
  {
   "cell_type": "code",
   "execution_count": 18,
   "metadata": {
    "collapsed": true
   },
   "outputs": [
    {
     "data": {
      "text/plain": [
       "array([[[  0. ,   0. ,   0. ,   0. ],\n",
       "        [  0. ,   0. ,   0. ,   0. ],\n",
       "        [  0. ,   0. ,   0. ,   0. ],\n",
       "        [  0. ,   0. ,   0. ,   0. ],\n",
       "        [  0. ,   0. ,   0. ,   0. ],\n",
       "        [  0. ,   0. ,   0. ,   0. ],\n",
       "        [  0. ,   0. ,   0. ,   0. ],\n",
       "        [  0. ,   0. ,   0. ,   0. ],\n",
       "        [  0. ,   0. ,   0. ,   0. ],\n",
       "        [  0. ,   0. ,   0. ,   0. ],\n",
       "        [  0. ,   0. ,   0. ,   0. ],\n",
       "        [  0. ,   0. ,   0. ,   0. ],\n",
       "        [  0. ,   0. ,   0. ,   0. ],\n",
       "        [  0. ,   0. ,   0. ,   0. ],\n",
       "        [  0. ,   0. ,   0. ,   0. ],\n",
       "        [  0. ,   0. ,   0. ,   0. ],\n",
       "        [  0. ,   0. ,   0. ,   0. ],\n",
       "        [  0. ,   0. ,   0. ,   0. ],\n",
       "        [  0. ,   0. ,   0. ,   0. ],\n",
       "        [  0. ,   0. , 562.5, 580. ]],\n",
       "\n",
       "       [[  0. ,   0. ,   0. ,   0. ],\n",
       "        [  0. ,   0. ,   0. ,   0. ],\n",
       "        [  0. ,   0. ,   0. ,   0. ],\n",
       "        [  0. ,   0. ,   0. ,   0. ],\n",
       "        [  0. ,   0. ,   0. ,   0. ],\n",
       "        [  0. ,   0. ,   0. ,   0. ],\n",
       "        [  0. ,   0. ,   0. ,   0. ],\n",
       "        [  0. ,   0. ,   0. ,   0. ],\n",
       "        [  0. ,   0. ,   0. ,   0. ],\n",
       "        [  0. ,   0. ,   0. ,   0. ],\n",
       "        [  0. ,   0. ,   0. ,   0. ],\n",
       "        [  0. ,   0. ,   0. ,   0. ],\n",
       "        [  0. ,   0. ,   0. ,   0. ],\n",
       "        [  0. ,   0. ,   0. ,   0. ],\n",
       "        [  0. ,   0. ,   0. ,   0. ],\n",
       "        [  0. ,   0. ,   0. ,   0. ],\n",
       "        [  0. ,   0. ,   0. ,   0. ],\n",
       "        [  0. ,   0. ,   0. ,   0. ],\n",
       "        [  0. ,   0. ,   0. ,   0. ],\n",
       "        [  0. ,   0. , 495. , 515. ]],\n",
       "\n",
       "       [[  0. ,   0. ,   0. ,   0. ],\n",
       "        [  0. ,   0. ,   0. ,   0. ],\n",
       "        [  0. ,   0. ,   0. ,   0. ],\n",
       "        [  0. ,   0. ,   0. ,   0. ],\n",
       "        [  0. ,   0. ,   0. ,   0. ],\n",
       "        [  0. ,   0. ,   0. ,   0. ],\n",
       "        [  0. ,   0. ,   0. ,   0. ],\n",
       "        [  0. ,   0. ,   0. ,   0. ],\n",
       "        [  0. ,   0. ,   0. ,   0. ],\n",
       "        [  0. ,   0. ,   0. ,   0. ],\n",
       "        [  0. ,   0. ,   0. ,   0. ],\n",
       "        [  0. ,   0. ,   0. ,   0. ],\n",
       "        [  0. ,   0. ,   0. ,   0. ],\n",
       "        [  0. ,   0. ,   0. ,   0. ],\n",
       "        [  0. ,   0. ,   0. ,   0. ],\n",
       "        [  0. ,   0. ,   0. ,   0. ],\n",
       "        [  0. ,   0. ,   0. ,   0. ],\n",
       "        [  0. ,   0. ,   0. ,   0. ],\n",
       "        [  0. ,   0. , 495. , 515. ],\n",
       "        [211. , 230. , 485. , 507. ]],\n",
       "\n",
       "       [[  0. ,   0. ,   0. ,   0. ],\n",
       "        [  0. ,   0. ,   0. ,   0. ],\n",
       "        [  0. ,   0. ,   0. ,   0. ],\n",
       "        [  0. ,   0. ,   0. ,   0. ],\n",
       "        [  0. ,   0. ,   0. ,   0. ],\n",
       "        [  0. ,   0. ,   0. ,   0. ],\n",
       "        [  0. ,   0. ,   0. ,   0. ],\n",
       "        [  0. ,   0. ,   0. ,   0. ],\n",
       "        [  0. ,   0. ,   0. ,   0. ],\n",
       "        [  0. ,   0. ,   0. ,   0. ],\n",
       "        [  0. ,   0. ,   0. ,   0. ],\n",
       "        [  0. ,   0. ,   0. ,   0. ],\n",
       "        [  0. ,   0. ,   0. ,   0. ],\n",
       "        [  0. ,   0. ,   0. ,   0. ],\n",
       "        [  0. ,   0. ,   0. ,   0. ],\n",
       "        [  0. ,   0. ,   0. ,   0. ],\n",
       "        [  0. ,   0. ,   0. ,   0. ],\n",
       "        [  0. ,   0. , 495. , 515. ],\n",
       "        [211. , 230. , 485. , 507. ],\n",
       "        [213.5, 232.5, 476. , 497.5]],\n",
       "\n",
       "       [[  0. ,   0. ,   0. ,   0. ],\n",
       "        [  0. ,   0. ,   0. ,   0. ],\n",
       "        [  0. ,   0. ,   0. ,   0. ],\n",
       "        [  0. ,   0. ,   0. ,   0. ],\n",
       "        [  0. ,   0. ,   0. ,   0. ],\n",
       "        [  0. ,   0. ,   0. ,   0. ],\n",
       "        [  0. ,   0. ,   0. ,   0. ],\n",
       "        [  0. ,   0. ,   0. ,   0. ],\n",
       "        [  0. ,   0. ,   0. ,   0. ],\n",
       "        [  0. ,   0. ,   0. ,   0. ],\n",
       "        [  0. ,   0. ,   0. ,   0. ],\n",
       "        [  0. ,   0. ,   0. ,   0. ],\n",
       "        [  0. ,   0. ,   0. ,   0. ],\n",
       "        [  0. ,   0. ,   0. ,   0. ],\n",
       "        [  0. ,   0. ,   0. ,   0. ],\n",
       "        [  0. ,   0. ,   0. ,   0. ],\n",
       "        [  0. ,   0. , 495. , 515. ],\n",
       "        [211. , 230. , 485. , 507. ],\n",
       "        [213.5, 232.5, 476. , 497.5],\n",
       "        [216.5, 236.5, 463. , 485. ]],\n",
       "\n",
       "       [[  0. ,   0. ,   0. ,   0. ],\n",
       "        [  0. ,   0. ,   0. ,   0. ],\n",
       "        [  0. ,   0. ,   0. ,   0. ],\n",
       "        [  0. ,   0. ,   0. ,   0. ],\n",
       "        [  0. ,   0. ,   0. ,   0. ],\n",
       "        [  0. ,   0. ,   0. ,   0. ],\n",
       "        [  0. ,   0. ,   0. ,   0. ],\n",
       "        [  0. ,   0. ,   0. ,   0. ],\n",
       "        [  0. ,   0. ,   0. ,   0. ],\n",
       "        [  0. ,   0. ,   0. ,   0. ],\n",
       "        [  0. ,   0. ,   0. ,   0. ],\n",
       "        [  0. ,   0. ,   0. ,   0. ],\n",
       "        [  0. ,   0. ,   0. ,   0. ],\n",
       "        [  0. ,   0. ,   0. ,   0. ],\n",
       "        [  0. ,   0. ,   0. ,   0. ],\n",
       "        [  0. ,   0. , 495. , 515. ],\n",
       "        [211. , 230. , 485. , 507. ],\n",
       "        [213.5, 232.5, 476. , 497.5],\n",
       "        [216.5, 236.5, 463. , 485. ],\n",
       "        [220. , 240.5, 452.5, 474. ]],\n",
       "\n",
       "       [[  0. ,   0. ,   0. ,   0. ],\n",
       "        [  0. ,   0. ,   0. ,   0. ],\n",
       "        [  0. ,   0. ,   0. ,   0. ],\n",
       "        [  0. ,   0. ,   0. ,   0. ],\n",
       "        [  0. ,   0. ,   0. ,   0. ],\n",
       "        [  0. ,   0. ,   0. ,   0. ],\n",
       "        [  0. ,   0. ,   0. ,   0. ],\n",
       "        [  0. ,   0. ,   0. ,   0. ],\n",
       "        [  0. ,   0. ,   0. ,   0. ],\n",
       "        [  0. ,   0. ,   0. ,   0. ],\n",
       "        [  0. ,   0. ,   0. ,   0. ],\n",
       "        [  0. ,   0. ,   0. ,   0. ],\n",
       "        [  0. ,   0. ,   0. ,   0. ],\n",
       "        [  0. ,   0. ,   0. ,   0. ],\n",
       "        [  0. ,   0. , 495. , 515. ],\n",
       "        [211. , 230. , 485. , 507. ],\n",
       "        [213.5, 232.5, 476. , 497.5],\n",
       "        [216.5, 236.5, 463. , 485. ],\n",
       "        [220. , 240.5, 452.5, 474. ],\n",
       "        [224. , 244. , 441.5, 463.5]],\n",
       "\n",
       "       [[  0. ,   0. ,   0. ,   0. ],\n",
       "        [  0. ,   0. ,   0. ,   0. ],\n",
       "        [  0. ,   0. ,   0. ,   0. ],\n",
       "        [  0. ,   0. ,   0. ,   0. ],\n",
       "        [  0. ,   0. ,   0. ,   0. ],\n",
       "        [  0. ,   0. ,   0. ,   0. ],\n",
       "        [  0. ,   0. ,   0. ,   0. ],\n",
       "        [  0. ,   0. ,   0. ,   0. ],\n",
       "        [  0. ,   0. ,   0. ,   0. ],\n",
       "        [  0. ,   0. ,   0. ,   0. ],\n",
       "        [  0. ,   0. ,   0. ,   0. ],\n",
       "        [  0. ,   0. ,   0. ,   0. ],\n",
       "        [  0. ,   0. ,   0. ,   0. ],\n",
       "        [  0. ,   0. , 495. , 515. ],\n",
       "        [211. , 230. , 485. , 507. ],\n",
       "        [213.5, 232.5, 476. , 497.5],\n",
       "        [216.5, 236.5, 463. , 485. ],\n",
       "        [220. , 240.5, 452.5, 474. ],\n",
       "        [224. , 244. , 441.5, 463.5],\n",
       "        [229.5, 250.5, 426. , 448.5]],\n",
       "\n",
       "       [[  0. ,   0. ,   0. ,   0. ],\n",
       "        [  0. ,   0. ,   0. ,   0. ],\n",
       "        [  0. ,   0. ,   0. ,   0. ],\n",
       "        [  0. ,   0. ,   0. ,   0. ],\n",
       "        [  0. ,   0. ,   0. ,   0. ],\n",
       "        [  0. ,   0. ,   0. ,   0. ],\n",
       "        [  0. ,   0. ,   0. ,   0. ],\n",
       "        [  0. ,   0. ,   0. ,   0. ],\n",
       "        [  0. ,   0. ,   0. ,   0. ],\n",
       "        [  0. ,   0. ,   0. ,   0. ],\n",
       "        [  0. ,   0. ,   0. ,   0. ],\n",
       "        [  0. ,   0. ,   0. ,   0. ],\n",
       "        [  0. ,   0. , 495. , 515. ],\n",
       "        [211. , 230. , 485. , 507. ],\n",
       "        [213.5, 232.5, 476. , 497.5],\n",
       "        [216.5, 236.5, 463. , 485. ],\n",
       "        [220. , 240.5, 452.5, 474. ],\n",
       "        [224. , 244. , 441.5, 463.5],\n",
       "        [229.5, 250.5, 426. , 448.5],\n",
       "        [235. , 256. , 413.5, 436. ]],\n",
       "\n",
       "       [[  0. ,   0. ,   0. ,   0. ],\n",
       "        [  0. ,   0. ,   0. ,   0. ],\n",
       "        [  0. ,   0. ,   0. ,   0. ],\n",
       "        [  0. ,   0. ,   0. ,   0. ],\n",
       "        [  0. ,   0. ,   0. ,   0. ],\n",
       "        [  0. ,   0. ,   0. ,   0. ],\n",
       "        [  0. ,   0. ,   0. ,   0. ],\n",
       "        [  0. ,   0. ,   0. ,   0. ],\n",
       "        [  0. ,   0. ,   0. ,   0. ],\n",
       "        [  0. ,   0. ,   0. ,   0. ],\n",
       "        [  0. ,   0. ,   0. ,   0. ],\n",
       "        [  0. ,   0. , 495. , 515. ],\n",
       "        [211. , 230. , 485. , 507. ],\n",
       "        [213.5, 232.5, 476. , 497.5],\n",
       "        [216.5, 236.5, 463. , 485. ],\n",
       "        [220. , 240.5, 452.5, 474. ],\n",
       "        [224. , 244. , 441.5, 463.5],\n",
       "        [229.5, 250.5, 426. , 448.5],\n",
       "        [235. , 256. , 413.5, 436. ],\n",
       "        [242.5, 264.5, 395. , 418. ]]])"
      ]
     },
     "execution_count": 18,
     "metadata": {},
     "output_type": "execute_result"
    }
   ],
   "source": [
    "npy_array[:10]"
   ]
  },
  {
   "cell_type": "code",
   "execution_count": 16,
   "metadata": {},
   "outputs": [],
   "source": [
    "s = 18.6\n",
    "v0 = 200\n",
    "h = 2\n",
    "angle = np.arctan(h/s)"
   ]
  },
  {
   "cell_type": "code",
   "execution_count": 345,
   "metadata": {},
   "outputs": [],
   "source": [
    "ball_trajectory_list = []\n",
    "ball_point_data = []\n",
    "save_data = []\n",
    "seq_cnt = 0\n",
    "trajectroy_cnt = 0"
   ]
  },
  {
   "cell_type": "code",
   "execution_count": 380,
   "metadata": {},
   "outputs": [],
   "source": [
    "ball_centroid_list = [[0, 0],[0, 0]]\n"
   ]
  },
  {
   "cell_type": "code",
   "execution_count": 381,
   "metadata": {
    "scrolled": false
   },
   "outputs": [
    {
     "name": "stdout",
     "output_type": "stream",
     "text": [
      "2\n",
      "[[[[1, 0, 0, 0]], [[1, 0, 0, 0], [1, 0, 0, 0]], [[1, 0, 0, 0], [1, 0, 0, 0], [1, 0, 0, 0]], [[1, 0, 0, 0], [1, 0, 0, 0], [1, 0, 0, 0], [1, 0, 0, 0]], [[1, 0, 0, 0], [1, 0, 0, 0], [1, 0, 0, 0], [1, 0, 0, 0], [1, 0, 0, 0]], [[1, 0, 0, 0], [1, 0, 0, 0], [1, 0, 0, 0], [1, 0, 0, 0], [1, 0, 0, 0], [1, 0, 0, 0]], [[1, 0, 0, 0], [1, 0, 0, 0], [1, 0, 0, 0], [1, 0, 0, 0], [1, 0, 0, 0], [1, 0, 0, 0], [1, 0, 0, 0]]], [[[2, 0, 0, 0]], [[2, 0, 0, 0], [2, 0, 0, 0]], [[2, 0, 0, 0], [2, 0, 0, 0], [2, 0, 0, 0]], [[2, 0, 0, 0], [2, 0, 0, 0], [2, 0, 0, 0], [2, 0, 0, 0]], [[2, 0, 0, 0], [2, 0, 0, 0], [2, 0, 0, 0], [2, 0, 0, 0], [2, 0, 0, 0]], [[2, 0, 0, 0], [2, 0, 0, 0], [2, 0, 0, 0], [2, 0, 0, 0], [2, 0, 0, 0], [2, 0, 0, 0]], [[2, 0, 0, 0], [2, 0, 0, 0], [2, 0, 0, 0], [2, 0, 0, 0], [2, 0, 0, 0], [2, 0, 0, 0], [2, 0, 0, 0]], [[2, 0, 0, 0], [2, 0, 0, 0], [2, 0, 0, 0], [2, 0, 0, 0], [2, 0, 0, 0], [2, 0, 0, 0], [2, 0, 0, 0], [2, 0, 0, 0]], [[2, 0, 0, 0], [2, 0, 0, 0], [2, 0, 0, 0], [2, 0, 0, 0], [2, 0, 0, 0], [2, 0, 0, 0], [2, 0, 0, 0], [2, 0, 0, 0], [2, 0, 0, 0]], [[2, 0, 0, 0], [2, 0, 0, 0], [2, 0, 0, 0], [2, 0, 0, 0], [2, 0, 0, 0], [2, 0, 0, 0], [2, 0, 0, 0], [2, 0, 0, 0], [2, 0, 0, 0], [2, 0, 0, 0]]]]\n",
      "trajectroy_cnt : 2\n",
      "seq_cnt:  10\n"
     ]
    }
   ],
   "source": [
    "if (max(ball_centroid_list) == [0,0] or max(ball_centroid_list) > [640, 640]) and len(ball_trajectory_list) == 0: #공 검출되지 않은 경우 패스\n",
    "    print(1)\n",
    "    pass\n",
    "\n",
    "elif (max(ball_centroid_list) == [0,0] or max(ball_centroid_list) > [640, 640]) :\n",
    "    print(2)\n",
    "    ball_trajectory_list.clear()\n",
    "\n",
    "    if seq_cnt < 5: #만약 로봇을 공으로 볼 경우 save data에서 마지막 항 빼고 파라미터 초기화\n",
    "        print(\"cancel\")\n",
    "        seq_cnt = 0\n",
    "        ball_point_data.clear()\n",
    "\n",
    "    else:\n",
    "        trajectroy_cnt += 1\n",
    "        #ff.write(str(seq_cnt) + \",\")\n",
    "        ball_point_data.copy()\n",
    "        save_data.append(ball_point_data.copy())\n",
    "        print(save_data)\n",
    "        print(\"trajectroy_cnt :\",trajectroy_cnt)\n",
    "        print(\"seq_cnt: \",seq_cnt)\n",
    "        seq_cnt = 0\n",
    "        ball_point_data.clear()\n",
    "        \n",
    "\n",
    "else:\n",
    "    print(3)\n",
    "    ball_point = (ball_centroid_list[0] + ball_centroid_list[1])\n",
    "    ball_trajectory_list.append(ball_point)\n",
    "    ball_point_data.append(ball_trajectory_list.copy())\n",
    "    seq_cnt += 1\n",
    "    \n",
    "    print(ball_point_data)"
   ]
  },
  {
   "cell_type": "code",
   "execution_count": 402,
   "metadata": {},
   "outputs": [
    {
     "ename": "NameError",
     "evalue": "name 'self' is not defined",
     "output_type": "error",
     "traceback": [
      "\u001b[0;31m---------------------------------------------------------------------------\u001b[0m",
      "\u001b[0;31mNameError\u001b[0m                                 Traceback (most recent call last)",
      "\u001b[0;32m<ipython-input-402-fad9309d9fb1>\u001b[0m in \u001b[0;36m<module>\u001b[0;34m\u001b[0m\n\u001b[0;32m----> 1\u001b[0;31m \u001b[0;32mif\u001b[0m \u001b[0;34m(\u001b[0m\u001b[0mmax\u001b[0m\u001b[0;34m(\u001b[0m\u001b[0mself\u001b[0m\u001b[0;34m.\u001b[0m\u001b[0mball_centroid_list\u001b[0m\u001b[0;34m)\u001b[0m \u001b[0;34m==\u001b[0m \u001b[0;34m[\u001b[0m\u001b[0;36m0\u001b[0m\u001b[0;34m,\u001b[0m\u001b[0;36m0\u001b[0m\u001b[0;34m]\u001b[0m \u001b[0;32mor\u001b[0m \u001b[0mmax\u001b[0m\u001b[0;34m(\u001b[0m\u001b[0mself\u001b[0m\u001b[0;34m.\u001b[0m\u001b[0mball_centroid_list\u001b[0m\u001b[0;34m)\u001b[0m \u001b[0;34m>\u001b[0m \u001b[0;34m[\u001b[0m\u001b[0;36m640\u001b[0m\u001b[0;34m,\u001b[0m \u001b[0;36m640\u001b[0m\u001b[0;34m]\u001b[0m\u001b[0;34m)\u001b[0m \u001b[0;32mand\u001b[0m \u001b[0mlen\u001b[0m\u001b[0;34m(\u001b[0m\u001b[0mball_trajectory_list\u001b[0m\u001b[0;34m)\u001b[0m \u001b[0;34m==\u001b[0m \u001b[0;36m0\u001b[0m\u001b[0;34m:\u001b[0m \u001b[0;31m#공 검출되지 않은 경우 패스\u001b[0m\u001b[0;34m\u001b[0m\u001b[0;34m\u001b[0m\u001b[0m\n\u001b[0m\u001b[1;32m      2\u001b[0m     \u001b[0;32mpass\u001b[0m\u001b[0;34m\u001b[0m\u001b[0;34m\u001b[0m\u001b[0m\n\u001b[1;32m      3\u001b[0m \u001b[0;34m\u001b[0m\u001b[0m\n\u001b[1;32m      4\u001b[0m \u001b[0;32melif\u001b[0m \u001b[0;34m(\u001b[0m\u001b[0mmax\u001b[0m\u001b[0;34m(\u001b[0m\u001b[0mself\u001b[0m\u001b[0;34m.\u001b[0m\u001b[0mball_centroid_list\u001b[0m\u001b[0;34m)\u001b[0m \u001b[0;34m==\u001b[0m \u001b[0;34m[\u001b[0m\u001b[0;36m0\u001b[0m\u001b[0;34m,\u001b[0m\u001b[0;36m0\u001b[0m\u001b[0;34m]\u001b[0m \u001b[0;32mor\u001b[0m \u001b[0mmax\u001b[0m\u001b[0;34m(\u001b[0m\u001b[0mself\u001b[0m\u001b[0;34m.\u001b[0m\u001b[0mball_centroid_list\u001b[0m\u001b[0;34m)\u001b[0m \u001b[0;34m>\u001b[0m \u001b[0;34m[\u001b[0m\u001b[0;36m640\u001b[0m\u001b[0;34m,\u001b[0m \u001b[0;36m640\u001b[0m\u001b[0;34m]\u001b[0m\u001b[0;34m)\u001b[0m \u001b[0;34m:\u001b[0m\u001b[0;34m\u001b[0m\u001b[0;34m\u001b[0m\u001b[0m\n\u001b[1;32m      5\u001b[0m     \u001b[0mball_trajectory_list\u001b[0m\u001b[0;34m.\u001b[0m\u001b[0mclear\u001b[0m\u001b[0;34m(\u001b[0m\u001b[0;34m)\u001b[0m\u001b[0;34m\u001b[0m\u001b[0;34m\u001b[0m\u001b[0m\n",
      "\u001b[0;31mNameError\u001b[0m: name 'self' is not defined"
     ]
    }
   ],
   "source": [
    "######### 데이터 저장 하는 방법 2 backup\n",
    "\n",
    "\n",
    "if (max(self.ball_centroid_list) == [0,0] or max(self.ball_centroid_list) > [640, 640]) and len(ball_trajectory_list) == 0: #공 검출되지 않은 경우 패스\n",
    "                    pass\n",
    "\n",
    "                elif (max(self.ball_centroid_list) == [0,0] or max(self.ball_centroid_list) > [640, 640]) :\n",
    "                    ball_trajectory_list.clear()\n",
    "\n",
    "                    if seq_cnt < 5: #만약 로봇을 공으로 볼 경우 save data에서 마지막 항 빼고 파라미터 초기화\n",
    "                        seq_cnt = 0\n",
    "                        ball_point_data.clear()\n",
    "\n",
    "                    else:\n",
    "                        trajectroy_cnt += 1\n",
    "                        ball_point_data.copy()\n",
    "                        save_data.append(ball_point_data.copy())\n",
    "\n",
    "                        ball_point_data.clear()\n",
    "\n",
    "                        print(\"trajectroy_cnt :\",trajectroy_cnt)\n",
    "                        print(\"seq_cnt: \",seq_cnt)\n",
    "                        seq_cnt = 0\n",
    "\n",
    "                else:\n",
    "                #elif max(self.ball_centroid_list) > [0,0]:\n",
    "                    ball_point = (self.ball_centroid_list[0] + self.ball_centroid_list[1])\n",
    "                    ball_trajectory_list.append(ball_point)\n",
    "                    ball_point_data.append(ball_trajectory_list.copy())\n",
    "                    seq_cnt += 1"
   ]
  },
  {
   "cell_type": "code",
   "execution_count": 405,
   "metadata": {},
   "outputs": [
    {
     "data": {
      "text/plain": [
       "[[227.5, 246.0, 482.0, 503.5],\n",
       " [230.5, 249.5, 473.0, 495.5],\n",
       " [235.5, 255.5, 464.5, 486.5],\n",
       " [239.5, 260.5, 451.0, 474.0],\n",
       " [246.5, 267.0, 440.5, 463.5],\n",
       " [252.0, 273.0, 426.0, 449.5],\n",
       " [260.5, 281.5, 414.0, 437.5],\n",
       " [267.5, 289.5, 396.0, 419.5],\n",
       " [278.5, 300.5, 380.5, 404.5],\n",
       " [289.0, 311.0, 359.5, 384.5],\n",
       " [0, 0, 341.0, 366.0],\n",
       " [0, 0, 312.0, 337.0],\n",
       " [278.0, 305.0, 336.5, 360.5],\n",
       " [247.5, 275.0, 355.0, 379.5]]"
      ]
     },
     "execution_count": 405,
     "metadata": {},
     "output_type": "execute_result"
    }
   ],
   "source": [
    "data[0][0]"
   ]
  },
  {
   "cell_type": "code",
   "execution_count": 406,
   "metadata": {},
   "outputs": [
    {
     "name": "stdout",
     "output_type": "stream",
     "text": [
      "[227.5, 246.0, 482.0, 503.5]\n",
      "[230.5, 249.5, 473.0, 495.5]\n",
      "[235.5, 255.5, 464.5, 486.5]\n",
      "[239.5, 260.5, 451.0, 474.0]\n",
      "[246.5, 267.0, 440.5, 463.5]\n",
      "[252.0, 273.0, 426.0, 449.5]\n",
      "[260.5, 281.5, 414.0, 437.5]\n",
      "[267.5, 289.5, 396.0, 419.5]\n",
      "[278.5, 300.5, 380.5, 404.5]\n",
      "[289.0, 311.0, 359.5, 384.5]\n",
      "[0, 0, 341.0, 366.0]\n",
      "[0, 0, 312.0, 337.0]\n",
      "[278.0, 305.0, 336.5, 360.5]\n",
      "[247.5, 275.0, 355.0, 379.5]\n"
     ]
    }
   ],
   "source": [
    "for i in data[0][0]:\n",
    "    print(i)"
   ]
  },
  {
   "cell_type": "code",
   "execution_count": 9,
   "metadata": {},
   "outputs": [],
   "source": [
    "with open('src/yolov5/list_100.bin', 'rb') as f:\n",
    "    data_100 = pickle.load(f)"
   ]
  },
  {
   "cell_type": "code",
   "execution_count": 3,
   "metadata": {},
   "outputs": [],
   "source": [
    "with open('src/yolov5/list_500.bin', 'rb') as f:\n",
    "    data_500 = pickle.load(f)"
   ]
  },
  {
   "cell_type": "code",
   "execution_count": 7,
   "metadata": {},
   "outputs": [],
   "source": [
    "data_100.append(data_500)"
   ]
  },
  {
   "cell_type": "code",
   "execution_count": 15,
   "metadata": {},
   "outputs": [],
   "source": [
    "data_new = data_100 + data_500"
   ]
  },
  {
   "cell_type": "code",
   "execution_count": 17,
   "metadata": {},
   "outputs": [],
   "source": [
    "with open('list.bin', 'wb') as f:\n",
    "    pickle.dump(data_new,f)"
   ]
  },
  {
   "cell_type": "code",
   "execution_count": 5,
   "metadata": {},
   "outputs": [
    {
     "data": {
      "text/plain": [
       "array([-0.21285, -0.4257 , -0.63855])"
      ]
     },
     "execution_count": 5,
     "metadata": {},
     "output_type": "execute_result"
    }
   ],
   "source": [
    "-0.645 * (0.033 * np.array([100,200,300]) / np.array([10,10,10]))"
   ]
  },
  {
   "cell_type": "code",
   "execution_count": 9,
   "metadata": {},
   "outputs": [
    {
     "data": {
      "text/plain": [
       "array([0.10442832, 0.41771326, 0.93985484])"
      ]
     },
     "execution_count": 9,
     "metadata": {},
     "output_type": "execute_result"
    }
   ],
   "source": [
    "0.5 * 0.507 * 1.2041 * np.pi * (0.033 ** 2) * (np.array([10,20,30]) ** 2)\n",
    "[337.2084410968044, 0.0, 320.5, 0.0, 337.2084410968044, 240.5, 0.0, 0.0, 1.0]"
   ]
  },
  {
   "cell_type": "code",
   "execution_count": 38,
   "metadata": {},
   "outputs": [],
   "source": [
    "k = np.matrix([[337.2084410968044, 0.0, 320.5, 0],\n",
    "              [0.0, 337.2084410968044, 240.5, 0],\n",
    "              [0, 0, 1, 0]])\n",
    "\n",
    "ror = np.matrix([[0.707,-0.707, 0],\n",
    "                [0.707, 0.707, 0],\n",
    "                [0, 0, 1]])\n",
    "\n",
    "c_xy = np.matrix([[-1],\n",
    "                 [6.4],\n",
    "                 [0]])\n",
    "\n",
    "point = np.matrix([[2.5],\n",
    "                  [-4.47],\n",
    "                  [2.7],\n",
    "                  [1]])"
   ]
  },
  {
   "cell_type": "code",
   "execution_count": 39,
   "metadata": {},
   "outputs": [
    {
     "data": {
      "text/plain": [
       "matrix([[-5.2318],\n",
       "        [ 3.8178],\n",
       "        [ 0.    ]])"
      ]
     },
     "execution_count": 39,
     "metadata": {},
     "output_type": "execute_result"
    }
   ],
   "source": [
    "ror@c_xy "
   ]
  },
  {
   "cell_type": "code",
   "execution_count": 48,
   "metadata": {},
   "outputs": [],
   "source": [
    "ror = np.matrix([[0.707,-0.707, 0, -5.2318],\n",
    "                [0.707, 0.707, 0, 3.8178],\n",
    "                [0, 0, 1, 0],\n",
    "                [0, 0, 0, 1]])\n"
   ]
  },
  {
   "cell_type": "code",
   "execution_count": 44,
   "metadata": {},
   "outputs": [],
   "source": [
    "p = k@ror"
   ]
  },
  {
   "cell_type": "code",
   "execution_count": 47,
   "metadata": {},
   "outputs": [
    {
     "data": {
      "text/plain": [
       "matrix([[ 762.83526182],\n",
       "        [1467.08384174],\n",
       "        [   2.7       ]])"
      ]
     },
     "execution_count": 47,
     "metadata": {},
     "output_type": "execute_result"
    }
   ],
   "source": [
    "p @ point"
   ]
  },
  {
   "cell_type": "code",
   "execution_count": 51,
   "metadata": {},
   "outputs": [
    {
     "data": {
      "text/plain": [
       "matrix([[-0.30401],\n",
       "        [ 2.42501],\n",
       "        [ 2.7    ],\n",
       "        [ 1.     ]])"
      ]
     },
     "execution_count": 51,
     "metadata": {},
     "output_type": "execute_result"
    }
   ],
   "source": [
    "ror@(point)"
   ]
  },
  {
   "cell_type": "code",
   "execution_count": 25,
   "metadata": {},
   "outputs": [
    {
     "data": {
      "text/plain": [
       "matrix([[ 2.7 ],\n",
       "        [-4.47],\n",
       "        [ 2.5 ]])"
      ]
     },
     "execution_count": 25,
     "metadata": {},
     "output_type": "execute_result"
    }
   ],
   "source": [
    "point[:3]"
   ]
  },
  {
   "cell_type": "code",
   "execution_count": 3,
   "metadata": {},
   "outputs": [],
   "source": [
    "def z_roration_matrix(z):\n",
    "    z_matrix = np.matrix([[np.cos(np.deg2rad(z)), -np.sin(np.deg2rad(z)), 0],\n",
    "                            [np.sin(np.deg2rad(z)), np.cos(np.deg2rad(z)), 0],\n",
    "                            [0, 0, 1]])\n",
    "    return z_matrix\n",
    "    \n",
    "def x_roration_matrix(x):\n",
    "    x_matrix = np.matrix([[1, 0, 0],\n",
    "                         [0, np.cos(np.deg2rad(x)), -np.sin(np.deg2rad(x))],\n",
    "                         [0,-np.sin(np.deg2rad(x)),np.cos(np.deg2rad(x))]])\n",
    "    return x_matrix\n",
    "\n",
    "def y_roration_matrix(y):\n",
    "    x_matrix = np.matrix([[np.cos(np.deg2rad(y)), 0, np.sin(np.deg2rad(y))],\n",
    "                         [0, 1, 0],\n",
    "                         [-np.sin(np.deg2rad(y)),0, np.cos(np.deg2rad(y))]])\n",
    "    return x_matrix    \n",
    "    \n",
    "    \n",
    "    \n",
    "    \n",
    "ror = np.round(z_roration_matrix(45) @ y_roration_matrix(0) @ x_roration_matrix(-90),3)\n",
    "\n",
    "k = np.matrix([[337.2084410968044, 0.0, 320.306834],\n",
    "              [0.0, 337.2084410968044, 240.879174],\n",
    "              [0, 0, 1]])"
   ]
  },
  {
   "cell_type": "code",
   "execution_count": 132,
   "metadata": {},
   "outputs": [],
   "source": [
    "c_xy = np.matrix([[0],\n",
    "                 [-6.4],\n",
    "                 [1]])\n",
    "\n",
    "ball_point = np.matrix([[-2.69],\n",
    "                  [-2.79],\n",
    "                  [2.4]])"
   ]
  },
  {
   "cell_type": "code",
   "execution_count": 136,
   "metadata": {},
   "outputs": [
    {
     "data": {
      "text/plain": [
       "matrix([[ 50.20100449],\n",
       "        [155.68687081],\n",
       "        [  1.        ]])"
      ]
     },
     "execution_count": 136,
     "metadata": {},
     "output_type": "execute_result"
    }
   ],
   "source": [
    "k @ ror @ (ball_point - c_xy) / 3.61"
   ]
  },
  {
   "cell_type": "code",
   "execution_count": 138,
   "metadata": {},
   "outputs": [],
   "source": [
    "ccd_matrix = np.matrix([[368 / 50.2,0,0],\n",
    "                       [0,135 / 155,0],\n",
    "                       [0,0,1]]) *3.61"
   ]
  },
  {
   "cell_type": "code",
   "execution_count": 148,
   "metadata": {},
   "outputs": [
    {
     "data": {
      "text/plain": [
       "matrix([[1.28403707e+03],\n",
       "        [1.30210261e+02],\n",
       "        [1.00027083e+00]])"
      ]
     },
     "execution_count": 148,
     "metadata": {},
     "output_type": "execute_result"
    }
   ],
   "source": [
    "ccd_matrix @ k @ ror @ (ball_point - c_xy) / 24"
   ]
  },
  {
   "cell_type": "code",
   "execution_count": 142,
   "metadata": {},
   "outputs": [],
   "source": [
    "c_xy = np.matrix([[0],\n",
    "                 [-6.4],\n",
    "                 [1]])\n",
    "\n",
    "ball_point = np.matrix([[-3.3],\n",
    "                  [0.25],\n",
    "                  [1.75]])\n",
    "\n"
   ]
  },
  {
   "cell_type": "code",
   "execution_count": 143,
   "metadata": {},
   "outputs": [
    {
     "data": {
      "text/plain": [
       "matrix([[175.11197839],\n",
       "        [149.46019084],\n",
       "        [  1.        ]])"
      ]
     },
     "execution_count": 143,
     "metadata": {},
     "output_type": "execute_result"
    }
   ],
   "source": [
    "k @ ror @ (ball_point - c_xy) / 6.65"
   ]
  },
  {
   "cell_type": "code",
   "execution_count": 2,
   "metadata": {},
   "outputs": [],
   "source": [
    "c_xy = np.matrix([[0],\n",
    "                 [-6.4],\n",
    "                 [1]])\n",
    "\n",
    "ball_point = np.matrix([[-2.69],\n",
    "                  [-2.79],\n",
    "                  [2.4]])\n",
    "\n",
    "k = np.matrix([[337.2084410968044, 0.0, 320.306834],\n",
    "              [0.0, 337.2084410968044, 240.879174],\n",
    "              [0, 0, 1]])"
   ]
  },
  {
   "cell_type": "code",
   "execution_count": 4,
   "metadata": {
    "scrolled": true
   },
   "outputs": [
    {
     "data": {
      "text/plain": [
       "matrix([[-2.89163],\n",
       "        [-0.91203],\n",
       "        [ 3.61   ]])"
      ]
     },
     "execution_count": 4,
     "metadata": {},
     "output_type": "execute_result"
    }
   ],
   "source": [
    "ror @ (ball_point - c_xy)"
   ]
  },
  {
   "cell_type": "code",
   "execution_count": 65,
   "metadata": {},
   "outputs": [],
   "source": [
    "point = np.matrix([[368],\n",
    "                 [135],\n",
    "                 [1]])"
   ]
  },
  {
   "cell_type": "code",
   "execution_count": 102,
   "metadata": {},
   "outputs": [
    {
     "data": {
      "text/plain": [
       "matrix([[-0.12201273],\n",
       "        [-5.4       ],\n",
       "        [ 0.6779676 ]])"
      ]
     },
     "execution_count": 102,
     "metadata": {},
     "output_type": "execute_result"
    }
   ],
   "source": [
    "(np.linalg.inv(ror) @ np.linalg.inv(k) @ point) + c_xy"
   ]
  },
  {
   "cell_type": "code",
   "execution_count": 190,
   "metadata": {},
   "outputs": [],
   "source": [
    "h = np.matrix([[ 0.707,  0.   , -0.707, 0],\n",
    "       [ 0.707,  0.   ,  0.707, -6.4],\n",
    "       [ 0.   ,  1.   ,  0., 1   ],\n",
    "              [0,0,0,1]])"
   ]
  },
  {
   "cell_type": "code",
   "execution_count": 177,
   "metadata": {},
   "outputs": [],
   "source": [
    "ball_point_ = np.matrix([[-2.69],\n",
    "                  [-2.79],\n",
    "                  [2.4],\n",
    "                       [1]])"
   ]
  },
  {
   "cell_type": "code",
   "execution_count": 194,
   "metadata": {},
   "outputs": [],
   "source": [
    "k_ = np.matrix([[337.2084411,   0.       , 320.306834,0 ],\n",
    "                [  0.       , 337.2084411, 240.879174,0 ],\n",
    "                [  0.       ,   0.       ,   1.     ,0  ],\n",
    "               [0,0,0,1]])"
   ]
  },
  {
   "cell_type": "code",
   "execution_count": 2,
   "metadata": {},
   "outputs": [],
   "source": [
    "def cal_heigth(depth, x_pos, y_pos):\n",
    "    \n",
    "    x = x_pos - 320\n",
    "    y = y_pos - 240\n",
    "    \n",
    "    pix_length = np.sqrt(x**2 + 337**2)\n",
    "    theta_pix = np.arctan(abs(y) / pix_length)\n",
    "    \n",
    "    return depth * np.sin(theta_pix)\n"
   ]
  },
  {
   "cell_type": "code",
   "execution_count": 14,
   "metadata": {},
   "outputs": [
    {
     "data": {
      "text/plain": [
       "1.2626868831837847"
      ]
     },
     "execution_count": 14,
     "metadata": {},
     "output_type": "execute_result"
    }
   ],
   "source": [
    "cal_heigth(8.62, 341, 190)"
   ]
  },
  {
   "cell_type": "code",
   "execution_count": 35,
   "metadata": {},
   "outputs": [
    {
     "data": {
      "text/plain": [
       "0.02545787108145533"
      ]
     },
     "execution_count": 35,
     "metadata": {},
     "output_type": "execute_result"
    }
   ],
   "source": [
    "np.sqrt(sum((real - esti)**2)) / len(real - esti)"
   ]
  },
  {
   "cell_type": "code",
   "execution_count": 36,
   "metadata": {},
   "outputs": [
    {
     "data": {
      "text/plain": [
       "0.004799999999999971"
      ]
     },
     "execution_count": 36,
     "metadata": {},
     "output_type": "execute_result"
    }
   ],
   "source": [
    "(sum((real - esti))) / len(real - esti)"
   ]
  },
  {
   "cell_type": "code",
   "execution_count": 15,
   "metadata": {},
   "outputs": [
    {
     "name": "stdout",
     "output_type": "stream",
     "text": [
      "0.6545\n",
      "1.309\n",
      "1.9634999999999998\n",
      "2.618\n",
      "3.2725\n"
     ]
    }
   ],
   "source": [
    "rpm = [500, 1000, 1500, 2000, 2500]\n",
    "\n",
    "for i in rpm:\n",
    "    print((i * 0.10472) / 80)"
   ]
  },
  {
   "cell_type": "code",
   "execution_count": 2,
   "metadata": {},
   "outputs": [
    {
     "name": "stdout",
     "output_type": "stream",
     "text": [
      "[nan  7.]\n"
     ]
    }
   ],
   "source": [
    "var = np.array([None, 7.0], dtype=np.float16)\n",
    "print(var)"
   ]
  },
  {
   "cell_type": "code",
   "execution_count": 4,
   "metadata": {},
   "outputs": [
    {
     "data": {
      "text/plain": [
       "nan"
      ]
     },
     "execution_count": 4,
     "metadata": {},
     "output_type": "execute_result"
    }
   ],
   "source": [
    "np.mean(var)"
   ]
  },
  {
   "cell_type": "code",
   "execution_count": 5,
   "metadata": {},
   "outputs": [
    {
     "data": {
      "text/plain": [
       "array([ True, False])"
      ]
     },
     "execution_count": 5,
     "metadata": {},
     "output_type": "execute_result"
    }
   ],
   "source": [
    "np.isnan(var)"
   ]
  },
  {
   "cell_type": "code",
   "execution_count": 7,
   "metadata": {
    "scrolled": true
   },
   "outputs": [
    {
     "name": "stdout",
     "output_type": "stream",
     "text": [
      "[0, 0]\n"
     ]
    }
   ],
   "source": [
    "print(min([[0, 0], [395, 131]]))"
   ]
  },
  {
   "cell_type": "code",
   "execution_count": 65,
   "metadata": {},
   "outputs": [],
   "source": [
    "a = [1.9110087607998396, 2.054286575684662]\n",
    "b = [7.572891, 12.82606]"
   ]
  },
  {
   "cell_type": "code",
   "execution_count": 70,
   "metadata": {},
   "outputs": [],
   "source": [
    "def cal_ball_position(ball_height_list, ball_depth_list):\n",
    "    \n",
    "    height = sum(ball_height_list) / 2\n",
    "    \n",
    "    th_L = np.arccos((ball_depth_list[1] ** 2 - 12.8 ** 2 - ball_depth_list[0]**2) / (2 * 12.8 * ball_depth_list[0]))\n",
    "    th_R = np.arccos((ball_depth_list[0] ** 2 - 12.8 ** 2 - ball_depth_list[1]**2) / (2 * 12.8 * ball_depth_list[1]))\n",
    "    \n",
    "    ball2net_length_x = ball_depth_list[0] * np.sin(th_L)\n",
    "    ball2net_length_y = ball_depth_list[0] * np.cos(th_L)\n",
    "    \n",
    "    #ball2net_length_x = ball_depth_list[1] * np.sin(th_R)\n",
    "    #ball2net_length_y = ball_depth_list[1] * np.cos(th_R)\n",
    "    \n",
    "    \n",
    "    ball_plate_angle = np.sin(height / ball2net_length_x)\n",
    "    \n",
    "    ball_position = ball2net_length_x * np.cos(ball_plate_angle)\n",
    "    \n",
    "    print(np.rad2deg(th_L) )\n",
    "    print(np.rad2deg(th_R) )\n",
    "    \n",
    "    print(ball_depth_list[0] * np.sin(th_L))\n",
    "    print(ball_depth_list[1] * np.sin(th_R))\n",
    "    \n",
    "    print(ball_depth_list[0] * np.cos(th_L))\n",
    "    print(ball_depth_list[1] * np.cos(th_R))\n",
    "    \n",
    "    print(np.rad2deg(ball_plate_angle))\n",
    "    print(-ball_position, 6.4 + ball2net_length_y)\n",
    "    \n",
    "    \n",
    "    \n",
    "    #th_R = \n",
    "    \n",
    "    \n"
   ]
  },
  {
   "cell_type": "code",
   "execution_count": 71,
   "metadata": {},
   "outputs": [
    {
     "name": "stdout",
     "output_type": "stream",
     "text": [
      "106.99997751983467\n",
      "145.62332085833663\n",
      "7.241992548397297\n",
      "7.241992548397296\n",
      "-2.2140962099328525\n",
      "-10.585903790067151\n",
      "15.490712029629778\n",
      "-6.978918199155788 4.185903790067147\n"
     ]
    }
   ],
   "source": [
    "cal_ball_position(a,b)"
   ]
  },
  {
   "cell_type": "code",
   "execution_count": 26,
   "metadata": {},
   "outputs": [
    {
     "data": {
      "text/plain": [
       "-0.7622810143329566"
      ]
     },
     "execution_count": 26,
     "metadata": {},
     "output_type": "execute_result"
    }
   ],
   "source": [
    "(b[1] ** 2 - 12.8 ** 2 - b[0]**2) / (2 * 12.8 * b[0])"
   ]
  },
  {
   "cell_type": "code",
   "execution_count": 66,
   "metadata": {},
   "outputs": [
    {
     "name": "stdout",
     "output_type": "stream",
     "text": [
      "[[11.09451468]]\n"
     ]
    }
   ],
   "source": [
    "point = np.matrix([[-9.96],\n",
    "                 [1.616],\n",
    "                 [0]])\n",
    "\n",
    "\n",
    "print(np.sqrt(point[0] **2 + (point[1] - (-6.4)) ** 2 + (point[2] - 1) ** 2))"
   ]
  },
  {
   "cell_type": "code",
   "execution_count": 3,
   "metadata": {},
   "outputs": [
    {
     "data": {
      "text/plain": [
       "14.430246342922675"
      ]
     },
     "execution_count": 3,
     "metadata": {},
     "output_type": "execute_result"
    }
   ],
   "source": [
    "np.rad2deg(0.2518553105578714)"
   ]
  },
  {
   "cell_type": "code",
   "execution_count": 6,
   "metadata": {},
   "outputs": [
    {
     "data": {
      "text/plain": [
       "9.40444465318028"
      ]
     },
     "execution_count": 6,
     "metadata": {},
     "output_type": "execute_result"
    }
   ],
   "source": [
    "2.42124108441863 / np.tan(0.2518553105578714)\n",
    "                          \n",
    "2.4199435731404417 / np.tan(0.2518553105578714)"
   ]
  },
  {
   "cell_type": "code",
   "execution_count": 8,
   "metadata": {},
   "outputs": [
    {
     "data": {
      "text/plain": [
       "0.0038253126777132796"
      ]
     },
     "execution_count": 8,
     "metadata": {},
     "output_type": "execute_result"
    }
   ],
   "source": [
    "((9.40948707364745) ** 2 -  (9.40444465318028) ** 2) / 24.8"
   ]
  },
  {
   "cell_type": "code",
   "execution_count": 104,
   "metadata": {},
   "outputs": [],
   "source": [
    "th_L = 0.3446797139381855\n",
    "th_R = 0.16516572590879303\n",
    "\n",
    "h_L = 2.52 - 1\n",
    "h_R = 2.52 - 1\n",
    "\n",
    "s_L = h_L / np.tan(th_L)\n",
    "s_R = h_R / np.tan(th_R)"
   ]
  },
  {
   "cell_type": "code",
   "execution_count": 105,
   "metadata": {},
   "outputs": [
    {
     "name": "stdout",
     "output_type": "stream",
     "text": [
      "4.233854353054301 9.119041290755295\n"
     ]
    }
   ],
   "source": [
    "print(s_L,s_R)"
   ]
  },
  {
   "cell_type": "code",
   "execution_count": 95,
   "metadata": {},
   "outputs": [],
   "source": [
    "th_L_1 = np.arccos((s_L ** 2 + 12.8 ** 2 - s_R**2) / (2 * 12.8 * s_L))\n",
    "th_R_1 = np.arccos((s_R ** 2 + 12.8 ** 2 - s_L**2) / (2 * 12.8 * s_R))"
   ]
  },
  {
   "cell_type": "code",
   "execution_count": 99,
   "metadata": {},
   "outputs": [
    {
     "data": {
      "text/plain": [
       "2.5481012257665285"
      ]
     },
     "execution_count": 99,
     "metadata": {},
     "output_type": "execute_result"
    }
   ],
   "source": [
    "6.4 - (s_L * np.cos(th_L_1))"
   ]
  },
  {
   "cell_type": "code",
   "execution_count": 100,
   "metadata": {},
   "outputs": [
    {
     "data": {
      "text/plain": [
       "2.54810122576653"
      ]
     },
     "execution_count": 100,
     "metadata": {},
     "output_type": "execute_result"
    }
   ],
   "source": [
    "s_R * np.cos(th_R_1) - 6.4"
   ]
  },
  {
   "cell_type": "code",
   "execution_count": 101,
   "metadata": {},
   "outputs": [
    {
     "data": {
      "text/plain": [
       "1.7573839978603238"
      ]
     },
     "execution_count": 101,
     "metadata": {},
     "output_type": "execute_result"
    }
   ],
   "source": [
    "s_L * np.sin(th_L_1)"
   ]
  },
  {
   "cell_type": "code",
   "execution_count": 102,
   "metadata": {},
   "outputs": [
    {
     "data": {
      "text/plain": [
       "1.757383997860318"
      ]
     },
     "execution_count": 102,
     "metadata": {},
     "output_type": "execute_result"
    }
   ],
   "source": [
    "s_R * np.sin(th_R_1)"
   ]
  },
  {
   "cell_type": "code",
   "execution_count": 107,
   "metadata": {},
   "outputs": [],
   "source": [
    "s_L  = 4.654203 / np.cos(th_L)\n",
    "s_R = 8.919018 / np.cos(th_R)"
   ]
  },
  {
   "cell_type": "code",
   "execution_count": 108,
   "metadata": {},
   "outputs": [
    {
     "name": "stdout",
     "output_type": "stream",
     "text": [
      "4.9450525771252165 9.042070443170804\n"
     ]
    }
   ],
   "source": [
    "print(s_L, s_R)"
   ]
  },
  {
   "cell_type": "code",
   "execution_count": 81,
   "metadata": {},
   "outputs": [],
   "source": [
    "th_L_1 = np.arccos((s_L ** 2 + 12.8 ** 2 - s_R**2) / (2 * 12.8 * s_L))\n",
    "th_R_1 = np.arccos((s_R ** 2 + 12.8 ** 2 - s_L**2) / (2 * 12.8 * s_R))"
   ]
  },
  {
   "cell_type": "code",
   "execution_count": 82,
   "metadata": {},
   "outputs": [
    {
     "data": {
      "text/plain": [
       "0.5706518693866471"
      ]
     },
     "execution_count": 82,
     "metadata": {},
     "output_type": "execute_result"
    }
   ],
   "source": [
    "th_L_1"
   ]
  },
  {
   "cell_type": "code",
   "execution_count": 83,
   "metadata": {},
   "outputs": [
    {
     "data": {
      "text/plain": [
       "2.671222177824756"
      ]
     },
     "execution_count": 83,
     "metadata": {},
     "output_type": "execute_result"
    }
   ],
   "source": [
    "s_L * np.sin(th_L_1)"
   ]
  },
  {
   "cell_type": "code",
   "execution_count": 89,
   "metadata": {},
   "outputs": [
    {
     "data": {
      "text/plain": [
       "2.671222177824756"
      ]
     },
     "execution_count": 89,
     "metadata": {},
     "output_type": "execute_result"
    }
   ],
   "source": [
    "s_L * np.sin(th_L_1)"
   ]
  },
  {
   "cell_type": "code",
   "execution_count": 88,
   "metadata": {},
   "outputs": [
    {
     "data": {
      "text/plain": [
       "2.2384958167472773"
      ]
     },
     "execution_count": 88,
     "metadata": {},
     "output_type": "execute_result"
    }
   ],
   "source": [
    "6.4 - s_L * np.cos(th_L_1)"
   ]
  },
  {
   "cell_type": "code",
   "execution_count": 90,
   "metadata": {},
   "outputs": [
    {
     "data": {
      "text/plain": [
       "2.671222177824753"
      ]
     },
     "execution_count": 90,
     "metadata": {},
     "output_type": "execute_result"
    }
   ],
   "source": [
    "s_R * np.sin(th_R_1)"
   ]
  },
  {
   "cell_type": "code",
   "execution_count": 92,
   "metadata": {},
   "outputs": [
    {
     "data": {
      "text/plain": [
       "2.238495816747278"
      ]
     },
     "execution_count": 92,
     "metadata": {},
     "output_type": "execute_result"
    }
   ],
   "source": [
    "s_R * np.cos(th_R_1) - 6.4"
   ]
  },
  {
   "cell_type": "code",
   "execution_count": 11,
   "metadata": {},
   "outputs": [
    {
     "name": "stdout",
     "output_type": "stream",
     "text": [
      "[[8.67582273]]\n",
      "[[4.82720416]]\n"
     ]
    }
   ],
   "source": [
    "point = np.matrix([[-1.27],[2.03],[2.61]])\n",
    "\n",
    "print(np.sqrt(point[0] **2 + (point[1] - (-6.4)) ** 2 + (point[2] - 1) ** 2))\n",
    "print(np.sqrt(point[0] **2 + (point[1] - (6.4)) ** 2 + (point[2] - 1) ** 2))"
   ]
  },
  {
   "cell_type": "code",
   "execution_count": 122,
   "metadata": {},
   "outputs": [
    {
     "data": {
      "text/plain": [
       "143.82716049382717"
      ]
     },
     "execution_count": 122,
     "metadata": {},
     "output_type": "execute_result"
    }
   ],
   "source": [
    "(11.885 + (-6.526) ) / 0.03726"
   ]
  },
  {
   "cell_type": "code",
   "execution_count": 142,
   "metadata": {},
   "outputs": [],
   "source": [
    "real_point_list = [-2.991, -0.087, 2.552]\n",
    "predict_point_list = [-1.799, -0.065, 2.592]"
   ]
  },
  {
   "cell_type": "code",
   "execution_count": 143,
   "metadata": {},
   "outputs": [],
   "source": [
    "real_point_list[0] = np.round((11.885 + real_point_list[0]) / 0.03726)\n",
    "predict_point_list[0] = np.round((11.885 + predict_point_list[0]) / 0.03726)\n",
    "\n",
    "real_point_list[1] = np.round((5.485 - real_point_list[1]) / 0.03656)\n",
    "predict_point_list[1] = np.round((5.485 - predict_point_list[1]) / 0.03656)\n",
    "real_point_xy = real_point_list[0:2]\n",
    "predict_point = predict_point_list[0:2]"
   ]
  },
  {
   "cell_type": "code",
   "execution_count": 6,
   "metadata": {},
   "outputs": [],
   "source": [
    "ball_height_list = [2.231228127949282, 1.813267052603247]\n",
    "ball_depth_list = [6.5851097, 2.4148982]"
   ]
  },
  {
   "cell_type": "code",
   "execution_count": 9,
   "metadata": {},
   "outputs": [],
   "source": [
    "def cal_ball_position(ball_height_list, ball_distance_list):\n",
    "\n",
    "    height = sum(ball_height_list[:2]) / 2 - 1\n",
    "\n",
    "    th_L = np.arccos((ball_distance_list[0] ** 2 + 12.8 ** 2 - ball_distance_list[1]**2) / (2 * 12.8 * ball_distance_list[0]))\n",
    "    #th_R = np.arccos((ball_depth_list[1] ** 2 + 12.8 ** 2 - ball_depth_list[0]**2) / (2 * 12.8 * ball_depth_list[1]))\n",
    "\n",
    "    ball2net_length_x_L = ball_distance_list[0] * np.sin(th_L)\n",
    "    ball_position_y_L = ball_distance_list[0] * np.cos(th_L)\n",
    "\n",
    "    ball_plate_angle_L = np.sin(height / ball2net_length_x_L)\n",
    "\n",
    "    ball_position_x_L = ball2net_length_x_L * np.cos(ball_plate_angle_L)\n",
    "\n",
    "    #ball2net_length_x_R = ball_depth_list[1] * np.sin(th_R)\n",
    "    #ball_position_y_R = ball_depth_list[1] * np.cos(th_R)\n",
    "\n",
    "    #ball_plate_angle_R = np.sin(height / ball2net_length_x_R)\n",
    "\n",
    "    #ball_position_x_R = ball2net_length_x_R * np.cos(ball_plate_angle_R)\n",
    "\n",
    "    return [-ball_position_x_L, ball_position_y_L - 6.4, height + 1]\n"
   ]
  },
  {
   "cell_type": "code",
   "execution_count": 10,
   "metadata": {},
   "outputs": [
    {
     "name": "stdout",
     "output_type": "stream",
     "text": [
      "nan nan\n"
     ]
    },
    {
     "name": "stderr",
     "output_type": "stream",
     "text": [
      "/home/drcl_yang/anaconda3/envs/yolov5/lib/python3.6/site-packages/ipykernel_launcher.py:5: RuntimeWarning: invalid value encountered in arccos\n",
      "  \"\"\"\n",
      "/home/drcl_yang/anaconda3/envs/yolov5/lib/python3.6/site-packages/ipykernel_launcher.py:6: RuntimeWarning: invalid value encountered in arccos\n",
      "  \n"
     ]
    },
    {
     "data": {
      "text/plain": [
       "([nan, nan, 2.0222475902762644], [nan, nan, 2.0222475902762644])"
      ]
     },
     "execution_count": 10,
     "metadata": {},
     "output_type": "execute_result"
    }
   ],
   "source": [
    "cal_ball_position(ball_height_list, ball_depth_list)"
   ]
  },
  {
   "cell_type": "code",
   "execution_count": 19,
   "metadata": {},
   "outputs": [
    {
     "data": {
      "text/plain": [
       "9.059565438447809"
      ]
     },
     "execution_count": 19,
     "metadata": {},
     "output_type": "execute_result"
    }
   ],
   "source": [
    "height = 1.473\n",
    "\n",
    "height / np.sin(0.16331560445944124)\n"
   ]
  },
  {
   "cell_type": "code",
   "execution_count": 20,
   "metadata": {},
   "outputs": [
    {
     "data": {
      "text/plain": [
       "7.050055652976752"
      ]
     },
     "execution_count": 20,
     "metadata": {},
     "output_type": "execute_result"
    }
   ],
   "source": [
    "height / np.sin(0.21048530735523446)\n"
   ]
  },
  {
   "cell_type": "code",
   "execution_count": 5,
   "metadata": {},
   "outputs": [
    {
     "data": {
      "text/plain": [
       "array([[2.5e-05, 5.0e-04, 0.0e+00, 0.0e+00, 0.0e+00, 0.0e+00],\n",
       "       [5.0e-04, 1.0e-02, 0.0e+00, 0.0e+00, 0.0e+00, 0.0e+00],\n",
       "       [0.0e+00, 0.0e+00, 2.5e-05, 5.0e-04, 0.0e+00, 0.0e+00],\n",
       "       [0.0e+00, 0.0e+00, 5.0e-04, 1.0e-02, 0.0e+00, 0.0e+00],\n",
       "       [0.0e+00, 0.0e+00, 0.0e+00, 0.0e+00, 2.5e-05, 5.0e-04],\n",
       "       [0.0e+00, 0.0e+00, 0.0e+00, 0.0e+00, 5.0e-04, 1.0e-02]])"
      ]
     },
     "execution_count": 5,
     "metadata": {},
     "output_type": "execute_result"
    }
   ],
   "source": [
    "Q_discrete_white_noise(2, dt=0.1, var=1., block_size=3)"
   ]
  },
  {
   "cell_type": "code",
   "execution_count": 7,
   "metadata": {},
   "outputs": [
    {
     "data": {
      "text/plain": [
       "array([[2.5e-09, 5.0e-08, 0.0e+00, 0.0e+00, 0.0e+00, 0.0e+00],\n",
       "       [5.0e-08, 1.0e-06, 0.0e+00, 0.0e+00, 0.0e+00, 0.0e+00],\n",
       "       [0.0e+00, 0.0e+00, 2.5e-09, 5.0e-08, 0.0e+00, 0.0e+00],\n",
       "       [0.0e+00, 0.0e+00, 5.0e-08, 1.0e-06, 0.0e+00, 0.0e+00],\n",
       "       [0.0e+00, 0.0e+00, 0.0e+00, 0.0e+00, 2.5e-09, 5.0e-08],\n",
       "       [0.0e+00, 0.0e+00, 0.0e+00, 0.0e+00, 5.0e-08, 1.0e-06]])"
      ]
     },
     "execution_count": 7,
     "metadata": {},
     "output_type": "execute_result"
    }
   ],
   "source": [
    "Q_discrete_white_noise(2, dt = 0.1 , var = 0.01**2, block_size = 3)"
   ]
  },
  {
   "cell_type": "code",
   "execution_count": 238,
   "metadata": {},
   "outputs": [],
   "source": [
    "centroid = [100, 100, 100]\n",
    "\n",
    "uk = UK_filter(dt = 0.03, \n",
    "                x_std_meas = 0.01, \n",
    "                y_std_meas = 0.01,\n",
    "                z_std_meas = 0.01,\n",
    "                init_x = centroid[0],\n",
    "                init_y = centroid[1],\n",
    "                init_z = centroid[2])"
   ]
  },
  {
   "cell_type": "code",
   "execution_count": 255,
   "metadata": {},
   "outputs": [],
   "source": [
    "uk.f.update([30,20,10])"
   ]
  },
  {
   "cell_type": "code",
   "execution_count": 256,
   "metadata": {},
   "outputs": [
    {
     "data": {
      "text/plain": [
       "array([-249.96503459,  -10.48951048, -299.96003953,  -11.98801198,\n",
       "       -349.93740668,  -13.77985263])"
      ]
     },
     "execution_count": 256,
     "metadata": {},
     "output_type": "execute_result"
    }
   ],
   "source": [
    "uk.f.x"
   ]
  },
  {
   "cell_type": "code",
   "execution_count": 257,
   "metadata": {},
   "outputs": [
    {
     "data": {
      "text/plain": [
       "[30, 20, 10]"
      ]
     },
     "execution_count": 257,
     "metadata": {},
     "output_type": "execute_result"
    }
   ],
   "source": [
    "uk.f.z"
   ]
  },
  {
   "cell_type": "code",
   "execution_count": 263,
   "metadata": {},
   "outputs": [],
   "source": [
    "kf_pred_dict = OrderedDict()\n",
    "\n",
    "kf_pred_dict[0] = [0,0,0]"
   ]
  },
  {
   "cell_type": "code",
   "execution_count": 264,
   "metadata": {},
   "outputs": [
    {
     "data": {
      "text/plain": [
       "odict_items([(0, [0, 0, 0])])"
      ]
     },
     "execution_count": 264,
     "metadata": {},
     "output_type": "execute_result"
    }
   ],
   "source": [
    "kf_pred_dict.items()"
   ]
  },
  {
   "cell_type": "code",
   "execution_count": 267,
   "metadata": {},
   "outputs": [
    {
     "name": "stdout",
     "output_type": "stream",
     "text": [
      "0 [0, 0, 0]\n"
     ]
    }
   ],
   "source": [
    "for a, b in kf_pred_dict.items():\n",
    "    print(a, b)"
   ]
  },
  {
   "cell_type": "code",
   "execution_count": 8,
   "metadata": {},
   "outputs": [],
   "source": [
    "def fx(x, dt):\n",
    "    # state transition function - predict next state based\n",
    "    # on constant velocity model x = vt + x_0\n",
    "    \n",
    "\n",
    "    #[x, x', x'', y, y', y'', z, z', z'']\n",
    "\n",
    "    F = np.matrix([[1.0, 0.0, 0.0, dt, 0.0, 0.0, 1/2.0*dt**2, 0.0, 0.0],    #x\n",
    "                    [0.0, 1.0, 0.0, 0.0,  dt, 0.0, 0.0, 1/2.0*dt**2, 0.0],  #y\n",
    "                    [0.0, 0.0, 1.0, 0.0, 0.0,  dt, 0.0, 0.0, 1/2.0*dt**2],  #z\n",
    "                    [0.0, 0.0, 0.0, 1.0, 0.0, 0.0,  dt, 0.0, 0.0],          #x'\n",
    "                    [0.0, 0.0, 0.0, 0.0, 1.0, 0.0, 0.0,  dt, 0.0],          #y'\n",
    "                    [0.0, 0.0, 0.0, 0.0, 0.0, 1.0, 0.0, 0.0,  dt],          #z'\n",
    "                    [0.0, 0.0, 0.0, 0.0, 0.0, 0.0, 1.0, 0.0, 0.0],          #x''\n",
    "                    [0.0, 0.0, 0.0, 0.0, 0.0, 0.0, 0.0, 1.0, 0.0],          #y''\n",
    "                    [0.0, 0.0, 0.0, 0.0, 0.0, 0.0, 0.0, 0.0, -9.8]])         #z''\n",
    "            \n",
    "    #B = np.array([0, 0, 0, 0, (dt**2)/2, dt])   #[x, x', y, y', z, z']\n",
    "\n",
    "    #u = np.array([[-9.8]]) # g\n",
    "    \n",
    "    return np.dot(F, x) \n",
    "\n",
    "def hx(x):\n",
    "    # measurement function - convert state into a measurement\n",
    "    # where measurements are [x_pos, y_pos, z_pos]\n",
    "\n",
    "    return x[[0, 1, 2]]\n",
    "\n",
    "class UK_filter():\n",
    "\n",
    "    def __init__(self, dt, x_std_meas, y_std_meas, z_std_meas, init_x, init_y, init_z):  \n",
    "    \n",
    "        self.init_x = init_x \n",
    "        self.init_y = init_y\n",
    "        self.init_z = init_z\n",
    "        self.dt = dt\n",
    "        self.z_std = 0.1\n",
    "\n",
    "        self.sigmas_points = MerweScaledSigmaPoints(9, alpha=.1, beta=2., kappa=1)\n",
    "        self.f = UnscentedKalmanFilter(dim_x=9, dim_z=9, dt=self.dt, fx=fx, hx=hx, points=self.sigmas_points)\n",
    "\n",
    "        self.f.x = np.array([self.init_x, self.init_y, self.init_z, 0, 0, 0, 0, 0, 0]) \n",
    "\n",
    "        self.f.P = np.eye(9)\n",
    "\n",
    "        #self.f.Q = Q_discrete_white_noise(3, dt = self.dt, var = 0.1**2, block_size = 3)\n",
    "        \n",
    "        self.f.Q = np.array([[(dt**6)/36, 0, 0, (dt**5)/12, 0, 0, (dt**4)/6, 0, 0],\n",
    "                               [0, (dt**6)/36, 0, 0, (dt**5)/12, 0, 0, (dt**4)/6, 0],\n",
    "                               [0, 0, (dt**6)/36, 0, 0, (dt**5)/12, 0, 0, (dt**4)/6],\n",
    "                               [(dt**5)/12, 0, 0, (dt**4)/4, 0, 0, (dt**3)/2, 0, 0],\n",
    "                               [0, (dt**5)/12, 0, 0, (dt**4)/4, 0, 0, (dt**3)/2, 0],\n",
    "                               [0, 0, (dt**5)/12, 0, 0, (dt**4)/4, 0, 0, (dt**3)/2],\n",
    "                               [(dt**4)/6, 0, 0, (dt**3)/2, 0, 0, (dt**2), 0, 0],\n",
    "                               [0, (dt**4)/6, 0, 0, (dt**3)/2, 0, 0, (dt**2), 0],\n",
    "                               [0, 0, (dt**4)/6, 0, 0, (dt**3)/2, 0, 0, (dt**2)]]) * 0.1**2\n",
    "        \n",
    "        self.f.R = np.array([[x_std_meas**2,0,0],\n",
    "                            [0, y_std_meas**2,0],\n",
    "                            [0, 0, y_std_meas**2]])\n",
    "\n",
    "        self.f.predict()\n"
   ]
  },
  {
   "cell_type": "code",
   "execution_count": 9,
   "metadata": {},
   "outputs": [],
   "source": [
    "centroid = [100, 100, 100]\n",
    "\n",
    "uk = UK_filter(dt = 0.03, \n",
    "                x_std_meas = 0.01, \n",
    "                y_std_meas = 0.1,\n",
    "                z_std_meas = 0.1,\n",
    "                init_x = centroid[0],\n",
    "                init_y = centroid[1],\n",
    "                init_z = centroid[2])"
   ]
  },
  {
   "cell_type": "code",
   "execution_count": 11,
   "metadata": {},
   "outputs": [],
   "source": [
    "uk.f.update([30,20,10])"
   ]
  },
  {
   "cell_type": "code",
   "execution_count": 5,
   "metadata": {},
   "outputs": [
    {
     "data": {
      "text/plain": [
       "array([30.00699301, 20.00799201, 10.00899101, -2.09884573, -2.39868083,\n",
       "       -2.69851594, -0.03146853, -0.03596403,  0.39650342])"
      ]
     },
     "execution_count": 5,
     "metadata": {},
     "output_type": "execute_result"
    }
   ],
   "source": [
    "uk.f.x"
   ]
  },
  {
   "cell_type": "code",
   "execution_count": 7,
   "metadata": {
    "collapsed": true
   },
   "outputs": [
    {
     "data": {
      "text/plain": [
       "array([[2.025e-09, 1.350e-07, 4.500e-06, 0.000e+00, 0.000e+00, 0.000e+00,\n",
       "        0.000e+00, 0.000e+00, 0.000e+00],\n",
       "       [1.350e-07, 9.000e-06, 3.000e-04, 0.000e+00, 0.000e+00, 0.000e+00,\n",
       "        0.000e+00, 0.000e+00, 0.000e+00],\n",
       "       [4.500e-06, 3.000e-04, 1.000e-02, 0.000e+00, 0.000e+00, 0.000e+00,\n",
       "        0.000e+00, 0.000e+00, 0.000e+00],\n",
       "       [0.000e+00, 0.000e+00, 0.000e+00, 2.025e-09, 1.350e-07, 4.500e-06,\n",
       "        0.000e+00, 0.000e+00, 0.000e+00],\n",
       "       [0.000e+00, 0.000e+00, 0.000e+00, 1.350e-07, 9.000e-06, 3.000e-04,\n",
       "        0.000e+00, 0.000e+00, 0.000e+00],\n",
       "       [0.000e+00, 0.000e+00, 0.000e+00, 4.500e-06, 3.000e-04, 1.000e-02,\n",
       "        0.000e+00, 0.000e+00, 0.000e+00],\n",
       "       [0.000e+00, 0.000e+00, 0.000e+00, 0.000e+00, 0.000e+00, 0.000e+00,\n",
       "        2.025e-09, 1.350e-07, 4.500e-06],\n",
       "       [0.000e+00, 0.000e+00, 0.000e+00, 0.000e+00, 0.000e+00, 0.000e+00,\n",
       "        1.350e-07, 9.000e-06, 3.000e-04],\n",
       "       [0.000e+00, 0.000e+00, 0.000e+00, 0.000e+00, 0.000e+00, 0.000e+00,\n",
       "        4.500e-06, 3.000e-04, 1.000e-02]])"
      ]
     },
     "execution_count": 7,
     "metadata": {},
     "output_type": "execute_result"
    }
   ],
   "source": [
    "uk.f.Q"
   ]
  },
  {
   "cell_type": "code",
   "execution_count": 12,
   "metadata": {
    "collapsed": true
   },
   "outputs": [
    {
     "data": {
      "text/plain": [
       "array([[2.025e-13, 0.000e+00, 0.000e+00, 2.025e-11, 0.000e+00, 0.000e+00,\n",
       "        1.350e-09, 0.000e+00, 0.000e+00],\n",
       "       [0.000e+00, 2.025e-13, 0.000e+00, 0.000e+00, 2.025e-11, 0.000e+00,\n",
       "        0.000e+00, 1.350e-09, 0.000e+00],\n",
       "       [0.000e+00, 0.000e+00, 2.025e-13, 0.000e+00, 0.000e+00, 2.025e-11,\n",
       "        0.000e+00, 0.000e+00, 1.350e-09],\n",
       "       [2.025e-11, 0.000e+00, 0.000e+00, 2.025e-09, 0.000e+00, 0.000e+00,\n",
       "        1.350e-07, 0.000e+00, 0.000e+00],\n",
       "       [0.000e+00, 2.025e-11, 0.000e+00, 0.000e+00, 2.025e-09, 0.000e+00,\n",
       "        0.000e+00, 1.350e-07, 0.000e+00],\n",
       "       [0.000e+00, 0.000e+00, 2.025e-11, 0.000e+00, 0.000e+00, 2.025e-09,\n",
       "        0.000e+00, 0.000e+00, 1.350e-07],\n",
       "       [1.350e-09, 0.000e+00, 0.000e+00, 1.350e-07, 0.000e+00, 0.000e+00,\n",
       "        9.000e-06, 0.000e+00, 0.000e+00],\n",
       "       [0.000e+00, 1.350e-09, 0.000e+00, 0.000e+00, 1.350e-07, 0.000e+00,\n",
       "        0.000e+00, 9.000e-06, 0.000e+00],\n",
       "       [0.000e+00, 0.000e+00, 1.350e-09, 0.000e+00, 0.000e+00, 1.350e-07,\n",
       "        0.000e+00, 0.000e+00, 9.000e-06]])"
      ]
     },
     "execution_count": 12,
     "metadata": {},
     "output_type": "execute_result"
    }
   ],
   "source": [
    "uk.f.Q"
   ]
  },
  {
   "cell_type": "code",
   "execution_count": 28,
   "metadata": {},
   "outputs": [
    {
     "name": "stdout",
     "output_type": "stream",
     "text": [
      "[[-2.34618559e-01 -4.02991878e+00  8.04024001e+02]\n",
      " [ 2.38399528e-01 -4.02769729e+00  6.53202159e+02]\n",
      " [ 7.35523219e-06 -6.21379005e-03  1.00000000e+00]]\n",
      "[[ 2.26355288e-01 -3.96787505e+00  6.46430758e+02]\n",
      " [ 2.26086351e-01  3.31465582e-01 -2.04673291e+02]\n",
      " [-2.51029938e-05 -6.15316812e-03  1.00000000e+00]]\n"
     ]
    }
   ],
   "source": [
    "\n",
    "camera_L_points = np.float32([[26,198],[318,181],[639,200],[177,316]])\n",
    "camera_R_points = np.float32([[317,181],[615,198],[442,316],[0,200]])\n",
    "\n",
    "court_img_L_points = np.float32([[0,600],[0,0],[638,0],[531,600]])\n",
    "court_img_R_points = np.float32([[0,600],[0,0],[531,0],[638,600]])\n",
    "\n",
    "\n",
    "\n",
    "h_L = cv2.getPerspectiveTransform(camera_L_points, court_img_L_points)\n",
    "h_R = cv2.getPerspectiveTransform(camera_R_points, court_img_R_points)\n",
    "\n",
    "print(h_L)\n",
    "print(h_R)"
   ]
  },
  {
   "cell_type": "code",
   "execution_count": 47,
   "metadata": {},
   "outputs": [],
   "source": [
    "a = h_L @ np.array([305,195,1]).reshape(3,1)"
   ]
  },
  {
   "cell_type": "code",
   "execution_count": 63,
   "metadata": {},
   "outputs": [
    {
     "data": {
      "text/plain": [
       "array([346.51853345])"
      ]
     },
     "execution_count": 63,
     "metadata": {},
     "output_type": "execute_result"
    }
   ],
   "source": [
    "a[0]/a[2]"
   ]
  },
  {
   "cell_type": "code",
   "execution_count": 64,
   "metadata": {},
   "outputs": [
    {
     "data": {
      "text/plain": [
       "array([309.98916497])"
      ]
     },
     "execution_count": 64,
     "metadata": {},
     "output_type": "execute_result"
    }
   ],
   "source": [
    "a[1]/a[2]"
   ]
  },
  {
   "cell_type": "code",
   "execution_count": 62,
   "metadata": {},
   "outputs": [],
   "source": [
    "a = h_R @ np.array([926 - 640, 200,1]).reshape(3,1)"
   ]
  },
  {
   "cell_type": "code",
   "execution_count": 85,
   "metadata": {
    "scrolled": true
   },
   "outputs": [
    {
     "name": "stdout",
     "output_type": "stream",
     "text": [
      "8.548994092874318\n",
      "9.02957917070336\n",
      "9.205938300901218\n"
     ]
    }
   ],
   "source": [
    "point = np.matrix([[-8.01],\n",
    "                 [4.11],\n",
    "                 [0]])\n",
    "point = [-6.02, -0.33, 1]\n",
    "[5.930308, 5.9304457, 11.355419]\n",
    "\n",
    "\n",
    "print(np.sqrt(point[0] **2 + (point[1] - (-6.4)) ** 2 + (point[2] - 1) ** 2))\n",
    "print(np.sqrt(point[0] **2 + (point[1] - (6.4)) ** 2 + (point[2] - 1) ** 2))\n",
    "print(np.sqrt((point[0] - (-15)) **2 + point[1] ** 2 + (point[2] - 3) ** 2))"
   ]
  },
  {
   "cell_type": "code",
   "execution_count": 78,
   "metadata": {},
   "outputs": [],
   "source": [
    "x = Symbol('x')\n",
    "y = Symbol('y')\n",
    "z = Symbol('z')\n",
    "\n",
    "depth = [10.217538, 9.828651, 7.930579662322998]\n",
    "\n",
    "b = x**2 + (y + 6.4) ** 2 + (z - 1) ** 2 - depth[0] ** 2\n",
    "a = x**2 + (y - 6.4) ** 2 + (z - 1) ** 2 - depth[1] ** 2\n",
    "c = (x + 15) ** 2 + y ** 2 + (z - 3) ** 2 - depth[2] ** 2"
   ]
  },
  {
   "cell_type": "code",
   "execution_count": 79,
   "metadata": {
    "scrolled": true
   },
   "outputs": [
    {
     "name": "stdout",
     "output_type": "stream",
     "text": [
      "[{x: -7.64989018878984, y: 0.304519621157930, z: 0.0373580466189902}, {x: -7.13042451755325, y: 0.304519621157930, z: 3.93335058089342}]\n"
     ]
    }
   ],
   "source": [
    "print(solve((a,b,c)))"
   ]
  },
  {
   "cell_type": "code",
   "execution_count": 28,
   "metadata": {},
   "outputs": [],
   "source": [
    " focal_length = 640 / (2.0 * np.tan(1.50098/2.0))"
   ]
  },
  {
   "cell_type": "code",
   "execution_count": 2,
   "metadata": {},
   "outputs": [],
   "source": [
    "a = np.array([np.nan,np.nan,np.nan])"
   ]
  },
  {
   "cell_type": "code",
   "execution_count": 5,
   "metadata": {},
   "outputs": [
    {
     "data": {
      "text/plain": [
       "True"
      ]
     },
     "execution_count": 5,
     "metadata": {},
     "output_type": "execute_result"
    }
   ],
   "source": [
    "np.isnan(a[0])"
   ]
  },
  {
   "cell_type": "code",
   "execution_count": 16,
   "metadata": {},
   "outputs": [],
   "source": [
    "\n",
    "def draw_point_3D(real_ball_trajectory_list, estimation_ball_trajectory_list):\n",
    "        \n",
    "\n",
    "        real_x = []\n",
    "        real_y = []\n",
    "        real_z = []\n",
    "        esti_x = []\n",
    "        esti_y = []\n",
    "        esti_z = []\n",
    "\n",
    "        for i in range((len(real_ball_trajectory_list))):\n",
    "\n",
    "            real_x.append(real_ball_trajectory_list[i][0])\n",
    "            real_y.append(real_ball_trajectory_list[i][1])\n",
    "            real_z.append(real_ball_trajectory_list[i][2])\n",
    "\n",
    "            ax.plot3D(real_x, real_y, real_z, 'red')\n",
    "\n",
    "\n",
    "        for j in range((len(estimation_ball_trajectory_list))):\n",
    "\n",
    "            esti_x.append(estimation_ball_trajectory_list[j][0])\n",
    "            esti_y.append(estimation_ball_trajectory_list[j][1])\n",
    "            esti_z.append(estimation_ball_trajectory_list[j][2])\n",
    "\n",
    "            ax.plot3D(esti_x, esti_y, esti_z, 'blue')\n",
    "\n",
    "       "
   ]
  },
  {
   "cell_type": "code",
   "execution_count": 18,
   "metadata": {},
   "outputs": [],
   "source": [
    "real_ball_trajectory_list =  [[-10.625, -2.284, 1.759], [-9.407, -2.074, 1.997], [-7.969, -1.832, 2.226], [-6.533, -1.597, 2.396], [-5.176, -1.379, 2.504], [-3.988, -1.192, 2.556], [-2.593, -0.978, 2.565], [-1.333, -0.786, 2.524], [-0.223, -0.617, 2.445]]\n",
    "estimation_ball_trajectory_list =  [[-11.253518534143861, -2.404967213012043, 1.6081490034740993], [-9.752641483540874, -2.128997130851256, 1.9134226567739963], [-8.291614135850025, -1.8856938337555267, 2.1259198937132617], [-6.882515822948473, -1.6529807512295243, 2.3590684109799147], [-5.577961412598646, -1.4445077880487691, 2.470015965525062], [-4.311206224718138, -1.2490537212459243, 2.5353311812823307], [-2.9625125884717294, -1.0371818784588367, 2.5590434605401917], [-1.7949310436030408, -0.8509251973853535, 2.530924368505894], [-0.9018243378625923, -0.6659461897659202, 2.456246584234343]]\n"
   ]
  },
  {
   "cell_type": "code",
   "execution_count": 19,
   "metadata": {},
   "outputs": [
    {
     "name": "stdout",
     "output_type": "stream",
     "text": [
      "9 9\n"
     ]
    }
   ],
   "source": [
    "print(len(real_ball_trajectory_list), len(estimation_ball_trajectory_list))"
   ]
  },
  {
   "cell_type": "code",
   "execution_count": 20,
   "metadata": {},
   "outputs": [
    {
     "data": {
      "image/png": "[encoded data removed]",
      "text/plain": [
       "<Figure size 432x288 with 1 Axes>"
      ]
     },
     "metadata": {
      "needs_background": "light"
     },
     "output_type": "display_data"
    }
   ],
   "source": [
    "fig_3d = plt.figure()\n",
    "ax = plt.axes(projection=\"3d\")\n",
    "draw_point_3D(real_ball_trajectory_list, estimation_ball_trajectory_list)\n",
    "\n",
    "plt.show()"
   ]
  },
  {
   "cell_type": "code",
   "execution_count": 3,
   "metadata": {},
   "outputs": [],
   "source": [
    "def cal_ball_position(ball_height_list, ball_distance_list):\n",
    "\n",
    "    height = sum(ball_height_list[:2]) / 2 - 1\n",
    "\n",
    "    th_L = np.arccos((ball_distance_list[0] ** 2 + 12.8 ** 2 - ball_distance_list[1]**2) / (2 * 12.8 * ball_distance_list[0]))\n",
    "    #th_R = np.arccos((ball_depth_list[1] ** 2 + 12.8 ** 2 - ball_depth_list[0]**2) / (2 * 12.8 * ball_depth_list[1]))\n",
    "\n",
    "    ball2net_length_x_L = ball_distance_list[0] * np.sin(th_L)\n",
    "    ball_position_y_L = ball_distance_list[0] * np.cos(th_L)\n",
    "\n",
    "    ball_plate_angle_L = np.sin(height / ball2net_length_x_L)\n",
    "\n",
    "    ball_position_x_L = ball2net_length_x_L * np.cos(ball_plate_angle_L)\n",
    "\n",
    "    #ball2net_length_x_R = ball_depth_list[1] * np.sin(th_R)\n",
    "    #ball_position_y_R = ball_depth_list[1] * np.cos(th_R)\n",
    "\n",
    "    #ball_plate_angle_R = np.sin(height / ball2net_length_x_R)\n",
    "\n",
    "    #ball_position_x_R = ball2net_length_x_R * np.cos(ball_plate_angle_R)\n",
    "\n",
    "    return [-ball_position_x_L, ball_position_y_L - 6.4, height + 1]"
   ]
  },
  {
   "cell_type": "code",
   "execution_count": 5,
   "metadata": {},
   "outputs": [
    {
     "data": {
      "text/plain": [
       "[-10.967803557522545, 0.1709653125000017, 1.776]"
      ]
     },
     "execution_count": 5,
     "metadata": {},
     "output_type": "execute_result"
    }
   ],
   "source": [
    "a = [12.809, 12.637]\n",
    "b = [1.776,1.776]\n",
    "\n",
    "cal_ball_position(b,a)"
   ]
  },
  {
   "cell_type": "code",
   "execution_count": 86,
   "metadata": {},
   "outputs": [
    {
     "name": "stdout",
     "output_type": "stream",
     "text": [
      "9.32065972291495\n",
      "5.515483085856488\n",
      "11.800572684000088\n"
     ]
    }
   ],
   "source": [
    "point = [-3.581137, 2.2052400, 1]\n",
    "\n",
    "\n",
    "print(np.sqrt(point[0] **2 + (point[1] - (-6.4)) ** 2 + (point[2] - 1) ** 2))\n",
    "print(np.sqrt(point[0] **2 + (point[1] - (6.4)) ** 2 + (point[2] - 1) ** 2))\n",
    "print(np.sqrt((point[0] - (-15)) **2 + point[1] ** 2 + (point[2] - 3) ** 2))"
   ]
  },
  {
   "cell_type": "code",
   "execution_count": 69,
   "metadata": {},
   "outputs": [],
   "source": [
    "real_ball_trajectory_list =  [[-8.019, -4.153, 2.055], [-3.984, -3.32, 2.135], [-1.064, -2.763, 1.863], [-9.568, -4.36, 1.922], [-8.224, -3.967, 2.046], [-6.838, -3.592, 2.123], [-5.439, -3.248, 2.151], [-3.18, -2.726, 2.08], [-8.181, -4.585, 2.034], [-6.733, -4.375, 2.117], [-5.357, -4.193, 2.148], [-4.024, -4.028, 2.137], [-2.901, -3.891, 2.086], [-8.293, -4.827, 2.027], [-6.754, -4.673, 2.12], [-5.309, -4.54, 2.159], [-1.756, -4.236, 2.015], [-7.629, -4.688, 2.073], [-6.227, -4.535, 2.137], [-4.931, -4.405, 2.157], [-1.574, -4.082, 1.983], [-7.984, -4.821, 2.045], [-6.616, -4.694, 2.118], [-5.21, -4.574, 2.147], [-3.952, -4.474, 2.134], [-1.738, -4.299, 1.989], [-0.844, -4.228, 1.87], [-9.688, -4.428, 1.91], [-8.284, -4.024, 2.044], [-6.967, -3.673, 2.125], [-5.568, -3.33, 2.162], [-4.166, -3.011, 2.149], [-3.047, -2.757, 2.095], [-2.084, -2.538, 2.003], [-9.389, -4.75, 1.928], [-7.75, -4.485, 2.064], [-6.213, -4.258, 2.134], [-4.832, -4.071, 2.149], [-3.531, -3.9, 2.12], [-2.384, -3.749, 2.049], [-1.26, -3.601, 1.923], [-9.609, -4.714, 1.905], [-8.165, -4.442, 2.038], [-6.875, -4.217, 2.114], [-5.601, -4.01, 2.149], [-3.167, -3.644, 2.107], [-2.195, -3.499, 2.034], [-1.277, -3.362, 1.925], [-9.756, -4.595, 1.893], [-8.281, -4.242, 2.034], [-7.027, -3.964, 2.112], [-5.724, -3.696, 2.151], [-4.502, -3.462, 2.151], [-3.374, -3.25, 2.114], [-2.342, -3.056, 2.04], [-1.422, -2.883, 1.931], [-8.168, -4.344, 2.042], [-6.822, -4.083, 2.121], [-5.494, -3.844, 2.155], [-1.942, -3.249, 2.008], [-0.795, -3.058, 1.849], [-9.566, -4.687, 1.911], [-8.129, -4.411, 2.041], [-6.782, -4.171, 2.116], [-5.497, -3.96, 2.148], [-2.901, -3.566, 2.082], [-1.9, -3.415, 1.99], [-9.429, -4.767, 1.926], [-7.937, -4.528, 2.056], [-6.56, -4.325, 2.13], [-5.225, -4.143, 2.158], [-4.006, -3.988, 2.147], [-2.849, -3.841, 2.098], [-1.84, -3.714, 2.013], [-0.912, -3.596, 1.892], [-8.196, -4.915, 2.03], [-6.749, -4.8, 2.115], [-5.37, -4.699, 2.15], [-3.878, -4.597, 2.139], [-2.607, -4.51, 2.079], [-9.565, -4.604, 1.914], [-8.225, -4.31, 2.037], [-6.842, -4.029, 2.117], [-7.955, -4.838, 2.046], [-6.52, -4.71, 2.121], [-5.088, -4.593, 2.148], [-1.5, -4.316, 1.969], [-0.549, -4.243, 1.834], [-8.32, -3.984, 2.035], [-6.977, -3.615, 2.114], [-4.524, -3.015, 2.137], [-1.396, -2.282, 1.868], [-0.461, -2.063, 1.703], [-8.324, -4.602, 2.022], [-7.026, -4.41, 2.102], [-5.663, -4.224, 2.142], [-1.312, -3.676, 1.913], [-0.385, -3.56, 1.762]]\n",
    "estimation_ball_trajectory_list =  [[-8.436, -4.151, 1.983], [-4.337, -3.388, 2.135], [-1.353, -2.776, 1.92], [-10.041, -4.356, 1.83], [-8.644, -3.97, 1.978], [-7.442, -3.444, 2.084], [-5.777, -3.329, 2.14], [-3.438, -2.784, 2.092], [-8.682, -4.665, 1.981], [-7.267, -4.45, 2.081], [-5.846, -4.25, 2.128], [-4.496, -4.082, 2.139], [-3.18, -3.907, 2.09], [-8.696, -4.808, 1.941], [-7.189, -4.661, 2.052], [-5.679, -4.565, 2.137], [-2.237, -4.187, 2.049], [-7.994, -4.722, 2.029], [-6.599, -4.566, 2.116], [-5.313, -4.443, 2.151], [-1.787, -4.086, 2.003], [-8.446, -4.809, 1.965], [-7.018, -4.674, 2.054], [-5.592, -4.602, 2.127], [-4.355, -4.465, 2.098], [-2.019, -4.302, 2.014], [-1.067, -4.218, 1.892], [-10.166, -4.442, 1.825], [-8.655, -4.135, 2.02], [-7.347, -3.772, 2.085], [-6.058, -3.45, 2.148], [-4.624, -2.962, 2.149], [-3.279, -2.809, 2.106], [-2.318, -2.592, 2.026], [-10.017, -4.467, 1.869], [-8.218, -4.488, 1.984], [-6.654, -4.318, 2.111], [-5.274, -4.127, 2.136], [-3.939, -3.941, 2.118], [-2.758, -3.786, 2.069], [-1.598, -3.578, 1.957], [-9.965, -4.786, 1.843], [-8.553, -4.513, 1.995], [-7.27, -4.215, 2.06], [-5.999, -4.016, 2.118], [-3.459, -3.679, 2.111], [-2.429, -3.527, 2.059], [-1.465, -3.382, 1.949], [-10.23, -4.586, 1.792], [-8.711, -4.343, 1.999], [-7.439, -3.978, 2.059], [-6.059, -3.765, 2.132], [-4.818, -3.515, 2.148], [-3.652, -3.302, 2.12], [-2.588, -3.1, 2.064], [-1.623, -2.914, 1.952], [-8.614, -4.441, 2.002], [-7.213, -4.158, 2.094], [-5.874, -3.913, 2.151], [-2.276, -3.305, 2.033], [-1.046, -3.055, 1.886], [-10.027, -4.668, 1.827], [-8.571, -4.4, 1.958], [-7.184, -4.165, 2.062], [-6.112, -3.824, 2.13], [-3.232, -3.61, 2.091], [-2.179, -3.449, 2.011], [-9.855, -4.754, 1.851], [-8.409, -4.52, 1.986], [-7.009, -4.323, 2.063], [-5.63, -4.193, 2.14], [-4.298, -4.014, 2.147], [-3.149, -3.874, 2.107], [-2.1, -3.742, 2.031], [-1.122, -3.606, 1.918], [-8.685, -4.949, 1.985], [-7.269, -4.829, 2.078], [-5.865, -4.726, 2.144], [-4.433, -4.472, 2.127], [-2.899, -4.517, 2.085], [-10.051, -4.722, 1.859], [-8.673, -4.301, 1.955], [-7.27, -4.03, 2.053], [-8.369, -4.875, 2.005], [-6.93, -4.674, 2.053], [-5.486, -4.578, 2.108], [-1.741, -4.322, 1.993], [-0.805, -4.244, 1.862], [-8.8, -4.126, 1.987], [-7.415, -3.739, 2.082], [-4.819, -3.081, 2.144], [-1.654, -2.35, 1.909], [-0.609, -2.126, 1.748], [-8.707, -4.674, 1.973], [-7.362, -4.454, 2.08], [-6.009, -4.264, 2.128], [-1.573, -3.699, 1.941], [-0.646, -3.582, 1.807]]\n",
    "\n",
    "\n",
    "real = np.array(real_ball_trajectory_list)\n",
    "esti = np.array(estimation_ball_trajectory_list)"
   ]
  },
  {
   "cell_type": "code",
   "execution_count": 70,
   "metadata": {},
   "outputs": [
    {
     "data": {
      "text/plain": [
       "(98, 3)"
      ]
     },
     "execution_count": 70,
     "metadata": {},
     "output_type": "execute_result"
    }
   ],
   "source": [
    "real.shape"
   ]
  },
  {
   "cell_type": "code",
   "execution_count": 76,
   "metadata": {
    "scrolled": true
   },
   "outputs": [
    {
     "data": {
      "text/plain": [
       "0.3782653061224492"
      ]
     },
     "execution_count": 76,
     "metadata": {},
     "output_type": "execute_result"
    }
   ],
   "source": [
    "sum(real[:,0] - esti[:,0]) / real.shape[0]"
   ]
  },
  {
   "cell_type": "code",
   "execution_count": 75,
   "metadata": {},
   "outputs": [
    {
     "data": {
      "text/plain": [
       "0.02370408163265307"
      ]
     },
     "execution_count": 75,
     "metadata": {},
     "output_type": "execute_result"
    }
   ],
   "source": [
    "sum(real[:,1] - esti[:,1]) / real.shape[0]"
   ]
  },
  {
   "cell_type": "code",
   "execution_count": 74,
   "metadata": {},
   "outputs": [
    {
     "data": {
      "text/plain": [
       "0.02037755102040814"
      ]
     },
     "execution_count": 74,
     "metadata": {},
     "output_type": "execute_result"
    }
   ],
   "source": [
    "sum(real[:,2] - esti[:,2]) / real.shape[0]"
   ]
  },
  {
   "cell_type": "code",
   "execution_count": 18,
   "metadata": {},
   "outputs": [],
   "source": [
    "def cal_landing_point(pos, vel):\n",
    "    t_list = []\n",
    "\n",
    "    x0, y0, z0 = pos[0], pos[1], pos[2]\n",
    "    vx, vy, vz = vel[0], vel[1], vel[2]\n",
    "\n",
    "    a = -((0.5 * 0.507 * 1.2041 * np.pi * (0.033 ** 2) * vz ** 2 ) / 0.057 + 9.8 / 2 )\n",
    "    b = vz\n",
    "    c = z0\n",
    "\n",
    "    t_list.append((-b + np.sqrt(b ** 2 - 4 * a * c))/(2 * a))\n",
    "    t_list.append((-b - np.sqrt(b ** 2 - 4 * a * c))/(2 * a))\n",
    "\n",
    "    t = max(t_list)\n",
    "\n",
    "    x = np.array(x0 + vx * t - (0.5 * 0.507 * 1.2041 * np.pi * (0.033 ** 2) * vx ** 2 ) * (t ** 2) / 0.057,float)\n",
    "    y = np.array(y0 + vy * t - (0.5 * 0.507 * 1.2041 * np.pi * (0.033 ** 2) * vy ** 2 ) * (t ** 2) / 0.057,float)\n",
    "    z = np.array(z0 + vz * t - ((0.5 * 0.507 * 1.2041 * np.pi * (0.033 ** 2) * vz ** 2 ) / 0.057 + 9.8 / 2) * (t ** 2),float)\n",
    "\n",
    "    return x, y, z"
   ]
  },
  {
   "cell_type": "code",
   "execution_count": 20,
   "metadata": {},
   "outputs": [
    {
     "name": "stdout",
     "output_type": "stream",
     "text": [
      "-0.5013290383713396 0.5147375760755324\n"
     ]
    },
    {
     "data": {
      "text/plain": [
       "(-17.67230580455068, -1.3282260543636049, 0.0)"
      ]
     },
     "execution_count": 20,
     "metadata": {},
     "output_type": "execute_result"
    }
   ],
   "source": [
    "real_ball_pos = [-5.732, -0.121, 2.523]\n",
    "camera_preadict_pos =  [-5.578, -0.151, 2.529]\n",
    "ball_val =  [17.371, 1.934, -0.445]\n",
    "real_ball_val =  [18.50223393549761, 2.0893857924319046, -0.07884474688421994]\n",
    "esti_ball_val =  [20.328803904982106, 2.2996384507898315, 0.13140791147370184]\n",
    "\n",
    "\n",
    "\n",
    "\n",
    "cal_landing_point(camera_preadict_pos, esti_ball_val)"
   ]
  },
  {
   "cell_type": "code",
   "execution_count": 12,
   "metadata": {},
   "outputs": [
    {
     "name": "stdout",
     "output_type": "stream",
     "text": [
      "esti_ball_landing_point =  [1.73, -0.016, 0.0]\n"
     ]
    }
   ],
   "source": [
    "esti_ball_landing_point =  [1.72977204028550, -0.0160365672019290, 2.22044604925031e-15]\n",
    "\n",
    "print(\"esti_ball_landing_point = \", [np.around(esti_ball_landing_point[0],3), np.around(esti_ball_landing_point[1],3), np.around(esti_ball_landing_point[2],3)])\n"
   ]
  },
  {
   "cell_type": "code",
   "execution_count": 10,
   "metadata": {},
   "outputs": [
    {
     "ename": "NameError",
     "evalue": "name 'vz' is not defined",
     "output_type": "error",
     "traceback": [
      "\u001b[0;31m---------------------------------------------------------------------------\u001b[0m",
      "\u001b[0;31mNameError\u001b[0m                                 Traceback (most recent call last)",
      "\u001b[0;32m<ipython-input-10-a9b825730e39>\u001b[0m in \u001b[0;36m<module>\u001b[0;34m\u001b[0m\n\u001b[0;32m----> 1\u001b[0;31m \u001b[0meq\u001b[0m \u001b[0;34m=\u001b[0m \u001b[0;34m-\u001b[0m\u001b[0;34m(\u001b[0m\u001b[0;34m(\u001b[0m\u001b[0;36m0.5\u001b[0m \u001b[0;34m*\u001b[0m \u001b[0;36m0.507\u001b[0m \u001b[0;34m*\u001b[0m \u001b[0;36m1.2041\u001b[0m \u001b[0;34m*\u001b[0m \u001b[0mnp\u001b[0m\u001b[0;34m.\u001b[0m\u001b[0mpi\u001b[0m \u001b[0;34m*\u001b[0m \u001b[0;34m(\u001b[0m\u001b[0;36m0.033\u001b[0m \u001b[0;34m**\u001b[0m \u001b[0;36m2\u001b[0m\u001b[0;34m)\u001b[0m \u001b[0;34m*\u001b[0m \u001b[0mvz\u001b[0m \u001b[0;34m**\u001b[0m \u001b[0;36m2\u001b[0m \u001b[0;34m)\u001b[0m \u001b[0;34m/\u001b[0m \u001b[0;36m0.057\u001b[0m \u001b[0;34m+\u001b[0m \u001b[0;36m9.8\u001b[0m\u001b[0;34m)\u001b[0m \u001b[0;34m*\u001b[0m \u001b[0mtime\u001b[0m \u001b[0;34m**\u001b[0m \u001b[0;36m2\u001b[0m \u001b[0;34m+\u001b[0m \u001b[0mvz\u001b[0m \u001b[0;34m*\u001b[0m \u001b[0mtime\u001b[0m \u001b[0;34m+\u001b[0m \u001b[0mz0\u001b[0m\u001b[0;34m\u001b[0m\u001b[0;34m\u001b[0m\u001b[0m\n\u001b[0m\u001b[1;32m      2\u001b[0m \u001b[0;34m\u001b[0m\u001b[0m\n\u001b[1;32m      3\u001b[0m \u001b[0ma\u001b[0m \u001b[0;34m=\u001b[0m \u001b[0;34m-\u001b[0m\u001b[0;34m(\u001b[0m\u001b[0;34m(\u001b[0m\u001b[0;36m0.5\u001b[0m \u001b[0;34m*\u001b[0m \u001b[0;36m0.507\u001b[0m \u001b[0;34m*\u001b[0m \u001b[0;36m1.2041\u001b[0m \u001b[0;34m*\u001b[0m \u001b[0mnp\u001b[0m\u001b[0;34m.\u001b[0m\u001b[0mpi\u001b[0m \u001b[0;34m*\u001b[0m \u001b[0;34m(\u001b[0m\u001b[0;36m0.033\u001b[0m \u001b[0;34m**\u001b[0m \u001b[0;36m2\u001b[0m\u001b[0;34m)\u001b[0m \u001b[0;34m*\u001b[0m \u001b[0mvz\u001b[0m \u001b[0;34m**\u001b[0m \u001b[0;36m2\u001b[0m \u001b[0;34m)\u001b[0m \u001b[0;34m/\u001b[0m \u001b[0;36m0.057\u001b[0m \u001b[0;34m+\u001b[0m \u001b[0;36m9.8\u001b[0m\u001b[0;34m)\u001b[0m\u001b[0;34m\u001b[0m\u001b[0;34m\u001b[0m\u001b[0m\n\u001b[1;32m      4\u001b[0m \u001b[0mb\u001b[0m \u001b[0;34m=\u001b[0m \u001b[0mvz\u001b[0m\u001b[0;34m\u001b[0m\u001b[0;34m\u001b[0m\u001b[0m\n\u001b[1;32m      5\u001b[0m \u001b[0mc\u001b[0m \u001b[0;34m=\u001b[0m \u001b[0mz0\u001b[0m\u001b[0;34m\u001b[0m\u001b[0;34m\u001b[0m\u001b[0m\n",
      "\u001b[0;31mNameError\u001b[0m: name 'vz' is not defined"
     ]
    }
   ],
   "source": [
    "eq = -((0.5 * 0.507 * 1.2041 * np.pi * (0.033 ** 2) * vz ** 2 ) / 0.057 + 9.8) * time ** 2 + vz * time + z0\n",
    "\n",
    "a = -((0.5 * 0.507 * 1.2041 * np.pi * (0.033 ** 2) * vz ** 2 ) / 0.057 + 9.8)\n",
    "b = vz\n",
    "c = z0\n",
    "\n",
    "sol = (-b + np.sqrt(b ** 2 - 4 * a * c))/(2 * a)"
   ]
  },
  {
   "cell_type": "code",
   "execution_count": 7,
   "metadata": {},
   "outputs": [
    {
     "name": "stdout",
     "output_type": "stream",
     "text": [
      "(100, 3) (100, 3)\n"
     ]
    }
   ],
   "source": [
    "with open('실험 데이터/real_3.bin', 'rb') as f:\n",
    "    real_landing_point = pickle.load(f)\n",
    "\n",
    "with open('실험 데이터/esti_3.bin', 'rb') as f:\n",
    "    esti_landing_point = pickle.load(f)\n",
    "    \n",
    "print(real_landing_point.shape, esti_landing_point.shape)"
   ]
  },
  {
   "cell_type": "code",
   "execution_count": 44,
   "metadata": {},
   "outputs": [
    {
     "name": "stdout",
     "output_type": "stream",
     "text": [
      "MAE\n",
      "1.2417200000000002\n",
      "0.11094\n",
      "MSE\n",
      "1.7416815600000004\n",
      "0.018985179999999987\n",
      "RMSE\n",
      "1.3197278355782303\n",
      "0.13778671924390967\n",
      "R2 Score\n",
      "0.777818335373142\n",
      "1.0441360754828246\n"
     ]
    }
   ],
   "source": [
    "print('MAE')\n",
    "print((sum(abs((real_landing_point[:,0]  - esti_landing_point[:,0]))) / esti_landing_point.shape[0]))\n",
    "print((sum(abs((real_landing_point[:,1]  - esti_landing_point[:,1]))) / esti_landing_point.shape[0]))\n",
    "\n",
    "print('MSE')\n",
    "print((sum((real_landing_point[:,0]  - esti_landing_point[:,0]) ** 2) / esti_landing_point.shape[0]))\n",
    "print((sum((real_landing_point[:,1]  - esti_landing_point[:,1]) ** 2) / esti_landing_point.shape[0]))\n",
    "\n",
    "\n",
    "print('RMSE')\n",
    "print(np.sqrt(sum((real_landing_point[:,0]  - esti_landing_point[:,0]) ** 2) / esti_landing_point.shape[0]))\n",
    "print(np.sqrt(sum((real_landing_point[:,1] - esti_landing_point[:,1]) ** 2) / esti_landing_point.shape[0]))\n",
    "\n",
    "print('R2 Score')\n",
    "print(sum(esti_landing_point[:,0])/ sum(real_landing_point[:,0]))\n",
    "print(sum(esti_landing_point[:,1])/ sum(real_landing_point[:,1]))\n"
   ]
  },
  {
   "cell_type": "code",
   "execution_count": 8,
   "metadata": {
    "collapsed": true
   },
   "outputs": [
    {
     "data": {
      "text/plain": [
       "array([[ 5.019e+00,  2.099e+00,  2.000e-03],\n",
       "       [ 5.341e+00,  2.015e+00,  1.000e-03],\n",
       "       [ 5.996e+00, -5.980e-01,  7.000e-03],\n",
       "       [ 5.130e+00,  2.010e+00,  1.000e-03],\n",
       "       [ 5.215e+00, -2.660e-01,  8.000e-03],\n",
       "       [ 5.929e+00,  1.880e-01,  3.500e-02],\n",
       "       [ 5.083e+00,  1.816e+00,  8.000e-03],\n",
       "       [ 5.648e+00,  1.494e+00,  9.000e-03],\n",
       "       [ 5.736e+00,  8.240e-01,  1.800e-02],\n",
       "       [ 5.997e+00, -2.164e+00,  1.900e-02],\n",
       "       [ 5.660e+00, -9.060e-01,  2.000e-02],\n",
       "       [ 5.156e+00,  5.140e-01,  1.500e-02],\n",
       "       [ 5.798e+00,  5.810e-01,  3.000e-03],\n",
       "       [ 5.424e+00, -1.340e+00,  1.300e-02],\n",
       "       [ 6.033e+00, -1.484e+00,  1.200e-02],\n",
       "       [ 5.258e+00, -1.394e+00,  1.800e-02],\n",
       "       [ 5.521e+00, -2.780e-01,  3.000e-03],\n",
       "       [ 5.207e+00,  1.698e+00,  1.500e-02],\n",
       "       [ 5.561e+00,  8.100e-02,  1.900e-02],\n",
       "       [ 5.899e+00,  9.760e-01,  2.500e-02],\n",
       "       [ 5.457e+00, -5.180e-01,  7.000e-03],\n",
       "       [ 6.093e+00, -1.636e+00,  1.400e-02],\n",
       "       [ 6.248e+00,  1.668e+00,  2.600e-02],\n",
       "       [ 6.150e+00,  2.094e+00,  2.700e-02],\n",
       "       [ 5.794e+00,  2.192e+00,  4.000e-03],\n",
       "       [ 5.630e+00, -9.610e-01,  7.000e-03],\n",
       "       [ 5.483e+00,  6.950e-01,  1.700e-02],\n",
       "       [ 6.096e+00,  1.645e+00,  6.000e-03],\n",
       "       [ 5.381e+00, -2.184e+00,  5.000e-03],\n",
       "       [ 5.176e+00,  1.749e+00,  0.000e+00],\n",
       "       [ 5.576e+00, -1.839e+00,  2.000e-02],\n",
       "       [ 5.363e+00,  8.510e-01,  8.000e-03],\n",
       "       [ 5.975e+00,  5.260e-01,  2.200e-02],\n",
       "       [ 6.045e+00,  1.353e+00,  2.500e-02],\n",
       "       [ 5.896e+00, -8.800e-02,  2.600e-02],\n",
       "       [ 5.350e+00, -1.179e+00,  1.600e-02],\n",
       "       [ 5.852e+00, -9.830e-01,  3.000e-03],\n",
       "       [ 6.084e+00, -1.734e+00,  1.700e-02],\n",
       "       [ 5.650e+00,  2.238e+00,  2.500e-02],\n",
       "       [ 5.081e+00,  6.260e-01,  1.400e-02],\n",
       "       [ 4.982e+00,  1.835e+00,  2.000e-03],\n",
       "       [ 6.086e+00, -1.410e+00,  5.200e-02],\n",
       "       [ 6.588e+00, -1.375e+00,  6.000e-03],\n",
       "       [ 5.619e+00,  6.660e-01,  1.600e-02],\n",
       "       [ 5.815e+00, -1.830e-01,  1.300e-02],\n",
       "       [ 5.135e+00, -1.453e+00,  1.800e-02],\n",
       "       [ 5.900e+00,  2.136e+00,  9.000e-03],\n",
       "       [ 6.011e+00,  8.240e-01,  7.000e-03],\n",
       "       [ 5.456e+00, -1.106e+00,  2.100e-02],\n",
       "       [ 5.664e+00,  6.430e-01,  9.000e-03],\n",
       "       [ 5.519e+00,  1.112e+00,  2.300e-02],\n",
       "       [ 6.062e+00,  1.150e-01,  2.100e-02],\n",
       "       [ 6.301e+00,  1.640e+00,  0.000e+00],\n",
       "       [ 5.346e+00, -2.610e-01,  2.400e-02],\n",
       "       [ 5.845e+00,  1.227e+00,  3.000e-03],\n",
       "       [ 5.678e+00,  2.170e-01,  2.900e-02],\n",
       "       [ 5.197e+00, -1.830e+00,  2.200e-02],\n",
       "       [ 5.105e+00, -3.120e-01,  1.400e-02],\n",
       "       [ 5.063e+00, -1.937e+00,  2.000e-02],\n",
       "       [ 6.108e+00, -2.251e+00,  3.000e-02],\n",
       "       [ 5.398e+00, -9.990e-01,  2.700e-02],\n",
       "       [ 6.196e+00,  4.800e-01,  1.100e-02],\n",
       "       [ 5.328e+00,  1.122e+00,  6.000e-03],\n",
       "       [ 5.552e+00, -1.558e+00,  1.600e-02],\n",
       "       [ 6.042e+00,  1.498e+00,  1.800e-02],\n",
       "       [ 5.532e+00,  2.416e+00,  1.000e-02],\n",
       "       [ 5.621e+00,  2.048e+00,  3.100e-02],\n",
       "       [ 5.124e+00, -8.520e-01,  2.100e-02],\n",
       "       [ 5.724e+00, -5.570e-01,  3.000e-03],\n",
       "       [ 5.678e+00,  2.220e+00,  1.300e-02],\n",
       "       [ 6.144e+00,  1.531e+00,  3.200e-02],\n",
       "       [ 5.115e+00, -5.330e-01,  1.400e-02],\n",
       "       [ 5.998e+00, -1.408e+00,  4.000e-03],\n",
       "       [ 5.148e+00,  1.143e+00,  7.000e-03],\n",
       "       [ 5.238e+00,  1.445e+00,  2.000e-03],\n",
       "       [ 5.731e+00, -2.323e+00,  7.000e-03],\n",
       "       [ 5.884e+00, -1.798e+00,  3.800e-02],\n",
       "       [ 5.725e+00,  7.790e-01,  3.500e-02],\n",
       "       [ 5.460e+00,  4.170e-01,  2.600e-02],\n",
       "       [ 6.063e+00,  1.029e+00,  2.400e-02],\n",
       "       [ 5.184e+00,  1.493e+00,  1.200e-02],\n",
       "       [ 5.327e+00, -4.930e-01,  1.300e-02],\n",
       "       [ 5.834e+00, -7.900e-01,  3.100e-02],\n",
       "       [ 5.736e+00,  2.398e+00,  1.500e-02],\n",
       "       [ 5.854e+00,  9.910e-01,  1.300e-02],\n",
       "       [ 6.234e+00,  2.084e+00,  1.800e-02],\n",
       "       [ 6.257e+00,  1.752e+00,  1.500e-02],\n",
       "       [ 5.604e+00, -3.030e-01,  3.000e-03],\n",
       "       [ 5.579e+00, -7.150e-01,  4.000e-03],\n",
       "       [ 5.422e+00,  2.610e-01,  2.000e-03],\n",
       "       [ 6.076e+00, -2.276e+00,  7.000e-03],\n",
       "       [ 5.177e+00,  1.037e+00,  2.800e-02],\n",
       "       [ 5.312e+00,  2.130e+00,  2.000e-03],\n",
       "       [ 5.851e+00,  6.390e-01,  8.000e-03],\n",
       "       [ 5.682e+00,  4.600e-02,  1.400e-02],\n",
       "       [ 5.454e+00, -1.161e+00,  3.600e-02],\n",
       "       [ 5.640e+00, -1.241e+00,  0.000e+00],\n",
       "       [ 6.112e+00, -7.300e-02,  1.100e-02],\n",
       "       [ 5.276e+00, -8.900e-02,  2.600e-02],\n",
       "       [ 5.974e+00,  1.992e+00,  1.800e-02]])"
      ]
     },
     "execution_count": 8,
     "metadata": {},
     "output_type": "execute_result"
    }
   ],
   "source": [
    "real_landing_point"
   ]
  },
  {
   "cell_type": "code",
   "execution_count": 9,
   "metadata": {
    "collapsed": true
   },
   "outputs": [
    {
     "data": {
      "text/plain": [
       "array([[ 4.164,  1.949,  0.   ],\n",
       "       [ 4.552,  1.831, -0.   ],\n",
       "       [ 4.828, -0.57 , -0.   ],\n",
       "       [ 3.9  ,  1.887, -0.   ],\n",
       "       [ 2.998, -1.447,  0.   ],\n",
       "       [ 4.105,  0.189,  0.   ],\n",
       "       [ 4.589,  1.758,  0.   ],\n",
       "       [ 4.743,  1.371, -0.   ],\n",
       "       [ 4.708,  0.777,  0.   ],\n",
       "       [ 6.02 , -1.753,  0.   ],\n",
       "       [ 4.487, -0.857,  0.   ],\n",
       "       [ 4.366,  0.481,  0.   ],\n",
       "       [ 5.023,  0.545,  0.   ],\n",
       "       [ 5.86 , -1.827, -0.   ],\n",
       "       [ 4.828, -1.384,  0.   ],\n",
       "       [ 2.574, -0.061,  0.   ],\n",
       "       [ 4.633, -0.703,  0.   ],\n",
       "       [ 3.704,  1.769,  0.   ],\n",
       "       [ 3.998,  1.727,  0.   ],\n",
       "       [ 5.417,  0.963, -0.   ],\n",
       "       [ 4.329, -0.442,  0.   ],\n",
       "       [ 4.63 , -1.533, -0.   ],\n",
       "       [ 5.146,  1.628,  0.   ],\n",
       "       [ 4.306,  1.964,  0.   ],\n",
       "       [ 3.573,  0.628,  0.   ],\n",
       "       [ 5.425, -0.992, -0.   ],\n",
       "       [ 4.745,  0.629, -0.   ],\n",
       "       [ 5.127,  1.558,  0.   ],\n",
       "       [ 4.1  , -2.066,  0.   ],\n",
       "       [ 5.722,  1.818,  0.   ],\n",
       "       [ 4.446, -1.782,  0.   ],\n",
       "       [ 4.277,  0.782, -0.   ],\n",
       "       [ 5.114,  0.266, -0.   ],\n",
       "       [ 3.807,  1.229,  0.   ],\n",
       "       [ 4.578, -0.018,  0.   ],\n",
       "       [ 4.296, -1.112, -0.   ],\n",
       "       [ 4.323, -1.07 ,  0.   ],\n",
       "       [ 4.771, -1.598,  0.   ],\n",
       "       [-0.612,  5.053,  0.   ],\n",
       "       [ 3.226,  0.666,  0.   ],\n",
       "       [ 4.194,  1.691, -0.   ],\n",
       "       [ 4.195, -1.304,  0.   ],\n",
       "       [ 5.728, -2.185, -0.   ],\n",
       "       [ 4.473,  0.608, -0.   ],\n",
       "       [ 5.281, -0.182,  0.   ],\n",
       "       [ 4.127, -1.368,  0.   ],\n",
       "       [ 4.675,  1.814, -0.   ],\n",
       "       [ 3.125, -0.072, -0.   ],\n",
       "       [ 4.216, -1.006, -0.   ],\n",
       "       [ 4.621,  0.485, -0.   ],\n",
       "       [ 4.925,  1.072, -0.   ],\n",
       "       [ 6.994,  0.125, -0.   ],\n",
       "       [ 5.625,  1.799, -0.   ],\n",
       "       [ 4.155, -0.281, -0.   ],\n",
       "       [ 4.343,  1.365,  0.   ],\n",
       "       [ 5.118,  0.2  , -0.   ],\n",
       "       [ 4.801, -1.723,  0.   ],\n",
       "       [ 4.394, -0.277,  0.   ],\n",
       "       [ 3.   , -1.896,  0.   ],\n",
       "       [ 4.48 , -2.14 , -0.   ],\n",
       "       [ 3.701, -0.979,  0.   ],\n",
       "       [ 4.806,  0.444, -0.   ],\n",
       "       [ 5.086,  1.138, -0.   ],\n",
       "       [ 4.53 , -1.288, -0.   ],\n",
       "       [ 4.268,  1.347,  0.   ],\n",
       "       [ 3.807,  2.164,  0.   ],\n",
       "       [ 4.593,  1.696,  0.   ],\n",
       "       [ 4.862, -0.853,  0.   ],\n",
       "       [ 4.737, -0.493, -0.   ],\n",
       "       [ 3.984,  2.025,  0.   ],\n",
       "       [ 5.362,  1.484, -0.   ],\n",
       "       [ 4.326, -0.456, -0.   ],\n",
       "       [ 4.556, -1.344,  0.   ],\n",
       "       [ 4.849,  1.194,  0.   ],\n",
       "       [ 4.306,  1.332,  0.   ],\n",
       "       [ 4.077, -2.173, -0.   ],\n",
       "       [ 4.709, -1.677,  0.   ],\n",
       "       [ 2.107,  0.96 ,  0.   ],\n",
       "       [ 3.189,  0.39 ,  0.   ],\n",
       "       [ 4.556,  0.97 ,  0.   ],\n",
       "       [ 4.385,  1.398,  0.   ],\n",
       "       [ 5.722, -0.547,  0.   ],\n",
       "       [ 4.692, -0.799, -0.   ],\n",
       "       [ 4.749,  2.26 , -0.   ],\n",
       "       [ 4.758,  0.951,  0.   ],\n",
       "       [ 4.896,  1.917, -0.   ],\n",
       "       [ 4.932,  1.624, -0.   ],\n",
       "       [ 4.791, -0.52 , -0.   ],\n",
       "       [ 3.553, -0.651,  0.   ],\n",
       "       [ 4.856,  0.243, -0.   ],\n",
       "       [ 5.127, -2.213,  0.   ],\n",
       "       [ 4.534,  0.996, -0.   ],\n",
       "       [ 4.871,  2.063,  0.   ],\n",
       "       [ 4.347,  0.601,  0.   ],\n",
       "       [ 3.855, -0.536,  0.   ],\n",
       "       [ 3.868, -0.872,  0.   ],\n",
       "       [ 4.887, -1.201,  0.   ],\n",
       "       [ 4.232, -0.051,  0.   ],\n",
       "       [ 2.718,  2.053,  0.   ],\n",
       "       [ 4.027,  1.423, -0.   ]])"
      ]
     },
     "execution_count": 9,
     "metadata": {},
     "output_type": "execute_result"
    }
   ],
   "source": [
    "esti_landing_point"
   ]
  },
  {
   "cell_type": "code",
   "execution_count": 3,
   "metadata": {},
   "outputs": [],
   "source": [
    "real_ball_trajectory_list =  np.array([[-11.653, -2.073, 1.926], [-10.519, -1.98, 2.129], [-9.555, -1.906, 2.266], [-8.69, -1.845, 2.361], [-7.843, -1.788, 2.429], [-5.132, -1.632, 2.495], [-3.6, -1.55, 2.42], [-2.916, -1.514, 2.354], [-0.712, -1.397, 2.006], [-11.723, -2.095, 1.93], [-10.817, -2.037, 2.112], [-9.964, -1.987, 2.249], [-9.092, -1.939, 2.357], [-8.269, -1.898, 2.429], [-7.443, -1.859, 2.475], [-6.663, -1.825, 2.494], [-5.867, -1.794, 2.491], [-5.202, -1.767, 2.469], [-4.378, -1.735, 2.416], [-3.721, -1.709, 2.353], [-3.034, -1.682, 2.268], [-2.302, -1.653, 2.156], [-1.707, -1.629, 2.047], [-0.226, -1.571, 1.714], [-11.706, -2.196, 1.93], [-10.857, -2.248, 2.099], [-9.969, -2.298, 2.242], [-9.081, -2.345, 2.35], [-8.245, -2.385, 2.423], [-7.423, -2.422, 2.469], [-6.665, -2.453, 2.488], [-5.808, -2.486, 2.486], [-5.135, -2.511, 2.465], [-4.455, -2.536, 2.424], [-1.597, -2.644, 2.044], [-0.793, -2.674, 1.877], [-0.083, -2.701, 1.707], [-11.697, -1.972, 1.918], [-10.688, -1.759, 2.105], [-8.775, -1.393, 2.362], [-3.585, -0.618, 2.444], [-1.981, -0.399, 2.261], [-1.301, -0.306, 2.15], [-0.605, -0.211, 2.017], [-11.623, -2.037, 1.937], [-10.561, -1.909, 2.135], [-9.48, -1.785, 2.297], [-8.499, -1.68, 2.411], [-7.42, -1.572, 2.5], [-6.569, -1.492, 2.545], [-5.694, -1.414, 2.567], [-3.035, -1.192, 2.48], [-2.286, -1.129, 2.403], [-1.598, -1.072, 2.312], [-0.849, -1.01, 2.191], [-0.1, -0.947, 2.046], [-11.492, -2.124, 1.978], [-10.452, -2.103, 2.176], [-9.356, -2.083, 2.339], [-8.337, -2.065, 2.448], [-7.3, -2.048, 2.519], [-5.251, -2.019, 2.549], [-4.246, -2.005, 2.508], [-3.469, -1.994, 2.446], [-2.662, -1.983, 2.355], [-0.166, -1.949, 1.899], [-10.713, -1.87, 2.139], [-9.669, -1.721, 2.311], [-8.643, -1.584, 2.436], [-6.766, -1.36, 2.562], [-10.755, -1.911, 2.13], [-9.585, -1.768, 2.314], [-8.736, -1.672, 2.412], [-8.039, -1.598, 2.471], [-7.164, -1.512, 2.517], [-4.11, -1.249, 2.445], [-3.444, -1.193, 2.378], [-2.066, -1.076, 2.178], [-1.416, -1.021, 2.055], [-11.719, -2.041, 1.936], [-10.774, -1.919, 2.131], [-9.743, -1.796, 2.297], [-8.992, -1.714, 2.387], [-8.167, -1.63, 2.458], [-7.422, -1.56, 2.499], [-3.754, -1.263, 2.372], [-3.064, -1.208, 2.284], [-2.328, -1.15, 2.167], [-1.683, -1.099, 2.045], [-1.068, -1.05, 1.912], [-0.437, -1.0, 1.759], [-11.779, -2.194, 1.916], [-10.854, -2.254, 2.104], [-10.019, -2.304, 2.239], [-9.162, -2.351, 2.347], [-8.302, -2.396, 2.425], [-7.455, -2.437, 2.474], [-6.622, -2.473, 2.495], [-5.828, -2.506, 2.492], [-5.165, -2.533, 2.47], [-4.404, -2.564, 2.422], [-3.766, -2.589, 2.363], [-3.111, -2.616, 2.284], [-2.335, -2.647, 2.167], [-1.696, -2.673, 2.052], [-1.057, -2.699, 1.919], [-0.373, -2.727, 1.758], [-11.696, -2.209, 1.93], [-10.779, -2.279, 2.108], [-9.86, -2.345, 2.253], [-9.014, -2.401, 2.355], [-8.184, -2.452, 2.429], [-7.368, -2.498, 2.475], [-6.582, -2.539, 2.498], [-5.751, -2.58, 2.498], [-4.925, -2.62, 2.471], [-2.112, -2.755, 2.164], [-1.412, -2.788, 2.035], [-0.835, -2.816, 1.913], [-11.567, -2.231, 1.943], [-10.512, -2.324, 2.132], [-9.443, -2.412, 2.283], [-8.433, -2.491, 2.393], [-7.501, -2.558, 2.465], [-6.664, -2.615, 2.506], [-5.729, -2.674, 2.527], [-3.248, -2.821, 2.439], [-2.511, -2.864, 2.365], [-1.851, -2.903, 2.279], [-1.207, -2.941, 2.178], [-0.409, -2.988, 2.028], [-10.893, -1.776, 2.089], [-9.983, -1.582, 2.237], [-8.181, -1.241, 2.433], [-7.272, -1.088, 2.486], [-6.589, -0.982, 2.506], [-5.782, -0.866, 2.508], [-3.684, -0.568, 2.394], [-2.953, -0.465, 2.31], [-2.299, -0.372, 2.216], [-1.66, -0.282, 2.106], [-11.742, -2.219, 1.915], [-10.782, -2.31, 2.101], [-9.863, -2.391, 2.245], [-8.943, -2.466, 2.358], [-7.985, -2.539, 2.443], [-7.138, -2.599, 2.492], [-6.378, -2.649, 2.515], [-5.405, -2.708, 2.517], [-4.602, -2.756, 2.494], [-0.343, -3.007, 1.908], [-11.815, -2.16, 1.911], [-11.003, -2.177, 2.082], [-10.081, -2.195, 2.236], [-9.106, -2.212, 2.359], [-8.37, -2.224, 2.423], [-7.662, -2.234, 2.463], [-6.932, -2.244, 2.483], [-6.108, -2.255, 2.481], [-5.369, -2.264, 2.456], [-4.676, -2.273, 2.413], [-3.891, -2.283, 2.339], [-3.198, -2.292, 2.253], [-2.444, -2.301, 2.136], [-1.736, -2.31, 2.006], [-0.319, -2.328, 1.682], [-11.497, -2.092, 1.955], [-10.499, -2.041, 2.13], [-9.464, -1.992, 2.275], [-8.285, -1.938, 2.401], [-7.325, -1.897, 2.473], [-3.509, -1.755, 2.481], [-2.795, -1.729, 2.424], [-2.041, -1.702, 2.339], [-1.273, -1.675, 2.227], [-0.534, -1.649, 2.096], [-11.544, -1.992, 1.963], [-10.433, -1.819, 2.176], [-6.403, -1.288, 2.571], [-5.609, -1.204, 2.582], [-4.898, -1.131, 2.574], [-2.88, -0.925, 2.435], [-1.527, -0.787, 2.242], [-11.725, -2.118, 1.927], [-10.797, -2.086, 2.114], [-9.814, -2.054, 2.272], [-8.958, -2.028, 2.377], [-8.115, -2.004, 2.453], [-7.198, -1.98, 2.505], [-4.726, -1.924, 2.495], [-1.778, -1.859, 2.153], [-1.034, -1.842, 2.009], [-0.396, -1.828, 1.866], [-11.626, -1.927, 1.934], [-10.675, -1.698, 2.109], [-9.627, -1.463, 2.262], [-8.873, -1.305, 2.349], [-8.019, -1.137, 2.422], [-7.218, -0.989, 2.469], [-6.394, -0.847, 2.495], [-5.674, -0.731, 2.5], [-3.517, -0.397, 2.401], [-2.892, -0.3, 2.333], [-2.282, -0.206, 2.251], [-11.01, -2.197, 2.08], [-10.069, -2.227, 2.24], [-9.128, -2.255, 2.361], [-8.305, -2.278, 2.438], [-7.201, -2.306, 2.5], [-6.332, -2.327, 2.518], [-5.36, -2.349, 2.506], [-4.713, -2.363, 2.477], [-4.01, -2.379, 2.425], [-3.2, -2.397, 2.339], [-2.589, -2.411, 2.257], [-1.825, -2.428, 2.131], [-1.183, -2.442, 2.007], [-0.602, -2.455, 1.879], [-11.656, -1.973, 1.93], [-10.593, -1.762, 2.128], [-8.579, -1.402, 2.388], [-7.55, -1.24, 2.466], [-6.667, -1.11, 2.504], [-5.748, -0.985, 2.518], [-4.991, -0.886, 2.508], [-3.519, -0.693, 2.423], [-2.815, -0.601, 2.35], [-2.127, -0.511, 2.259], [-11.67, -2.175, 1.939], [-10.787, -2.205, 2.112], [-9.774, -2.237, 2.269], [-9.034, -2.258, 2.357], [-8.199, -2.281, 2.429], [-7.396, -2.301, 2.473], [-6.691, -2.317, 2.491], [-5.898, -2.334, 2.491], [-5.234, -2.348, 2.473], [-4.558, -2.362, 2.435], [-3.912, -2.375, 2.381], [-2.576, -2.403, 2.214], [-1.899, -2.417, 2.102], [-1.223, -2.431, 1.971], [-0.609, -2.444, 1.835], [-10.993, -2.297, 2.08], [-10.135, -2.375, 2.225], [-9.275, -2.448, 2.338], [-8.466, -2.512, 2.415], [-6.908, -2.619, 2.488], [-6.076, -2.669, 2.49], [-5.318, -2.714, 2.468], [-4.694, -2.751, 2.431], [-4.01, -2.792, 2.372], [-3.357, -2.831, 2.297], [-2.673, -2.872, 2.199], [-2.035, -2.91, 2.09], [-1.351, -2.95, 1.954], [-0.773, -2.985, 1.823], [-11.718, -2.119, 1.929], [-10.787, -2.087, 2.113], [-9.893, -2.06, 2.255], [-8.964, -2.033, 2.365], [-8.296, -2.016, 2.421], [-7.517, -1.997, 2.465], [-6.75, -1.979, 2.486], [-6.028, -1.964, 2.487], [-5.32, -1.949, 2.468], [-3.938, -1.921, 2.37], [-2.603, -1.893, 2.201], [-1.973, -1.88, 2.095], [-1.252, -1.865, 1.953], [-0.622, -1.852, 1.812], [-10.935, -2.196, 2.08], [-10.005, -2.224, 2.231], [-9.113, -2.248, 2.343], [-8.201, -2.272, 2.427], [-7.29, -2.293, 2.478], [-6.589, -2.308, 2.498], [-5.832, -2.323, 2.5], [-5.034, -2.339, 2.479], [-4.436, -2.351, 2.446], [-3.776, -2.364, 2.392], [-3.147, -2.376, 2.324], [-2.472, -2.39, 2.232], [-0.432, -2.43, 1.84]])\n",
    "estimation_ball_trajectory_list =  np.array([[-12.035, -2.149, 1.767], [-10.396, -1.997, 2.065], [-9.457, -1.934, 2.223], [-8.569, -1.863, 2.324], [-7.709, -1.809, 2.399], [-4.955, -1.641, 2.485], [-3.387, -1.558, 2.425], [-2.691, -1.523, 2.362], [-0.65, -1.364, 2.07], [-11.991, -2.126, 1.765], [-10.623, -1.968, 2.028], [-10.039, -1.627, 2.182], [-9.178, -1.6, 2.299], [-8.318, -1.617, 2.394], [-7.267, -1.863, 2.45], [-6.48, -1.793, 2.449], [-5.655, -1.795, 2.495], [-5.006, -1.744, 2.437], [-4.23, -1.742, 2.418], [-3.527, -1.714, 2.365], [-2.876, -1.687, 2.307], [-2.184, -1.661, 2.201], [-1.483, -1.633, 2.079], [0.115, -1.571, 1.762], [-12.004, -2.144, 1.744], [-10.895, -2.218, 2.006], [-9.961, -2.002, 2.147], [-8.932, -2.325, 2.299], [-8.114, -2.369, 2.391], [-7.246, -2.407, 2.459], [-6.449, -2.442, 2.478], [-5.634, -2.47, 2.475], [-4.933, -2.497, 2.465], [-4.222, -2.522, 2.428], [-1.351, -2.621, 2.071], [-0.612, -2.645, 1.934], [0.213, -2.643, 1.768], [-12.039, -2.155, 1.745], [-10.527, -1.724, 2.023], [-8.637, -1.365, 2.292], [-3.5, -0.529, 2.45], [-1.77, -0.43, 2.288], [-1.054, -0.331, 2.18], [-0.351, -0.237, 2.041], [-11.648, -2.081, 1.844], [-10.428, -1.94, 2.068], [-9.404, -1.823, 2.253], [-8.413, -1.715, 2.361], [-7.425, -1.614, 2.461], [-6.493, -1.519, 2.526], [-5.574, -1.434, 2.545], [-2.886, -1.209, 2.483], [-2.139, -1.146, 2.42], [-1.448, -1.091, 2.339], [-0.73, -1.033, 2.226], [-0.082, -0.958, 2.089], [-11.695, -1.639, 1.787], [-10.581, -1.663, 2.097], [-9.241, -2.023, 2.223], [-8.523, -1.683, 2.397], [-7.159, -1.998, 2.451], [-5.422, -1.763, 2.542], [-4.146, -2.006, 2.515], [-3.293, -1.99, 2.468], [-2.488, -1.982, 2.369], [0.028, -1.927, 1.945], [-10.93, -1.351, 1.931], [-9.565, -1.682, 2.201], [-8.789, -1.218, 2.382], [-6.776, -1.126, 2.534], [-10.944, -1.451, 2.014], [-9.562, -1.817, 2.247], [-8.636, -1.703, 2.367], [-7.878, -1.571, 2.402], [-6.984, -1.532, 2.514], [-3.917, -1.267, 2.458], [-3.231, -1.211, 2.385], [-1.82, -1.093, 2.2], [-1.163, -1.035, 2.076], [-11.582, -1.963, 1.808], [-10.638, -1.837, 2.013], [-9.66, -1.833, 2.239], [-8.831, -1.74, 2.352], [-7.992, -1.649, 2.428], [-7.258, -1.582, 2.486], [-3.519, -1.275, 2.383], [-2.826, -1.223, 2.298], [-2.153, -1.169, 2.198], [-1.474, -1.116, 2.085], [-0.79, -1.068, 1.951], [-0.064, -1.011, 1.808], [-12.039, -2.156, 1.745], [-10.638, -2.25, 2.059], [-9.862, -2.238, 2.149], [-8.979, -2.296, 2.258], [-8.124, -2.343, 2.349], [-7.26, -2.388, 2.419], [-6.407, -2.461, 2.483], [-5.619, -2.49, 2.473], [-4.924, -2.504, 2.44], [-4.23, -2.546, 2.429], [-3.559, -2.573, 2.381], [-2.872, -2.602, 2.305], [-2.2, -2.624, 2.202], [-1.499, -2.648, 2.084], [-0.819, -2.678, 1.954], [-0.088, -2.698, 1.799], [-11.521, -2.141, 1.807], [-10.598, -2.218, 2.011], [-9.67, -2.318, 2.197], [-8.856, -2.346, 2.266], [-8.024, -2.403, 2.357], [-7.208, -2.448, 2.413], [-6.383, -2.5, 2.441], [-5.854, -2.319, 2.499], [-4.733, -2.599, 2.463], [-1.894, -2.73, 2.196], [-1.237, -2.755, 2.075], [-0.606, -2.791, 1.95], [-11.453, -2.155, 1.804], [-10.746, -1.767, 2.035], [-9.366, -2.343, 2.162], [-8.269, -2.465, 2.343], [-7.358, -2.529, 2.439], [-6.504, -2.567, 2.442], [-5.548, -2.633, 2.459], [-3.048, -2.801, 2.446], [-2.352, -2.843, 2.377], [-1.703, -2.874, 2.308], [-1.029, -2.91, 2.194], [-0.375, -2.956, 2.071], [-10.773, -1.722, 1.985], [-9.833, -1.533, 2.137], [-8.022, -1.214, 2.377], [-7.139, -1.133, 2.467], [-6.38, -1.014, 2.497], [-5.597, -0.897, 2.511], [-3.456, -0.6, 2.401], [-2.766, -0.5, 2.328], [-2.099, -0.407, 2.247], [-1.4, -0.313, 2.135], [-11.68, -2.177, 1.823], [-10.653, -2.225, 1.978], [-9.728, -2.326, 2.139], [-8.768, -2.401, 2.271], [-7.833, -2.512, 2.417], [-6.999, -2.575, 2.481], [-6.193, -2.63, 2.503], [-5.372, -2.682, 2.517], [-4.487, -2.539, 2.479], [-0.186, -2.983, 1.938], [-11.953, -2.131, 1.78], [-10.797, -2.135, 2.02], [-9.936, -2.116, 2.139], [-8.98, -2.207, 2.324], [-8.176, -2.21, 2.386], [-7.463, -2.226, 2.449], [-6.74, -2.204, 2.452], [-5.951, -2.221, 2.45], [-5.178, -2.257, 2.464], [-4.482, -2.261, 2.417], [-3.725, -2.269, 2.366], [-3.032, -2.283, 2.287], [-2.338, -2.292, 2.175], [-1.587, -2.29, 2.059], [-0.283, -2.279, 1.77], [-11.476, -2.01, 1.804], [-10.364, -1.963, 2.032], [-9.417, -1.914, 2.155], [-8.209, -1.947, 2.366], [-7.223, -1.858, 2.389], [-3.412, -1.764, 2.499], [-2.662, -1.735, 2.45], [-1.897, -1.704, 2.35], [-1.147, -1.68, 2.265], [-0.503, -1.654, 2.149], [-11.708, -1.529, 1.766], [-10.542, -1.464, 2.079], [-6.198, -1.308, 2.563], [-5.434, -1.227, 2.572], [-4.727, -1.155, 2.573], [-2.664, -0.945, 2.438], [-1.296, -0.807, 2.262], [-12.039, -2.155, 1.745], [-10.599, -2.026, 2.027], [-9.634, -2.062, 2.216], [-8.776, -2.032, 2.34], [-7.928, -1.956, 2.369], [-6.996, -1.937, 2.447], [-4.786, -1.733, 2.496], [-1.557, -1.856, 2.18], [-0.815, -1.84, 2.053], [-0.177, -1.828, 1.905], [-11.669, -2.029, 1.845], [-10.565, -1.77, 2.061], [-9.586, -1.547, 2.205], [-8.71, -1.353, 2.315], [-7.864, -1.189, 2.396], [-7.061, -1.035, 2.447], [-6.248, -0.89, 2.471], [-5.505, -0.77, 2.489], [-3.295, -0.433, 2.402], [-2.67, -0.334, 2.335], [-2.043, -0.24, 2.276], [-10.846, -2.127, 1.969], [-9.903, -2.164, 2.137], [-8.993, -2.237, 2.305], [-8.146, -2.226, 2.357], [-7.233, -2.287, 2.476], [-6.315, -2.066, 2.489], [-5.246, -2.337, 2.505], [-4.522, -2.351, 2.471], [-3.82, -2.367, 2.444], [-3.132, -2.384, 2.369], [-2.403, -2.394, 2.284], [-1.716, -2.409, 2.177], [-1.022, -2.425, 2.052], [-0.35, -2.438, 1.914], [-11.96, -2.118, 1.764], [-10.476, -1.702, 2.023], [-8.704, -1.05, 2.329], [-7.432, -1.283, 2.439], [-6.487, -1.143, 2.493], [-5.633, -1.022, 2.5], [-4.787, -0.917, 2.507], [-3.306, -0.718, 2.429], [-2.619, -0.633, 2.362], [-1.888, -0.54, 2.277], [-11.529, -2.148, 1.875], [-10.609, -2.129, 2.012], [-9.662, -2.225, 2.217], [-8.909, -2.213, 2.272], [-8.044, -2.268, 2.404], [-7.243, -2.289, 2.449], [-6.515, -2.307, 2.476], [-5.73, -2.322, 2.495], [-5.028, -2.337, 2.462], [-4.337, -2.353, 2.437], [-3.706, -2.365, 2.398], [-2.353, -2.394, 2.231], [-1.659, -2.399, 2.123], [-0.998, -2.416, 2.008], [-0.335, -2.424, 1.875], [-10.775, -2.215, 1.97], [-9.926, -2.305, 2.119], [-9.076, -2.389, 2.251], [-8.551, -2.137, 2.373], [-6.889, -2.377, 2.481], [-5.876, -2.631, 2.449], [-5.092, -2.691, 2.465], [-4.476, -2.717, 2.413], [-3.802, -2.766, 2.382], [-3.15, -2.812, 2.311], [-2.501, -2.842, 2.225], [-1.854, -2.877, 2.137], [-1.214, -2.919, 2.007], [-0.554, -2.956, 1.87], [-11.951, -2.123, 1.78], [-10.636, -2.047, 1.994], [-9.733, -2.059, 2.189], [-8.925, -2.042, 2.32], [-8.119, -2.025, 2.389], [-7.341, -1.998, 2.456], [-6.587, -1.98, 2.483], [-5.822, -1.965, 2.471], [-5.112, -1.95, 2.456], [-3.73, -1.919, 2.384], [-2.376, -1.889, 2.226], [-1.696, -1.875, 2.111], [-1.021, -1.861, 1.991], [-0.298, -1.85, 1.851], [-10.734, -2.109, 1.983], [-9.813, -2.161, 2.131], [-8.915, -2.195, 2.258], [-8.023, -2.257, 2.401], [-7.21, -2.28, 2.462], [-6.416, -2.296, 2.492], [-5.65, -2.317, 2.486], [-4.894, -2.326, 2.478], [-4.227, -2.337, 2.454], [-3.552, -2.347, 2.393], [-2.91, -2.368, 2.337], [-2.244, -2.372, 2.249], [-0.164, -2.414, 1.874]])"
   ]
  },
  {
   "cell_type": "code",
   "execution_count": 4,
   "metadata": {
    "scrolled": true
   },
   "outputs": [
    {
     "name": "stdout",
     "output_type": "stream",
     "text": [
      "MAE\n",
      "0.16884859154929582\n",
      "0.05461619718309862\n",
      "0.046929577464788735\n",
      "MSE\n",
      "0.03277926408450704\n",
      "0.011634933098591567\n",
      "RMSE\n",
      "0.18105044624222014\n",
      "0.10786534707027817\n",
      "0.06316956835531792\n",
      "R2 Score\n",
      "0.9781762389462043\n",
      "0.9816659575000616\n"
     ]
    }
   ],
   "source": [
    "print('MAE')\n",
    "print((sum(abs((real_ball_trajectory_list[:,0]  - estimation_ball_trajectory_list[:,0]))) / estimation_ball_trajectory_list.shape[0]))\n",
    "print((sum(abs((real_ball_trajectory_list[:,1]  - estimation_ball_trajectory_list[:,1]))) / estimation_ball_trajectory_list.shape[0]))\n",
    "print((sum(abs((real_ball_trajectory_list[:,2]  - estimation_ball_trajectory_list[:,2]))) / estimation_ball_trajectory_list.shape[0]))\n",
    "\n",
    "print('MSE')\n",
    "print((sum((real_ball_trajectory_list[:,0]  - estimation_ball_trajectory_list[:,0]) ** 2) / estimation_ball_trajectory_list.shape[0]))\n",
    "print((sum((real_ball_trajectory_list[:,1]  - estimation_ball_trajectory_list[:,1]) ** 2) / estimation_ball_trajectory_list.shape[0]))\n",
    "\n",
    "\n",
    "print('RMSE')\n",
    "print(np.sqrt(sum((real_ball_trajectory_list[:,0]  - estimation_ball_trajectory_list[:,0]) ** 2) / estimation_ball_trajectory_list.shape[0]))\n",
    "print(np.sqrt(sum((real_ball_trajectory_list[:,1] - estimation_ball_trajectory_list[:,1]) ** 2) / estimation_ball_trajectory_list.shape[0]))\n",
    "print(np.sqrt(sum((real_ball_trajectory_list[:,2] - estimation_ball_trajectory_list[:,2]) ** 2) / estimation_ball_trajectory_list.shape[0]))\n",
    "\n",
    "print('R2 Score')\n",
    "print(sum(estimation_ball_trajectory_list[:,0])/ sum(real_ball_trajectory_list[:,0]))\n",
    "print(sum(estimation_ball_trajectory_list[:,1])/ sum(real_ball_trajectory_list[:,1]))\n"
   ]
  },
  {
   "cell_type": "code",
   "execution_count": 5,
   "metadata": {},
   "outputs": [],
   "source": [
    "ball_val_list = np.array( [[19.37, -0.525, 2.686], [18.949, -0.475, 1.986], [18.562, -0.43, 1.298], [18.136, -0.383, 0.713], [17.873, -0.354, 0.28], [15.647, -0.292, -0.648], [15.188, -0.284, -1.116], [15.188, -0.284, -2.077], [15.188, -0.284, -2.498], [15.188, -0.284, -2.919], [15.188, -0.284, -3.37], [19.774, 1.56, 2.532], [19.335, 1.415, 1.878], [18.953, 1.292, 1.298], [18.534, 1.161, 0.669], [18.2, 1.061, 0.212], [15.024, 0.831, -2.125], [15.024, 0.831, -2.536], [15.024, 0.831, -2.948], [15.024, 0.831, -3.399], [19.272, 2.271, 2.47], [18.901, 2.079, 1.833], [18.505, 1.88, 1.164], [18.152, 1.707, 0.619], [17.812, 1.546, 0.125], [16.773, 1.414, -0.328], [15.195, 1.281, -2.105], [15.195, 1.281, -2.624], [15.195, 1.281, -3.036], [17.946, 0.106, 1.936], [17.667, 0.097, 1.35], [17.407, 0.089, 0.785], [17.112, 0.08, 0.292], [16.393, 0.072, -0.183], [15.473, 0.068, -0.69], [15.473, 0.068, -1.102], [15.473, 0.068, -1.533], [15.473, 0.068, -2.454], [15.473, 0.068, -2.934], [19.462, 0.066, 2.62], [19.055, 0.06, 1.918], [18.6, 0.054, 1.222], [18.284, 0.049, 0.694], [17.916, 0.044, 0.17], [15.235, 0.036, -2.132], [15.235, 0.036, -3.513], [17.763, 2.167, 2.496], [17.385, 1.924, 1.69], [17.117, 1.757, 1.143], [16.863, 1.604, 0.624], [16.581, 1.44, 0.116], [15.507, 1.303, -0.367], [15.049, 1.264, -0.787], [15.049, 1.264, -1.698], [15.049, 1.264, -2.149], [15.049, 1.264, -2.531], [15.049, 1.264, -2.992], [15.049, 1.264, -3.433], [18.724, 2.298, 2.606], [18.358, 2.089, 1.914], [18.008, 1.894, 1.28], [17.393, 1.567, 0.225], [19.438, 1.911, 2.711], [19.023, 1.735, 2.016], [18.646, 1.579, 1.381], [18.218, 1.407, 0.734], [17.903, 1.286, 0.244], [15.357, 1.05, -0.672], [15.262, 1.043, -1.142], [15.262, 1.043, -1.593], [15.262, 1.043, -2.004], [15.262, 1.043, -2.436], [15.262, 1.043, -2.896], [15.262, 1.043, -3.367], [19.474, 3.398, 2.782], [19.114, 3.132, 2.133], [18.701, 2.835, 1.515], [18.383, 2.611, 0.967], [15.996, 1.953, -0.488], [15.2, 1.856, -1.445], [15.2, 1.856, -1.896], [15.2, 1.856, -2.317], [15.2, 1.856, -2.758], [15.2, 1.856, -3.19], [15.2, 1.856, -3.601], [17.913, -0.619, 1.825], [17.589, -0.561, 1.169], [17.277, -0.506, 0.592], [16.985, -0.456, 0.091], [15.894, -0.419, -0.358], [14.952, -0.394, -0.815], [14.952, -0.394, -1.296], [14.952, -0.394, -1.697], [14.952, -0.394, -2.579], [17.932, 3.877, 2.63], [17.594, 3.513, 1.909], [17.267, 3.171, 1.258], [16.989, 2.886, 0.727], [16.716, 2.616, 0.204], [15.121, 2.254, -2.085], [15.121, 2.254, -2.496], [15.121, 2.254, -2.957], [15.121, 2.254, -3.408], [15.121, 2.254, -3.839], [19.584, 2.221, 2.019], [19.192, 2.032, 1.382], [18.836, 1.865, 0.828], [18.384, 1.659, 0.227], [17.639, 1.518, -0.214], [16.065, 1.383, -0.63], [15.205, 1.309, -1.116], [15.205, 1.309, -1.547], [15.205, 1.309, -1.988], [15.205, 1.309, -2.439], [15.205, 1.309, -2.88], [15.205, 1.309, -3.37], [17.67, 1.292, 2.604], [17.366, 1.171, 1.888], [17.09, 1.066, 1.299], [16.785, 0.953, 0.672], [16.547, 0.868, 0.213], [15.89, 0.791, -0.265], [15.416, 0.767, -0.666], [15.416, 0.767, -1.116], [15.416, 0.767, -1.528], [15.416, 0.767, -3.331], [15.416, 0.767, -3.762], [18.661, 0.15, 1.96], [18.309, 0.137, 1.358], [17.93, 0.123, 0.748], [17.632, 0.112, 0.275], [16.938, 0.103, -0.215], [15.046, 0.091, -0.689], [15.046, 0.091, -1.1], [15.046, 0.091, -1.541], [15.046, 0.091, -1.982], [18.051, 1.564, 2.46], [17.729, 1.421, 1.783], [17.45, 1.301, 1.206], [17.184, 1.19, 0.656], [16.889, 1.071, 0.164], [15.8, 0.964, -0.34], [15.324, 0.935, -0.73], [15.324, 0.935, -1.24], [15.324, 0.935, -1.691], [15.324, 0.935, -2.102], [15.324, 0.935, -2.514], [15.324, 0.935, -2.945], [15.324, 0.935, -3.347], [15.324, 0.935, -3.808], [18.308, 3.267, 2.022], [17.616, 2.68, 0.795], [17.316, 2.436, 0.278], [16.102, 2.156, -0.233], [15.168, 2.031, -0.622], [15.168, 2.031, -1.063], [15.168, 2.031, -1.524], [15.168, 2.031, -1.975], [15.168, 2.031, -2.425], [15.168, 2.031, -2.827], [15.168, 2.031, -3.258], [15.168, 2.031, -3.69], [19.082, -1.272, 2.756], [18.727, -1.165, 2.04], [18.395, -1.068, 1.46], [18.016, -0.96, 0.841], [17.723, -0.879, 0.334], [17.447, -0.805, -0.141], [15.931, -0.735, -0.559], [15.438, -0.713, -0.988], [15.438, -0.713, -1.42], [15.438, -0.713, -1.88], [15.438, -0.713, -2.311], [15.438, -0.713, -2.782], [15.438, -0.713, -3.184], [15.438, -0.713, -3.634], [17.67, 1.505, 2.52], [17.39, 1.376, 1.85], [17.122, 1.256, 1.26], [16.865, 1.144, 0.741], [16.62, 1.042, 0.269], [15.996, 0.952, -0.221], [15.04, 0.895, -0.65], [15.04, 0.895, -1.061], [15.04, 0.895, -1.502], [15.04, 0.895, -1.933], [15.04, 0.895, -2.374], [15.04, 0.895, -2.806], [15.04, 0.895, -3.256], [15.04, 0.895, -3.697], [19.962, 0.556, 2.63], [19.514, 0.504, 1.905], [19.078, 0.456, 1.267], [18.689, 0.414, 0.687], [18.354, 0.378, 0.248], [17.576, 0.342, -0.241], [15.998, 0.311, -0.677], [15.486, 0.301, -1.124], [15.486, 0.301, -1.624], [15.486, 0.301, -2.565], [15.486, 0.301, -3.016], [15.486, 0.301, -3.476], [18.443, 0.72, 2.557], [18.117, 0.658, 1.871], [17.821, 0.603, 1.277], [17.521, 0.549, 0.733], [17.272, 0.506, 0.264], [16.528, 0.452, -0.217], [15.073, 0.412, -0.731], [15.073, 0.412, -1.153], [15.073, 0.412, -1.564], [15.073, 0.412, -1.996], [15.073, 0.412, -2.446], [15.073, 0.412, -2.878], [15.073, 0.412, -3.279], [15.073, 0.412, -3.779], [19.429, 1.332, 2.63], [18.997, 1.204, 1.913], [18.646, 1.102, 1.343], [18.329, 1.013, 0.835], [18.027, 0.93, 0.319], [17.737, 0.853, -0.1], [16.031, 0.771, -0.538], [15.267, 0.734, -1.005], [15.267, 0.734, -1.485], [15.267, 0.734, -1.945], [15.267, 0.734, -2.377], [15.267, 0.734, -3.268], [17.627, 4.126, 2.569], [17.276, 3.704, 1.827], [16.989, 3.367, 1.207], [16.662, 2.994, 0.597], [16.42, 2.726, 0.12], [15.471, 2.5, -0.274], [14.932, 2.413, -0.733], [14.932, 2.413, -1.164], [14.932, 2.413, -1.605], [14.932, 2.413, -2.056], [14.932, 2.413, -2.516], [14.932, 2.413, -2.948], [14.932, 2.413, -3.349], [14.932, 2.413, -3.781], [18.25, 2.57, 2.647], [17.911, 2.336, 1.999], [17.599, 2.125, 1.375], [17.313, 1.938, 0.797], [16.976, 1.725, 0.228], [16.352, 1.58, -0.201], [15.381, 1.486, -0.61], [15.381, 1.486, -1.051], [15.381, 1.486, -1.453], [15.381, 1.486, -1.894], [15.381, 1.486, -2.345], [15.381, 1.486, -2.747], [15.381, 1.486, -3.188], [15.381, 1.486, -3.619], [19.575, 2.869, 2.602], [19.2, 2.637, 1.992], [18.84, 2.42, 1.371], [18.501, 2.22, 0.858], [18.101, 1.991, 0.328], [17.425, 1.817, -0.127], [16.042, 1.672, -0.564], [15.376, 1.603, -1.021], [15.376, 1.603, -1.443], [15.376, 1.603, -1.913], [15.376, 1.603, -2.354], [15.376, 1.603, -2.766], [15.376, 1.603, -3.236], [19.559, 2.344, 2.582], [19.118, 2.119, 1.823], [18.783, 1.953, 1.287], [18.408, 1.773, 0.723], [18.062, 1.61, 0.203], [17.355, 1.478, -0.283], [15.721, 1.339, -0.708], [15.425, 1.313, -1.108], [15.425, 1.313, -1.647], [15.425, 1.313, -2.686], [15.425, 1.313, -3.088], [15.425, 1.313, -3.509], [18.465, 2.097, 1.849], [18.095, 1.895, 1.238], [17.8, 1.738, 0.691], [17.516, 1.591, 0.196], [16.978, 1.466, -0.222], [15.318, 1.323, -0.677], [15.318, 1.323, -1.148], [15.318, 1.323, -1.579], [15.318, 1.323, -2.01], [15.318, 1.323, -2.431], [15.318, 1.323, -2.843], [15.318, 1.323, -3.284], [15.318, 1.323, -3.715], [18.072, 4.008, 2.484], [17.759, 3.67, 1.856], [17.435, 3.327, 1.239], [17.158, 3.041, 0.708], [16.909, 2.791, 0.233], [16.253, 2.546, -0.196], [15.312, 2.399, -0.674], [15.312, 2.399, -1.095], [15.312, 2.399, -1.575], [15.312, 2.399, -2.046], [15.312, 2.399, -2.545], [15.312, 2.399, -3.006], [15.312, 2.399, -3.447], [15.312, 2.399, -3.868]] )\n",
    "real_ball_val_list = np.array( [[18.221035946305673, -0.5603279846813845, 3.465732349695954], [19.787729601951337, -0.5473201804795012, 3.1155148734987255], [17.53447668210136, -0.4574211308374272, 2.115572730123094], [22.267544933998437, -0.5381883971963372, 1.9509329398367246], [20.447869513333146, -0.4507071006419169, 1.0911856120804186], [15.02401176447209, -0.3125661254744566, 0.41675483396593904], [16.78174990616602, -0.3148545948623998, -0.18891275691743895], [15.651027177131187, -0.2997460745278253, -0.9206486574783085], [16.118356513070555, -0.29247017866458347, -1.7006599277903756], [14.495395389148902, -0.2726406656266253, -2.1811253250130025], [14.638620729951379, -0.284457502973642, -2.603880219527968], [20.49964700987539, 1.7851943090791746, 3.7308555223452364], [23.143587725330722, 1.885100864771785, 3.3840967331445317], [19.04728877867331, 1.4518411241992135, 2.123588510022729], [16.757234689277862, 1.1742005304838443, 1.3931192734554014], [23.184161310592952, 1.5160668865075866, 1.2128535092060713], [15.993877105383099, 0.977049597407202, 0.3823237555071707], [16.347847234848253, 0.9084506811955846, -0.9809561346243407], [15.245425253456228, 0.8456258064516163, -2.3677522580645234], [13.401892971440146, 0.7433696576868527, -2.4637394369049956], [21.995065900655284, 2.917712823556306, 4.08071723574309], [20.33591625755669, 2.488809834868341, 2.9780630502698124], [17.399228510817235, 1.9816888964484338, 1.9618720074839517], [21.108475090701774, 2.217368135171553, 1.673895553021664], [18.137204790566766, 1.7663311078699249, 0.8616249306682561], [18.21513219100032, 1.6519164623035347, 0.3524088452914115], [17.602376795516516, 1.4924708504926727, -0.10974050371269409], [14.702608351040421, 1.2392801156723448, -1.154903597158483], [19.84822381005501, 1.6745399740493079, -3.0781984817082835], [19.155422047130703, 0.12942852734547305, 3.1278560775157125], [19.39083280193851, 0.13372988139268457, 2.4517144921991214], [16.60280187216942, 0.08470817281719091, 1.5247471107094364], [18.660361138557615, 0.11080974547836832, 1.1524213529750562], [16.457982049220526, 0.06362621926245292, 0.5090097540996045], [15.445019894114212, 0.07771079192007159, 0.038855395960040104], [19.222485092667203, 0.09388271107529778, -0.5398255886829648], [14.134301877580475, 0.044517486228595034, -0.8235734952290971], [14.668714714262029, 0.06322721859595941, -1.243468632387158], [15.47686177443243, 0.07445912881170366, -1.9997594595142951], [20.3714414481048, 0.08272666577910591, 3.826108292283646], [18.865424768906863, 0.061185161412673175, 2.875702586395531], [18.924154443700033, 0.058953752161052746, 2.2205913313998975], [20.89979038234454, 0.06404430147807563, 1.7291961399079758], [17.466446174841455, 0.04208782210805641, 0.9048881753231146], [17.72065725953653, 0.06124651126567248, 0.4083100751045195], [16.15730758840317, 0.03913233807740228, -1.0087447148841582], [18.698485371969923, 2.5668679695896235, 3.7563921506189533], [15.755470963182086, 1.9945950464423297, 2.525267123018728], [23.58777093035227, 2.7355095483826646, 2.7835009439683307], [16.51866692052026, 1.756819548176877, 1.3233186207046674], [15.519992708467488, 1.5374557703167273, 0.8102807438155656], [16.168299311042475, 1.4623557338649869, 0.3501415137423282], [18.195884552517864, 1.5261064463402112, -0.14087136427756294], [15.35401024329196, 1.294916526542692, -0.6012112444662471], [14.730192984129694, 1.2424322888686958, -1.2213741144810908], [17.410422775817768, 1.4571493809486742, -2.235970601800549], [11.883295957606224, 0.9989460699914123, -1.8314011283175977], [16.039530696117165, 1.3532660753293912, -2.9505637380132548], [19.423322871350237, 2.6525242687747057, 3.786264480428413], [18.51857452732831, 2.3684174698677904, 2.8992696613898765], [18.532055939751093, 2.1863661501953517, 2.24883375448665], [17.63554826466079, 1.9227502797344118, 1.5299303301112497], [17.600016784683955, 1.9351870307233532, 3.4222254859107717], [19.981571133163836, 2.0334309149014076, 3.1538928476021835], [18.79576469421848, 1.7880926589632642, 2.3078870365688666], [18.488140136392293, 1.6224695027603193, 1.662530478137113], [20.954149250621217, 1.6824499398309005, 1.201749957022076], [17.79743069122401, 1.349263698612649, 0.47117145030917507], [16.37796141011465, 1.1280738726354491, -0.21934769745689173], [16.159022994615814, 1.1037584012715733, -0.9713073931189844], [16.855780263564657, 1.152531983833476, -1.5126982287814468], [13.991965510809843, 0.9387580694153579, -1.63165093017431], [14.566279518145372, 0.9965285842108222, -2.120273583427267], [15.376476861012687, 1.0508331467079783, -2.7021423772490984], [17.683344064428656, 3.3955548452892854, 3.3735057878523493], [20.336492902419913, 3.6536749960279855, 3.240051411571987], [19.48100932676904, 3.2805390561802596, 2.4491695693400546], [18.016081446795784, 2.8366666701084684, 1.7323155237303542], [17.634497872597844, 2.579626787118628, 1.1629465023895498], [17.27078030277419, 2.2262007451030774, 0.2126943387041174], [16.32284652547812, 1.9919040944679753, -1.033636719291491], [15.17190279445249, 1.8666432622645408, -1.6712968743531351], [14.525228177009144, 1.776786321346686, -2.021094440531858], [15.802280011016247, 1.917528129991737, -2.633713335169372], [15.564651027459542, 1.906848517912348, -3.050957628659759], [21.416268897033483, -0.8321249673693951, 3.372295920391774], [16.185307556850827, -0.5773356939098148, 1.911180228115227], [18.911165891594045, -0.6351529172691328, 1.5981266950642823], [18.300391437183876, -0.5571547744341748, 0.9214482807949759], [16.952886606623473, -0.48376723567288105, 0.3155003710910102], [16.25550781717647, -0.42553685385277845, -0.12766105615584109], [14.558744575212394, -0.3929206632514732, -0.5583609425152412], [18.27795315212479, -0.4737805046253391, -1.2717266176785371], [13.930511531972734, -0.3549174912604521, -1.3974876218380325], [18.81134374192011, 4.525567175162594, 3.8373472821655152], [17.340254680774557, 3.871502220149434, 2.8730621739003706], [18.98558577123339, 3.9439669889412943, 2.41253299855452], [18.440864308816924, 3.529352020826215, 1.676442209892452], [16.279088558656536, 2.8715383190366857, 0.9290271032177528], [17.30584650536538, 2.8236980700967016, 0.4706163450161122], [15.64731770296487, 2.3379548153845673, -0.9621750729981184], [13.94869136570634, 2.0698058155564265, -2.1148015941554754], [15.424701783423684, 2.299603922704515, -2.77688020854885], [15.709003745318348, 2.350699841026055, -3.300020930671191], [22.155632480236946, 2.799527105103975, 3.3681810483282213], [18.839828314756282, 2.2201817879342416, 2.2201817879342416], [20.63356394216828, 2.2588322631426343, 1.8027219023157586], [16.658981123662986, 1.6983382817938202, 0.9541226302212442], [22.703726015272924, 2.127766944601853, 0.6338029196686371], [17.14056063495066, 1.4981466878877139, 0.0], [15.281948842681857, 1.3270620433265121, -0.39397154411256063], [16.829409024350845, 1.442520773515788, -0.9398241403208848], [14.879018044722056, 1.2677190262319233, -1.3122003955733994], [14.911840657827033, 1.2862552614207512, -1.744074930740005], [15.03781358519171, 1.2889554501592906, -2.1912242652707894], [14.31588790419162, 1.2348499800399213, -2.511559281437128], [17.784387073070242, 1.47856145455268, 3.70681604099122], [17.543643686080202, 1.3321692051345893, 2.930772251296105], [19.522902784272038, 1.3817579596174294, 2.4960788947927757], [14.981916006936608, 0.968487974063182, 1.3637891879665225], [20.17318897056812, 1.192052075533573, 1.16912799715793], [14.694435717509947, 0.7960382453116648, 0.387261849070536], [19.066451583799395, 0.9703028795826667, -0.024257571989563975], [14.164579906520235, 0.7180201795931949, -0.43516374520799544], [16.606420487734045, 0.8197809831744577, -0.9603148660043652], [14.548977265792713, 0.7184680131255661, -1.2348668975595691], [15.360358347570179, 0.7636849531055697, -2.426459992846065], [22.684647099203275, 0.1963094460507955, 3.5771943502589845], [18.580227550117428, 0.1501865968254318, 2.2527989523814393], [17.26742832826144, 0.14527884410797146, 1.5358049234270978], [20.14792358714153, 0.1334299575307337, 1.1563929652664016], [15.877845043868106, 0.10377676499259984, 0.4566177659674448], [17.470286032754835, 0.123030183329264, 0.020505030554883407], [18.357562702188392, 0.09390057648178214, -0.516453170649807], [14.336708895811691, 0.09073866389754248, -0.8620173070266486], [14.597089907369437, 0.08819993901733808, -1.2788991157514071], [18.37341111627661, 1.809198031143209, 3.638498262632465], [19.696832403530916, 1.7983144514501932, 3.110026168978558], [19.299599513613988, 1.6176614260537883, 2.2692195004365683], [16.343963878804914, 1.2653391390042548, 1.3918730529046757], [18.216756252188603, 1.3152892600858201, 0.9864669450643724], [15.477136531365314, 1.010256953744473, 0.3636925033480058], [19.59737100901101, 1.2131705862721063, -0.11665101791077735], [12.3941716291235, 0.7621011681338077, -0.4412164657616826], [16.33856425194022, 0.983242663048903, -1.0460028330307407], [17.856638662210532, 1.0897255216882933, -1.7088877499202841], [15.037638939952721, 0.9338661125129915, -1.867732225025983], [14.444825954262308, 0.8767724403194121, -2.1700117897905375], [17.259877988619433, 1.0499332307617144, -3.07297530954649], [12.924428966390863, 0.780104195361274, -2.65657104366272], [19.450112831654376, 3.8900225663308667, 3.1593000953073878], [17.760787517685266, 3.2805219297371626, 2.2775598110914053], [18.299040698053005, 3.025329346176387, 1.4076185152348502], [15.968853570766086, 2.3340589872008923, 0.48626228900018376], [22.23691879713977, 3.0299727691252785, 0.025677735331567354], [13.63782465372481, 1.8168812449863645, -0.38132075512059255], [14.920567298969482, 1.9879838951349031, -0.8122944947863102], [15.776556859844687, 2.1271762058217543, -1.3516432141159056], [14.390319241279542, 1.9173046134062064, -1.6644732358141723], [17.634245266441404, 2.3743163332095025, -2.5721760276436307], [13.921403465333329, 1.8576792405509093, -2.394839502878889], [15.277751632844755, 2.0385605627034233, -3.0921986063478837], [18.047833619697915, -1.315987868102966, 3.551078374246117], [18.724661700968554, -1.2941450851641343, 3.0533735603091228], [21.04445183041759, -1.3584249329687528, 2.650042082348886], [16.707030094163223, -1.0032407777132328, 1.5765212221207956], [19.93323918947149, -1.1171375809484054, 1.2485655316482125], [17.750997320827107, -0.9058832168587301, 0.5823534965520463], [19.346723164725187, -0.9368873203256762, 0.09368873203256763], [16.065807598368853, -0.7446231049805873, -0.3384650477184478], [15.12721652367334, -0.6886104438089118, -0.7774634043003951], [14.249447783489964, -0.6496071783649864, -1.110618724301422], [16.69019676719998, -0.782712675979029, -1.795634962540132], [14.728179663415116, -0.6714317199498097, -1.9926360721091052], [17.325416061305297, -0.8125022704612096, -2.8676550722160523], [13.431720336324911, -0.615355276071765, -2.588735988991529], [17.283998153562074, 1.6739461455608549, 3.589908601323279], [18.142762592114288, 1.6330477854592433, 2.9872825343766602], [19.357724872423084, 1.5863218719681635, 2.4369582380960284], [17.863132471182688, 1.3498588769155688, 1.5973330043500822], [17.103468761156726, 1.2166626204926823, 1.0060863977151053], [15.030654004658677, 0.9811676919707724, 0.43839407513587575], [17.69086273608356, 1.0762502044765676, 0.022421879259926003], [16.107840542227773, 0.9585217158655115, -0.4441929902791329], [14.208986631503333, 0.854337803792923, -0.8093726562248745], [15.516691406399644, 0.918147420497021, -1.3313137597206854], [13.843011135766568, 0.8344318922641348, -1.5832810263473327], [16.302465585998497, 0.9658975274941339, -2.3322891517541247], [14.394608021302435, 0.8454329286081812, -2.4695540809344165], [15.217948093075934, 0.9016414332602775, -3.0787756257668097], [21.25708328784412, 0.6511557133628166, 3.8859292571651842], [19.9477089778728, 0.5758101560623078, 2.98187402246552], [20.40938314015684, 0.5376331931551, 2.3366365702509895], [19.417503910111492, 0.4926216636814756, 1.5804945043113987], [22.704559530140006, 0.5262646248707866, 1.1778303509012946], [15.113837247979452, 0.3263446639239832, 0.3875342884097323], [19.8369183353866, 0.39411096030569454, 0.0], [16.276482584553264, 0.3087679623085986, -0.4410970890122837], [13.767744506299445, 0.26882625256372716, -0.7872768825080559], [16.259259730952913, 0.322764461160356, -1.452440075221602], [15.86447484752178, 0.3019750480833516, -2.1461798060209594], [15.036299704444412, 0.29565757845817686, -2.703155003046189], [18.772267388144577, 0.8249335079463379, 3.7222609504895456], [19.58599965929471, 0.7985708015592237, 3.1102231218622483], [19.946999339192143, 0.7638347668180784, 2.4224474033373444], [17.703216941609153, 0.6134778148082374, 1.5336945370205886], [17.835309773800653, 0.583293149834991, 1.0095458362528666], [16.180422785218667, 0.4864702275294525, 0.4653193480716527], [15.387052133803971, 0.43158804765547587, 0.018764697724149133], [19.522125239566634, 0.5390262671188844, -0.6093340410909105], [15.449072581241076, 0.4291409050344749, -0.9536464556321664], [14.254333813983166, 0.3822139981667437, -1.3040242290394748], [13.83088323327978, 0.3754990923062388, -1.6271627333270302], [16.57648032483975, 0.4544778155439446, -2.4398282729201326], [16.21755147839273, 0.44029551525048155, -2.8863817110864955], [11.739371026211108, 0.3309607088649923, -2.3945980700231573], [20.22601391093594, 1.5332284688456117, 3.822569607258928], [20.614459578637906, 1.4770485056344917, 3.1681620120855722], [20.653262020880398, 1.3622364311644513, 2.4168710875498376], [19.387379605905114, 1.172816790974507, 1.6754525585350089], [16.424797908723658, 0.9534183482636421, 0.9750869470878135], [20.488558621037356, 1.0808184593666454, 0.6343934435412976], [16.34211010530008, 0.8249086956290662, 0.08917931844638527], [15.296661272636827, 0.7293772262449347, -0.28364669909524787], [15.396814778534713, 0.7470152722739221, -0.7677656965037601], [15.70192782999509, 0.7557077565238242, -1.3014966917910338], [16.854964807020686, 0.7981459657920666, -1.877990507746039], [14.999419008057211, 0.7316789760027917, -2.126442024008111], [18.709008827709663, 4.9093099239194045, 3.8573149402223907], [17.185733961441333, 4.180856916935433, 2.8341385831148855], [18.595570256497126, 4.1787798329207035, 2.3401167064355937], [16.65113731550883, 3.4436658681709282, 1.4584937794606303], [18.713095536372816, 3.5291286110505165, 1.0020982475822413], [18.18950270389839, 3.174007183230591, 0.3906470379360731], [13.734711275828797, 2.235883230948875, -0.06388237802711315], [16.10023408390767, 2.611462510083756, -0.5450008716696539], [14.769230135973118, 2.382859047813014, -0.9441516981900581], [14.728776359313358, 2.367124772032503, -1.3808227836856306], [14.617265080226659, 2.3617415195126044, -1.787263852604134], [15.15688730153713, 2.4524992572458038, -2.3199317298271116], [16.874343920063698, 2.737058760843665, -3.0886075925116536], [13.967266322977384, 2.2557249037108664, -2.9392779048353717], [17.554457476978442, 2.7801176999739625, 3.6141530099661514], [21.399858290002307, 3.138342661020531, 3.547691703762345], [16.952843190588283, 2.303027754193127, 2.17508176784906], [17.40056957442379, 2.1937070577302937, 1.6399557616041995], [16.7731355179091, 1.9421525336526315, 1.0397382250867613], [20.35086518145127, 2.1654810776601465, 0.6054033120340151], [17.248123208712105, 1.696145080081105, 0.0], [14.67720580729016, 1.4125431152880767, -0.37520676499839295], [17.31983749850818, 1.6769206826590273, -0.9510893424036234], [13.952886086777447, 1.3509937322117835, -1.1295193498819873], [14.543267065475703, 1.3963254937310534, -1.5896628697861148], [17.501987083369404, 1.6945215710039523, -2.4207451014342216], [13.740678486690792, 1.3283381738322306, -2.2647077062057743], [15.14658324518948, 1.4788084233469034, -2.9352106584612705], [15.971247741601776, 2.636939029936596, 3.0296746301399207], [24.588428737170908, 3.766638464970996, 3.766638464970996], [17.038887548831447, 2.4312081754327854, 2.0226017593936567], [22.89407023543339, 3.034153886623701, 2.006052156445424], [16.519298997096328, 2.051416215325686, 0.9717234704174288], [19.08742404208062, 2.1932079957339514, 0.6297329888741128], [18.385877782485423, 1.9593376571174066, 0.09113198405196228], [15.693958225605542, 1.6443271880939494, -0.33302829125952527], [16.87277453154665, 1.7542145887791336, -0.8540255234845859], [14.248816351703475, 1.4873953529009667, -1.1640485370529274], [15.539879962231618, 1.6142534586805688, -1.6788235970277894], [16.483035718448708, 1.722803168312434, -2.3048312657152894], [14.07096570843064, 1.4616351976199282, -2.3342532260497286], [20.680185225661187, 2.7502514372271003, 3.79492058780174], [17.991330639910984, 2.227129196544416, 2.6725550358532972], [24.34048569205115, 2.7977569760978347, 2.751127693162876], [16.95816132965141, 1.8138239566508614, 1.376757943000046], [17.78507873059013, 1.768107242222409, 0.9568580369674271], [18.279130801029563, 1.7175022229155308, 0.44982201076358685], [20.19156013684925, 1.7386532838848379, -0.046364087570267554], [17.154326865174195, 1.445323119855835, -0.5212640760135755], [11.160409392418472, 0.9520728391636619, -0.6523462046121368], [16.983546723702116, 1.4475772117441172, -1.5291308574761848], [17.27904124637971, 1.4765726155997205, -2.4295379207030834], [14.525409755937181, 1.2410951373743806, -2.7120227075958736], [19.196463696814398, 2.445802119829669, 2.9596260945838035], [20.161215413306696, 2.3796844422263685, 2.3576503270205618], [18.099211690517382, 1.9799375452171162, 1.5279952794610414], [17.662388180534375, 1.796175069206888, 0.9622366442179734], [19.57937897560784, 1.863579444666287, 0.4717922644724784], [15.097707238021195, 1.312844107654018, 0.0], [16.74511038783521, 1.4495121395154498, -0.4759592099901437], [16.435010022604157, 1.4310757026485277, -0.9838645455708628], [15.326268601045268, 1.318877713443065, -1.3643562552859292], [15.92662998664781, 1.3705408593851192, -1.8667711705418102], [15.17251093086481, 1.319348776596941, -2.2146211607162885], [14.537779351032446, 1.2593517067003803, -2.4966095238095236], [15.665304754516237, 1.3480529313975382, -3.137709409287377], [16.334855476936294, 4.106943185896382, 3.3078546927129286], [23.217347613336006, 5.409219050853936, 3.739706998121232], [17.692668934548937, 3.7975579723039252, 2.1292666087484524], [18.21899042767128, 3.6213055047593516, 1.619465815792993], [17.353347124534533, 3.2259427346891147, 0.9789067608711804], [18.059410607625644, 3.108008083711319, 0.49445583149953676], [14.878401355852034, 2.3764113276708114, 0.0], [17.223911965215517, 2.6792751945890814, -0.4728132696333753], [13.78533696966065, 2.1788374541712865, -0.7961136851779663], [14.552899379233835, 2.276984256614819, -1.2671912384639], [14.682511085180863, 2.2904717292882144, -1.7423246487747952], [16.736927365624364, 2.6359053341508276, -2.5073245861434703], [16.35711086917664, 2.5444394685385894, -2.976085449808534], [15.671605817724322, 2.4565071528508367, -3.3208337436687216]] )\n",
    "esti_ball_val_list = np.array( [[25.256265087305213, -0.9753857511120286, 5.2297278570262336], [20.0824404683634, 5.473201804795049, 3.4102257399107625], [20.641128529038888, -5.203165363275732, 1.5437963165763147], [21.123894589956215, -1.457593575740077, 3.0497342507792435], [20.922298040324627, -0.4507071006419064, 1.4707284336736097], [15.461604340136324, 0.2917283837761527, -0.1250264501897771], [14.798165958532888, 1.238428073125446, 0.3988158201590404], [15.843721082184793, -0.7065443185298604, -0.9206486574783085], [18.793917036409553, -2.0256267929732474, -1.6140020970749422], [15.040676720402153, -0.15904038828220063, -2.0902451031374505], [14.572976690803618, -0.19693211744328984, -2.4288294484672734], [27.078790081537978, -7.140777236316685, 5.75675018770474], [22.643922435873137, 0.22712058611708283, 4.63325995678849], [18.20218722876627, 1.4518411241992135, 1.993572886960108], [18.886717007274, 1.2538073461098675, 1.8707601672115495], [21.10831588137486, 1.4694186746150455, 1.4694186746150402], [17.671853587886783, 1.1682114751607826, 0.4672845900643187], [16.475798035016645, 0.9212457612124243, -0.8572703611282285], [15.24542525345622, 0.8697865437788026, -2.271109308755757], [14.124023496050233, 0.7221305246100878, -2.272587239214102], [27.38161265183615, 5.38654675118088, 4.570403304032257], [22.526919787398047, 0.8296032782894454, 4.296919543960734], [16.983073842563083, 3.2697866791399135, 1.2088302268335425], [20.93456386441381, 0.8043394215818372, 3.02170755675339], [18.675720372234434, 1.981737340536989, 0.818543684134848], [17.950825557031745, 1.5638142509806794, 0.6387410320906985], [18.39250842224792, 1.7119518579180657, -0.04389620148508348], [15.17195273527378, 1.2709213101150432, -1.070527078644621], [16.991655619029725, 1.2805305683906472, -2.413307609659291], [19.996707474876303, -1.5315709069214902, 4.551569878315964], [18.36557037792798, 0.26745976278535927, 2.184254729413772], [17.471060643545634, 0.06353112961289553, 2.371828838881336], [18.394417749409516, 0.13297169457404, 0.9972877093053444], [16.161059692662437, 0.06362621926245292, 0.8907670696743032], [15.658724571894412, 0.07771079192007159, -0.15542158384014318], [18.23671662637656, 0.14082406661295188, -0.02347067776882184], [16.093071271638895, -0.044517486228604915, -0.9793846970291994], [14.753017672389962, 0.04215147906397605, -1.1591656742592151], [12.838881210817828, 1.0743388585688465, -1.5104566130373906], [30.277959675152744, 1.7579416478059982, 5.046326612525456], [13.56271077980869, 6.60799743256845, 3.7322948461729233], [24.03347963099183, -6.681425244920044, 1.9651250720353008], [21.24135999022762, -0.8539240197076435, 3.3943479783378856], [17.382270530625345, 0.8838442642690818, -0.08417564421610348], [18.333122372193326, -0.22457054130749296, 0.6532961201672457], [16.45297414276577, -0.03913233807740228, -0.7609065737272764], [22.95572980933805, -4.382457509055451, 5.446768618397482], [15.938461334415324, 2.3239777146621643, 2.763154605621948], [21.260188244447733, 0.5039096536494418, 3.4313847843747447], [18.572092366441282, 2.0306096076330142, 1.9165304161929595], [15.956297724368197, 1.5997850583025384, 1.433573623673703], [16.600827063312398, 1.627128210920197, 0.18536903668710902], [17.42109204899129, 1.549585007053135, -0.1878284857034103], [15.978344997160763, 1.2717930171401464, -0.20811158462293092], [14.61437302499787, 1.1792577657058807, -1.1266123297368646], [16.38036890307818, 1.3817795853823607, -1.9093681543465386], [13.652262956549356, 1.2070598345729622, -1.9770807635246817], [15.706760349724695, 1.30889669581039, -2.7952709096967654], [27.14559110544435, 10.952358271069745, 5.797049006757616], [21.234087660883638, -2.327582685904548, 2.490921821757499], [18.26136298782211, 1.894850663502638, 2.352946428305474], [17.92499454333051, 1.757352406208871, 1.9640997481158018], [19.922241221551996, 4.501856145156435, 3.2185215879398967], [19.608083822263563, 1.618445013901116, 3.3821350931523346], [19.89772877474237, 1.4762160323999018, 2.6613472133406724], [18.347926722573487, 1.3821036504995354, 2.0831707195934994], [20.560849264686727, 0.5680999796831621, 2.3160999171698093], [18.354269677953038, 1.349263698612649, 0.5782558708339958], [17.265797328392548, 1.222080028688402, -0.24023795435755052], [14.635836400861054, 0.9713073931189844, -0.4635785285340583], [16.471602935620155, 1.152531983833476, -1.3686317308022564], [14.818966667199561, 1.0728663650461234, -1.6987050779896953], [15.350780744013472, 1.0813395275479132, -2.035462640090185], [14.733109628334331, 0.9221597001723073, -2.466241058600356], [24.739042444250522, 4.961037923312273, 5.710705876168345], [20.428409254521274, 3.607716819977319, 3.1021768834199923], [19.773112119442622, 3.235600164999703, 2.606455688471977], [18.55743004796153, 3.0315521665281366, 1.818931299916882], [18.480277147062967, 2.981371942489565, 1.3109578754209492], [16.05133276087059, 3.5803547015192794, 0.4395682999885045], [18.357818816583237, -0.10767049159286365, -0.9690344243357705], [14.976556406541087, 1.9317587249016783, -1.4542453322293558], [14.214290570773478, 1.6657371762625157, -1.776786321346686], [16.934314690168, 2.0099391242082065, -2.5413023409529027], [15.326294962720494, 1.8115060920167319, -3.003286415711945], [25.357913479309616, -8.36504572460817, 3.437989996763045], [16.742735123384406, 0.23889752851440338, 1.3338445342054122], [18.624322638633785, -1.5571490874985359, 2.868432529602566], [17.97895599039494, -0.4714386552904563, 1.4357449956572867], [17.0370200389144, -0.588934026036548, 0.29446701301826933], [17.31934995180845, -0.36170632577486733, -0.08510737077055758], [14.86894509883197, -0.4963208377913316, -0.3102005236195754], [17.230648878742475, -0.2742939763620285, -1.0971759054481474], [13.886146845565172, -0.5323762368906781, -1.1091171601889176], [23.649738141172264, -1.7935427514469278, 5.902006961156744], [17.60514693794271, 3.789996910251551, 2.8323095189514333], [18.18840095431968, 3.482438937043913, 2.7481897635707915], [19.830546667017295, 1.808792910673435, 2.8234816166609717], [16.36354556803994, 2.998223833111834, 1.1823981313680492], [17.39141311355012, 2.866481374189074, 0.5561829532008608], [15.673440103136766, 2.333601082022585, -0.8751004057584697], [14.331155483798296, 2.114801594155479, -1.6873416974644715], [15.120980510613643, 2.2128264161873625, -2.538242065626681], [16.45489888718239, 2.2602883086789, -3.073992099803306], [23.030484700581958, 0.0, 4.899172433931965], [17.44428547662617, 3.6157246260643374, 1.0995185997388541], [20.5249662372095, 0.8905011806619977, 3.171052984796395], [17.51769149086209, 1.8128329974203699, 1.2594418718920437], [19.96479196956206, 1.9014087590059112, 0.7922536495857988], [18.63870732283837, 1.6523676704643933, 0.22031568939524787], [16.920041052413012, 1.4722094543153472, -0.4976482662474421], [16.807552648994537, 1.3988080228031883, -0.6338348853326923], [15.34607242280752, 1.2232376568904524, -1.2454783415611903], [15.456864073683272, 1.4824636911290043, -1.6786721208372524], [15.33856985689555, 1.203025086815338, -2.062328720254865], [14.315887904191616, 1.2767093013972044, -2.4487702994011973], [19.5753206659087, 3.6026919948959635, 2.5406267247243193], [18.158491011526927, -0.40989821696449114, 4.467890564912945], [19.210892922422957, 1.3371851222104156, 2.8972344314559053], [15.080741310412424, 1.106843398929349, 1.4626144914423553], [18.86651650315635, 1.008659448528408, 1.2379002322848591], [15.791677623209816, 0.9681546226763543, 0.6884655094587392], [18.144663848195858, 0.921787735603528, 0.19406057591653333], [15.100181958717428, 0.7180201795931949, -0.2175818726039929], [16.723532056758962, 0.8666256107844269, -1.2882272592741546], [15.200088902687744, 0.7184680131255661, -0.7184680131255661], [15.69074687338181, 0.7745173637879182, -2.3235520913637533], [21.441353940881587, -1.5050390863894483, 4.51511725916835], [20.146459202725445, 0.06436568435375785, 2.596082602268135], [15.980672851876584, 1.058460149929492, 0.809410702887259], [20.7928350485401, -0.5781964826332057, 2.3127859305327934], [16.417484221829632, 0.06226605899556359, 0.9755015909304624], [16.670589841114637, 0.1845452749938869, -0.26656539721339323], [17.958485252140832, -0.04695028824088586, -0.11737572060222506], [15.607050190377286, 0.27221599169262745, -0.930071304949818], [15.479089297542819, -0.11024992377167994, -0.859949405419039], [18.373411116276646, 1.6885848290669991, 3.8194180657467793], [20.712351152585104, -0.46544609331652, 4.421737886506933], [18.625573919424923, 1.6850639854726988, 2.5612972579185107], [16.78683257745642, 1.3496950816045385, 1.7292968233058101], [17.90985542483524, 1.402975210758208, 1.1179958710729496], [15.477136531365314, 1.636616265066044, -0.04041027814978341], [19.71402202692179, 0.4432738680609612, 0.48993427522527316], [13.57743396912073, 0.9225435193198724, -0.2206082328808324], [15.187961135606407, 0.8995624364064433, -0.9414025497276778], [16.222050379678066, 0.8915936086540572, -1.3621569021103652], [16.33068432650917, 1.0775378221303744, -1.4606623811100568], [14.992808729461927, 0.9425303733433656, -2.235769722814506], [17.157445478301224, 1.0243251031821632, -2.970542799228262], [14.526805151457268, 0.8011880925332027, -2.5089837634592422], [19.149227108291743, 3.2237756074565254, 3.6965960298834823], [18.847329812884862, 2.9879913117988166, 2.423825120060571], [18.099452998131635, 2.2584923938469537, 2.037895462354931], [15.813249638286043, 2.450761936560937, 0.7585691708402835], [20.850321089234974, 2.82455088647272, 0.28245508864727514], [16.374361837531428, 2.1757713674528043, -0.33645948981229223], [14.920567298969482, 1.9238553823886158, -0.641285127462868], [15.554976005071593, 2.016385778435207, -1.329485128638598], [14.179626426619516, 1.980512457804211, -1.4748497026201541], [17.189060953964628, 2.176456638775377, -2.3001189477967054], [14.771907214019283, 1.969587628535905, -2.193404404505901], [15.873286179252498, 2.015655387841586, -2.9547675571768717], [21.745132868177645, -0.9608800306783658, 2.5275322546104695], [13.244766105976698, 6.592051527554805, 4.408181696340333], [27.947922801242377, -10.95647650853487, 3.451735485412404], [15.929006633895849, -0.36853742854771443, 0.7984977618533934], [19.80181123877167, -2.015228577397119, 2.935224232295799], [17.94511515301111, -0.9921578089405143, 0.5176475524907056], [18.2224583803344, -0.8431985882931087, -0.04684436601628901], [17.39710345272807, -0.6994944319514562, -0.3159007112038773], [15.349348924902019, -0.7552501641775292, -0.33319860184302785], [14.89905496185494, -0.712472389174494, -1.068708583761741], [16.64415484508357, -0.7366707538626204, -1.7035511183073146], [14.381634259570045, -0.6714317199498097, -1.581113405043092], [16.632399418853094, -0.47794251203600874, -2.6286838161980426], [14.17439049710117, -0.7426701607762526, -2.737270021146783], [17.44534236036314, 3.630244653023541, 2.480667179566087], [19.019032135531415, -0.4580499886044241, 4.202110765023177], [17.656452140167374, 1.793233420485753, 2.3449975498659796], [17.435677160159422, 1.147380045378231, 2.024788315373348], [17.805389503748664, 1.4506362013566596, 1.286854694751878], [15.886566246590618, 1.0855472336697933, 0.6889049752135203], [16.771565686426484, 1.0762502044765676, 0.4035938266787079], [16.949469365914577, 0.9585217158655115, -0.6078430393293452], [15.243185025568454, 0.8993029513609716, -0.6295120659526802], [14.942849268588999, 0.964054791521872, -1.1935916466461274], [13.971385273037978, 0.7916405131736663, -1.6474680949830378], [16.44381644368056, 0.989456003774476, -2.002470483829294], [14.950813895386768, 0.8676811635715519, -2.6030434907146605], [15.283921856485222, 0.9016414332602775, -2.682933045311072], [31.69657972466084, 2.751658014533176, 5.83939639725362], [19.413028118672052, 0.5758101560623078, 2.5911457022803805], [21.07108553173238, -0.8271279894693776, 3.5773285544550557], [18.370682874788354, 0.41051805306789635, 1.9704866547259023], [21.977813143413673, 0.5262646248707977, 1.2279507913651855], [15.970491990779903, 0.3875342884097278, 0.5303100788764682], [19.661757908584068, 0.48169117370695996, -0.043790106700627864], [17.66593841494195, 0.2426033989567585, -0.33082281675921527], [13.959763258130684, 0.26882625256372716, -0.5952581306768265], [14.201636291055655, 0.322764461160356, -0.887602268190979], [17.557692081417713, 0.3882536332500235, -2.254028037479297], [13.26235423369535, 0.2111839846129788, -2.2385502368976296], [27.78617498716787, 2.716244477384264, 4.567314787897978], [20.174420249917347, -0.6724806749972448, 4.749394767168033], [18.76851141324424, 0.7201870658570452, 2.4224474033373444], [17.02400936092859, 0.7230274245954201, 1.7747036785523984], [18.8224212581368, 0.44868703833460855, 1.3460611150038255], [16.561138615459083, 0.592224624818461, 0.44416846861384346], [14.936699388424358, 0.4878821408279316, 0.15011758179320972], [18.373764931356824, 0.3984107191748321, -0.6796418150629419], [16.998748071643355, 0.4291409050344696, -0.6675525189425165], [14.928829104865645, 0.4271803508922426, -1.1691251708629729], [13.538828383708266, 0.41722121367359866, -1.376830005122871], [15.14128722312202, 0.5023175856012022, -1.9135908022903043], [17.391672852394002, 0.5381389630839218, -2.9597642969615676], [13.160555246631358, 0.2920241548808758, -2.316724962054933], [30.16049426386712, 3.5915351804465683, 5.922882578280308], [20.63586607871959, -0.08562600032663735, 4.045828515433612], [18.675822040157772, 1.252378654457638, 2.4388426428911973], [19.02835405764766, 1.3642970833785089, 1.579712412333008], [18.201623012305877, 1.0184241447361657, 1.3001159294504212], [19.337252001277243, 1.1278105662956355, 1.0573224059021555], [16.8103015271436, 0.8694983548522539, 0.22294829611596814], [16.61359237557906, 0.7901586617653437, -0.3849490916292733], [15.957076232740148, 0.7470152722739221, -0.6017623026651016], [15.72291971212076, 0.6927321101468408, -1.1125697526600788], [16.361992298737352, 0.9389952538730195, -1.4789175248500084], [15.045148944057392, 0.6859490400026172, -2.2864968000087242], [20.070414100729348, 3.609786708764269, 6.043814318102454], [17.266135055997776, 4.060255275100757, 3.1557429613406884], [22.648986694430185, -2.966933681373695, 3.134084874690532], [15.78009241944208, 3.2410972876902853, 1.7826035082296503], [17.34065663207536, 3.3766353994619136, 0.9149592695316209], [17.920932865317337, 3.344915262327623, 0.48830879742009137], [16.05577101081384, 2.6191774991115397, 0.19164713408133], [15.759608539114144, 2.5433374011250494, -0.15895858757031825], [15.44362420610888, 2.45029845482659, -1.101510314555071], [14.509598139680703, 2.3232891281059764, -1.0958910981631922], [14.38321862333802, 2.255356766381405, -1.6383251982204536], [15.46621153218075, 2.5187830209551505, -2.2094587903115372], [16.32191004172828, 2.4608418216759564, -2.71194813001024], [15.835644526051029, 2.460790804048218, -2.8253524046479512], [18.48778270482682, 5.282223629950525, 2.760259716402718], [21.53630797091629, 0.5457987236557454, 4.912188512901704], [17.976411081340782, 2.2817034231357813, 2.5162710647665603], [17.89042649022764, 2.257601438052533, 2.108514550633976], [15.713779590462188, 1.922534831292506, 1.0593559274468867], [18.534655245349224, 2.049057363807453, 0.6752575403456457], [16.62699965825985, 1.6722557127560165, 0.31056177522611567], [16.70773653551678, 1.61118199087546, -0.11035493088187855], [16.59400615825276, 1.5517773481322368, -0.9260606754982786], [15.060257998426465, 1.483878361609664, -0.9744872822511242], [15.55291780709661, 1.4607712857494073, -1.4392893550766146], [16.364236885695327, 1.6218992179609284, -2.1786705912908046], [14.132647128149479, 1.2847861025590426, -2.3082597774789573], [16.602985480303857, 1.5684331762770187, -2.845585905531155], [20.70277663928943, 3.422410230343242, 4.1143729545109995], [22.55304024988845, 3.6028715751896456, 3.368918875502011], [18.571161608978148, 2.51292945864061, 2.6355113834523474], [20.96324503485467, 2.9840025827125656, 1.980976504489848], [17.92289956547705, 2.3105424741036673, 1.425194423278904], [19.195998695334794, 2.214922926384785, 0.6080180582232744], [19.02380167084922, 2.0732526371823696, 0.41009392823387075], [16.2351291989023, 1.727584260908833, -0.27058548664836946], [16.45730265525685, 1.7080510469691566, -0.6001260435297088], [14.895509983399553, 1.4442824441212285, -1.142492082663061], [15.496833203333464, 1.7218703559259403, -1.528159940884267], [15.994132116630311, 1.5598353010396386, -1.815927663896898], [14.35456656767033, 1.5270815497521613, -2.246991423206748], [21.06394124015797, 1.9614196296503352, 5.244665531456339], [22.174460261246605, -3.3310106243968645, 2.595089672495231], [22.405370450250103, 0.8160124513618658, 3.84691584213452], [18.793838586984844, 2.032356963476267, 1.573437649142918], [18.32591153409345, 1.913716073934845, 1.414485793777929], [17.686183605023015, 1.6561628578114023, 0.49071492083300877], [18.80063750974139, 1.6227430649591843, -0.25500248163644584], [17.912529157557582, 1.5637922280407424, -0.33171350291772794], [12.11248223158213, 0.952072839163658, -0.44077446257576747], [14.516548940307217, 1.223304685980946, -0.9990321602177794], [18.043507919704382, 1.5603497852791373, -2.3038721661839583], [15.582638947033873, 1.195128650804959, -2.7809724374499982], [17.86052136245363, 2.7952024226624768, 2.692437627711657], [21.130716482361894, 0.4847505345275936, 3.4152878568989475], [18.12073275079145, 2.109063906861716, 2.0014586054912176], [17.76930336322528, 1.817558105745063, 1.2829821922906344], [18.447077540873888, 1.910758671113535, 0.5897403305906058], [16.34702663078873, 1.4187186324648235, 0.0], [17.3941456741854, 1.5144156681504726, -0.346152152720108], [15.160458224932826, 1.2969123555252282, -0.7378984091781545], [15.303529330123837, 1.2733991716002007, -1.0914850042287434], [16.186560149634648, 1.512320948287034, -1.77225111127386], [15.690826521670747, 1.3429085761790267, -2.1675015615521174], [15.35525326590813, 1.2151639275179085, -2.2977645174884134], [16.548511847500833, 1.3248106394768935, -2.8820441981602545], [22.4673950757861, 12.766832437605501, 5.203366932357407], [24.219054844975663, -2.025674623982337, 4.251690694292605], [18.307302594806192, 3.973167589520292, 2.5463394496373057], [17.859109135272835, 3.553827762434641, 1.259584523394558], [17.420090767321206, 3.4039257821202384, 1.6240953078090015], [18.271320249696856, 3.272826694211165, 0.3767282525710696], [15.02305248014505, 2.417740220325956, 0.516611158189305], [17.066307542004402, 2.589215524182728, -0.6304176928444803], [14.874755696746286, 2.3254899751251235, -0.6075604439516163], [14.255901432718865, 2.2373845304128213, -1.187991786059906], [13.057646525087511, 2.0555515519253205, -1.3116376569428185], [19.60856407112201, 2.8930668301655422, -2.5716149601471514], [16.584292964581877, 2.54443946853859, -2.726185144862777], [15.489642324920553, 2.3200345332480126, -3.0251430678625995]] )\n"
   ]
  },
  {
   "cell_type": "code",
   "execution_count": 6,
   "metadata": {
    "scrolled": false
   },
   "outputs": [
    {
     "name": "stdout",
     "output_type": "stream",
     "text": [
      "MAE\n",
      "1.6587626175405532\n",
      "0.7238458538532543\n",
      "1.1777813162735538\n",
      " \n",
      "1.1823750585595312\n",
      "0.7096289036081093\n",
      "0.4132276424624635\n",
      " \n",
      "MSE\n",
      "6.146643221863162\n",
      "2.9955973520664023\n",
      " \n",
      "3.9940778237812897\n",
      "3.156530233685687\n",
      " \n",
      "RMSE\n",
      "2.479242469356953\n",
      "1.7307794059516661\n",
      "1.3669740830772097\n",
      " \n",
      "1.9985189075366012\n",
      "1.7766626673867179\n",
      "0.6210332595869275\n",
      " \n",
      "R2 Score\n",
      "1.0701238201572374\n",
      "0.9758601743220122\n",
      " \n",
      "1.0288111968776568\n",
      "0.8777061282428967\n"
     ]
    }
   ],
   "source": [
    "print('MAE')\n",
    "print((sum(abs((ball_val_list[:,0]  - esti_ball_val_list[:,0]))) / esti_ball_val_list.shape[0]))\n",
    "print((sum(abs((ball_val_list[:,1]  - esti_ball_val_list[:,1]))) / esti_ball_val_list.shape[0]))\n",
    "print((sum(abs((ball_val_list[:,2]  - esti_ball_val_list[:,2]))) / esti_ball_val_list.shape[0]))\n",
    "\n",
    "print(\" \")\n",
    "print((sum(abs((real_ball_val_list[:,0]  - esti_ball_val_list[:,0]))) / esti_ball_val_list.shape[0]))\n",
    "print((sum(abs((real_ball_val_list[:,1]  - esti_ball_val_list[:,1]))) / esti_ball_val_list.shape[0]))\n",
    "print((sum(abs((real_ball_val_list[:,2]  - esti_ball_val_list[:,2]))) / esti_ball_val_list.shape[0]))\n",
    "\n",
    "print(\" \")\n",
    "\n",
    "print('MSE')\n",
    "print((sum((ball_val_list[:,0]  - esti_ball_val_list[:,0]) ** 2) / esti_ball_val_list.shape[0]))\n",
    "print((sum((ball_val_list[:,1]  - esti_ball_val_list[:,1]) ** 2) / esti_ball_val_list.shape[0]))\n",
    "print(\" \")\n",
    "print((sum((real_ball_val_list[:,0]  - esti_ball_val_list[:,0]) ** 2) / esti_ball_val_list.shape[0]))\n",
    "print((sum((real_ball_val_list[:,1]  - esti_ball_val_list[:,1]) ** 2) / esti_ball_val_list.shape[0]))\n",
    "print(\" \")\n",
    "\n",
    "\n",
    "print('RMSE')\n",
    "print(np.sqrt(sum((ball_val_list[:,0]  - esti_ball_val_list[:,0]) ** 2) / esti_ball_val_list.shape[0]))\n",
    "print(np.sqrt(sum((ball_val_list[:,1]  - esti_ball_val_list[:,1]) ** 2) / esti_ball_val_list.shape[0]))\n",
    "print(np.sqrt(sum((ball_val_list[:,2]  - esti_ball_val_list[:,2]) ** 2) / esti_ball_val_list.shape[0]))\n",
    "\n",
    "print(\" \")\n",
    "print(np.sqrt(sum((real_ball_val_list[:,0]  - esti_ball_val_list[:,0]) ** 2) / esti_ball_val_list.shape[0]))\n",
    "print(np.sqrt(sum((real_ball_val_list[:,1] - esti_ball_val_list[:,1]) ** 2) / esti_ball_val_list.shape[0]))\n",
    "print(np.sqrt(sum((real_ball_val_list[:,2] - esti_ball_val_list[:,2]) ** 2) / esti_ball_val_list.shape[0]))\n",
    "\n",
    "\n",
    "print(\" \")\n",
    "\n",
    "print('R2 Score')\n",
    "print(sum(esti_ball_val_list[:,0])/ sum(ball_val_list[:,0]))\n",
    "print(sum(esti_ball_val_list[:,1])/ sum(ball_val_list[:,1]))\n",
    "print(\" \")\n",
    "print(sum(esti_ball_val_list[:,0])/ sum(real_ball_val_list[:,0]))\n",
    "print(sum(esti_ball_val_list[:,1])/ sum(real_ball_val_list[:,1]))\n"
   ]
  },
  {
   "cell_type": "code",
   "execution_count": 26,
   "metadata": {},
   "outputs": [
    {
     "name": "stdout",
     "output_type": "stream",
     "text": [
      "(100, 3) (100, 3)\n"
     ]
    }
   ],
   "source": [
    "with open('real_ball_list.bin', 'rb') as f:\n",
    "    real_landing_point = pickle.load(f)\n",
    "\n",
    "with open('esti_ball_list.bin', 'rb') as f:\n",
    "    esti_landing_point = pickle.load(f)\n",
    "\n",
    "print(real_landing_point.shape, esti_landing_point.shape)"
   ]
  },
  {
   "cell_type": "code",
   "execution_count": 27,
   "metadata": {},
   "outputs": [
    {
     "name": "stdout",
     "output_type": "stream",
     "text": [
      "MAE\n",
      "0.9922\n",
      "0.9807900000000003\n",
      "MSE\n",
      "2.0574114799999994\n",
      "4.64159287\n",
      "RMSE\n",
      "1.4343679723139384\n",
      "2.154435626794173\n",
      "R2 Score\n",
      "1.072002814859044\n",
      "0.8947675962815402\n"
     ]
    }
   ],
   "source": [
    "print('MAE')\n",
    "print((sum(abs((real_landing_point[:,0]  - esti_landing_point[:,0]))) / esti_landing_point.shape[0]))\n",
    "print((sum(abs((real_landing_point[:,1]  - esti_landing_point[:,1]))) / esti_landing_point.shape[0]))\n",
    "\n",
    "print('MSE')\n",
    "print((sum((real_landing_point[:,0]  - esti_landing_point[:,0]) ** 2) / esti_landing_point.shape[0]))\n",
    "print((sum((real_landing_point[:,1]  - esti_landing_point[:,1]) ** 2) / esti_landing_point.shape[0]))\n",
    "\n",
    "\n",
    "print('RMSE')\n",
    "print(np.sqrt(sum((real_landing_point[:,0]  - esti_landing_point[:,0]) ** 2) / esti_landing_point.shape[0]))\n",
    "print(np.sqrt(sum((real_landing_point[:,1] - esti_landing_point[:,1]) ** 2) / esti_landing_point.shape[0]))\n",
    "\n",
    "print('R2 Score')\n",
    "print(sum(esti_landing_point[:,0])/ sum(real_landing_point[:,0]))\n",
    "print(sum(esti_landing_point[:,1])/ sum(real_landing_point[:,1]))\n"
   ]
  },
  {
   "cell_type": "code",
   "execution_count": 29,
   "metadata": {
    "scrolled": true
   },
   "outputs": [
    {
     "data": {
      "text/plain": [
       "array([[ 5.715e+00, -1.975e+00,  8.000e-03],\n",
       "       [ 5.350e+00,  6.360e-01,  2.900e-02],\n",
       "       [ 5.940e+00,  2.139e+00,  9.000e-03],\n",
       "       [ 5.982e+00,  4.980e-01,  1.800e-02],\n",
       "       [ 5.854e+00, -9.060e-01,  1.900e-02],\n",
       "       [ 5.429e+00, -9.900e-02,  1.000e-03],\n",
       "       [ 5.577e+00,  1.390e-01,  2.700e-02],\n",
       "       [ 4.877e+00, -9.950e-01,  9.000e-03],\n",
       "       [ 5.356e+00,  4.250e-01,  2.000e-02],\n",
       "       [ 5.246e+00, -1.853e+00,  7.000e-03],\n",
       "       [ 6.020e+00, -8.100e-02,  1.400e-02],\n",
       "       [ 5.322e+00,  2.151e+00,  1.700e-02],\n",
       "       [ 5.579e+00,  7.070e-01,  1.500e-02],\n",
       "       [ 5.888e+00, -8.740e-01,  1.300e-02],\n",
       "       [ 5.930e+00,  2.920e-01,  5.000e-03],\n",
       "       [ 5.212e+00,  2.034e+00,  1.300e-02],\n",
       "       [ 5.913e+00,  1.141e+00,  1.700e-02],\n",
       "       [ 6.000e+00,  1.201e+00,  3.100e-02],\n",
       "       [ 6.027e+00, -1.722e+00,  2.200e-02],\n",
       "       [ 5.494e+00, -6.420e-01,  8.000e-03],\n",
       "       [ 5.450e+00, -2.054e+00,  7.000e-03],\n",
       "       [ 5.579e+00, -3.330e-01,  7.000e-03],\n",
       "       [ 5.560e+00, -8.540e-01,  1.600e-02],\n",
       "       [ 5.405e+00,  1.845e+00,  9.000e-03],\n",
       "       [ 6.058e+00,  2.194e+00,  1.600e-02],\n",
       "       [ 5.272e+00, -9.160e-01,  1.300e-02],\n",
       "       [ 6.026e+00,  2.960e-01,  2.000e-03],\n",
       "       [ 6.041e+00,  3.140e-01,  5.000e-03],\n",
       "       [ 5.273e+00,  6.890e-01,  5.000e-03],\n",
       "       [ 5.392e+00,  1.441e+00,  1.400e-02],\n",
       "       [ 5.440e+00, -1.198e+00,  1.900e-02],\n",
       "       [ 5.092e+00, -9.590e-01,  1.200e-02],\n",
       "       [ 5.918e+00, -1.559e+00,  5.000e-03],\n",
       "       [ 5.379e+00,  5.540e-01,  2.000e-03],\n",
       "       [ 5.653e+00,  1.847e+00,  1.200e-02],\n",
       "       [ 5.626e+00, -9.300e-02,  2.200e-02],\n",
       "       [ 5.827e+00,  1.530e-01,  1.700e-02],\n",
       "       [ 5.454e+00, -8.310e-01,  9.000e-03],\n",
       "       [ 5.110e+00, -1.304e+00,  1.000e-03],\n",
       "       [ 5.106e+00,  1.975e+00,  1.200e-02],\n",
       "       [ 5.529e+00,  1.827e+00,  0.000e+00],\n",
       "       [ 5.359e+00, -3.260e-01,  2.500e-02],\n",
       "       [ 5.984e+00,  3.030e-01,  3.000e-03],\n",
       "       [ 5.142e+00, -2.252e+00,  1.500e-02],\n",
       "       [ 5.106e+00, -1.422e+00,  1.200e-02],\n",
       "       [ 5.612e+00,  4.580e-01,  1.500e-02],\n",
       "       [ 6.079e+00, -1.360e+00,  3.000e-03],\n",
       "       [ 5.737e+00,  1.273e+00,  1.200e-02],\n",
       "       [ 6.013e+00,  7.880e-01,  2.000e-03],\n",
       "       [ 5.889e+00,  2.223e+00,  9.000e-03],\n",
       "       [ 5.487e+00,  8.760e-01,  1.700e-02],\n",
       "       [ 5.525e+00, -2.475e+00,  1.700e-02],\n",
       "       [ 5.552e+00, -1.604e+00,  3.000e-03],\n",
       "       [ 5.755e+00, -1.705e+00,  1.400e-02],\n",
       "       [ 5.857e+00,  9.190e-01,  3.000e-03],\n",
       "       [ 5.311e+00,  1.123e+00,  1.300e-02],\n",
       "       [ 6.284e+00, -1.273e+00,  4.000e-03],\n",
       "       [ 5.489e+00, -1.035e+00,  1.000e-02],\n",
       "       [ 5.907e+00, -1.426e+00,  1.600e-02],\n",
       "       [ 5.809e+00, -1.389e+00,  1.100e-02],\n",
       "       [ 5.349e+00,  2.327e+00,  3.000e-03],\n",
       "       [ 5.537e+00, -3.010e-01,  2.000e-03],\n",
       "       [ 5.526e+00, -1.275e+00,  7.000e-03],\n",
       "       [ 5.472e+00,  1.140e-01,  2.000e-03],\n",
       "       [ 5.831e+00,  1.659e+00,  1.300e-02],\n",
       "       [ 4.943e+00,  1.297e+00,  1.000e-02],\n",
       "       [ 5.708e+00,  1.055e+00,  3.300e-02],\n",
       "       [ 5.533e+00,  2.189e+00,  3.000e-03],\n",
       "       [ 5.201e+00,  2.365e+00,  1.900e-02],\n",
       "       [ 5.587e+00, -1.608e+00,  1.900e-02],\n",
       "       [ 5.197e+00,  6.440e-01,  3.000e-03],\n",
       "       [ 5.663e+00,  2.169e+00,  2.800e-02],\n",
       "       [ 5.786e+00, -2.021e+00,  2.400e-02],\n",
       "       [ 5.335e+00, -4.640e-01,  9.000e-03],\n",
       "       [ 6.145e+00, -5.800e-02,  2.400e-02],\n",
       "       [ 5.773e+00, -1.585e+00,  1.400e-02],\n",
       "       [ 5.515e+00, -2.720e-01,  2.000e-03],\n",
       "       [ 5.734e+00,  2.351e+00,  9.000e-03],\n",
       "       [ 5.993e+00,  1.888e+00,  7.000e-03],\n",
       "       [ 5.510e+00,  5.110e-01,  1.000e-02],\n",
       "       [ 5.476e+00,  1.198e+00,  3.100e-02],\n",
       "       [ 5.969e+00,  1.676e+00,  2.000e-03],\n",
       "       [ 6.197e+00, -9.330e-01,  1.500e-02],\n",
       "       [ 5.099e+00,  7.340e-01,  9.000e-03],\n",
       "       [ 5.254e+00,  7.710e-01,  2.000e-02],\n",
       "       [ 6.414e+00, -1.432e+00,  2.300e-02],\n",
       "       [ 4.996e+00,  1.200e-01,  0.000e+00],\n",
       "       [ 5.640e+00,  8.060e-01,  1.800e-02],\n",
       "       [ 6.200e+00, -3.180e-01,  3.700e-02],\n",
       "       [ 5.970e+00,  1.263e+00,  5.000e-03],\n",
       "       [ 5.568e+00,  9.870e-01,  1.800e-02],\n",
       "       [ 5.298e+00,  1.021e+00,  2.000e-02],\n",
       "       [ 5.381e+00,  2.360e-01,  1.900e-02],\n",
       "       [ 6.319e+00,  1.395e+00,  2.300e-02],\n",
       "       [ 5.174e+00,  1.925e+00,  2.300e-02],\n",
       "       [ 5.899e+00, -1.572e+00,  2.300e-02],\n",
       "       [ 5.899e+00,  1.690e-01,  3.200e-02],\n",
       "       [ 5.890e+00,  1.251e+00,  3.400e-02],\n",
       "       [ 6.075e+00, -1.160e-01,  2.100e-02],\n",
       "       [ 5.874e+00,  1.713e+00,  1.000e-02]])"
      ]
     },
     "execution_count": 29,
     "metadata": {},
     "output_type": "execute_result"
    }
   ],
   "source": [
    "real_landing_point"
   ]
  },
  {
   "cell_type": "code",
   "execution_count": 25,
   "metadata": {
    "scrolled": true
   },
   "outputs": [
    {
     "data": {
      "text/plain": [
       "array([[ 6.426,  2.56 ,  0.   ],\n",
       "       [ 4.499, -2.482,  0.   ],\n",
       "       [ 5.11 , -1.205,  0.   ],\n",
       "       [ 5.554,  1.602, -0.   ],\n",
       "       [ 5.105, -1.158, -0.   ],\n",
       "       [ 5.769,  2.104,  0.   ],\n",
       "       [ 5.621,  0.361,  0.   ],\n",
       "       [ 5.472,  3.214, -0.   ],\n",
       "       [ 5.472,  3.214, -0.   ],\n",
       "       [ 5.314, -2.129, -0.   ],\n",
       "       [ 6.872,  1.902,  0.   ],\n",
       "       [ 5.683,  0.301, -0.   ],\n",
       "       [ 5.316,  2.952, -0.   ],\n",
       "       [ 5.441,  0.747, -0.   ],\n",
       "       [ 6.81 , -0.692, -0.   ],\n",
       "       [ 5.055,  1.138,  0.   ],\n",
       "       [ 4.712,  6.377, -0.   ],\n",
       "       [ 6.406,  2.465, -0.   ],\n",
       "       [ 8.582, -9.112,  0.   ],\n",
       "       [ 3.875, -0.123,  0.   ],\n",
       "       [ 4.919, -0.775,  0.   ],\n",
       "       [ 5.078,  2.551, -0.   ],\n",
       "       [ 5.69 ,  0.074, -0.   ],\n",
       "       [ 6.355,  2.111, -0.   ],\n",
       "       [ 5.728,  1.092,  0.   ],\n",
       "       [ 7.355,  3.736,  0.   ],\n",
       "       [ 7.02 ,  3.112, -0.   ],\n",
       "       [ 5.263, -1.007,  0.   ],\n",
       "       [ 8.085,  2.194,  0.   ],\n",
       "       [ 7.438, -0.508,  0.   ],\n",
       "       [ 6.366,  2.448, -0.   ],\n",
       "       [ 5.401, -0.794,  0.   ],\n",
       "       [ 4.339, -0.901, -0.   ],\n",
       "       [ 5.066,  3.268, -0.   ],\n",
       "       [ 5.214,  0.617,  0.   ],\n",
       "       [ 6.192,  3.267, -0.   ],\n",
       "       [ 9.264, -8.265,  0.   ],\n",
       "       [ 4.116,  3.209,  0.   ],\n",
       "       [ 9.211,  3.498,  0.   ],\n",
       "       [ 5.879, -1.677, -0.   ],\n",
       "       [ 5.8  ,  1.545, -0.   ],\n",
       "       [ 5.683,  0.664, -0.   ],\n",
       "       [ 5.916, -1.08 ,  0.   ],\n",
       "       [ 6.653,  1.881,  0.   ],\n",
       "       [ 5.735, -0.376,  0.   ],\n",
       "       [ 5.953,  2.113,  0.   ],\n",
       "       [ 6.521,  1.325,  0.   ],\n",
       "       [ 5.413,  0.794,  0.   ],\n",
       "       [ 5.928,  1.834,  0.   ],\n",
       "       [ 6.683,  1.253,  0.   ],\n",
       "       [ 5.485, -0.202,  0.   ],\n",
       "       [ 6.613, -0.934,  0.   ],\n",
       "       [ 5.38 , -0.658,  0.   ],\n",
       "       [ 7.121, -0.586, -0.   ],\n",
       "       [ 6.519, -0.438,  0.   ],\n",
       "       [ 6.562,  3.449,  0.   ],\n",
       "       [ 5.746,  2.21 ,  0.   ],\n",
       "       [ 4.886,  0.403, -0.   ],\n",
       "       [ 5.748,  1.347,  0.   ],\n",
       "       [ 5.142, -0.581,  0.   ],\n",
       "       [ 6.101,  2.018,  0.   ],\n",
       "       [ 5.737,  3.154, -0.   ],\n",
       "       [ 5.638, -1.236,  0.   ],\n",
       "       [ 5.985, -1.114,  0.   ],\n",
       "       [ 6.239,  0.833, -0.   ],\n",
       "       [ 5.37 ,  1.037, -0.   ],\n",
       "       [ 7.559,  0.264, -0.   ],\n",
       "       [ 6.77 ,  1.08 ,  0.   ],\n",
       "       [ 6.467,  4.442,  0.   ],\n",
       "       [ 5.771,  1.443, -0.   ],\n",
       "       [ 4.241,  2.027,  0.   ],\n",
       "       [ 9.221, -1.836, -0.   ],\n",
       "       [ 7.234, -1.474,  0.   ],\n",
       "       [ 6.694, -1.776, -0.   ],\n",
       "       [ 5.367, -0.155,  0.   ],\n",
       "       [ 5.204, -0.485, -0.   ],\n",
       "       [ 7.099, -2.18 ,  0.   ],\n",
       "       [ 6.944,  2.31 ,  0.   ],\n",
       "       [ 6.832,  0.997,  0.   ],\n",
       "       [ 6.747,  1.284, -0.   ],\n",
       "       [ 4.93 ,  3.392, -0.   ],\n",
       "       [ 6.285,  2.477,  0.   ],\n",
       "       [ 5.952,  1.452,  0.   ],\n",
       "       [ 6.593,  0.737,  0.   ],\n",
       "       [ 5.67 ,  0.475,  0.   ],\n",
       "       [ 6.774,  2.637, -0.   ],\n",
       "       [ 5.398,  1.852, -0.   ],\n",
       "       [ 6.379,  3.075,  0.   ],\n",
       "       [ 7.011, -1.148,  0.   ],\n",
       "       [ 5.437,  0.159, -0.   ],\n",
       "       [ 6.104, -1.432,  0.   ],\n",
       "       [ 5.053,  3.344, -0.   ],\n",
       "       [ 4.982, -0.856, -0.   ],\n",
       "       [ 6.429,  2.81 ,  0.   ],\n",
       "       [ 5.614,  2.827,  0.   ],\n",
       "       [ 6.492,  0.26 , -0.   ],\n",
       "       [ 7.839,  0.318,  0.   ],\n",
       "       [ 6.207,  2.794,  0.   ],\n",
       "       [ 5.641,  3.173,  0.   ],\n",
       "       [ 2.673,  3.52 ,  0.   ]])"
      ]
     },
     "execution_count": 25,
     "metadata": {},
     "output_type": "execute_result"
    }
   ],
   "source": [
    "esti_landing_point"
   ]
  },
  {
   "cell_type": "code",
   "execution_count": null,
   "metadata": {},
   "outputs": [],
   "source": []
  }
 ],
 "metadata": {
  "kernelspec": {
   "display_name": "Python 3",
   "language": "python",
   "name": "python3"
  },
  "language_info": {
   "codemirror_mode": {
    "name": "ipython",
    "version": 3
   },
   "file_extension": ".py",
   "mimetype": "text/x-python",
   "name": "python",
   "nbconvert_exporter": "python",
   "pygments_lexer": "ipython3",
   "version": "3.6.13"
  }
 },
 "nbformat": 4,
 "nbformat_minor": 4
}
